{
 "cells": [
  {
   "cell_type": "code",
   "execution_count": 275,
   "metadata": {},
   "outputs": [],
   "source": [
    "#Here we will cover the following:\n",
    "#1. Numpy Statistics\n",
    "#2. Data Visualization\n",
    "#3. Dictionaries\n",
    "#4. Pandas and DataFrames\n",
    "#5. merging DataFrames\n",
    "#6. Concatenating DataFrames"
   ]
  },
  {
   "cell_type": "code",
   "execution_count": 276,
   "metadata": {},
   "outputs": [],
   "source": [
    "import numpy as np"
   ]
  },
  {
   "cell_type": "code",
   "execution_count": 277,
   "metadata": {},
   "outputs": [],
   "source": [
    "#Simulate data based on statistical distribution.\n",
    "#Here is an example of simulating a sample with a size n=100 \n",
    "#for S&P annual returns with a mean =0.12, and a standard deviation = 0.2.\n",
    "#Thes parameters match the historical ones from 1926 - present\n"
   ]
  },
  {
   "cell_type": "code",
   "execution_count": 278,
   "metadata": {},
   "outputs": [],
   "source": [
    "mean = 0.12\n",
    "std=0.2\n",
    "n=100\n",
    "sp_ret = np.round(np.random.normal(mean,std,n),4)"
   ]
  },
  {
   "cell_type": "code",
   "execution_count": 279,
   "metadata": {},
   "outputs": [
    {
     "data": {
      "text/plain": [
       "(100,)"
      ]
     },
     "execution_count": 279,
     "metadata": {},
     "output_type": "execute_result"
    }
   ],
   "source": [
    "sp_ret.shape"
   ]
  },
  {
   "cell_type": "code",
   "execution_count": 280,
   "metadata": {},
   "outputs": [
    {
     "data": {
      "text/plain": [
       "array([ 0.003 ,  0.0808,  0.3685,  0.1732,  0.0005,  0.2493, -0.0008,\n",
       "        0.0232,  0.3198,  0.139 ])"
      ]
     },
     "execution_count": 280,
     "metadata": {},
     "output_type": "execute_result"
    }
   ],
   "source": [
    "sp_ret[0:10]"
   ]
  },
  {
   "cell_type": "code",
   "execution_count": 281,
   "metadata": {},
   "outputs": [],
   "source": [
    "#Simulate a noise sample with a mean= 0 and std = 0.30"
   ]
  },
  {
   "cell_type": "code",
   "execution_count": 282,
   "metadata": {},
   "outputs": [
    {
     "data": {
      "text/plain": [
       "array([-0.3375,  0.1077,  0.3039, -0.126 , -0.0916, -0.3926, -0.4652,\n",
       "        0.1036, -0.194 ,  0.1832])"
      ]
     },
     "execution_count": 282,
     "metadata": {},
     "output_type": "execute_result"
    }
   ],
   "source": [
    "noise = np.round(np.random.normal(0,0.30,n),4)\n",
    "noise[0:10]"
   ]
  },
  {
   "cell_type": "code",
   "execution_count": 283,
   "metadata": {},
   "outputs": [
    {
     "data": {
      "text/plain": [
       "array([], dtype=float64)"
      ]
     },
     "execution_count": 283,
     "metadata": {},
     "output_type": "execute_result"
    }
   ],
   "source": [
    "beta=1.25\n",
    "stock_ret =beta*sp_ret[:10] + noise[:10]\n",
    "stock_ret[0:10:-1]"
   ]
  },
  {
   "cell_type": "code",
   "execution_count": 284,
   "metadata": {},
   "outputs": [],
   "source": [
    "#Simulate Stock return with beta = 1.25"
   ]
  },
  {
   "cell_type": "code",
   "execution_count": null,
   "metadata": {},
   "outputs": [
    {
     "data": {
      "text/plain": [
       "array([-0.33375 ,  0.2087  ,  0.764525,  0.0905  , -0.090975, -0.080975,\n",
       "       -0.4662  ,  0.1326  ,  0.20575 ,  0.35695 ])"
      ]
     },
     "execution_count": 285,
     "metadata": {},
     "output_type": "execute_result"
    }
   ],
   "source": [
    "beta=1.25\n",
    "stock_ret =beta*sp_ret + noise\n",
    "stock_ret[0:10]"
   ]
  },
  {
   "cell_type": "code",
   "execution_count": 286,
   "metadata": {},
   "outputs": [
    {
     "name": "stdout",
     "output_type": "stream",
     "text": [
      "0.16951700000000003 0.19790567250839478\n"
     ]
    }
   ],
   "source": [
    "mean_hat= np.mean(sp_ret)\n",
    "std_hat = np.std(sp_ret)\n",
    "print ( mean_hat, std_hat)"
   ]
  },
  {
   "cell_type": "code",
   "execution_count": 287,
   "metadata": {},
   "outputs": [
    {
     "name": "stdout",
     "output_type": "stream",
     "text": [
      "0.1695 0.1979\n"
     ]
    }
   ],
   "source": [
    "mean_hat= np.round( np.mean(sp_ret),4)\n",
    "std_hat = np.round( np.std(sp_ret), 4) \n",
    "print ( mean_hat, std_hat)"
   ]
  },
  {
   "cell_type": "code",
   "execution_count": 288,
   "metadata": {},
   "outputs": [
    {
     "data": {
      "text/plain": [
       "np.float64(0.41256000000000004)"
      ]
     },
     "execution_count": 288,
     "metadata": {},
     "output_type": "execute_result"
    }
   ],
   "source": [
    "np.quantile(sp_ret,0.9) ## 90th percentile"
   ]
  },
  {
   "cell_type": "code",
   "execution_count": 289,
   "metadata": {},
   "outputs": [
    {
     "data": {
      "text/plain": [
       "np.float64(0.1721)"
      ]
     },
     "execution_count": 289,
     "metadata": {},
     "output_type": "execute_result"
    }
   ],
   "source": [
    "np.median(sp_ret)"
   ]
  },
  {
   "cell_type": "code",
   "execution_count": 290,
   "metadata": {},
   "outputs": [
    {
     "data": {
      "text/plain": [
       "np.float64(0.41256000000000004)"
      ]
     },
     "execution_count": 290,
     "metadata": {},
     "output_type": "execute_result"
    }
   ],
   "source": [
    "np.quantile(sp_ret,0.9) ## 90th percentile"
   ]
  },
  {
   "cell_type": "code",
   "execution_count": 291,
   "metadata": {},
   "outputs": [
    {
     "data": {
      "text/plain": [
       "array([[1.        , 0.77348406],\n",
       "       [0.77348406, 1.        ]])"
      ]
     },
     "execution_count": 291,
     "metadata": {},
     "output_type": "execute_result"
    }
   ],
   "source": [
    "np.corrcoef(sp_ret,stock_ret)"
   ]
  },
  {
   "cell_type": "code",
   "execution_count": 292,
   "metadata": {},
   "outputs": [
    {
     "data": {
      "text/plain": [
       "np.float64(0.7734840618479774)"
      ]
     },
     "execution_count": 292,
     "metadata": {},
     "output_type": "execute_result"
    }
   ],
   "source": [
    "np.corrcoef(sp_ret,stock_ret)[0,1]"
   ]
  },
  {
   "cell_type": "code",
   "execution_count": 293,
   "metadata": {},
   "outputs": [],
   "source": [
    "#Calculate estimated beta"
   ]
  },
  {
   "cell_type": "code",
   "execution_count": 294,
   "metadata": {},
   "outputs": [
    {
     "name": "stdout",
     "output_type": "stream",
     "text": [
      "sp_std_hat= 0.19790567250839478\n",
      "stock_std_hat= 0.4510166165505296\n",
      "beta_hat= 1.7627294867742491\n"
     ]
    }
   ],
   "source": [
    "sp_std_hat = np.std(sp_ret)\n",
    "stock_std_hat= np.std(stock_ret)\n",
    "beta_hat = np.corrcoef(sp_ret,stock_ret)[0,1]*stock_std_hat/sp_std_hat\n",
    "print( 'sp_std_hat=', sp_std_hat)\n",
    "print( 'stock_std_hat=', stock_std_hat)\n",
    "print ('beta_hat=',beta_hat)"
   ]
  },
  {
   "cell_type": "code",
   "execution_count": 295,
   "metadata": {},
   "outputs": [],
   "source": [
    "#We can create a 2D array of the two returns like the following:"
   ]
  },
  {
   "cell_type": "code",
   "execution_count": 296,
   "metadata": {},
   "outputs": [
    {
     "data": {
      "text/plain": [
       "array([[ 3.00000e-03, -3.33750e-01],\n",
       "       [ 8.08000e-02,  2.08700e-01],\n",
       "       [ 3.68500e-01,  7.64525e-01],\n",
       "       [ 1.73200e-01,  9.05000e-02],\n",
       "       [ 5.00000e-04, -9.09750e-02],\n",
       "       [ 2.49300e-01, -8.09750e-02],\n",
       "       [-8.00000e-04, -4.66200e-01],\n",
       "       [ 2.32000e-02,  1.32600e-01],\n",
       "       [ 3.19800e-01,  2.05750e-01],\n",
       "       [ 1.39000e-01,  3.56950e-01]])"
      ]
     },
     "execution_count": 296,
     "metadata": {},
     "output_type": "execute_result"
    }
   ],
   "source": [
    "returns= np.column_stack( ( sp_ret,stock_ret ) )\n",
    "returns[0:10, :]"
   ]
  },
  {
   "cell_type": "code",
   "execution_count": 297,
   "metadata": {},
   "outputs": [],
   "source": [
    "#2. Data Visualization"
   ]
  },
  {
   "cell_type": "code",
   "execution_count": 298,
   "metadata": {},
   "outputs": [],
   "source": [
    "import matplotlib.pyplot as plt"
   ]
  },
  {
   "cell_type": "code",
   "execution_count": 299,
   "metadata": {},
   "outputs": [
    {
     "data": {
      "text/plain": [
       "[<matplotlib.lines.Line2D at 0x117e7f5b0>]"
      ]
     },
     "execution_count": 299,
     "metadata": {},
     "output_type": "execute_result"
    },
    {
     "data": {
      "image/png": "[encoded data removed]",
      "text/plain": [
       "<Figure size 640x480 with 1 Axes>"
      ]
     },
     "metadata": {},
     "output_type": "display_data"
    }
   ],
   "source": [
    "plt.plot(sp_ret)"
   ]
  },
  {
   "cell_type": "code",
   "execution_count": 300,
   "metadata": {},
   "outputs": [],
   "source": [
    "#here is the plot against the index which is the sample number\n",
    "#let us assign for each sample a year starting from 1926"
   ]
  },
  {
   "cell_type": "code",
   "execution_count": 301,
   "metadata": {},
   "outputs": [
    {
     "data": {
      "text/plain": [
       "array([1926, 1927, 1928, 1929, 1930, 1931, 1932, 1933, 1934, 1935, 1936,\n",
       "       1937, 1938, 1939, 1940, 1941, 1942, 1943, 1944, 1945, 1946, 1947,\n",
       "       1948, 1949, 1950, 1951, 1952, 1953, 1954, 1955, 1956, 1957, 1958,\n",
       "       1959, 1960, 1961, 1962, 1963, 1964, 1965, 1966, 1967, 1968, 1969,\n",
       "       1970, 1971, 1972, 1973, 1974, 1975, 1976, 1977, 1978, 1979, 1980,\n",
       "       1981, 1982, 1983, 1984, 1985, 1986, 1987, 1988, 1989, 1990, 1991,\n",
       "       1992, 1993, 1994, 1995, 1996, 1997, 1998, 1999, 2000, 2001, 2002,\n",
       "       2003, 2004, 2005, 2006, 2007, 2008, 2009, 2010, 2011, 2012, 2013,\n",
       "       2014, 2015, 2016, 2017, 2018, 2019, 2020, 2021, 2022, 2023, 2024,\n",
       "       2025])"
      ]
     },
     "execution_count": 301,
     "metadata": {},
     "output_type": "execute_result"
    }
   ],
   "source": [
    "year= np.array( list(range(1926,2026)) )\n",
    "year"
   ]
  },
  {
   "cell_type": "code",
   "execution_count": 302,
   "metadata": {},
   "outputs": [
    {
     "data": {
      "image/png": "[encoded data removed]",
      "text/plain": [
       "<Figure size 640x480 with 1 Axes>"
      ]
     },
     "metadata": {},
     "output_type": "display_data"
    }
   ],
   "source": [
    "plt.plot(year, sp_ret)\n",
    "plt.show()"
   ]
  },
  {
   "cell_type": "code",
   "execution_count": 303,
   "metadata": {},
   "outputs": [
    {
     "data": {
      "image/png": "[encoded data removed]",
      "text/plain": [
       "<Figure size 640x480 with 1 Axes>"
      ]
     },
     "metadata": {},
     "output_type": "display_data"
    }
   ],
   "source": [
    "plt.plot(year, sp_ret)\n",
    "plt.xlabel('Year')\n",
    "plt.ylabel('S&P Annual Return')\n",
    "plt.show()"
   ]
  },
  {
   "cell_type": "code",
   "execution_count": 304,
   "metadata": {},
   "outputs": [],
   "source": [
    "# Scatter Plots"
   ]
  },
  {
   "cell_type": "code",
   "execution_count": 305,
   "metadata": {},
   "outputs": [
    {
     "data": {
      "image/png": "[encoded data removed]",
      "text/plain": [
       "<Figure size 640x480 with 1 Axes>"
      ]
     },
     "metadata": {},
     "output_type": "display_data"
    }
   ],
   "source": [
    "plt.scatter(sp_ret, stock_ret)\n",
    "plt.xlabel('sp_ret')\n",
    "plt.ylabel('stock_ret')\n",
    "plt.show()"
   ]
  },
  {
   "cell_type": "code",
   "execution_count": 306,
   "metadata": {},
   "outputs": [],
   "source": [
    "#ploting a histogram of the ditribution"
   ]
  },
  {
   "cell_type": "code",
   "execution_count": 307,
   "metadata": {},
   "outputs": [
    {
     "name": "stdout",
     "output_type": "stream",
     "text": [
      "Help on function hist in module matplotlib.pyplot:\n",
      "\n",
      "hist(x: 'ArrayLike | Sequence[ArrayLike]', bins: 'int | Sequence[float] | str | None' = None, range: 'tuple[float, float] | None' = None, density: 'bool' = False, weights: 'ArrayLike | None' = None, cumulative: 'bool | float' = False, bottom: 'ArrayLike | float | None' = None, histtype: \"Literal['bar', 'barstacked', 'step', 'stepfilled']\" = 'bar', align: \"Literal['left', 'mid', 'right']\" = 'mid', orientation: \"Literal['vertical', 'horizontal']\" = 'vertical', rwidth: 'float | None' = None, log: 'bool' = False, color: 'ColorType | Sequence[ColorType] | None' = None, label: 'str | Sequence[str] | None' = None, stacked: 'bool' = False, *, data=None, **kwargs) -> 'tuple[np.ndarray | list[np.ndarray], np.ndarray, BarContainer | Polygon | list[BarContainer | Polygon]]'\n",
      "    Compute and plot a histogram.\n",
      "    \n",
      "    This method uses `numpy.histogram` to bin the data in *x* and count the\n",
      "    number of values in each bin, then draws the distribution either as a\n",
      "    `.BarContainer` or `.Polygon`. The *bins*, *range*, *density*, and\n",
      "    *weights* parameters are forwarded to `numpy.histogram`.\n",
      "    \n",
      "    If the data has already been binned and counted, use `~.bar` or\n",
      "    `~.stairs` to plot the distribution::\n",
      "    \n",
      "        counts, bins = np.histogram(x)\n",
      "        plt.stairs(counts, bins)\n",
      "    \n",
      "    Alternatively, plot pre-computed bins and counts using ``hist()`` by\n",
      "    treating each bin as a single point with a weight equal to its count::\n",
      "    \n",
      "        plt.hist(bins[:-1], bins, weights=counts)\n",
      "    \n",
      "    The data input *x* can be a singular array, a list of datasets of\n",
      "    potentially different lengths ([*x0*, *x1*, ...]), or a 2D ndarray in\n",
      "    which each column is a dataset. Note that the ndarray form is\n",
      "    transposed relative to the list form. If the input is an array, then\n",
      "    the return value is a tuple (*n*, *bins*, *patches*); if the input is a\n",
      "    sequence of arrays, then the return value is a tuple\n",
      "    ([*n0*, *n1*, ...], *bins*, [*patches0*, *patches1*, ...]).\n",
      "    \n",
      "    Masked arrays are not supported.\n",
      "    \n",
      "    Parameters\n",
      "    ----------\n",
      "    x : (n,) array or sequence of (n,) arrays\n",
      "        Input values, this takes either a single array or a sequence of\n",
      "        arrays which are not required to be of the same length.\n",
      "    \n",
      "    bins : int or sequence or str, default: :rc:`hist.bins`\n",
      "        If *bins* is an integer, it defines the number of equal-width bins\n",
      "        in the range.\n",
      "    \n",
      "        If *bins* is a sequence, it defines the bin edges, including the\n",
      "        left edge of the first bin and the right edge of the last bin;\n",
      "        in this case, bins may be unequally spaced.  All but the last\n",
      "        (righthand-most) bin is half-open.  In other words, if *bins* is::\n",
      "    \n",
      "            [1, 2, 3, 4]\n",
      "    \n",
      "        then the first bin is ``[1, 2)`` (including 1, but excluding 2) and\n",
      "        the second ``[2, 3)``.  The last bin, however, is ``[3, 4]``, which\n",
      "        *includes* 4.\n",
      "    \n",
      "        If *bins* is a string, it is one of the binning strategies\n",
      "        supported by `numpy.histogram_bin_edges`: 'auto', 'fd', 'doane',\n",
      "        'scott', 'stone', 'rice', 'sturges', or 'sqrt'.\n",
      "    \n",
      "    range : tuple or None, default: None\n",
      "        The lower and upper range of the bins. Lower and upper outliers\n",
      "        are ignored. If not provided, *range* is ``(x.min(), x.max())``.\n",
      "        Range has no effect if *bins* is a sequence.\n",
      "    \n",
      "        If *bins* is a sequence or *range* is specified, autoscaling\n",
      "        is based on the specified bin range instead of the\n",
      "        range of x.\n",
      "    \n",
      "    density : bool, default: False\n",
      "        If ``True``, draw and return a probability density: each bin\n",
      "        will display the bin's raw count divided by the total number of\n",
      "        counts *and the bin width*\n",
      "        (``density = counts / (sum(counts) * np.diff(bins))``),\n",
      "        so that the area under the histogram integrates to 1\n",
      "        (``np.sum(density * np.diff(bins)) == 1``).\n",
      "    \n",
      "        If *stacked* is also ``True``, the sum of the histograms is\n",
      "        normalized to 1.\n",
      "    \n",
      "    weights : (n,) array-like or None, default: None\n",
      "        An array of weights, of the same shape as *x*.  Each value in\n",
      "        *x* only contributes its associated weight towards the bin count\n",
      "        (instead of 1).  If *density* is ``True``, the weights are\n",
      "        normalized, so that the integral of the density over the range\n",
      "        remains 1.\n",
      "    \n",
      "    cumulative : bool or -1, default: False\n",
      "        If ``True``, then a histogram is computed where each bin gives the\n",
      "        counts in that bin plus all bins for smaller values. The last bin\n",
      "        gives the total number of datapoints.\n",
      "    \n",
      "        If *density* is also ``True`` then the histogram is normalized such\n",
      "        that the last bin equals 1.\n",
      "    \n",
      "        If *cumulative* is a number less than 0 (e.g., -1), the direction\n",
      "        of accumulation is reversed.  In this case, if *density* is also\n",
      "        ``True``, then the histogram is normalized such that the first bin\n",
      "        equals 1.\n",
      "    \n",
      "    bottom : array-like, scalar, or None, default: None\n",
      "        Location of the bottom of each bin, i.e. bins are drawn from\n",
      "        ``bottom`` to ``bottom + hist(x, bins)`` If a scalar, the bottom\n",
      "        of each bin is shifted by the same amount. If an array, each bin\n",
      "        is shifted independently and the length of bottom must match the\n",
      "        number of bins. If None, defaults to 0.\n",
      "    \n",
      "    histtype : {'bar', 'barstacked', 'step', 'stepfilled'}, default: 'bar'\n",
      "        The type of histogram to draw.\n",
      "    \n",
      "        - 'bar' is a traditional bar-type histogram.  If multiple data\n",
      "          are given the bars are arranged side by side.\n",
      "        - 'barstacked' is a bar-type histogram where multiple\n",
      "          data are stacked on top of each other.\n",
      "        - 'step' generates a lineplot that is by default unfilled.\n",
      "        - 'stepfilled' generates a lineplot that is by default filled.\n",
      "    \n",
      "    align : {'left', 'mid', 'right'}, default: 'mid'\n",
      "        The horizontal alignment of the histogram bars.\n",
      "    \n",
      "        - 'left': bars are centered on the left bin edges.\n",
      "        - 'mid': bars are centered between the bin edges.\n",
      "        - 'right': bars are centered on the right bin edges.\n",
      "    \n",
      "    orientation : {'vertical', 'horizontal'}, default: 'vertical'\n",
      "        If 'horizontal', `~.Axes.barh` will be used for bar-type histograms\n",
      "        and the *bottom* kwarg will be the left edges.\n",
      "    \n",
      "    rwidth : float or None, default: None\n",
      "        The relative width of the bars as a fraction of the bin width.  If\n",
      "        ``None``, automatically compute the width.\n",
      "    \n",
      "        Ignored if *histtype* is 'step' or 'stepfilled'.\n",
      "    \n",
      "    log : bool, default: False\n",
      "        If ``True``, the histogram axis will be set to a log scale.\n",
      "    \n",
      "    color : :mpltype:`color` or list of :mpltype:`color` or None, default: None\n",
      "        Color or sequence of colors, one per dataset.  Default (``None``)\n",
      "        uses the standard line color sequence.\n",
      "    \n",
      "    label : str or list of str, optional\n",
      "        String, or sequence of strings to match multiple datasets.  Bar\n",
      "        charts yield multiple patches per dataset, but only the first gets\n",
      "        the label, so that `~.Axes.legend` will work as expected.\n",
      "    \n",
      "    stacked : bool, default: False\n",
      "        If ``True``, multiple data are stacked on top of each other If\n",
      "        ``False`` multiple data are arranged side by side if histtype is\n",
      "        'bar' or on top of each other if histtype is 'step'\n",
      "    \n",
      "    Returns\n",
      "    -------\n",
      "    n : array or list of arrays\n",
      "        The values of the histogram bins. See *density* and *weights* for a\n",
      "        description of the possible semantics.  If input *x* is an array,\n",
      "        then this is an array of length *nbins*. If input is a sequence of\n",
      "        arrays ``[data1, data2, ...]``, then this is a list of arrays with\n",
      "        the values of the histograms for each of the arrays in the same\n",
      "        order.  The dtype of the array *n* (or of its element arrays) will\n",
      "        always be float even if no weighting or normalization is used.\n",
      "    \n",
      "    bins : array\n",
      "        The edges of the bins. Length nbins + 1 (nbins left edges and right\n",
      "        edge of last bin).  Always a single array even when multiple data\n",
      "        sets are passed in.\n",
      "    \n",
      "    patches : `.BarContainer` or list of a single `.Polygon` or list of such objects\n",
      "        Container of individual artists used to create the histogram\n",
      "        or list of such containers if there are multiple input datasets.\n",
      "    \n",
      "    Other Parameters\n",
      "    ----------------\n",
      "    data : indexable object, optional\n",
      "        If given, the following parameters also accept a string ``s``, which is\n",
      "        interpreted as ``data[s]`` (unless this raises an exception):\n",
      "    \n",
      "        *x*, *weights*\n",
      "    \n",
      "    **kwargs\n",
      "        `~matplotlib.patches.Patch` properties\n",
      "    \n",
      "    See Also\n",
      "    --------\n",
      "    hist2d : 2D histogram with rectangular bins\n",
      "    hexbin : 2D histogram with hexagonal bins\n",
      "    stairs : Plot a pre-computed histogram\n",
      "    bar : Plot a pre-computed histogram\n",
      "    \n",
      "    Notes\n",
      "    -----\n",
      "    \n",
      "    .. note::\n",
      "    \n",
      "        This is the :ref:`pyplot wrapper <pyplot_interface>` for `.axes.Axes.hist`.\n",
      "    \n",
      "    For large numbers of bins (>1000), plotting can be significantly\n",
      "    accelerated by using `~.Axes.stairs` to plot a pre-computed histogram\n",
      "    (``plt.stairs(*np.histogram(data))``), or by setting *histtype* to\n",
      "    'step' or 'stepfilled' rather than 'bar' or 'barstacked'.\n",
      "\n"
     ]
    }
   ],
   "source": [
    "help(plt.hist)\n"
   ]
  },
  {
   "cell_type": "code",
   "execution_count": 308,
   "metadata": {},
   "outputs": [
    {
     "data": {
      "image/png": "[encoded data removed]",
      "text/plain": [
       "<Figure size 640x480 with 1 Axes>"
      ]
     },
     "metadata": {},
     "output_type": "display_data"
    }
   ],
   "source": [
    "plt.hist(sp_ret)\n",
    "plt.show()"
   ]
  },
  {
   "cell_type": "code",
   "execution_count": 309,
   "metadata": {},
   "outputs": [
    {
     "data": {
      "image/png": "[encoded data removed]",
      "text/plain": [
       "<Figure size 640x480 with 1 Axes>"
      ]
     },
     "metadata": {},
     "output_type": "display_data"
    }
   ],
   "source": [
    "plt.hist(sp_ret)\n",
    "plt.hist(stock_ret)\n",
    "plt.show()\n"
   ]
  },
  {
   "cell_type": "code",
   "execution_count": 310,
   "metadata": {},
   "outputs": [],
   "source": [
    "#3. Dictionaries\n",
    "#Consider the following list of ETFs"
   ]
  },
  {
   "cell_type": "code",
   "execution_count": 311,
   "metadata": {},
   "outputs": [
    {
     "name": "stdout",
     "output_type": "stream",
     "text": [
      "['XLK', 'XLY', 'XLV', 'XLF', 'XLI', 'XLB', 'XLRE', 'XLP', 'XLC', 'XLU', 'XLE']\n"
     ]
    }
   ],
   "source": [
    "sector_etfs = [\"XLK\",\"XLY\", \"XLV\", \"XLF\", \"XLI\", \"XLB\", \"XLRE\",\"XLP\",\"XLC\", \"XLU\", \"XLE\"]\n",
    "print(sector_etfs )\n"
   ]
  },
  {
   "cell_type": "code",
   "execution_count": 312,
   "metadata": {},
   "outputs": [],
   "source": [
    "sector_weights = [0.2422,0.0632,0.1309,0.1423,0.0886,0.0227,0.0257,0.12,0.1114,0.0245,0.0286]\n"
   ]
  },
  {
   "cell_type": "code",
   "execution_count": 313,
   "metadata": {},
   "outputs": [
    {
     "data": {
      "text/plain": [
       "11"
      ]
     },
     "execution_count": 313,
     "metadata": {},
     "output_type": "execute_result"
    }
   ],
   "source": [
    "len(sector_etfs )\n"
   ]
  },
  {
   "cell_type": "code",
   "execution_count": 314,
   "metadata": {},
   "outputs": [
    {
     "data": {
      "text/plain": [
       "11"
      ]
     },
     "execution_count": 314,
     "metadata": {},
     "output_type": "execute_result"
    }
   ],
   "source": [
    "len(sector_weights)"
   ]
  },
  {
   "cell_type": "code",
   "execution_count": 315,
   "metadata": {},
   "outputs": [],
   "source": [
    "#Suppose that I want the weight of XLB sector\n",
    "#we can find the index of XLB and use it to extract its weight from the sector_weights list"
   ]
  },
  {
   "cell_type": "code",
   "execution_count": 316,
   "metadata": {},
   "outputs": [
    {
     "data": {
      "text/plain": [
       "5"
      ]
     },
     "execution_count": 316,
     "metadata": {},
     "output_type": "execute_result"
    }
   ],
   "source": [
    "xlb_ind = sector_etfs.index('XLB')\n",
    "xlb_ind"
   ]
  },
  {
   "cell_type": "code",
   "execution_count": 317,
   "metadata": {},
   "outputs": [
    {
     "data": {
      "text/plain": [
       "0.0227"
      ]
     },
     "execution_count": 317,
     "metadata": {},
     "output_type": "execute_result"
    }
   ],
   "source": [
    "sector_weights[5]"
   ]
  },
  {
   "cell_type": "code",
   "execution_count": 318,
   "metadata": {},
   "outputs": [],
   "source": [
    "#This is cumbersome. Dictionaries simplify this problem to minimize typing¶"
   ]
  },
  {
   "cell_type": "code",
   "execution_count": 319,
   "metadata": {},
   "outputs": [
    {
     "name": "stdout",
     "output_type": "stream",
     "text": [
      "['XLK', 'XLY', 'XLV'] [0.2422, 0.0632, 0.1309]\n"
     ]
    }
   ],
   "source": [
    "sect = sector_etfs[0:3]\n",
    "wht = sector_weights[0:3]\n",
    "print (sect,wht)"
   ]
  },
  {
   "cell_type": "code",
   "execution_count": 320,
   "metadata": {},
   "outputs": [],
   "source": [
    "## We can define a dictionary like the following"
   ]
  },
  {
   "cell_type": "code",
   "execution_count": 321,
   "metadata": {},
   "outputs": [
    {
     "data": {
      "text/plain": [
       "{'XLK': 0.2422, 'XLY': 0.0632, 'XLV': 0.1309}"
      ]
     },
     "execution_count": 321,
     "metadata": {},
     "output_type": "execute_result"
    }
   ],
   "source": [
    "dict = {'XLK': 0.2422,'XLY':0.0632 , 'XLV':0.1309 }\n",
    "dict"
   ]
  },
  {
   "cell_type": "code",
   "execution_count": 322,
   "metadata": {},
   "outputs": [
    {
     "data": {
      "text/plain": [
       "0.0632"
      ]
     },
     "execution_count": 322,
     "metadata": {},
     "output_type": "execute_result"
    }
   ],
   "source": [
    "dict['XLY']"
   ]
  },
  {
   "cell_type": "code",
   "execution_count": 323,
   "metadata": {},
   "outputs": [],
   "source": [
    "#we refer the term left to ':' the key and the term to the right as value\n",
    "#Here is a good way to create a dictionary from any two lists"
   ]
  },
  {
   "cell_type": "code",
   "execution_count": 324,
   "metadata": {},
   "outputs": [
    {
     "name": "stdout",
     "output_type": "stream",
     "text": [
      "{'XLK': 0.2422, 'XLY': 0.0632, 'XLV': 0.1309, 'XLF': 0.1423, 'XLI': 0.0886, 'XLB': 0.0227, 'XLRE': 0.0257, 'XLP': 0.12, 'XLC': 0.1114, 'XLU': 0.0245, 'XLE': 0.0286}\n"
     ]
    }
   ],
   "source": [
    "dict = {sector_etfs[i]: sector_weights[i] for i in range(len(sector_etfs))}\n",
    "print(dict)"
   ]
  },
  {
   "cell_type": "code",
   "execution_count": 325,
   "metadata": {},
   "outputs": [],
   "source": [
    "#Keys in a dictionary should be unique"
   ]
  },
  {
   "cell_type": "code",
   "execution_count": 326,
   "metadata": {},
   "outputs": [],
   "source": [
    "#4. Pandas and Data Frames\n",
    "#A Data Frame is a tabular data structure like an excel spread sheet\n",
    "#It is different from 2D Array in that arrays have to sam the same data type. I a Data Frame you can have different data types\n",
    "#Pandas is a high level data manipulation tool\n",
    "#In Pandas data is stored in a Data Frame object\n",
    "#Typically rcolumns represent variables and row represent observations on these Variable.\n",
    "#Each row has unique row label\n",
    "#column has a name/ label\n",
    "#How to crate a Data Frame?\n",
    "#from a dictionary. An example using dict from earlier section"
   ]
  },
  {
   "cell_type": "code",
   "execution_count": 327,
   "metadata": {},
   "outputs": [
    {
     "name": "stdout",
     "output_type": "stream",
     "text": [
      "{'XLK': 0.2422, 'XLY': 0.0632, 'XLV': 0.1309, 'XLF': 0.1423, 'XLI': 0.0886, 'XLB': 0.0227, 'XLRE': 0.0257, 'XLP': 0.12, 'XLC': 0.1114, 'XLU': 0.0245, 'XLE': 0.0286} <class 'dict'>\n"
     ]
    }
   ],
   "source": [
    "print(dict, type(dict) )"
   ]
  },
  {
   "cell_type": "code",
   "execution_count": 328,
   "metadata": {},
   "outputs": [],
   "source": [
    "import pandas as pd # First import pandas"
   ]
  },
  {
   "cell_type": "code",
   "execution_count": 329,
   "metadata": {},
   "outputs": [
    {
     "data": {
      "text/plain": [
       "{'XLK': ['Technology', 0.2422, 0.2307],\n",
       " 'XLF': ['Financial', 0.143, 0.1641],\n",
       " 'XLI': ['Industrial', 0.0866, 0.1434]}"
      ]
     },
     "execution_count": 329,
     "metadata": {},
     "output_type": "execute_result"
    }
   ],
   "source": [
    "sectors= {'XLK': ['Technology',0.2422, 0.2307] , 'XLF':['Financial',0.143, 0.1641],\n",
    "            'XLI':['Industrial', 0.0866, 0.1434]}\n",
    "sectors"
   ]
  },
  {
   "cell_type": "code",
   "execution_count": 330,
   "metadata": {},
   "outputs": [
    {
     "data": {
      "text/plain": [
       "dict"
      ]
     },
     "execution_count": 330,
     "metadata": {},
     "output_type": "execute_result"
    }
   ],
   "source": [
    "type(sectors)"
   ]
  },
  {
   "cell_type": "code",
   "execution_count": 331,
   "metadata": {},
   "outputs": [
    {
     "data": {
      "application/vnd.microsoft.datawrangler.viewer.v0+json": {
       "columns": [
        {
         "name": "index",
         "rawType": "int64",
         "type": "integer"
        },
        {
         "name": "XLK",
         "rawType": "object",
         "type": "unknown"
        },
        {
         "name": "XLF",
         "rawType": "object",
         "type": "unknown"
        },
        {
         "name": "XLI",
         "rawType": "object",
         "type": "unknown"
        }
       ],
       "ref": "f65aaa07-e174-40ff-843b-154775d147d6",
       "rows": [
        [
         "0",
         "Technology",
         "Financial",
         "Industrial"
        ],
        [
         "1",
         "0.2422",
         "0.143",
         "0.0866"
        ],
        [
         "2",
         "0.2307",
         "0.1641",
         "0.1434"
        ]
       ],
       "shape": {
        "columns": 3,
        "rows": 3
       }
      },
      "text/html": [
       "<div>\n",
       "<style scoped>\n",
       "    .dataframe tbody tr th:only-of-type {\n",
       "        vertical-align: middle;\n",
       "    }\n",
       "\n",
       "    .dataframe tbody tr th {\n",
       "        vertical-align: top;\n",
       "    }\n",
       "\n",
       "    .dataframe thead th {\n",
       "        text-align: right;\n",
       "    }\n",
       "</style>\n",
       "<table border=\"1\" class=\"dataframe\">\n",
       "  <thead>\n",
       "    <tr style=\"text-align: right;\">\n",
       "      <th></th>\n",
       "      <th>XLK</th>\n",
       "      <th>XLF</th>\n",
       "      <th>XLI</th>\n",
       "    </tr>\n",
       "  </thead>\n",
       "  <tbody>\n",
       "    <tr>\n",
       "      <th>0</th>\n",
       "      <td>Technology</td>\n",
       "      <td>Financial</td>\n",
       "      <td>Industrial</td>\n",
       "    </tr>\n",
       "    <tr>\n",
       "      <th>1</th>\n",
       "      <td>0.2422</td>\n",
       "      <td>0.143</td>\n",
       "      <td>0.0866</td>\n",
       "    </tr>\n",
       "    <tr>\n",
       "      <th>2</th>\n",
       "      <td>0.2307</td>\n",
       "      <td>0.1641</td>\n",
       "      <td>0.1434</td>\n",
       "    </tr>\n",
       "  </tbody>\n",
       "</table>\n",
       "</div>"
      ],
      "text/plain": [
       "          XLK        XLF         XLI\n",
       "0  Technology  Financial  Industrial\n",
       "1      0.2422      0.143      0.0866\n",
       "2      0.2307     0.1641      0.1434"
      ]
     },
     "execution_count": 331,
     "metadata": {},
     "output_type": "execute_result"
    }
   ],
   "source": [
    "sectors_df = pd.DataFrame(sectors)\n",
    "sectors_df"
   ]
  },
  {
   "cell_type": "code",
   "execution_count": 332,
   "metadata": {},
   "outputs": [],
   "source": [
    "#Note that key items become column names\n",
    "#Note the index is row number\n",
    "#We can change row labels by specifying an index"
   ]
  },
  {
   "cell_type": "code",
   "execution_count": 333,
   "metadata": {},
   "outputs": [
    {
     "data": {
      "application/vnd.microsoft.datawrangler.viewer.v0+json": {
       "columns": [
        {
         "name": "index",
         "rawType": "object",
         "type": "string"
        },
        {
         "name": "XLK",
         "rawType": "object",
         "type": "unknown"
        },
        {
         "name": "XLF",
         "rawType": "object",
         "type": "unknown"
        },
        {
         "name": "XLI",
         "rawType": "object",
         "type": "unknown"
        }
       ],
       "ref": "0dd6202f-4f59-4acc-bd51-49f05b5eb248",
       "rows": [
        [
         "sector",
         "Technology",
         "Financial",
         "Industrial"
        ],
        [
         "weight",
         "0.2422",
         "0.143",
         "0.0866"
        ],
        [
         "return",
         "0.2307",
         "0.1641",
         "0.1434"
        ]
       ],
       "shape": {
        "columns": 3,
        "rows": 3
       }
      },
      "text/html": [
       "<div>\n",
       "<style scoped>\n",
       "    .dataframe tbody tr th:only-of-type {\n",
       "        vertical-align: middle;\n",
       "    }\n",
       "\n",
       "    .dataframe tbody tr th {\n",
       "        vertical-align: top;\n",
       "    }\n",
       "\n",
       "    .dataframe thead th {\n",
       "        text-align: right;\n",
       "    }\n",
       "</style>\n",
       "<table border=\"1\" class=\"dataframe\">\n",
       "  <thead>\n",
       "    <tr style=\"text-align: right;\">\n",
       "      <th></th>\n",
       "      <th>XLK</th>\n",
       "      <th>XLF</th>\n",
       "      <th>XLI</th>\n",
       "    </tr>\n",
       "  </thead>\n",
       "  <tbody>\n",
       "    <tr>\n",
       "      <th>sector</th>\n",
       "      <td>Technology</td>\n",
       "      <td>Financial</td>\n",
       "      <td>Industrial</td>\n",
       "    </tr>\n",
       "    <tr>\n",
       "      <th>weight</th>\n",
       "      <td>0.2422</td>\n",
       "      <td>0.143</td>\n",
       "      <td>0.0866</td>\n",
       "    </tr>\n",
       "    <tr>\n",
       "      <th>return</th>\n",
       "      <td>0.2307</td>\n",
       "      <td>0.1641</td>\n",
       "      <td>0.1434</td>\n",
       "    </tr>\n",
       "  </tbody>\n",
       "</table>\n",
       "</div>"
      ],
      "text/plain": [
       "               XLK        XLF         XLI\n",
       "sector  Technology  Financial  Industrial\n",
       "weight      0.2422      0.143      0.0866\n",
       "return      0.2307     0.1641      0.1434"
      ]
     },
     "execution_count": 333,
     "metadata": {},
     "output_type": "execute_result"
    }
   ],
   "source": [
    "sectors_df = pd.DataFrame(sectors, index=['sector', 'weight' , 'return'])\n",
    "sectors_df"
   ]
  },
  {
   "cell_type": "code",
   "execution_count": 334,
   "metadata": {},
   "outputs": [],
   "source": [
    "#we can transpose this data frame with"
   ]
  },
  {
   "cell_type": "code",
   "execution_count": 335,
   "metadata": {},
   "outputs": [
    {
     "data": {
      "application/vnd.microsoft.datawrangler.viewer.v0+json": {
       "columns": [
        {
         "name": "index",
         "rawType": "object",
         "type": "string"
        },
        {
         "name": "sector",
         "rawType": "object",
         "type": "string"
        },
        {
         "name": "weight",
         "rawType": "object",
         "type": "unknown"
        },
        {
         "name": "return",
         "rawType": "object",
         "type": "unknown"
        }
       ],
       "ref": "3891066d-1508-4711-b1d7-e29e6c713403",
       "rows": [
        [
         "XLK",
         "Technology",
         "0.2422",
         "0.2307"
        ],
        [
         "XLF",
         "Financial",
         "0.143",
         "0.1641"
        ],
        [
         "XLI",
         "Industrial",
         "0.0866",
         "0.1434"
        ]
       ],
       "shape": {
        "columns": 3,
        "rows": 3
       }
      },
      "text/html": [
       "<div>\n",
       "<style scoped>\n",
       "    .dataframe tbody tr th:only-of-type {\n",
       "        vertical-align: middle;\n",
       "    }\n",
       "\n",
       "    .dataframe tbody tr th {\n",
       "        vertical-align: top;\n",
       "    }\n",
       "\n",
       "    .dataframe thead th {\n",
       "        text-align: right;\n",
       "    }\n",
       "</style>\n",
       "<table border=\"1\" class=\"dataframe\">\n",
       "  <thead>\n",
       "    <tr style=\"text-align: right;\">\n",
       "      <th></th>\n",
       "      <th>sector</th>\n",
       "      <th>weight</th>\n",
       "      <th>return</th>\n",
       "    </tr>\n",
       "  </thead>\n",
       "  <tbody>\n",
       "    <tr>\n",
       "      <th>XLK</th>\n",
       "      <td>Technology</td>\n",
       "      <td>0.2422</td>\n",
       "      <td>0.2307</td>\n",
       "    </tr>\n",
       "    <tr>\n",
       "      <th>XLF</th>\n",
       "      <td>Financial</td>\n",
       "      <td>0.143</td>\n",
       "      <td>0.1641</td>\n",
       "    </tr>\n",
       "    <tr>\n",
       "      <th>XLI</th>\n",
       "      <td>Industrial</td>\n",
       "      <td>0.0866</td>\n",
       "      <td>0.1434</td>\n",
       "    </tr>\n",
       "  </tbody>\n",
       "</table>\n",
       "</div>"
      ],
      "text/plain": [
       "         sector  weight  return\n",
       "XLK  Technology  0.2422  0.2307\n",
       "XLF   Financial   0.143  0.1641\n",
       "XLI  Industrial  0.0866  0.1434"
      ]
     },
     "execution_count": 335,
     "metadata": {},
     "output_type": "execute_result"
    }
   ],
   "source": [
    "sectors_df.T ## the T attribute provides the transpose of the data frame"
   ]
  },
  {
   "cell_type": "code",
   "execution_count": 336,
   "metadata": {},
   "outputs": [],
   "source": [
    "#Most data is to large to be entered by hand. Pandas allow importing data from the following formats:\n",
    "#CSV\n",
    "#JSON-- JavaScript Object Notation, often used when data is sent from a server to a web page\n",
    "#Excel\n",
    "#Databases -- store data in a structured format, organized into tables and fields. Individual entries within a database are called records. Databases are commonly used for storing data referenced by dynamic websites. Common database file extensions include .DB, .ACCDB, .NSF, and .FP7.\n",
    "#I have a csv file in my working directory with a name \"sector_weights_returns.csv\""
   ]
  },
  {
   "cell_type": "code",
   "execution_count": 337,
   "metadata": {},
   "outputs": [
    {
     "data": {
      "text/plain": [
       "'/Users/aruvins/Desktop/Fordham/Fall 2025/Computational Finance'"
      ]
     },
     "execution_count": 337,
     "metadata": {},
     "output_type": "execute_result"
    }
   ],
   "source": [
    "import os\n",
    "os.getcwd()"
   ]
  },
  {
   "cell_type": "code",
   "execution_count": 338,
   "metadata": {},
   "outputs": [
    {
     "data": {
      "application/vnd.microsoft.datawrangler.viewer.v0+json": {
       "columns": [
        {
         "name": "index",
         "rawType": "int64",
         "type": "integer"
        },
        {
         "name": "sector",
         "rawType": "object",
         "type": "string"
        },
        {
         "name": "etf_ticker",
         "rawType": "object",
         "type": "string"
        },
        {
         "name": "recent_weight",
         "rawType": "float64",
         "type": "float"
        },
        {
         "name": "1Y_return",
         "rawType": "float64",
         "type": "float"
        },
        {
         "name": "3Y_return",
         "rawType": "float64",
         "type": "float"
        },
        {
         "name": "5Y_return",
         "rawType": "float64",
         "type": "float"
        },
        {
         "name": "10Y_return",
         "rawType": "float64",
         "type": "float"
        }
       ],
       "ref": "5b86f6d6-f677-4e97-a80b-6e787bef00d5",
       "rows": [
        [
         "0",
         "S&P Information Technology ",
         "XLK",
         "0.2422",
         "34.83",
         "42.63",
         "30.82",
         "23.07"
        ],
        [
         "1",
         "S&P Consumer Discretionary ",
         "XLY",
         "0.0632",
         "27.93",
         "28.65",
         "21.58",
         "19.58"
        ],
        [
         "2",
         "S&P Healthcare ",
         "XLV",
         "0.1309",
         "25.59",
         "19.69",
         "17.28",
         "16.95"
        ],
        [
         "3",
         "US Large Cap Blend ",
         "SPY",
         "1.0",
         "28.74",
         "25.99",
         "18.36",
         "16.45"
        ],
        [
         "4",
         "S&P Financials ",
         "XLF",
         "0.1423",
         "34.82",
         "20.46",
         "13.15",
         "16.15"
        ],
        [
         "5",
         "S&P Industrials ",
         "XLI",
         "0.0886",
         "21.09",
         "20.15",
         "13.28",
         "14.34"
        ],
        [
         "6",
         "S&P Materials ",
         "XLB",
         "0.0227",
         "27.45",
         "24.0",
         "15.02",
         "12.77"
        ],
        [
         "7",
         "S&P Real Estate ",
         "XLRE",
         "0.0257",
         "45.26",
         "22.31",
         "14.61",
         "12.56"
        ],
        [
         "8",
         "S&P Consumer Staples ",
         "XLP",
         "0.12",
         "17.2",
         "18.05",
         "11.31",
         "11.99"
        ],
        [
         "9",
         "S&P Communication Services ",
         "XLC",
         "0.1114",
         "15.96",
         "24.47",
         "8.69",
         "11.16"
        ],
        [
         "10",
         "S&P Utilities ",
         "XLU",
         "0.0245",
         "16.81",
         "13.94",
         "11.49",
         "10.82"
        ],
        [
         "11",
         "S&P Energy ",
         "XLE",
         "0.0286",
         "53.31",
         "4.95",
         "-1.29",
         "1.34"
        ]
       ],
       "shape": {
        "columns": 7,
        "rows": 12
       }
      },
      "text/html": [
       "<div>\n",
       "<style scoped>\n",
       "    .dataframe tbody tr th:only-of-type {\n",
       "        vertical-align: middle;\n",
       "    }\n",
       "\n",
       "    .dataframe tbody tr th {\n",
       "        vertical-align: top;\n",
       "    }\n",
       "\n",
       "    .dataframe thead th {\n",
       "        text-align: right;\n",
       "    }\n",
       "</style>\n",
       "<table border=\"1\" class=\"dataframe\">\n",
       "  <thead>\n",
       "    <tr style=\"text-align: right;\">\n",
       "      <th></th>\n",
       "      <th>sector</th>\n",
       "      <th>etf_ticker</th>\n",
       "      <th>recent_weight</th>\n",
       "      <th>1Y_return</th>\n",
       "      <th>3Y_return</th>\n",
       "      <th>5Y_return</th>\n",
       "      <th>10Y_return</th>\n",
       "    </tr>\n",
       "  </thead>\n",
       "  <tbody>\n",
       "    <tr>\n",
       "      <th>0</th>\n",
       "      <td>S&amp;P Information Technology</td>\n",
       "      <td>XLK</td>\n",
       "      <td>0.2422</td>\n",
       "      <td>34.83</td>\n",
       "      <td>42.63</td>\n",
       "      <td>30.82</td>\n",
       "      <td>23.07</td>\n",
       "    </tr>\n",
       "    <tr>\n",
       "      <th>1</th>\n",
       "      <td>S&amp;P Consumer Discretionary</td>\n",
       "      <td>XLY</td>\n",
       "      <td>0.0632</td>\n",
       "      <td>27.93</td>\n",
       "      <td>28.65</td>\n",
       "      <td>21.58</td>\n",
       "      <td>19.58</td>\n",
       "    </tr>\n",
       "    <tr>\n",
       "      <th>2</th>\n",
       "      <td>S&amp;P Healthcare</td>\n",
       "      <td>XLV</td>\n",
       "      <td>0.1309</td>\n",
       "      <td>25.59</td>\n",
       "      <td>19.69</td>\n",
       "      <td>17.28</td>\n",
       "      <td>16.95</td>\n",
       "    </tr>\n",
       "    <tr>\n",
       "      <th>3</th>\n",
       "      <td>US Large Cap Blend</td>\n",
       "      <td>SPY</td>\n",
       "      <td>1.0000</td>\n",
       "      <td>28.74</td>\n",
       "      <td>25.99</td>\n",
       "      <td>18.36</td>\n",
       "      <td>16.45</td>\n",
       "    </tr>\n",
       "    <tr>\n",
       "      <th>4</th>\n",
       "      <td>S&amp;P Financials</td>\n",
       "      <td>XLF</td>\n",
       "      <td>0.1423</td>\n",
       "      <td>34.82</td>\n",
       "      <td>20.46</td>\n",
       "      <td>13.15</td>\n",
       "      <td>16.15</td>\n",
       "    </tr>\n",
       "    <tr>\n",
       "      <th>5</th>\n",
       "      <td>S&amp;P Industrials</td>\n",
       "      <td>XLI</td>\n",
       "      <td>0.0886</td>\n",
       "      <td>21.09</td>\n",
       "      <td>20.15</td>\n",
       "      <td>13.28</td>\n",
       "      <td>14.34</td>\n",
       "    </tr>\n",
       "    <tr>\n",
       "      <th>6</th>\n",
       "      <td>S&amp;P Materials</td>\n",
       "      <td>XLB</td>\n",
       "      <td>0.0227</td>\n",
       "      <td>27.45</td>\n",
       "      <td>24.00</td>\n",
       "      <td>15.02</td>\n",
       "      <td>12.77</td>\n",
       "    </tr>\n",
       "    <tr>\n",
       "      <th>7</th>\n",
       "      <td>S&amp;P Real Estate</td>\n",
       "      <td>XLRE</td>\n",
       "      <td>0.0257</td>\n",
       "      <td>45.26</td>\n",
       "      <td>22.31</td>\n",
       "      <td>14.61</td>\n",
       "      <td>12.56</td>\n",
       "    </tr>\n",
       "    <tr>\n",
       "      <th>8</th>\n",
       "      <td>S&amp;P Consumer Staples</td>\n",
       "      <td>XLP</td>\n",
       "      <td>0.1200</td>\n",
       "      <td>17.20</td>\n",
       "      <td>18.05</td>\n",
       "      <td>11.31</td>\n",
       "      <td>11.99</td>\n",
       "    </tr>\n",
       "    <tr>\n",
       "      <th>9</th>\n",
       "      <td>S&amp;P Communication Services</td>\n",
       "      <td>XLC</td>\n",
       "      <td>0.1114</td>\n",
       "      <td>15.96</td>\n",
       "      <td>24.47</td>\n",
       "      <td>8.69</td>\n",
       "      <td>11.16</td>\n",
       "    </tr>\n",
       "    <tr>\n",
       "      <th>10</th>\n",
       "      <td>S&amp;P Utilities</td>\n",
       "      <td>XLU</td>\n",
       "      <td>0.0245</td>\n",
       "      <td>16.81</td>\n",
       "      <td>13.94</td>\n",
       "      <td>11.49</td>\n",
       "      <td>10.82</td>\n",
       "    </tr>\n",
       "    <tr>\n",
       "      <th>11</th>\n",
       "      <td>S&amp;P Energy</td>\n",
       "      <td>XLE</td>\n",
       "      <td>0.0286</td>\n",
       "      <td>53.31</td>\n",
       "      <td>4.95</td>\n",
       "      <td>-1.29</td>\n",
       "      <td>1.34</td>\n",
       "    </tr>\n",
       "  </tbody>\n",
       "</table>\n",
       "</div>"
      ],
      "text/plain": [
       "                         sector etf_ticker  recent_weight  1Y_return  \\\n",
       "0   S&P Information Technology         XLK         0.2422      34.83   \n",
       "1   S&P Consumer Discretionary         XLY         0.0632      27.93   \n",
       "2               S&P Healthcare         XLV         0.1309      25.59   \n",
       "3           US Large Cap Blend         SPY         1.0000      28.74   \n",
       "4               S&P Financials         XLF         0.1423      34.82   \n",
       "5              S&P Industrials         XLI         0.0886      21.09   \n",
       "6                S&P Materials         XLB         0.0227      27.45   \n",
       "7              S&P Real Estate        XLRE         0.0257      45.26   \n",
       "8         S&P Consumer Staples         XLP         0.1200      17.20   \n",
       "9   S&P Communication Services         XLC         0.1114      15.96   \n",
       "10               S&P Utilities         XLU         0.0245      16.81   \n",
       "11                  S&P Energy         XLE         0.0286      53.31   \n",
       "\n",
       "    3Y_return  5Y_return  10Y_return  \n",
       "0       42.63      30.82       23.07  \n",
       "1       28.65      21.58       19.58  \n",
       "2       19.69      17.28       16.95  \n",
       "3       25.99      18.36       16.45  \n",
       "4       20.46      13.15       16.15  \n",
       "5       20.15      13.28       14.34  \n",
       "6       24.00      15.02       12.77  \n",
       "7       22.31      14.61       12.56  \n",
       "8       18.05      11.31       11.99  \n",
       "9       24.47       8.69       11.16  \n",
       "10      13.94      11.49       10.82  \n",
       "11       4.95      -1.29        1.34  "
      ]
     },
     "execution_count": 338,
     "metadata": {},
     "output_type": "execute_result"
    }
   ],
   "source": [
    "sectors= pd.read_csv('dataFiles/sector_weights_returns.csv') \n",
    "sectors"
   ]
  },
  {
   "cell_type": "code",
   "execution_count": 339,
   "metadata": {},
   "outputs": [],
   "source": [
    "#note that automatically the data frame is indexed by row number. To index the data frame by the forst column we do this"
   ]
  },
  {
   "cell_type": "code",
   "execution_count": 340,
   "metadata": {},
   "outputs": [
    {
     "data": {
      "application/vnd.microsoft.datawrangler.viewer.v0+json": {
       "columns": [
        {
         "name": "sector",
         "rawType": "object",
         "type": "string"
        },
        {
         "name": "etf_ticker",
         "rawType": "object",
         "type": "string"
        },
        {
         "name": "recent_weight",
         "rawType": "float64",
         "type": "float"
        },
        {
         "name": "1Y_return",
         "rawType": "float64",
         "type": "float"
        },
        {
         "name": "3Y_return",
         "rawType": "float64",
         "type": "float"
        },
        {
         "name": "5Y_return",
         "rawType": "float64",
         "type": "float"
        },
        {
         "name": "10Y_return",
         "rawType": "float64",
         "type": "float"
        }
       ],
       "ref": "02e19df7-1ae8-48d1-88be-980fb8837525",
       "rows": [
        [
         "S&P Information Technology ",
         "XLK",
         "0.2422",
         "34.83",
         "42.63",
         "30.82",
         "23.07"
        ],
        [
         "S&P Consumer Discretionary ",
         "XLY",
         "0.0632",
         "27.93",
         "28.65",
         "21.58",
         "19.58"
        ],
        [
         "S&P Healthcare ",
         "XLV",
         "0.1309",
         "25.59",
         "19.69",
         "17.28",
         "16.95"
        ],
        [
         "US Large Cap Blend ",
         "SPY",
         "1.0",
         "28.74",
         "25.99",
         "18.36",
         "16.45"
        ],
        [
         "S&P Financials ",
         "XLF",
         "0.1423",
         "34.82",
         "20.46",
         "13.15",
         "16.15"
        ],
        [
         "S&P Industrials ",
         "XLI",
         "0.0886",
         "21.09",
         "20.15",
         "13.28",
         "14.34"
        ],
        [
         "S&P Materials ",
         "XLB",
         "0.0227",
         "27.45",
         "24.0",
         "15.02",
         "12.77"
        ],
        [
         "S&P Real Estate ",
         "XLRE",
         "0.0257",
         "45.26",
         "22.31",
         "14.61",
         "12.56"
        ],
        [
         "S&P Consumer Staples ",
         "XLP",
         "0.12",
         "17.2",
         "18.05",
         "11.31",
         "11.99"
        ],
        [
         "S&P Communication Services ",
         "XLC",
         "0.1114",
         "15.96",
         "24.47",
         "8.69",
         "11.16"
        ],
        [
         "S&P Utilities ",
         "XLU",
         "0.0245",
         "16.81",
         "13.94",
         "11.49",
         "10.82"
        ],
        [
         "S&P Energy ",
         "XLE",
         "0.0286",
         "53.31",
         "4.95",
         "-1.29",
         "1.34"
        ]
       ],
       "shape": {
        "columns": 6,
        "rows": 12
       }
      },
      "text/html": [
       "<div>\n",
       "<style scoped>\n",
       "    .dataframe tbody tr th:only-of-type {\n",
       "        vertical-align: middle;\n",
       "    }\n",
       "\n",
       "    .dataframe tbody tr th {\n",
       "        vertical-align: top;\n",
       "    }\n",
       "\n",
       "    .dataframe thead th {\n",
       "        text-align: right;\n",
       "    }\n",
       "</style>\n",
       "<table border=\"1\" class=\"dataframe\">\n",
       "  <thead>\n",
       "    <tr style=\"text-align: right;\">\n",
       "      <th></th>\n",
       "      <th>etf_ticker</th>\n",
       "      <th>recent_weight</th>\n",
       "      <th>1Y_return</th>\n",
       "      <th>3Y_return</th>\n",
       "      <th>5Y_return</th>\n",
       "      <th>10Y_return</th>\n",
       "    </tr>\n",
       "    <tr>\n",
       "      <th>sector</th>\n",
       "      <th></th>\n",
       "      <th></th>\n",
       "      <th></th>\n",
       "      <th></th>\n",
       "      <th></th>\n",
       "      <th></th>\n",
       "    </tr>\n",
       "  </thead>\n",
       "  <tbody>\n",
       "    <tr>\n",
       "      <th>S&amp;P Information Technology</th>\n",
       "      <td>XLK</td>\n",
       "      <td>0.2422</td>\n",
       "      <td>34.83</td>\n",
       "      <td>42.63</td>\n",
       "      <td>30.82</td>\n",
       "      <td>23.07</td>\n",
       "    </tr>\n",
       "    <tr>\n",
       "      <th>S&amp;P Consumer Discretionary</th>\n",
       "      <td>XLY</td>\n",
       "      <td>0.0632</td>\n",
       "      <td>27.93</td>\n",
       "      <td>28.65</td>\n",
       "      <td>21.58</td>\n",
       "      <td>19.58</td>\n",
       "    </tr>\n",
       "    <tr>\n",
       "      <th>S&amp;P Healthcare</th>\n",
       "      <td>XLV</td>\n",
       "      <td>0.1309</td>\n",
       "      <td>25.59</td>\n",
       "      <td>19.69</td>\n",
       "      <td>17.28</td>\n",
       "      <td>16.95</td>\n",
       "    </tr>\n",
       "    <tr>\n",
       "      <th>US Large Cap Blend</th>\n",
       "      <td>SPY</td>\n",
       "      <td>1.0000</td>\n",
       "      <td>28.74</td>\n",
       "      <td>25.99</td>\n",
       "      <td>18.36</td>\n",
       "      <td>16.45</td>\n",
       "    </tr>\n",
       "    <tr>\n",
       "      <th>S&amp;P Financials</th>\n",
       "      <td>XLF</td>\n",
       "      <td>0.1423</td>\n",
       "      <td>34.82</td>\n",
       "      <td>20.46</td>\n",
       "      <td>13.15</td>\n",
       "      <td>16.15</td>\n",
       "    </tr>\n",
       "    <tr>\n",
       "      <th>S&amp;P Industrials</th>\n",
       "      <td>XLI</td>\n",
       "      <td>0.0886</td>\n",
       "      <td>21.09</td>\n",
       "      <td>20.15</td>\n",
       "      <td>13.28</td>\n",
       "      <td>14.34</td>\n",
       "    </tr>\n",
       "    <tr>\n",
       "      <th>S&amp;P Materials</th>\n",
       "      <td>XLB</td>\n",
       "      <td>0.0227</td>\n",
       "      <td>27.45</td>\n",
       "      <td>24.00</td>\n",
       "      <td>15.02</td>\n",
       "      <td>12.77</td>\n",
       "    </tr>\n",
       "    <tr>\n",
       "      <th>S&amp;P Real Estate</th>\n",
       "      <td>XLRE</td>\n",
       "      <td>0.0257</td>\n",
       "      <td>45.26</td>\n",
       "      <td>22.31</td>\n",
       "      <td>14.61</td>\n",
       "      <td>12.56</td>\n",
       "    </tr>\n",
       "    <tr>\n",
       "      <th>S&amp;P Consumer Staples</th>\n",
       "      <td>XLP</td>\n",
       "      <td>0.1200</td>\n",
       "      <td>17.20</td>\n",
       "      <td>18.05</td>\n",
       "      <td>11.31</td>\n",
       "      <td>11.99</td>\n",
       "    </tr>\n",
       "    <tr>\n",
       "      <th>S&amp;P Communication Services</th>\n",
       "      <td>XLC</td>\n",
       "      <td>0.1114</td>\n",
       "      <td>15.96</td>\n",
       "      <td>24.47</td>\n",
       "      <td>8.69</td>\n",
       "      <td>11.16</td>\n",
       "    </tr>\n",
       "    <tr>\n",
       "      <th>S&amp;P Utilities</th>\n",
       "      <td>XLU</td>\n",
       "      <td>0.0245</td>\n",
       "      <td>16.81</td>\n",
       "      <td>13.94</td>\n",
       "      <td>11.49</td>\n",
       "      <td>10.82</td>\n",
       "    </tr>\n",
       "    <tr>\n",
       "      <th>S&amp;P Energy</th>\n",
       "      <td>XLE</td>\n",
       "      <td>0.0286</td>\n",
       "      <td>53.31</td>\n",
       "      <td>4.95</td>\n",
       "      <td>-1.29</td>\n",
       "      <td>1.34</td>\n",
       "    </tr>\n",
       "  </tbody>\n",
       "</table>\n",
       "</div>"
      ],
      "text/plain": [
       "                            etf_ticker  recent_weight  1Y_return  3Y_return  \\\n",
       "sector                                                                        \n",
       "S&P Information Technology         XLK         0.2422      34.83      42.63   \n",
       "S&P Consumer Discretionary         XLY         0.0632      27.93      28.65   \n",
       "S&P Healthcare                     XLV         0.1309      25.59      19.69   \n",
       "US Large Cap Blend                 SPY         1.0000      28.74      25.99   \n",
       "S&P Financials                     XLF         0.1423      34.82      20.46   \n",
       "S&P Industrials                    XLI         0.0886      21.09      20.15   \n",
       "S&P Materials                      XLB         0.0227      27.45      24.00   \n",
       "S&P Real Estate                   XLRE         0.0257      45.26      22.31   \n",
       "S&P Consumer Staples               XLP         0.1200      17.20      18.05   \n",
       "S&P Communication Services         XLC         0.1114      15.96      24.47   \n",
       "S&P Utilities                      XLU         0.0245      16.81      13.94   \n",
       "S&P Energy                         XLE         0.0286      53.31       4.95   \n",
       "\n",
       "                             5Y_return  10Y_return  \n",
       "sector                                              \n",
       "S&P Information Technology       30.82       23.07  \n",
       "S&P Consumer Discretionary       21.58       19.58  \n",
       "S&P Healthcare                   17.28       16.95  \n",
       "US Large Cap Blend               18.36       16.45  \n",
       "S&P Financials                   13.15       16.15  \n",
       "S&P Industrials                  13.28       14.34  \n",
       "S&P Materials                    15.02       12.77  \n",
       "S&P Real Estate                  14.61       12.56  \n",
       "S&P Consumer Staples             11.31       11.99  \n",
       "S&P Communication Services        8.69       11.16  \n",
       "S&P Utilities                    11.49       10.82  \n",
       "S&P Energy                       -1.29        1.34  "
      ]
     },
     "execution_count": 340,
     "metadata": {},
     "output_type": "execute_result"
    }
   ],
   "source": [
    "sectors= pd.read_csv('dataFiles/sector_weights_returns.csv', index_col=0) \n",
    "sectors"
   ]
  },
  {
   "cell_type": "code",
   "execution_count": 341,
   "metadata": {},
   "outputs": [],
   "source": [
    "#What does tthis do?"
   ]
  },
  {
   "cell_type": "code",
   "execution_count": 342,
   "metadata": {},
   "outputs": [
    {
     "data": {
      "application/vnd.microsoft.datawrangler.viewer.v0+json": {
       "columns": [
        {
         "name": "etf_ticker",
         "rawType": "object",
         "type": "string"
        },
        {
         "name": "sector",
         "rawType": "object",
         "type": "string"
        },
        {
         "name": "recent_weight",
         "rawType": "float64",
         "type": "float"
        },
        {
         "name": "1Y_return",
         "rawType": "float64",
         "type": "float"
        },
        {
         "name": "3Y_return",
         "rawType": "float64",
         "type": "float"
        },
        {
         "name": "5Y_return",
         "rawType": "float64",
         "type": "float"
        },
        {
         "name": "10Y_return",
         "rawType": "float64",
         "type": "float"
        }
       ],
       "ref": "71b37bcc-d08a-4309-9010-a2c5a52c6d91",
       "rows": [
        [
         "XLK",
         "S&P Information Technology ",
         "0.2422",
         "34.83",
         "42.63",
         "30.82",
         "23.07"
        ],
        [
         "XLY",
         "S&P Consumer Discretionary ",
         "0.0632",
         "27.93",
         "28.65",
         "21.58",
         "19.58"
        ],
        [
         "XLV",
         "S&P Healthcare ",
         "0.1309",
         "25.59",
         "19.69",
         "17.28",
         "16.95"
        ],
        [
         "SPY",
         "US Large Cap Blend ",
         "1.0",
         "28.74",
         "25.99",
         "18.36",
         "16.45"
        ],
        [
         "XLF",
         "S&P Financials ",
         "0.1423",
         "34.82",
         "20.46",
         "13.15",
         "16.15"
        ],
        [
         "XLI",
         "S&P Industrials ",
         "0.0886",
         "21.09",
         "20.15",
         "13.28",
         "14.34"
        ],
        [
         "XLB",
         "S&P Materials ",
         "0.0227",
         "27.45",
         "24.0",
         "15.02",
         "12.77"
        ],
        [
         "XLRE",
         "S&P Real Estate ",
         "0.0257",
         "45.26",
         "22.31",
         "14.61",
         "12.56"
        ],
        [
         "XLP",
         "S&P Consumer Staples ",
         "0.12",
         "17.2",
         "18.05",
         "11.31",
         "11.99"
        ],
        [
         "XLC",
         "S&P Communication Services ",
         "0.1114",
         "15.96",
         "24.47",
         "8.69",
         "11.16"
        ],
        [
         "XLU",
         "S&P Utilities ",
         "0.0245",
         "16.81",
         "13.94",
         "11.49",
         "10.82"
        ],
        [
         "XLE",
         "S&P Energy ",
         "0.0286",
         "53.31",
         "4.95",
         "-1.29",
         "1.34"
        ]
       ],
       "shape": {
        "columns": 6,
        "rows": 12
       }
      },
      "text/html": [
       "<div>\n",
       "<style scoped>\n",
       "    .dataframe tbody tr th:only-of-type {\n",
       "        vertical-align: middle;\n",
       "    }\n",
       "\n",
       "    .dataframe tbody tr th {\n",
       "        vertical-align: top;\n",
       "    }\n",
       "\n",
       "    .dataframe thead th {\n",
       "        text-align: right;\n",
       "    }\n",
       "</style>\n",
       "<table border=\"1\" class=\"dataframe\">\n",
       "  <thead>\n",
       "    <tr style=\"text-align: right;\">\n",
       "      <th></th>\n",
       "      <th>sector</th>\n",
       "      <th>recent_weight</th>\n",
       "      <th>1Y_return</th>\n",
       "      <th>3Y_return</th>\n",
       "      <th>5Y_return</th>\n",
       "      <th>10Y_return</th>\n",
       "    </tr>\n",
       "    <tr>\n",
       "      <th>etf_ticker</th>\n",
       "      <th></th>\n",
       "      <th></th>\n",
       "      <th></th>\n",
       "      <th></th>\n",
       "      <th></th>\n",
       "      <th></th>\n",
       "    </tr>\n",
       "  </thead>\n",
       "  <tbody>\n",
       "    <tr>\n",
       "      <th>XLK</th>\n",
       "      <td>S&amp;P Information Technology</td>\n",
       "      <td>0.2422</td>\n",
       "      <td>34.83</td>\n",
       "      <td>42.63</td>\n",
       "      <td>30.82</td>\n",
       "      <td>23.07</td>\n",
       "    </tr>\n",
       "    <tr>\n",
       "      <th>XLY</th>\n",
       "      <td>S&amp;P Consumer Discretionary</td>\n",
       "      <td>0.0632</td>\n",
       "      <td>27.93</td>\n",
       "      <td>28.65</td>\n",
       "      <td>21.58</td>\n",
       "      <td>19.58</td>\n",
       "    </tr>\n",
       "    <tr>\n",
       "      <th>XLV</th>\n",
       "      <td>S&amp;P Healthcare</td>\n",
       "      <td>0.1309</td>\n",
       "      <td>25.59</td>\n",
       "      <td>19.69</td>\n",
       "      <td>17.28</td>\n",
       "      <td>16.95</td>\n",
       "    </tr>\n",
       "    <tr>\n",
       "      <th>SPY</th>\n",
       "      <td>US Large Cap Blend</td>\n",
       "      <td>1.0000</td>\n",
       "      <td>28.74</td>\n",
       "      <td>25.99</td>\n",
       "      <td>18.36</td>\n",
       "      <td>16.45</td>\n",
       "    </tr>\n",
       "    <tr>\n",
       "      <th>XLF</th>\n",
       "      <td>S&amp;P Financials</td>\n",
       "      <td>0.1423</td>\n",
       "      <td>34.82</td>\n",
       "      <td>20.46</td>\n",
       "      <td>13.15</td>\n",
       "      <td>16.15</td>\n",
       "    </tr>\n",
       "    <tr>\n",
       "      <th>XLI</th>\n",
       "      <td>S&amp;P Industrials</td>\n",
       "      <td>0.0886</td>\n",
       "      <td>21.09</td>\n",
       "      <td>20.15</td>\n",
       "      <td>13.28</td>\n",
       "      <td>14.34</td>\n",
       "    </tr>\n",
       "    <tr>\n",
       "      <th>XLB</th>\n",
       "      <td>S&amp;P Materials</td>\n",
       "      <td>0.0227</td>\n",
       "      <td>27.45</td>\n",
       "      <td>24.00</td>\n",
       "      <td>15.02</td>\n",
       "      <td>12.77</td>\n",
       "    </tr>\n",
       "    <tr>\n",
       "      <th>XLRE</th>\n",
       "      <td>S&amp;P Real Estate</td>\n",
       "      <td>0.0257</td>\n",
       "      <td>45.26</td>\n",
       "      <td>22.31</td>\n",
       "      <td>14.61</td>\n",
       "      <td>12.56</td>\n",
       "    </tr>\n",
       "    <tr>\n",
       "      <th>XLP</th>\n",
       "      <td>S&amp;P Consumer Staples</td>\n",
       "      <td>0.1200</td>\n",
       "      <td>17.20</td>\n",
       "      <td>18.05</td>\n",
       "      <td>11.31</td>\n",
       "      <td>11.99</td>\n",
       "    </tr>\n",
       "    <tr>\n",
       "      <th>XLC</th>\n",
       "      <td>S&amp;P Communication Services</td>\n",
       "      <td>0.1114</td>\n",
       "      <td>15.96</td>\n",
       "      <td>24.47</td>\n",
       "      <td>8.69</td>\n",
       "      <td>11.16</td>\n",
       "    </tr>\n",
       "    <tr>\n",
       "      <th>XLU</th>\n",
       "      <td>S&amp;P Utilities</td>\n",
       "      <td>0.0245</td>\n",
       "      <td>16.81</td>\n",
       "      <td>13.94</td>\n",
       "      <td>11.49</td>\n",
       "      <td>10.82</td>\n",
       "    </tr>\n",
       "    <tr>\n",
       "      <th>XLE</th>\n",
       "      <td>S&amp;P Energy</td>\n",
       "      <td>0.0286</td>\n",
       "      <td>53.31</td>\n",
       "      <td>4.95</td>\n",
       "      <td>-1.29</td>\n",
       "      <td>1.34</td>\n",
       "    </tr>\n",
       "  </tbody>\n",
       "</table>\n",
       "</div>"
      ],
      "text/plain": [
       "                                 sector  recent_weight  1Y_return  3Y_return  \\\n",
       "etf_ticker                                                                     \n",
       "XLK         S&P Information Technology          0.2422      34.83      42.63   \n",
       "XLY         S&P Consumer Discretionary          0.0632      27.93      28.65   \n",
       "XLV                     S&P Healthcare          0.1309      25.59      19.69   \n",
       "SPY                 US Large Cap Blend          1.0000      28.74      25.99   \n",
       "XLF                     S&P Financials          0.1423      34.82      20.46   \n",
       "XLI                    S&P Industrials          0.0886      21.09      20.15   \n",
       "XLB                      S&P Materials          0.0227      27.45      24.00   \n",
       "XLRE                   S&P Real Estate          0.0257      45.26      22.31   \n",
       "XLP               S&P Consumer Staples          0.1200      17.20      18.05   \n",
       "XLC         S&P Communication Services          0.1114      15.96      24.47   \n",
       "XLU                      S&P Utilities          0.0245      16.81      13.94   \n",
       "XLE                         S&P Energy          0.0286      53.31       4.95   \n",
       "\n",
       "            5Y_return  10Y_return  \n",
       "etf_ticker                         \n",
       "XLK             30.82       23.07  \n",
       "XLY             21.58       19.58  \n",
       "XLV             17.28       16.95  \n",
       "SPY             18.36       16.45  \n",
       "XLF             13.15       16.15  \n",
       "XLI             13.28       14.34  \n",
       "XLB             15.02       12.77  \n",
       "XLRE            14.61       12.56  \n",
       "XLP             11.31       11.99  \n",
       "XLC              8.69       11.16  \n",
       "XLU             11.49       10.82  \n",
       "XLE             -1.29        1.34  "
      ]
     },
     "execution_count": 342,
     "metadata": {},
     "output_type": "execute_result"
    }
   ],
   "source": [
    "sectors= pd.read_csv('dataFiles/sector_weights_returns.csv', index_col=1) \n",
    "sectors"
   ]
  },
  {
   "cell_type": "code",
   "execution_count": 343,
   "metadata": {},
   "outputs": [],
   "source": [
    "# Select a column"
   ]
  },
  {
   "cell_type": "code",
   "execution_count": 344,
   "metadata": {},
   "outputs": [
    {
     "data": {
      "application/vnd.microsoft.datawrangler.viewer.v0+json": {
       "columns": [
        {
         "name": "etf_ticker",
         "rawType": "object",
         "type": "string"
        },
        {
         "name": "1Y_return",
         "rawType": "float64",
         "type": "float"
        }
       ],
       "ref": "f4a0dbbc-a954-478b-85dc-a395e5142b59",
       "rows": [
        [
         "XLK",
         "34.83"
        ],
        [
         "XLY",
         "27.93"
        ],
        [
         "XLV",
         "25.59"
        ],
        [
         "SPY",
         "28.74"
        ],
        [
         "XLF",
         "34.82"
        ],
        [
         "XLI",
         "21.09"
        ],
        [
         "XLB",
         "27.45"
        ],
        [
         "XLRE",
         "45.26"
        ],
        [
         "XLP",
         "17.2"
        ],
        [
         "XLC",
         "15.96"
        ],
        [
         "XLU",
         "16.81"
        ],
        [
         "XLE",
         "53.31"
        ]
       ],
       "shape": {
        "columns": 1,
        "rows": 12
       }
      },
      "text/plain": [
       "etf_ticker\n",
       "XLK     34.83\n",
       "XLY     27.93\n",
       "XLV     25.59\n",
       "SPY     28.74\n",
       "XLF     34.82\n",
       "XLI     21.09\n",
       "XLB     27.45\n",
       "XLRE    45.26\n",
       "XLP     17.20\n",
       "XLC     15.96\n",
       "XLU     16.81\n",
       "XLE     53.31\n",
       "Name: 1Y_return, dtype: float64"
      ]
     },
     "execution_count": 344,
     "metadata": {},
     "output_type": "execute_result"
    }
   ],
   "source": [
    "sectors['1Y_return']"
   ]
  },
  {
   "cell_type": "code",
   "execution_count": 345,
   "metadata": {},
   "outputs": [
    {
     "data": {
      "text/plain": [
       "pandas.core.series.Series"
      ]
     },
     "execution_count": 345,
     "metadata": {},
     "output_type": "execute_result"
    }
   ],
   "source": [
    "type(sectors['1Y_return'])"
   ]
  },
  {
   "cell_type": "code",
   "execution_count": 346,
   "metadata": {},
   "outputs": [],
   "source": [
    "#The type of the column is series"
   ]
  },
  {
   "cell_type": "code",
   "execution_count": 347,
   "metadata": {},
   "outputs": [
    {
     "data": {
      "application/vnd.microsoft.datawrangler.viewer.v0+json": {
       "columns": [
        {
         "name": "etf_ticker",
         "rawType": "object",
         "type": "string"
        },
        {
         "name": "1Y_return",
         "rawType": "float64",
         "type": "float"
        }
       ],
       "ref": "d4eb6de4-e72f-436c-9a5b-1a9608647993",
       "rows": [
        [
         "XLK",
         "34.83"
        ],
        [
         "XLY",
         "27.93"
        ],
        [
         "XLV",
         "25.59"
        ],
        [
         "SPY",
         "28.74"
        ],
        [
         "XLF",
         "34.82"
        ],
        [
         "XLI",
         "21.09"
        ],
        [
         "XLB",
         "27.45"
        ],
        [
         "XLRE",
         "45.26"
        ],
        [
         "XLP",
         "17.2"
        ],
        [
         "XLC",
         "15.96"
        ],
        [
         "XLU",
         "16.81"
        ],
        [
         "XLE",
         "53.31"
        ]
       ],
       "shape": {
        "columns": 1,
        "rows": 12
       }
      },
      "text/html": [
       "<div>\n",
       "<style scoped>\n",
       "    .dataframe tbody tr th:only-of-type {\n",
       "        vertical-align: middle;\n",
       "    }\n",
       "\n",
       "    .dataframe tbody tr th {\n",
       "        vertical-align: top;\n",
       "    }\n",
       "\n",
       "    .dataframe thead th {\n",
       "        text-align: right;\n",
       "    }\n",
       "</style>\n",
       "<table border=\"1\" class=\"dataframe\">\n",
       "  <thead>\n",
       "    <tr style=\"text-align: right;\">\n",
       "      <th></th>\n",
       "      <th>1Y_return</th>\n",
       "    </tr>\n",
       "    <tr>\n",
       "      <th>etf_ticker</th>\n",
       "      <th></th>\n",
       "    </tr>\n",
       "  </thead>\n",
       "  <tbody>\n",
       "    <tr>\n",
       "      <th>XLK</th>\n",
       "      <td>34.83</td>\n",
       "    </tr>\n",
       "    <tr>\n",
       "      <th>XLY</th>\n",
       "      <td>27.93</td>\n",
       "    </tr>\n",
       "    <tr>\n",
       "      <th>XLV</th>\n",
       "      <td>25.59</td>\n",
       "    </tr>\n",
       "    <tr>\n",
       "      <th>SPY</th>\n",
       "      <td>28.74</td>\n",
       "    </tr>\n",
       "    <tr>\n",
       "      <th>XLF</th>\n",
       "      <td>34.82</td>\n",
       "    </tr>\n",
       "    <tr>\n",
       "      <th>XLI</th>\n",
       "      <td>21.09</td>\n",
       "    </tr>\n",
       "    <tr>\n",
       "      <th>XLB</th>\n",
       "      <td>27.45</td>\n",
       "    </tr>\n",
       "    <tr>\n",
       "      <th>XLRE</th>\n",
       "      <td>45.26</td>\n",
       "    </tr>\n",
       "    <tr>\n",
       "      <th>XLP</th>\n",
       "      <td>17.20</td>\n",
       "    </tr>\n",
       "    <tr>\n",
       "      <th>XLC</th>\n",
       "      <td>15.96</td>\n",
       "    </tr>\n",
       "    <tr>\n",
       "      <th>XLU</th>\n",
       "      <td>16.81</td>\n",
       "    </tr>\n",
       "    <tr>\n",
       "      <th>XLE</th>\n",
       "      <td>53.31</td>\n",
       "    </tr>\n",
       "  </tbody>\n",
       "</table>\n",
       "</div>"
      ],
      "text/plain": [
       "            1Y_return\n",
       "etf_ticker           \n",
       "XLK             34.83\n",
       "XLY             27.93\n",
       "XLV             25.59\n",
       "SPY             28.74\n",
       "XLF             34.82\n",
       "XLI             21.09\n",
       "XLB             27.45\n",
       "XLRE            45.26\n",
       "XLP             17.20\n",
       "XLC             15.96\n",
       "XLU             16.81\n",
       "XLE             53.31"
      ]
     },
     "execution_count": 347,
     "metadata": {},
     "output_type": "execute_result"
    }
   ],
   "source": [
    "sectors[['1Y_return']]"
   ]
  },
  {
   "cell_type": "code",
   "execution_count": 348,
   "metadata": {},
   "outputs": [
    {
     "data": {
      "text/plain": [
       "pandas.core.frame.DataFrame"
      ]
     },
     "execution_count": 348,
     "metadata": {},
     "output_type": "execute_result"
    }
   ],
   "source": [
    "type(sectors[['1Y_return']])"
   ]
  },
  {
   "cell_type": "code",
   "execution_count": 349,
   "metadata": {},
   "outputs": [],
   "source": [
    "#Here is a sub-DaataFrame"
   ]
  },
  {
   "cell_type": "code",
   "execution_count": 350,
   "metadata": {},
   "outputs": [
    {
     "data": {
      "application/vnd.microsoft.datawrangler.viewer.v0+json": {
       "columns": [
        {
         "name": "etf_ticker",
         "rawType": "object",
         "type": "string"
        },
        {
         "name": "1Y_return",
         "rawType": "float64",
         "type": "float"
        },
        {
         "name": "5Y_return",
         "rawType": "float64",
         "type": "float"
        },
        {
         "name": "10Y_return",
         "rawType": "float64",
         "type": "float"
        }
       ],
       "ref": "03f1c3b3-c7c5-41ba-929d-fd0d50c1c7a5",
       "rows": [
        [
         "XLK",
         "34.83",
         "30.82",
         "23.07"
        ],
        [
         "XLY",
         "27.93",
         "21.58",
         "19.58"
        ],
        [
         "XLV",
         "25.59",
         "17.28",
         "16.95"
        ],
        [
         "SPY",
         "28.74",
         "18.36",
         "16.45"
        ],
        [
         "XLF",
         "34.82",
         "13.15",
         "16.15"
        ],
        [
         "XLI",
         "21.09",
         "13.28",
         "14.34"
        ],
        [
         "XLB",
         "27.45",
         "15.02",
         "12.77"
        ],
        [
         "XLRE",
         "45.26",
         "14.61",
         "12.56"
        ],
        [
         "XLP",
         "17.2",
         "11.31",
         "11.99"
        ],
        [
         "XLC",
         "15.96",
         "8.69",
         "11.16"
        ],
        [
         "XLU",
         "16.81",
         "11.49",
         "10.82"
        ],
        [
         "XLE",
         "53.31",
         "-1.29",
         "1.34"
        ]
       ],
       "shape": {
        "columns": 3,
        "rows": 12
       }
      },
      "text/html": [
       "<div>\n",
       "<style scoped>\n",
       "    .dataframe tbody tr th:only-of-type {\n",
       "        vertical-align: middle;\n",
       "    }\n",
       "\n",
       "    .dataframe tbody tr th {\n",
       "        vertical-align: top;\n",
       "    }\n",
       "\n",
       "    .dataframe thead th {\n",
       "        text-align: right;\n",
       "    }\n",
       "</style>\n",
       "<table border=\"1\" class=\"dataframe\">\n",
       "  <thead>\n",
       "    <tr style=\"text-align: right;\">\n",
       "      <th></th>\n",
       "      <th>1Y_return</th>\n",
       "      <th>5Y_return</th>\n",
       "      <th>10Y_return</th>\n",
       "    </tr>\n",
       "    <tr>\n",
       "      <th>etf_ticker</th>\n",
       "      <th></th>\n",
       "      <th></th>\n",
       "      <th></th>\n",
       "    </tr>\n",
       "  </thead>\n",
       "  <tbody>\n",
       "    <tr>\n",
       "      <th>XLK</th>\n",
       "      <td>34.83</td>\n",
       "      <td>30.82</td>\n",
       "      <td>23.07</td>\n",
       "    </tr>\n",
       "    <tr>\n",
       "      <th>XLY</th>\n",
       "      <td>27.93</td>\n",
       "      <td>21.58</td>\n",
       "      <td>19.58</td>\n",
       "    </tr>\n",
       "    <tr>\n",
       "      <th>XLV</th>\n",
       "      <td>25.59</td>\n",
       "      <td>17.28</td>\n",
       "      <td>16.95</td>\n",
       "    </tr>\n",
       "    <tr>\n",
       "      <th>SPY</th>\n",
       "      <td>28.74</td>\n",
       "      <td>18.36</td>\n",
       "      <td>16.45</td>\n",
       "    </tr>\n",
       "    <tr>\n",
       "      <th>XLF</th>\n",
       "      <td>34.82</td>\n",
       "      <td>13.15</td>\n",
       "      <td>16.15</td>\n",
       "    </tr>\n",
       "    <tr>\n",
       "      <th>XLI</th>\n",
       "      <td>21.09</td>\n",
       "      <td>13.28</td>\n",
       "      <td>14.34</td>\n",
       "    </tr>\n",
       "    <tr>\n",
       "      <th>XLB</th>\n",
       "      <td>27.45</td>\n",
       "      <td>15.02</td>\n",
       "      <td>12.77</td>\n",
       "    </tr>\n",
       "    <tr>\n",
       "      <th>XLRE</th>\n",
       "      <td>45.26</td>\n",
       "      <td>14.61</td>\n",
       "      <td>12.56</td>\n",
       "    </tr>\n",
       "    <tr>\n",
       "      <th>XLP</th>\n",
       "      <td>17.20</td>\n",
       "      <td>11.31</td>\n",
       "      <td>11.99</td>\n",
       "    </tr>\n",
       "    <tr>\n",
       "      <th>XLC</th>\n",
       "      <td>15.96</td>\n",
       "      <td>8.69</td>\n",
       "      <td>11.16</td>\n",
       "    </tr>\n",
       "    <tr>\n",
       "      <th>XLU</th>\n",
       "      <td>16.81</td>\n",
       "      <td>11.49</td>\n",
       "      <td>10.82</td>\n",
       "    </tr>\n",
       "    <tr>\n",
       "      <th>XLE</th>\n",
       "      <td>53.31</td>\n",
       "      <td>-1.29</td>\n",
       "      <td>1.34</td>\n",
       "    </tr>\n",
       "  </tbody>\n",
       "</table>\n",
       "</div>"
      ],
      "text/plain": [
       "            1Y_return  5Y_return  10Y_return\n",
       "etf_ticker                                  \n",
       "XLK             34.83      30.82       23.07\n",
       "XLY             27.93      21.58       19.58\n",
       "XLV             25.59      17.28       16.95\n",
       "SPY             28.74      18.36       16.45\n",
       "XLF             34.82      13.15       16.15\n",
       "XLI             21.09      13.28       14.34\n",
       "XLB             27.45      15.02       12.77\n",
       "XLRE            45.26      14.61       12.56\n",
       "XLP             17.20      11.31       11.99\n",
       "XLC             15.96       8.69       11.16\n",
       "XLU             16.81      11.49       10.82\n",
       "XLE             53.31      -1.29        1.34"
      ]
     },
     "execution_count": 350,
     "metadata": {},
     "output_type": "execute_result"
    }
   ],
   "source": [
    "returns= sectors[['1Y_return', '5Y_return', '10Y_return']]\n",
    "returns"
   ]
  },
  {
   "cell_type": "code",
   "execution_count": 351,
   "metadata": {},
   "outputs": [],
   "source": [
    "# Here is a way to certain rows from returns"
   ]
  },
  {
   "cell_type": "code",
   "execution_count": 352,
   "metadata": {},
   "outputs": [
    {
     "data": {
      "application/vnd.microsoft.datawrangler.viewer.v0+json": {
       "columns": [
        {
         "name": "etf_ticker",
         "rawType": "object",
         "type": "string"
        },
        {
         "name": "1Y_return",
         "rawType": "float64",
         "type": "float"
        },
        {
         "name": "5Y_return",
         "rawType": "float64",
         "type": "float"
        },
        {
         "name": "10Y_return",
         "rawType": "float64",
         "type": "float"
        }
       ],
       "ref": "5fda5649-fcfd-4c1d-95fc-727c992e5502",
       "rows": [
        [
         "XLY",
         "27.93",
         "21.58",
         "19.58"
        ],
        [
         "XLV",
         "25.59",
         "17.28",
         "16.95"
        ],
        [
         "SPY",
         "28.74",
         "18.36",
         "16.45"
        ]
       ],
       "shape": {
        "columns": 3,
        "rows": 3
       }
      },
      "text/html": [
       "<div>\n",
       "<style scoped>\n",
       "    .dataframe tbody tr th:only-of-type {\n",
       "        vertical-align: middle;\n",
       "    }\n",
       "\n",
       "    .dataframe tbody tr th {\n",
       "        vertical-align: top;\n",
       "    }\n",
       "\n",
       "    .dataframe thead th {\n",
       "        text-align: right;\n",
       "    }\n",
       "</style>\n",
       "<table border=\"1\" class=\"dataframe\">\n",
       "  <thead>\n",
       "    <tr style=\"text-align: right;\">\n",
       "      <th></th>\n",
       "      <th>1Y_return</th>\n",
       "      <th>5Y_return</th>\n",
       "      <th>10Y_return</th>\n",
       "    </tr>\n",
       "    <tr>\n",
       "      <th>etf_ticker</th>\n",
       "      <th></th>\n",
       "      <th></th>\n",
       "      <th></th>\n",
       "    </tr>\n",
       "  </thead>\n",
       "  <tbody>\n",
       "    <tr>\n",
       "      <th>XLY</th>\n",
       "      <td>27.93</td>\n",
       "      <td>21.58</td>\n",
       "      <td>19.58</td>\n",
       "    </tr>\n",
       "    <tr>\n",
       "      <th>XLV</th>\n",
       "      <td>25.59</td>\n",
       "      <td>17.28</td>\n",
       "      <td>16.95</td>\n",
       "    </tr>\n",
       "    <tr>\n",
       "      <th>SPY</th>\n",
       "      <td>28.74</td>\n",
       "      <td>18.36</td>\n",
       "      <td>16.45</td>\n",
       "    </tr>\n",
       "  </tbody>\n",
       "</table>\n",
       "</div>"
      ],
      "text/plain": [
       "            1Y_return  5Y_return  10Y_return\n",
       "etf_ticker                                  \n",
       "XLY             27.93      21.58       19.58\n",
       "XLV             25.59      17.28       16.95\n",
       "SPY             28.74      18.36       16.45"
      ]
     },
     "execution_count": 352,
     "metadata": {},
     "output_type": "execute_result"
    }
   ],
   "source": [
    "returns[1:4]"
   ]
  },
  {
   "cell_type": "code",
   "execution_count": 353,
   "metadata": {},
   "outputs": [],
   "source": [
    "#To select specific row as a Pandas DataFrame series"
   ]
  },
  {
   "cell_type": "code",
   "execution_count": 354,
   "metadata": {},
   "outputs": [
    {
     "data": {
      "application/vnd.microsoft.datawrangler.viewer.v0+json": {
       "columns": [
        {
         "name": "index",
         "rawType": "object",
         "type": "string"
        },
        {
         "name": "SPY",
         "rawType": "object",
         "type": "unknown"
        }
       ],
       "ref": "9ffceba0-e5fd-4727-97ad-c44caa207dde",
       "rows": [
        [
         "sector",
         "US Large Cap Blend "
        ],
        [
         "recent_weight",
         "1.0"
        ],
        [
         "1Y_return",
         "28.74"
        ],
        [
         "3Y_return",
         "25.99"
        ],
        [
         "5Y_return",
         "18.36"
        ],
        [
         "10Y_return",
         "16.45"
        ]
       ],
       "shape": {
        "columns": 1,
        "rows": 6
       }
      },
      "text/plain": [
       "sector           US Large Cap Blend \n",
       "recent_weight                    1.0\n",
       "1Y_return                      28.74\n",
       "3Y_return                      25.99\n",
       "5Y_return                      18.36\n",
       "10Y_return                     16.45\n",
       "Name: SPY, dtype: object"
      ]
     },
     "execution_count": 354,
     "metadata": {},
     "output_type": "execute_result"
    }
   ],
   "source": [
    "sectors.loc['SPY']"
   ]
  },
  {
   "cell_type": "code",
   "execution_count": 355,
   "metadata": {},
   "outputs": [],
   "source": [
    "#To get it in a data frame"
   ]
  },
  {
   "cell_type": "code",
   "execution_count": 356,
   "metadata": {},
   "outputs": [
    {
     "data": {
      "application/vnd.microsoft.datawrangler.viewer.v0+json": {
       "columns": [
        {
         "name": "etf_ticker",
         "rawType": "object",
         "type": "string"
        },
        {
         "name": "sector",
         "rawType": "object",
         "type": "string"
        },
        {
         "name": "recent_weight",
         "rawType": "float64",
         "type": "float"
        },
        {
         "name": "1Y_return",
         "rawType": "float64",
         "type": "float"
        },
        {
         "name": "3Y_return",
         "rawType": "float64",
         "type": "float"
        },
        {
         "name": "5Y_return",
         "rawType": "float64",
         "type": "float"
        },
        {
         "name": "10Y_return",
         "rawType": "float64",
         "type": "float"
        }
       ],
       "ref": "8f60358b-06ac-4ad4-8536-4146f8970b63",
       "rows": [
        [
         "SPY",
         "US Large Cap Blend ",
         "1.0",
         "28.74",
         "25.99",
         "18.36",
         "16.45"
        ]
       ],
       "shape": {
        "columns": 6,
        "rows": 1
       }
      },
      "text/html": [
       "<div>\n",
       "<style scoped>\n",
       "    .dataframe tbody tr th:only-of-type {\n",
       "        vertical-align: middle;\n",
       "    }\n",
       "\n",
       "    .dataframe tbody tr th {\n",
       "        vertical-align: top;\n",
       "    }\n",
       "\n",
       "    .dataframe thead th {\n",
       "        text-align: right;\n",
       "    }\n",
       "</style>\n",
       "<table border=\"1\" class=\"dataframe\">\n",
       "  <thead>\n",
       "    <tr style=\"text-align: right;\">\n",
       "      <th></th>\n",
       "      <th>sector</th>\n",
       "      <th>recent_weight</th>\n",
       "      <th>1Y_return</th>\n",
       "      <th>3Y_return</th>\n",
       "      <th>5Y_return</th>\n",
       "      <th>10Y_return</th>\n",
       "    </tr>\n",
       "    <tr>\n",
       "      <th>etf_ticker</th>\n",
       "      <th></th>\n",
       "      <th></th>\n",
       "      <th></th>\n",
       "      <th></th>\n",
       "      <th></th>\n",
       "      <th></th>\n",
       "    </tr>\n",
       "  </thead>\n",
       "  <tbody>\n",
       "    <tr>\n",
       "      <th>SPY</th>\n",
       "      <td>US Large Cap Blend</td>\n",
       "      <td>1.0</td>\n",
       "      <td>28.74</td>\n",
       "      <td>25.99</td>\n",
       "      <td>18.36</td>\n",
       "      <td>16.45</td>\n",
       "    </tr>\n",
       "  </tbody>\n",
       "</table>\n",
       "</div>"
      ],
      "text/plain": [
       "                         sector  recent_weight  1Y_return  3Y_return  \\\n",
       "etf_ticker                                                             \n",
       "SPY         US Large Cap Blend             1.0      28.74      25.99   \n",
       "\n",
       "            5Y_return  10Y_return  \n",
       "etf_ticker                         \n",
       "SPY             18.36       16.45  "
      ]
     },
     "execution_count": 356,
     "metadata": {},
     "output_type": "execute_result"
    }
   ],
   "source": [
    "spy= sectors.loc[['SPY']]\n",
    "spy"
   ]
  },
  {
   "cell_type": "code",
   "execution_count": 357,
   "metadata": {},
   "outputs": [],
   "source": [
    "#Select multiple row for multiple ETFs"
   ]
  },
  {
   "cell_type": "code",
   "execution_count": 358,
   "metadata": {},
   "outputs": [
    {
     "data": {
      "application/vnd.microsoft.datawrangler.viewer.v0+json": {
       "columns": [
        {
         "name": "etf_ticker",
         "rawType": "object",
         "type": "string"
        },
        {
         "name": "sector",
         "rawType": "object",
         "type": "string"
        },
        {
         "name": "recent_weight",
         "rawType": "float64",
         "type": "float"
        },
        {
         "name": "1Y_return",
         "rawType": "float64",
         "type": "float"
        },
        {
         "name": "3Y_return",
         "rawType": "float64",
         "type": "float"
        },
        {
         "name": "5Y_return",
         "rawType": "float64",
         "type": "float"
        },
        {
         "name": "10Y_return",
         "rawType": "float64",
         "type": "float"
        }
       ],
       "ref": "c39da526-9a8f-43a7-a35a-a432c5f4ac3e",
       "rows": [
        [
         "SPY",
         "US Large Cap Blend ",
         "1.0",
         "28.74",
         "25.99",
         "18.36",
         "16.45"
        ],
        [
         "XLF",
         "S&P Financials ",
         "0.1423",
         "34.82",
         "20.46",
         "13.15",
         "16.15"
        ],
        [
         "XLV",
         "S&P Healthcare ",
         "0.1309",
         "25.59",
         "19.69",
         "17.28",
         "16.95"
        ]
       ],
       "shape": {
        "columns": 6,
        "rows": 3
       }
      },
      "text/html": [
       "<div>\n",
       "<style scoped>\n",
       "    .dataframe tbody tr th:only-of-type {\n",
       "        vertical-align: middle;\n",
       "    }\n",
       "\n",
       "    .dataframe tbody tr th {\n",
       "        vertical-align: top;\n",
       "    }\n",
       "\n",
       "    .dataframe thead th {\n",
       "        text-align: right;\n",
       "    }\n",
       "</style>\n",
       "<table border=\"1\" class=\"dataframe\">\n",
       "  <thead>\n",
       "    <tr style=\"text-align: right;\">\n",
       "      <th></th>\n",
       "      <th>sector</th>\n",
       "      <th>recent_weight</th>\n",
       "      <th>1Y_return</th>\n",
       "      <th>3Y_return</th>\n",
       "      <th>5Y_return</th>\n",
       "      <th>10Y_return</th>\n",
       "    </tr>\n",
       "    <tr>\n",
       "      <th>etf_ticker</th>\n",
       "      <th></th>\n",
       "      <th></th>\n",
       "      <th></th>\n",
       "      <th></th>\n",
       "      <th></th>\n",
       "      <th></th>\n",
       "    </tr>\n",
       "  </thead>\n",
       "  <tbody>\n",
       "    <tr>\n",
       "      <th>SPY</th>\n",
       "      <td>US Large Cap Blend</td>\n",
       "      <td>1.0000</td>\n",
       "      <td>28.74</td>\n",
       "      <td>25.99</td>\n",
       "      <td>18.36</td>\n",
       "      <td>16.45</td>\n",
       "    </tr>\n",
       "    <tr>\n",
       "      <th>XLF</th>\n",
       "      <td>S&amp;P Financials</td>\n",
       "      <td>0.1423</td>\n",
       "      <td>34.82</td>\n",
       "      <td>20.46</td>\n",
       "      <td>13.15</td>\n",
       "      <td>16.15</td>\n",
       "    </tr>\n",
       "    <tr>\n",
       "      <th>XLV</th>\n",
       "      <td>S&amp;P Healthcare</td>\n",
       "      <td>0.1309</td>\n",
       "      <td>25.59</td>\n",
       "      <td>19.69</td>\n",
       "      <td>17.28</td>\n",
       "      <td>16.95</td>\n",
       "    </tr>\n",
       "  </tbody>\n",
       "</table>\n",
       "</div>"
      ],
      "text/plain": [
       "                         sector  recent_weight  1Y_return  3Y_return  \\\n",
       "etf_ticker                                                             \n",
       "SPY         US Large Cap Blend          1.0000      28.74      25.99   \n",
       "XLF             S&P Financials          0.1423      34.82      20.46   \n",
       "XLV             S&P Healthcare          0.1309      25.59      19.69   \n",
       "\n",
       "            5Y_return  10Y_return  \n",
       "etf_ticker                         \n",
       "SPY             18.36       16.45  \n",
       "XLF             13.15       16.15  \n",
       "XLV             17.28       16.95  "
      ]
     },
     "execution_count": 358,
     "metadata": {},
     "output_type": "execute_result"
    }
   ],
   "source": [
    "sectors.loc[['SPY', 'XLF', 'XLV']]"
   ]
  },
  {
   "cell_type": "code",
   "execution_count": 359,
   "metadata": {},
   "outputs": [],
   "source": [
    "#select certain row and certain columns"
   ]
  },
  {
   "cell_type": "code",
   "execution_count": 360,
   "metadata": {},
   "outputs": [
    {
     "data": {
      "application/vnd.microsoft.datawrangler.viewer.v0+json": {
       "columns": [
        {
         "name": "etf_ticker",
         "rawType": "object",
         "type": "string"
        },
        {
         "name": "5Y_return",
         "rawType": "float64",
         "type": "float"
        },
        {
         "name": "10Y_return",
         "rawType": "float64",
         "type": "float"
        }
       ],
       "ref": "2114def7-1b08-4eeb-abdb-3a54b274d1b4",
       "rows": [
        [
         "SPY",
         "18.36",
         "16.45"
        ],
        [
         "XLF",
         "13.15",
         "16.15"
        ],
        [
         "XLV",
         "17.28",
         "16.95"
        ]
       ],
       "shape": {
        "columns": 2,
        "rows": 3
       }
      },
      "text/html": [
       "<div>\n",
       "<style scoped>\n",
       "    .dataframe tbody tr th:only-of-type {\n",
       "        vertical-align: middle;\n",
       "    }\n",
       "\n",
       "    .dataframe tbody tr th {\n",
       "        vertical-align: top;\n",
       "    }\n",
       "\n",
       "    .dataframe thead th {\n",
       "        text-align: right;\n",
       "    }\n",
       "</style>\n",
       "<table border=\"1\" class=\"dataframe\">\n",
       "  <thead>\n",
       "    <tr style=\"text-align: right;\">\n",
       "      <th></th>\n",
       "      <th>5Y_return</th>\n",
       "      <th>10Y_return</th>\n",
       "    </tr>\n",
       "    <tr>\n",
       "      <th>etf_ticker</th>\n",
       "      <th></th>\n",
       "      <th></th>\n",
       "    </tr>\n",
       "  </thead>\n",
       "  <tbody>\n",
       "    <tr>\n",
       "      <th>SPY</th>\n",
       "      <td>18.36</td>\n",
       "      <td>16.45</td>\n",
       "    </tr>\n",
       "    <tr>\n",
       "      <th>XLF</th>\n",
       "      <td>13.15</td>\n",
       "      <td>16.15</td>\n",
       "    </tr>\n",
       "    <tr>\n",
       "      <th>XLV</th>\n",
       "      <td>17.28</td>\n",
       "      <td>16.95</td>\n",
       "    </tr>\n",
       "  </tbody>\n",
       "</table>\n",
       "</div>"
      ],
      "text/plain": [
       "            5Y_return  10Y_return\n",
       "etf_ticker                       \n",
       "SPY             18.36       16.45\n",
       "XLF             13.15       16.15\n",
       "XLV             17.28       16.95"
      ]
     },
     "execution_count": 360,
     "metadata": {},
     "output_type": "execute_result"
    }
   ],
   "source": [
    "sectors.loc[['SPY', 'XLF', 'XLV'], ['5Y_return', '10Y_return']]\n"
   ]
  },
  {
   "cell_type": "code",
   "execution_count": 361,
   "metadata": {},
   "outputs": [],
   "source": [
    "#if you want to select all rows in the above"
   ]
  },
  {
   "cell_type": "code",
   "execution_count": 362,
   "metadata": {},
   "outputs": [
    {
     "data": {
      "application/vnd.microsoft.datawrangler.viewer.v0+json": {
       "columns": [
        {
         "name": "etf_ticker",
         "rawType": "object",
         "type": "string"
        },
        {
         "name": "5Y_return",
         "rawType": "float64",
         "type": "float"
        },
        {
         "name": "10Y_return",
         "rawType": "float64",
         "type": "float"
        }
       ],
       "ref": "1500c898-9e4d-4226-bd4f-555a1b89d6f5",
       "rows": [
        [
         "XLK",
         "30.82",
         "23.07"
        ],
        [
         "XLY",
         "21.58",
         "19.58"
        ],
        [
         "XLV",
         "17.28",
         "16.95"
        ],
        [
         "SPY",
         "18.36",
         "16.45"
        ],
        [
         "XLF",
         "13.15",
         "16.15"
        ],
        [
         "XLI",
         "13.28",
         "14.34"
        ],
        [
         "XLB",
         "15.02",
         "12.77"
        ],
        [
         "XLRE",
         "14.61",
         "12.56"
        ],
        [
         "XLP",
         "11.31",
         "11.99"
        ],
        [
         "XLC",
         "8.69",
         "11.16"
        ],
        [
         "XLU",
         "11.49",
         "10.82"
        ],
        [
         "XLE",
         "-1.29",
         "1.34"
        ]
       ],
       "shape": {
        "columns": 2,
        "rows": 12
       }
      },
      "text/html": [
       "<div>\n",
       "<style scoped>\n",
       "    .dataframe tbody tr th:only-of-type {\n",
       "        vertical-align: middle;\n",
       "    }\n",
       "\n",
       "    .dataframe tbody tr th {\n",
       "        vertical-align: top;\n",
       "    }\n",
       "\n",
       "    .dataframe thead th {\n",
       "        text-align: right;\n",
       "    }\n",
       "</style>\n",
       "<table border=\"1\" class=\"dataframe\">\n",
       "  <thead>\n",
       "    <tr style=\"text-align: right;\">\n",
       "      <th></th>\n",
       "      <th>5Y_return</th>\n",
       "      <th>10Y_return</th>\n",
       "    </tr>\n",
       "    <tr>\n",
       "      <th>etf_ticker</th>\n",
       "      <th></th>\n",
       "      <th></th>\n",
       "    </tr>\n",
       "  </thead>\n",
       "  <tbody>\n",
       "    <tr>\n",
       "      <th>XLK</th>\n",
       "      <td>30.82</td>\n",
       "      <td>23.07</td>\n",
       "    </tr>\n",
       "    <tr>\n",
       "      <th>XLY</th>\n",
       "      <td>21.58</td>\n",
       "      <td>19.58</td>\n",
       "    </tr>\n",
       "    <tr>\n",
       "      <th>XLV</th>\n",
       "      <td>17.28</td>\n",
       "      <td>16.95</td>\n",
       "    </tr>\n",
       "    <tr>\n",
       "      <th>SPY</th>\n",
       "      <td>18.36</td>\n",
       "      <td>16.45</td>\n",
       "    </tr>\n",
       "    <tr>\n",
       "      <th>XLF</th>\n",
       "      <td>13.15</td>\n",
       "      <td>16.15</td>\n",
       "    </tr>\n",
       "    <tr>\n",
       "      <th>XLI</th>\n",
       "      <td>13.28</td>\n",
       "      <td>14.34</td>\n",
       "    </tr>\n",
       "    <tr>\n",
       "      <th>XLB</th>\n",
       "      <td>15.02</td>\n",
       "      <td>12.77</td>\n",
       "    </tr>\n",
       "    <tr>\n",
       "      <th>XLRE</th>\n",
       "      <td>14.61</td>\n",
       "      <td>12.56</td>\n",
       "    </tr>\n",
       "    <tr>\n",
       "      <th>XLP</th>\n",
       "      <td>11.31</td>\n",
       "      <td>11.99</td>\n",
       "    </tr>\n",
       "    <tr>\n",
       "      <th>XLC</th>\n",
       "      <td>8.69</td>\n",
       "      <td>11.16</td>\n",
       "    </tr>\n",
       "    <tr>\n",
       "      <th>XLU</th>\n",
       "      <td>11.49</td>\n",
       "      <td>10.82</td>\n",
       "    </tr>\n",
       "    <tr>\n",
       "      <th>XLE</th>\n",
       "      <td>-1.29</td>\n",
       "      <td>1.34</td>\n",
       "    </tr>\n",
       "  </tbody>\n",
       "</table>\n",
       "</div>"
      ],
      "text/plain": [
       "            5Y_return  10Y_return\n",
       "etf_ticker                       \n",
       "XLK             30.82       23.07\n",
       "XLY             21.58       19.58\n",
       "XLV             17.28       16.95\n",
       "SPY             18.36       16.45\n",
       "XLF             13.15       16.15\n",
       "XLI             13.28       14.34\n",
       "XLB             15.02       12.77\n",
       "XLRE            14.61       12.56\n",
       "XLP             11.31       11.99\n",
       "XLC              8.69       11.16\n",
       "XLU             11.49       10.82\n",
       "XLE             -1.29        1.34"
      ]
     },
     "execution_count": 362,
     "metadata": {},
     "output_type": "execute_result"
    }
   ],
   "source": [
    "sectors.loc[: , ['5Y_return', '10Y_return']]"
   ]
  },
  {
   "cell_type": "code",
   "execution_count": 363,
   "metadata": {},
   "outputs": [],
   "source": [
    "# Select all columns with specific rows ****"
   ]
  },
  {
   "cell_type": "code",
   "execution_count": 364,
   "metadata": {},
   "outputs": [
    {
     "data": {
      "application/vnd.microsoft.datawrangler.viewer.v0+json": {
       "columns": [
        {
         "name": "etf_ticker",
         "rawType": "object",
         "type": "string"
        },
        {
         "name": "sector",
         "rawType": "object",
         "type": "string"
        },
        {
         "name": "recent_weight",
         "rawType": "float64",
         "type": "float"
        },
        {
         "name": "1Y_return",
         "rawType": "float64",
         "type": "float"
        },
        {
         "name": "3Y_return",
         "rawType": "float64",
         "type": "float"
        },
        {
         "name": "5Y_return",
         "rawType": "float64",
         "type": "float"
        },
        {
         "name": "10Y_return",
         "rawType": "float64",
         "type": "float"
        }
       ],
       "ref": "62c01758-b0d4-4d1c-8a2b-e27645c3d1dd",
       "rows": [
        [
         "SPY",
         "US Large Cap Blend ",
         "1.0",
         "28.74",
         "25.99",
         "18.36",
         "16.45"
        ],
        [
         "XLF",
         "S&P Financials ",
         "0.1423",
         "34.82",
         "20.46",
         "13.15",
         "16.15"
        ],
        [
         "XLV",
         "S&P Healthcare ",
         "0.1309",
         "25.59",
         "19.69",
         "17.28",
         "16.95"
        ]
       ],
       "shape": {
        "columns": 6,
        "rows": 3
       }
      },
      "text/html": [
       "<div>\n",
       "<style scoped>\n",
       "    .dataframe tbody tr th:only-of-type {\n",
       "        vertical-align: middle;\n",
       "    }\n",
       "\n",
       "    .dataframe tbody tr th {\n",
       "        vertical-align: top;\n",
       "    }\n",
       "\n",
       "    .dataframe thead th {\n",
       "        text-align: right;\n",
       "    }\n",
       "</style>\n",
       "<table border=\"1\" class=\"dataframe\">\n",
       "  <thead>\n",
       "    <tr style=\"text-align: right;\">\n",
       "      <th></th>\n",
       "      <th>sector</th>\n",
       "      <th>recent_weight</th>\n",
       "      <th>1Y_return</th>\n",
       "      <th>3Y_return</th>\n",
       "      <th>5Y_return</th>\n",
       "      <th>10Y_return</th>\n",
       "    </tr>\n",
       "    <tr>\n",
       "      <th>etf_ticker</th>\n",
       "      <th></th>\n",
       "      <th></th>\n",
       "      <th></th>\n",
       "      <th></th>\n",
       "      <th></th>\n",
       "      <th></th>\n",
       "    </tr>\n",
       "  </thead>\n",
       "  <tbody>\n",
       "    <tr>\n",
       "      <th>SPY</th>\n",
       "      <td>US Large Cap Blend</td>\n",
       "      <td>1.0000</td>\n",
       "      <td>28.74</td>\n",
       "      <td>25.99</td>\n",
       "      <td>18.36</td>\n",
       "      <td>16.45</td>\n",
       "    </tr>\n",
       "    <tr>\n",
       "      <th>XLF</th>\n",
       "      <td>S&amp;P Financials</td>\n",
       "      <td>0.1423</td>\n",
       "      <td>34.82</td>\n",
       "      <td>20.46</td>\n",
       "      <td>13.15</td>\n",
       "      <td>16.15</td>\n",
       "    </tr>\n",
       "    <tr>\n",
       "      <th>XLV</th>\n",
       "      <td>S&amp;P Healthcare</td>\n",
       "      <td>0.1309</td>\n",
       "      <td>25.59</td>\n",
       "      <td>19.69</td>\n",
       "      <td>17.28</td>\n",
       "      <td>16.95</td>\n",
       "    </tr>\n",
       "  </tbody>\n",
       "</table>\n",
       "</div>"
      ],
      "text/plain": [
       "                         sector  recent_weight  1Y_return  3Y_return  \\\n",
       "etf_ticker                                                             \n",
       "SPY         US Large Cap Blend          1.0000      28.74      25.99   \n",
       "XLF             S&P Financials          0.1423      34.82      20.46   \n",
       "XLV             S&P Healthcare          0.1309      25.59      19.69   \n",
       "\n",
       "            5Y_return  10Y_return  \n",
       "etf_ticker                         \n",
       "SPY             18.36       16.45  \n",
       "XLF             13.15       16.15  \n",
       "XLV             17.28       16.95  "
      ]
     },
     "execution_count": 364,
     "metadata": {},
     "output_type": "execute_result"
    }
   ],
   "source": [
    "sectors.loc[['SPY', 'XLF', 'XLV'], :]"
   ]
  },
  {
   "cell_type": "code",
   "execution_count": 365,
   "metadata": {},
   "outputs": [],
   "source": [
    "#if you want to select data based on row number"
   ]
  },
  {
   "cell_type": "code",
   "execution_count": 366,
   "metadata": {},
   "outputs": [
    {
     "data": {
      "application/vnd.microsoft.datawrangler.viewer.v0+json": {
       "columns": [
        {
         "name": "etf_ticker",
         "rawType": "object",
         "type": "string"
        },
        {
         "name": "sector",
         "rawType": "object",
         "type": "string"
        },
        {
         "name": "recent_weight",
         "rawType": "float64",
         "type": "float"
        },
        {
         "name": "1Y_return",
         "rawType": "float64",
         "type": "float"
        },
        {
         "name": "3Y_return",
         "rawType": "float64",
         "type": "float"
        },
        {
         "name": "5Y_return",
         "rawType": "float64",
         "type": "float"
        },
        {
         "name": "10Y_return",
         "rawType": "float64",
         "type": "float"
        }
       ],
       "ref": "9202de1f-4055-4f93-be8f-e1a52577bbc9",
       "rows": [
        [
         "XLY",
         "S&P Consumer Discretionary ",
         "0.0632",
         "27.93",
         "28.65",
         "21.58",
         "19.58"
        ],
        [
         "SPY",
         "US Large Cap Blend ",
         "1.0",
         "28.74",
         "25.99",
         "18.36",
         "16.45"
        ],
        [
         "XLI",
         "S&P Industrials ",
         "0.0886",
         "21.09",
         "20.15",
         "13.28",
         "14.34"
        ]
       ],
       "shape": {
        "columns": 6,
        "rows": 3
       }
      },
      "text/html": [
       "<div>\n",
       "<style scoped>\n",
       "    .dataframe tbody tr th:only-of-type {\n",
       "        vertical-align: middle;\n",
       "    }\n",
       "\n",
       "    .dataframe tbody tr th {\n",
       "        vertical-align: top;\n",
       "    }\n",
       "\n",
       "    .dataframe thead th {\n",
       "        text-align: right;\n",
       "    }\n",
       "</style>\n",
       "<table border=\"1\" class=\"dataframe\">\n",
       "  <thead>\n",
       "    <tr style=\"text-align: right;\">\n",
       "      <th></th>\n",
       "      <th>sector</th>\n",
       "      <th>recent_weight</th>\n",
       "      <th>1Y_return</th>\n",
       "      <th>3Y_return</th>\n",
       "      <th>5Y_return</th>\n",
       "      <th>10Y_return</th>\n",
       "    </tr>\n",
       "    <tr>\n",
       "      <th>etf_ticker</th>\n",
       "      <th></th>\n",
       "      <th></th>\n",
       "      <th></th>\n",
       "      <th></th>\n",
       "      <th></th>\n",
       "      <th></th>\n",
       "    </tr>\n",
       "  </thead>\n",
       "  <tbody>\n",
       "    <tr>\n",
       "      <th>XLY</th>\n",
       "      <td>S&amp;P Consumer Discretionary</td>\n",
       "      <td>0.0632</td>\n",
       "      <td>27.93</td>\n",
       "      <td>28.65</td>\n",
       "      <td>21.58</td>\n",
       "      <td>19.58</td>\n",
       "    </tr>\n",
       "    <tr>\n",
       "      <th>SPY</th>\n",
       "      <td>US Large Cap Blend</td>\n",
       "      <td>1.0000</td>\n",
       "      <td>28.74</td>\n",
       "      <td>25.99</td>\n",
       "      <td>18.36</td>\n",
       "      <td>16.45</td>\n",
       "    </tr>\n",
       "    <tr>\n",
       "      <th>XLI</th>\n",
       "      <td>S&amp;P Industrials</td>\n",
       "      <td>0.0886</td>\n",
       "      <td>21.09</td>\n",
       "      <td>20.15</td>\n",
       "      <td>13.28</td>\n",
       "      <td>14.34</td>\n",
       "    </tr>\n",
       "  </tbody>\n",
       "</table>\n",
       "</div>"
      ],
      "text/plain": [
       "                                 sector  recent_weight  1Y_return  3Y_return  \\\n",
       "etf_ticker                                                                     \n",
       "XLY         S&P Consumer Discretionary          0.0632      27.93      28.65   \n",
       "SPY                 US Large Cap Blend          1.0000      28.74      25.99   \n",
       "XLI                    S&P Industrials          0.0886      21.09      20.15   \n",
       "\n",
       "            5Y_return  10Y_return  \n",
       "etf_ticker                         \n",
       "XLY             21.58       19.58  \n",
       "SPY             18.36       16.45  \n",
       "XLI             13.28       14.34  "
      ]
     },
     "execution_count": 366,
     "metadata": {},
     "output_type": "execute_result"
    }
   ],
   "source": [
    "sectors.iloc[[1,3,5],:]"
   ]
  },
  {
   "cell_type": "code",
   "execution_count": 367,
   "metadata": {},
   "outputs": [
    {
     "data": {
      "application/vnd.microsoft.datawrangler.viewer.v0+json": {
       "columns": [
        {
         "name": "etf_ticker",
         "rawType": "object",
         "type": "string"
        },
        {
         "name": "1Y_return",
         "rawType": "float64",
         "type": "float"
        },
        {
         "name": "3Y_return",
         "rawType": "float64",
         "type": "float"
        }
       ],
       "ref": "059c1c3f-3572-4db3-81e3-a342196aa3f9",
       "rows": [
        [
         "XLK",
         "34.83",
         "42.63"
        ],
        [
         "XLY",
         "27.93",
         "28.65"
        ],
        [
         "XLV",
         "25.59",
         "19.69"
        ],
        [
         "SPY",
         "28.74",
         "25.99"
        ],
        [
         "XLF",
         "34.82",
         "20.46"
        ],
        [
         "XLI",
         "21.09",
         "20.15"
        ],
        [
         "XLB",
         "27.45",
         "24.0"
        ],
        [
         "XLRE",
         "45.26",
         "22.31"
        ],
        [
         "XLP",
         "17.2",
         "18.05"
        ],
        [
         "XLC",
         "15.96",
         "24.47"
        ],
        [
         "XLU",
         "16.81",
         "13.94"
        ],
        [
         "XLE",
         "53.31",
         "4.95"
        ]
       ],
       "shape": {
        "columns": 2,
        "rows": 12
       }
      },
      "text/html": [
       "<div>\n",
       "<style scoped>\n",
       "    .dataframe tbody tr th:only-of-type {\n",
       "        vertical-align: middle;\n",
       "    }\n",
       "\n",
       "    .dataframe tbody tr th {\n",
       "        vertical-align: top;\n",
       "    }\n",
       "\n",
       "    .dataframe thead th {\n",
       "        text-align: right;\n",
       "    }\n",
       "</style>\n",
       "<table border=\"1\" class=\"dataframe\">\n",
       "  <thead>\n",
       "    <tr style=\"text-align: right;\">\n",
       "      <th></th>\n",
       "      <th>1Y_return</th>\n",
       "      <th>3Y_return</th>\n",
       "    </tr>\n",
       "    <tr>\n",
       "      <th>etf_ticker</th>\n",
       "      <th></th>\n",
       "      <th></th>\n",
       "    </tr>\n",
       "  </thead>\n",
       "  <tbody>\n",
       "    <tr>\n",
       "      <th>XLK</th>\n",
       "      <td>34.83</td>\n",
       "      <td>42.63</td>\n",
       "    </tr>\n",
       "    <tr>\n",
       "      <th>XLY</th>\n",
       "      <td>27.93</td>\n",
       "      <td>28.65</td>\n",
       "    </tr>\n",
       "    <tr>\n",
       "      <th>XLV</th>\n",
       "      <td>25.59</td>\n",
       "      <td>19.69</td>\n",
       "    </tr>\n",
       "    <tr>\n",
       "      <th>SPY</th>\n",
       "      <td>28.74</td>\n",
       "      <td>25.99</td>\n",
       "    </tr>\n",
       "    <tr>\n",
       "      <th>XLF</th>\n",
       "      <td>34.82</td>\n",
       "      <td>20.46</td>\n",
       "    </tr>\n",
       "    <tr>\n",
       "      <th>XLI</th>\n",
       "      <td>21.09</td>\n",
       "      <td>20.15</td>\n",
       "    </tr>\n",
       "    <tr>\n",
       "      <th>XLB</th>\n",
       "      <td>27.45</td>\n",
       "      <td>24.00</td>\n",
       "    </tr>\n",
       "    <tr>\n",
       "      <th>XLRE</th>\n",
       "      <td>45.26</td>\n",
       "      <td>22.31</td>\n",
       "    </tr>\n",
       "    <tr>\n",
       "      <th>XLP</th>\n",
       "      <td>17.20</td>\n",
       "      <td>18.05</td>\n",
       "    </tr>\n",
       "    <tr>\n",
       "      <th>XLC</th>\n",
       "      <td>15.96</td>\n",
       "      <td>24.47</td>\n",
       "    </tr>\n",
       "    <tr>\n",
       "      <th>XLU</th>\n",
       "      <td>16.81</td>\n",
       "      <td>13.94</td>\n",
       "    </tr>\n",
       "    <tr>\n",
       "      <th>XLE</th>\n",
       "      <td>53.31</td>\n",
       "      <td>4.95</td>\n",
       "    </tr>\n",
       "  </tbody>\n",
       "</table>\n",
       "</div>"
      ],
      "text/plain": [
       "            1Y_return  3Y_return\n",
       "etf_ticker                      \n",
       "XLK             34.83      42.63\n",
       "XLY             27.93      28.65\n",
       "XLV             25.59      19.69\n",
       "SPY             28.74      25.99\n",
       "XLF             34.82      20.46\n",
       "XLI             21.09      20.15\n",
       "XLB             27.45      24.00\n",
       "XLRE            45.26      22.31\n",
       "XLP             17.20      18.05\n",
       "XLC             15.96      24.47\n",
       "XLU             16.81      13.94\n",
       "XLE             53.31       4.95"
      ]
     },
     "execution_count": 367,
     "metadata": {},
     "output_type": "execute_result"
    }
   ],
   "source": [
    "sectors.iloc[:, [2,3]]"
   ]
  },
  {
   "cell_type": "code",
   "execution_count": 368,
   "metadata": {},
   "outputs": [
    {
     "data": {
      "application/vnd.microsoft.datawrangler.viewer.v0+json": {
       "columns": [
        {
         "name": "etf_ticker",
         "rawType": "object",
         "type": "string"
        },
        {
         "name": "1Y_return",
         "rawType": "float64",
         "type": "float"
        },
        {
         "name": "3Y_return",
         "rawType": "float64",
         "type": "float"
        }
       ],
       "ref": "7ca12e68-c092-42c2-ab07-75d58593c97a",
       "rows": [
        [
         "XLB",
         "27.45",
         "24.0"
        ],
        [
         "XLRE",
         "45.26",
         "22.31"
        ],
        [
         "XLP",
         "17.2",
         "18.05"
        ],
        [
         "XLC",
         "15.96",
         "24.47"
        ]
       ],
       "shape": {
        "columns": 2,
        "rows": 4
       }
      },
      "text/html": [
       "<div>\n",
       "<style scoped>\n",
       "    .dataframe tbody tr th:only-of-type {\n",
       "        vertical-align: middle;\n",
       "    }\n",
       "\n",
       "    .dataframe tbody tr th {\n",
       "        vertical-align: top;\n",
       "    }\n",
       "\n",
       "    .dataframe thead th {\n",
       "        text-align: right;\n",
       "    }\n",
       "</style>\n",
       "<table border=\"1\" class=\"dataframe\">\n",
       "  <thead>\n",
       "    <tr style=\"text-align: right;\">\n",
       "      <th></th>\n",
       "      <th>1Y_return</th>\n",
       "      <th>3Y_return</th>\n",
       "    </tr>\n",
       "    <tr>\n",
       "      <th>etf_ticker</th>\n",
       "      <th></th>\n",
       "      <th></th>\n",
       "    </tr>\n",
       "  </thead>\n",
       "  <tbody>\n",
       "    <tr>\n",
       "      <th>XLB</th>\n",
       "      <td>27.45</td>\n",
       "      <td>24.00</td>\n",
       "    </tr>\n",
       "    <tr>\n",
       "      <th>XLRE</th>\n",
       "      <td>45.26</td>\n",
       "      <td>22.31</td>\n",
       "    </tr>\n",
       "    <tr>\n",
       "      <th>XLP</th>\n",
       "      <td>17.20</td>\n",
       "      <td>18.05</td>\n",
       "    </tr>\n",
       "    <tr>\n",
       "      <th>XLC</th>\n",
       "      <td>15.96</td>\n",
       "      <td>24.47</td>\n",
       "    </tr>\n",
       "  </tbody>\n",
       "</table>\n",
       "</div>"
      ],
      "text/plain": [
       "            1Y_return  3Y_return\n",
       "etf_ticker                      \n",
       "XLB             27.45      24.00\n",
       "XLRE            45.26      22.31\n",
       "XLP             17.20      18.05\n",
       "XLC             15.96      24.47"
      ]
     },
     "execution_count": 368,
     "metadata": {},
     "output_type": "execute_result"
    }
   ],
   "source": [
    "n1= 6\n",
    "n2= 10\n",
    "sectors.iloc[n1:n2, [2,3]]"
   ]
  },
  {
   "cell_type": "code",
   "execution_count": 369,
   "metadata": {},
   "outputs": [],
   "source": [
    "#Let us create a data frame that excludes SPY"
   ]
  },
  {
   "cell_type": "code",
   "execution_count": 370,
   "metadata": {},
   "outputs": [
    {
     "data": {
      "application/vnd.microsoft.datawrangler.viewer.v0+json": {
       "columns": [
        {
         "name": "etf_ticker",
         "rawType": "object",
         "type": "string"
        },
        {
         "name": "sector",
         "rawType": "object",
         "type": "string"
        },
        {
         "name": "recent_weight",
         "rawType": "float64",
         "type": "float"
        },
        {
         "name": "1Y_return",
         "rawType": "float64",
         "type": "float"
        },
        {
         "name": "3Y_return",
         "rawType": "float64",
         "type": "float"
        },
        {
         "name": "5Y_return",
         "rawType": "float64",
         "type": "float"
        },
        {
         "name": "10Y_return",
         "rawType": "float64",
         "type": "float"
        }
       ],
       "ref": "a86917a3-e586-4654-a0ba-a3b9d088dd57",
       "rows": [
        [
         "XLK",
         "S&P Information Technology ",
         "0.2422",
         "34.83",
         "42.63",
         "30.82",
         "23.07"
        ],
        [
         "XLY",
         "S&P Consumer Discretionary ",
         "0.0632",
         "27.93",
         "28.65",
         "21.58",
         "19.58"
        ],
        [
         "XLV",
         "S&P Healthcare ",
         "0.1309",
         "25.59",
         "19.69",
         "17.28",
         "16.95"
        ],
        [
         "XLF",
         "S&P Financials ",
         "0.1423",
         "34.82",
         "20.46",
         "13.15",
         "16.15"
        ],
        [
         "XLI",
         "S&P Industrials ",
         "0.0886",
         "21.09",
         "20.15",
         "13.28",
         "14.34"
        ],
        [
         "XLB",
         "S&P Materials ",
         "0.0227",
         "27.45",
         "24.0",
         "15.02",
         "12.77"
        ],
        [
         "XLRE",
         "S&P Real Estate ",
         "0.0257",
         "45.26",
         "22.31",
         "14.61",
         "12.56"
        ],
        [
         "XLP",
         "S&P Consumer Staples ",
         "0.12",
         "17.2",
         "18.05",
         "11.31",
         "11.99"
        ],
        [
         "XLC",
         "S&P Communication Services ",
         "0.1114",
         "15.96",
         "24.47",
         "8.69",
         "11.16"
        ],
        [
         "XLU",
         "S&P Utilities ",
         "0.0245",
         "16.81",
         "13.94",
         "11.49",
         "10.82"
        ]
       ],
       "shape": {
        "columns": 6,
        "rows": 10
       }
      },
      "text/html": [
       "<div>\n",
       "<style scoped>\n",
       "    .dataframe tbody tr th:only-of-type {\n",
       "        vertical-align: middle;\n",
       "    }\n",
       "\n",
       "    .dataframe tbody tr th {\n",
       "        vertical-align: top;\n",
       "    }\n",
       "\n",
       "    .dataframe thead th {\n",
       "        text-align: right;\n",
       "    }\n",
       "</style>\n",
       "<table border=\"1\" class=\"dataframe\">\n",
       "  <thead>\n",
       "    <tr style=\"text-align: right;\">\n",
       "      <th></th>\n",
       "      <th>sector</th>\n",
       "      <th>recent_weight</th>\n",
       "      <th>1Y_return</th>\n",
       "      <th>3Y_return</th>\n",
       "      <th>5Y_return</th>\n",
       "      <th>10Y_return</th>\n",
       "    </tr>\n",
       "    <tr>\n",
       "      <th>etf_ticker</th>\n",
       "      <th></th>\n",
       "      <th></th>\n",
       "      <th></th>\n",
       "      <th></th>\n",
       "      <th></th>\n",
       "      <th></th>\n",
       "    </tr>\n",
       "  </thead>\n",
       "  <tbody>\n",
       "    <tr>\n",
       "      <th>XLK</th>\n",
       "      <td>S&amp;P Information Technology</td>\n",
       "      <td>0.2422</td>\n",
       "      <td>34.83</td>\n",
       "      <td>42.63</td>\n",
       "      <td>30.82</td>\n",
       "      <td>23.07</td>\n",
       "    </tr>\n",
       "    <tr>\n",
       "      <th>XLY</th>\n",
       "      <td>S&amp;P Consumer Discretionary</td>\n",
       "      <td>0.0632</td>\n",
       "      <td>27.93</td>\n",
       "      <td>28.65</td>\n",
       "      <td>21.58</td>\n",
       "      <td>19.58</td>\n",
       "    </tr>\n",
       "    <tr>\n",
       "      <th>XLV</th>\n",
       "      <td>S&amp;P Healthcare</td>\n",
       "      <td>0.1309</td>\n",
       "      <td>25.59</td>\n",
       "      <td>19.69</td>\n",
       "      <td>17.28</td>\n",
       "      <td>16.95</td>\n",
       "    </tr>\n",
       "    <tr>\n",
       "      <th>XLF</th>\n",
       "      <td>S&amp;P Financials</td>\n",
       "      <td>0.1423</td>\n",
       "      <td>34.82</td>\n",
       "      <td>20.46</td>\n",
       "      <td>13.15</td>\n",
       "      <td>16.15</td>\n",
       "    </tr>\n",
       "    <tr>\n",
       "      <th>XLI</th>\n",
       "      <td>S&amp;P Industrials</td>\n",
       "      <td>0.0886</td>\n",
       "      <td>21.09</td>\n",
       "      <td>20.15</td>\n",
       "      <td>13.28</td>\n",
       "      <td>14.34</td>\n",
       "    </tr>\n",
       "    <tr>\n",
       "      <th>XLB</th>\n",
       "      <td>S&amp;P Materials</td>\n",
       "      <td>0.0227</td>\n",
       "      <td>27.45</td>\n",
       "      <td>24.00</td>\n",
       "      <td>15.02</td>\n",
       "      <td>12.77</td>\n",
       "    </tr>\n",
       "    <tr>\n",
       "      <th>XLRE</th>\n",
       "      <td>S&amp;P Real Estate</td>\n",
       "      <td>0.0257</td>\n",
       "      <td>45.26</td>\n",
       "      <td>22.31</td>\n",
       "      <td>14.61</td>\n",
       "      <td>12.56</td>\n",
       "    </tr>\n",
       "    <tr>\n",
       "      <th>XLP</th>\n",
       "      <td>S&amp;P Consumer Staples</td>\n",
       "      <td>0.1200</td>\n",
       "      <td>17.20</td>\n",
       "      <td>18.05</td>\n",
       "      <td>11.31</td>\n",
       "      <td>11.99</td>\n",
       "    </tr>\n",
       "    <tr>\n",
       "      <th>XLC</th>\n",
       "      <td>S&amp;P Communication Services</td>\n",
       "      <td>0.1114</td>\n",
       "      <td>15.96</td>\n",
       "      <td>24.47</td>\n",
       "      <td>8.69</td>\n",
       "      <td>11.16</td>\n",
       "    </tr>\n",
       "    <tr>\n",
       "      <th>XLU</th>\n",
       "      <td>S&amp;P Utilities</td>\n",
       "      <td>0.0245</td>\n",
       "      <td>16.81</td>\n",
       "      <td>13.94</td>\n",
       "      <td>11.49</td>\n",
       "      <td>10.82</td>\n",
       "    </tr>\n",
       "  </tbody>\n",
       "</table>\n",
       "</div>"
      ],
      "text/plain": [
       "                                 sector  recent_weight  1Y_return  3Y_return  \\\n",
       "etf_ticker                                                                     \n",
       "XLK         S&P Information Technology          0.2422      34.83      42.63   \n",
       "XLY         S&P Consumer Discretionary          0.0632      27.93      28.65   \n",
       "XLV                     S&P Healthcare          0.1309      25.59      19.69   \n",
       "XLF                     S&P Financials          0.1423      34.82      20.46   \n",
       "XLI                    S&P Industrials          0.0886      21.09      20.15   \n",
       "XLB                      S&P Materials          0.0227      27.45      24.00   \n",
       "XLRE                   S&P Real Estate          0.0257      45.26      22.31   \n",
       "XLP               S&P Consumer Staples          0.1200      17.20      18.05   \n",
       "XLC         S&P Communication Services          0.1114      15.96      24.47   \n",
       "XLU                      S&P Utilities          0.0245      16.81      13.94   \n",
       "\n",
       "            5Y_return  10Y_return  \n",
       "etf_ticker                         \n",
       "XLK             30.82       23.07  \n",
       "XLY             21.58       19.58  \n",
       "XLV             17.28       16.95  \n",
       "XLF             13.15       16.15  \n",
       "XLI             13.28       14.34  \n",
       "XLB             15.02       12.77  \n",
       "XLRE            14.61       12.56  \n",
       "XLP             11.31       11.99  \n",
       "XLC              8.69       11.16  \n",
       "XLU             11.49       10.82  "
      ]
     },
     "execution_count": 370,
     "metadata": {},
     "output_type": "execute_result"
    }
   ],
   "source": [
    "ls= [0,1,2]+list(range(4,11))\n",
    "sectors_only= sectors.iloc[ls,:]\n",
    "spy= sectors.iloc[3,:]\n",
    "sectors_only"
   ]
  },
  {
   "cell_type": "code",
   "execution_count": 371,
   "metadata": {},
   "outputs": [
    {
     "data": {
      "text/plain": [
       "np.float64(27.189170355120947)"
      ]
     },
     "execution_count": 371,
     "metadata": {},
     "output_type": "execute_result"
    }
   ],
   "source": [
    "np.average( a= sectors_only['1Y_return'],weights=sectors_only['recent_weight'])"
   ]
  },
  {
   "cell_type": "code",
   "execution_count": 372,
   "metadata": {},
   "outputs": [
    {
     "name": "stderr",
     "output_type": "stream",
     "text": [
      "/var/folders/h0/s41cy5xj0qx08m983bv4kc3c0000gn/T/ipykernel_3414/1487546250.py:2: FutureWarning: Series.__getitem__ treating keys as positions is deprecated. In a future version, integer keys will always be treated as labels (consistent with DataFrame behavior). To access a value by position, use `ser.iloc[pos]`\n",
      "  spy.loc['1Y_return'][0]\n"
     ]
    },
    {
     "data": {
      "text/plain": [
       "np.float64(28.74)"
      ]
     },
     "execution_count": 372,
     "metadata": {},
     "output_type": "execute_result"
    }
   ],
   "source": [
    "spy= pd.DataFrame(sectors.iloc[3,:])\n",
    "spy.loc['1Y_return'][0]"
   ]
  },
  {
   "cell_type": "code",
   "execution_count": 373,
   "metadata": {},
   "outputs": [],
   "source": [
    "#5. Merging data frames\n",
    "# You can use merge() any time you want to do database-like join operations. \n",
    "# Typically you have two DataFrames with common columns.\n",
    "# Your analysis requires combining the two in order to do analysis that requires information from columns in the union of both.¶\n",
    "# Let us start with an example. Here we are importing two data frames\n",
    "# from the sam excel file from two different sheets"
   ]
  },
  {
   "cell_type": "code",
   "execution_count": 374,
   "metadata": {},
   "outputs": [
    {
     "data": {
      "application/vnd.microsoft.datawrangler.viewer.v0+json": {
       "columns": [
        {
         "name": "index",
         "rawType": "int64",
         "type": "integer"
        },
        {
         "name": "Company_Name",
         "rawType": "object",
         "type": "string"
        },
        {
         "name": "Listing_date",
         "rawType": "datetime64[ns]",
         "type": "datetime"
        },
        {
         "name": "Issue Price  ",
         "rawType": "int64",
         "type": "integer"
        },
        {
         "name": "listing_day_close_price",
         "rawType": "float64",
         "type": "float"
        },
        {
         "name": "Listing_day_%change",
         "rawType": "float64",
         "type": "float"
        }
       ],
       "ref": "3d146a0f-a430-48f1-b7eb-d8cf0ddcf2b9",
       "rows": [
        [
         "0",
         "Prince Pipes and Fittings Ltd",
         "2019-12-30 00:00:00",
         "178",
         "166.6",
         "-6.4"
        ],
        [
         "1",
         "Ujjivan Small Finance Bank Ltd",
         "2019-12-12 00:00:00",
         "37",
         "55.9",
         "51.08"
        ],
        [
         "2",
         "CSB Bank Limited",
         "2019-12-04 00:00:00",
         "195",
         "300.1",
         "53.9"
        ],
        [
         "3",
         "IRCTC Limited",
         "2019-10-14 00:00:00",
         "320",
         "728.6",
         "127.69"
        ],
        [
         "4",
         "Vishwaraj Sugar Industries Ltd",
         "2019-10-15 00:00:00",
         "60",
         "60.35",
         "0.58"
        ],
        [
         "5",
         "Sterling and Wilson Solar Ltd",
         "2019-08-20 00:00:00",
         "780",
         "725.35",
         "-7.01"
        ],
        [
         "6",
         "Spandana Sphoorty Financial Ltd",
         "2019-08-19 00:00:00",
         "856",
         "848.4",
         "-0.89"
        ],
        [
         "7",
         "Affle (India",
         "2019-08-08 00:00:00",
         "745",
         "875.1",
         "17.46"
        ],
        [
         "8",
         "IndiaMART InterMESH Limited",
         "2019-07-04 00:00:00",
         "973",
         "1302.55",
         "33.87"
        ],
        [
         "9",
         "Neogen Chemicals Limited",
         "2019-05-08 00:00:00",
         "215",
         "263.55",
         "22.58"
        ],
        [
         "10",
         "Rail Vikas Nigam Limited",
         "2019-04-11 00:00:00",
         "19",
         "19.05",
         "0.26"
        ],
        [
         "11",
         "Polycab India Limited",
         "2019-04-16 00:00:00",
         "538",
         "655.0",
         "21.75"
        ],
        [
         "12",
         "Metropolis Healthcare Limited",
         "2019-04-15 00:00:00",
         "880",
         "959.55",
         "9.04"
        ],
        [
         "13",
         "Embassy Office Parks",
         "2019-04-01 00:00:00",
         "300",
         "314.1",
         "4.7"
        ],
        [
         "14",
         "MSTC Limited",
         "2019-03-29 00:00:00",
         "120",
         "114.2",
         "-4.83"
        ],
        [
         "15",
         "Xelpmoc Design and Tech Limited",
         "2019-02-04 00:00:00",
         "66",
         "59.85",
         "-9.32"
        ],
        [
         "16",
         "Chalet Hotels Limited",
         "2019-02-07 00:00:00",
         "280",
         "290.4",
         "3.71"
        ]
       ],
       "shape": {
        "columns": 5,
        "rows": 17
       }
      },
      "text/html": [
       "<div>\n",
       "<style scoped>\n",
       "    .dataframe tbody tr th:only-of-type {\n",
       "        vertical-align: middle;\n",
       "    }\n",
       "\n",
       "    .dataframe tbody tr th {\n",
       "        vertical-align: top;\n",
       "    }\n",
       "\n",
       "    .dataframe thead th {\n",
       "        text-align: right;\n",
       "    }\n",
       "</style>\n",
       "<table border=\"1\" class=\"dataframe\">\n",
       "  <thead>\n",
       "    <tr style=\"text-align: right;\">\n",
       "      <th></th>\n",
       "      <th>Company_Name</th>\n",
       "      <th>Listing_date</th>\n",
       "      <th>Issue Price</th>\n",
       "      <th>listing_day_close_price</th>\n",
       "      <th>Listing_day_%change</th>\n",
       "    </tr>\n",
       "  </thead>\n",
       "  <tbody>\n",
       "    <tr>\n",
       "      <th>0</th>\n",
       "      <td>Prince Pipes and Fittings Ltd</td>\n",
       "      <td>2019-12-30</td>\n",
       "      <td>178</td>\n",
       "      <td>166.60</td>\n",
       "      <td>-6.40</td>\n",
       "    </tr>\n",
       "    <tr>\n",
       "      <th>1</th>\n",
       "      <td>Ujjivan Small Finance Bank Ltd</td>\n",
       "      <td>2019-12-12</td>\n",
       "      <td>37</td>\n",
       "      <td>55.90</td>\n",
       "      <td>51.08</td>\n",
       "    </tr>\n",
       "    <tr>\n",
       "      <th>2</th>\n",
       "      <td>CSB Bank Limited</td>\n",
       "      <td>2019-12-04</td>\n",
       "      <td>195</td>\n",
       "      <td>300.10</td>\n",
       "      <td>53.90</td>\n",
       "    </tr>\n",
       "    <tr>\n",
       "      <th>3</th>\n",
       "      <td>IRCTC Limited</td>\n",
       "      <td>2019-10-14</td>\n",
       "      <td>320</td>\n",
       "      <td>728.60</td>\n",
       "      <td>127.69</td>\n",
       "    </tr>\n",
       "    <tr>\n",
       "      <th>4</th>\n",
       "      <td>Vishwaraj Sugar Industries Ltd</td>\n",
       "      <td>2019-10-15</td>\n",
       "      <td>60</td>\n",
       "      <td>60.35</td>\n",
       "      <td>0.58</td>\n",
       "    </tr>\n",
       "    <tr>\n",
       "      <th>5</th>\n",
       "      <td>Sterling and Wilson Solar Ltd</td>\n",
       "      <td>2019-08-20</td>\n",
       "      <td>780</td>\n",
       "      <td>725.35</td>\n",
       "      <td>-7.01</td>\n",
       "    </tr>\n",
       "    <tr>\n",
       "      <th>6</th>\n",
       "      <td>Spandana Sphoorty Financial Ltd</td>\n",
       "      <td>2019-08-19</td>\n",
       "      <td>856</td>\n",
       "      <td>848.40</td>\n",
       "      <td>-0.89</td>\n",
       "    </tr>\n",
       "    <tr>\n",
       "      <th>7</th>\n",
       "      <td>Affle (India</td>\n",
       "      <td>2019-08-08</td>\n",
       "      <td>745</td>\n",
       "      <td>875.10</td>\n",
       "      <td>17.46</td>\n",
       "    </tr>\n",
       "    <tr>\n",
       "      <th>8</th>\n",
       "      <td>IndiaMART InterMESH Limited</td>\n",
       "      <td>2019-07-04</td>\n",
       "      <td>973</td>\n",
       "      <td>1302.55</td>\n",
       "      <td>33.87</td>\n",
       "    </tr>\n",
       "    <tr>\n",
       "      <th>9</th>\n",
       "      <td>Neogen Chemicals Limited</td>\n",
       "      <td>2019-05-08</td>\n",
       "      <td>215</td>\n",
       "      <td>263.55</td>\n",
       "      <td>22.58</td>\n",
       "    </tr>\n",
       "    <tr>\n",
       "      <th>10</th>\n",
       "      <td>Rail Vikas Nigam Limited</td>\n",
       "      <td>2019-04-11</td>\n",
       "      <td>19</td>\n",
       "      <td>19.05</td>\n",
       "      <td>0.26</td>\n",
       "    </tr>\n",
       "    <tr>\n",
       "      <th>11</th>\n",
       "      <td>Polycab India Limited</td>\n",
       "      <td>2019-04-16</td>\n",
       "      <td>538</td>\n",
       "      <td>655.00</td>\n",
       "      <td>21.75</td>\n",
       "    </tr>\n",
       "    <tr>\n",
       "      <th>12</th>\n",
       "      <td>Metropolis Healthcare Limited</td>\n",
       "      <td>2019-04-15</td>\n",
       "      <td>880</td>\n",
       "      <td>959.55</td>\n",
       "      <td>9.04</td>\n",
       "    </tr>\n",
       "    <tr>\n",
       "      <th>13</th>\n",
       "      <td>Embassy Office Parks</td>\n",
       "      <td>2019-04-01</td>\n",
       "      <td>300</td>\n",
       "      <td>314.10</td>\n",
       "      <td>4.70</td>\n",
       "    </tr>\n",
       "    <tr>\n",
       "      <th>14</th>\n",
       "      <td>MSTC Limited</td>\n",
       "      <td>2019-03-29</td>\n",
       "      <td>120</td>\n",
       "      <td>114.20</td>\n",
       "      <td>-4.83</td>\n",
       "    </tr>\n",
       "    <tr>\n",
       "      <th>15</th>\n",
       "      <td>Xelpmoc Design and Tech Limited</td>\n",
       "      <td>2019-02-04</td>\n",
       "      <td>66</td>\n",
       "      <td>59.85</td>\n",
       "      <td>-9.32</td>\n",
       "    </tr>\n",
       "    <tr>\n",
       "      <th>16</th>\n",
       "      <td>Chalet Hotels Limited</td>\n",
       "      <td>2019-02-07</td>\n",
       "      <td>280</td>\n",
       "      <td>290.40</td>\n",
       "      <td>3.71</td>\n",
       "    </tr>\n",
       "  </tbody>\n",
       "</table>\n",
       "</div>"
      ],
      "text/plain": [
       "                       Company_Name Listing_date  Issue Price    \\\n",
       "0     Prince Pipes and Fittings Ltd   2019-12-30            178   \n",
       "1    Ujjivan Small Finance Bank Ltd   2019-12-12             37   \n",
       "2                  CSB Bank Limited   2019-12-04            195   \n",
       "3                     IRCTC Limited   2019-10-14            320   \n",
       "4    Vishwaraj Sugar Industries Ltd   2019-10-15             60   \n",
       "5     Sterling and Wilson Solar Ltd   2019-08-20            780   \n",
       "6   Spandana Sphoorty Financial Ltd   2019-08-19            856   \n",
       "7                      Affle (India   2019-08-08            745   \n",
       "8       IndiaMART InterMESH Limited   2019-07-04            973   \n",
       "9          Neogen Chemicals Limited   2019-05-08            215   \n",
       "10         Rail Vikas Nigam Limited   2019-04-11             19   \n",
       "11            Polycab India Limited   2019-04-16            538   \n",
       "12    Metropolis Healthcare Limited   2019-04-15            880   \n",
       "13             Embassy Office Parks   2019-04-01            300   \n",
       "14                     MSTC Limited   2019-03-29            120   \n",
       "15  Xelpmoc Design and Tech Limited   2019-02-04             66   \n",
       "16            Chalet Hotels Limited   2019-02-07            280   \n",
       "\n",
       "    listing_day_close_price  Listing_day_%change  \n",
       "0                    166.60                -6.40  \n",
       "1                     55.90                51.08  \n",
       "2                    300.10                53.90  \n",
       "3                    728.60               127.69  \n",
       "4                     60.35                 0.58  \n",
       "5                    725.35                -7.01  \n",
       "6                    848.40                -0.89  \n",
       "7                    875.10                17.46  \n",
       "8                   1302.55                33.87  \n",
       "9                    263.55                22.58  \n",
       "10                    19.05                 0.26  \n",
       "11                   655.00                21.75  \n",
       "12                   959.55                 9.04  \n",
       "13                   314.10                 4.70  \n",
       "14                   114.20                -4.83  \n",
       "15                    59.85                -9.32  \n",
       "16                   290.40                 3.71  "
      ]
     },
     "execution_count": 374,
     "metadata": {},
     "output_type": "execute_result"
    }
   ],
   "source": [
    "ipos_2019_1 = pd.read_excel('dataFiles/SME_IPOs_2019_2021.xlsx', sheet_name='2019_1')\n",
    "ipos_2019_1"
   ]
  },
  {
   "cell_type": "code",
   "execution_count": 375,
   "metadata": {},
   "outputs": [
    {
     "data": {
      "application/vnd.microsoft.datawrangler.viewer.v0+json": {
       "columns": [
        {
         "name": "index",
         "rawType": "int64",
         "type": "integer"
        },
        {
         "name": "Company_Name",
         "rawType": "object",
         "type": "string"
        },
        {
         "name": "Listing_date",
         "rawType": "datetime64[ns]",
         "type": "datetime"
        },
        {
         "name": "current_price",
         "rawType": "float64",
         "type": "float"
        },
        {
         "name": "gaain_%",
         "rawType": "float64",
         "type": "float"
        }
       ],
       "ref": "456b5f2c-effc-47c0-8c52-8c7995f8bf96",
       "rows": [
        [
         "0",
         "Prince Pipes and Fittings Ltd",
         "2019-12-30 00:00:00",
         "699.1",
         "292.75"
        ],
        [
         "1",
         "Ujjivan Small Finance Bank Ltd",
         "2019-12-12 00:00:00",
         "19.9",
         "-46.22"
        ],
        [
         "2",
         "CSB Bank Limited",
         "2019-12-04 00:00:00",
         "253.3",
         "29.9"
        ],
        [
         "3",
         "IRCTC Limited",
         "2019-10-14 00:00:00",
         "843.15",
         "1217.42"
        ],
        [
         "4",
         "Vishwaraj Sugar Industries Ltd",
         "2019-10-15 00:00:00",
         "27.05",
         "125.42"
        ],
        [
         "5",
         "Sterling and Wilson Solar Ltd",
         "2019-08-20 00:00:00",
         "377.45",
         "-51.61"
        ],
        [
         "6",
         "Spandana Sphoorty Financial Ltd",
         "2019-08-19 00:00:00",
         "401.65",
         "-53.08"
        ],
        [
         "7",
         "Affle (India",
         "2019-08-08 00:00:00",
         "1333.95",
         "795.27"
        ],
        [
         "8",
         "IndiaMART InterMESH Limited",
         "2019-07-04 00:00:00",
         "6569.7",
         "575.2"
        ],
        [
         "9",
         "Neogen Chemicals Limited",
         "2019-05-08 00:00:00",
         "1837.5",
         "754.65"
        ],
        [
         "10",
         "Rail Vikas Nigam Limited",
         "2019-04-11 00:00:00",
         "35.2",
         "85.26"
        ],
        [
         "11",
         "Polycab India Limited",
         "2019-04-16 00:00:00",
         "2439.55",
         "353.45"
        ],
        [
         "12",
         "Metropolis Healthcare Limited",
         "2019-04-15 00:00:00",
         "3333.9",
         "278.85"
        ],
        [
         "13",
         "Embassy Office Parks",
         "2019-04-01 00:00:00",
         "352.68",
         "17.56"
        ],
        [
         "14",
         "MSTC Limited",
         "2019-03-29 00:00:00",
         "348.3",
         "190.25"
        ],
        [
         "15",
         "Xelpmoc Design and Tech Limited",
         "2019-02-04 00:00:00",
         "399.05",
         "504.62"
        ],
        [
         "16",
         "Chalet Hotels Limited",
         "2019-02-07 00:00:00",
         "224.25",
         "-19.91"
        ]
       ],
       "shape": {
        "columns": 4,
        "rows": 17
       }
      },
      "text/html": [
       "<div>\n",
       "<style scoped>\n",
       "    .dataframe tbody tr th:only-of-type {\n",
       "        vertical-align: middle;\n",
       "    }\n",
       "\n",
       "    .dataframe tbody tr th {\n",
       "        vertical-align: top;\n",
       "    }\n",
       "\n",
       "    .dataframe thead th {\n",
       "        text-align: right;\n",
       "    }\n",
       "</style>\n",
       "<table border=\"1\" class=\"dataframe\">\n",
       "  <thead>\n",
       "    <tr style=\"text-align: right;\">\n",
       "      <th></th>\n",
       "      <th>Company_Name</th>\n",
       "      <th>Listing_date</th>\n",
       "      <th>current_price</th>\n",
       "      <th>gaain_%</th>\n",
       "    </tr>\n",
       "  </thead>\n",
       "  <tbody>\n",
       "    <tr>\n",
       "      <th>0</th>\n",
       "      <td>Prince Pipes and Fittings Ltd</td>\n",
       "      <td>2019-12-30</td>\n",
       "      <td>699.10</td>\n",
       "      <td>292.75</td>\n",
       "    </tr>\n",
       "    <tr>\n",
       "      <th>1</th>\n",
       "      <td>Ujjivan Small Finance Bank Ltd</td>\n",
       "      <td>2019-12-12</td>\n",
       "      <td>19.90</td>\n",
       "      <td>-46.22</td>\n",
       "    </tr>\n",
       "    <tr>\n",
       "      <th>2</th>\n",
       "      <td>CSB Bank Limited</td>\n",
       "      <td>2019-12-04</td>\n",
       "      <td>253.30</td>\n",
       "      <td>29.90</td>\n",
       "    </tr>\n",
       "    <tr>\n",
       "      <th>3</th>\n",
       "      <td>IRCTC Limited</td>\n",
       "      <td>2019-10-14</td>\n",
       "      <td>843.15</td>\n",
       "      <td>1217.42</td>\n",
       "    </tr>\n",
       "    <tr>\n",
       "      <th>4</th>\n",
       "      <td>Vishwaraj Sugar Industries Ltd</td>\n",
       "      <td>2019-10-15</td>\n",
       "      <td>27.05</td>\n",
       "      <td>125.42</td>\n",
       "    </tr>\n",
       "    <tr>\n",
       "      <th>5</th>\n",
       "      <td>Sterling and Wilson Solar Ltd</td>\n",
       "      <td>2019-08-20</td>\n",
       "      <td>377.45</td>\n",
       "      <td>-51.61</td>\n",
       "    </tr>\n",
       "    <tr>\n",
       "      <th>6</th>\n",
       "      <td>Spandana Sphoorty Financial Ltd</td>\n",
       "      <td>2019-08-19</td>\n",
       "      <td>401.65</td>\n",
       "      <td>-53.08</td>\n",
       "    </tr>\n",
       "    <tr>\n",
       "      <th>7</th>\n",
       "      <td>Affle (India</td>\n",
       "      <td>2019-08-08</td>\n",
       "      <td>1333.95</td>\n",
       "      <td>795.27</td>\n",
       "    </tr>\n",
       "    <tr>\n",
       "      <th>8</th>\n",
       "      <td>IndiaMART InterMESH Limited</td>\n",
       "      <td>2019-07-04</td>\n",
       "      <td>6569.70</td>\n",
       "      <td>575.20</td>\n",
       "    </tr>\n",
       "    <tr>\n",
       "      <th>9</th>\n",
       "      <td>Neogen Chemicals Limited</td>\n",
       "      <td>2019-05-08</td>\n",
       "      <td>1837.50</td>\n",
       "      <td>754.65</td>\n",
       "    </tr>\n",
       "    <tr>\n",
       "      <th>10</th>\n",
       "      <td>Rail Vikas Nigam Limited</td>\n",
       "      <td>2019-04-11</td>\n",
       "      <td>35.20</td>\n",
       "      <td>85.26</td>\n",
       "    </tr>\n",
       "    <tr>\n",
       "      <th>11</th>\n",
       "      <td>Polycab India Limited</td>\n",
       "      <td>2019-04-16</td>\n",
       "      <td>2439.55</td>\n",
       "      <td>353.45</td>\n",
       "    </tr>\n",
       "    <tr>\n",
       "      <th>12</th>\n",
       "      <td>Metropolis Healthcare Limited</td>\n",
       "      <td>2019-04-15</td>\n",
       "      <td>3333.90</td>\n",
       "      <td>278.85</td>\n",
       "    </tr>\n",
       "    <tr>\n",
       "      <th>13</th>\n",
       "      <td>Embassy Office Parks</td>\n",
       "      <td>2019-04-01</td>\n",
       "      <td>352.68</td>\n",
       "      <td>17.56</td>\n",
       "    </tr>\n",
       "    <tr>\n",
       "      <th>14</th>\n",
       "      <td>MSTC Limited</td>\n",
       "      <td>2019-03-29</td>\n",
       "      <td>348.30</td>\n",
       "      <td>190.25</td>\n",
       "    </tr>\n",
       "    <tr>\n",
       "      <th>15</th>\n",
       "      <td>Xelpmoc Design and Tech Limited</td>\n",
       "      <td>2019-02-04</td>\n",
       "      <td>399.05</td>\n",
       "      <td>504.62</td>\n",
       "    </tr>\n",
       "    <tr>\n",
       "      <th>16</th>\n",
       "      <td>Chalet Hotels Limited</td>\n",
       "      <td>2019-02-07</td>\n",
       "      <td>224.25</td>\n",
       "      <td>-19.91</td>\n",
       "    </tr>\n",
       "  </tbody>\n",
       "</table>\n",
       "</div>"
      ],
      "text/plain": [
       "                       Company_Name Listing_date  current_price  gaain_%\n",
       "0     Prince Pipes and Fittings Ltd   2019-12-30         699.10   292.75\n",
       "1    Ujjivan Small Finance Bank Ltd   2019-12-12          19.90   -46.22\n",
       "2                  CSB Bank Limited   2019-12-04         253.30    29.90\n",
       "3                     IRCTC Limited   2019-10-14         843.15  1217.42\n",
       "4    Vishwaraj Sugar Industries Ltd   2019-10-15          27.05   125.42\n",
       "5     Sterling and Wilson Solar Ltd   2019-08-20         377.45   -51.61\n",
       "6   Spandana Sphoorty Financial Ltd   2019-08-19         401.65   -53.08\n",
       "7                      Affle (India   2019-08-08        1333.95   795.27\n",
       "8       IndiaMART InterMESH Limited   2019-07-04        6569.70   575.20\n",
       "9          Neogen Chemicals Limited   2019-05-08        1837.50   754.65\n",
       "10         Rail Vikas Nigam Limited   2019-04-11          35.20    85.26\n",
       "11            Polycab India Limited   2019-04-16        2439.55   353.45\n",
       "12    Metropolis Healthcare Limited   2019-04-15        3333.90   278.85\n",
       "13             Embassy Office Parks   2019-04-01         352.68    17.56\n",
       "14                     MSTC Limited   2019-03-29         348.30   190.25\n",
       "15  Xelpmoc Design and Tech Limited   2019-02-04         399.05   504.62\n",
       "16            Chalet Hotels Limited   2019-02-07         224.25   -19.91"
      ]
     },
     "execution_count": 375,
     "metadata": {},
     "output_type": "execute_result"
    }
   ],
   "source": [
    "ipos_2019_2 = pd.read_excel('dataFiles/SME_IPOs_2019_2021.xlsx', sheet_name='2019_2')\n",
    "ipos_2019_2"
   ]
  },
  {
   "cell_type": "code",
   "execution_count": 376,
   "metadata": {},
   "outputs": [],
   "source": [
    "# The two data frames have two common columns:\n",
    "#'Company_Name' and 'Listing_date'. Here is how we merge these two data frames:"
   ]
  },
  {
   "cell_type": "code",
   "execution_count": 377,
   "metadata": {},
   "outputs": [
    {
     "data": {
      "application/vnd.microsoft.datawrangler.viewer.v0+json": {
       "columns": [
        {
         "name": "index",
         "rawType": "int64",
         "type": "integer"
        },
        {
         "name": "Company_Name",
         "rawType": "object",
         "type": "string"
        },
        {
         "name": "Listing_date_x",
         "rawType": "datetime64[ns]",
         "type": "datetime"
        },
        {
         "name": "Issue Price  ",
         "rawType": "int64",
         "type": "integer"
        },
        {
         "name": "listing_day_close_price",
         "rawType": "float64",
         "type": "float"
        },
        {
         "name": "Listing_day_%change",
         "rawType": "float64",
         "type": "float"
        },
        {
         "name": "Listing_date_y",
         "rawType": "datetime64[ns]",
         "type": "datetime"
        },
        {
         "name": "current_price",
         "rawType": "float64",
         "type": "float"
        },
        {
         "name": "gaain_%",
         "rawType": "float64",
         "type": "float"
        }
       ],
       "ref": "962315a4-28fc-4383-90d3-3f6b8a9905a9",
       "rows": [
        [
         "0",
         "Prince Pipes and Fittings Ltd",
         "2019-12-30 00:00:00",
         "178",
         "166.6",
         "-6.4",
         "2019-12-30 00:00:00",
         "699.1",
         "292.75"
        ],
        [
         "1",
         "Ujjivan Small Finance Bank Ltd",
         "2019-12-12 00:00:00",
         "37",
         "55.9",
         "51.08",
         "2019-12-12 00:00:00",
         "19.9",
         "-46.22"
        ],
        [
         "2",
         "CSB Bank Limited",
         "2019-12-04 00:00:00",
         "195",
         "300.1",
         "53.9",
         "2019-12-04 00:00:00",
         "253.3",
         "29.9"
        ],
        [
         "3",
         "IRCTC Limited",
         "2019-10-14 00:00:00",
         "320",
         "728.6",
         "127.69",
         "2019-10-14 00:00:00",
         "843.15",
         "1217.42"
        ],
        [
         "4",
         "Vishwaraj Sugar Industries Ltd",
         "2019-10-15 00:00:00",
         "60",
         "60.35",
         "0.58",
         "2019-10-15 00:00:00",
         "27.05",
         "125.42"
        ],
        [
         "5",
         "Sterling and Wilson Solar Ltd",
         "2019-08-20 00:00:00",
         "780",
         "725.35",
         "-7.01",
         "2019-08-20 00:00:00",
         "377.45",
         "-51.61"
        ],
        [
         "6",
         "Spandana Sphoorty Financial Ltd",
         "2019-08-19 00:00:00",
         "856",
         "848.4",
         "-0.89",
         "2019-08-19 00:00:00",
         "401.65",
         "-53.08"
        ],
        [
         "7",
         "Affle (India",
         "2019-08-08 00:00:00",
         "745",
         "875.1",
         "17.46",
         "2019-08-08 00:00:00",
         "1333.95",
         "795.27"
        ],
        [
         "8",
         "IndiaMART InterMESH Limited",
         "2019-07-04 00:00:00",
         "973",
         "1302.55",
         "33.87",
         "2019-07-04 00:00:00",
         "6569.7",
         "575.2"
        ],
        [
         "9",
         "Neogen Chemicals Limited",
         "2019-05-08 00:00:00",
         "215",
         "263.55",
         "22.58",
         "2019-05-08 00:00:00",
         "1837.5",
         "754.65"
        ],
        [
         "10",
         "Rail Vikas Nigam Limited",
         "2019-04-11 00:00:00",
         "19",
         "19.05",
         "0.26",
         "2019-04-11 00:00:00",
         "35.2",
         "85.26"
        ],
        [
         "11",
         "Polycab India Limited",
         "2019-04-16 00:00:00",
         "538",
         "655.0",
         "21.75",
         "2019-04-16 00:00:00",
         "2439.55",
         "353.45"
        ],
        [
         "12",
         "Metropolis Healthcare Limited",
         "2019-04-15 00:00:00",
         "880",
         "959.55",
         "9.04",
         "2019-04-15 00:00:00",
         "3333.9",
         "278.85"
        ],
        [
         "13",
         "Embassy Office Parks",
         "2019-04-01 00:00:00",
         "300",
         "314.1",
         "4.7",
         "2019-04-01 00:00:00",
         "352.68",
         "17.56"
        ],
        [
         "14",
         "MSTC Limited",
         "2019-03-29 00:00:00",
         "120",
         "114.2",
         "-4.83",
         "2019-03-29 00:00:00",
         "348.3",
         "190.25"
        ],
        [
         "15",
         "Xelpmoc Design and Tech Limited",
         "2019-02-04 00:00:00",
         "66",
         "59.85",
         "-9.32",
         "2019-02-04 00:00:00",
         "399.05",
         "504.62"
        ],
        [
         "16",
         "Chalet Hotels Limited",
         "2019-02-07 00:00:00",
         "280",
         "290.4",
         "3.71",
         "2019-02-07 00:00:00",
         "224.25",
         "-19.91"
        ]
       ],
       "shape": {
        "columns": 8,
        "rows": 17
       }
      },
      "text/html": [
       "<div>\n",
       "<style scoped>\n",
       "    .dataframe tbody tr th:only-of-type {\n",
       "        vertical-align: middle;\n",
       "    }\n",
       "\n",
       "    .dataframe tbody tr th {\n",
       "        vertical-align: top;\n",
       "    }\n",
       "\n",
       "    .dataframe thead th {\n",
       "        text-align: right;\n",
       "    }\n",
       "</style>\n",
       "<table border=\"1\" class=\"dataframe\">\n",
       "  <thead>\n",
       "    <tr style=\"text-align: right;\">\n",
       "      <th></th>\n",
       "      <th>Company_Name</th>\n",
       "      <th>Listing_date_x</th>\n",
       "      <th>Issue Price</th>\n",
       "      <th>listing_day_close_price</th>\n",
       "      <th>Listing_day_%change</th>\n",
       "      <th>Listing_date_y</th>\n",
       "      <th>current_price</th>\n",
       "      <th>gaain_%</th>\n",
       "    </tr>\n",
       "  </thead>\n",
       "  <tbody>\n",
       "    <tr>\n",
       "      <th>0</th>\n",
       "      <td>Prince Pipes and Fittings Ltd</td>\n",
       "      <td>2019-12-30</td>\n",
       "      <td>178</td>\n",
       "      <td>166.60</td>\n",
       "      <td>-6.40</td>\n",
       "      <td>2019-12-30</td>\n",
       "      <td>699.10</td>\n",
       "      <td>292.75</td>\n",
       "    </tr>\n",
       "    <tr>\n",
       "      <th>1</th>\n",
       "      <td>Ujjivan Small Finance Bank Ltd</td>\n",
       "      <td>2019-12-12</td>\n",
       "      <td>37</td>\n",
       "      <td>55.90</td>\n",
       "      <td>51.08</td>\n",
       "      <td>2019-12-12</td>\n",
       "      <td>19.90</td>\n",
       "      <td>-46.22</td>\n",
       "    </tr>\n",
       "    <tr>\n",
       "      <th>2</th>\n",
       "      <td>CSB Bank Limited</td>\n",
       "      <td>2019-12-04</td>\n",
       "      <td>195</td>\n",
       "      <td>300.10</td>\n",
       "      <td>53.90</td>\n",
       "      <td>2019-12-04</td>\n",
       "      <td>253.30</td>\n",
       "      <td>29.90</td>\n",
       "    </tr>\n",
       "    <tr>\n",
       "      <th>3</th>\n",
       "      <td>IRCTC Limited</td>\n",
       "      <td>2019-10-14</td>\n",
       "      <td>320</td>\n",
       "      <td>728.60</td>\n",
       "      <td>127.69</td>\n",
       "      <td>2019-10-14</td>\n",
       "      <td>843.15</td>\n",
       "      <td>1217.42</td>\n",
       "    </tr>\n",
       "    <tr>\n",
       "      <th>4</th>\n",
       "      <td>Vishwaraj Sugar Industries Ltd</td>\n",
       "      <td>2019-10-15</td>\n",
       "      <td>60</td>\n",
       "      <td>60.35</td>\n",
       "      <td>0.58</td>\n",
       "      <td>2019-10-15</td>\n",
       "      <td>27.05</td>\n",
       "      <td>125.42</td>\n",
       "    </tr>\n",
       "    <tr>\n",
       "      <th>5</th>\n",
       "      <td>Sterling and Wilson Solar Ltd</td>\n",
       "      <td>2019-08-20</td>\n",
       "      <td>780</td>\n",
       "      <td>725.35</td>\n",
       "      <td>-7.01</td>\n",
       "      <td>2019-08-20</td>\n",
       "      <td>377.45</td>\n",
       "      <td>-51.61</td>\n",
       "    </tr>\n",
       "    <tr>\n",
       "      <th>6</th>\n",
       "      <td>Spandana Sphoorty Financial Ltd</td>\n",
       "      <td>2019-08-19</td>\n",
       "      <td>856</td>\n",
       "      <td>848.40</td>\n",
       "      <td>-0.89</td>\n",
       "      <td>2019-08-19</td>\n",
       "      <td>401.65</td>\n",
       "      <td>-53.08</td>\n",
       "    </tr>\n",
       "    <tr>\n",
       "      <th>7</th>\n",
       "      <td>Affle (India</td>\n",
       "      <td>2019-08-08</td>\n",
       "      <td>745</td>\n",
       "      <td>875.10</td>\n",
       "      <td>17.46</td>\n",
       "      <td>2019-08-08</td>\n",
       "      <td>1333.95</td>\n",
       "      <td>795.27</td>\n",
       "    </tr>\n",
       "    <tr>\n",
       "      <th>8</th>\n",
       "      <td>IndiaMART InterMESH Limited</td>\n",
       "      <td>2019-07-04</td>\n",
       "      <td>973</td>\n",
       "      <td>1302.55</td>\n",
       "      <td>33.87</td>\n",
       "      <td>2019-07-04</td>\n",
       "      <td>6569.70</td>\n",
       "      <td>575.20</td>\n",
       "    </tr>\n",
       "    <tr>\n",
       "      <th>9</th>\n",
       "      <td>Neogen Chemicals Limited</td>\n",
       "      <td>2019-05-08</td>\n",
       "      <td>215</td>\n",
       "      <td>263.55</td>\n",
       "      <td>22.58</td>\n",
       "      <td>2019-05-08</td>\n",
       "      <td>1837.50</td>\n",
       "      <td>754.65</td>\n",
       "    </tr>\n",
       "    <tr>\n",
       "      <th>10</th>\n",
       "      <td>Rail Vikas Nigam Limited</td>\n",
       "      <td>2019-04-11</td>\n",
       "      <td>19</td>\n",
       "      <td>19.05</td>\n",
       "      <td>0.26</td>\n",
       "      <td>2019-04-11</td>\n",
       "      <td>35.20</td>\n",
       "      <td>85.26</td>\n",
       "    </tr>\n",
       "    <tr>\n",
       "      <th>11</th>\n",
       "      <td>Polycab India Limited</td>\n",
       "      <td>2019-04-16</td>\n",
       "      <td>538</td>\n",
       "      <td>655.00</td>\n",
       "      <td>21.75</td>\n",
       "      <td>2019-04-16</td>\n",
       "      <td>2439.55</td>\n",
       "      <td>353.45</td>\n",
       "    </tr>\n",
       "    <tr>\n",
       "      <th>12</th>\n",
       "      <td>Metropolis Healthcare Limited</td>\n",
       "      <td>2019-04-15</td>\n",
       "      <td>880</td>\n",
       "      <td>959.55</td>\n",
       "      <td>9.04</td>\n",
       "      <td>2019-04-15</td>\n",
       "      <td>3333.90</td>\n",
       "      <td>278.85</td>\n",
       "    </tr>\n",
       "    <tr>\n",
       "      <th>13</th>\n",
       "      <td>Embassy Office Parks</td>\n",
       "      <td>2019-04-01</td>\n",
       "      <td>300</td>\n",
       "      <td>314.10</td>\n",
       "      <td>4.70</td>\n",
       "      <td>2019-04-01</td>\n",
       "      <td>352.68</td>\n",
       "      <td>17.56</td>\n",
       "    </tr>\n",
       "    <tr>\n",
       "      <th>14</th>\n",
       "      <td>MSTC Limited</td>\n",
       "      <td>2019-03-29</td>\n",
       "      <td>120</td>\n",
       "      <td>114.20</td>\n",
       "      <td>-4.83</td>\n",
       "      <td>2019-03-29</td>\n",
       "      <td>348.30</td>\n",
       "      <td>190.25</td>\n",
       "    </tr>\n",
       "    <tr>\n",
       "      <th>15</th>\n",
       "      <td>Xelpmoc Design and Tech Limited</td>\n",
       "      <td>2019-02-04</td>\n",
       "      <td>66</td>\n",
       "      <td>59.85</td>\n",
       "      <td>-9.32</td>\n",
       "      <td>2019-02-04</td>\n",
       "      <td>399.05</td>\n",
       "      <td>504.62</td>\n",
       "    </tr>\n",
       "    <tr>\n",
       "      <th>16</th>\n",
       "      <td>Chalet Hotels Limited</td>\n",
       "      <td>2019-02-07</td>\n",
       "      <td>280</td>\n",
       "      <td>290.40</td>\n",
       "      <td>3.71</td>\n",
       "      <td>2019-02-07</td>\n",
       "      <td>224.25</td>\n",
       "      <td>-19.91</td>\n",
       "    </tr>\n",
       "  </tbody>\n",
       "</table>\n",
       "</div>"
      ],
      "text/plain": [
       "                       Company_Name Listing_date_x  Issue Price    \\\n",
       "0     Prince Pipes and Fittings Ltd     2019-12-30            178   \n",
       "1    Ujjivan Small Finance Bank Ltd     2019-12-12             37   \n",
       "2                  CSB Bank Limited     2019-12-04            195   \n",
       "3                     IRCTC Limited     2019-10-14            320   \n",
       "4    Vishwaraj Sugar Industries Ltd     2019-10-15             60   \n",
       "5     Sterling and Wilson Solar Ltd     2019-08-20            780   \n",
       "6   Spandana Sphoorty Financial Ltd     2019-08-19            856   \n",
       "7                      Affle (India     2019-08-08            745   \n",
       "8       IndiaMART InterMESH Limited     2019-07-04            973   \n",
       "9          Neogen Chemicals Limited     2019-05-08            215   \n",
       "10         Rail Vikas Nigam Limited     2019-04-11             19   \n",
       "11            Polycab India Limited     2019-04-16            538   \n",
       "12    Metropolis Healthcare Limited     2019-04-15            880   \n",
       "13             Embassy Office Parks     2019-04-01            300   \n",
       "14                     MSTC Limited     2019-03-29            120   \n",
       "15  Xelpmoc Design and Tech Limited     2019-02-04             66   \n",
       "16            Chalet Hotels Limited     2019-02-07            280   \n",
       "\n",
       "    listing_day_close_price  Listing_day_%change Listing_date_y  \\\n",
       "0                    166.60                -6.40     2019-12-30   \n",
       "1                     55.90                51.08     2019-12-12   \n",
       "2                    300.10                53.90     2019-12-04   \n",
       "3                    728.60               127.69     2019-10-14   \n",
       "4                     60.35                 0.58     2019-10-15   \n",
       "5                    725.35                -7.01     2019-08-20   \n",
       "6                    848.40                -0.89     2019-08-19   \n",
       "7                    875.10                17.46     2019-08-08   \n",
       "8                   1302.55                33.87     2019-07-04   \n",
       "9                    263.55                22.58     2019-05-08   \n",
       "10                    19.05                 0.26     2019-04-11   \n",
       "11                   655.00                21.75     2019-04-16   \n",
       "12                   959.55                 9.04     2019-04-15   \n",
       "13                   314.10                 4.70     2019-04-01   \n",
       "14                   114.20                -4.83     2019-03-29   \n",
       "15                    59.85                -9.32     2019-02-04   \n",
       "16                   290.40                 3.71     2019-02-07   \n",
       "\n",
       "    current_price  gaain_%  \n",
       "0          699.10   292.75  \n",
       "1           19.90   -46.22  \n",
       "2          253.30    29.90  \n",
       "3          843.15  1217.42  \n",
       "4           27.05   125.42  \n",
       "5          377.45   -51.61  \n",
       "6          401.65   -53.08  \n",
       "7         1333.95   795.27  \n",
       "8         6569.70   575.20  \n",
       "9         1837.50   754.65  \n",
       "10          35.20    85.26  \n",
       "11        2439.55   353.45  \n",
       "12        3333.90   278.85  \n",
       "13         352.68    17.56  \n",
       "14         348.30   190.25  \n",
       "15         399.05   504.62  \n",
       "16         224.25   -19.91  "
      ]
     },
     "execution_count": 377,
     "metadata": {},
     "output_type": "execute_result"
    }
   ],
   "source": [
    "ipos_2019 = pd.merge(ipos_2019_1, ipos_2019_2, on = 'Company_Name')\n",
    "ipos_2019"
   ]
  },
  {
   "cell_type": "code",
   "execution_count": 378,
   "metadata": {},
   "outputs": [
    {
     "data": {
      "text/plain": [
       "(17, 8)"
      ]
     },
     "execution_count": 378,
     "metadata": {},
     "output_type": "execute_result"
    }
   ],
   "source": [
    "ipos_2019.shape"
   ]
  },
  {
   "cell_type": "code",
   "execution_count": 379,
   "metadata": {},
   "outputs": [],
   "source": [
    "# Note that this merge statement retained the listing_date in both data\n",
    "# frames with attaching x to the name of the first and y to the name of the second. \n",
    "# We can merge on both columns in the data frames¶"
   ]
  },
  {
   "cell_type": "code",
   "execution_count": 380,
   "metadata": {},
   "outputs": [
    {
     "data": {
      "text/plain": [
       "(17, 7)"
      ]
     },
     "execution_count": 380,
     "metadata": {},
     "output_type": "execute_result"
    }
   ],
   "source": [
    "ipos_2019 = pd.merge(ipos_2019_1, ipos_2019_2, \n",
    "                     left_on = ['Company_Name','Listing_date'] ,\n",
    "                     right_on= ['Company_Name','Listing_date'] )\n",
    "ipos_2019.shape"
   ]
  },
  {
   "cell_type": "code",
   "execution_count": 381,
   "metadata": {},
   "outputs": [
    {
     "data": {
      "application/vnd.microsoft.datawrangler.viewer.v0+json": {
       "columns": [
        {
         "name": "index",
         "rawType": "int64",
         "type": "integer"
        },
        {
         "name": "Company_Name",
         "rawType": "object",
         "type": "string"
        },
        {
         "name": "Listing_date",
         "rawType": "datetime64[ns]",
         "type": "datetime"
        },
        {
         "name": "Issue Price  ",
         "rawType": "int64",
         "type": "integer"
        },
        {
         "name": "listing_day_close_price",
         "rawType": "float64",
         "type": "float"
        },
        {
         "name": "Listing_day_%change",
         "rawType": "float64",
         "type": "float"
        },
        {
         "name": "current_price",
         "rawType": "float64",
         "type": "float"
        },
        {
         "name": "gaain_%",
         "rawType": "float64",
         "type": "float"
        }
       ],
       "ref": "fd6647a8-0d70-4cca-92c5-50cc646bf747",
       "rows": [
        [
         "0",
         "Prince Pipes and Fittings Ltd",
         "2019-12-30 00:00:00",
         "178",
         "166.6",
         "-6.4",
         "699.1",
         "292.75"
        ],
        [
         "1",
         "Ujjivan Small Finance Bank Ltd",
         "2019-12-12 00:00:00",
         "37",
         "55.9",
         "51.08",
         "19.9",
         "-46.22"
        ],
        [
         "2",
         "CSB Bank Limited",
         "2019-12-04 00:00:00",
         "195",
         "300.1",
         "53.9",
         "253.3",
         "29.9"
        ],
        [
         "3",
         "IRCTC Limited",
         "2019-10-14 00:00:00",
         "320",
         "728.6",
         "127.69",
         "843.15",
         "1217.42"
        ],
        [
         "4",
         "Vishwaraj Sugar Industries Ltd",
         "2019-10-15 00:00:00",
         "60",
         "60.35",
         "0.58",
         "27.05",
         "125.42"
        ]
       ],
       "shape": {
        "columns": 7,
        "rows": 5
       }
      },
      "text/html": [
       "<div>\n",
       "<style scoped>\n",
       "    .dataframe tbody tr th:only-of-type {\n",
       "        vertical-align: middle;\n",
       "    }\n",
       "\n",
       "    .dataframe tbody tr th {\n",
       "        vertical-align: top;\n",
       "    }\n",
       "\n",
       "    .dataframe thead th {\n",
       "        text-align: right;\n",
       "    }\n",
       "</style>\n",
       "<table border=\"1\" class=\"dataframe\">\n",
       "  <thead>\n",
       "    <tr style=\"text-align: right;\">\n",
       "      <th></th>\n",
       "      <th>Company_Name</th>\n",
       "      <th>Listing_date</th>\n",
       "      <th>Issue Price</th>\n",
       "      <th>listing_day_close_price</th>\n",
       "      <th>Listing_day_%change</th>\n",
       "      <th>current_price</th>\n",
       "      <th>gaain_%</th>\n",
       "    </tr>\n",
       "  </thead>\n",
       "  <tbody>\n",
       "    <tr>\n",
       "      <th>0</th>\n",
       "      <td>Prince Pipes and Fittings Ltd</td>\n",
       "      <td>2019-12-30</td>\n",
       "      <td>178</td>\n",
       "      <td>166.60</td>\n",
       "      <td>-6.40</td>\n",
       "      <td>699.10</td>\n",
       "      <td>292.75</td>\n",
       "    </tr>\n",
       "    <tr>\n",
       "      <th>1</th>\n",
       "      <td>Ujjivan Small Finance Bank Ltd</td>\n",
       "      <td>2019-12-12</td>\n",
       "      <td>37</td>\n",
       "      <td>55.90</td>\n",
       "      <td>51.08</td>\n",
       "      <td>19.90</td>\n",
       "      <td>-46.22</td>\n",
       "    </tr>\n",
       "    <tr>\n",
       "      <th>2</th>\n",
       "      <td>CSB Bank Limited</td>\n",
       "      <td>2019-12-04</td>\n",
       "      <td>195</td>\n",
       "      <td>300.10</td>\n",
       "      <td>53.90</td>\n",
       "      <td>253.30</td>\n",
       "      <td>29.90</td>\n",
       "    </tr>\n",
       "    <tr>\n",
       "      <th>3</th>\n",
       "      <td>IRCTC Limited</td>\n",
       "      <td>2019-10-14</td>\n",
       "      <td>320</td>\n",
       "      <td>728.60</td>\n",
       "      <td>127.69</td>\n",
       "      <td>843.15</td>\n",
       "      <td>1217.42</td>\n",
       "    </tr>\n",
       "    <tr>\n",
       "      <th>4</th>\n",
       "      <td>Vishwaraj Sugar Industries Ltd</td>\n",
       "      <td>2019-10-15</td>\n",
       "      <td>60</td>\n",
       "      <td>60.35</td>\n",
       "      <td>0.58</td>\n",
       "      <td>27.05</td>\n",
       "      <td>125.42</td>\n",
       "    </tr>\n",
       "  </tbody>\n",
       "</table>\n",
       "</div>"
      ],
      "text/plain": [
       "                     Company_Name Listing_date  Issue Price    \\\n",
       "0   Prince Pipes and Fittings Ltd   2019-12-30            178   \n",
       "1  Ujjivan Small Finance Bank Ltd   2019-12-12             37   \n",
       "2                CSB Bank Limited   2019-12-04            195   \n",
       "3                   IRCTC Limited   2019-10-14            320   \n",
       "4  Vishwaraj Sugar Industries Ltd   2019-10-15             60   \n",
       "\n",
       "   listing_day_close_price  Listing_day_%change  current_price  gaain_%  \n",
       "0                   166.60                -6.40         699.10   292.75  \n",
       "1                    55.90                51.08          19.90   -46.22  \n",
       "2                   300.10                53.90         253.30    29.90  \n",
       "3                   728.60               127.69         843.15  1217.42  \n",
       "4                    60.35                 0.58          27.05   125.42  "
      ]
     },
     "execution_count": 381,
     "metadata": {},
     "output_type": "execute_result"
    }
   ],
   "source": [
    "ipos_2019.head()"
   ]
  },
  {
   "cell_type": "code",
   "execution_count": 382,
   "metadata": {},
   "outputs": [],
   "source": [
    "#6. Concatenating data frames\n",
    "# here we need to create a data frame that include IPOS in 2019,2020,2021\n",
    "# Let us start by reading the relevand data frames"
   ]
  },
  {
   "cell_type": "code",
   "execution_count": 384,
   "metadata": {},
   "outputs": [
    {
     "data": {
      "application/vnd.microsoft.datawrangler.viewer.v0+json": {
       "columns": [
        {
         "name": "index",
         "rawType": "int64",
         "type": "integer"
        },
        {
         "name": "Company_Name",
         "rawType": "object",
         "type": "string"
        },
        {
         "name": "Listing_date",
         "rawType": "datetime64[ns]",
         "type": "datetime"
        },
        {
         "name": "Issue Price  ",
         "rawType": "int64",
         "type": "integer"
        },
        {
         "name": "listing_day_close_price",
         "rawType": "float64",
         "type": "float"
        },
        {
         "name": "Listing_day_%change",
         "rawType": "float64",
         "type": "float"
        },
        {
         "name": "current_price",
         "rawType": "float64",
         "type": "float"
        },
        {
         "name": "gaain_%",
         "rawType": "float64",
         "type": "float"
        }
       ],
       "ref": "eff7a614-ff7a-4009-9851-6129845253e8",
       "rows": [
        [
         "0",
         "Mrs. Bectors Food Specialities Limited",
         "2020-12-24 00:00:00",
         "288",
         "595.55",
         "106.79",
         "378.5",
         "31.42"
        ],
        [
         "1",
         "Burger King India Limited",
         "2020-12-14 00:00:00",
         "60",
         "138.4",
         "130.67",
         "138.75",
         "131.25"
        ],
        [
         "2",
         "Gland Pharma Limited",
         "2020-11-20 00:00:00",
         "1500",
         "1820.45",
         "21.36",
         "3955.85",
         "163.72"
        ],
        [
         "3",
         "Mazagon Dock Shipbuilders Limited",
         "2020-10-12 00:00:00",
         "145",
         "173.0",
         "19.31",
         "279.5",
         "92.76"
        ],
        [
         "4",
         "Likhitha Infrastructure Ltd",
         "2020-10-15 00:00:00",
         "120",
         "136.6",
         "13.83",
         "348.7",
         "190.58"
        ]
       ],
       "shape": {
        "columns": 7,
        "rows": 5
       }
      },
      "text/html": [
       "<div>\n",
       "<style scoped>\n",
       "    .dataframe tbody tr th:only-of-type {\n",
       "        vertical-align: middle;\n",
       "    }\n",
       "\n",
       "    .dataframe tbody tr th {\n",
       "        vertical-align: top;\n",
       "    }\n",
       "\n",
       "    .dataframe thead th {\n",
       "        text-align: right;\n",
       "    }\n",
       "</style>\n",
       "<table border=\"1\" class=\"dataframe\">\n",
       "  <thead>\n",
       "    <tr style=\"text-align: right;\">\n",
       "      <th></th>\n",
       "      <th>Company_Name</th>\n",
       "      <th>Listing_date</th>\n",
       "      <th>Issue Price</th>\n",
       "      <th>listing_day_close_price</th>\n",
       "      <th>Listing_day_%change</th>\n",
       "      <th>current_price</th>\n",
       "      <th>gaain_%</th>\n",
       "    </tr>\n",
       "  </thead>\n",
       "  <tbody>\n",
       "    <tr>\n",
       "      <th>0</th>\n",
       "      <td>Mrs. Bectors Food Specialities Limited</td>\n",
       "      <td>2020-12-24</td>\n",
       "      <td>288</td>\n",
       "      <td>595.55</td>\n",
       "      <td>106.79</td>\n",
       "      <td>378.50</td>\n",
       "      <td>31.42</td>\n",
       "    </tr>\n",
       "    <tr>\n",
       "      <th>1</th>\n",
       "      <td>Burger King India Limited</td>\n",
       "      <td>2020-12-14</td>\n",
       "      <td>60</td>\n",
       "      <td>138.40</td>\n",
       "      <td>130.67</td>\n",
       "      <td>138.75</td>\n",
       "      <td>131.25</td>\n",
       "    </tr>\n",
       "    <tr>\n",
       "      <th>2</th>\n",
       "      <td>Gland Pharma Limited</td>\n",
       "      <td>2020-11-20</td>\n",
       "      <td>1500</td>\n",
       "      <td>1820.45</td>\n",
       "      <td>21.36</td>\n",
       "      <td>3955.85</td>\n",
       "      <td>163.72</td>\n",
       "    </tr>\n",
       "    <tr>\n",
       "      <th>3</th>\n",
       "      <td>Mazagon Dock Shipbuilders Limited</td>\n",
       "      <td>2020-10-12</td>\n",
       "      <td>145</td>\n",
       "      <td>173.00</td>\n",
       "      <td>19.31</td>\n",
       "      <td>279.50</td>\n",
       "      <td>92.76</td>\n",
       "    </tr>\n",
       "    <tr>\n",
       "      <th>4</th>\n",
       "      <td>Likhitha Infrastructure Ltd</td>\n",
       "      <td>2020-10-15</td>\n",
       "      <td>120</td>\n",
       "      <td>136.60</td>\n",
       "      <td>13.83</td>\n",
       "      <td>348.70</td>\n",
       "      <td>190.58</td>\n",
       "    </tr>\n",
       "  </tbody>\n",
       "</table>\n",
       "</div>"
      ],
      "text/plain": [
       "                             Company_Name Listing_date  Issue Price    \\\n",
       "0  Mrs. Bectors Food Specialities Limited   2020-12-24            288   \n",
       "1               Burger King India Limited   2020-12-14             60   \n",
       "2                    Gland Pharma Limited   2020-11-20           1500   \n",
       "3       Mazagon Dock Shipbuilders Limited   2020-10-12            145   \n",
       "4             Likhitha Infrastructure Ltd   2020-10-15            120   \n",
       "\n",
       "   listing_day_close_price  Listing_day_%change  current_price  gaain_%  \n",
       "0                   595.55               106.79         378.50    31.42  \n",
       "1                   138.40               130.67         138.75   131.25  \n",
       "2                  1820.45                21.36        3955.85   163.72  \n",
       "3                   173.00                19.31         279.50    92.76  \n",
       "4                   136.60                13.83         348.70   190.58  "
      ]
     },
     "execution_count": 384,
     "metadata": {},
     "output_type": "execute_result"
    }
   ],
   "source": [
    "ipos_2020 = pd.read_excel('dataFiles/SME_IPOs_2019_2021.xlsx', sheet_name='2020')\n",
    "ipos_2020.head()"
   ]
  },
  {
   "cell_type": "code",
   "execution_count": null,
   "metadata": {},
   "outputs": [],
   "source": [
    "#Note that this data frame includes the same columns as ipos_2019"
   ]
  },
  {
   "cell_type": "code",
   "execution_count": null,
   "metadata": {},
   "outputs": [
    {
     "name": "stdout",
     "output_type": "stream",
     "text": [
      "(17, 7) (16, 7)\n"
     ]
    }
   ],
   "source": [
    "print(ipos_2019.shape, ipos_2020.shape)"
   ]
  },
  {
   "cell_type": "code",
   "execution_count": null,
   "metadata": {},
   "outputs": [
    {
     "data": {
      "text/html": [
       "<div>\n",
       "<style scoped>\n",
       "    .dataframe tbody tr th:only-of-type {\n",
       "        vertical-align: middle;\n",
       "    }\n",
       "\n",
       "    .dataframe tbody tr th {\n",
       "        vertical-align: top;\n",
       "    }\n",
       "\n",
       "    .dataframe thead th {\n",
       "        text-align: right;\n",
       "    }\n",
       "</style>\n",
       "<table border=\"1\" class=\"dataframe\">\n",
       "  <thead>\n",
       "    <tr style=\"text-align: right;\">\n",
       "      <th></th>\n",
       "      <th>Company_Name</th>\n",
       "      <th>Listing_date</th>\n",
       "      <th>Issue Price</th>\n",
       "      <th>listing_day_close_price</th>\n",
       "      <th>Listing_day_%change</th>\n",
       "      <th>current_price</th>\n",
       "      <th>gaain_%</th>\n",
       "    </tr>\n",
       "  </thead>\n",
       "  <tbody>\n",
       "    <tr>\n",
       "      <th>0</th>\n",
       "      <td>CMS Info Systems Limited</td>\n",
       "      <td>2021-12-31</td>\n",
       "      <td>216</td>\n",
       "      <td>237.40</td>\n",
       "      <td>9.91</td>\n",
       "      <td>255.85</td>\n",
       "      <td>18.45</td>\n",
       "    </tr>\n",
       "    <tr>\n",
       "      <th>1</th>\n",
       "      <td>Supriya Lifescience Limited</td>\n",
       "      <td>2021-12-28</td>\n",
       "      <td>274</td>\n",
       "      <td>390.35</td>\n",
       "      <td>42.46</td>\n",
       "      <td>487.20</td>\n",
       "      <td>77.81</td>\n",
       "    </tr>\n",
       "    <tr>\n",
       "      <th>2</th>\n",
       "      <td>Medplus Health Services Limited</td>\n",
       "      <td>2021-12-23</td>\n",
       "      <td>796</td>\n",
       "      <td>1120.85</td>\n",
       "      <td>40.81</td>\n",
       "      <td>1017.40</td>\n",
       "      <td>27.81</td>\n",
       "    </tr>\n",
       "    <tr>\n",
       "      <th>3</th>\n",
       "      <td>HP Adhesives Limited</td>\n",
       "      <td>2021-12-27</td>\n",
       "      <td>274</td>\n",
       "      <td>334.95</td>\n",
       "      <td>22.24</td>\n",
       "      <td>447.60</td>\n",
       "      <td>63.36</td>\n",
       "    </tr>\n",
       "    <tr>\n",
       "      <th>4</th>\n",
       "      <td>Metro Brands Limited</td>\n",
       "      <td>2021-12-22</td>\n",
       "      <td>500</td>\n",
       "      <td>493.55</td>\n",
       "      <td>-1.29</td>\n",
       "      <td>455.20</td>\n",
       "      <td>-8.96</td>\n",
       "    </tr>\n",
       "  </tbody>\n",
       "</table>\n",
       "</div>"
      ],
      "text/plain": [
       "                      Company_Name Listing_date  Issue Price    \\\n",
       "0         CMS Info Systems Limited   2021-12-31            216   \n",
       "1      Supriya Lifescience Limited   2021-12-28            274   \n",
       "2  Medplus Health Services Limited   2021-12-23            796   \n",
       "3             HP Adhesives Limited   2021-12-27            274   \n",
       "4             Metro Brands Limited   2021-12-22            500   \n",
       "\n",
       "   listing_day_close_price  Listing_day_%change  current_price  gaain_%  \n",
       "0                   237.40                 9.91         255.85    18.45  \n",
       "1                   390.35                42.46         487.20    77.81  \n",
       "2                  1120.85                40.81        1017.40    27.81  \n",
       "3                   334.95                22.24         447.60    63.36  \n",
       "4                   493.55                -1.29         455.20    -8.96  "
      ]
     },
     "execution_count": 112,
     "metadata": {},
     "output_type": "execute_result"
    }
   ],
   "source": [
    "ipos_2021 = pd.read_excel('SME_IPOs_2019_2021.xlsx', sheet_name='2021')\n",
    "ipos_2021.head()"
   ]
  },
  {
   "cell_type": "code",
   "execution_count": null,
   "metadata": {},
   "outputs": [
    {
     "name": "stdout",
     "output_type": "stream",
     "text": [
      "(17, 7) (16, 7) (66, 7)\n"
     ]
    }
   ],
   "source": [
    "print(ipos_2019.shape, ipos_2020.shape , ipos_2021.shape )"
   ]
  },
  {
   "cell_type": "code",
   "execution_count": null,
   "metadata": {},
   "outputs": [],
   "source": [
    "# NOte that the three data frames have the same number of columns but different rows"
   ]
  },
  {
   "cell_type": "code",
   "execution_count": null,
   "metadata": {},
   "outputs": [],
   "source": [
    "#Concatenating data frames\n",
    "# Suppose we want to create a data frames about SME IPOs for the period 2019 to 2021.\n",
    "# Here is how we do it"
   ]
  },
  {
   "cell_type": "code",
   "execution_count": null,
   "metadata": {},
   "outputs": [],
   "source": [
    "sme_ipos = pd.concat([ipos_2019, ipos_2020 , ipos_2021])"
   ]
  },
  {
   "cell_type": "code",
   "execution_count": null,
   "metadata": {},
   "outputs": [
    {
     "data": {
      "text/plain": [
       "(99, 7)"
      ]
     },
     "execution_count": 117,
     "metadata": {},
     "output_type": "execute_result"
    }
   ],
   "source": [
    "sme_ipos.shape"
   ]
  },
  {
   "cell_type": "code",
   "execution_count": null,
   "metadata": {},
   "outputs": [
    {
     "data": {
      "text/html": [
       "<div>\n",
       "<style scoped>\n",
       "    .dataframe tbody tr th:only-of-type {\n",
       "        vertical-align: middle;\n",
       "    }\n",
       "\n",
       "    .dataframe tbody tr th {\n",
       "        vertical-align: top;\n",
       "    }\n",
       "\n",
       "    .dataframe thead th {\n",
       "        text-align: right;\n",
       "    }\n",
       "</style>\n",
       "<table border=\"1\" class=\"dataframe\">\n",
       "  <thead>\n",
       "    <tr style=\"text-align: right;\">\n",
       "      <th></th>\n",
       "      <th>Company_Name</th>\n",
       "      <th>Listing_date</th>\n",
       "      <th>Issue Price</th>\n",
       "      <th>listing_day_close_price</th>\n",
       "      <th>Listing_day_%change</th>\n",
       "      <th>current_price</th>\n",
       "      <th>gaain_%</th>\n",
       "    </tr>\n",
       "  </thead>\n",
       "  <tbody>\n",
       "    <tr>\n",
       "      <th>0</th>\n",
       "      <td>Prince Pipes and Fittings Ltd</td>\n",
       "      <td>2019-12-30</td>\n",
       "      <td>178</td>\n",
       "      <td>166.60</td>\n",
       "      <td>-6.40</td>\n",
       "      <td>699.10</td>\n",
       "      <td>292.75</td>\n",
       "    </tr>\n",
       "    <tr>\n",
       "      <th>1</th>\n",
       "      <td>Ujjivan Small Finance Bank Ltd</td>\n",
       "      <td>2019-12-12</td>\n",
       "      <td>37</td>\n",
       "      <td>55.90</td>\n",
       "      <td>51.08</td>\n",
       "      <td>19.90</td>\n",
       "      <td>-46.22</td>\n",
       "    </tr>\n",
       "    <tr>\n",
       "      <th>2</th>\n",
       "      <td>CSB Bank Limited</td>\n",
       "      <td>2019-12-04</td>\n",
       "      <td>195</td>\n",
       "      <td>300.10</td>\n",
       "      <td>53.90</td>\n",
       "      <td>253.30</td>\n",
       "      <td>29.90</td>\n",
       "    </tr>\n",
       "    <tr>\n",
       "      <th>3</th>\n",
       "      <td>IRCTC Limited</td>\n",
       "      <td>2019-10-14</td>\n",
       "      <td>320</td>\n",
       "      <td>728.60</td>\n",
       "      <td>127.69</td>\n",
       "      <td>843.15</td>\n",
       "      <td>1217.42</td>\n",
       "    </tr>\n",
       "    <tr>\n",
       "      <th>4</th>\n",
       "      <td>Vishwaraj Sugar Industries Ltd</td>\n",
       "      <td>2019-10-15</td>\n",
       "      <td>60</td>\n",
       "      <td>60.35</td>\n",
       "      <td>0.58</td>\n",
       "      <td>27.05</td>\n",
       "      <td>125.42</td>\n",
       "    </tr>\n",
       "  </tbody>\n",
       "</table>\n",
       "</div>"
      ],
      "text/plain": [
       "                     Company_Name Listing_date  Issue Price    \\\n",
       "0   Prince Pipes and Fittings Ltd   2019-12-30            178   \n",
       "1  Ujjivan Small Finance Bank Ltd   2019-12-12             37   \n",
       "2                CSB Bank Limited   2019-12-04            195   \n",
       "3                   IRCTC Limited   2019-10-14            320   \n",
       "4  Vishwaraj Sugar Industries Ltd   2019-10-15             60   \n",
       "\n",
       "   listing_day_close_price  Listing_day_%change  current_price  gaain_%  \n",
       "0                   166.60                -6.40         699.10   292.75  \n",
       "1                    55.90                51.08          19.90   -46.22  \n",
       "2                   300.10                53.90         253.30    29.90  \n",
       "3                   728.60               127.69         843.15  1217.42  \n",
       "4                    60.35                 0.58          27.05   125.42  "
      ]
     },
     "execution_count": 118,
     "metadata": {},
     "output_type": "execute_result"
    }
   ],
   "source": [
    "sme_ipos.head()"
   ]
  },
  {
   "cell_type": "code",
   "execution_count": null,
   "metadata": {},
   "outputs": [
    {
     "data": {
      "text/html": [
       "<div>\n",
       "<style scoped>\n",
       "    .dataframe tbody tr th:only-of-type {\n",
       "        vertical-align: middle;\n",
       "    }\n",
       "\n",
       "    .dataframe tbody tr th {\n",
       "        vertical-align: top;\n",
       "    }\n",
       "\n",
       "    .dataframe thead th {\n",
       "        text-align: right;\n",
       "    }\n",
       "</style>\n",
       "<table border=\"1\" class=\"dataframe\">\n",
       "  <thead>\n",
       "    <tr style=\"text-align: right;\">\n",
       "      <th></th>\n",
       "      <th>Company_Name</th>\n",
       "      <th>Listing_date</th>\n",
       "      <th>Issue Price</th>\n",
       "      <th>listing_day_close_price</th>\n",
       "      <th>Listing_day_%change</th>\n",
       "      <th>current_price</th>\n",
       "      <th>gaain_%</th>\n",
       "    </tr>\n",
       "  </thead>\n",
       "  <tbody>\n",
       "    <tr>\n",
       "      <th>61</th>\n",
       "      <td>Home First Finance Company India Ltd.</td>\n",
       "      <td>2021-02-03</td>\n",
       "      <td>518</td>\n",
       "      <td>527.40</td>\n",
       "      <td>1.81</td>\n",
       "      <td>789.35</td>\n",
       "      <td>52.38</td>\n",
       "    </tr>\n",
       "    <tr>\n",
       "      <th>62</th>\n",
       "      <td>Indigo Paints Limited</td>\n",
       "      <td>2021-02-02</td>\n",
       "      <td>1490</td>\n",
       "      <td>3118.65</td>\n",
       "      <td>109.31</td>\n",
       "      <td>2046.60</td>\n",
       "      <td>37.36</td>\n",
       "    </tr>\n",
       "    <tr>\n",
       "      <th>63</th>\n",
       "      <td>Antony Waste Handling Cell Limited</td>\n",
       "      <td>2021-01-01</td>\n",
       "      <td>315</td>\n",
       "      <td>407.25</td>\n",
       "      <td>29.29</td>\n",
       "      <td>318.70</td>\n",
       "      <td>1.17</td>\n",
       "    </tr>\n",
       "    <tr>\n",
       "      <th>64</th>\n",
       "      <td>Indian Railway Finance Corporation Limited</td>\n",
       "      <td>2021-01-29</td>\n",
       "      <td>26</td>\n",
       "      <td>24.85</td>\n",
       "      <td>-4.42</td>\n",
       "      <td>22.85</td>\n",
       "      <td>-12.12</td>\n",
       "    </tr>\n",
       "    <tr>\n",
       "      <th>65</th>\n",
       "      <td>RailTel Corporation of India Limited</td>\n",
       "      <td>2021-02-26</td>\n",
       "      <td>94</td>\n",
       "      <td>121.40</td>\n",
       "      <td>29.15</td>\n",
       "      <td>119.55</td>\n",
       "      <td>27.18</td>\n",
       "    </tr>\n",
       "  </tbody>\n",
       "</table>\n",
       "</div>"
      ],
      "text/plain": [
       "                                  Company_Name Listing_date  Issue Price    \\\n",
       "61       Home First Finance Company India Ltd.   2021-02-03            518   \n",
       "62                       Indigo Paints Limited   2021-02-02           1490   \n",
       "63          Antony Waste Handling Cell Limited   2021-01-01            315   \n",
       "64  Indian Railway Finance Corporation Limited   2021-01-29             26   \n",
       "65        RailTel Corporation of India Limited   2021-02-26             94   \n",
       "\n",
       "    listing_day_close_price  Listing_day_%change  current_price  gaain_%  \n",
       "61                   527.40                 1.81         789.35    52.38  \n",
       "62                  3118.65               109.31        2046.60    37.36  \n",
       "63                   407.25                29.29         318.70     1.17  \n",
       "64                    24.85                -4.42          22.85   -12.12  \n",
       "65                   121.40                29.15         119.55    27.18  "
      ]
     },
     "execution_count": 119,
     "metadata": {},
     "output_type": "execute_result"
    }
   ],
   "source": [
    "sme_ipos.tail()"
   ]
  },
  {
   "cell_type": "code",
   "execution_count": null,
   "metadata": {},
   "outputs": [
    {
     "name": "stdout",
     "output_type": "stream",
     "text": [
      "<class 'pandas.core.frame.DataFrame'>\n",
      "Int64Index: 99 entries, 0 to 65\n",
      "Data columns (total 7 columns):\n",
      " #   Column                   Non-Null Count  Dtype         \n",
      "---  ------                   --------------  -----         \n",
      " 0   Company_Name             99 non-null     object        \n",
      " 1   Listing_date             99 non-null     datetime64[ns]\n",
      " 2   Issue Price              99 non-null     int64         \n",
      " 3   listing_day_close_price  99 non-null     float64       \n",
      " 4   Listing_day_%change      99 non-null     float64       \n",
      " 5   current_price            98 non-null     float64       \n",
      " 6   gaain_%                  99 non-null     float64       \n",
      "dtypes: datetime64[ns](1), float64(4), int64(1), object(1)\n",
      "memory usage: 6.2+ KB\n"
     ]
    }
   ],
   "source": [
    "sme_ipos.info()"
   ]
  },
  {
   "cell_type": "code",
   "execution_count": null,
   "metadata": {},
   "outputs": [
    {
     "data": {
      "text/html": [
       "<div>\n",
       "<style scoped>\n",
       "    .dataframe tbody tr th:only-of-type {\n",
       "        vertical-align: middle;\n",
       "    }\n",
       "\n",
       "    .dataframe tbody tr th {\n",
       "        vertical-align: top;\n",
       "    }\n",
       "\n",
       "    .dataframe thead th {\n",
       "        text-align: right;\n",
       "    }\n",
       "</style>\n",
       "<table border=\"1\" class=\"dataframe\">\n",
       "  <thead>\n",
       "    <tr style=\"text-align: right;\">\n",
       "      <th></th>\n",
       "      <th>Company_Name</th>\n",
       "      <th>Listing_date</th>\n",
       "      <th>Issue Price</th>\n",
       "      <th>listing_day_close_price</th>\n",
       "      <th>Listing_day_%change</th>\n",
       "      <th>current_price</th>\n",
       "      <th>gaain_%</th>\n",
       "    </tr>\n",
       "  </thead>\n",
       "  <tbody>\n",
       "    <tr>\n",
       "      <th>15</th>\n",
       "      <td>Xelpmoc Design and Tech Limited</td>\n",
       "      <td>2019-02-04</td>\n",
       "      <td>66</td>\n",
       "      <td>59.85</td>\n",
       "      <td>-9.32</td>\n",
       "      <td>399.05</td>\n",
       "      <td>504.62</td>\n",
       "    </tr>\n",
       "    <tr>\n",
       "      <th>16</th>\n",
       "      <td>Chalet Hotels Limited</td>\n",
       "      <td>2019-02-07</td>\n",
       "      <td>280</td>\n",
       "      <td>290.40</td>\n",
       "      <td>3.71</td>\n",
       "      <td>224.25</td>\n",
       "      <td>-19.91</td>\n",
       "    </tr>\n",
       "    <tr>\n",
       "      <th>14</th>\n",
       "      <td>MSTC Limited</td>\n",
       "      <td>2019-03-29</td>\n",
       "      <td>120</td>\n",
       "      <td>114.20</td>\n",
       "      <td>-4.83</td>\n",
       "      <td>348.30</td>\n",
       "      <td>190.25</td>\n",
       "    </tr>\n",
       "    <tr>\n",
       "      <th>13</th>\n",
       "      <td>Embassy Office Parks</td>\n",
       "      <td>2019-04-01</td>\n",
       "      <td>300</td>\n",
       "      <td>314.10</td>\n",
       "      <td>4.70</td>\n",
       "      <td>352.68</td>\n",
       "      <td>17.56</td>\n",
       "    </tr>\n",
       "    <tr>\n",
       "      <th>10</th>\n",
       "      <td>Rail Vikas Nigam Limited</td>\n",
       "      <td>2019-04-11</td>\n",
       "      <td>19</td>\n",
       "      <td>19.05</td>\n",
       "      <td>0.26</td>\n",
       "      <td>35.20</td>\n",
       "      <td>85.26</td>\n",
       "    </tr>\n",
       "    <tr>\n",
       "      <th>...</th>\n",
       "      <td>...</td>\n",
       "      <td>...</td>\n",
       "      <td>...</td>\n",
       "      <td>...</td>\n",
       "      <td>...</td>\n",
       "      <td>...</td>\n",
       "      <td>...</td>\n",
       "    </tr>\n",
       "    <tr>\n",
       "      <th>2</th>\n",
       "      <td>Medplus Health Services Limited</td>\n",
       "      <td>2021-12-23</td>\n",
       "      <td>796</td>\n",
       "      <td>1120.85</td>\n",
       "      <td>40.81</td>\n",
       "      <td>1017.40</td>\n",
       "      <td>27.81</td>\n",
       "    </tr>\n",
       "    <tr>\n",
       "      <th>6</th>\n",
       "      <td>Data Patterns (India</td>\n",
       "      <td>2021-12-24</td>\n",
       "      <td>585</td>\n",
       "      <td>754.85</td>\n",
       "      <td>29.03</td>\n",
       "      <td>761.25</td>\n",
       "      <td>30.13</td>\n",
       "    </tr>\n",
       "    <tr>\n",
       "      <th>3</th>\n",
       "      <td>HP Adhesives Limited</td>\n",
       "      <td>2021-12-27</td>\n",
       "      <td>274</td>\n",
       "      <td>334.95</td>\n",
       "      <td>22.24</td>\n",
       "      <td>447.60</td>\n",
       "      <td>63.36</td>\n",
       "    </tr>\n",
       "    <tr>\n",
       "      <th>1</th>\n",
       "      <td>Supriya Lifescience Limited</td>\n",
       "      <td>2021-12-28</td>\n",
       "      <td>274</td>\n",
       "      <td>390.35</td>\n",
       "      <td>42.46</td>\n",
       "      <td>487.20</td>\n",
       "      <td>77.81</td>\n",
       "    </tr>\n",
       "    <tr>\n",
       "      <th>0</th>\n",
       "      <td>CMS Info Systems Limited</td>\n",
       "      <td>2021-12-31</td>\n",
       "      <td>216</td>\n",
       "      <td>237.40</td>\n",
       "      <td>9.91</td>\n",
       "      <td>255.85</td>\n",
       "      <td>18.45</td>\n",
       "    </tr>\n",
       "  </tbody>\n",
       "</table>\n",
       "<p>99 rows × 7 columns</p>\n",
       "</div>"
      ],
      "text/plain": [
       "                       Company_Name Listing_date  Issue Price    \\\n",
       "15  Xelpmoc Design and Tech Limited   2019-02-04             66   \n",
       "16            Chalet Hotels Limited   2019-02-07            280   \n",
       "14                     MSTC Limited   2019-03-29            120   \n",
       "13             Embassy Office Parks   2019-04-01            300   \n",
       "10         Rail Vikas Nigam Limited   2019-04-11             19   \n",
       "..                              ...          ...            ...   \n",
       "2   Medplus Health Services Limited   2021-12-23            796   \n",
       "6              Data Patterns (India   2021-12-24            585   \n",
       "3              HP Adhesives Limited   2021-12-27            274   \n",
       "1       Supriya Lifescience Limited   2021-12-28            274   \n",
       "0          CMS Info Systems Limited   2021-12-31            216   \n",
       "\n",
       "    listing_day_close_price  Listing_day_%change  current_price  gaain_%  \n",
       "15                    59.85                -9.32         399.05   504.62  \n",
       "16                   290.40                 3.71         224.25   -19.91  \n",
       "14                   114.20                -4.83         348.30   190.25  \n",
       "13                   314.10                 4.70         352.68    17.56  \n",
       "10                    19.05                 0.26          35.20    85.26  \n",
       "..                      ...                  ...            ...      ...  \n",
       "2                   1120.85                40.81        1017.40    27.81  \n",
       "6                    754.85                29.03         761.25    30.13  \n",
       "3                    334.95                22.24         447.60    63.36  \n",
       "1                    390.35                42.46         487.20    77.81  \n",
       "0                    237.40                 9.91         255.85    18.45  \n",
       "\n",
       "[99 rows x 7 columns]"
      ]
     },
     "execution_count": 121,
     "metadata": {},
     "output_type": "execute_result"
    }
   ],
   "source": [
    "sme_ipos = sme_ipos.sort_values( by =['Listing_date'])\n",
    "sme_ipos"
   ]
  },
  {
   "cell_type": "code",
   "execution_count": null,
   "metadata": {},
   "outputs": [],
   "source": [
    "sme_ipos.to_csv('sme_ipos_2019_2021.csv')"
   ]
  },
  {
   "cell_type": "code",
   "execution_count": null,
   "metadata": {},
   "outputs": [
    {
     "data": {
      "text/plain": [
       "30.478787878787877"
      ]
     },
     "execution_count": 123,
     "metadata": {},
     "output_type": "execute_result"
    }
   ],
   "source": [
    "np.mean(sme_ipos['Listing_day_%change'])"
   ]
  },
  {
   "cell_type": "code",
   "execution_count": null,
   "metadata": {},
   "outputs": [
    {
     "data": {
      "text/plain": [
       "-27.25"
      ]
     },
     "execution_count": 124,
     "metadata": {},
     "output_type": "execute_result"
    }
   ],
   "source": [
    "np.min(sme_ipos['Listing_day_%change'])"
   ]
  },
  {
   "cell_type": "code",
   "execution_count": null,
   "metadata": {},
   "outputs": [
    {
     "data": {
      "text/plain": [
       "270.4"
      ]
     },
     "execution_count": 125,
     "metadata": {},
     "output_type": "execute_result"
    }
   ],
   "source": [
    "np.max(sme_ipos['Listing_day_%change'])\n"
   ]
  },
  {
   "cell_type": "code",
   "execution_count": null,
   "metadata": {},
   "outputs": [
    {
     "data": {
      "text/plain": [
       "114.76525252525252"
      ]
     },
     "execution_count": 126,
     "metadata": {},
     "output_type": "execute_result"
    }
   ],
   "source": [
    "np.mean(sme_ipos['gaain_%'])"
   ]
  },
  {
   "cell_type": "code",
   "execution_count": null,
   "metadata": {},
   "outputs": [
    {
     "data": {
      "text/plain": [
       "array([[1.       , 0.3245593],\n",
       "       [0.3245593, 1.       ]])"
      ]
     },
     "execution_count": 127,
     "metadata": {},
     "output_type": "execute_result"
    }
   ],
   "source": [
    "np.corrcoef(sme_ipos['Listing_day_%change'], sme_ipos['gaain_%'])"
   ]
  },
  {
   "cell_type": "code",
   "execution_count": null,
   "metadata": {},
   "outputs": [
    {
     "name": "stdout",
     "output_type": "stream",
     "text": [
      "[2, 4, 6, 8, 10, 1, 3, 5, 7, 9]\n"
     ]
    }
   ],
   "source": [
    "odd = [1,3,5,7,9]\n",
    "even=[2,4,6,8,10]\n",
    "N = even+ odd\n",
    "print(N)"
   ]
  },
  {
   "cell_type": "code",
   "execution_count": null,
   "metadata": {},
   "outputs": [
    {
     "data": {
      "text/plain": [
       "7"
      ]
     },
     "execution_count": 129,
     "metadata": {},
     "output_type": "execute_result"
    }
   ],
   "source": [
    "N[5]\n",
    "N.index(5)"
   ]
  }
 ],
 "metadata": {
  "kernelspec": {
   "display_name": ".venv (3.9.6)",
   "language": "python",
   "name": "python3"
  },
  "language_info": {
   "codemirror_mode": {
    "name": "ipython",
    "version": 3
   },
   "file_extension": ".py",
   "mimetype": "text/x-python",
   "name": "python",
   "nbconvert_exporter": "python",
   "pygments_lexer": "ipython3",
   "version": "3.9.6"
  }
 },
 "nbformat": 4,
 "nbformat_minor": 4
}
