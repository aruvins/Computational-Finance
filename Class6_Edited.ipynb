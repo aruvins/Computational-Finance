{
 "cells": [
  {
   "cell_type": "markdown",
   "metadata": {},
   "source": [
    "### **Week6**"
   ]
  },
  {
   "cell_type": "markdown",
   "metadata": {
    "iooxa": {
     "id": {
      "block": "dmOIOYWlJ7ceZuZoiyaA",
      "project": "o8uCbOPb8iJK0GDallsV",
      "version": 1
     }
    }
   },
   "source": [
    "- Topics Covered:\n",
    "  - Functions in Python\n",
    "    - Built-in Functions\n",
    "    - User Defined Function\n",
    "  - Working with function defined External Package\n",
    "  - Building Black Scholes Function\n",
    "    - Implementation with MSFT data\n",
    "  - Single Factor Model Function\n",
    "    - Real Data Implementation of Single Factor Model Function\n",
    "    - Data Visualization"
   ]
  },
  {
   "cell_type": "markdown",
   "metadata": {
    "iooxa": {
     "id": {
      "block": "BXp0fR3Rf2qnLOzaKrLk",
      "project": "o8uCbOPb8iJK0GDallsV",
      "version": 1
     }
    }
   },
   "source": [
    "**Importing Required Libraries**"
   ]
  },
  {
   "cell_type": "code",
   "execution_count": 98,
   "metadata": {
    "iooxa": {
     "id": {
      "block": "7zlqn4HL7BZDwcVH3aPg",
      "project": "o8uCbOPb8iJK0GDallsV",
      "version": 1
     },
     "outputId": null
    }
   },
   "outputs": [],
   "source": [
    "import numpy as np\n",
    "import pandas as pd\n",
    "import matplotlib.pyplot as plt"
   ]
  },
  {
   "cell_type": "code",
   "execution_count": 99,
   "metadata": {
    "iooxa": {
     "id": {
      "block": "17nKKdmfN76ni7MVg0AW",
      "project": "o8uCbOPb8iJK0GDallsV",
      "version": 1
     }
    }
   },
   "outputs": [
    {
     "data": {
      "text/plain": [
       "'/Users/aruvins/Desktop/Fordham/Fall 2025/Computational Finance'"
      ]
     },
     "execution_count": 99,
     "metadata": {},
     "output_type": "execute_result"
    }
   ],
   "source": [
    "## Change of directory if required\n",
    "\n",
    "# Code to change the current working directory\n",
    "import os\n",
    "os.chdir('/Users/aruvins/Desktop/Fordham/Fall 2025/Computational Finance') # Enter your directory location here\n",
    "os.getcwd()"
   ]
  },
  {
   "cell_type": "markdown",
   "metadata": {
    "iooxa": {
     "id": {
      "block": "7FLkhC1vJokjondcDETZ",
      "project": "o8uCbOPb8iJK0GDallsV",
      "version": 2
     }
    }
   },
   "source": [
    "# **Functions in Python**\n",
    "\n",
    "- Functions in Python are **reusable blocks of code** that perform a specific task.\n",
    "- They allow you to organize your code into logical, manageable sections, making your **programs** more **readable, maintainable, and efficient.**\n",
    "- Functions can **take inputs, perform actions, and return outputs**.\n",
    "\n",
    "## **Function Types**\n",
    "\n",
    "### **Built-in Functions**\n",
    "\n",
    "- Python provides a wide range of built-in functions that are available by default, without the need for importing any external libraries.\n",
    "- Example: print(), len(), str(), int(), range(), etc."
   ]
  },
  {
   "cell_type": "code",
   "execution_count": 100,
   "metadata": {
    "iooxa": {
     "id": {
      "block": "IIP6TbVWlOCbQ33IJda2",
      "project": "o8uCbOPb8iJK0GDallsV",
      "version": 1
     },
     "outputId": {
      "block": "88elxcxQKF1KoJOwaBoF",
      "project": "o8uCbOPb8iJK0GDallsV",
      "version": 1
     }
    }
   },
   "outputs": [
    {
     "data": {
      "text/plain": [
       "'5'"
      ]
     },
     "execution_count": 100,
     "metadata": {},
     "output_type": "execute_result"
    }
   ],
   "source": [
    "#Let us start with biult-in functions\n",
    "str(5)"
   ]
  },
  {
   "cell_type": "markdown",
   "metadata": {
    "iooxa": {
     "id": {
      "block": "CSJV2TWJZDRRBuWu3Up5",
      "project": "o8uCbOPb8iJK0GDallsV",
      "version": 2
     }
    }
   },
   "source": [
    "### **User Defined Function**\n",
    "\n",
    "- It is the function defined by user as per the requirement. Think as user provide a number and function square gives square of that respective number.\n",
    "- User has to invoke or call the function when required, as ***function_name()***\n",
    "\n",
    "#### **Function Syntax**\n",
    "\n",
    "```python\n",
    "def function_name():\n",
    "  # body......\n",
    "```"
   ]
  },
  {
   "cell_type": "markdown",
   "metadata": {
    "iooxa": {
     "id": {
      "block": "JIi9HRqQj1nvzvse4PM2",
      "project": "o8uCbOPb8iJK0GDallsV",
      "version": 1
     }
    }
   },
   "source": [
    "Below function is the specific function that is defined to give only square of number defined inside the function."
   ]
  },
  {
   "cell_type": "code",
   "execution_count": 101,
   "metadata": {
    "iooxa": {
     "id": {
      "block": "ltLO9X5OjZQl5P8ldZRv",
      "project": "o8uCbOPb8iJK0GDallsV",
      "version": 1
     },
     "outputId": null
    }
   },
   "outputs": [],
   "source": [
    "# Function that gives output square of 5 when called\n",
    "def square():   # <-- function header\n",
    "    out_value = 5**2 # <-- function body\n",
    "    print(out_value)"
   ]
  },
  {
   "cell_type": "code",
   "execution_count": 102,
   "metadata": {
    "iooxa": {
     "id": {
      "block": "Ft0LKqdjXd5tod5v5Kyg",
      "project": "o8uCbOPb8iJK0GDallsV",
      "version": 1
     },
     "outputId": {
      "block": "NJmUyL9ytcykNGvlELj3",
      "project": "o8uCbOPb8iJK0GDallsV",
      "version": 1
     }
    }
   },
   "outputs": [
    {
     "name": "stdout",
     "output_type": "stream",
     "text": [
      "25\n"
     ]
    }
   ],
   "source": [
    "square() # Calling a function"
   ]
  },
  {
   "cell_type": "markdown",
   "metadata": {
    "iooxa": {
     "id": {
      "block": "8EbbWj8nNzfaWuKWrw0o",
      "project": "o8uCbOPb8iJK0GDallsV",
      "version": 1
     }
    }
   },
   "source": [
    "***What if I want to compute square of the number that I want function to calculate?***\n",
    "\n",
    "#### Function Input: Parameters and arguments\n",
    "\n",
    "- When you **define a function**, you specify parameters in the function header to represent the data that the function will receive and process.\n",
    "- When you **call a function**, you provide arguments, which are the actual values passed into the function to replace the parameters."
   ]
  },
  {
   "cell_type": "code",
   "execution_count": 103,
   "metadata": {
    "iooxa": {
     "id": {
      "block": "q34loAFgPX820djSNhnT",
      "project": "o8uCbOPb8iJK0GDallsV",
      "version": 1
     },
     "outputId": null
    }
   },
   "outputs": [],
   "source": [
    "def function_name(parameters):\n",
    "    # Function body\n",
    "    return value  # Optional return statement"
   ]
  },
  {
   "cell_type": "code",
   "execution_count": 104,
   "metadata": {
    "iooxa": {
     "id": {
      "block": "vspbZ0kw3AwOKbbQtA1B",
      "project": "o8uCbOPb8iJK0GDallsV",
      "version": 1
     },
     "outputId": null
    }
   },
   "outputs": [],
   "source": [
    "# The below function requires input x --> square of a number we want\n",
    "def square(x):   # <-- function header\n",
    "    out_value = x**2 # <-- function body\n",
    "    print(out_value)"
   ]
  },
  {
   "cell_type": "code",
   "execution_count": 105,
   "metadata": {
    "iooxa": {
     "id": {
      "block": "upEtFWEka04rNThxNe9d",
      "project": "o8uCbOPb8iJK0GDallsV",
      "version": 1
     },
     "outputId": {
      "block": "3olQzFUC6QDIiNUHqfQt",
      "project": "o8uCbOPb8iJK0GDallsV",
      "version": 1
     }
    }
   },
   "outputs": [
    {
     "name": "stdout",
     "output_type": "stream",
     "text": [
      "100\n"
     ]
    }
   ],
   "source": [
    "square(10)"
   ]
  },
  {
   "cell_type": "markdown",
   "metadata": {
    "iooxa": {
     "id": {
      "block": "5khj4d2Uw7oHqyHyt6bS",
      "project": "o8uCbOPb8iJK0GDallsV",
      "version": 2
     }
    }
   },
   "source": [
    "#### **Functions Output: print v/s return**\n",
    "\n",
    "- In Python, functions can either print values or return values. While **printing a value** directly outputs it to the console (i.e. output), and **returning a value** from a function allows you to use it elsewhere in your code, such as assigning it to a variable for further operations."
   ]
  },
  {
   "cell_type": "code",
   "execution_count": 106,
   "metadata": {
    "iooxa": {
     "id": {
      "block": "K9bVzDv4uk8eWqWKkFN4",
      "project": "o8uCbOPb8iJK0GDallsV",
      "version": 1
     },
     "outputId": {
      "block": "bLsktZXbHeBvpQZl2Hdk",
      "project": "o8uCbOPb8iJK0GDallsV",
      "version": 1
     }
    }
   },
   "outputs": [
    {
     "name": "stdout",
     "output_type": "stream",
     "text": [
      "36\n"
     ]
    }
   ],
   "source": [
    "def square(x):   # <-- function header\n",
    "    out_value = x**2 # <-- function body\n",
    "    print(out_value)\n",
    "    \n",
    "square(6) # Functions prints directly when called"
   ]
  },
  {
   "cell_type": "code",
   "execution_count": 107,
   "metadata": {
    "iooxa": {
     "id": {
      "block": "KDbBq7NdIeI7yOI9mdFy",
      "project": "o8uCbOPb8iJK0GDallsV",
      "version": 1
     },
     "outputId": null
    }
   },
   "outputs": [],
   "source": [
    "def square(x):   # <-- function header\n",
    "    out_value = x**2 # <-- function body\n",
    "    return out_value"
   ]
  },
  {
   "cell_type": "code",
   "execution_count": 108,
   "metadata": {
    "iooxa": {
     "id": {
      "block": "IT1iqMd80tu4SgyAaDGc",
      "project": "o8uCbOPb8iJK0GDallsV",
      "version": 1
     },
     "outputId": {
      "block": "i1N5SuKT4NcKSU8DXEBC",
      "project": "o8uCbOPb8iJK0GDallsV",
      "version": 1
     }
    }
   },
   "outputs": [
    {
     "data": {
      "text/plain": [
       "36"
      ]
     },
     "execution_count": 108,
     "metadata": {},
     "output_type": "execute_result"
    }
   ],
   "source": [
    "t = 6\n",
    "y=square(t) # Function returns value and stores in variable t\n",
    "y"
   ]
  },
  {
   "cell_type": "markdown",
   "metadata": {
    "iooxa": {
     "id": {
      "block": "4TwkUzWcASDDil8ujGWl",
      "project": "o8uCbOPb8iJK0GDallsV",
      "version": 1
     }
    }
   },
   "source": [
    "- Another essential aspect of writing functions in Python is the use of docstrings. Docstrings are utilized to describe what your function does, such as the computations it performs or the values it returns.\n",
    "- These descriptions serve as documentation for your function, providing clarity to anyone who reads your code.\n",
    "- Docstrings are placed immediately after the function header, enclosed between triple quotation marks (\"\"\" or ''')\n",
    "- Example,"
   ]
  },
  {
   "cell_type": "code",
   "execution_count": 109,
   "metadata": {
    "iooxa": {
     "id": {
      "block": "kJkZHZzE2xadTikxdMee",
      "project": "o8uCbOPb8iJK0GDallsV",
      "version": 1
     },
     "outputId": null
    }
   },
   "outputs": [],
   "source": [
    "def square(x):   # <-- function header\n",
    "    \"\"\" Returns the square of a number \"\"\"\n",
    "    out_value = x**2 # <-- function body\n",
    "    return out_value\n"
   ]
  },
  {
   "cell_type": "code",
   "execution_count": 110,
   "metadata": {
    "iooxa": {
     "id": {
      "block": "xpIrbeaxbhyT69SspORv",
      "project": "o8uCbOPb8iJK0GDallsV",
      "version": 1
     },
     "outputId": {
      "block": "jxA3V6Olm9nxn079Q3JW",
      "project": "o8uCbOPb8iJK0GDallsV",
      "version": 1
     }
    }
   },
   "outputs": [
    {
     "data": {
      "text/plain": [
       "4"
      ]
     },
     "execution_count": 110,
     "metadata": {},
     "output_type": "execute_result"
    }
   ],
   "source": [
    "square(2)"
   ]
  },
  {
   "cell_type": "markdown",
   "metadata": {
    "iooxa": {
     "id": {
      "block": "sHBZgmZBuzygsbs2f4vK",
      "project": "o8uCbOPb8iJK0GDallsV",
      "version": 2
     }
    }
   },
   "source": [
    "## **Functions: Multiple parameters (Inputs)**\n",
    "\n",
    "- In Python, functions can **accept multiple parameters**, allowing you to perform **more complex operations**.\n",
    "- For example, instead of simply squaring a value, you might want to raise one value to the power of another value. (Example: $a^b$ or $6^9$)\n",
    "- In below function, two parameters are declared in the function header: value1 and value2.\n",
    "- The function behavior is also modified so that it raises value1 to the power of value2."
   ]
  },
  {
   "cell_type": "code",
   "execution_count": 111,
   "metadata": {
    "iooxa": {
     "id": {
      "block": "8CoBtZIFlOmbFVWTTnR7",
      "project": "o8uCbOPb8iJK0GDallsV",
      "version": 1
     },
     "outputId": null
    }
   },
   "outputs": [],
   "source": [
    "def raise_to_power(x,y):\n",
    "    \"\"\" This function raise the first parameter to the power of the second paameters\"\"\"\n",
    "    out_value= x**y\n",
    "    return out_value"
   ]
  },
  {
   "cell_type": "code",
   "execution_count": 112,
   "metadata": {
    "iooxa": {
     "id": {
      "block": "NDEYzTi1zdJjPR294Hac",
      "project": "o8uCbOPb8iJK0GDallsV",
      "version": 1
     },
     "outputId": {
      "block": "mD6UnrlOjmeizdv7zaPD",
      "project": "o8uCbOPb8iJK0GDallsV",
      "version": 1
     }
    }
   },
   "outputs": [
    {
     "name": "stdout",
     "output_type": "stream",
     "text": [
      "z =  400\n"
     ]
    }
   ],
   "source": [
    "z=raise_to_power(20,2)\n",
    "print('z = ', z)"
   ]
  },
  {
   "cell_type": "markdown",
   "metadata": {
    "iooxa": {
     "id": {
      "block": "PLpdo88PBomQFQhPVigd",
      "project": "o8uCbOPb8iJK0GDallsV",
      "version": 2
     }
    }
   },
   "source": [
    "## **Functions: Multiple Outputs**\n",
    "\n",
    "- In Python, a function can return multiple values. This is done by constructing a special type of object known as a **tuple** inside the function.\n",
    "- A **tuple** is similar to a **list** in that it can **hold multiple values**, but it has some key differences:\n",
    "  - Immutability: Once a tuple is created, its values cannot be modified (unlike lists, which are mutable).\n",
    "  - Syntax: While lists are defined using square brackets \\[ \\], tuples are constructed using parentheses ( ).\n",
    "- Example below,"
   ]
  },
  {
   "cell_type": "code",
   "execution_count": 113,
   "metadata": {
    "iooxa": {
     "id": {
      "block": "eYaQe8uroiZEeqc3wbsx",
      "project": "o8uCbOPb8iJK0GDallsV",
      "version": 1
     },
     "outputId": null
    }
   },
   "outputs": [],
   "source": [
    "even= (2,4,6)\n",
    "x,y,z = (5,9,4)"
   ]
  },
  {
   "cell_type": "code",
   "execution_count": 114,
   "metadata": {
    "iooxa": {
     "id": {
      "block": "jYhMvd84Il5auyfqZMIM",
      "project": "o8uCbOPb8iJK0GDallsV",
      "version": 1
     },
     "outputId": {
      "block": "EyOH1uPQSt5CvqCqE5rW",
      "project": "o8uCbOPb8iJK0GDallsV",
      "version": 1
     }
    }
   },
   "outputs": [
    {
     "data": {
      "text/plain": [
       "tuple"
      ]
     },
     "execution_count": 114,
     "metadata": {},
     "output_type": "execute_result"
    }
   ],
   "source": [
    "type(even)"
   ]
  },
  {
   "cell_type": "code",
   "execution_count": 115,
   "metadata": {
    "iooxa": {
     "id": {
      "block": "Yb2nRJ6y8sARRKfgmnoT",
      "project": "o8uCbOPb8iJK0GDallsV",
      "version": 1
     },
     "outputId": {
      "block": "wSq02xcw4II5db4PQDyO",
      "project": "o8uCbOPb8iJK0GDallsV",
      "version": 1
     }
    }
   },
   "outputs": [
    {
     "data": {
      "text/plain": [
       "(2, 4, 6)"
      ]
     },
     "execution_count": 115,
     "metadata": {},
     "output_type": "execute_result"
    }
   ],
   "source": [
    "even"
   ]
  },
  {
   "cell_type": "code",
   "execution_count": 116,
   "metadata": {
    "iooxa": {
     "id": {
      "block": "Q8DRGmCZo6H6rm2bSHTP",
      "project": "o8uCbOPb8iJK0GDallsV",
      "version": 1
     },
     "outputId": {
      "block": "LgWgKDduLO5YQwc0patU",
      "project": "o8uCbOPb8iJK0GDallsV",
      "version": 1
     }
    }
   },
   "outputs": [
    {
     "data": {
      "text/plain": [
       "(5, 9, 4)"
      ]
     },
     "execution_count": 116,
     "metadata": {},
     "output_type": "execute_result"
    }
   ],
   "source": [
    "x,y,z"
   ]
  },
  {
   "cell_type": "markdown",
   "metadata": {
    "iooxa": {
     "id": {
      "block": "GwN4B06UwP5v5gA9HMl9",
      "project": "o8uCbOPb8iJK0GDallsV",
      "version": 1
     }
    }
   },
   "source": [
    "**Accessing the tuple elements: similar as list**"
   ]
  },
  {
   "cell_type": "code",
   "execution_count": 117,
   "metadata": {
    "iooxa": {
     "id": {
      "block": "LFy8Obcnt3bvPd8SEd6A",
      "project": "o8uCbOPb8iJK0GDallsV",
      "version": 1
     },
     "outputId": {
      "block": "2I0VUWi14rmmvZH3EwU9",
      "project": "o8uCbOPb8iJK0GDallsV",
      "version": 1
     }
    }
   },
   "outputs": [
    {
     "data": {
      "text/plain": [
       "4"
      ]
     },
     "execution_count": 117,
     "metadata": {},
     "output_type": "execute_result"
    }
   ],
   "source": [
    "even[1]"
   ]
  },
  {
   "cell_type": "code",
   "execution_count": 118,
   "metadata": {
    "iooxa": {
     "id": {
      "block": "1WmfZMi06VzVIz4j64y3",
      "project": "o8uCbOPb8iJK0GDallsV",
      "version": 1
     },
     "outputId": {
      "block": "fOEUliRqHyRNPwx93AqA",
      "project": "o8uCbOPb8iJK0GDallsV",
      "version": 1
     }
    }
   },
   "outputs": [
    {
     "data": {
      "text/plain": [
       "6"
      ]
     },
     "execution_count": 118,
     "metadata": {},
     "output_type": "execute_result"
    }
   ],
   "source": [
    "even[-1]"
   ]
  },
  {
   "cell_type": "markdown",
   "metadata": {
    "iooxa": {
     "id": {
      "block": "gPtixrRa0Pv0hkYnTfvx",
      "project": "o8uCbOPb8iJK0GDallsV",
      "version": 1
     }
    }
   },
   "source": [
    "Example on multiple output function,"
   ]
  },
  {
   "cell_type": "code",
   "execution_count": 119,
   "metadata": {
    "iooxa": {
     "id": {
      "block": "qNWw1RqFwspJZNTeQEKT",
      "project": "o8uCbOPb8iJK0GDallsV",
      "version": 1
     },
     "outputId": null
    }
   },
   "outputs": [],
   "source": [
    "def raise_both(x,y):\n",
    "    \"\"\" Raise value1 to the power of value 2 and raise value2 to the power value1\"\"\"\n",
    "    out_value1 = x**y\n",
    "    out_value2 = y**x\n",
    "    out_values= (out_value1, out_value2)\n",
    "    return out_values # or you can write: return out_value1,out_value1  "
   ]
  },
  {
   "cell_type": "code",
   "execution_count": 120,
   "metadata": {
    "iooxa": {
     "id": {
      "block": "vsczBoLKbfpYzL8sCt8I",
      "project": "o8uCbOPb8iJK0GDallsV",
      "version": 1
     },
     "outputId": {
      "block": "oD9tatKJTCqynCDhNBnm",
      "project": "o8uCbOPb8iJK0GDallsV",
      "version": 1
     }
    }
   },
   "outputs": [
    {
     "data": {
      "text/plain": [
       "(81, 64)"
      ]
     },
     "execution_count": 120,
     "metadata": {},
     "output_type": "execute_result"
    }
   ],
   "source": [
    "raise_both(3,4)"
   ]
  },
  {
   "cell_type": "code",
   "execution_count": 121,
   "metadata": {
    "iooxa": {
     "id": {
      "block": "yXGsT3hp4HXZxMlARd0k",
      "project": "o8uCbOPb8iJK0GDallsV",
      "version": 1
     },
     "outputId": {
      "block": "Vu3kOp7DNRC1pJRkE1RO",
      "project": "o8uCbOPb8iJK0GDallsV",
      "version": 1
     }
    }
   },
   "outputs": [
    {
     "name": "stdout",
     "output_type": "stream",
     "text": [
      "(64, 81)\n"
     ]
    }
   ],
   "source": [
    "raise_both(4,3)\n",
    "x=3\n",
    "y=2\n",
    "print(raise_both(4,3))"
   ]
  },
  {
   "cell_type": "markdown",
   "metadata": {
    "iooxa": {
     "id": {
      "block": "tiPGVqYew7LfnIAB12ya",
      "project": "o8uCbOPb8iJK0GDallsV",
      "version": 2
     }
    }
   },
   "source": [
    "# **Working with functions defined in External Packages**\n",
    "\n",
    "Since we are working with many external packages like numpy, pandas, matplotlib, seaborn, etc. It contains various functions in the libraries."
   ]
  },
  {
   "cell_type": "code",
   "execution_count": 122,
   "metadata": {
    "iooxa": {
     "id": {
      "block": "oKn8IheQJpqMuKdPZcmM",
      "project": "o8uCbOPb8iJK0GDallsV",
      "version": 1
     },
     "outputId": null
    }
   },
   "outputs": [],
   "source": [
    "import numpy as np"
   ]
  },
  {
   "cell_type": "markdown",
   "metadata": {
    "iooxa": {
     "id": {
      "block": "ajWaUu7oOmoIwfmu6WzB",
      "project": "o8uCbOPb8iJK0GDallsV",
      "version": 1
     }
    }
   },
   "source": [
    "Exponential Function"
   ]
  },
  {
   "cell_type": "code",
   "execution_count": 123,
   "metadata": {
    "iooxa": {
     "id": {
      "block": "hIhBF1NBTpyskn9icI4V",
      "project": "o8uCbOPb8iJK0GDallsV",
      "version": 1
     },
     "outputId": {
      "block": "49jAEMxSdCDecHd2pqbV",
      "project": "o8uCbOPb8iJK0GDallsV",
      "version": 1
     }
    }
   },
   "outputs": [
    {
     "data": {
      "text/plain": [
       "np.float64(2.718281828459045)"
      ]
     },
     "execution_count": 123,
     "metadata": {},
     "output_type": "execute_result"
    }
   ],
   "source": [
    "np.exp(1)"
   ]
  },
  {
   "cell_type": "markdown",
   "metadata": {
    "iooxa": {
     "id": {
      "block": "9diVzPWITf7CJPGyUsR4",
      "project": "o8uCbOPb8iJK0GDallsV",
      "version": 1
     }
    }
   },
   "source": [
    "Log Function"
   ]
  },
  {
   "cell_type": "code",
   "execution_count": 124,
   "metadata": {
    "iooxa": {
     "id": {
      "block": "hoGzTA5mvfoYwLzyoxBW",
      "project": "o8uCbOPb8iJK0GDallsV",
      "version": 1
     },
     "outputId": {
      "block": "g5uo3AQAkcTDdUMeuaTF",
      "project": "o8uCbOPb8iJK0GDallsV",
      "version": 1
     }
    }
   },
   "outputs": [
    {
     "data": {
      "text/plain": [
       "np.float64(1.0)"
      ]
     },
     "execution_count": 124,
     "metadata": {},
     "output_type": "execute_result"
    }
   ],
   "source": [
    "np.log(np.exp(1))"
   ]
  },
  {
   "cell_type": "code",
   "execution_count": 125,
   "metadata": {
    "iooxa": {
     "id": {
      "block": "IVNkfYbBU8NsVyeeWzv5",
      "project": "o8uCbOPb8iJK0GDallsV",
      "version": 1
     },
     "outputId": {
      "block": "6g8B6OVnHSQk099nU1jf",
      "project": "o8uCbOPb8iJK0GDallsV",
      "version": 1
     }
    }
   },
   "outputs": [
    {
     "data": {
      "text/plain": [
       "np.float64(5.0)"
      ]
     },
     "execution_count": 125,
     "metadata": {},
     "output_type": "execute_result"
    }
   ],
   "source": [
    "np.log(np.exp(5))"
   ]
  },
  {
   "cell_type": "markdown",
   "metadata": {
    "iooxa": {
     "id": {
      "block": "6J8mzhAW0hOzMmYSaIvI",
      "project": "o8uCbOPb8iJK0GDallsV",
      "version": 1
     }
    }
   },
   "source": [
    "***Question: How to identify the list of function defined in library?***\n",
    "\n",
    "- The help() function in Python is a built-in tool that provides documentation about functions, modules, and libraries."
   ]
  },
  {
   "cell_type": "code",
   "execution_count": 126,
   "metadata": {
    "iooxa": {
     "id": {
      "block": "qj92bp1hPNexymAhswzE",
      "project": "o8uCbOPb8iJK0GDallsV",
      "version": 1
     },
     "outputId": null
    }
   },
   "outputs": [],
   "source": [
    "# help(np.exp)\n",
    "# help(np)"
   ]
  },
  {
   "cell_type": "code",
   "execution_count": 127,
   "metadata": {
    "iooxa": {
     "id": {
      "block": "3mocfLrfaeApRbpET0yi",
      "project": "o8uCbOPb8iJK0GDallsV",
      "version": 1
     },
     "outputId": {
      "block": "jVWt67VEuiiAMIVl5ajC",
      "project": "o8uCbOPb8iJK0GDallsV",
      "version": 1
     }
    }
   },
   "outputs": [
    {
     "name": "stdout",
     "output_type": "stream",
     "text": [
      "Help on method cdf in module scipy.stats._distn_infrastructure:\n",
      "\n",
      "cdf(x, *args, **kwds) method of scipy.stats._continuous_distns.norm_gen instance\n",
      "    Cumulative distribution function of the given RV.\n",
      "    \n",
      "    Parameters\n",
      "    ----------\n",
      "    x : array_like\n",
      "        quantiles\n",
      "    arg1, arg2, arg3,... : array_like\n",
      "        The shape parameter(s) for the distribution (see docstring of the\n",
      "        instance object for more information)\n",
      "    loc : array_like, optional\n",
      "        location parameter (default=0)\n",
      "    scale : array_like, optional\n",
      "        scale parameter (default=1)\n",
      "    \n",
      "    Returns\n",
      "    -------\n",
      "    cdf : ndarray\n",
      "        Cumulative distribution function evaluated at `x`\n",
      "\n"
     ]
    }
   ],
   "source": [
    "from scipy.stats import norm\n",
    "help(norm.cdf)"
   ]
  },
  {
   "cell_type": "code",
   "execution_count": 128,
   "metadata": {
    "iooxa": {
     "id": {
      "block": "yuwnmuUeE2u3fV0LMdvS",
      "project": "o8uCbOPb8iJK0GDallsV",
      "version": 1
     },
     "outputId": {
      "block": "B1dBxuUy2GYnRgAXtBbK",
      "project": "o8uCbOPb8iJK0GDallsV",
      "version": 1
     }
    }
   },
   "outputs": [
    {
     "data": {
      "text/plain": [
       "np.float64(0.5)"
      ]
     },
     "execution_count": 128,
     "metadata": {},
     "output_type": "execute_result"
    }
   ],
   "source": [
    "norm.cdf(0) # we are going to use this function modeling black scholes function"
   ]
  },
  {
   "cell_type": "markdown",
   "metadata": {
    "iooxa": {
     "id": {
      "block": "JAFmGdDZevOMLNWOrSyo",
      "project": "o8uCbOPb8iJK0GDallsV",
      "version": 2
     }
    }
   },
   "source": [
    "# **Black Scholes Function**"
   ]
  },
  {
   "cell_type": "markdown",
   "metadata": {
    "iooxa": {
     "id": {
      "block": "IMhlxGIp2wHwrskmZPHc",
      "project": "o8uCbOPb8iJK0GDallsV",
      "version": 1
     }
    }
   },
   "source": [
    "- The **Black-Scholes model** is a mathematical model used for pricing European options.\n",
    "- It helps estimate the theoretical price of an option based on various factors like the underlying asset price, strike price, time to expiration, risk-free rate, and volatility.\n",
    "\n",
    "The Black-Scholes formula for pricing a **European call option** is:\n",
    "\n",
    "$$C = S_0 \\cdot N(d_1) - K \\cdot e^{-rT} \\cdot N(d_2)$$\n",
    "\n",
    "And for a **European put option,** the formula is:\n",
    "\n",
    "$$P = K \\cdot e^{-rT} \\cdot N(-d_2) - S_0 \\cdot N(-d_1)$$\n",
    "\n",
    "where,\n",
    "\n",
    "- $C$: Price of the call option\n",
    "- $P$: Price of the put option\n",
    "- $S_0$: Current price of the underlying asset\n",
    "- $K$: Strike price of the option\n",
    "- $T$: Time to maturity (in years)\n",
    "- $r$: Risk-free interest rate\n",
    "- $\\sigma$: Volatility of the underlying asset (standard deviation of the asset’s returns)\n",
    "- $N()$: Cumulative distribution function of the standard normal distribution\n",
    "- $d_1$ and $d_2$ are given by,\n",
    "\n",
    "$$d_1 = \\frac{\\ln\\left(\\frac{S_0}{X}\\right) + \\left( r + \\frac{\\sigma^2}{2} \\right) T}{\\sigma \\sqrt{T}}$$\n",
    "\n",
    "$$d_2 = d_1 - \\sigma \\sqrt{T}$$"
   ]
  },
  {
   "cell_type": "code",
   "execution_count": 129,
   "metadata": {
    "iooxa": {
     "id": {
      "block": "Y27cOHOMm4Xlo9B2i1gl",
      "project": "o8uCbOPb8iJK0GDallsV",
      "version": 1
     },
     "outputId": null
    }
   },
   "outputs": [],
   "source": [
    "import math\n",
    "# Calculate d1\n",
    "def d1(S,K,sigma,r,t):\n",
    "  v1 = math.log(S/K)\n",
    "  v2 = (r + (sigma*sigma)/2.0) * t\n",
    "  v3 = sigma * math.sqrt(t)\n",
    "  return (v1+v2)/v3    "
   ]
  },
  {
   "cell_type": "code",
   "execution_count": 130,
   "metadata": {
    "iooxa": {
     "id": {
      "block": "pkplasudQQ7Txqf9vOGf",
      "project": "o8uCbOPb8iJK0GDallsV",
      "version": 1
     },
     "outputId": null
    }
   },
   "outputs": [],
   "source": [
    "#Calculate d2\n",
    "def d2(S,K,sigma,r,t):\n",
    "    return d1(S,K,sigma,r,t) - sigma * math.sqrt(t)"
   ]
  },
  {
   "cell_type": "markdown",
   "metadata": {
    "iooxa": {
     "id": {
      "block": "ajKCKgoV4TShA8p05OEe",
      "project": "o8uCbOPb8iJK0GDallsV",
      "version": 1
     }
    }
   },
   "source": [
    "**Call Option Function**"
   ]
  },
  {
   "cell_type": "code",
   "execution_count": 131,
   "metadata": {
    "iooxa": {
     "id": {
      "block": "si4eDMUDPOtkn4CXFALv",
      "project": "o8uCbOPb8iJK0GDallsV",
      "version": 1
     },
     "outputId": null
    }
   },
   "outputs": [],
   "source": [
    "def call(S,K,sigma,r,t):\n",
    "  \"\"\" Price a call option using Black-Sholes \"\"\"\n",
    "  v1 = d1(S,K,sigma,r,t)\n",
    "  v2 = d2(S,K,sigma,r,t)\n",
    "\n",
    "  return S * norm.cdf(v1) - K * math.exp(-r*t) * norm.cdf(v2)\n"
   ]
  },
  {
   "cell_type": "markdown",
   "metadata": {
    "iooxa": {
     "id": {
      "block": "MnrqS0whl3d1W6MZEG8P",
      "project": "o8uCbOPb8iJK0GDallsV",
      "version": 1
     }
    }
   },
   "source": [
    "**Put Option Function**"
   ]
  },
  {
   "cell_type": "code",
   "execution_count": 132,
   "metadata": {
    "iooxa": {
     "id": {
      "block": "eHKvodHMiQOaLFFgro4H",
      "project": "o8uCbOPb8iJK0GDallsV",
      "version": 1
     },
     "outputId": null
    }
   },
   "outputs": [],
   "source": [
    "def put(S,K,sigma,r,t):\n",
    "  \"\"\" Price a put option using Black-Sholes \"\"\"\n",
    "  v1 = d1(S,K,sigma,r,t)\n",
    "  v2 = d2(S,K,sigma,r,t)\n",
    "\n",
    "  return norm.cdf(-v2)*K*math.exp(-r*t) - norm.cdf(-v1)*S "
   ]
  },
  {
   "cell_type": "markdown",
   "metadata": {
    "iooxa": {
     "id": {
      "block": "J2sbjGWdutpvfP1a3VPL",
      "project": "o8uCbOPb8iJK0GDallsV",
      "version": 1
     }
    }
   },
   "source": [
    "**Example of Black Scholes Function**"
   ]
  },
  {
   "cell_type": "markdown",
   "metadata": {
    "iooxa": {
     "id": {
      "block": "O0HyoTtySF4QBYjLwuYA",
      "project": "o8uCbOPb8iJK0GDallsV",
      "version": 2
     }
    }
   },
   "source": [
    "How time to maturity is considered?"
   ]
  },
  {
   "cell_type": "code",
   "execution_count": 133,
   "metadata": {
    "iooxa": {
     "id": {
      "block": "1D3ncyLRYgJEyUa6ZcEA",
      "project": "o8uCbOPb8iJK0GDallsV",
      "version": 1
     },
     "outputId": null
    }
   },
   "outputs": [],
   "source": [
    "#one_month = 1.0 / 12.0 two_month = 2.0 / 12.0 \n",
    "#three_month = 3.0 / 12.0 four_month = 4.0 / 12.0 \n",
    "#six_month = 6.0 / 12.0 one_year = 1.0"
   ]
  },
  {
   "cell_type": "code",
   "execution_count": 134,
   "metadata": {
    "iooxa": {
     "id": {
      "block": "nJUsSRh1l7IUd0OgRToE",
      "project": "o8uCbOPb8iJK0GDallsV",
      "version": 1
     },
     "outputId": {
      "block": "rStZzyIcV0WMLwRdbb8x",
      "project": "o8uCbOPb8iJK0GDallsV",
      "version": 1
     }
    }
   },
   "outputs": [
    {
     "name": "stdout",
     "output_type": "stream",
     "text": [
      "Call: 21.690486509133393\n",
      "Put: 15.852052741257722\n"
     ]
    }
   ],
   "source": [
    "# Calling function put with following parameters\n",
    "S= 470  # Current stock price\n",
    "K = 470 # Strike price\n",
    "sigma=0.2  # Volatility (20%)\n",
    "t= 3/12 #3-months\n",
    "r=0.05 # Risk-free interest rate (5%)\n",
    "print('Call:',call(S,K,sigma,r,t))\n",
    "print('Put:',put(S,K,sigma,r,t))"
   ]
  },
  {
   "cell_type": "markdown",
   "metadata": {
    "iooxa": {
     "id": {
      "block": "SPovBeB30V23bT3M7bc9",
      "project": "o8uCbOPb8iJK0GDallsV",
      "version": 2
     }
    }
   },
   "source": [
    "## **Implementation with MSFT data**"
   ]
  },
  {
   "cell_type": "code",
   "execution_count": 135,
   "metadata": {
    "iooxa": {
     "id": {
      "block": "3gF8fGmELlsRKaQulJRo",
      "project": "o8uCbOPb8iJK0GDallsV",
      "version": 1
     },
     "outputId": {
      "block": "s7lWN9fVGTLf95RokvZO",
      "project": "o8uCbOPb8iJK0GDallsV",
      "version": 1
     }
    }
   },
   "outputs": [
    {
     "data": {
      "application/vnd.microsoft.datawrangler.viewer.v0+json": {
       "columns": [
        {
         "name": "index",
         "rawType": "int64",
         "type": "integer"
        },
        {
         "name": "Contract Name",
         "rawType": "object",
         "type": "string"
        },
        {
         "name": "Last Trade Date",
         "rawType": "object",
         "type": "string"
        },
        {
         "name": "Strike",
         "rawType": "int64",
         "type": "integer"
        },
        {
         "name": "Last Price",
         "rawType": "float64",
         "type": "float"
        },
        {
         "name": "Bid",
         "rawType": "float64",
         "type": "float"
        },
        {
         "name": "Ask",
         "rawType": "float64",
         "type": "float"
        },
        {
         "name": "Change",
         "rawType": "float64",
         "type": "float"
        },
        {
         "name": "% Change",
         "rawType": "object",
         "type": "string"
        },
        {
         "name": "Volume",
         "rawType": "int64",
         "type": "integer"
        },
        {
         "name": "Open Interest",
         "rawType": "int64",
         "type": "integer"
        },
        {
         "name": "Implied Volatility",
         "rawType": "object",
         "type": "string"
        }
       ],
       "ref": "8c9bc7f1-0d5c-40b6-92bd-fe9e1bbeb4c8",
       "rows": [
        [
         "0",
         "MSFT220819C00240000",
         "2022-02-25 2:59PM EST",
         "240",
         "63.8",
         "63.4",
         "66.3",
         "6.88",
         "12.09%",
         "3",
         "24",
         "39.47%"
        ],
        [
         "1",
         "MSFT220819C00245000",
         "2022-02-23 12:32PM EST",
         "245",
         "53.2",
         "59.15",
         "61.65",
         "0.0",
         "-",
         "3",
         "47",
         "37.70%"
        ],
        [
         "2",
         "MSFT220819C00250000",
         "2022-02-25 2:04PM EST",
         "250",
         "55.95",
         "55.5",
         "57.45",
         "6.68",
         "13.56%",
         "1",
         "161",
         "36.66%"
        ]
       ],
       "shape": {
        "columns": 11,
        "rows": 3
       }
      },
      "text/html": [
       "<div>\n",
       "<style scoped>\n",
       "    .dataframe tbody tr th:only-of-type {\n",
       "        vertical-align: middle;\n",
       "    }\n",
       "\n",
       "    .dataframe tbody tr th {\n",
       "        vertical-align: top;\n",
       "    }\n",
       "\n",
       "    .dataframe thead th {\n",
       "        text-align: right;\n",
       "    }\n",
       "</style>\n",
       "<table border=\"1\" class=\"dataframe\">\n",
       "  <thead>\n",
       "    <tr style=\"text-align: right;\">\n",
       "      <th></th>\n",
       "      <th>Contract Name</th>\n",
       "      <th>Last Trade Date</th>\n",
       "      <th>Strike</th>\n",
       "      <th>Last Price</th>\n",
       "      <th>Bid</th>\n",
       "      <th>Ask</th>\n",
       "      <th>Change</th>\n",
       "      <th>% Change</th>\n",
       "      <th>Volume</th>\n",
       "      <th>Open Interest</th>\n",
       "      <th>Implied Volatility</th>\n",
       "    </tr>\n",
       "  </thead>\n",
       "  <tbody>\n",
       "    <tr>\n",
       "      <th>0</th>\n",
       "      <td>MSFT220819C00240000</td>\n",
       "      <td>2022-02-25 2:59PM EST</td>\n",
       "      <td>240</td>\n",
       "      <td>63.80</td>\n",
       "      <td>63.40</td>\n",
       "      <td>66.30</td>\n",
       "      <td>6.88</td>\n",
       "      <td>12.09%</td>\n",
       "      <td>3</td>\n",
       "      <td>24</td>\n",
       "      <td>39.47%</td>\n",
       "    </tr>\n",
       "    <tr>\n",
       "      <th>1</th>\n",
       "      <td>MSFT220819C00245000</td>\n",
       "      <td>2022-02-23 12:32PM EST</td>\n",
       "      <td>245</td>\n",
       "      <td>53.20</td>\n",
       "      <td>59.15</td>\n",
       "      <td>61.65</td>\n",
       "      <td>0.00</td>\n",
       "      <td>-</td>\n",
       "      <td>3</td>\n",
       "      <td>47</td>\n",
       "      <td>37.70%</td>\n",
       "    </tr>\n",
       "    <tr>\n",
       "      <th>2</th>\n",
       "      <td>MSFT220819C00250000</td>\n",
       "      <td>2022-02-25 2:04PM EST</td>\n",
       "      <td>250</td>\n",
       "      <td>55.95</td>\n",
       "      <td>55.50</td>\n",
       "      <td>57.45</td>\n",
       "      <td>6.68</td>\n",
       "      <td>13.56%</td>\n",
       "      <td>1</td>\n",
       "      <td>161</td>\n",
       "      <td>36.66%</td>\n",
       "    </tr>\n",
       "  </tbody>\n",
       "</table>\n",
       "</div>"
      ],
      "text/plain": [
       "         Contract Name         Last Trade Date  Strike  Last Price    Bid  \\\n",
       "0  MSFT220819C00240000   2022-02-25 2:59PM EST     240       63.80  63.40   \n",
       "1  MSFT220819C00245000  2022-02-23 12:32PM EST     245       53.20  59.15   \n",
       "2  MSFT220819C00250000   2022-02-25 2:04PM EST     250       55.95  55.50   \n",
       "\n",
       "     Ask  Change % Change  Volume  Open Interest Implied Volatility  \n",
       "0  66.30    6.88   12.09%       3             24             39.47%  \n",
       "1  61.65    0.00        -       3             47             37.70%  \n",
       "2  57.45    6.68   13.56%       1            161             36.66%  "
      ]
     },
     "execution_count": 135,
     "metadata": {},
     "output_type": "execute_result"
    }
   ],
   "source": [
    "import pandas as pd\n",
    "msft_calls=pd.read_csv('dataFiles/msft_calls_20220225.csv')\n",
    "msft_calls.head(3)"
   ]
  },
  {
   "cell_type": "code",
   "execution_count": 136,
   "metadata": {
    "iooxa": {
     "id": {
      "block": "VeTNn0qy1G5XPUCO5fQz",
      "project": "o8uCbOPb8iJK0GDallsV",
      "version": 1
     },
     "outputId": {
      "block": "DfmaEg7nCvvJEtJyXMwK",
      "project": "o8uCbOPb8iJK0GDallsV",
      "version": 1
     }
    }
   },
   "outputs": [
    {
     "data": {
      "application/vnd.microsoft.datawrangler.viewer.v0+json": {
       "columns": [
        {
         "name": "index",
         "rawType": "int64",
         "type": "integer"
        },
        {
         "name": "Contract Name",
         "rawType": "object",
         "type": "string"
        },
        {
         "name": "Last Trade Date",
         "rawType": "object",
         "type": "string"
        },
        {
         "name": "Strike",
         "rawType": "int64",
         "type": "integer"
        },
        {
         "name": "Last Price",
         "rawType": "float64",
         "type": "float"
        },
        {
         "name": "Bid",
         "rawType": "float64",
         "type": "float"
        },
        {
         "name": "Ask",
         "rawType": "float64",
         "type": "float"
        },
        {
         "name": "Change",
         "rawType": "float64",
         "type": "float"
        },
        {
         "name": "% Change",
         "rawType": "object",
         "type": "string"
        },
        {
         "name": "Volume",
         "rawType": "int64",
         "type": "integer"
        },
        {
         "name": "Open Interest",
         "rawType": "int64",
         "type": "integer"
        },
        {
         "name": "Implied Volatility",
         "rawType": "object",
         "type": "string"
        }
       ],
       "ref": "5aa14b95-368d-419d-8a9c-869dcb24bf1b",
       "rows": [
        [
         "0",
         "MSFT220819C00240000",
         "2022-02-25 2:59PM EST",
         "240",
         "63.8",
         "63.4",
         "66.3",
         "6.88",
         "12.09%",
         "3",
         "24",
         "39.47%"
        ],
        [
         "1",
         "MSFT220819C00245000",
         "2022-02-23 12:32PM EST",
         "245",
         "53.2",
         "59.15",
         "61.65",
         "0.0",
         "-",
         "3",
         "47",
         "37.70%"
        ],
        [
         "2",
         "MSFT220819C00250000",
         "2022-02-25 2:04PM EST",
         "250",
         "55.95",
         "55.5",
         "57.45",
         "6.68",
         "13.56%",
         "1",
         "161",
         "36.66%"
        ]
       ],
       "shape": {
        "columns": 11,
        "rows": 3
       }
      },
      "text/html": [
       "<div>\n",
       "<style scoped>\n",
       "    .dataframe tbody tr th:only-of-type {\n",
       "        vertical-align: middle;\n",
       "    }\n",
       "\n",
       "    .dataframe tbody tr th {\n",
       "        vertical-align: top;\n",
       "    }\n",
       "\n",
       "    .dataframe thead th {\n",
       "        text-align: right;\n",
       "    }\n",
       "</style>\n",
       "<table border=\"1\" class=\"dataframe\">\n",
       "  <thead>\n",
       "    <tr style=\"text-align: right;\">\n",
       "      <th></th>\n",
       "      <th>Contract Name</th>\n",
       "      <th>Last Trade Date</th>\n",
       "      <th>Strike</th>\n",
       "      <th>Last Price</th>\n",
       "      <th>Bid</th>\n",
       "      <th>Ask</th>\n",
       "      <th>Change</th>\n",
       "      <th>% Change</th>\n",
       "      <th>Volume</th>\n",
       "      <th>Open Interest</th>\n",
       "      <th>Implied Volatility</th>\n",
       "    </tr>\n",
       "  </thead>\n",
       "  <tbody>\n",
       "    <tr>\n",
       "      <th>0</th>\n",
       "      <td>MSFT220819C00240000</td>\n",
       "      <td>2022-02-25 2:59PM EST</td>\n",
       "      <td>240</td>\n",
       "      <td>63.80</td>\n",
       "      <td>63.40</td>\n",
       "      <td>66.30</td>\n",
       "      <td>6.88</td>\n",
       "      <td>12.09%</td>\n",
       "      <td>3</td>\n",
       "      <td>24</td>\n",
       "      <td>39.47%</td>\n",
       "    </tr>\n",
       "    <tr>\n",
       "      <th>1</th>\n",
       "      <td>MSFT220819C00245000</td>\n",
       "      <td>2022-02-23 12:32PM EST</td>\n",
       "      <td>245</td>\n",
       "      <td>53.20</td>\n",
       "      <td>59.15</td>\n",
       "      <td>61.65</td>\n",
       "      <td>0.00</td>\n",
       "      <td>-</td>\n",
       "      <td>3</td>\n",
       "      <td>47</td>\n",
       "      <td>37.70%</td>\n",
       "    </tr>\n",
       "    <tr>\n",
       "      <th>2</th>\n",
       "      <td>MSFT220819C00250000</td>\n",
       "      <td>2022-02-25 2:04PM EST</td>\n",
       "      <td>250</td>\n",
       "      <td>55.95</td>\n",
       "      <td>55.50</td>\n",
       "      <td>57.45</td>\n",
       "      <td>6.68</td>\n",
       "      <td>13.56%</td>\n",
       "      <td>1</td>\n",
       "      <td>161</td>\n",
       "      <td>36.66%</td>\n",
       "    </tr>\n",
       "  </tbody>\n",
       "</table>\n",
       "</div>"
      ],
      "text/plain": [
       "         Contract Name         Last Trade Date  Strike  Last Price    Bid  \\\n",
       "0  MSFT220819C00240000   2022-02-25 2:59PM EST     240       63.80  63.40   \n",
       "1  MSFT220819C00245000  2022-02-23 12:32PM EST     245       53.20  59.15   \n",
       "2  MSFT220819C00250000   2022-02-25 2:04PM EST     250       55.95  55.50   \n",
       "\n",
       "     Ask  Change % Change  Volume  Open Interest Implied Volatility  \n",
       "0  66.30    6.88   12.09%       3             24             39.47%  \n",
       "1  61.65    0.00        -       3             47             37.70%  \n",
       "2  57.45    6.68   13.56%       1            161             36.66%  "
      ]
     },
     "execution_count": 136,
     "metadata": {},
     "output_type": "execute_result"
    }
   ],
   "source": [
    "msft_calls=pd.read_csv('dataFiles/msft_calls_20220225.csv')\n",
    "msft_calls.head(3)"
   ]
  },
  {
   "cell_type": "markdown",
   "metadata": {
    "iooxa": {
     "id": {
      "block": "UdoJ9plamAoE9fZ8BePf",
      "project": "o8uCbOPb8iJK0GDallsV",
      "version": 1
     }
    }
   },
   "source": [
    "***.info() method list the information about the datasets.***"
   ]
  },
  {
   "cell_type": "code",
   "execution_count": 137,
   "metadata": {
    "iooxa": {
     "id": {
      "block": "1ib3fc1RWClQZhYyECZq",
      "project": "o8uCbOPb8iJK0GDallsV",
      "version": 1
     },
     "outputId": {
      "block": "HS14zU2AET0MCwy4wPrR",
      "project": "o8uCbOPb8iJK0GDallsV",
      "version": 1
     }
    }
   },
   "outputs": [
    {
     "name": "stdout",
     "output_type": "stream",
     "text": [
      "<class 'pandas.core.frame.DataFrame'>\n",
      "RangeIndex: 27 entries, 0 to 26\n",
      "Data columns (total 11 columns):\n",
      " #   Column              Non-Null Count  Dtype  \n",
      "---  ------              --------------  -----  \n",
      " 0   Contract Name       27 non-null     object \n",
      " 1   Last Trade Date     27 non-null     object \n",
      " 2   Strike              27 non-null     int64  \n",
      " 3   Last Price          27 non-null     float64\n",
      " 4   Bid                 27 non-null     float64\n",
      " 5   Ask                 27 non-null     float64\n",
      " 6   Change              27 non-null     float64\n",
      " 7   % Change            27 non-null     object \n",
      " 8   Volume              27 non-null     int64  \n",
      " 9   Open Interest       27 non-null     int64  \n",
      " 10  Implied Volatility  27 non-null     object \n",
      "dtypes: float64(4), int64(3), object(4)\n",
      "memory usage: 2.4+ KB\n"
     ]
    }
   ],
   "source": [
    "msft_calls.info()"
   ]
  },
  {
   "cell_type": "code",
   "execution_count": 138,
   "metadata": {
    "iooxa": {
     "id": {
      "block": "kZo90daN1hhsvC407Ihe",
      "project": "o8uCbOPb8iJK0GDallsV",
      "version": 1
     },
     "outputId": null
    }
   },
   "outputs": [],
   "source": [
    "S= 297.31\n",
    "r= 0.003\n",
    "from datetime import date\n",
    "exp_date=date(2022,8,19)\n",
    "trade_date=date(2022,2,25)\n",
    "days_to_exp= exp_date-trade_date"
   ]
  },
  {
   "cell_type": "code",
   "execution_count": 139,
   "metadata": {
    "iooxa": {
     "id": {
      "block": "pxtqxQkUoCFx4UAv0B2p",
      "project": "o8uCbOPb8iJK0GDallsV",
      "version": 1
     },
     "outputId": {
      "block": "TDx3aunD4DBNeOn6rHKS",
      "project": "o8uCbOPb8iJK0GDallsV",
      "version": 1
     }
    }
   },
   "outputs": [
    {
     "data": {
      "text/plain": [
       "0.4794520547945205"
      ]
     },
     "execution_count": 139,
     "metadata": {},
     "output_type": "execute_result"
    }
   ],
   "source": [
    "t = days_to_exp.days/365\n",
    "t"
   ]
  },
  {
   "cell_type": "markdown",
   "metadata": {
    "iooxa": {
     "id": {
      "block": "1VjZaDFIYEIFfD4Hub28",
      "project": "o8uCbOPb8iJK0GDallsV",
      "version": 1
     }
    }
   },
   "source": [
    "**To print the columns of the dataframe,**"
   ]
  },
  {
   "cell_type": "code",
   "execution_count": 140,
   "metadata": {
    "iooxa": {
     "id": {
      "block": "52zjsOPzGjuItkHKjiWh",
      "project": "o8uCbOPb8iJK0GDallsV",
      "version": 1
     },
     "outputId": {
      "block": "0fsOiLO1zdCWPU4UMqfe",
      "project": "o8uCbOPb8iJK0GDallsV",
      "version": 1
     }
    }
   },
   "outputs": [
    {
     "data": {
      "text/plain": [
       "Index(['Contract Name', 'Last Trade Date', 'Strike', 'Last Price', 'Bid',\n",
       "       'Ask', 'Change', '% Change', 'Volume', 'Open Interest',\n",
       "       'Implied Volatility'],\n",
       "      dtype='object')"
      ]
     },
     "execution_count": 140,
     "metadata": {},
     "output_type": "execute_result"
    }
   ],
   "source": [
    "msft_calls.columns"
   ]
  },
  {
   "cell_type": "markdown",
   "metadata": {
    "iooxa": {
     "id": {
      "block": "IQema02pXEa2xIvBCIk7",
      "project": "o8uCbOPb8iJK0GDallsV",
      "version": 2
     }
    }
   },
   "source": [
    "**Renaming the column name**"
   ]
  },
  {
   "cell_type": "code",
   "execution_count": 141,
   "metadata": {
    "iooxa": {
     "id": {
      "block": "FrrGITJzUkdZ9ijMswId",
      "project": "o8uCbOPb8iJK0GDallsV",
      "version": 1
     },
     "outputId": {
      "block": "gvRhGEbcMj6yt5iVZcsT",
      "project": "o8uCbOPb8iJK0GDallsV",
      "version": 1
     }
    }
   },
   "outputs": [
    {
     "data": {
      "text/plain": [
       "Index(['Contract Name', 'Last Trade Date', 'Strike', 'call_price', 'Bid',\n",
       "       'Ask', 'Change', '% Change', 'Volume', 'Open Interest', 'iv'],\n",
       "      dtype='object')"
      ]
     },
     "execution_count": 141,
     "metadata": {},
     "output_type": "execute_result"
    }
   ],
   "source": [
    "msft_calls.rename(columns = {\"Last Price\": \"call_price\" , 'Implied Volatility':'iv'}, \n",
    "          inplace = True)\n",
    "msft_calls.columns"
   ]
  },
  {
   "cell_type": "markdown",
   "metadata": {
    "iooxa": {
     "id": {
      "block": "V6w02SB1CWx3mEewe04t",
      "project": "o8uCbOPb8iJK0GDallsV",
      "version": 1
     }
    }
   },
   "source": [
    "**Identifying the Shape of DataFrame (row, column)**"
   ]
  },
  {
   "cell_type": "code",
   "execution_count": 142,
   "metadata": {
    "iooxa": {
     "id": {
      "block": "b73CeENTlnY5IgP4Jnul",
      "project": "o8uCbOPb8iJK0GDallsV",
      "version": 1
     },
     "outputId": {
      "block": "J8PWln4MOBsyNc30DjCi",
      "project": "o8uCbOPb8iJK0GDallsV",
      "version": 1
     }
    }
   },
   "outputs": [
    {
     "data": {
      "application/vnd.microsoft.datawrangler.viewer.v0+json": {
       "columns": [
        {
         "name": "index",
         "rawType": "int64",
         "type": "integer"
        },
        {
         "name": "Strike",
         "rawType": "int64",
         "type": "integer"
        },
        {
         "name": "Bid",
         "rawType": "float64",
         "type": "float"
        },
        {
         "name": "Ask",
         "rawType": "float64",
         "type": "float"
        },
        {
         "name": "call_price",
         "rawType": "float64",
         "type": "float"
        },
        {
         "name": "Volume",
         "rawType": "int64",
         "type": "integer"
        },
        {
         "name": "iv",
         "rawType": "object",
         "type": "string"
        }
       ],
       "ref": "7e697f66-27e2-4f09-acbd-c77363d14d07",
       "rows": [
        [
         "0",
         "240",
         "63.4",
         "66.3",
         "63.8",
         "3",
         "39.47%"
        ],
        [
         "1",
         "245",
         "59.15",
         "61.65",
         "53.2",
         "3",
         "37.70%"
        ],
        [
         "2",
         "250",
         "55.5",
         "57.45",
         "55.95",
         "1",
         "36.66%"
        ],
        [
         "3",
         "255",
         "51.5",
         "54.1",
         "40.7",
         "3",
         "36.87%"
        ],
        [
         "4",
         "260",
         "47.85",
         "49.6",
         "47.97",
         "1",
         "35.12%"
        ]
       ],
       "shape": {
        "columns": 6,
        "rows": 5
       }
      },
      "text/html": [
       "<div>\n",
       "<style scoped>\n",
       "    .dataframe tbody tr th:only-of-type {\n",
       "        vertical-align: middle;\n",
       "    }\n",
       "\n",
       "    .dataframe tbody tr th {\n",
       "        vertical-align: top;\n",
       "    }\n",
       "\n",
       "    .dataframe thead th {\n",
       "        text-align: right;\n",
       "    }\n",
       "</style>\n",
       "<table border=\"1\" class=\"dataframe\">\n",
       "  <thead>\n",
       "    <tr style=\"text-align: right;\">\n",
       "      <th></th>\n",
       "      <th>Strike</th>\n",
       "      <th>Bid</th>\n",
       "      <th>Ask</th>\n",
       "      <th>call_price</th>\n",
       "      <th>Volume</th>\n",
       "      <th>iv</th>\n",
       "    </tr>\n",
       "  </thead>\n",
       "  <tbody>\n",
       "    <tr>\n",
       "      <th>0</th>\n",
       "      <td>240</td>\n",
       "      <td>63.40</td>\n",
       "      <td>66.30</td>\n",
       "      <td>63.80</td>\n",
       "      <td>3</td>\n",
       "      <td>39.47%</td>\n",
       "    </tr>\n",
       "    <tr>\n",
       "      <th>1</th>\n",
       "      <td>245</td>\n",
       "      <td>59.15</td>\n",
       "      <td>61.65</td>\n",
       "      <td>53.20</td>\n",
       "      <td>3</td>\n",
       "      <td>37.70%</td>\n",
       "    </tr>\n",
       "    <tr>\n",
       "      <th>2</th>\n",
       "      <td>250</td>\n",
       "      <td>55.50</td>\n",
       "      <td>57.45</td>\n",
       "      <td>55.95</td>\n",
       "      <td>1</td>\n",
       "      <td>36.66%</td>\n",
       "    </tr>\n",
       "    <tr>\n",
       "      <th>3</th>\n",
       "      <td>255</td>\n",
       "      <td>51.50</td>\n",
       "      <td>54.10</td>\n",
       "      <td>40.70</td>\n",
       "      <td>3</td>\n",
       "      <td>36.87%</td>\n",
       "    </tr>\n",
       "    <tr>\n",
       "      <th>4</th>\n",
       "      <td>260</td>\n",
       "      <td>47.85</td>\n",
       "      <td>49.60</td>\n",
       "      <td>47.97</td>\n",
       "      <td>1</td>\n",
       "      <td>35.12%</td>\n",
       "    </tr>\n",
       "  </tbody>\n",
       "</table>\n",
       "</div>"
      ],
      "text/plain": [
       "   Strike    Bid    Ask  call_price  Volume      iv\n",
       "0     240  63.40  66.30       63.80       3  39.47%\n",
       "1     245  59.15  61.65       53.20       3  37.70%\n",
       "2     250  55.50  57.45       55.95       1  36.66%\n",
       "3     255  51.50  54.10       40.70       3  36.87%\n",
       "4     260  47.85  49.60       47.97       1  35.12%"
      ]
     },
     "execution_count": 142,
     "metadata": {},
     "output_type": "execute_result"
    }
   ],
   "source": [
    "ms_calls=msft_calls[[ 'Strike',  'Bid','Ask' , 'call_price' ,'Volume' , 'iv']]\n",
    "ms_calls.head()"
   ]
  },
  {
   "cell_type": "code",
   "execution_count": 143,
   "metadata": {},
   "outputs": [
    {
     "data": {
      "text/plain": [
       "(27, 6)"
      ]
     },
     "execution_count": 143,
     "metadata": {},
     "output_type": "execute_result"
    }
   ],
   "source": [
    "ms_calls.shape # shape of dataframe"
   ]
  },
  {
   "cell_type": "code",
   "execution_count": 144,
   "metadata": {
    "iooxa": {
     "id": {
      "block": "WiVBwA1moJfWAgYW3vNu",
      "project": "o8uCbOPb8iJK0GDallsV",
      "version": 1
     },
     "outputId": {
      "block": "R3iJ620tdrpXZfGUErOO",
      "project": "o8uCbOPb8iJK0GDallsV",
      "version": 1
     }
    }
   },
   "outputs": [
    {
     "data": {
      "text/plain": [
       "27"
      ]
     },
     "execution_count": 144,
     "metadata": {},
     "output_type": "execute_result"
    }
   ],
   "source": [
    "ms_calls.shape[0]"
   ]
  },
  {
   "cell_type": "code",
   "execution_count": 145,
   "metadata": {
    "iooxa": {
     "id": {
      "block": "7qv7JLNrhhduhA5Pl7Wp",
      "project": "o8uCbOPb8iJK0GDallsV",
      "version": 1
     },
     "outputId": {
      "block": "C8lwg40EgQIsuM1MQ9I9",
      "project": "o8uCbOPb8iJK0GDallsV",
      "version": 1
     }
    },
    "scrolled": true
   },
   "outputs": [
    {
     "name": "stdout",
     "output_type": "stream",
     "text": [
      "<class 'pandas.core.frame.DataFrame'>\n",
      "RangeIndex: 27 entries, 0 to 26\n",
      "Data columns (total 6 columns):\n",
      " #   Column      Non-Null Count  Dtype  \n",
      "---  ------      --------------  -----  \n",
      " 0   Strike      27 non-null     int64  \n",
      " 1   Bid         27 non-null     float64\n",
      " 2   Ask         27 non-null     float64\n",
      " 3   call_price  27 non-null     float64\n",
      " 4   Volume      27 non-null     int64  \n",
      " 5   iv          27 non-null     object \n",
      "dtypes: float64(3), int64(2), object(1)\n",
      "memory usage: 1.4+ KB\n"
     ]
    }
   ],
   "source": [
    "ms_calls.info()"
   ]
  },
  {
   "cell_type": "code",
   "execution_count": 146,
   "metadata": {
    "iooxa": {
     "id": {
      "block": "ARSEyLTr4CDtMbQqas85",
      "project": "o8uCbOPb8iJK0GDallsV",
      "version": 1
     },
     "outputId": {
      "block": "aJrBvN6ueLCAKOUrnzbI",
      "project": "o8uCbOPb8iJK0GDallsV",
      "version": 1
     }
    }
   },
   "outputs": [
    {
     "data": {
      "application/vnd.microsoft.datawrangler.viewer.v0+json": {
       "columns": [
        {
         "name": "index",
         "rawType": "int64",
         "type": "integer"
        },
        {
         "name": "Strike",
         "rawType": "int64",
         "type": "integer"
        },
        {
         "name": "Bid",
         "rawType": "float64",
         "type": "float"
        },
        {
         "name": "Ask",
         "rawType": "float64",
         "type": "float"
        },
        {
         "name": "call_price",
         "rawType": "float64",
         "type": "float"
        },
        {
         "name": "Volume",
         "rawType": "int64",
         "type": "integer"
        },
        {
         "name": "iv",
         "rawType": "object",
         "type": "string"
        }
       ],
       "ref": "39bda7b9-7c13-41bf-9a03-98df32aafc6f",
       "rows": [
        [
         "0",
         "240",
         "63.4",
         "66.3",
         "63.8",
         "3",
         "39.47%"
        ],
        [
         "1",
         "245",
         "59.15",
         "61.65",
         "53.2",
         "3",
         "37.70%"
        ],
        [
         "2",
         "250",
         "55.5",
         "57.45",
         "55.95",
         "1",
         "36.66%"
        ]
       ],
       "shape": {
        "columns": 6,
        "rows": 3
       }
      },
      "text/html": [
       "<div>\n",
       "<style scoped>\n",
       "    .dataframe tbody tr th:only-of-type {\n",
       "        vertical-align: middle;\n",
       "    }\n",
       "\n",
       "    .dataframe tbody tr th {\n",
       "        vertical-align: top;\n",
       "    }\n",
       "\n",
       "    .dataframe thead th {\n",
       "        text-align: right;\n",
       "    }\n",
       "</style>\n",
       "<table border=\"1\" class=\"dataframe\">\n",
       "  <thead>\n",
       "    <tr style=\"text-align: right;\">\n",
       "      <th></th>\n",
       "      <th>Strike</th>\n",
       "      <th>Bid</th>\n",
       "      <th>Ask</th>\n",
       "      <th>call_price</th>\n",
       "      <th>Volume</th>\n",
       "      <th>iv</th>\n",
       "    </tr>\n",
       "  </thead>\n",
       "  <tbody>\n",
       "    <tr>\n",
       "      <th>0</th>\n",
       "      <td>240</td>\n",
       "      <td>63.40</td>\n",
       "      <td>66.30</td>\n",
       "      <td>63.80</td>\n",
       "      <td>3</td>\n",
       "      <td>39.47%</td>\n",
       "    </tr>\n",
       "    <tr>\n",
       "      <th>1</th>\n",
       "      <td>245</td>\n",
       "      <td>59.15</td>\n",
       "      <td>61.65</td>\n",
       "      <td>53.20</td>\n",
       "      <td>3</td>\n",
       "      <td>37.70%</td>\n",
       "    </tr>\n",
       "    <tr>\n",
       "      <th>2</th>\n",
       "      <td>250</td>\n",
       "      <td>55.50</td>\n",
       "      <td>57.45</td>\n",
       "      <td>55.95</td>\n",
       "      <td>1</td>\n",
       "      <td>36.66%</td>\n",
       "    </tr>\n",
       "  </tbody>\n",
       "</table>\n",
       "</div>"
      ],
      "text/plain": [
       "   Strike    Bid    Ask  call_price  Volume      iv\n",
       "0     240  63.40  66.30       63.80       3  39.47%\n",
       "1     245  59.15  61.65       53.20       3  37.70%\n",
       "2     250  55.50  57.45       55.95       1  36.66%"
      ]
     },
     "execution_count": 146,
     "metadata": {},
     "output_type": "execute_result"
    }
   ],
   "source": [
    "ms_calls.head(3)"
   ]
  },
  {
   "cell_type": "code",
   "execution_count": 147,
   "metadata": {},
   "outputs": [
    {
     "name": "stdout",
     "output_type": "stream",
     "text": [
      "39.47% 39.47\n"
     ]
    }
   ],
   "source": [
    "# Notice in above data frame, iv values are srting\n",
    "type(ms_calls['iv'].values)\n",
    "# we have to convert into float for further requirement\n",
    "print(ms_calls['iv'][0], ms_calls['iv'][0][0:-1])"
   ]
  },
  {
   "cell_type": "code",
   "execution_count": 148,
   "metadata": {},
   "outputs": [
    {
     "data": {
      "application/vnd.microsoft.datawrangler.viewer.v0+json": {
       "columns": [
        {
         "name": "index",
         "rawType": "int64",
         "type": "integer"
        },
        {
         "name": "iv",
         "rawType": "object",
         "type": "string"
        }
       ],
       "ref": "9b09efd6-df15-4710-8fe4-0d49a015d3f2",
       "rows": [
        [
         "0",
         "39.47"
        ],
        [
         "1",
         "37.70"
        ]
       ],
       "shape": {
        "columns": 1,
        "rows": 2
       }
      },
      "text/plain": [
       "0    39.47\n",
       "1    37.70\n",
       "Name: iv, dtype: object"
      ]
     },
     "execution_count": 148,
     "metadata": {},
     "output_type": "execute_result"
    }
   ],
   "source": [
    "ms_calls['iv'].str[0:-1].head(2)"
   ]
  },
  {
   "cell_type": "code",
   "execution_count": 149,
   "metadata": {},
   "outputs": [],
   "source": [
    "ms_calls = ms_calls.copy() # Creating a copy of data frame to prevent copy warning.\n",
    "ms_calls.loc[:, 'iv'] = pd.to_numeric(ms_calls['iv'].str[:-1]) / 100\n",
    "# another method\n",
    "# ms_calls['iv'] = (ms_calls['iv'].str.rstrip(%).astype(float)/100"
   ]
  },
  {
   "cell_type": "markdown",
   "metadata": {
    "iooxa": {
     "id": {
      "block": "83VW8VxuzKVMkSUjT9vX",
      "project": "o8uCbOPb8iJK0GDallsV",
      "version": 1
     }
    }
   },
   "source": [
    "```python\n",
    "\n",
    "```"
   ]
  },
  {
   "cell_type": "code",
   "execution_count": 150,
   "metadata": {
    "iooxa": {
     "id": {
      "block": "kHs4Lo1vrDfTlDFNHTDz",
      "project": "o8uCbOPb8iJK0GDallsV",
      "version": 1
     },
     "outputId": null
    }
   },
   "outputs": [],
   "source": [
    "#\n",
    "#working with np.arrays. Calculated volume-weighted implied volatility"
   ]
  },
  {
   "cell_type": "code",
   "execution_count": 151,
   "metadata": {
    "iooxa": {
     "id": {
      "block": "hMQb6D3p3ePj9Qf5UmfL",
      "project": "o8uCbOPb8iJK0GDallsV",
      "version": 1
     },
     "outputId": {
      "block": "Ij3mA4IMewcDPm7yuHcD",
      "project": "o8uCbOPb8iJK0GDallsV",
      "version": 1
     }
    }
   },
   "outputs": [
    {
     "data": {
      "text/plain": [
       "np.float64(0.2773951569506726)"
      ]
     },
     "execution_count": 151,
     "metadata": {},
     "output_type": "execute_result"
    }
   ],
   "source": [
    "volume= ms_calls['Volume'].to_numpy()\n",
    "implied_vol = ms_calls['iv'].to_numpy()\n",
    "vw_std = sum(volume*implied_vol)/sum(volume)\n",
    "vw_std"
   ]
  },
  {
   "cell_type": "code",
   "execution_count": 152,
   "metadata": {
    "iooxa": {
     "id": {
      "block": "pSxQKlGv2dlxnIZVZOPd",
      "project": "o8uCbOPb8iJK0GDallsV",
      "version": 1
     },
     "outputId": null
    }
   },
   "outputs": [],
   "source": [
    "#Create a column in the ms_calls the provide the BS price\n",
    "#of each option( Strike)"
   ]
  },
  {
   "cell_type": "code",
   "execution_count": 153,
   "metadata": {
    "iooxa": {
     "id": {
      "block": "afyXvF6QAhKzRVvtZ23M",
      "project": "o8uCbOPb8iJK0GDallsV",
      "version": 1
     },
     "outputId": {
      "block": "z6cnrTPFPYLK0aiJS5mf",
      "project": "o8uCbOPb8iJK0GDallsV",
      "version": 1
     }
    },
    "scrolled": true
   },
   "outputs": [],
   "source": [
    "ms_calls.loc[:, 'bs_price'] = 0.00  \n",
    "for i in range(ms_calls.shape[0]):\n",
    "    ms_calls.loc[i, 'bs_price'] = call(S, ms_calls.loc[i, 'Strike'], vw_std, t, r)  \n",
    "ms_calls.loc[:, 'bs_price'] = round(ms_calls['bs_price'], 2)  "
   ]
  },
  {
   "cell_type": "code",
   "execution_count": 154,
   "metadata": {
    "iooxa": {
     "id": {
      "block": "gt6Gs8DHyp2jU7FGgbb1",
      "project": "o8uCbOPb8iJK0GDallsV",
      "version": 1
     },
     "outputId": {
      "block": "kg3e79RNDuVMQpmlW7jH",
      "project": "o8uCbOPb8iJK0GDallsV",
      "version": 1
     }
    }
   },
   "outputs": [
    {
     "data": {
      "application/vnd.microsoft.datawrangler.viewer.v0+json": {
       "columns": [
        {
         "name": "index",
         "rawType": "int64",
         "type": "integer"
        },
        {
         "name": "Strike",
         "rawType": "int64",
         "type": "integer"
        },
        {
         "name": "Bid",
         "rawType": "float64",
         "type": "float"
        },
        {
         "name": "Ask",
         "rawType": "float64",
         "type": "float"
        },
        {
         "name": "call_price",
         "rawType": "float64",
         "type": "float"
        },
        {
         "name": "Volume",
         "rawType": "int64",
         "type": "integer"
        },
        {
         "name": "iv",
         "rawType": "object",
         "type": "unknown"
        },
        {
         "name": "bs_price",
         "rawType": "float64",
         "type": "float"
        }
       ],
       "ref": "23e9489b-8f9e-405b-8b91-2ae8b89539a2",
       "rows": [
        [
         "0",
         "240",
         "63.4",
         "66.3",
         "63.8",
         "3",
         "0.3947",
         "57.65"
        ],
        [
         "1",
         "245",
         "59.15",
         "61.65",
         "53.2",
         "3",
         "0.377",
         "52.66"
        ],
        [
         "2",
         "250",
         "55.5",
         "57.45",
         "55.95",
         "1",
         "0.3666",
         "47.67"
        ],
        [
         "3",
         "255",
         "51.5",
         "54.1",
         "40.7",
         "3",
         "0.36869999999999997",
         "42.68"
        ],
        [
         "4",
         "260",
         "47.85",
         "49.6",
         "47.97",
         "1",
         "0.35119999999999996",
         "37.68"
        ],
        [
         "5",
         "265",
         "44.1",
         "46.45",
         "34.85",
         "1",
         "0.3528",
         "32.69"
        ],
        [
         "6",
         "270",
         "40.6",
         "42.35",
         "40.2",
         "5",
         "0.3389",
         "27.7"
        ],
        [
         "7",
         "275",
         "36.95",
         "39.3",
         "31.0",
         "5",
         "0.3383",
         "22.71"
        ],
        [
         "8",
         "280",
         "33.55",
         "35.45",
         "33.43",
         "69",
         "0.32520000000000004",
         "17.71"
        ],
        [
         "9",
         "285",
         "31.05",
         "32.2",
         "31.25",
         "7",
         "0.3186",
         "12.72"
        ],
        [
         "10",
         "290",
         "28.55",
         "29.3",
         "27.45",
         "70",
         "0.3146",
         "7.8"
        ],
        [
         "11",
         "295",
         "25.4",
         "26.55",
         "25.88",
         "9",
         "0.3107",
         "3.48"
        ],
        [
         "12",
         "300",
         "22.45",
         "23.6",
         "23.35",
         "51",
         "0.30260000000000004",
         "0.9"
        ],
        [
         "13",
         "305",
         "20.6",
         "21.15",
         "20.65",
         "33",
         "0.2987",
         "0.11"
        ],
        [
         "14",
         "310",
         "17.9",
         "18.85",
         "18.1",
         "3",
         "0.29469999999999996",
         "0.01"
        ],
        [
         "15",
         "315",
         "15.85",
         "16.85",
         "15.85",
         "27",
         "0.2925",
         "0.0"
        ],
        [
         "16",
         "320",
         "13.8",
         "14.75",
         "14.18",
         "65",
         "0.2871",
         "0.0"
        ],
        [
         "17",
         "325",
         "12.45",
         "12.9",
         "12.45",
         "65",
         "0.28300000000000003",
         "0.0"
        ],
        [
         "18",
         "330",
         "10.65",
         "11.4",
         "10.7",
         "26",
         "0.2815",
         "0.0"
        ],
        [
         "19",
         "335",
         "9.15",
         "9.95",
         "9.06",
         "2",
         "0.2788",
         "0.0"
        ],
        [
         "20",
         "340",
         "7.75",
         "8.6",
         "8.1",
         "13",
         "0.2755",
         "0.0"
        ],
        [
         "21",
         "345",
         "7.0",
         "7.45",
         "6.69",
         "657",
         "0.2733",
         "0.0"
        ],
        [
         "22",
         "350",
         "5.65",
         "6.45",
         "5.73",
         "621",
         "0.2716",
         "0.0"
        ],
        [
         "23",
         "355",
         "5.0",
         "5.55",
         "4.91",
         "1",
         "0.2698",
         "0.0"
        ],
        [
         "24",
         "360",
         "4.1",
         "4.7",
         "4.4",
         "125",
         "0.2669",
         "0.0"
        ],
        [
         "25",
         "365",
         "3.55",
         "4.1",
         "3.7",
         "25",
         "0.2672",
         "0.0"
        ],
        [
         "26",
         "370",
         "3.05",
         "3.5",
         "3.15",
         "339",
         "0.2658",
         "0.0"
        ]
       ],
       "shape": {
        "columns": 7,
        "rows": 27
       }
      },
      "text/html": [
       "<div>\n",
       "<style scoped>\n",
       "    .dataframe tbody tr th:only-of-type {\n",
       "        vertical-align: middle;\n",
       "    }\n",
       "\n",
       "    .dataframe tbody tr th {\n",
       "        vertical-align: top;\n",
       "    }\n",
       "\n",
       "    .dataframe thead th {\n",
       "        text-align: right;\n",
       "    }\n",
       "</style>\n",
       "<table border=\"1\" class=\"dataframe\">\n",
       "  <thead>\n",
       "    <tr style=\"text-align: right;\">\n",
       "      <th></th>\n",
       "      <th>Strike</th>\n",
       "      <th>Bid</th>\n",
       "      <th>Ask</th>\n",
       "      <th>call_price</th>\n",
       "      <th>Volume</th>\n",
       "      <th>iv</th>\n",
       "      <th>bs_price</th>\n",
       "    </tr>\n",
       "  </thead>\n",
       "  <tbody>\n",
       "    <tr>\n",
       "      <th>0</th>\n",
       "      <td>240</td>\n",
       "      <td>63.40</td>\n",
       "      <td>66.30</td>\n",
       "      <td>63.80</td>\n",
       "      <td>3</td>\n",
       "      <td>0.3947</td>\n",
       "      <td>57.65</td>\n",
       "    </tr>\n",
       "    <tr>\n",
       "      <th>1</th>\n",
       "      <td>245</td>\n",
       "      <td>59.15</td>\n",
       "      <td>61.65</td>\n",
       "      <td>53.20</td>\n",
       "      <td>3</td>\n",
       "      <td>0.377</td>\n",
       "      <td>52.66</td>\n",
       "    </tr>\n",
       "    <tr>\n",
       "      <th>2</th>\n",
       "      <td>250</td>\n",
       "      <td>55.50</td>\n",
       "      <td>57.45</td>\n",
       "      <td>55.95</td>\n",
       "      <td>1</td>\n",
       "      <td>0.3666</td>\n",
       "      <td>47.67</td>\n",
       "    </tr>\n",
       "    <tr>\n",
       "      <th>3</th>\n",
       "      <td>255</td>\n",
       "      <td>51.50</td>\n",
       "      <td>54.10</td>\n",
       "      <td>40.70</td>\n",
       "      <td>3</td>\n",
       "      <td>0.3687</td>\n",
       "      <td>42.68</td>\n",
       "    </tr>\n",
       "    <tr>\n",
       "      <th>4</th>\n",
       "      <td>260</td>\n",
       "      <td>47.85</td>\n",
       "      <td>49.60</td>\n",
       "      <td>47.97</td>\n",
       "      <td>1</td>\n",
       "      <td>0.3512</td>\n",
       "      <td>37.68</td>\n",
       "    </tr>\n",
       "    <tr>\n",
       "      <th>5</th>\n",
       "      <td>265</td>\n",
       "      <td>44.10</td>\n",
       "      <td>46.45</td>\n",
       "      <td>34.85</td>\n",
       "      <td>1</td>\n",
       "      <td>0.3528</td>\n",
       "      <td>32.69</td>\n",
       "    </tr>\n",
       "    <tr>\n",
       "      <th>6</th>\n",
       "      <td>270</td>\n",
       "      <td>40.60</td>\n",
       "      <td>42.35</td>\n",
       "      <td>40.20</td>\n",
       "      <td>5</td>\n",
       "      <td>0.3389</td>\n",
       "      <td>27.70</td>\n",
       "    </tr>\n",
       "    <tr>\n",
       "      <th>7</th>\n",
       "      <td>275</td>\n",
       "      <td>36.95</td>\n",
       "      <td>39.30</td>\n",
       "      <td>31.00</td>\n",
       "      <td>5</td>\n",
       "      <td>0.3383</td>\n",
       "      <td>22.71</td>\n",
       "    </tr>\n",
       "    <tr>\n",
       "      <th>8</th>\n",
       "      <td>280</td>\n",
       "      <td>33.55</td>\n",
       "      <td>35.45</td>\n",
       "      <td>33.43</td>\n",
       "      <td>69</td>\n",
       "      <td>0.3252</td>\n",
       "      <td>17.71</td>\n",
       "    </tr>\n",
       "    <tr>\n",
       "      <th>9</th>\n",
       "      <td>285</td>\n",
       "      <td>31.05</td>\n",
       "      <td>32.20</td>\n",
       "      <td>31.25</td>\n",
       "      <td>7</td>\n",
       "      <td>0.3186</td>\n",
       "      <td>12.72</td>\n",
       "    </tr>\n",
       "    <tr>\n",
       "      <th>10</th>\n",
       "      <td>290</td>\n",
       "      <td>28.55</td>\n",
       "      <td>29.30</td>\n",
       "      <td>27.45</td>\n",
       "      <td>70</td>\n",
       "      <td>0.3146</td>\n",
       "      <td>7.80</td>\n",
       "    </tr>\n",
       "    <tr>\n",
       "      <th>11</th>\n",
       "      <td>295</td>\n",
       "      <td>25.40</td>\n",
       "      <td>26.55</td>\n",
       "      <td>25.88</td>\n",
       "      <td>9</td>\n",
       "      <td>0.3107</td>\n",
       "      <td>3.48</td>\n",
       "    </tr>\n",
       "    <tr>\n",
       "      <th>12</th>\n",
       "      <td>300</td>\n",
       "      <td>22.45</td>\n",
       "      <td>23.60</td>\n",
       "      <td>23.35</td>\n",
       "      <td>51</td>\n",
       "      <td>0.3026</td>\n",
       "      <td>0.90</td>\n",
       "    </tr>\n",
       "    <tr>\n",
       "      <th>13</th>\n",
       "      <td>305</td>\n",
       "      <td>20.60</td>\n",
       "      <td>21.15</td>\n",
       "      <td>20.65</td>\n",
       "      <td>33</td>\n",
       "      <td>0.2987</td>\n",
       "      <td>0.11</td>\n",
       "    </tr>\n",
       "    <tr>\n",
       "      <th>14</th>\n",
       "      <td>310</td>\n",
       "      <td>17.90</td>\n",
       "      <td>18.85</td>\n",
       "      <td>18.10</td>\n",
       "      <td>3</td>\n",
       "      <td>0.2947</td>\n",
       "      <td>0.01</td>\n",
       "    </tr>\n",
       "    <tr>\n",
       "      <th>15</th>\n",
       "      <td>315</td>\n",
       "      <td>15.85</td>\n",
       "      <td>16.85</td>\n",
       "      <td>15.85</td>\n",
       "      <td>27</td>\n",
       "      <td>0.2925</td>\n",
       "      <td>0.00</td>\n",
       "    </tr>\n",
       "    <tr>\n",
       "      <th>16</th>\n",
       "      <td>320</td>\n",
       "      <td>13.80</td>\n",
       "      <td>14.75</td>\n",
       "      <td>14.18</td>\n",
       "      <td>65</td>\n",
       "      <td>0.2871</td>\n",
       "      <td>0.00</td>\n",
       "    </tr>\n",
       "    <tr>\n",
       "      <th>17</th>\n",
       "      <td>325</td>\n",
       "      <td>12.45</td>\n",
       "      <td>12.90</td>\n",
       "      <td>12.45</td>\n",
       "      <td>65</td>\n",
       "      <td>0.283</td>\n",
       "      <td>0.00</td>\n",
       "    </tr>\n",
       "    <tr>\n",
       "      <th>18</th>\n",
       "      <td>330</td>\n",
       "      <td>10.65</td>\n",
       "      <td>11.40</td>\n",
       "      <td>10.70</td>\n",
       "      <td>26</td>\n",
       "      <td>0.2815</td>\n",
       "      <td>0.00</td>\n",
       "    </tr>\n",
       "    <tr>\n",
       "      <th>19</th>\n",
       "      <td>335</td>\n",
       "      <td>9.15</td>\n",
       "      <td>9.95</td>\n",
       "      <td>9.06</td>\n",
       "      <td>2</td>\n",
       "      <td>0.2788</td>\n",
       "      <td>0.00</td>\n",
       "    </tr>\n",
       "    <tr>\n",
       "      <th>20</th>\n",
       "      <td>340</td>\n",
       "      <td>7.75</td>\n",
       "      <td>8.60</td>\n",
       "      <td>8.10</td>\n",
       "      <td>13</td>\n",
       "      <td>0.2755</td>\n",
       "      <td>0.00</td>\n",
       "    </tr>\n",
       "    <tr>\n",
       "      <th>21</th>\n",
       "      <td>345</td>\n",
       "      <td>7.00</td>\n",
       "      <td>7.45</td>\n",
       "      <td>6.69</td>\n",
       "      <td>657</td>\n",
       "      <td>0.2733</td>\n",
       "      <td>0.00</td>\n",
       "    </tr>\n",
       "    <tr>\n",
       "      <th>22</th>\n",
       "      <td>350</td>\n",
       "      <td>5.65</td>\n",
       "      <td>6.45</td>\n",
       "      <td>5.73</td>\n",
       "      <td>621</td>\n",
       "      <td>0.2716</td>\n",
       "      <td>0.00</td>\n",
       "    </tr>\n",
       "    <tr>\n",
       "      <th>23</th>\n",
       "      <td>355</td>\n",
       "      <td>5.00</td>\n",
       "      <td>5.55</td>\n",
       "      <td>4.91</td>\n",
       "      <td>1</td>\n",
       "      <td>0.2698</td>\n",
       "      <td>0.00</td>\n",
       "    </tr>\n",
       "    <tr>\n",
       "      <th>24</th>\n",
       "      <td>360</td>\n",
       "      <td>4.10</td>\n",
       "      <td>4.70</td>\n",
       "      <td>4.40</td>\n",
       "      <td>125</td>\n",
       "      <td>0.2669</td>\n",
       "      <td>0.00</td>\n",
       "    </tr>\n",
       "    <tr>\n",
       "      <th>25</th>\n",
       "      <td>365</td>\n",
       "      <td>3.55</td>\n",
       "      <td>4.10</td>\n",
       "      <td>3.70</td>\n",
       "      <td>25</td>\n",
       "      <td>0.2672</td>\n",
       "      <td>0.00</td>\n",
       "    </tr>\n",
       "    <tr>\n",
       "      <th>26</th>\n",
       "      <td>370</td>\n",
       "      <td>3.05</td>\n",
       "      <td>3.50</td>\n",
       "      <td>3.15</td>\n",
       "      <td>339</td>\n",
       "      <td>0.2658</td>\n",
       "      <td>0.00</td>\n",
       "    </tr>\n",
       "  </tbody>\n",
       "</table>\n",
       "</div>"
      ],
      "text/plain": [
       "    Strike    Bid    Ask  call_price  Volume      iv  bs_price\n",
       "0      240  63.40  66.30       63.80       3  0.3947     57.65\n",
       "1      245  59.15  61.65       53.20       3   0.377     52.66\n",
       "2      250  55.50  57.45       55.95       1  0.3666     47.67\n",
       "3      255  51.50  54.10       40.70       3  0.3687     42.68\n",
       "4      260  47.85  49.60       47.97       1  0.3512     37.68\n",
       "5      265  44.10  46.45       34.85       1  0.3528     32.69\n",
       "6      270  40.60  42.35       40.20       5  0.3389     27.70\n",
       "7      275  36.95  39.30       31.00       5  0.3383     22.71\n",
       "8      280  33.55  35.45       33.43      69  0.3252     17.71\n",
       "9      285  31.05  32.20       31.25       7  0.3186     12.72\n",
       "10     290  28.55  29.30       27.45      70  0.3146      7.80\n",
       "11     295  25.40  26.55       25.88       9  0.3107      3.48\n",
       "12     300  22.45  23.60       23.35      51  0.3026      0.90\n",
       "13     305  20.60  21.15       20.65      33  0.2987      0.11\n",
       "14     310  17.90  18.85       18.10       3  0.2947      0.01\n",
       "15     315  15.85  16.85       15.85      27  0.2925      0.00\n",
       "16     320  13.80  14.75       14.18      65  0.2871      0.00\n",
       "17     325  12.45  12.90       12.45      65   0.283      0.00\n",
       "18     330  10.65  11.40       10.70      26  0.2815      0.00\n",
       "19     335   9.15   9.95        9.06       2  0.2788      0.00\n",
       "20     340   7.75   8.60        8.10      13  0.2755      0.00\n",
       "21     345   7.00   7.45        6.69     657  0.2733      0.00\n",
       "22     350   5.65   6.45        5.73     621  0.2716      0.00\n",
       "23     355   5.00   5.55        4.91       1  0.2698      0.00\n",
       "24     360   4.10   4.70        4.40     125  0.2669      0.00\n",
       "25     365   3.55   4.10        3.70      25  0.2672      0.00\n",
       "26     370   3.05   3.50        3.15     339  0.2658      0.00"
      ]
     },
     "execution_count": 154,
     "metadata": {},
     "output_type": "execute_result"
    }
   ],
   "source": [
    "ms_calls"
   ]
  },
  {
   "cell_type": "markdown",
   "metadata": {
    "iooxa": {
     "id": {
      "block": "YiRmR4tOY5zMDn61ohw1",
      "project": "o8uCbOPb8iJK0GDallsV",
      "version": 1
     }
    }
   },
   "source": [
    "# Single Factor Model Function"
   ]
  },
  {
   "cell_type": "code",
   "execution_count": 155,
   "metadata": {
    "iooxa": {
     "id": {
      "block": "Fr0X99JZh1WR59CYUe28",
      "project": "o8uCbOPb8iJK0GDallsV",
      "version": 1
     },
     "outputId": null
    }
   },
   "outputs": [],
   "source": [
    "#Another example\n",
    "#Let us first get data on historical stock prices\n"
   ]
  },
  {
   "cell_type": "code",
   "execution_count": 157,
   "metadata": {
    "iooxa": {
     "id": {
      "block": "9tAH3xZotp3XBw7t8Edp",
      "project": "o8uCbOPb8iJK0GDallsV",
      "version": 1
     },
     "outputId": {
      "block": "To6NNT3r8bix4c2XpjrX",
      "project": "o8uCbOPb8iJK0GDallsV",
      "version": 1
     }
    }
   },
   "outputs": [
    {
     "ename": "FileNotFoundError",
     "evalue": "[Errno 2] No such file or directory: 'dataFiles/dow_monthly_prices_2017_2021.csv'",
     "output_type": "error",
     "traceback": [
      "\u001b[0;31m---------------------------------------------------------------------------\u001b[0m",
      "\u001b[0;31mFileNotFoundError\u001b[0m                         Traceback (most recent call last)",
      "Cell \u001b[0;32mIn[157], line 2\u001b[0m\n\u001b[1;32m      1\u001b[0m \u001b[38;5;28;01mimport\u001b[39;00m\u001b[38;5;250m \u001b[39m\u001b[38;5;21;01mpandas\u001b[39;00m\u001b[38;5;250m \u001b[39m\u001b[38;5;28;01mas\u001b[39;00m\u001b[38;5;250m \u001b[39m\u001b[38;5;21;01mpd\u001b[39;00m\n\u001b[0;32m----> 2\u001b[0m price_data\u001b[38;5;241m=\u001b[39m\u001b[43mpd\u001b[49m\u001b[38;5;241;43m.\u001b[39;49m\u001b[43mread_csv\u001b[49m\u001b[43m(\u001b[49m\u001b[38;5;124;43m'\u001b[39;49m\u001b[38;5;124;43mdataFiles/dow_monthly_prices_2017_2021.csv\u001b[39;49m\u001b[38;5;124;43m'\u001b[39;49m\u001b[43m)\u001b[49m\n\u001b[1;32m      3\u001b[0m price_data\u001b[38;5;241m.\u001b[39mhead()\n",
      "File \u001b[0;32m~/Desktop/Fordham/Fall 2025/Computational Finance/.venv/lib/python3.9/site-packages/pandas/io/parsers/readers.py:1026\u001b[0m, in \u001b[0;36mread_csv\u001b[0;34m(filepath_or_buffer, sep, delimiter, header, names, index_col, usecols, dtype, engine, converters, true_values, false_values, skipinitialspace, skiprows, skipfooter, nrows, na_values, keep_default_na, na_filter, verbose, skip_blank_lines, parse_dates, infer_datetime_format, keep_date_col, date_parser, date_format, dayfirst, cache_dates, iterator, chunksize, compression, thousands, decimal, lineterminator, quotechar, quoting, doublequote, escapechar, comment, encoding, encoding_errors, dialect, on_bad_lines, delim_whitespace, low_memory, memory_map, float_precision, storage_options, dtype_backend)\u001b[0m\n\u001b[1;32m   1013\u001b[0m kwds_defaults \u001b[38;5;241m=\u001b[39m _refine_defaults_read(\n\u001b[1;32m   1014\u001b[0m     dialect,\n\u001b[1;32m   1015\u001b[0m     delimiter,\n\u001b[0;32m   (...)\u001b[0m\n\u001b[1;32m   1022\u001b[0m     dtype_backend\u001b[38;5;241m=\u001b[39mdtype_backend,\n\u001b[1;32m   1023\u001b[0m )\n\u001b[1;32m   1024\u001b[0m kwds\u001b[38;5;241m.\u001b[39mupdate(kwds_defaults)\n\u001b[0;32m-> 1026\u001b[0m \u001b[38;5;28;01mreturn\u001b[39;00m \u001b[43m_read\u001b[49m\u001b[43m(\u001b[49m\u001b[43mfilepath_or_buffer\u001b[49m\u001b[43m,\u001b[49m\u001b[43m \u001b[49m\u001b[43mkwds\u001b[49m\u001b[43m)\u001b[49m\n",
      "File \u001b[0;32m~/Desktop/Fordham/Fall 2025/Computational Finance/.venv/lib/python3.9/site-packages/pandas/io/parsers/readers.py:620\u001b[0m, in \u001b[0;36m_read\u001b[0;34m(filepath_or_buffer, kwds)\u001b[0m\n\u001b[1;32m    617\u001b[0m _validate_names(kwds\u001b[38;5;241m.\u001b[39mget(\u001b[38;5;124m\"\u001b[39m\u001b[38;5;124mnames\u001b[39m\u001b[38;5;124m\"\u001b[39m, \u001b[38;5;28;01mNone\u001b[39;00m))\n\u001b[1;32m    619\u001b[0m \u001b[38;5;66;03m# Create the parser.\u001b[39;00m\n\u001b[0;32m--> 620\u001b[0m parser \u001b[38;5;241m=\u001b[39m \u001b[43mTextFileReader\u001b[49m\u001b[43m(\u001b[49m\u001b[43mfilepath_or_buffer\u001b[49m\u001b[43m,\u001b[49m\u001b[43m \u001b[49m\u001b[38;5;241;43m*\u001b[39;49m\u001b[38;5;241;43m*\u001b[39;49m\u001b[43mkwds\u001b[49m\u001b[43m)\u001b[49m\n\u001b[1;32m    622\u001b[0m \u001b[38;5;28;01mif\u001b[39;00m chunksize \u001b[38;5;129;01mor\u001b[39;00m iterator:\n\u001b[1;32m    623\u001b[0m     \u001b[38;5;28;01mreturn\u001b[39;00m parser\n",
      "File \u001b[0;32m~/Desktop/Fordham/Fall 2025/Computational Finance/.venv/lib/python3.9/site-packages/pandas/io/parsers/readers.py:1620\u001b[0m, in \u001b[0;36mTextFileReader.__init__\u001b[0;34m(self, f, engine, **kwds)\u001b[0m\n\u001b[1;32m   1617\u001b[0m     \u001b[38;5;28mself\u001b[39m\u001b[38;5;241m.\u001b[39moptions[\u001b[38;5;124m\"\u001b[39m\u001b[38;5;124mhas_index_names\u001b[39m\u001b[38;5;124m\"\u001b[39m] \u001b[38;5;241m=\u001b[39m kwds[\u001b[38;5;124m\"\u001b[39m\u001b[38;5;124mhas_index_names\u001b[39m\u001b[38;5;124m\"\u001b[39m]\n\u001b[1;32m   1619\u001b[0m \u001b[38;5;28mself\u001b[39m\u001b[38;5;241m.\u001b[39mhandles: IOHandles \u001b[38;5;241m|\u001b[39m \u001b[38;5;28;01mNone\u001b[39;00m \u001b[38;5;241m=\u001b[39m \u001b[38;5;28;01mNone\u001b[39;00m\n\u001b[0;32m-> 1620\u001b[0m \u001b[38;5;28mself\u001b[39m\u001b[38;5;241m.\u001b[39m_engine \u001b[38;5;241m=\u001b[39m \u001b[38;5;28;43mself\u001b[39;49m\u001b[38;5;241;43m.\u001b[39;49m\u001b[43m_make_engine\u001b[49m\u001b[43m(\u001b[49m\u001b[43mf\u001b[49m\u001b[43m,\u001b[49m\u001b[43m \u001b[49m\u001b[38;5;28;43mself\u001b[39;49m\u001b[38;5;241;43m.\u001b[39;49m\u001b[43mengine\u001b[49m\u001b[43m)\u001b[49m\n",
      "File \u001b[0;32m~/Desktop/Fordham/Fall 2025/Computational Finance/.venv/lib/python3.9/site-packages/pandas/io/parsers/readers.py:1880\u001b[0m, in \u001b[0;36mTextFileReader._make_engine\u001b[0;34m(self, f, engine)\u001b[0m\n\u001b[1;32m   1878\u001b[0m     \u001b[38;5;28;01mif\u001b[39;00m \u001b[38;5;124m\"\u001b[39m\u001b[38;5;124mb\u001b[39m\u001b[38;5;124m\"\u001b[39m \u001b[38;5;129;01mnot\u001b[39;00m \u001b[38;5;129;01min\u001b[39;00m mode:\n\u001b[1;32m   1879\u001b[0m         mode \u001b[38;5;241m+\u001b[39m\u001b[38;5;241m=\u001b[39m \u001b[38;5;124m\"\u001b[39m\u001b[38;5;124mb\u001b[39m\u001b[38;5;124m\"\u001b[39m\n\u001b[0;32m-> 1880\u001b[0m \u001b[38;5;28mself\u001b[39m\u001b[38;5;241m.\u001b[39mhandles \u001b[38;5;241m=\u001b[39m \u001b[43mget_handle\u001b[49m\u001b[43m(\u001b[49m\n\u001b[1;32m   1881\u001b[0m \u001b[43m    \u001b[49m\u001b[43mf\u001b[49m\u001b[43m,\u001b[49m\n\u001b[1;32m   1882\u001b[0m \u001b[43m    \u001b[49m\u001b[43mmode\u001b[49m\u001b[43m,\u001b[49m\n\u001b[1;32m   1883\u001b[0m \u001b[43m    \u001b[49m\u001b[43mencoding\u001b[49m\u001b[38;5;241;43m=\u001b[39;49m\u001b[38;5;28;43mself\u001b[39;49m\u001b[38;5;241;43m.\u001b[39;49m\u001b[43moptions\u001b[49m\u001b[38;5;241;43m.\u001b[39;49m\u001b[43mget\u001b[49m\u001b[43m(\u001b[49m\u001b[38;5;124;43m\"\u001b[39;49m\u001b[38;5;124;43mencoding\u001b[39;49m\u001b[38;5;124;43m\"\u001b[39;49m\u001b[43m,\u001b[49m\u001b[43m \u001b[49m\u001b[38;5;28;43;01mNone\u001b[39;49;00m\u001b[43m)\u001b[49m\u001b[43m,\u001b[49m\n\u001b[1;32m   1884\u001b[0m \u001b[43m    \u001b[49m\u001b[43mcompression\u001b[49m\u001b[38;5;241;43m=\u001b[39;49m\u001b[38;5;28;43mself\u001b[39;49m\u001b[38;5;241;43m.\u001b[39;49m\u001b[43moptions\u001b[49m\u001b[38;5;241;43m.\u001b[39;49m\u001b[43mget\u001b[49m\u001b[43m(\u001b[49m\u001b[38;5;124;43m\"\u001b[39;49m\u001b[38;5;124;43mcompression\u001b[39;49m\u001b[38;5;124;43m\"\u001b[39;49m\u001b[43m,\u001b[49m\u001b[43m \u001b[49m\u001b[38;5;28;43;01mNone\u001b[39;49;00m\u001b[43m)\u001b[49m\u001b[43m,\u001b[49m\n\u001b[1;32m   1885\u001b[0m \u001b[43m    \u001b[49m\u001b[43mmemory_map\u001b[49m\u001b[38;5;241;43m=\u001b[39;49m\u001b[38;5;28;43mself\u001b[39;49m\u001b[38;5;241;43m.\u001b[39;49m\u001b[43moptions\u001b[49m\u001b[38;5;241;43m.\u001b[39;49m\u001b[43mget\u001b[49m\u001b[43m(\u001b[49m\u001b[38;5;124;43m\"\u001b[39;49m\u001b[38;5;124;43mmemory_map\u001b[39;49m\u001b[38;5;124;43m\"\u001b[39;49m\u001b[43m,\u001b[49m\u001b[43m \u001b[49m\u001b[38;5;28;43;01mFalse\u001b[39;49;00m\u001b[43m)\u001b[49m\u001b[43m,\u001b[49m\n\u001b[1;32m   1886\u001b[0m \u001b[43m    \u001b[49m\u001b[43mis_text\u001b[49m\u001b[38;5;241;43m=\u001b[39;49m\u001b[43mis_text\u001b[49m\u001b[43m,\u001b[49m\n\u001b[1;32m   1887\u001b[0m \u001b[43m    \u001b[49m\u001b[43merrors\u001b[49m\u001b[38;5;241;43m=\u001b[39;49m\u001b[38;5;28;43mself\u001b[39;49m\u001b[38;5;241;43m.\u001b[39;49m\u001b[43moptions\u001b[49m\u001b[38;5;241;43m.\u001b[39;49m\u001b[43mget\u001b[49m\u001b[43m(\u001b[49m\u001b[38;5;124;43m\"\u001b[39;49m\u001b[38;5;124;43mencoding_errors\u001b[39;49m\u001b[38;5;124;43m\"\u001b[39;49m\u001b[43m,\u001b[49m\u001b[43m \u001b[49m\u001b[38;5;124;43m\"\u001b[39;49m\u001b[38;5;124;43mstrict\u001b[39;49m\u001b[38;5;124;43m\"\u001b[39;49m\u001b[43m)\u001b[49m\u001b[43m,\u001b[49m\n\u001b[1;32m   1888\u001b[0m \u001b[43m    \u001b[49m\u001b[43mstorage_options\u001b[49m\u001b[38;5;241;43m=\u001b[39;49m\u001b[38;5;28;43mself\u001b[39;49m\u001b[38;5;241;43m.\u001b[39;49m\u001b[43moptions\u001b[49m\u001b[38;5;241;43m.\u001b[39;49m\u001b[43mget\u001b[49m\u001b[43m(\u001b[49m\u001b[38;5;124;43m\"\u001b[39;49m\u001b[38;5;124;43mstorage_options\u001b[39;49m\u001b[38;5;124;43m\"\u001b[39;49m\u001b[43m,\u001b[49m\u001b[43m \u001b[49m\u001b[38;5;28;43;01mNone\u001b[39;49;00m\u001b[43m)\u001b[49m\u001b[43m,\u001b[49m\n\u001b[1;32m   1889\u001b[0m \u001b[43m\u001b[49m\u001b[43m)\u001b[49m\n\u001b[1;32m   1890\u001b[0m \u001b[38;5;28;01massert\u001b[39;00m \u001b[38;5;28mself\u001b[39m\u001b[38;5;241m.\u001b[39mhandles \u001b[38;5;129;01mis\u001b[39;00m \u001b[38;5;129;01mnot\u001b[39;00m \u001b[38;5;28;01mNone\u001b[39;00m\n\u001b[1;32m   1891\u001b[0m f \u001b[38;5;241m=\u001b[39m \u001b[38;5;28mself\u001b[39m\u001b[38;5;241m.\u001b[39mhandles\u001b[38;5;241m.\u001b[39mhandle\n",
      "File \u001b[0;32m~/Desktop/Fordham/Fall 2025/Computational Finance/.venv/lib/python3.9/site-packages/pandas/io/common.py:873\u001b[0m, in \u001b[0;36mget_handle\u001b[0;34m(path_or_buf, mode, encoding, compression, memory_map, is_text, errors, storage_options)\u001b[0m\n\u001b[1;32m    868\u001b[0m \u001b[38;5;28;01melif\u001b[39;00m \u001b[38;5;28misinstance\u001b[39m(handle, \u001b[38;5;28mstr\u001b[39m):\n\u001b[1;32m    869\u001b[0m     \u001b[38;5;66;03m# Check whether the filename is to be opened in binary mode.\u001b[39;00m\n\u001b[1;32m    870\u001b[0m     \u001b[38;5;66;03m# Binary mode does not support 'encoding' and 'newline'.\u001b[39;00m\n\u001b[1;32m    871\u001b[0m     \u001b[38;5;28;01mif\u001b[39;00m ioargs\u001b[38;5;241m.\u001b[39mencoding \u001b[38;5;129;01mand\u001b[39;00m \u001b[38;5;124m\"\u001b[39m\u001b[38;5;124mb\u001b[39m\u001b[38;5;124m\"\u001b[39m \u001b[38;5;129;01mnot\u001b[39;00m \u001b[38;5;129;01min\u001b[39;00m ioargs\u001b[38;5;241m.\u001b[39mmode:\n\u001b[1;32m    872\u001b[0m         \u001b[38;5;66;03m# Encoding\u001b[39;00m\n\u001b[0;32m--> 873\u001b[0m         handle \u001b[38;5;241m=\u001b[39m \u001b[38;5;28;43mopen\u001b[39;49m\u001b[43m(\u001b[49m\n\u001b[1;32m    874\u001b[0m \u001b[43m            \u001b[49m\u001b[43mhandle\u001b[49m\u001b[43m,\u001b[49m\n\u001b[1;32m    875\u001b[0m \u001b[43m            \u001b[49m\u001b[43mioargs\u001b[49m\u001b[38;5;241;43m.\u001b[39;49m\u001b[43mmode\u001b[49m\u001b[43m,\u001b[49m\n\u001b[1;32m    876\u001b[0m \u001b[43m            \u001b[49m\u001b[43mencoding\u001b[49m\u001b[38;5;241;43m=\u001b[39;49m\u001b[43mioargs\u001b[49m\u001b[38;5;241;43m.\u001b[39;49m\u001b[43mencoding\u001b[49m\u001b[43m,\u001b[49m\n\u001b[1;32m    877\u001b[0m \u001b[43m            \u001b[49m\u001b[43merrors\u001b[49m\u001b[38;5;241;43m=\u001b[39;49m\u001b[43merrors\u001b[49m\u001b[43m,\u001b[49m\n\u001b[1;32m    878\u001b[0m \u001b[43m            \u001b[49m\u001b[43mnewline\u001b[49m\u001b[38;5;241;43m=\u001b[39;49m\u001b[38;5;124;43m\"\u001b[39;49m\u001b[38;5;124;43m\"\u001b[39;49m\u001b[43m,\u001b[49m\n\u001b[1;32m    879\u001b[0m \u001b[43m        \u001b[49m\u001b[43m)\u001b[49m\n\u001b[1;32m    880\u001b[0m     \u001b[38;5;28;01melse\u001b[39;00m:\n\u001b[1;32m    881\u001b[0m         \u001b[38;5;66;03m# Binary mode\u001b[39;00m\n\u001b[1;32m    882\u001b[0m         handle \u001b[38;5;241m=\u001b[39m \u001b[38;5;28mopen\u001b[39m(handle, ioargs\u001b[38;5;241m.\u001b[39mmode)\n",
      "\u001b[0;31mFileNotFoundError\u001b[0m: [Errno 2] No such file or directory: 'dataFiles/dow_monthly_prices_2017_2021.csv'"
     ]
    }
   ],
   "source": [
    "import pandas as pd\n",
    "price_data=pd.read_csv('dataFiles/dow_monthly_prices_2017_2021.csv')\n",
    "price_data.head()"
   ]
  },
  {
   "cell_type": "code",
   "execution_count": 158,
   "metadata": {
    "iooxa": {
     "id": {
      "block": "HNjRsWJ5nW5Wd412gahM",
      "project": "o8uCbOPb8iJK0GDallsV",
      "version": 1
     },
     "outputId": {
      "block": "7hLkJV0NPAeRfIxGD5ww",
      "project": "o8uCbOPb8iJK0GDallsV",
      "version": 1
     }
    }
   },
   "outputs": [
    {
     "ename": "NameError",
     "evalue": "name 'price_data' is not defined",
     "output_type": "error",
     "traceback": [
      "\u001b[0;31m---------------------------------------------------------------------------\u001b[0m",
      "\u001b[0;31mNameError\u001b[0m                                 Traceback (most recent call last)",
      "Cell \u001b[0;32mIn[158], line 1\u001b[0m\n\u001b[0;32m----> 1\u001b[0m \u001b[43mprice_data\u001b[49m\u001b[38;5;241m.\u001b[39misnull()\u001b[38;5;241m.\u001b[39msum()\n",
      "\u001b[0;31mNameError\u001b[0m: name 'price_data' is not defined"
     ]
    }
   ],
   "source": [
    "price_data.isnull().sum()"
   ]
  },
  {
   "cell_type": "code",
   "execution_count": null,
   "metadata": {
    "iooxa": {
     "id": {
      "block": "LNeHwi6vGEX14ic2KKif",
      "project": "o8uCbOPb8iJK0GDallsV",
      "version": 1
     },
     "outputId": null
    }
   },
   "outputs": [],
   "source": [
    "#Let us drop DOW for lack of data¶"
   ]
  },
  {
   "cell_type": "code",
   "execution_count": null,
   "metadata": {
    "iooxa": {
     "id": {
      "block": "fMESpSRcS5P6wUc4mysc",
      "project": "o8uCbOPb8iJK0GDallsV",
      "version": 1
     },
     "outputId": null
    }
   },
   "outputs": [],
   "source": [
    "price_data = price_data.drop(['DOW'], axis=1)"
   ]
  },
  {
   "cell_type": "code",
   "execution_count": null,
   "metadata": {
    "iooxa": {
     "id": {
      "block": "Sy9KJ1yaxCUmaGtGTRMl",
      "project": "o8uCbOPb8iJK0GDallsV",
      "version": 1
     },
     "outputId": null
    }
   },
   "outputs": [],
   "source": [
    "#Select AAPL and SPY columns and calculate\n",
    "# percentage change of the columns to get\n",
    "#returns. Notice we drop\n",
    "# the first row with nan ( the first row)"
   ]
  },
  {
   "cell_type": "code",
   "execution_count": null,
   "metadata": {
    "iooxa": {
     "id": {
      "block": "Lwdy0lkW6tpuobKEJyIf",
      "project": "o8uCbOPb8iJK0GDallsV",
      "version": 1
     },
     "outputId": {
      "block": "ZO2zuH4LTFBqcDsScVrU",
      "project": "o8uCbOPb8iJK0GDallsV",
      "version": 1
     }
    }
   },
   "outputs": [
    {
     "data": {
      "text/html": [
       "<div>\n",
       "<style scoped>\n",
       "    .dataframe tbody tr th:only-of-type {\n",
       "        vertical-align: middle;\n",
       "    }\n",
       "\n",
       "    .dataframe tbody tr th {\n",
       "        vertical-align: top;\n",
       "    }\n",
       "\n",
       "    .dataframe thead th {\n",
       "        text-align: right;\n",
       "    }\n",
       "</style>\n",
       "<table border=\"1\" class=\"dataframe\">\n",
       "  <thead>\n",
       "    <tr style=\"text-align: right;\">\n",
       "      <th></th>\n",
       "      <th>SPY</th>\n",
       "      <th>AAPL</th>\n",
       "    </tr>\n",
       "  </thead>\n",
       "  <tbody>\n",
       "    <tr>\n",
       "      <th>0</th>\n",
       "      <td>NaN</td>\n",
       "      <td>NaN</td>\n",
       "    </tr>\n",
       "    <tr>\n",
       "      <th>1</th>\n",
       "      <td>0.017895</td>\n",
       "      <td>0.047747</td>\n",
       "    </tr>\n",
       "    <tr>\n",
       "      <th>2</th>\n",
       "      <td>0.039292</td>\n",
       "      <td>0.133778</td>\n",
       "    </tr>\n",
       "    <tr>\n",
       "      <th>3</th>\n",
       "      <td>0.001250</td>\n",
       "      <td>0.048689</td>\n",
       "    </tr>\n",
       "    <tr>\n",
       "      <th>4</th>\n",
       "      <td>0.009926</td>\n",
       "      <td>-0.000070</td>\n",
       "    </tr>\n",
       "    <tr>\n",
       "      <th>...</th>\n",
       "      <td>...</td>\n",
       "      <td>...</td>\n",
       "    </tr>\n",
       "    <tr>\n",
       "      <th>56</th>\n",
       "      <td>0.029760</td>\n",
       "      <td>0.042489</td>\n",
       "    </tr>\n",
       "    <tr>\n",
       "      <th>57</th>\n",
       "      <td>-0.046605</td>\n",
       "      <td>-0.068037</td>\n",
       "    </tr>\n",
       "    <tr>\n",
       "      <th>58</th>\n",
       "      <td>0.070163</td>\n",
       "      <td>0.058657</td>\n",
       "    </tr>\n",
       "    <tr>\n",
       "      <th>59</th>\n",
       "      <td>-0.008035</td>\n",
       "      <td>0.105082</td>\n",
       "    </tr>\n",
       "    <tr>\n",
       "      <th>60</th>\n",
       "      <td>0.046248</td>\n",
       "      <td>0.074229</td>\n",
       "    </tr>\n",
       "  </tbody>\n",
       "</table>\n",
       "<p>61 rows × 2 columns</p>\n",
       "</div>"
      ],
      "text/plain": [
       "         SPY      AAPL\n",
       "0        NaN       NaN\n",
       "1   0.017895  0.047747\n",
       "2   0.039292  0.133778\n",
       "3   0.001250  0.048689\n",
       "4   0.009926 -0.000070\n",
       "..       ...       ...\n",
       "56  0.029760  0.042489\n",
       "57 -0.046605 -0.068037\n",
       "58  0.070163  0.058657\n",
       "59 -0.008035  0.105082\n",
       "60  0.046248  0.074229\n",
       "\n",
       "[61 rows x 2 columns]"
      ]
     },
     "execution_count": 174,
     "metadata": {},
     "output_type": "execute_result"
    }
   ],
   "source": [
    "stock = 'AAPL'\n",
    "market = 'SPY'\n",
    "df = price_data[[market,stock]] ## create a data frame with two columns market and stock\n",
    "\n",
    "df_ret=df.pct_change() ## creat return data\n",
    "df_ret.dropna()\n",
    "df_ret"
   ]
  },
  {
   "cell_type": "code",
   "execution_count": null,
   "metadata": {
    "iooxa": {
     "id": {
      "block": "ubbQRry70GnJMr0kXNQm",
      "project": "o8uCbOPb8iJK0GDallsV",
      "version": 1
     },
     "outputId": null
    }
   },
   "outputs": [],
   "source": [
    "## test code to calculate correlation between stock and market"
   ]
  },
  {
   "cell_type": "code",
   "execution_count": null,
   "metadata": {
    "iooxa": {
     "id": {
      "block": "FGLk46iTTxN0I992VmIL",
      "project": "o8uCbOPb8iJK0GDallsV",
      "version": 1
     },
     "outputId": {
      "block": "rW9TvZXnN6JiQgb6Gszv",
      "project": "o8uCbOPb8iJK0GDallsV",
      "version": 1
     }
    }
   },
   "outputs": [
    {
     "data": {
      "text/plain": [
       "0.627192774693933"
      ]
     },
     "execution_count": 176,
     "metadata": {},
     "output_type": "execute_result"
    }
   ],
   "source": [
    "corr= df_ret[market].corr(df_ret[stock] )\n",
    "corr"
   ]
  },
  {
   "cell_type": "code",
   "execution_count": null,
   "metadata": {
    "iooxa": {
     "id": {
      "block": "IjqFdsYN22rlScfLSco4",
      "project": "o8uCbOPb8iJK0GDallsV",
      "version": 1
     },
     "outputId": null
    }
   },
   "outputs": [],
   "source": [
    "#Let us calculate the means, STDs, stock-beta and stock-alpha¶"
   ]
  },
  {
   "cell_type": "code",
   "execution_count": null,
   "metadata": {
    "iooxa": {
     "id": {
      "block": "GGUaYpSMtdQETcV2w4GS",
      "project": "o8uCbOPb8iJK0GDallsV",
      "version": 1
     },
     "outputId": {
      "block": "4zcXX83wdpK8XDiqZFTY",
      "project": "o8uCbOPb8iJK0GDallsV",
      "version": 1
     }
    }
   },
   "outputs": [
    {
     "data": {
      "text/plain": [
       "'AMGN'"
      ]
     },
     "execution_count": 178,
     "metadata": {},
     "output_type": "execute_result"
    }
   ],
   "source": [
    "symbol = price_data.columns[3]\n",
    "symbol"
   ]
  },
  {
   "cell_type": "code",
   "execution_count": null,
   "metadata": {
    "iooxa": {
     "id": {
      "block": "3jajUX43qQWVgqf3da02",
      "project": "o8uCbOPb8iJK0GDallsV",
      "version": 1
     },
     "outputId": {
      "block": "KmmFLhc1GuJB3cHVReY5",
      "project": "o8uCbOPb8iJK0GDallsV",
      "version": 1
     }
    },
    "scrolled": true
   },
   "outputs": [
    {
     "name": "stdout",
     "output_type": "stream",
     "text": [
      " Dictionary sf_out= {'stock': 'AMGN', 'market': 'SPY', 'market_mean': 0.015103618998770283, 'stock_mean': 0.011788373970709127, 'market_std': 0.04420465216308343, 'stock_std': 0.06675350945263248, 'stock_corr': 0.425491280357006, 'stock_beta': 0.6425350006270218, 'stock_alpha': 0.0020837701278639646}\n",
      "DataFrames f_df =\n"
     ]
    },
    {
     "data": {
      "text/html": [
       "<div>\n",
       "<style scoped>\n",
       "    .dataframe tbody tr th:only-of-type {\n",
       "        vertical-align: middle;\n",
       "    }\n",
       "\n",
       "    .dataframe tbody tr th {\n",
       "        vertical-align: top;\n",
       "    }\n",
       "\n",
       "    .dataframe thead th {\n",
       "        text-align: right;\n",
       "    }\n",
       "</style>\n",
       "<table border=\"1\" class=\"dataframe\">\n",
       "  <thead>\n",
       "    <tr style=\"text-align: right;\">\n",
       "      <th></th>\n",
       "      <th>stock</th>\n",
       "      <th>market</th>\n",
       "      <th>market_mean</th>\n",
       "      <th>stock_mean</th>\n",
       "      <th>market_std</th>\n",
       "      <th>stock_std</th>\n",
       "      <th>stock_corr</th>\n",
       "      <th>stock_beta</th>\n",
       "      <th>stock_alpha</th>\n",
       "    </tr>\n",
       "  </thead>\n",
       "  <tbody>\n",
       "    <tr>\n",
       "      <th>1</th>\n",
       "      <td>AMGN</td>\n",
       "      <td>SPY</td>\n",
       "      <td>0.0151036</td>\n",
       "      <td>0.0117884</td>\n",
       "      <td>0.0442047</td>\n",
       "      <td>0.0667535</td>\n",
       "      <td>0.425491</td>\n",
       "      <td>0.642535</td>\n",
       "      <td>0.00208377</td>\n",
       "    </tr>\n",
       "  </tbody>\n",
       "</table>\n",
       "</div>"
      ],
      "text/plain": [
       "  stock market market_mean stock_mean market_std  stock_std stock_corr  \\\n",
       "1  AMGN    SPY   0.0151036  0.0117884  0.0442047  0.0667535   0.425491   \n",
       "\n",
       "  stock_beta stock_alpha  \n",
       "1   0.642535  0.00208377  "
      ]
     },
     "execution_count": 179,
     "metadata": {},
     "output_type": "execute_result"
    }
   ],
   "source": [
    "symbol = price_data.columns[3]\n",
    "symbol\n",
    "df = price_data[['SPY', symbol]]\n",
    "stock = df.columns[1]\n",
    "market = df.columns[0]\n",
    "df.columns=[market, stock] ## rename columns\n",
    "df_ret=df.pct_change() ## create return data\n",
    "ch= df_ret.dropna()\n",
    "stock = df.columns[1]\n",
    "market_mean= df_ret[market].mean()\n",
    "stock_mean = df_ret[stock].mean()\n",
    "market_std= df_ret[market].std()\n",
    "stock_std = df_ret[stock].std()\n",
    "\n",
    "stock_corr = df_ret[market].corr(df_ret[stock] )\n",
    "stock_beta = stock_corr*stock_std/market_std\n",
    "stock_alpha= stock_mean -stock_beta*market_mean\n",
    "sf_out = {'stock':stock, 'market':market , 'market_mean':market_mean,\n",
    "    'stock_mean': stock_mean, 'market_std':market_std ,\n",
    "    'stock_std':stock_std,'stock_corr':stock_corr ,'stock_beta': stock_beta, 'stock_alpha': stock_alpha}\n",
    "sf_out\n",
    "print(' Dictionary sf_out=', sf_out)\n",
    "sf_df = pd.DataFrame(list(sf_out.items()) ).T\n",
    "sf_df.columns = ['stock', 'market', 'market_mean',\n",
    "        'stock_mean', 'market_std' ,'stock_std', 'stock_corr','stock_beta', 'stock_alpha'] \n",
    "sf_df= sf_df.drop(labels=[0], axis=0)\n",
    "print( 'DataFrames f_df =' )\n",
    "sf_df"
   ]
  },
  {
   "cell_type": "code",
   "execution_count": null,
   "metadata": {
    "iooxa": {
     "id": {
      "block": "UiKMz8C5L2JQ1kapACM6",
      "project": "o8uCbOPb8iJK0GDallsV",
      "version": 1
     },
     "outputId": null
    }
   },
   "outputs": [],
   "source": [
    "#Let us write a function the takes a Dataframe of two--columns-returns and\n",
    "# returns ( Factor,Stock) and outputs the Single-Factor_model parameters estimates in a dictionary¶\n"
   ]
  },
  {
   "cell_type": "code",
   "execution_count": null,
   "metadata": {
    "iooxa": {
     "id": {
      "block": "ks82jFZ3AqOVoVt6H755",
      "project": "o8uCbOPb8iJK0GDallsV",
      "version": 1
     },
     "outputId": null
    }
   },
   "outputs": [],
   "source": [
    "def sfm(df):\n",
    "    \"\"\" this functions takes a rturns-data frame and returns\n",
    "    a dictionary of the Single Factor Model parameter estimates\"\"\"\n",
    "    \n",
    "    stock = df.columns[1]\n",
    "    factor = df.columns[0]\n",
    "    df.columns=[market, stock] ## rename columns\n",
    "    df_ret=df.pct_change() ## create return data\n",
    "    df_ret= df_ret.dropna()\n",
    "    stock = df.columns[1]\n",
    "    factor_mean= df_ret[factor].mean()\n",
    "    stock_mean = df_ret[stock].mean()\n",
    "    factor_std= df_ret[factor].std()\n",
    "    stock_std = df_ret[stock].std()\n",
    "    #print ( market,stock)\n",
    "    stock_corr = df_ret[market].corr(df_ret[stock] )\n",
    "    stock_beta = stock_corr*stock_std/market_std\n",
    "    stock_alpha= stock_mean -stock_beta*market_mean\n",
    "    sf_out = {'stock':stock, 'factor': factor , 'factor_mean':factor_mean,\n",
    "    'stock_mean': stock_mean, 'factor_std':factor_std ,\n",
    "    'stock_std':stock_std,'stock_corr':stock_corr ,'stock_beta': stock_beta, 'stock_alpha': stock_alpha}\n",
    "    \n",
    "    return sf_out"
   ]
  },
  {
   "cell_type": "code",
   "execution_count": null,
   "metadata": {
    "iooxa": {
     "id": {
      "block": "OrRCNnug5ErUbVn8Ile3",
      "project": "o8uCbOPb8iJK0GDallsV",
      "version": 1
     },
     "outputId": null
    }
   },
   "outputs": [],
   "source": [
    "### Create the Dataframe of 'CAT'"
   ]
  },
  {
   "cell_type": "code",
   "execution_count": null,
   "metadata": {
    "iooxa": {
     "id": {
      "block": "tltLt6X3AWdZgRfS9kKT",
      "project": "o8uCbOPb8iJK0GDallsV",
      "version": 1
     },
     "outputId": {
      "block": "mShA9OjVxYxWk43fnDGs",
      "project": "o8uCbOPb8iJK0GDallsV",
      "version": 1
     }
    }
   },
   "outputs": [
    {
     "data": {
      "text/html": [
       "<div>\n",
       "<style scoped>\n",
       "    .dataframe tbody tr th:only-of-type {\n",
       "        vertical-align: middle;\n",
       "    }\n",
       "\n",
       "    .dataframe tbody tr th {\n",
       "        vertical-align: top;\n",
       "    }\n",
       "\n",
       "    .dataframe thead th {\n",
       "        text-align: right;\n",
       "    }\n",
       "</style>\n",
       "<table border=\"1\" class=\"dataframe\">\n",
       "  <thead>\n",
       "    <tr style=\"text-align: right;\">\n",
       "      <th></th>\n",
       "      <th>SPY</th>\n",
       "      <th>CAT</th>\n",
       "    </tr>\n",
       "  </thead>\n",
       "  <tbody>\n",
       "    <tr>\n",
       "      <th>0</th>\n",
       "      <td>204.582474</td>\n",
       "      <td>81.426537</td>\n",
       "    </tr>\n",
       "  </tbody>\n",
       "</table>\n",
       "</div>"
      ],
      "text/plain": [
       "          SPY        CAT\n",
       "0  204.582474  81.426537"
      ]
     },
     "execution_count": 183,
     "metadata": {},
     "output_type": "execute_result"
    }
   ],
   "source": [
    "market = 'SPY'\n",
    "stock = 'CAT'\n",
    "cat = price_data[[market, stock]]\n",
    "cat.head(1)"
   ]
  },
  {
   "cell_type": "code",
   "execution_count": null,
   "metadata": {
    "iooxa": {
     "id": {
      "block": "HIjeJ8VvNPBVH9z9vehf",
      "project": "o8uCbOPb8iJK0GDallsV",
      "version": 1
     },
     "outputId": null
    }
   },
   "outputs": [],
   "source": [
    "#pply the function on cat"
   ]
  },
  {
   "cell_type": "code",
   "execution_count": null,
   "metadata": {
    "iooxa": {
     "id": {
      "block": "feAxBgCeyKNJaFeUlaxF",
      "project": "o8uCbOPb8iJK0GDallsV",
      "version": 1
     },
     "outputId": {
      "block": "r2bUejDG0beRuJ90KyON",
      "project": "o8uCbOPb8iJK0GDallsV",
      "version": 1
     }
    }
   },
   "outputs": [
    {
     "data": {
      "text/plain": [
       "{'stock': 'CAT',\n",
       " 'factor': 'SPY',\n",
       " 'factor_mean': 0.015103618998770283,\n",
       " 'stock_mean': 0.018347844152660667,\n",
       " 'factor_std': 0.04420465216308343,\n",
       " 'stock_std': 0.0734569424559432,\n",
       " 'stock_corr': 0.5641527132069835,\n",
       " 'stock_beta': 0.9374790064521334,\n",
       " 'stock_alpha': 0.004188518419861936}"
      ]
     },
     "execution_count": 185,
     "metadata": {},
     "output_type": "execute_result"
    }
   ],
   "source": [
    "sfm(cat)"
   ]
  },
  {
   "cell_type": "code",
   "execution_count": null,
   "metadata": {
    "iooxa": {
     "id": {
      "block": "yb1MfSzch1Eg8C4nZ2u3",
      "project": "o8uCbOPb8iJK0GDallsV",
      "version": 1
     },
     "outputId": {
      "block": "CY6TeOK8qSrHeNWHlxKs",
      "project": "o8uCbOPb8iJK0GDallsV",
      "version": 1
     }
    }
   },
   "outputs": [
    {
     "data": {
      "text/plain": [
       "Index(['date', 'SPY', 'AAPL', 'AMGN', 'AXP', 'BA', 'CAT', 'CRM', 'CSCO', 'CVX',\n",
       "       'DIS', 'GS', 'HD', 'HON', 'IBM', 'INTC', 'JNJ', 'JPM', 'KO', 'MCD',\n",
       "       'MMM', 'MRK', 'MSFT', 'NKE', 'PG', 'TRV', 'UNH', 'V', 'VZ', 'WBA',\n",
       "       'WMT'],\n",
       "      dtype='object')"
      ]
     },
     "execution_count": 186,
     "metadata": {},
     "output_type": "execute_result"
    }
   ],
   "source": [
    "price_data.columns"
   ]
  },
  {
   "cell_type": "code",
   "execution_count": null,
   "metadata": {
    "iooxa": {
     "id": {
      "block": "7Q6QcZdYzbzMyCoJzVl6",
      "project": "o8uCbOPb8iJK0GDallsV",
      "version": 1
     },
     "outputId": null
    }
   },
   "outputs": [],
   "source": [
    "## This prints the last column name"
   ]
  },
  {
   "cell_type": "code",
   "execution_count": null,
   "metadata": {
    "iooxa": {
     "id": {
      "block": "f80pBLl2s2LEfyb0btkr",
      "project": "o8uCbOPb8iJK0GDallsV",
      "version": 1
     },
     "outputId": {
      "block": "2B37h9uNUbKXZI1CsQ5D",
      "project": "o8uCbOPb8iJK0GDallsV",
      "version": 1
     }
    }
   },
   "outputs": [
    {
     "data": {
      "text/plain": [
       "'WMT'"
      ]
     },
     "execution_count": 188,
     "metadata": {},
     "output_type": "execute_result"
    }
   ],
   "source": [
    "price_data.columns[len(price_data.columns)-1]"
   ]
  },
  {
   "cell_type": "code",
   "execution_count": null,
   "metadata": {
    "iooxa": {
     "id": {
      "block": "Id0ysQMerruVM1hrnDdS",
      "project": "o8uCbOPb8iJK0GDallsV",
      "version": 1
     },
     "outputId": {
      "block": "wHDnMcLrGr6q4z667VYu",
      "project": "o8uCbOPb8iJK0GDallsV",
      "version": 1
     }
    }
   },
   "outputs": [
    {
     "data": {
      "text/plain": [
       "Index(['date', 'SPY', 'AAPL', 'AMGN', 'AXP', 'BA', 'CAT', 'CRM', 'CSCO', 'CVX',\n",
       "       'DIS', 'GS', 'HD', 'HON', 'IBM', 'INTC', 'JNJ', 'JPM', 'KO', 'MCD',\n",
       "       'MMM', 'MRK', 'MSFT', 'NKE', 'PG', 'TRV', 'UNH', 'V', 'VZ', 'WBA',\n",
       "       'WMT'],\n",
       "      dtype='object')"
      ]
     },
     "execution_count": 189,
     "metadata": {},
     "output_type": "execute_result"
    }
   ],
   "source": [
    "price_data.columns"
   ]
  },
  {
   "cell_type": "code",
   "execution_count": null,
   "metadata": {
    "iooxa": {
     "id": {
      "block": "EqDuZEWKiv2fVRjqiMC8",
      "project": "o8uCbOPb8iJK0GDallsV",
      "version": 1
     },
     "outputId": null
    }
   },
   "outputs": [],
   "source": [
    "#Another test code"
   ]
  },
  {
   "cell_type": "code",
   "execution_count": null,
   "metadata": {
    "iooxa": {
     "id": {
      "block": "kO6gwoLOloenSbNdNE7Z",
      "project": "o8uCbOPb8iJK0GDallsV",
      "version": 1
     },
     "outputId": {
      "block": "lu6gczaGUi68OqSfsjRT",
      "project": "o8uCbOPb8iJK0GDallsV",
      "version": 1
     }
    }
   },
   "outputs": [
    {
     "data": {
      "text/html": [
       "<div>\n",
       "<style scoped>\n",
       "    .dataframe tbody tr th:only-of-type {\n",
       "        vertical-align: middle;\n",
       "    }\n",
       "\n",
       "    .dataframe tbody tr th {\n",
       "        vertical-align: top;\n",
       "    }\n",
       "\n",
       "    .dataframe thead th {\n",
       "        text-align: right;\n",
       "    }\n",
       "</style>\n",
       "<table border=\"1\" class=\"dataframe\">\n",
       "  <thead>\n",
       "    <tr style=\"text-align: right;\">\n",
       "      <th></th>\n",
       "      <th>SPY</th>\n",
       "      <th>AXP</th>\n",
       "    </tr>\n",
       "  </thead>\n",
       "  <tbody>\n",
       "    <tr>\n",
       "      <th>0</th>\n",
       "      <td>204.582474</td>\n",
       "      <td>68.605103</td>\n",
       "    </tr>\n",
       "    <tr>\n",
       "      <th>1</th>\n",
       "      <td>208.243408</td>\n",
       "      <td>71.036797</td>\n",
       "    </tr>\n",
       "    <tr>\n",
       "      <th>2</th>\n",
       "      <td>216.425644</td>\n",
       "      <td>74.459358</td>\n",
       "    </tr>\n",
       "  </tbody>\n",
       "</table>\n",
       "</div>"
      ],
      "text/plain": [
       "          SPY        AXP\n",
       "0  204.582474  68.605103\n",
       "1  208.243408  71.036797\n",
       "2  216.425644  74.459358"
      ]
     },
     "execution_count": 191,
     "metadata": {},
     "output_type": "execute_result"
    }
   ],
   "source": [
    "i=4\n",
    "market= price_data.columns[1]\n",
    "symbol= price_data.columns[i] \n",
    "df_ = price_data[[market,symbol]]\n",
    "df_.head(3)"
   ]
  },
  {
   "cell_type": "code",
   "execution_count": null,
   "metadata": {
    "iooxa": {
     "id": {
      "block": "3g5uDklgTBZmiN9m3TFb",
      "project": "o8uCbOPb8iJK0GDallsV",
      "version": 1
     },
     "outputId": {
      "block": "ZwMjYPpbj7xTKb15R4ts",
      "project": "o8uCbOPb8iJK0GDallsV",
      "version": 1
     }
    }
   },
   "outputs": [
    {
     "data": {
      "text/plain": [
       "31"
      ]
     },
     "execution_count": 192,
     "metadata": {},
     "output_type": "execute_result"
    }
   ],
   "source": [
    "len(price_data.columns)"
   ]
  },
  {
   "cell_type": "code",
   "execution_count": null,
   "metadata": {
    "iooxa": {
     "id": {
      "block": "kmOtgHe74qpn29MzfqsP",
      "project": "o8uCbOPb8iJK0GDallsV",
      "version": 1
     },
     "outputId": {
      "block": "rThYdEnQ9C2euV0DROEV",
      "project": "o8uCbOPb8iJK0GDallsV",
      "version": 1
     }
    }
   },
   "outputs": [
    {
     "data": {
      "text/plain": [
       "'WMT'"
      ]
     },
     "execution_count": 193,
     "metadata": {},
     "output_type": "execute_result"
    }
   ],
   "source": [
    "price_data.columns[30]\n"
   ]
  },
  {
   "cell_type": "code",
   "execution_count": null,
   "metadata": {
    "iooxa": {
     "id": {
      "block": "VlaF8Suy6N363xWMwJeQ",
      "project": "o8uCbOPb8iJK0GDallsV",
      "version": 1
     },
     "outputId": null
    }
   },
   "outputs": [],
   "source": [
    "#We create an empty DataFrame and append results"
   ]
  },
  {
   "cell_type": "code",
   "execution_count": null,
   "metadata": {
    "iooxa": {
     "id": {
      "block": "VvBS3qnuyokodgWnGl80",
      "project": "o8uCbOPb8iJK0GDallsV",
      "version": 1
     },
     "outputId": null
    }
   },
   "outputs": [],
   "source": [
    "est_df =pd.DataFrame()\n",
    "N= len(price_data.columns)-1\n",
    "market = price_data.columns[1]\n",
    "\n",
    "for k in range(2,N):\n",
    "    symbol = price_data.columns[k] ## pick a column(symbol)\n",
    "    df_k = price_data[[market,symbol]] ## Create the two-columns DataFrame\n",
    "    sf_k = sfm(df_k)  ## apply the function and get a dictionary\n",
    "    sf_k_df = pd.DataFrame([sf_k])\n",
    "    est_df = pd.concat([est_df, sf_k_df], ignore_index=True)"
   ]
  },
  {
   "cell_type": "code",
   "execution_count": null,
   "metadata": {
    "iooxa": {
     "id": {
      "block": "1JmPLgTXoKdS3noZAELS",
      "project": "o8uCbOPb8iJK0GDallsV",
      "version": 1
     },
     "outputId": {
      "block": "rcaXpdLwgPDEl5HIHfFB",
      "project": "o8uCbOPb8iJK0GDallsV",
      "version": 1
     }
    }
   },
   "outputs": [
    {
     "data": {
      "text/plain": [
       "Index(['stock', 'factor', 'factor_mean', 'stock_mean', 'factor_std',\n",
       "       'stock_std', 'stock_corr', 'stock_beta', 'stock_alpha'],\n",
       "      dtype='object')"
      ]
     },
     "execution_count": 196,
     "metadata": {},
     "output_type": "execute_result"
    }
   ],
   "source": [
    "est_df.columns"
   ]
  },
  {
   "cell_type": "code",
   "execution_count": null,
   "metadata": {
    "iooxa": {
     "id": {
      "block": "4WQpqfF6qhw0z4uho4is",
      "project": "o8uCbOPb8iJK0GDallsV",
      "version": 1
     },
     "outputId": {
      "block": "9lWqUfrZJxq1VwGKtcpD",
      "project": "o8uCbOPb8iJK0GDallsV",
      "version": 1
     }
    }
   },
   "outputs": [
    {
     "data": {
      "text/html": [
       "<div>\n",
       "<style scoped>\n",
       "    .dataframe tbody tr th:only-of-type {\n",
       "        vertical-align: middle;\n",
       "    }\n",
       "\n",
       "    .dataframe tbody tr th {\n",
       "        vertical-align: top;\n",
       "    }\n",
       "\n",
       "    .dataframe thead th {\n",
       "        text-align: right;\n",
       "    }\n",
       "</style>\n",
       "<table border=\"1\" class=\"dataframe\">\n",
       "  <thead>\n",
       "    <tr style=\"text-align: right;\">\n",
       "      <th></th>\n",
       "      <th>stock</th>\n",
       "      <th>factor</th>\n",
       "      <th>factor_mean</th>\n",
       "      <th>stock_mean</th>\n",
       "      <th>factor_std</th>\n",
       "      <th>stock_std</th>\n",
       "      <th>stock_corr</th>\n",
       "      <th>stock_beta</th>\n",
       "      <th>stock_alpha</th>\n",
       "    </tr>\n",
       "  </thead>\n",
       "  <tbody>\n",
       "    <tr>\n",
       "      <th>0</th>\n",
       "      <td>AAPL</td>\n",
       "      <td>SPY</td>\n",
       "      <td>0.015104</td>\n",
       "      <td>0.035243</td>\n",
       "      <td>0.044205</td>\n",
       "      <td>0.085030</td>\n",
       "      <td>0.627193</td>\n",
       "      <td>1.206436</td>\n",
       "      <td>0.017021</td>\n",
       "    </tr>\n",
       "    <tr>\n",
       "      <th>1</th>\n",
       "      <td>AMGN</td>\n",
       "      <td>SPY</td>\n",
       "      <td>0.015104</td>\n",
       "      <td>0.011788</td>\n",
       "      <td>0.044205</td>\n",
       "      <td>0.066754</td>\n",
       "      <td>0.425491</td>\n",
       "      <td>0.642535</td>\n",
       "      <td>0.002084</td>\n",
       "    </tr>\n",
       "    <tr>\n",
       "      <th>2</th>\n",
       "      <td>AXP</td>\n",
       "      <td>SPY</td>\n",
       "      <td>0.015104</td>\n",
       "      <td>0.017239</td>\n",
       "      <td>0.044205</td>\n",
       "      <td>0.074037</td>\n",
       "      <td>0.751579</td>\n",
       "      <td>1.258802</td>\n",
       "      <td>-0.001773</td>\n",
       "    </tr>\n",
       "    <tr>\n",
       "      <th>3</th>\n",
       "      <td>BA</td>\n",
       "      <td>SPY</td>\n",
       "      <td>0.015104</td>\n",
       "      <td>0.013473</td>\n",
       "      <td>0.044205</td>\n",
       "      <td>0.124454</td>\n",
       "      <td>0.540278</td>\n",
       "      <td>1.521096</td>\n",
       "      <td>-0.009501</td>\n",
       "    </tr>\n",
       "    <tr>\n",
       "      <th>4</th>\n",
       "      <td>CAT</td>\n",
       "      <td>SPY</td>\n",
       "      <td>0.015104</td>\n",
       "      <td>0.018348</td>\n",
       "      <td>0.044205</td>\n",
       "      <td>0.073457</td>\n",
       "      <td>0.564153</td>\n",
       "      <td>0.937479</td>\n",
       "      <td>0.004189</td>\n",
       "    </tr>\n",
       "    <tr>\n",
       "      <th>5</th>\n",
       "      <td>CRM</td>\n",
       "      <td>SPY</td>\n",
       "      <td>0.015104</td>\n",
       "      <td>0.025242</td>\n",
       "      <td>0.044205</td>\n",
       "      <td>0.082736</td>\n",
       "      <td>0.562896</td>\n",
       "      <td>1.053547</td>\n",
       "      <td>0.009329</td>\n",
       "    </tr>\n",
       "    <tr>\n",
       "      <th>6</th>\n",
       "      <td>CSCO</td>\n",
       "      <td>SPY</td>\n",
       "      <td>0.015104</td>\n",
       "      <td>0.017506</td>\n",
       "      <td>0.044205</td>\n",
       "      <td>0.071157</td>\n",
       "      <td>0.603214</td>\n",
       "      <td>0.971000</td>\n",
       "      <td>0.002840</td>\n",
       "    </tr>\n",
       "    <tr>\n",
       "      <th>7</th>\n",
       "      <td>CVX</td>\n",
       "      <td>SPY</td>\n",
       "      <td>0.015104</td>\n",
       "      <td>0.006862</td>\n",
       "      <td>0.044205</td>\n",
       "      <td>0.081842</td>\n",
       "      <td>0.695880</td>\n",
       "      <td>1.288377</td>\n",
       "      <td>-0.012598</td>\n",
       "    </tr>\n",
       "    <tr>\n",
       "      <th>8</th>\n",
       "      <td>DIS</td>\n",
       "      <td>SPY</td>\n",
       "      <td>0.015104</td>\n",
       "      <td>0.010464</td>\n",
       "      <td>0.044205</td>\n",
       "      <td>0.081011</td>\n",
       "      <td>0.651820</td>\n",
       "      <td>1.194547</td>\n",
       "      <td>-0.007578</td>\n",
       "    </tr>\n",
       "    <tr>\n",
       "      <th>9</th>\n",
       "      <td>GS</td>\n",
       "      <td>SPY</td>\n",
       "      <td>0.015104</td>\n",
       "      <td>0.012875</td>\n",
       "      <td>0.044205</td>\n",
       "      <td>0.085064</td>\n",
       "      <td>0.779678</td>\n",
       "      <td>1.500351</td>\n",
       "      <td>-0.009785</td>\n",
       "    </tr>\n",
       "    <tr>\n",
       "      <th>10</th>\n",
       "      <td>HD</td>\n",
       "      <td>SPY</td>\n",
       "      <td>0.015104</td>\n",
       "      <td>0.022872</td>\n",
       "      <td>0.044205</td>\n",
       "      <td>0.062389</td>\n",
       "      <td>0.701558</td>\n",
       "      <td>0.990164</td>\n",
       "      <td>0.007917</td>\n",
       "    </tr>\n",
       "    <tr>\n",
       "      <th>11</th>\n",
       "      <td>HON</td>\n",
       "      <td>SPY</td>\n",
       "      <td>0.015104</td>\n",
       "      <td>0.014149</td>\n",
       "      <td>0.044205</td>\n",
       "      <td>0.062397</td>\n",
       "      <td>0.818985</td>\n",
       "      <td>1.156038</td>\n",
       "      <td>-0.003311</td>\n",
       "    </tr>\n",
       "    <tr>\n",
       "      <th>12</th>\n",
       "      <td>IBM</td>\n",
       "      <td>SPY</td>\n",
       "      <td>0.015104</td>\n",
       "      <td>0.003575</td>\n",
       "      <td>0.044205</td>\n",
       "      <td>0.072131</td>\n",
       "      <td>0.698778</td>\n",
       "      <td>1.140234</td>\n",
       "      <td>-0.013646</td>\n",
       "    </tr>\n",
       "    <tr>\n",
       "      <th>13</th>\n",
       "      <td>INTC</td>\n",
       "      <td>SPY</td>\n",
       "      <td>0.015104</td>\n",
       "      <td>0.010638</td>\n",
       "      <td>0.044205</td>\n",
       "      <td>0.072600</td>\n",
       "      <td>0.317284</td>\n",
       "      <td>0.521096</td>\n",
       "      <td>0.002768</td>\n",
       "    </tr>\n",
       "    <tr>\n",
       "      <th>14</th>\n",
       "      <td>JNJ</td>\n",
       "      <td>SPY</td>\n",
       "      <td>0.015104</td>\n",
       "      <td>0.010042</td>\n",
       "      <td>0.044205</td>\n",
       "      <td>0.049819</td>\n",
       "      <td>0.654686</td>\n",
       "      <td>0.737835</td>\n",
       "      <td>-0.001102</td>\n",
       "    </tr>\n",
       "    <tr>\n",
       "      <th>15</th>\n",
       "      <td>JPM</td>\n",
       "      <td>SPY</td>\n",
       "      <td>0.015104</td>\n",
       "      <td>0.014867</td>\n",
       "      <td>0.044205</td>\n",
       "      <td>0.069394</td>\n",
       "      <td>0.726923</td>\n",
       "      <td>1.141142</td>\n",
       "      <td>-0.002369</td>\n",
       "    </tr>\n",
       "    <tr>\n",
       "      <th>16</th>\n",
       "      <td>KO</td>\n",
       "      <td>SPY</td>\n",
       "      <td>0.015104</td>\n",
       "      <td>0.010017</td>\n",
       "      <td>0.044205</td>\n",
       "      <td>0.051191</td>\n",
       "      <td>0.612656</td>\n",
       "      <td>0.709486</td>\n",
       "      <td>-0.000699</td>\n",
       "    </tr>\n",
       "    <tr>\n",
       "      <th>17</th>\n",
       "      <td>MCD</td>\n",
       "      <td>SPY</td>\n",
       "      <td>0.015104</td>\n",
       "      <td>0.016511</td>\n",
       "      <td>0.044205</td>\n",
       "      <td>0.049499</td>\n",
       "      <td>0.536304</td>\n",
       "      <td>0.600531</td>\n",
       "      <td>0.007441</td>\n",
       "    </tr>\n",
       "    <tr>\n",
       "      <th>18</th>\n",
       "      <td>MMM</td>\n",
       "      <td>SPY</td>\n",
       "      <td>0.015104</td>\n",
       "      <td>0.004214</td>\n",
       "      <td>0.044205</td>\n",
       "      <td>0.059954</td>\n",
       "      <td>0.709858</td>\n",
       "      <td>0.962762</td>\n",
       "      <td>-0.010327</td>\n",
       "    </tr>\n",
       "    <tr>\n",
       "      <th>19</th>\n",
       "      <td>MRK</td>\n",
       "      <td>SPY</td>\n",
       "      <td>0.015104</td>\n",
       "      <td>0.009421</td>\n",
       "      <td>0.044205</td>\n",
       "      <td>0.057481</td>\n",
       "      <td>0.371415</td>\n",
       "      <td>0.482967</td>\n",
       "      <td>0.002126</td>\n",
       "    </tr>\n",
       "    <tr>\n",
       "      <th>20</th>\n",
       "      <td>MSFT</td>\n",
       "      <td>SPY</td>\n",
       "      <td>0.015104</td>\n",
       "      <td>0.031100</td>\n",
       "      <td>0.044205</td>\n",
       "      <td>0.052379</td>\n",
       "      <td>0.726099</td>\n",
       "      <td>0.860365</td>\n",
       "      <td>0.018106</td>\n",
       "    </tr>\n",
       "    <tr>\n",
       "      <th>21</th>\n",
       "      <td>NKE</td>\n",
       "      <td>SPY</td>\n",
       "      <td>0.015104</td>\n",
       "      <td>0.023183</td>\n",
       "      <td>0.044205</td>\n",
       "      <td>0.069061</td>\n",
       "      <td>0.591123</td>\n",
       "      <td>0.923519</td>\n",
       "      <td>0.009234</td>\n",
       "    </tr>\n",
       "    <tr>\n",
       "      <th>22</th>\n",
       "      <td>PG</td>\n",
       "      <td>SPY</td>\n",
       "      <td>0.015104</td>\n",
       "      <td>0.014600</td>\n",
       "      <td>0.044205</td>\n",
       "      <td>0.046286</td>\n",
       "      <td>0.445618</td>\n",
       "      <td>0.466603</td>\n",
       "      <td>0.007553</td>\n",
       "    </tr>\n",
       "    <tr>\n",
       "      <th>23</th>\n",
       "      <td>TRV</td>\n",
       "      <td>SPY</td>\n",
       "      <td>0.015104</td>\n",
       "      <td>0.007646</td>\n",
       "      <td>0.044205</td>\n",
       "      <td>0.055961</td>\n",
       "      <td>0.611010</td>\n",
       "      <td>0.773505</td>\n",
       "      <td>-0.004037</td>\n",
       "    </tr>\n",
       "    <tr>\n",
       "      <th>24</th>\n",
       "      <td>UNH</td>\n",
       "      <td>SPY</td>\n",
       "      <td>0.015104</td>\n",
       "      <td>0.022559</td>\n",
       "      <td>0.044205</td>\n",
       "      <td>0.065342</td>\n",
       "      <td>0.585564</td>\n",
       "      <td>0.865564</td>\n",
       "      <td>0.009486</td>\n",
       "    </tr>\n",
       "    <tr>\n",
       "      <th>25</th>\n",
       "      <td>V</td>\n",
       "      <td>SPY</td>\n",
       "      <td>0.015104</td>\n",
       "      <td>0.019569</td>\n",
       "      <td>0.044205</td>\n",
       "      <td>0.061425</td>\n",
       "      <td>0.702732</td>\n",
       "      <td>0.976493</td>\n",
       "      <td>0.004820</td>\n",
       "    </tr>\n",
       "    <tr>\n",
       "      <th>26</th>\n",
       "      <td>VZ</td>\n",
       "      <td>SPY</td>\n",
       "      <td>0.015104</td>\n",
       "      <td>0.004235</td>\n",
       "      <td>0.044205</td>\n",
       "      <td>0.044341</td>\n",
       "      <td>0.439106</td>\n",
       "      <td>0.440464</td>\n",
       "      <td>-0.002418</td>\n",
       "    </tr>\n",
       "    <tr>\n",
       "      <th>27</th>\n",
       "      <td>WBA</td>\n",
       "      <td>SPY</td>\n",
       "      <td>0.015104</td>\n",
       "      <td>-0.001723</td>\n",
       "      <td>0.044205</td>\n",
       "      <td>0.083385</td>\n",
       "      <td>0.295282</td>\n",
       "      <td>0.557003</td>\n",
       "      <td>-0.010136</td>\n",
       "    </tr>\n",
       "  </tbody>\n",
       "</table>\n",
       "</div>"
      ],
      "text/plain": [
       "   stock factor  factor_mean  stock_mean  factor_std  stock_std  stock_corr  \\\n",
       "0   AAPL    SPY     0.015104    0.035243    0.044205   0.085030    0.627193   \n",
       "1   AMGN    SPY     0.015104    0.011788    0.044205   0.066754    0.425491   \n",
       "2    AXP    SPY     0.015104    0.017239    0.044205   0.074037    0.751579   \n",
       "3     BA    SPY     0.015104    0.013473    0.044205   0.124454    0.540278   \n",
       "4    CAT    SPY     0.015104    0.018348    0.044205   0.073457    0.564153   \n",
       "5    CRM    SPY     0.015104    0.025242    0.044205   0.082736    0.562896   \n",
       "6   CSCO    SPY     0.015104    0.017506    0.044205   0.071157    0.603214   \n",
       "7    CVX    SPY     0.015104    0.006862    0.044205   0.081842    0.695880   \n",
       "8    DIS    SPY     0.015104    0.010464    0.044205   0.081011    0.651820   \n",
       "9     GS    SPY     0.015104    0.012875    0.044205   0.085064    0.779678   \n",
       "10    HD    SPY     0.015104    0.022872    0.044205   0.062389    0.701558   \n",
       "11   HON    SPY     0.015104    0.014149    0.044205   0.062397    0.818985   \n",
       "12   IBM    SPY     0.015104    0.003575    0.044205   0.072131    0.698778   \n",
       "13  INTC    SPY     0.015104    0.010638    0.044205   0.072600    0.317284   \n",
       "14   JNJ    SPY     0.015104    0.010042    0.044205   0.049819    0.654686   \n",
       "15   JPM    SPY     0.015104    0.014867    0.044205   0.069394    0.726923   \n",
       "16    KO    SPY     0.015104    0.010017    0.044205   0.051191    0.612656   \n",
       "17   MCD    SPY     0.015104    0.016511    0.044205   0.049499    0.536304   \n",
       "18   MMM    SPY     0.015104    0.004214    0.044205   0.059954    0.709858   \n",
       "19   MRK    SPY     0.015104    0.009421    0.044205   0.057481    0.371415   \n",
       "20  MSFT    SPY     0.015104    0.031100    0.044205   0.052379    0.726099   \n",
       "21   NKE    SPY     0.015104    0.023183    0.044205   0.069061    0.591123   \n",
       "22    PG    SPY     0.015104    0.014600    0.044205   0.046286    0.445618   \n",
       "23   TRV    SPY     0.015104    0.007646    0.044205   0.055961    0.611010   \n",
       "24   UNH    SPY     0.015104    0.022559    0.044205   0.065342    0.585564   \n",
       "25     V    SPY     0.015104    0.019569    0.044205   0.061425    0.702732   \n",
       "26    VZ    SPY     0.015104    0.004235    0.044205   0.044341    0.439106   \n",
       "27   WBA    SPY     0.015104   -0.001723    0.044205   0.083385    0.295282   \n",
       "\n",
       "    stock_beta  stock_alpha  \n",
       "0     1.206436     0.017021  \n",
       "1     0.642535     0.002084  \n",
       "2     1.258802    -0.001773  \n",
       "3     1.521096    -0.009501  \n",
       "4     0.937479     0.004189  \n",
       "5     1.053547     0.009329  \n",
       "6     0.971000     0.002840  \n",
       "7     1.288377    -0.012598  \n",
       "8     1.194547    -0.007578  \n",
       "9     1.500351    -0.009785  \n",
       "10    0.990164     0.007917  \n",
       "11    1.156038    -0.003311  \n",
       "12    1.140234    -0.013646  \n",
       "13    0.521096     0.002768  \n",
       "14    0.737835    -0.001102  \n",
       "15    1.141142    -0.002369  \n",
       "16    0.709486    -0.000699  \n",
       "17    0.600531     0.007441  \n",
       "18    0.962762    -0.010327  \n",
       "19    0.482967     0.002126  \n",
       "20    0.860365     0.018106  \n",
       "21    0.923519     0.009234  \n",
       "22    0.466603     0.007553  \n",
       "23    0.773505    -0.004037  \n",
       "24    0.865564     0.009486  \n",
       "25    0.976493     0.004820  \n",
       "26    0.440464    -0.002418  \n",
       "27    0.557003    -0.010136  "
      ]
     },
     "execution_count": 197,
     "metadata": {},
     "output_type": "execute_result"
    }
   ],
   "source": [
    "est_df"
   ]
  },
  {
   "cell_type": "code",
   "execution_count": null,
   "metadata": {
    "iooxa": {
     "id": {
      "block": "oXuoSFBCpPlafu3N86Ux",
      "project": "o8uCbOPb8iJK0GDallsV",
      "version": 1
     },
     "outputId": null
    }
   },
   "outputs": [],
   "source": [
    "#set the index as stock"
   ]
  },
  {
   "cell_type": "code",
   "execution_count": null,
   "metadata": {
    "iooxa": {
     "id": {
      "block": "RgmGcSJv0MRKUMYdAvqx",
      "project": "o8uCbOPb8iJK0GDallsV",
      "version": 1
     },
     "outputId": {
      "block": "0h9DqO8Kb7qBrNTwwKxD",
      "project": "o8uCbOPb8iJK0GDallsV",
      "version": 1
     }
    }
   },
   "outputs": [
    {
     "data": {
      "text/html": [
       "<div>\n",
       "<style scoped>\n",
       "    .dataframe tbody tr th:only-of-type {\n",
       "        vertical-align: middle;\n",
       "    }\n",
       "\n",
       "    .dataframe tbody tr th {\n",
       "        vertical-align: top;\n",
       "    }\n",
       "\n",
       "    .dataframe thead th {\n",
       "        text-align: right;\n",
       "    }\n",
       "</style>\n",
       "<table border=\"1\" class=\"dataframe\">\n",
       "  <thead>\n",
       "    <tr style=\"text-align: right;\">\n",
       "      <th></th>\n",
       "      <th>factor</th>\n",
       "      <th>factor_mean</th>\n",
       "      <th>stock_mean</th>\n",
       "      <th>factor_std</th>\n",
       "      <th>stock_std</th>\n",
       "      <th>stock_corr</th>\n",
       "      <th>stock_beta</th>\n",
       "      <th>stock_alpha</th>\n",
       "    </tr>\n",
       "    <tr>\n",
       "      <th>stock</th>\n",
       "      <th></th>\n",
       "      <th></th>\n",
       "      <th></th>\n",
       "      <th></th>\n",
       "      <th></th>\n",
       "      <th></th>\n",
       "      <th></th>\n",
       "      <th></th>\n",
       "    </tr>\n",
       "  </thead>\n",
       "  <tbody>\n",
       "    <tr>\n",
       "      <th>AAPL</th>\n",
       "      <td>SPY</td>\n",
       "      <td>0.015104</td>\n",
       "      <td>0.035243</td>\n",
       "      <td>0.044205</td>\n",
       "      <td>0.085030</td>\n",
       "      <td>0.627193</td>\n",
       "      <td>1.206436</td>\n",
       "      <td>0.017021</td>\n",
       "    </tr>\n",
       "    <tr>\n",
       "      <th>AMGN</th>\n",
       "      <td>SPY</td>\n",
       "      <td>0.015104</td>\n",
       "      <td>0.011788</td>\n",
       "      <td>0.044205</td>\n",
       "      <td>0.066754</td>\n",
       "      <td>0.425491</td>\n",
       "      <td>0.642535</td>\n",
       "      <td>0.002084</td>\n",
       "    </tr>\n",
       "    <tr>\n",
       "      <th>AXP</th>\n",
       "      <td>SPY</td>\n",
       "      <td>0.015104</td>\n",
       "      <td>0.017239</td>\n",
       "      <td>0.044205</td>\n",
       "      <td>0.074037</td>\n",
       "      <td>0.751579</td>\n",
       "      <td>1.258802</td>\n",
       "      <td>-0.001773</td>\n",
       "    </tr>\n",
       "    <tr>\n",
       "      <th>BA</th>\n",
       "      <td>SPY</td>\n",
       "      <td>0.015104</td>\n",
       "      <td>0.013473</td>\n",
       "      <td>0.044205</td>\n",
       "      <td>0.124454</td>\n",
       "      <td>0.540278</td>\n",
       "      <td>1.521096</td>\n",
       "      <td>-0.009501</td>\n",
       "    </tr>\n",
       "    <tr>\n",
       "      <th>CAT</th>\n",
       "      <td>SPY</td>\n",
       "      <td>0.015104</td>\n",
       "      <td>0.018348</td>\n",
       "      <td>0.044205</td>\n",
       "      <td>0.073457</td>\n",
       "      <td>0.564153</td>\n",
       "      <td>0.937479</td>\n",
       "      <td>0.004189</td>\n",
       "    </tr>\n",
       "    <tr>\n",
       "      <th>CRM</th>\n",
       "      <td>SPY</td>\n",
       "      <td>0.015104</td>\n",
       "      <td>0.025242</td>\n",
       "      <td>0.044205</td>\n",
       "      <td>0.082736</td>\n",
       "      <td>0.562896</td>\n",
       "      <td>1.053547</td>\n",
       "      <td>0.009329</td>\n",
       "    </tr>\n",
       "    <tr>\n",
       "      <th>CSCO</th>\n",
       "      <td>SPY</td>\n",
       "      <td>0.015104</td>\n",
       "      <td>0.017506</td>\n",
       "      <td>0.044205</td>\n",
       "      <td>0.071157</td>\n",
       "      <td>0.603214</td>\n",
       "      <td>0.971000</td>\n",
       "      <td>0.002840</td>\n",
       "    </tr>\n",
       "    <tr>\n",
       "      <th>CVX</th>\n",
       "      <td>SPY</td>\n",
       "      <td>0.015104</td>\n",
       "      <td>0.006862</td>\n",
       "      <td>0.044205</td>\n",
       "      <td>0.081842</td>\n",
       "      <td>0.695880</td>\n",
       "      <td>1.288377</td>\n",
       "      <td>-0.012598</td>\n",
       "    </tr>\n",
       "    <tr>\n",
       "      <th>DIS</th>\n",
       "      <td>SPY</td>\n",
       "      <td>0.015104</td>\n",
       "      <td>0.010464</td>\n",
       "      <td>0.044205</td>\n",
       "      <td>0.081011</td>\n",
       "      <td>0.651820</td>\n",
       "      <td>1.194547</td>\n",
       "      <td>-0.007578</td>\n",
       "    </tr>\n",
       "    <tr>\n",
       "      <th>GS</th>\n",
       "      <td>SPY</td>\n",
       "      <td>0.015104</td>\n",
       "      <td>0.012875</td>\n",
       "      <td>0.044205</td>\n",
       "      <td>0.085064</td>\n",
       "      <td>0.779678</td>\n",
       "      <td>1.500351</td>\n",
       "      <td>-0.009785</td>\n",
       "    </tr>\n",
       "    <tr>\n",
       "      <th>HD</th>\n",
       "      <td>SPY</td>\n",
       "      <td>0.015104</td>\n",
       "      <td>0.022872</td>\n",
       "      <td>0.044205</td>\n",
       "      <td>0.062389</td>\n",
       "      <td>0.701558</td>\n",
       "      <td>0.990164</td>\n",
       "      <td>0.007917</td>\n",
       "    </tr>\n",
       "    <tr>\n",
       "      <th>HON</th>\n",
       "      <td>SPY</td>\n",
       "      <td>0.015104</td>\n",
       "      <td>0.014149</td>\n",
       "      <td>0.044205</td>\n",
       "      <td>0.062397</td>\n",
       "      <td>0.818985</td>\n",
       "      <td>1.156038</td>\n",
       "      <td>-0.003311</td>\n",
       "    </tr>\n",
       "    <tr>\n",
       "      <th>IBM</th>\n",
       "      <td>SPY</td>\n",
       "      <td>0.015104</td>\n",
       "      <td>0.003575</td>\n",
       "      <td>0.044205</td>\n",
       "      <td>0.072131</td>\n",
       "      <td>0.698778</td>\n",
       "      <td>1.140234</td>\n",
       "      <td>-0.013646</td>\n",
       "    </tr>\n",
       "    <tr>\n",
       "      <th>INTC</th>\n",
       "      <td>SPY</td>\n",
       "      <td>0.015104</td>\n",
       "      <td>0.010638</td>\n",
       "      <td>0.044205</td>\n",
       "      <td>0.072600</td>\n",
       "      <td>0.317284</td>\n",
       "      <td>0.521096</td>\n",
       "      <td>0.002768</td>\n",
       "    </tr>\n",
       "    <tr>\n",
       "      <th>JNJ</th>\n",
       "      <td>SPY</td>\n",
       "      <td>0.015104</td>\n",
       "      <td>0.010042</td>\n",
       "      <td>0.044205</td>\n",
       "      <td>0.049819</td>\n",
       "      <td>0.654686</td>\n",
       "      <td>0.737835</td>\n",
       "      <td>-0.001102</td>\n",
       "    </tr>\n",
       "    <tr>\n",
       "      <th>JPM</th>\n",
       "      <td>SPY</td>\n",
       "      <td>0.015104</td>\n",
       "      <td>0.014867</td>\n",
       "      <td>0.044205</td>\n",
       "      <td>0.069394</td>\n",
       "      <td>0.726923</td>\n",
       "      <td>1.141142</td>\n",
       "      <td>-0.002369</td>\n",
       "    </tr>\n",
       "    <tr>\n",
       "      <th>KO</th>\n",
       "      <td>SPY</td>\n",
       "      <td>0.015104</td>\n",
       "      <td>0.010017</td>\n",
       "      <td>0.044205</td>\n",
       "      <td>0.051191</td>\n",
       "      <td>0.612656</td>\n",
       "      <td>0.709486</td>\n",
       "      <td>-0.000699</td>\n",
       "    </tr>\n",
       "    <tr>\n",
       "      <th>MCD</th>\n",
       "      <td>SPY</td>\n",
       "      <td>0.015104</td>\n",
       "      <td>0.016511</td>\n",
       "      <td>0.044205</td>\n",
       "      <td>0.049499</td>\n",
       "      <td>0.536304</td>\n",
       "      <td>0.600531</td>\n",
       "      <td>0.007441</td>\n",
       "    </tr>\n",
       "    <tr>\n",
       "      <th>MMM</th>\n",
       "      <td>SPY</td>\n",
       "      <td>0.015104</td>\n",
       "      <td>0.004214</td>\n",
       "      <td>0.044205</td>\n",
       "      <td>0.059954</td>\n",
       "      <td>0.709858</td>\n",
       "      <td>0.962762</td>\n",
       "      <td>-0.010327</td>\n",
       "    </tr>\n",
       "    <tr>\n",
       "      <th>MRK</th>\n",
       "      <td>SPY</td>\n",
       "      <td>0.015104</td>\n",
       "      <td>0.009421</td>\n",
       "      <td>0.044205</td>\n",
       "      <td>0.057481</td>\n",
       "      <td>0.371415</td>\n",
       "      <td>0.482967</td>\n",
       "      <td>0.002126</td>\n",
       "    </tr>\n",
       "    <tr>\n",
       "      <th>MSFT</th>\n",
       "      <td>SPY</td>\n",
       "      <td>0.015104</td>\n",
       "      <td>0.031100</td>\n",
       "      <td>0.044205</td>\n",
       "      <td>0.052379</td>\n",
       "      <td>0.726099</td>\n",
       "      <td>0.860365</td>\n",
       "      <td>0.018106</td>\n",
       "    </tr>\n",
       "    <tr>\n",
       "      <th>NKE</th>\n",
       "      <td>SPY</td>\n",
       "      <td>0.015104</td>\n",
       "      <td>0.023183</td>\n",
       "      <td>0.044205</td>\n",
       "      <td>0.069061</td>\n",
       "      <td>0.591123</td>\n",
       "      <td>0.923519</td>\n",
       "      <td>0.009234</td>\n",
       "    </tr>\n",
       "    <tr>\n",
       "      <th>PG</th>\n",
       "      <td>SPY</td>\n",
       "      <td>0.015104</td>\n",
       "      <td>0.014600</td>\n",
       "      <td>0.044205</td>\n",
       "      <td>0.046286</td>\n",
       "      <td>0.445618</td>\n",
       "      <td>0.466603</td>\n",
       "      <td>0.007553</td>\n",
       "    </tr>\n",
       "    <tr>\n",
       "      <th>TRV</th>\n",
       "      <td>SPY</td>\n",
       "      <td>0.015104</td>\n",
       "      <td>0.007646</td>\n",
       "      <td>0.044205</td>\n",
       "      <td>0.055961</td>\n",
       "      <td>0.611010</td>\n",
       "      <td>0.773505</td>\n",
       "      <td>-0.004037</td>\n",
       "    </tr>\n",
       "    <tr>\n",
       "      <th>UNH</th>\n",
       "      <td>SPY</td>\n",
       "      <td>0.015104</td>\n",
       "      <td>0.022559</td>\n",
       "      <td>0.044205</td>\n",
       "      <td>0.065342</td>\n",
       "      <td>0.585564</td>\n",
       "      <td>0.865564</td>\n",
       "      <td>0.009486</td>\n",
       "    </tr>\n",
       "    <tr>\n",
       "      <th>V</th>\n",
       "      <td>SPY</td>\n",
       "      <td>0.015104</td>\n",
       "      <td>0.019569</td>\n",
       "      <td>0.044205</td>\n",
       "      <td>0.061425</td>\n",
       "      <td>0.702732</td>\n",
       "      <td>0.976493</td>\n",
       "      <td>0.004820</td>\n",
       "    </tr>\n",
       "    <tr>\n",
       "      <th>VZ</th>\n",
       "      <td>SPY</td>\n",
       "      <td>0.015104</td>\n",
       "      <td>0.004235</td>\n",
       "      <td>0.044205</td>\n",
       "      <td>0.044341</td>\n",
       "      <td>0.439106</td>\n",
       "      <td>0.440464</td>\n",
       "      <td>-0.002418</td>\n",
       "    </tr>\n",
       "    <tr>\n",
       "      <th>WBA</th>\n",
       "      <td>SPY</td>\n",
       "      <td>0.015104</td>\n",
       "      <td>-0.001723</td>\n",
       "      <td>0.044205</td>\n",
       "      <td>0.083385</td>\n",
       "      <td>0.295282</td>\n",
       "      <td>0.557003</td>\n",
       "      <td>-0.010136</td>\n",
       "    </tr>\n",
       "  </tbody>\n",
       "</table>\n",
       "</div>"
      ],
      "text/plain": [
       "      factor  factor_mean  stock_mean  factor_std  stock_std  stock_corr  \\\n",
       "stock                                                                      \n",
       "AAPL     SPY     0.015104    0.035243    0.044205   0.085030    0.627193   \n",
       "AMGN     SPY     0.015104    0.011788    0.044205   0.066754    0.425491   \n",
       "AXP      SPY     0.015104    0.017239    0.044205   0.074037    0.751579   \n",
       "BA       SPY     0.015104    0.013473    0.044205   0.124454    0.540278   \n",
       "CAT      SPY     0.015104    0.018348    0.044205   0.073457    0.564153   \n",
       "CRM      SPY     0.015104    0.025242    0.044205   0.082736    0.562896   \n",
       "CSCO     SPY     0.015104    0.017506    0.044205   0.071157    0.603214   \n",
       "CVX      SPY     0.015104    0.006862    0.044205   0.081842    0.695880   \n",
       "DIS      SPY     0.015104    0.010464    0.044205   0.081011    0.651820   \n",
       "GS       SPY     0.015104    0.012875    0.044205   0.085064    0.779678   \n",
       "HD       SPY     0.015104    0.022872    0.044205   0.062389    0.701558   \n",
       "HON      SPY     0.015104    0.014149    0.044205   0.062397    0.818985   \n",
       "IBM      SPY     0.015104    0.003575    0.044205   0.072131    0.698778   \n",
       "INTC     SPY     0.015104    0.010638    0.044205   0.072600    0.317284   \n",
       "JNJ      SPY     0.015104    0.010042    0.044205   0.049819    0.654686   \n",
       "JPM      SPY     0.015104    0.014867    0.044205   0.069394    0.726923   \n",
       "KO       SPY     0.015104    0.010017    0.044205   0.051191    0.612656   \n",
       "MCD      SPY     0.015104    0.016511    0.044205   0.049499    0.536304   \n",
       "MMM      SPY     0.015104    0.004214    0.044205   0.059954    0.709858   \n",
       "MRK      SPY     0.015104    0.009421    0.044205   0.057481    0.371415   \n",
       "MSFT     SPY     0.015104    0.031100    0.044205   0.052379    0.726099   \n",
       "NKE      SPY     0.015104    0.023183    0.044205   0.069061    0.591123   \n",
       "PG       SPY     0.015104    0.014600    0.044205   0.046286    0.445618   \n",
       "TRV      SPY     0.015104    0.007646    0.044205   0.055961    0.611010   \n",
       "UNH      SPY     0.015104    0.022559    0.044205   0.065342    0.585564   \n",
       "V        SPY     0.015104    0.019569    0.044205   0.061425    0.702732   \n",
       "VZ       SPY     0.015104    0.004235    0.044205   0.044341    0.439106   \n",
       "WBA      SPY     0.015104   -0.001723    0.044205   0.083385    0.295282   \n",
       "\n",
       "       stock_beta  stock_alpha  \n",
       "stock                           \n",
       "AAPL     1.206436     0.017021  \n",
       "AMGN     0.642535     0.002084  \n",
       "AXP      1.258802    -0.001773  \n",
       "BA       1.521096    -0.009501  \n",
       "CAT      0.937479     0.004189  \n",
       "CRM      1.053547     0.009329  \n",
       "CSCO     0.971000     0.002840  \n",
       "CVX      1.288377    -0.012598  \n",
       "DIS      1.194547    -0.007578  \n",
       "GS       1.500351    -0.009785  \n",
       "HD       0.990164     0.007917  \n",
       "HON      1.156038    -0.003311  \n",
       "IBM      1.140234    -0.013646  \n",
       "INTC     0.521096     0.002768  \n",
       "JNJ      0.737835    -0.001102  \n",
       "JPM      1.141142    -0.002369  \n",
       "KO       0.709486    -0.000699  \n",
       "MCD      0.600531     0.007441  \n",
       "MMM      0.962762    -0.010327  \n",
       "MRK      0.482967     0.002126  \n",
       "MSFT     0.860365     0.018106  \n",
       "NKE      0.923519     0.009234  \n",
       "PG       0.466603     0.007553  \n",
       "TRV      0.773505    -0.004037  \n",
       "UNH      0.865564     0.009486  \n",
       "V        0.976493     0.004820  \n",
       "VZ       0.440464    -0.002418  \n",
       "WBA      0.557003    -0.010136  "
      ]
     },
     "execution_count": 199,
     "metadata": {},
     "output_type": "execute_result"
    }
   ],
   "source": [
    "est_df.set_index('stock', inplace=True)\n",
    "est_df"
   ]
  },
  {
   "cell_type": "code",
   "execution_count": null,
   "metadata": {
    "iooxa": {
     "id": {
      "block": "V954nHF0CvUam4iUtsIo",
      "project": "o8uCbOPb8iJK0GDallsV",
      "version": 1
     },
     "outputId": null
    }
   },
   "outputs": [],
   "source": [
    "#Let us explore the relationship between the stock_mean and stock_beta"
   ]
  },
  {
   "cell_type": "code",
   "execution_count": null,
   "metadata": {
    "iooxa": {
     "id": {
      "block": "KriY7i0TiJuX6Mxb7ssC",
      "project": "o8uCbOPb8iJK0GDallsV",
      "version": 1
     },
     "outputId": {
      "block": "NmoJw4WGbvezp71010cg",
      "project": "o8uCbOPb8iJK0GDallsV",
      "version": 1
     }
    }
   },
   "outputs": [
    {
     "data": {
      "image/png": "[encoded data removed]",
      "text/plain": [
       "<Figure size 432x288 with 1 Axes>"
      ]
     },
     "metadata": {
      "needs_background": "light"
     },
     "output_type": "display_data"
    }
   ],
   "source": [
    "import matplotlib.pyplot as plt\n",
    "plt.scatter(est_df.stock_beta, est_df.stock_mean)\n",
    "plt.xlabel('Beta')\n",
    "plt.ylabel('Mean Return')\n",
    "plt.show()"
   ]
  },
  {
   "cell_type": "code",
   "execution_count": null,
   "metadata": {
    "iooxa": {
     "id": {
      "block": "8LVBCrrnOGJPbcZNy7qD",
      "project": "o8uCbOPb8iJK0GDallsV",
      "version": 1
     },
     "outputId": {
      "block": "KiCsJb0NHGYbzFs2rOH2",
      "project": "o8uCbOPb8iJK0GDallsV",
      "version": 1
     }
    }
   },
   "outputs": [
    {
     "name": "stdout",
     "output_type": "stream",
     "text": [
      "y=0.006850x+(0.008187)\n"
     ]
    },
    {
     "data": {
      "image/png": "[encoded data removed]",
      "text/plain": [
       "<Figure size 432x288 with 1 Axes>"
      ]
     },
     "metadata": {
      "needs_background": "light"
     },
     "output_type": "display_data"
    }
   ],
   "source": [
    "x= est_df.stock_beta\n",
    "y= est_df.stock_mean\n",
    "plt.scatter(x, y)\n",
    "plt.xlabel('Beta')\n",
    "plt.ylabel('Mean Return')\n",
    "m, a = np.polyfit(x, y, 1) # fits one-degree polynomial, which is a straight line\n",
    "plt.plot(x, m*x+a)\n",
    "\n",
    "print ( \"y=%.6fx+(%.6f)\"%(m,a) )\n",
    "# the line equation:\n",
    "#print \"y=%.6fx+(%.6f)\"%(z[0],z[1])"
   ]
  },
  {
   "cell_type": "code",
   "execution_count": null,
   "metadata": {
    "iooxa": {
     "id": {
      "block": "th4kT5m2ky5k1tEbOcDx",
      "project": "o8uCbOPb8iJK0GDallsV",
      "version": 1
     },
     "outputId": {
      "block": "WsRW157zfprClxXOaw2G",
      "project": "o8uCbOPb8iJK0GDallsV",
      "version": 1
     }
    }
   },
   "outputs": [
    {
     "data": {
      "text/plain": [
       "0.2480254683441222"
      ]
     },
     "execution_count": 203,
     "metadata": {},
     "output_type": "execute_result"
    }
   ],
   "source": [
    "corr_beta_mean=  est_df['stock_beta'].corr(est_df['stock_mean'])\n",
    "corr_beta_mean    "
   ]
  },
  {
   "cell_type": "code",
   "execution_count": null,
   "metadata": {
    "iooxa": {
     "id": {
      "block": "FeKaAvDjq6ytRloMxEJf",
      "project": "o8uCbOPb8iJK0GDallsV",
      "version": 1
     },
     "outputId": {
      "block": "FG2LXN0aemxR5vRy7bQY",
      "project": "o8uCbOPb8iJK0GDallsV",
      "version": 1
     }
    }
   },
   "outputs": [
    {
     "data": {
      "text/plain": [
       "0.06151663294732117"
      ]
     },
     "execution_count": 204,
     "metadata": {},
     "output_type": "execute_result"
    }
   ],
   "source": [
    "corr_beta_mean**2"
   ]
  },
  {
   "cell_type": "code",
   "execution_count": null,
   "metadata": {
    "iooxa": {
     "id": {
      "block": "OTVt0E9WvkZGtboNdnM8",
      "project": "o8uCbOPb8iJK0GDallsV",
      "version": 1
     },
     "outputId": null
    }
   },
   "outputs": [],
   "source": [
    "#it looks like beta explains about 6% of the the mean variability"
   ]
  },
  {
   "cell_type": "markdown",
   "metadata": {
    "iooxa": {
     "id": {
      "block": "Klq3BUhAG7e4ss8SIepD",
      "project": "o8uCbOPb8iJK0GDallsV",
      "version": 1
     }
    }
   },
   "source": [
    "# Practice Question\n",
    "\n",
    "1. Write a Python function that calculates the **Return on Investment (ROI)** given the initial investment and the final value of the investment.\n",
    "\n",
    "   **Task**: Define a function `calculate_roi(initial_investment, final_value)` that returns the ROI in percentage.\n",
    "2. Write a Python function that calculates the return of a portfolio given the weights of assets in the portfolio and the individual asset returns.\n",
    "\n",
    "   Create a function `portfolio_return(weights, returns)` that calculates the weighted return of a portfolio."
   ]
  }
 ],
 "metadata": {
  "iooxa": {
   "id": {
    "block": "lQ3i2qYrMIddXD1XLXzX",
    "project": "o8uCbOPb8iJK0GDallsV",
    "version": 7
   }
  },
  "kernelspec": {
   "display_name": ".venv (3.9.6)",
   "language": "python",
   "name": "python3"
  },
  "language_info": {
   "codemirror_mode": {
    "name": "ipython",
    "version": 3
   },
   "file_extension": ".py",
   "mimetype": "text/x-python",
   "name": "python",
   "nbconvert_exporter": "python",
   "pygments_lexer": "ipython3",
   "version": "3.9.6"
  }
 },
 "nbformat": 4,
 "nbformat_minor": 4
}
