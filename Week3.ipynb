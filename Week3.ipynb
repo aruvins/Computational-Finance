{
 "cells": [
  {
   "cell_type": "code",
   "execution_count": 37,
   "metadata": {},
   "outputs": [],
   "source": [
    "#Here we will cover the following:\n",
    "#1. Comparison Operators\n",
    "#2. Control Flow\n",
    "#3. Filtering Data Frames\n",
    "#4. Loops\n",
    "#5. Random Numbers\n",
    "#6. Valueing a call option using simulation"
   ]
  },
  {
   "cell_type": "code",
   "execution_count": 5,
   "metadata": {},
   "outputs": [
    {
     "data": {
      "text/plain": [
       "'/Users/aruvins/Desktop/Fordham/Fall 2025/Computational Finance'"
      ]
     },
     "execution_count": 5,
     "metadata": {},
     "output_type": "execute_result"
    }
   ],
   "source": [
    "import numpy as np\n",
    "import pandas as pd\n",
    "import matplotlib.pyplot as plt\n",
    "import os\n",
    "os.chdir('../Computational Finance')\n",
    "os.getcwd()"
   ]
  },
  {
   "cell_type": "code",
   "execution_count": 39,
   "metadata": {},
   "outputs": [],
   "source": [
    "#1. Comparison Operators"
   ]
  },
  {
   "cell_type": "code",
   "execution_count": 40,
   "metadata": {},
   "outputs": [
    {
     "data": {
      "text/plain": [
       "False"
      ]
     },
     "execution_count": 40,
     "metadata": {},
     "output_type": "execute_result"
    }
   ],
   "source": [
    "2 > 3"
   ]
  },
  {
   "cell_type": "code",
   "execution_count": 41,
   "metadata": {},
   "outputs": [
    {
     "data": {
      "text/plain": [
       "True"
      ]
     },
     "execution_count": 41,
     "metadata": {},
     "output_type": "execute_result"
    }
   ],
   "source": [
    "2>1"
   ]
  },
  {
   "cell_type": "code",
   "execution_count": 42,
   "metadata": {},
   "outputs": [],
   "source": [
    "# The results are boolyan True, or False . Booleans are another \n",
    "# Pyton object that take values True or False\n",
    "#Comparison operators\n",
    "#>= Greater or equal\n",
    "#== equal\n",
    "#!= not-equal\n"
   ]
  },
  {
   "cell_type": "code",
   "execution_count": 43,
   "metadata": {},
   "outputs": [
    {
     "data": {
      "text/plain": [
       "True"
      ]
     },
     "execution_count": 43,
     "metadata": {},
     "output_type": "execute_result"
    }
   ],
   "source": [
    "\"Carl\" < 'Chris'\n",
    "#Ca is ahead of Ch in the alphabate"
   ]
  },
  {
   "cell_type": "code",
   "execution_count": 44,
   "metadata": {},
   "outputs": [
    {
     "ename": "TypeError",
     "evalue": "'<' not supported between instances of 'int' and 'str'",
     "output_type": "error",
     "traceback": [
      "\u001b[0;31m---------------------------------------------------------------------------\u001b[0m",
      "\u001b[0;31mTypeError\u001b[0m                                 Traceback (most recent call last)",
      "Cell \u001b[0;32mIn[44], line 2\u001b[0m\n\u001b[1;32m      1\u001b[0m \u001b[38;5;66;03m#But-1...\u001b[39;00m\n\u001b[0;32m----> 2\u001b[0m \u001b[38;5;241;43m3\u001b[39;49m\u001b[43m \u001b[49m\u001b[38;5;241;43m<\u001b[39;49m\u001b[38;5;124;43m'\u001b[39;49m\u001b[38;5;124;43mChris\u001b[39;49m\u001b[38;5;124;43m'\u001b[39;49m\n",
      "\u001b[0;31mTypeError\u001b[0m: '<' not supported between instances of 'int' and 'str'"
     ]
    }
   ],
   "source": [
    "#But-1...\n",
    "3 <'Chris'"
   ]
  },
  {
   "cell_type": "code",
   "execution_count": null,
   "metadata": {},
   "outputs": [
    {
     "data": {
      "text/plain": [
       "True"
      ]
     },
     "execution_count": 9,
     "metadata": {},
     "output_type": "execute_result"
    }
   ],
   "source": [
    "#But-2\n",
    "'3' < 'Chris'\n",
    "#Number strings are less than alphabetacal strings"
   ]
  },
  {
   "cell_type": "code",
   "execution_count": null,
   "metadata": {},
   "outputs": [
    {
     "data": {
      "text/plain": [
       "True"
      ]
     },
     "execution_count": 10,
     "metadata": {},
     "output_type": "execute_result"
    }
   ],
   "source": [
    "#ou can compare float to integer\n",
    "3 < 4.1"
   ]
  },
  {
   "cell_type": "code",
   "execution_count": null,
   "metadata": {},
   "outputs": [
    {
     "name": "stdout",
     "output_type": "stream",
     "text": [
      "[ 3  5  7 12]\n"
     ]
    },
    {
     "data": {
      "text/plain": [
       "array([False,  True,  True,  True])"
      ]
     },
     "execution_count": 11,
     "metadata": {},
     "output_type": "execute_result"
    }
   ],
   "source": [
    "#comparing an Array to a single value\n",
    "a = np.array([3,5,7, 12])\n",
    "print(a)\n",
    "a>4"
   ]
  },
  {
   "cell_type": "code",
   "execution_count": null,
   "metadata": {},
   "outputs": [],
   "source": [
    "#Some Boolean Math\n",
    "#1. and\n",
    "#True and True ---> True True and False ---> False False and True ---> False False and False ---> False\n",
    "\n",
    "#2. or\n",
    "#True and True ---> True True and False ---> True False and True ---> True False and False ---> False\n",
    "\n",
    "#3. not is a negation operator\n",
    "\n"
   ]
  },
  {
   "cell_type": "code",
   "execution_count": null,
   "metadata": {},
   "outputs": [
    {
     "data": {
      "text/plain": [
       "False"
      ]
     },
     "execution_count": 13,
     "metadata": {},
     "output_type": "execute_result"
    }
   ],
   "source": [
    "(not 3) > 3"
   ]
  },
  {
   "cell_type": "code",
   "execution_count": null,
   "metadata": {},
   "outputs": [
    {
     "data": {
      "text/plain": [
       "False"
      ]
     },
     "execution_count": 14,
     "metadata": {},
     "output_type": "execute_result"
    }
   ],
   "source": [
    "3 != 3"
   ]
  },
  {
   "cell_type": "code",
   "execution_count": null,
   "metadata": {},
   "outputs": [
    {
     "data": {
      "text/plain": [
       "True"
      ]
     },
     "execution_count": 15,
     "metadata": {},
     "output_type": "execute_result"
    }
   ],
   "source": [
    "2!=3"
   ]
  },
  {
   "cell_type": "code",
   "execution_count": null,
   "metadata": {},
   "outputs": [
    {
     "data": {
      "text/plain": [
       "False"
      ]
     },
     "execution_count": 16,
     "metadata": {},
     "output_type": "execute_result"
    }
   ],
   "source": [
    "x= 5\n",
    "x > 3 and x < 4"
   ]
  },
  {
   "cell_type": "code",
   "execution_count": null,
   "metadata": {},
   "outputs": [],
   "source": [
    "#with arrays"
   ]
  },
  {
   "cell_type": "code",
   "execution_count": null,
   "metadata": {},
   "outputs": [
    {
     "data": {
      "text/plain": [
       "array([ True,  True,  True, False])"
      ]
     },
     "execution_count": 18,
     "metadata": {},
     "output_type": "execute_result"
    }
   ],
   "source": [
    "a < 8"
   ]
  },
  {
   "cell_type": "code",
   "execution_count": null,
   "metadata": {},
   "outputs": [],
   "source": [
    "#Here is an ambiguous condition"
   ]
  },
  {
   "cell_type": "code",
   "execution_count": null,
   "metadata": {},
   "outputs": [
    {
     "ename": "ValueError",
     "evalue": "The truth value of an array with more than one element is ambiguous. Use a.any() or a.all()",
     "output_type": "error",
     "traceback": [
      "\u001b[0;31m---------------------------------------------------------------------------\u001b[0m",
      "\u001b[0;31mValueError\u001b[0m                                Traceback (most recent call last)",
      "\u001b[0;32m<ipython-input-120-285dc038bd56>\u001b[0m in \u001b[0;36m<module>\u001b[0;34m\u001b[0m\n\u001b[0;32m----> 1\u001b[0;31m \u001b[0ma\u001b[0m \u001b[0;34m>\u001b[0m \u001b[0;36m2\u001b[0m \u001b[0;32mand\u001b[0m \u001b[0ma\u001b[0m \u001b[0;34m<\u001b[0m \u001b[0;36m8\u001b[0m\u001b[0;34m\u001b[0m\u001b[0;34m\u001b[0m\u001b[0m\n\u001b[0m",
      "\u001b[0;31mValueError\u001b[0m: The truth value of an array with more than one element is ambiguous. Use a.any() or a.all()"
     ]
    }
   ],
   "source": [
    "a > 2 and a < 8"
   ]
  },
  {
   "cell_type": "code",
   "execution_count": null,
   "metadata": {},
   "outputs": [
    {
     "data": {
      "text/plain": [
       "array([ True,  True,  True, False])"
      ]
     },
     "execution_count": 20,
     "metadata": {},
     "output_type": "execute_result"
    }
   ],
   "source": [
    "#To do element-wise comparison we ned\n",
    "np.logical_and(a > 2 ,a <8)\n"
   ]
  },
  {
   "cell_type": "code",
   "execution_count": null,
   "metadata": {},
   "outputs": [
    {
     "data": {
      "text/plain": [
       "array([ True, False, False,  True])"
      ]
     },
     "execution_count": 21,
     "metadata": {},
     "output_type": "execute_result"
    }
   ],
   "source": [
    "np.logical_or(a < 5 , a > 7)"
   ]
  },
  {
   "cell_type": "code",
   "execution_count": null,
   "metadata": {},
   "outputs": [],
   "source": [
    "#2. Control Flow\n",
    "# The % symbol in Python is called the Modulus Operator (or simply MOD). \n",
    "# It returns the remainder of dividing the left hand operand by right hand operand. \n",
    "# It's used to get the remainder of a division problem."
   ]
  },
  {
   "cell_type": "code",
   "execution_count": null,
   "metadata": {},
   "outputs": [
    {
     "name": "stdout",
     "output_type": "stream",
     "text": [
      "1 2 0\n"
     ]
    }
   ],
   "source": [
    "print( 10%3, 11%3 , 12%3)"
   ]
  },
  {
   "cell_type": "code",
   "execution_count": null,
   "metadata": {},
   "outputs": [
    {
     "name": "stdout",
     "output_type": "stream",
     "text": [
      "z divides by 3\n"
     ]
    }
   ],
   "source": [
    "z= 12\n",
    "if z%3 == 0:\n",
    "    print('z divides by 3')"
   ]
  },
  {
   "cell_type": "code",
   "execution_count": null,
   "metadata": {},
   "outputs": [
    {
     "name": "stdout",
     "output_type": "stream",
     "text": [
      "z is even\n"
     ]
    }
   ],
   "source": [
    "z=8\n",
    "if z% 2 == 0:\n",
    "    print('z is even')\n",
    "else:\n",
    "    print('z is odd')"
   ]
  },
  {
   "cell_type": "code",
   "execution_count": null,
   "metadata": {},
   "outputs": [],
   "source": [
    "#3. Filtering DataFrames\n",
    "#Consider the DataFrame frim previous clas"
   ]
  },
  {
   "cell_type": "code",
   "execution_count": null,
   "metadata": {},
   "outputs": [
    {
     "data": {
      "application/vnd.microsoft.datawrangler.viewer.v0+json": {
       "columns": [
        {
         "name": "etf_ticker",
         "rawType": "object",
         "type": "string"
        },
        {
         "name": "sector",
         "rawType": "object",
         "type": "string"
        },
        {
         "name": "recent_weight",
         "rawType": "float64",
         "type": "float"
        },
        {
         "name": "1Y_return",
         "rawType": "float64",
         "type": "float"
        },
        {
         "name": "3Y_return",
         "rawType": "float64",
         "type": "float"
        },
        {
         "name": "5Y_return",
         "rawType": "float64",
         "type": "float"
        },
        {
         "name": "10Y_return",
         "rawType": "float64",
         "type": "float"
        }
       ],
       "ref": "c67ef4ba-dbc0-4687-9f21-50847ba3d3bd",
       "rows": [
        [
         "XLK",
         "S&P Information Technology ",
         "0.2422",
         "34.83",
         "42.63",
         "30.82",
         "23.07"
        ],
        [
         "XLY",
         "S&P Consumer Discretionary ",
         "0.0632",
         "27.93",
         "28.65",
         "21.58",
         "19.58"
        ],
        [
         "XLV",
         "S&P Healthcare ",
         "0.1309",
         "25.59",
         "19.69",
         "17.28",
         "16.95"
        ],
        [
         "SPY",
         "US Large Cap Blend ",
         "1.0",
         "28.74",
         "25.99",
         "18.36",
         "16.45"
        ],
        [
         "XLF",
         "S&P Financials ",
         "0.1423",
         "34.82",
         "20.46",
         "13.15",
         "16.15"
        ],
        [
         "XLI",
         "S&P Industrials ",
         "0.0886",
         "21.09",
         "20.15",
         "13.28",
         "14.34"
        ],
        [
         "XLB",
         "S&P Materials ",
         "0.0227",
         "27.45",
         "24.0",
         "15.02",
         "12.77"
        ],
        [
         "XLRE",
         "S&P Real Estate ",
         "0.0257",
         "45.26",
         "22.31",
         "14.61",
         "12.56"
        ],
        [
         "XLP",
         "S&P Consumer Staples ",
         "0.12",
         "17.2",
         "18.05",
         "11.31",
         "11.99"
        ],
        [
         "XLC",
         "S&P Communication Services ",
         "0.1114",
         "15.96",
         "24.47",
         "8.69",
         "11.16"
        ],
        [
         "XLU",
         "S&P Utilities ",
         "0.0245",
         "16.81",
         "13.94",
         "11.49",
         "10.82"
        ],
        [
         "XLE",
         "S&P Energy ",
         "0.0286",
         "53.31",
         "4.95",
         "-1.29",
         "1.34"
        ]
       ],
       "shape": {
        "columns": 6,
        "rows": 12
       }
      },
      "text/html": [
       "<div>\n",
       "<style scoped>\n",
       "    .dataframe tbody tr th:only-of-type {\n",
       "        vertical-align: middle;\n",
       "    }\n",
       "\n",
       "    .dataframe tbody tr th {\n",
       "        vertical-align: top;\n",
       "    }\n",
       "\n",
       "    .dataframe thead th {\n",
       "        text-align: right;\n",
       "    }\n",
       "</style>\n",
       "<table border=\"1\" class=\"dataframe\">\n",
       "  <thead>\n",
       "    <tr style=\"text-align: right;\">\n",
       "      <th></th>\n",
       "      <th>sector</th>\n",
       "      <th>recent_weight</th>\n",
       "      <th>1Y_return</th>\n",
       "      <th>3Y_return</th>\n",
       "      <th>5Y_return</th>\n",
       "      <th>10Y_return</th>\n",
       "    </tr>\n",
       "    <tr>\n",
       "      <th>etf_ticker</th>\n",
       "      <th></th>\n",
       "      <th></th>\n",
       "      <th></th>\n",
       "      <th></th>\n",
       "      <th></th>\n",
       "      <th></th>\n",
       "    </tr>\n",
       "  </thead>\n",
       "  <tbody>\n",
       "    <tr>\n",
       "      <th>XLK</th>\n",
       "      <td>S&amp;P Information Technology</td>\n",
       "      <td>0.2422</td>\n",
       "      <td>34.83</td>\n",
       "      <td>42.63</td>\n",
       "      <td>30.82</td>\n",
       "      <td>23.07</td>\n",
       "    </tr>\n",
       "    <tr>\n",
       "      <th>XLY</th>\n",
       "      <td>S&amp;P Consumer Discretionary</td>\n",
       "      <td>0.0632</td>\n",
       "      <td>27.93</td>\n",
       "      <td>28.65</td>\n",
       "      <td>21.58</td>\n",
       "      <td>19.58</td>\n",
       "    </tr>\n",
       "    <tr>\n",
       "      <th>XLV</th>\n",
       "      <td>S&amp;P Healthcare</td>\n",
       "      <td>0.1309</td>\n",
       "      <td>25.59</td>\n",
       "      <td>19.69</td>\n",
       "      <td>17.28</td>\n",
       "      <td>16.95</td>\n",
       "    </tr>\n",
       "    <tr>\n",
       "      <th>SPY</th>\n",
       "      <td>US Large Cap Blend</td>\n",
       "      <td>1.0000</td>\n",
       "      <td>28.74</td>\n",
       "      <td>25.99</td>\n",
       "      <td>18.36</td>\n",
       "      <td>16.45</td>\n",
       "    </tr>\n",
       "    <tr>\n",
       "      <th>XLF</th>\n",
       "      <td>S&amp;P Financials</td>\n",
       "      <td>0.1423</td>\n",
       "      <td>34.82</td>\n",
       "      <td>20.46</td>\n",
       "      <td>13.15</td>\n",
       "      <td>16.15</td>\n",
       "    </tr>\n",
       "    <tr>\n",
       "      <th>XLI</th>\n",
       "      <td>S&amp;P Industrials</td>\n",
       "      <td>0.0886</td>\n",
       "      <td>21.09</td>\n",
       "      <td>20.15</td>\n",
       "      <td>13.28</td>\n",
       "      <td>14.34</td>\n",
       "    </tr>\n",
       "    <tr>\n",
       "      <th>XLB</th>\n",
       "      <td>S&amp;P Materials</td>\n",
       "      <td>0.0227</td>\n",
       "      <td>27.45</td>\n",
       "      <td>24.00</td>\n",
       "      <td>15.02</td>\n",
       "      <td>12.77</td>\n",
       "    </tr>\n",
       "    <tr>\n",
       "      <th>XLRE</th>\n",
       "      <td>S&amp;P Real Estate</td>\n",
       "      <td>0.0257</td>\n",
       "      <td>45.26</td>\n",
       "      <td>22.31</td>\n",
       "      <td>14.61</td>\n",
       "      <td>12.56</td>\n",
       "    </tr>\n",
       "    <tr>\n",
       "      <th>XLP</th>\n",
       "      <td>S&amp;P Consumer Staples</td>\n",
       "      <td>0.1200</td>\n",
       "      <td>17.20</td>\n",
       "      <td>18.05</td>\n",
       "      <td>11.31</td>\n",
       "      <td>11.99</td>\n",
       "    </tr>\n",
       "    <tr>\n",
       "      <th>XLC</th>\n",
       "      <td>S&amp;P Communication Services</td>\n",
       "      <td>0.1114</td>\n",
       "      <td>15.96</td>\n",
       "      <td>24.47</td>\n",
       "      <td>8.69</td>\n",
       "      <td>11.16</td>\n",
       "    </tr>\n",
       "    <tr>\n",
       "      <th>XLU</th>\n",
       "      <td>S&amp;P Utilities</td>\n",
       "      <td>0.0245</td>\n",
       "      <td>16.81</td>\n",
       "      <td>13.94</td>\n",
       "      <td>11.49</td>\n",
       "      <td>10.82</td>\n",
       "    </tr>\n",
       "    <tr>\n",
       "      <th>XLE</th>\n",
       "      <td>S&amp;P Energy</td>\n",
       "      <td>0.0286</td>\n",
       "      <td>53.31</td>\n",
       "      <td>4.95</td>\n",
       "      <td>-1.29</td>\n",
       "      <td>1.34</td>\n",
       "    </tr>\n",
       "  </tbody>\n",
       "</table>\n",
       "</div>"
      ],
      "text/plain": [
       "                                 sector  recent_weight  1Y_return  3Y_return  \\\n",
       "etf_ticker                                                                     \n",
       "XLK         S&P Information Technology          0.2422      34.83      42.63   \n",
       "XLY         S&P Consumer Discretionary          0.0632      27.93      28.65   \n",
       "XLV                     S&P Healthcare          0.1309      25.59      19.69   \n",
       "SPY                 US Large Cap Blend          1.0000      28.74      25.99   \n",
       "XLF                     S&P Financials          0.1423      34.82      20.46   \n",
       "XLI                    S&P Industrials          0.0886      21.09      20.15   \n",
       "XLB                      S&P Materials          0.0227      27.45      24.00   \n",
       "XLRE                   S&P Real Estate          0.0257      45.26      22.31   \n",
       "XLP               S&P Consumer Staples          0.1200      17.20      18.05   \n",
       "XLC         S&P Communication Services          0.1114      15.96      24.47   \n",
       "XLU                      S&P Utilities          0.0245      16.81      13.94   \n",
       "XLE                         S&P Energy          0.0286      53.31       4.95   \n",
       "\n",
       "            5Y_return  10Y_return  \n",
       "etf_ticker                         \n",
       "XLK             30.82       23.07  \n",
       "XLY             21.58       19.58  \n",
       "XLV             17.28       16.95  \n",
       "SPY             18.36       16.45  \n",
       "XLF             13.15       16.15  \n",
       "XLI             13.28       14.34  \n",
       "XLB             15.02       12.77  \n",
       "XLRE            14.61       12.56  \n",
       "XLP             11.31       11.99  \n",
       "XLC              8.69       11.16  \n",
       "XLU             11.49       10.82  \n",
       "XLE             -1.29        1.34  "
      ]
     },
     "execution_count": 27,
     "metadata": {},
     "output_type": "execute_result"
    }
   ],
   "source": [
    "\n",
    "sectors= pd.read_csv('dataFiles/sector_weights_returns.csv', index_col=1) \n",
    "sectors"
   ]
  },
  {
   "cell_type": "code",
   "execution_count": null,
   "metadata": {},
   "outputs": [],
   "source": [
    "#suppose you want select ETFs with 1Y_return < 10%"
   ]
  },
  {
   "cell_type": "code",
   "execution_count": null,
   "metadata": {},
   "outputs": [
    {
     "data": {
      "application/vnd.microsoft.datawrangler.viewer.v0+json": {
       "columns": [
        {
         "name": "etf_ticker",
         "rawType": "object",
         "type": "string"
        },
        {
         "name": "1Y_return",
         "rawType": "bool",
         "type": "boolean"
        }
       ],
       "ref": "2b49054c-5e0f-4590-9994-484db5625e71",
       "rows": [
        [
         "XLK",
         "False"
        ],
        [
         "XLY",
         "False"
        ],
        [
         "XLV",
         "False"
        ],
        [
         "SPY",
         "False"
        ],
        [
         "XLF",
         "False"
        ],
        [
         "XLI",
         "False"
        ],
        [
         "XLB",
         "False"
        ],
        [
         "XLRE",
         "False"
        ],
        [
         "XLP",
         "True"
        ],
        [
         "XLC",
         "True"
        ],
        [
         "XLU",
         "True"
        ],
        [
         "XLE",
         "False"
        ]
       ],
       "shape": {
        "columns": 1,
        "rows": 12
       }
      },
      "text/plain": [
       "etf_ticker\n",
       "XLK     False\n",
       "XLY     False\n",
       "XLV     False\n",
       "SPY     False\n",
       "XLF     False\n",
       "XLI     False\n",
       "XLB     False\n",
       "XLRE    False\n",
       "XLP      True\n",
       "XLC      True\n",
       "XLU      True\n",
       "XLE     False\n",
       "Name: 1Y_return, dtype: bool"
      ]
     },
     "execution_count": 28,
     "metadata": {},
     "output_type": "execute_result"
    }
   ],
   "source": [
    "sectors['1Y_return'] < 20"
   ]
  },
  {
   "cell_type": "code",
   "execution_count": null,
   "metadata": {},
   "outputs": [
    {
     "name": "stdout",
     "output_type": "stream",
     "text": [
      "etf_ticker\n",
      "XLK     False\n",
      "XLY     False\n",
      "XLV     False\n",
      "SPY     False\n",
      "XLF     False\n",
      "XLI     False\n",
      "XLB     False\n",
      "XLRE    False\n",
      "XLP      True\n",
      "XLC      True\n",
      "XLU      True\n",
      "XLE     False\n",
      "Name: 1Y_return, dtype: bool\n"
     ]
    }
   ],
   "source": [
    "cond= sectors['1Y_return'] < 20\n",
    "print (cond)"
   ]
  },
  {
   "cell_type": "code",
   "execution_count": null,
   "metadata": {},
   "outputs": [
    {
     "data": {
      "application/vnd.microsoft.datawrangler.viewer.v0+json": {
       "columns": [
        {
         "name": "etf_ticker",
         "rawType": "object",
         "type": "string"
        },
        {
         "name": "sector",
         "rawType": "object",
         "type": "string"
        },
        {
         "name": "recent_weight",
         "rawType": "float64",
         "type": "float"
        },
        {
         "name": "1Y_return",
         "rawType": "float64",
         "type": "float"
        },
        {
         "name": "3Y_return",
         "rawType": "float64",
         "type": "float"
        },
        {
         "name": "5Y_return",
         "rawType": "float64",
         "type": "float"
        },
        {
         "name": "10Y_return",
         "rawType": "float64",
         "type": "float"
        }
       ],
       "ref": "8deef19e-098f-4514-86f3-89b64f63e5b3",
       "rows": [
        [
         "XLP",
         "S&P Consumer Staples ",
         "0.12",
         "17.2",
         "18.05",
         "11.31",
         "11.99"
        ],
        [
         "XLC",
         "S&P Communication Services ",
         "0.1114",
         "15.96",
         "24.47",
         "8.69",
         "11.16"
        ],
        [
         "XLU",
         "S&P Utilities ",
         "0.0245",
         "16.81",
         "13.94",
         "11.49",
         "10.82"
        ]
       ],
       "shape": {
        "columns": 6,
        "rows": 3
       }
      },
      "text/html": [
       "<div>\n",
       "<style scoped>\n",
       "    .dataframe tbody tr th:only-of-type {\n",
       "        vertical-align: middle;\n",
       "    }\n",
       "\n",
       "    .dataframe tbody tr th {\n",
       "        vertical-align: top;\n",
       "    }\n",
       "\n",
       "    .dataframe thead th {\n",
       "        text-align: right;\n",
       "    }\n",
       "</style>\n",
       "<table border=\"1\" class=\"dataframe\">\n",
       "  <thead>\n",
       "    <tr style=\"text-align: right;\">\n",
       "      <th></th>\n",
       "      <th>sector</th>\n",
       "      <th>recent_weight</th>\n",
       "      <th>1Y_return</th>\n",
       "      <th>3Y_return</th>\n",
       "      <th>5Y_return</th>\n",
       "      <th>10Y_return</th>\n",
       "    </tr>\n",
       "    <tr>\n",
       "      <th>etf_ticker</th>\n",
       "      <th></th>\n",
       "      <th></th>\n",
       "      <th></th>\n",
       "      <th></th>\n",
       "      <th></th>\n",
       "      <th></th>\n",
       "    </tr>\n",
       "  </thead>\n",
       "  <tbody>\n",
       "    <tr>\n",
       "      <th>XLP</th>\n",
       "      <td>S&amp;P Consumer Staples</td>\n",
       "      <td>0.1200</td>\n",
       "      <td>17.20</td>\n",
       "      <td>18.05</td>\n",
       "      <td>11.31</td>\n",
       "      <td>11.99</td>\n",
       "    </tr>\n",
       "    <tr>\n",
       "      <th>XLC</th>\n",
       "      <td>S&amp;P Communication Services</td>\n",
       "      <td>0.1114</td>\n",
       "      <td>15.96</td>\n",
       "      <td>24.47</td>\n",
       "      <td>8.69</td>\n",
       "      <td>11.16</td>\n",
       "    </tr>\n",
       "    <tr>\n",
       "      <th>XLU</th>\n",
       "      <td>S&amp;P Utilities</td>\n",
       "      <td>0.0245</td>\n",
       "      <td>16.81</td>\n",
       "      <td>13.94</td>\n",
       "      <td>11.49</td>\n",
       "      <td>10.82</td>\n",
       "    </tr>\n",
       "  </tbody>\n",
       "</table>\n",
       "</div>"
      ],
      "text/plain": [
       "                                 sector  recent_weight  1Y_return  3Y_return  \\\n",
       "etf_ticker                                                                     \n",
       "XLP               S&P Consumer Staples          0.1200      17.20      18.05   \n",
       "XLC         S&P Communication Services          0.1114      15.96      24.47   \n",
       "XLU                      S&P Utilities          0.0245      16.81      13.94   \n",
       "\n",
       "            5Y_return  10Y_return  \n",
       "etf_ticker                         \n",
       "XLP             11.31       11.99  \n",
       "XLC              8.69       11.16  \n",
       "XLU             11.49       10.82  "
      ]
     },
     "execution_count": 30,
     "metadata": {},
     "output_type": "execute_result"
    }
   ],
   "source": [
    "sectors[cond]"
   ]
  },
  {
   "cell_type": "code",
   "execution_count": null,
   "metadata": {},
   "outputs": [],
   "source": [
    "#What if we select ETFs with 1Y_return > 20 and 1Y_return < 40"
   ]
  },
  {
   "cell_type": "code",
   "execution_count": null,
   "metadata": {},
   "outputs": [
    {
     "data": {
      "application/vnd.microsoft.datawrangler.viewer.v0+json": {
       "columns": [
        {
         "name": "etf_ticker",
         "rawType": "object",
         "type": "string"
        },
        {
         "name": "1Y_return",
         "rawType": "bool",
         "type": "boolean"
        }
       ],
       "ref": "c06e53fe-2329-4605-8a06-d25cfd3b8d98",
       "rows": [
        [
         "XLK",
         "True"
        ],
        [
         "XLY",
         "True"
        ],
        [
         "XLV",
         "True"
        ],
        [
         "SPY",
         "True"
        ],
        [
         "XLF",
         "True"
        ],
        [
         "XLI",
         "True"
        ],
        [
         "XLB",
         "True"
        ],
        [
         "XLRE",
         "False"
        ],
        [
         "XLP",
         "False"
        ],
        [
         "XLC",
         "False"
        ],
        [
         "XLU",
         "False"
        ],
        [
         "XLE",
         "False"
        ]
       ],
       "shape": {
        "columns": 1,
        "rows": 12
       }
      },
      "text/plain": [
       "etf_ticker\n",
       "XLK      True\n",
       "XLY      True\n",
       "XLV      True\n",
       "SPY      True\n",
       "XLF      True\n",
       "XLI      True\n",
       "XLB      True\n",
       "XLRE    False\n",
       "XLP     False\n",
       "XLC     False\n",
       "XLU     False\n",
       "XLE     False\n",
       "Name: 1Y_return, dtype: bool"
      ]
     },
     "execution_count": 31,
     "metadata": {},
     "output_type": "execute_result"
    }
   ],
   "source": [
    "import numpy as np\n",
    "condition= np.logical_and(sectors['1Y_return'] > 20, sectors['1Y_return'] < 40)\n",
    "condition"
   ]
  },
  {
   "cell_type": "code",
   "execution_count": null,
   "metadata": {},
   "outputs": [
    {
     "data": {
      "application/vnd.microsoft.datawrangler.viewer.v0+json": {
       "columns": [
        {
         "name": "etf_ticker",
         "rawType": "object",
         "type": "string"
        },
        {
         "name": "sector",
         "rawType": "object",
         "type": "string"
        },
        {
         "name": "recent_weight",
         "rawType": "float64",
         "type": "float"
        },
        {
         "name": "1Y_return",
         "rawType": "float64",
         "type": "float"
        },
        {
         "name": "3Y_return",
         "rawType": "float64",
         "type": "float"
        },
        {
         "name": "5Y_return",
         "rawType": "float64",
         "type": "float"
        },
        {
         "name": "10Y_return",
         "rawType": "float64",
         "type": "float"
        }
       ],
       "ref": "263dcfb4-b627-48e6-9162-446793747a14",
       "rows": [
        [
         "XLK",
         "S&P Information Technology ",
         "0.2422",
         "34.83",
         "42.63",
         "30.82",
         "23.07"
        ],
        [
         "XLY",
         "S&P Consumer Discretionary ",
         "0.0632",
         "27.93",
         "28.65",
         "21.58",
         "19.58"
        ],
        [
         "XLV",
         "S&P Healthcare ",
         "0.1309",
         "25.59",
         "19.69",
         "17.28",
         "16.95"
        ],
        [
         "SPY",
         "US Large Cap Blend ",
         "1.0",
         "28.74",
         "25.99",
         "18.36",
         "16.45"
        ],
        [
         "XLF",
         "S&P Financials ",
         "0.1423",
         "34.82",
         "20.46",
         "13.15",
         "16.15"
        ],
        [
         "XLI",
         "S&P Industrials ",
         "0.0886",
         "21.09",
         "20.15",
         "13.28",
         "14.34"
        ],
        [
         "XLB",
         "S&P Materials ",
         "0.0227",
         "27.45",
         "24.0",
         "15.02",
         "12.77"
        ]
       ],
       "shape": {
        "columns": 6,
        "rows": 7
       }
      },
      "text/html": [
       "<div>\n",
       "<style scoped>\n",
       "    .dataframe tbody tr th:only-of-type {\n",
       "        vertical-align: middle;\n",
       "    }\n",
       "\n",
       "    .dataframe tbody tr th {\n",
       "        vertical-align: top;\n",
       "    }\n",
       "\n",
       "    .dataframe thead th {\n",
       "        text-align: right;\n",
       "    }\n",
       "</style>\n",
       "<table border=\"1\" class=\"dataframe\">\n",
       "  <thead>\n",
       "    <tr style=\"text-align: right;\">\n",
       "      <th></th>\n",
       "      <th>sector</th>\n",
       "      <th>recent_weight</th>\n",
       "      <th>1Y_return</th>\n",
       "      <th>3Y_return</th>\n",
       "      <th>5Y_return</th>\n",
       "      <th>10Y_return</th>\n",
       "    </tr>\n",
       "    <tr>\n",
       "      <th>etf_ticker</th>\n",
       "      <th></th>\n",
       "      <th></th>\n",
       "      <th></th>\n",
       "      <th></th>\n",
       "      <th></th>\n",
       "      <th></th>\n",
       "    </tr>\n",
       "  </thead>\n",
       "  <tbody>\n",
       "    <tr>\n",
       "      <th>XLK</th>\n",
       "      <td>S&amp;P Information Technology</td>\n",
       "      <td>0.2422</td>\n",
       "      <td>34.83</td>\n",
       "      <td>42.63</td>\n",
       "      <td>30.82</td>\n",
       "      <td>23.07</td>\n",
       "    </tr>\n",
       "    <tr>\n",
       "      <th>XLY</th>\n",
       "      <td>S&amp;P Consumer Discretionary</td>\n",
       "      <td>0.0632</td>\n",
       "      <td>27.93</td>\n",
       "      <td>28.65</td>\n",
       "      <td>21.58</td>\n",
       "      <td>19.58</td>\n",
       "    </tr>\n",
       "    <tr>\n",
       "      <th>XLV</th>\n",
       "      <td>S&amp;P Healthcare</td>\n",
       "      <td>0.1309</td>\n",
       "      <td>25.59</td>\n",
       "      <td>19.69</td>\n",
       "      <td>17.28</td>\n",
       "      <td>16.95</td>\n",
       "    </tr>\n",
       "    <tr>\n",
       "      <th>SPY</th>\n",
       "      <td>US Large Cap Blend</td>\n",
       "      <td>1.0000</td>\n",
       "      <td>28.74</td>\n",
       "      <td>25.99</td>\n",
       "      <td>18.36</td>\n",
       "      <td>16.45</td>\n",
       "    </tr>\n",
       "    <tr>\n",
       "      <th>XLF</th>\n",
       "      <td>S&amp;P Financials</td>\n",
       "      <td>0.1423</td>\n",
       "      <td>34.82</td>\n",
       "      <td>20.46</td>\n",
       "      <td>13.15</td>\n",
       "      <td>16.15</td>\n",
       "    </tr>\n",
       "    <tr>\n",
       "      <th>XLI</th>\n",
       "      <td>S&amp;P Industrials</td>\n",
       "      <td>0.0886</td>\n",
       "      <td>21.09</td>\n",
       "      <td>20.15</td>\n",
       "      <td>13.28</td>\n",
       "      <td>14.34</td>\n",
       "    </tr>\n",
       "    <tr>\n",
       "      <th>XLB</th>\n",
       "      <td>S&amp;P Materials</td>\n",
       "      <td>0.0227</td>\n",
       "      <td>27.45</td>\n",
       "      <td>24.00</td>\n",
       "      <td>15.02</td>\n",
       "      <td>12.77</td>\n",
       "    </tr>\n",
       "  </tbody>\n",
       "</table>\n",
       "</div>"
      ],
      "text/plain": [
       "                                 sector  recent_weight  1Y_return  3Y_return  \\\n",
       "etf_ticker                                                                     \n",
       "XLK         S&P Information Technology          0.2422      34.83      42.63   \n",
       "XLY         S&P Consumer Discretionary          0.0632      27.93      28.65   \n",
       "XLV                     S&P Healthcare          0.1309      25.59      19.69   \n",
       "SPY                 US Large Cap Blend          1.0000      28.74      25.99   \n",
       "XLF                     S&P Financials          0.1423      34.82      20.46   \n",
       "XLI                    S&P Industrials          0.0886      21.09      20.15   \n",
       "XLB                      S&P Materials          0.0227      27.45      24.00   \n",
       "\n",
       "            5Y_return  10Y_return  \n",
       "etf_ticker                         \n",
       "XLK             30.82       23.07  \n",
       "XLY             21.58       19.58  \n",
       "XLV             17.28       16.95  \n",
       "SPY             18.36       16.45  \n",
       "XLF             13.15       16.15  \n",
       "XLI             13.28       14.34  \n",
       "XLB             15.02       12.77  "
      ]
     },
     "execution_count": 32,
     "metadata": {},
     "output_type": "execute_result"
    }
   ],
   "source": [
    "sectors[condition]"
   ]
  },
  {
   "cell_type": "code",
   "execution_count": null,
   "metadata": {},
   "outputs": [],
   "source": [
    "#4. Loops\n",
    "\n",
    "#4.1 While loop\n",
    "#The if-elif-else construct, a way to alter the flow of your scripts. As soon as Python encounters an if statement, it checks the condition.\n",
    "\n",
    "#When this condition is True, the corresponding code is executed. If the conditions evaluates to False, and if there are elif and else statements, Python continues the search. Anyways, Python goes through this piece of code only once. After that, Python heads over to the next command in the script.\n",
    "\n",
    "#The while loop is somewhat similar to an if statement: it executes the code inside if the condition is True. However, as opposed to the if statement, the while loop will continue to execute this code over and over again as long as the condition is true.\n",
    "\n",
    "#The syntax of a while loop is very similar to the if statement, The while loop is not that common, but in some cases it can be very useful. When formulate a problem as 'repeating an action until a particular condition is met', a while loop is often the way to go.\n",
    "\n",
    "#Example"
   ]
  },
  {
   "cell_type": "code",
   "execution_count": null,
   "metadata": {},
   "outputs": [
    {
     "name": "stdout",
     "output_type": "stream",
     "text": [
      "2 30.0\n",
      "3 10.0\n",
      "4 3.3333333333333335\n",
      "5 1.1111111111111112\n",
      "6 0.3703703703703704\n"
     ]
    }
   ],
   "source": [
    "error = 90\n",
    "i = 1\n",
    "while error > 1:\n",
    "    i=i+1\n",
    "    error = error/3\n",
    "    print (i , error)"
   ]
  },
  {
   "cell_type": "code",
   "execution_count": null,
   "metadata": {},
   "outputs": [
    {
     "name": "stdout",
     "output_type": "stream",
     "text": [
      "i= pv_div= 1 1.818182 price= 1.818182\n",
      "i= pv_div= 2 1.652893 price= 3.471074\n",
      "i= pv_div= 3 1.50263 price= 4.973704\n",
      "i= pv_div= 4 1.366027 price= 6.339731\n",
      "i= pv_div= 5 1.241843 price= 7.581574\n",
      "i= pv_div= 6 1.128948 price= 8.710521\n",
      "i= pv_div= 7 1.026316 price= 9.736838\n",
      "i= pv_div= 8 0.933015 price= 10.669852\n",
      "i= pv_div= 9 0.848195 price= 11.518048\n",
      "i= pv_div= 10 0.771087 price= 12.289134\n",
      "i= pv_div= 10 0.771087 price= 12.289134\n"
     ]
    }
   ],
   "source": [
    "#another example\n",
    "div= 2\n",
    "r = 0.1\n",
    "price=0\n",
    "i=0\n",
    "while i < 10:\n",
    "    i=i+1\n",
    "    pv_div= div/(1+r)**i\n",
    "    price= price + pv_div\n",
    "    print('i=', 'pv_div=',i,round(pv_div,6), 'price=' ,round(price,6 ) )\n",
    "print('i=', 'pv_div=',i,round(pv_div,6), 'price=' ,round(price,6 ) ) "
   ]
  },
  {
   "cell_type": "code",
   "execution_count": null,
   "metadata": {},
   "outputs": [
    {
     "name": "stdout",
     "output_type": "stream",
     "text": [
      "i= pv_div= 0.000145 price= 19.998549\n"
     ]
    }
   ],
   "source": [
    "div= 2\n",
    "r = 0.1\n",
    "price=0\n",
    "i=0\n",
    "while i < 100:\n",
    "    i=i+1\n",
    "    pv_div= div/(1+r)**i\n",
    "    price= price + pv_div\n",
    "print('i=', 'pv_div=',round(pv_div,6), 'price=' ,round(price,6 ) ) \n"
   ]
  },
  {
   "cell_type": "code",
   "execution_count": null,
   "metadata": {},
   "outputs": [
    {
     "name": "stdout",
     "output_type": "stream",
     "text": [
      "i= pv_div= 0.0 price= 20.0\n"
     ]
    }
   ],
   "source": [
    "div= 2\n",
    "r = 0.1\n",
    "price=0\n",
    "i=0\n",
    "while i < 1000:\n",
    "    i=i+1\n",
    "    pv_div= div/(1+r)**i\n",
    "    price= price + pv_div\n",
    "print('i=', 'pv_div=',round(pv_div,10), 'price=' ,round(price,6 ) )"
   ]
  },
  {
   "cell_type": "code",
   "execution_count": null,
   "metadata": {},
   "outputs": [],
   "source": [
    "## Price formula for preferred dividend stock is = d/r"
   ]
  },
  {
   "cell_type": "code",
   "execution_count": null,
   "metadata": {},
   "outputs": [
    {
     "data": {
      "text/plain": [
       "20.0"
      ]
     },
     "execution_count": 41,
     "metadata": {},
     "output_type": "execute_result"
    }
   ],
   "source": [
    "div/r"
   ]
  },
  {
   "cell_type": "code",
   "execution_count": null,
   "metadata": {},
   "outputs": [],
   "source": [
    "#4.2 The for loop\n",
    "#Syntax"
   ]
  },
  {
   "cell_type": "code",
   "execution_count": null,
   "metadata": {},
   "outputs": [],
   "source": [
    "#for var in seq:\n",
    "#    expression"
   ]
  },
  {
   "cell_type": "code",
   "execution_count": null,
   "metadata": {},
   "outputs": [
    {
     "name": "stdout",
     "output_type": "stream",
     "text": [
      "XLK \n",
      "XLY\n",
      "XLV\n",
      "SPY\n",
      "XLF\n"
     ]
    }
   ],
   "source": [
    "## example\n",
    "etfs = [ \"XLK \", \"XLY\", \"XLV\",\"SPY\",\"XLF\"]\n",
    "for etf in etfs:\n",
    "    print(etf)\n",
    "    "
   ]
  },
  {
   "cell_type": "code",
   "execution_count": null,
   "metadata": {},
   "outputs": [
    {
     "name": "stdout",
     "output_type": "stream",
     "text": [
      "i= pv_div= 999 0.0 price= 20.0\n"
     ]
    }
   ],
   "source": [
    "div= 2\n",
    "r = 0.1\n",
    "price=0\n",
    "i=0\n",
    "for i in range(1,1000):\n",
    "    pv_div= div/(1+r)**i\n",
    "    price= price + pv_div\n",
    "print('i=', 'pv_div=',i, round(pv_div,10), 'price=' ,round(price,6 ) ) "
   ]
  },
  {
   "cell_type": "code",
   "execution_count": null,
   "metadata": {},
   "outputs": [
    {
     "name": "stdout",
     "output_type": "stream",
     "text": [
      "M\n",
      "O\n",
      "R\n",
      "N\n",
      "I\n",
      "N\n",
      "G\n",
      "S\n",
      "T\n",
      "A\n",
      "R\n"
     ]
    }
   ],
   "source": [
    "#apply to strings\n",
    "name = 'morningstar'\n",
    "for letter in name:\n",
    "    print(letter.capitalize())"
   ]
  },
  {
   "cell_type": "code",
   "execution_count": null,
   "metadata": {},
   "outputs": [],
   "source": [
    "#4.3 loop over dictionary\n",
    "#Consider this dictionary"
   ]
  },
  {
   "cell_type": "code",
   "execution_count": null,
   "metadata": {},
   "outputs": [],
   "source": [
    "etf_whts ={'XLK': 0.2422, 'XLY': 0.0632, 'XLV': 0.1309, 'XLF': 0.1423, 'XLI': 0.0886, 'XLB': 0.0227, 'XLRE': 0.0257, 'XLP': 0.12, 'XLC': 0.1114, 'XLU': 0.0245, 'XLE': 0.0286} "
   ]
  },
  {
   "cell_type": "code",
   "execution_count": null,
   "metadata": {},
   "outputs": [
    {
     "ename": "ValueError",
     "evalue": "too many values to unpack (expected 2)",
     "output_type": "error",
     "traceback": [
      "\u001b[0;31m---------------------------------------------------------------------------\u001b[0m",
      "\u001b[0;31mValueError\u001b[0m                                Traceback (most recent call last)",
      "Cell \u001b[0;32mIn[53], line 1\u001b[0m\n\u001b[0;32m----> 1\u001b[0m \u001b[38;5;28;01mfor\u001b[39;00m key,value \u001b[38;5;129;01min\u001b[39;00m etf_whts:\n\u001b[1;32m      2\u001b[0m     \u001b[38;5;28mprint\u001b[39m(key, \u001b[38;5;124m'\u001b[39m\u001b[38;5;124m;\u001b[39m\u001b[38;5;124m'\u001b[39m , value)\n",
      "\u001b[0;31mValueError\u001b[0m: too many values to unpack (expected 2)"
     ]
    }
   ],
   "source": [
    "for key,value in etf_whts:\n",
    "    print(key, ';' , value)"
   ]
  },
  {
   "cell_type": "code",
   "execution_count": null,
   "metadata": {},
   "outputs": [],
   "source": [
    "#we get an error. Here is how we do it for ditionaries"
   ]
  },
  {
   "cell_type": "code",
   "execution_count": null,
   "metadata": {},
   "outputs": [
    {
     "name": "stdout",
     "output_type": "stream",
     "text": [
      "XLK ; 0.2422\n",
      "XLY ; 0.0632\n",
      "XLV ; 0.1309\n",
      "XLF ; 0.1423\n",
      "XLI ; 0.0886\n",
      "XLB ; 0.0227\n",
      "XLRE ; 0.0257\n",
      "XLP ; 0.12\n",
      "XLC ; 0.1114\n",
      "XLU ; 0.0245\n",
      "XLE ; 0.0286\n"
     ]
    }
   ],
   "source": [
    "for key,value in etf_whts.items():\n",
    "    print(key, ';' , value)"
   ]
  },
  {
   "cell_type": "code",
   "execution_count": null,
   "metadata": {},
   "outputs": [],
   "source": [
    "#4.4 loop on arrays"
   ]
  },
  {
   "cell_type": "code",
   "execution_count": null,
   "metadata": {},
   "outputs": [
    {
     "data": {
      "text/plain": [
       "array([[23.07  , 19.58  , 16.95  ],\n",
       "       [ 0.2422,  0.0632,  0.1309]])"
      ]
     },
     "execution_count": 56,
     "metadata": {},
     "output_type": "execute_result"
    }
   ],
   "source": [
    "import numpy as np\n",
    "A = np.array([[23.07,19.58,16.95],[0.2422,0.0632,0.1309] ] )\n",
    "A\n"
   ]
  },
  {
   "cell_type": "code",
   "execution_count": null,
   "metadata": {},
   "outputs": [
    {
     "name": "stdout",
     "output_type": "stream",
     "text": [
      "[23.07 19.58 16.95]\n",
      "[0.2422 0.0632 0.1309]\n"
     ]
    }
   ],
   "source": [
    "for a in A:\n",
    "    print(a)\n",
    "#You get the whole array. \n"
   ]
  },
  {
   "cell_type": "code",
   "execution_count": null,
   "metadata": {},
   "outputs": [
    {
     "name": "stdout",
     "output_type": "stream",
     "text": [
      "23.07\n",
      "19.58\n",
      "16.95\n",
      "0.2422\n",
      "0.0632\n",
      "0.1309\n"
     ]
    }
   ],
   "source": [
    "#If you want to print each term separately, you do this\n",
    "for a in np.nditer(A):\n",
    "    print(a)"
   ]
  },
  {
   "cell_type": "code",
   "execution_count": null,
   "metadata": {},
   "outputs": [],
   "source": [
    "#4.5 Iterate over data frames"
   ]
  },
  {
   "cell_type": "code",
   "execution_count": null,
   "metadata": {},
   "outputs": [],
   "source": [
    "#let us start with the Data frame from last week\n"
   ]
  },
  {
   "cell_type": "code",
   "execution_count": null,
   "metadata": {},
   "outputs": [
    {
     "data": {
      "application/vnd.microsoft.datawrangler.viewer.v0+json": {
       "columns": [
        {
         "name": "etf_ticker",
         "rawType": "object",
         "type": "string"
        },
        {
         "name": "sector",
         "rawType": "object",
         "type": "string"
        },
        {
         "name": "recent_weight",
         "rawType": "float64",
         "type": "float"
        },
        {
         "name": "1Y_return",
         "rawType": "float64",
         "type": "float"
        },
        {
         "name": "3Y_return",
         "rawType": "float64",
         "type": "float"
        },
        {
         "name": "5Y_return",
         "rawType": "float64",
         "type": "float"
        },
        {
         "name": "10Y_return",
         "rawType": "float64",
         "type": "float"
        }
       ],
       "ref": "f75be638-8f20-477c-b17f-22394bcfdf33",
       "rows": [
        [
         "XLK",
         "S&P Information Technology ",
         "0.2422",
         "34.83",
         "42.63",
         "30.82",
         "23.07"
        ],
        [
         "XLY",
         "S&P Consumer Discretionary ",
         "0.0632",
         "27.93",
         "28.65",
         "21.58",
         "19.58"
        ],
        [
         "XLV",
         "S&P Healthcare ",
         "0.1309",
         "25.59",
         "19.69",
         "17.28",
         "16.95"
        ],
        [
         "SPY",
         "US Large Cap Blend ",
         "1.0",
         "28.74",
         "25.99",
         "18.36",
         "16.45"
        ],
        [
         "XLF",
         "S&P Financials ",
         "0.1423",
         "34.82",
         "20.46",
         "13.15",
         "16.15"
        ],
        [
         "XLI",
         "S&P Industrials ",
         "0.0886",
         "21.09",
         "20.15",
         "13.28",
         "14.34"
        ],
        [
         "XLB",
         "S&P Materials ",
         "0.0227",
         "27.45",
         "24.0",
         "15.02",
         "12.77"
        ],
        [
         "XLRE",
         "S&P Real Estate ",
         "0.0257",
         "45.26",
         "22.31",
         "14.61",
         "12.56"
        ],
        [
         "XLP",
         "S&P Consumer Staples ",
         "0.12",
         "17.2",
         "18.05",
         "11.31",
         "11.99"
        ],
        [
         "XLC",
         "S&P Communication Services ",
         "0.1114",
         "15.96",
         "24.47",
         "8.69",
         "11.16"
        ],
        [
         "XLU",
         "S&P Utilities ",
         "0.0245",
         "16.81",
         "13.94",
         "11.49",
         "10.82"
        ],
        [
         "XLE",
         "S&P Energy ",
         "0.0286",
         "53.31",
         "4.95",
         "-1.29",
         "1.34"
        ]
       ],
       "shape": {
        "columns": 6,
        "rows": 12
       }
      },
      "text/html": [
       "<div>\n",
       "<style scoped>\n",
       "    .dataframe tbody tr th:only-of-type {\n",
       "        vertical-align: middle;\n",
       "    }\n",
       "\n",
       "    .dataframe tbody tr th {\n",
       "        vertical-align: top;\n",
       "    }\n",
       "\n",
       "    .dataframe thead th {\n",
       "        text-align: right;\n",
       "    }\n",
       "</style>\n",
       "<table border=\"1\" class=\"dataframe\">\n",
       "  <thead>\n",
       "    <tr style=\"text-align: right;\">\n",
       "      <th></th>\n",
       "      <th>sector</th>\n",
       "      <th>recent_weight</th>\n",
       "      <th>1Y_return</th>\n",
       "      <th>3Y_return</th>\n",
       "      <th>5Y_return</th>\n",
       "      <th>10Y_return</th>\n",
       "    </tr>\n",
       "    <tr>\n",
       "      <th>etf_ticker</th>\n",
       "      <th></th>\n",
       "      <th></th>\n",
       "      <th></th>\n",
       "      <th></th>\n",
       "      <th></th>\n",
       "      <th></th>\n",
       "    </tr>\n",
       "  </thead>\n",
       "  <tbody>\n",
       "    <tr>\n",
       "      <th>XLK</th>\n",
       "      <td>S&amp;P Information Technology</td>\n",
       "      <td>0.2422</td>\n",
       "      <td>34.83</td>\n",
       "      <td>42.63</td>\n",
       "      <td>30.82</td>\n",
       "      <td>23.07</td>\n",
       "    </tr>\n",
       "    <tr>\n",
       "      <th>XLY</th>\n",
       "      <td>S&amp;P Consumer Discretionary</td>\n",
       "      <td>0.0632</td>\n",
       "      <td>27.93</td>\n",
       "      <td>28.65</td>\n",
       "      <td>21.58</td>\n",
       "      <td>19.58</td>\n",
       "    </tr>\n",
       "    <tr>\n",
       "      <th>XLV</th>\n",
       "      <td>S&amp;P Healthcare</td>\n",
       "      <td>0.1309</td>\n",
       "      <td>25.59</td>\n",
       "      <td>19.69</td>\n",
       "      <td>17.28</td>\n",
       "      <td>16.95</td>\n",
       "    </tr>\n",
       "    <tr>\n",
       "      <th>SPY</th>\n",
       "      <td>US Large Cap Blend</td>\n",
       "      <td>1.0000</td>\n",
       "      <td>28.74</td>\n",
       "      <td>25.99</td>\n",
       "      <td>18.36</td>\n",
       "      <td>16.45</td>\n",
       "    </tr>\n",
       "    <tr>\n",
       "      <th>XLF</th>\n",
       "      <td>S&amp;P Financials</td>\n",
       "      <td>0.1423</td>\n",
       "      <td>34.82</td>\n",
       "      <td>20.46</td>\n",
       "      <td>13.15</td>\n",
       "      <td>16.15</td>\n",
       "    </tr>\n",
       "    <tr>\n",
       "      <th>XLI</th>\n",
       "      <td>S&amp;P Industrials</td>\n",
       "      <td>0.0886</td>\n",
       "      <td>21.09</td>\n",
       "      <td>20.15</td>\n",
       "      <td>13.28</td>\n",
       "      <td>14.34</td>\n",
       "    </tr>\n",
       "    <tr>\n",
       "      <th>XLB</th>\n",
       "      <td>S&amp;P Materials</td>\n",
       "      <td>0.0227</td>\n",
       "      <td>27.45</td>\n",
       "      <td>24.00</td>\n",
       "      <td>15.02</td>\n",
       "      <td>12.77</td>\n",
       "    </tr>\n",
       "    <tr>\n",
       "      <th>XLRE</th>\n",
       "      <td>S&amp;P Real Estate</td>\n",
       "      <td>0.0257</td>\n",
       "      <td>45.26</td>\n",
       "      <td>22.31</td>\n",
       "      <td>14.61</td>\n",
       "      <td>12.56</td>\n",
       "    </tr>\n",
       "    <tr>\n",
       "      <th>XLP</th>\n",
       "      <td>S&amp;P Consumer Staples</td>\n",
       "      <td>0.1200</td>\n",
       "      <td>17.20</td>\n",
       "      <td>18.05</td>\n",
       "      <td>11.31</td>\n",
       "      <td>11.99</td>\n",
       "    </tr>\n",
       "    <tr>\n",
       "      <th>XLC</th>\n",
       "      <td>S&amp;P Communication Services</td>\n",
       "      <td>0.1114</td>\n",
       "      <td>15.96</td>\n",
       "      <td>24.47</td>\n",
       "      <td>8.69</td>\n",
       "      <td>11.16</td>\n",
       "    </tr>\n",
       "    <tr>\n",
       "      <th>XLU</th>\n",
       "      <td>S&amp;P Utilities</td>\n",
       "      <td>0.0245</td>\n",
       "      <td>16.81</td>\n",
       "      <td>13.94</td>\n",
       "      <td>11.49</td>\n",
       "      <td>10.82</td>\n",
       "    </tr>\n",
       "    <tr>\n",
       "      <th>XLE</th>\n",
       "      <td>S&amp;P Energy</td>\n",
       "      <td>0.0286</td>\n",
       "      <td>53.31</td>\n",
       "      <td>4.95</td>\n",
       "      <td>-1.29</td>\n",
       "      <td>1.34</td>\n",
       "    </tr>\n",
       "  </tbody>\n",
       "</table>\n",
       "</div>"
      ],
      "text/plain": [
       "                                 sector  recent_weight  1Y_return  3Y_return  \\\n",
       "etf_ticker                                                                     \n",
       "XLK         S&P Information Technology          0.2422      34.83      42.63   \n",
       "XLY         S&P Consumer Discretionary          0.0632      27.93      28.65   \n",
       "XLV                     S&P Healthcare          0.1309      25.59      19.69   \n",
       "SPY                 US Large Cap Blend          1.0000      28.74      25.99   \n",
       "XLF                     S&P Financials          0.1423      34.82      20.46   \n",
       "XLI                    S&P Industrials          0.0886      21.09      20.15   \n",
       "XLB                      S&P Materials          0.0227      27.45      24.00   \n",
       "XLRE                   S&P Real Estate          0.0257      45.26      22.31   \n",
       "XLP               S&P Consumer Staples          0.1200      17.20      18.05   \n",
       "XLC         S&P Communication Services          0.1114      15.96      24.47   \n",
       "XLU                      S&P Utilities          0.0245      16.81      13.94   \n",
       "XLE                         S&P Energy          0.0286      53.31       4.95   \n",
       "\n",
       "            5Y_return  10Y_return  \n",
       "etf_ticker                         \n",
       "XLK             30.82       23.07  \n",
       "XLY             21.58       19.58  \n",
       "XLV             17.28       16.95  \n",
       "SPY             18.36       16.45  \n",
       "XLF             13.15       16.15  \n",
       "XLI             13.28       14.34  \n",
       "XLB             15.02       12.77  \n",
       "XLRE            14.61       12.56  \n",
       "XLP             11.31       11.99  \n",
       "XLC              8.69       11.16  \n",
       "XLU             11.49       10.82  \n",
       "XLE             -1.29        1.34  "
      ]
     },
     "execution_count": 60,
     "metadata": {},
     "output_type": "execute_result"
    }
   ],
   "source": [
    "import pandas as pd\n",
    "sectors= pd.read_csv('dataFiles/sector_weights_returns.csv', index_col=1) \n",
    "sectors"
   ]
  },
  {
   "cell_type": "code",
   "execution_count": null,
   "metadata": {},
   "outputs": [
    {
     "name": "stdout",
     "output_type": "stream",
     "text": [
      "sector\n",
      "recent_weight\n",
      "1Y_return\n",
      "3Y_return\n",
      "5Y_return\n",
      "10Y_return\n"
     ]
    }
   ],
   "source": [
    "for a in sectors:\n",
    "    print(a)\n",
    "#we got only column names"
   ]
  },
  {
   "cell_type": "code",
   "execution_count": null,
   "metadata": {},
   "outputs": [
    {
     "name": "stdout",
     "output_type": "stream",
     "text": [
      "sector           S&P Information Technology \n",
      "recent_weight                         0.2422\n",
      "1Y_return                              34.83\n",
      "3Y_return                              42.63\n",
      "5Y_return                              30.82\n",
      "10Y_return                             23.07\n",
      "Name: XLK, dtype: object\n",
      "sector           S&P Consumer Discretionary \n",
      "recent_weight                         0.0632\n",
      "1Y_return                              27.93\n",
      "3Y_return                              28.65\n",
      "5Y_return                              21.58\n",
      "10Y_return                             19.58\n",
      "Name: XLY, dtype: object\n",
      "sector           S&P Healthcare \n",
      "recent_weight             0.1309\n",
      "1Y_return                  25.59\n",
      "3Y_return                  19.69\n",
      "5Y_return                  17.28\n",
      "10Y_return                 16.95\n",
      "Name: XLV, dtype: object\n",
      "sector           US Large Cap Blend \n",
      "recent_weight                    1.0\n",
      "1Y_return                      28.74\n",
      "3Y_return                      25.99\n",
      "5Y_return                      18.36\n",
      "10Y_return                     16.45\n",
      "Name: SPY, dtype: object\n",
      "sector           S&P Financials \n",
      "recent_weight             0.1423\n",
      "1Y_return                  34.82\n",
      "3Y_return                  20.46\n",
      "5Y_return                  13.15\n",
      "10Y_return                 16.15\n",
      "Name: XLF, dtype: object\n",
      "sector           S&P Industrials \n",
      "recent_weight              0.0886\n",
      "1Y_return                   21.09\n",
      "3Y_return                   20.15\n",
      "5Y_return                   13.28\n",
      "10Y_return                  14.34\n",
      "Name: XLI, dtype: object\n",
      "sector           S&P Materials \n",
      "recent_weight            0.0227\n",
      "1Y_return                 27.45\n",
      "3Y_return                  24.0\n",
      "5Y_return                 15.02\n",
      "10Y_return                12.77\n",
      "Name: XLB, dtype: object\n",
      "sector           S&P Real Estate \n",
      "recent_weight              0.0257\n",
      "1Y_return                   45.26\n",
      "3Y_return                   22.31\n",
      "5Y_return                   14.61\n",
      "10Y_return                  12.56\n",
      "Name: XLRE, dtype: object\n",
      "sector           S&P Consumer Staples \n",
      "recent_weight                     0.12\n",
      "1Y_return                         17.2\n",
      "3Y_return                        18.05\n",
      "5Y_return                        11.31\n",
      "10Y_return                       11.99\n",
      "Name: XLP, dtype: object\n",
      "sector           S&P Communication Services \n",
      "recent_weight                         0.1114\n",
      "1Y_return                              15.96\n",
      "3Y_return                              24.47\n",
      "5Y_return                               8.69\n",
      "10Y_return                             11.16\n",
      "Name: XLC, dtype: object\n",
      "sector           S&P Utilities \n",
      "recent_weight            0.0245\n",
      "1Y_return                 16.81\n",
      "3Y_return                 13.94\n",
      "5Y_return                 11.49\n",
      "10Y_return                10.82\n",
      "Name: XLU, dtype: object\n",
      "sector           S&P Energy \n",
      "recent_weight         0.0286\n",
      "1Y_return              53.31\n",
      "3Y_return               4.95\n",
      "5Y_return              -1.29\n",
      "10Y_return              1.34\n",
      "Name: XLE, dtype: object\n"
     ]
    }
   ],
   "source": [
    "for etf_ticker, row in sectors.iterrows():\n",
    "    print(row)"
   ]
  },
  {
   "cell_type": "code",
   "execution_count": null,
   "metadata": {},
   "outputs": [],
   "source": [
    "#5. Random numbers\n",
    "#consider a stock with a price=100\n",
    "#every trading day the stock may go up with probability 0.6 and down with probability 0.4\n",
    "\n",
    "#you have a call option to buy the stock at a price of 110. \n",
    "#The option expires at trading day 62 (3-months trading days).\n",
    "#At texpiration day ( day 62) the stock price can be above 110 or below 110\n",
    "#if its more than 110, say 120, you call exercise the option and make 10 dollars profit. If the price on day 62 is less than 100, say 90, your options expires worthless\n",
    "#How much is this option worth to you?\n",
    "\n",
    "#One approach is derive this value analytically. You will study this in your options class\n",
    "#Another approach is to simulate the process many times, and each time the option will have a positive value or expire with zero valy, depending whether the simulated process ends up with a price more than 110 or less than 110.\n",
    "\n",
    "#This approach is called Hacker Approach\n",
    "#we can generate a random number between 0 and 1. For this we need to imports numpy. inside numpy, there is the random package.\n",
    "#Inside that package we find the \"rand\" function."
   ]
  },
  {
   "cell_type": "code",
   "execution_count": null,
   "metadata": {},
   "outputs": [
    {
     "data": {
      "text/plain": [
       "0.5513147690828912"
      ]
     },
     "execution_count": 69,
     "metadata": {},
     "output_type": "execute_result"
    }
   ],
   "source": [
    "import numpy as np\n",
    "np.random.rand()\n"
   ]
  },
  {
   "cell_type": "code",
   "execution_count": null,
   "metadata": {},
   "outputs": [],
   "source": [
    "#This generates a number between (0,1). \n",
    "#Run the stament again and you get another random number\n",
    "#How was the random number created? \n",
    "#Computers typically generate so-called pseudo-random numbers.\n",
    "#Those are random numbers that are generated using a mathematical formula, starting from a random seed. In the above case, this seed was chosen by Python when we called the rand function.\n",
    "#We can also set this manually. Suppose we set it to 123. Let us call the rand function twice."
   ]
  },
  {
   "cell_type": "code",
   "execution_count": null,
   "metadata": {},
   "outputs": [
    {
     "data": {
      "text/plain": [
       "0.6964691855978616"
      ]
     },
     "execution_count": 70,
     "metadata": {},
     "output_type": "execute_result"
    }
   ],
   "source": [
    "np.random.seed(123)\n",
    "np.random.rand()"
   ]
  },
  {
   "cell_type": "code",
   "execution_count": null,
   "metadata": {},
   "outputs": [
    {
     "data": {
      "text/plain": [
       "0.6964691855978616"
      ]
     },
     "execution_count": 71,
     "metadata": {},
     "output_type": "execute_result"
    }
   ],
   "source": [
    "np.random.seed(123)\n",
    "np.random.rand()"
   ]
  },
  {
   "cell_type": "code",
   "execution_count": null,
   "metadata": {},
   "outputs": [
    {
     "data": {
      "text/plain": [
       "array([0.69646919, 0.28613933, 0.22685145, 0.55131477, 0.71946897])"
      ]
     },
     "execution_count": 72,
     "metadata": {},
     "output_type": "execute_result"
    }
   ],
   "source": [
    "np.random.seed(123)\n",
    "np.random.rand(5)"
   ]
  },
  {
   "cell_type": "code",
   "execution_count": null,
   "metadata": {},
   "outputs": [],
   "source": [
    "#once the seed is fixed, the sequence of the randome numbers is determine by the seed\n",
    "#One advantage of this is that other people can reproduce our analysis. \n",
    "#Let's use this randomness in a new example now.\n"
   ]
  },
  {
   "cell_type": "code",
   "execution_count": 68,
   "metadata": {},
   "outputs": [
    {
     "name": "stdout",
     "output_type": "stream",
     "text": [
      "option_excersize_value= 1.5\n"
     ]
    }
   ],
   "source": [
    "move=0.5\n",
    "price = 100\n",
    "for n in range(1,62):\n",
    "    u = np.random.rand()\n",
    "    if u > 0.4:\n",
    "        price += move;\n",
    "    else:\n",
    "        price -= move\n",
    "if price >= 110:\n",
    "    option_excersize_value = price-110\n",
    "else:option_excersize_value = 0\n",
    "\n",
    "print('option_excersize_value=', option_excersize_value)"
   ]
  },
  {
   "cell_type": "code",
   "execution_count": null,
   "metadata": {},
   "outputs": [],
   "source": [
    "## Each time you run the code you get different excercise value"
   ]
  },
  {
   "cell_type": "code",
   "execution_count": null,
   "metadata": {},
   "outputs": [],
   "source": [
    "#To assess the excersize value, we can repeat running the process a large numbe of time,\n",
    "# say 100, 500, 1000. Then we calculate the average excercise value.\n",
    "#Check this code"
   ]
  },
  {
   "cell_type": "code",
   "execution_count": 84,
   "metadata": {},
   "outputs": [
    {
     "name": "stdout",
     "output_type": "stream",
     "text": [
      "[0, 0, 0, 0, 0.5, 0, 0, 0, 0, 4.5, 0.5, 0, 0, 0, 0, 2.5, 0, 0, 2.5, 0, 0, 0, 0, 0, 0, 0, 3.5, 0, 0, 0, 0, 3.5, 0, 0, 0, 0, 0, 0, 0, 0, 4.5, 0, 0, 0, 2.5, 0, 1.5, 0, 0, 1.5, 0, 1.5, 0, 0, 0, 0, 0, 0, 0, 0, 0, 0, 0, 0, 0, 2.5, 0, 0, 0, 1.5, 0, 0, 0, 0, 0, 0, 0, 0, 0, 0, 1.5, 0, 0, 0, 4.5, 2.5, 0.5, 0, 0, 2.5, 0, 0.5, 0, 0, 0, 0, 0.5, 0, 0, 0]\n"
     ]
    }
   ],
   "source": [
    "N=100\n",
    "values_100 = []\n",
    "for n in range(N):\n",
    "    sum=0\n",
    "    move=0.5\n",
    "    price = 100\n",
    "    for i in range(1,62):\n",
    "        u = np.random.rand()\n",
    "        if u > 0.4:\n",
    "            price += move\n",
    "        else:\n",
    "            price -= move\n",
    "    if price >= 110:\n",
    "        option_excersize_value = price-110\n",
    "    else:\n",
    "        option_excersize_value = 0\n",
    "    #print(n, 'option_excersize_value=', option_excersize_value)    \n",
    "    values_100.append(option_excersize_value)\n",
    "print(values_100) "
   ]
  },
  {
   "cell_type": "code",
   "execution_count": 85,
   "metadata": {},
   "outputs": [
    {
     "data": {
      "text/plain": [
       "np.float64(0.46)"
      ]
     },
     "execution_count": 85,
     "metadata": {},
     "output_type": "execute_result"
    }
   ],
   "source": [
    "from numpy import mean\n",
    "mean_100 = mean(values_100)\n",
    "round( mean_100, 2)"
   ]
  },
  {
   "cell_type": "code",
   "execution_count": 86,
   "metadata": {},
   "outputs": [
    {
     "name": "stdout",
     "output_type": "stream",
     "text": [
      "0.28\n"
     ]
    }
   ],
   "source": [
    "N= 500\n",
    "values_500 = []\n",
    "for n in range(N):\n",
    "    sum=0\n",
    "    move=0.5\n",
    "    price = 100\n",
    "    for i in range(1,62):\n",
    "        u = np.random.rand()\n",
    "        if u > 0.4:\n",
    "            price += move\n",
    "        else:\n",
    "            price -= move\n",
    "    if price >= 110:\n",
    "        option_excersize_value = price-110\n",
    "    else:\n",
    "        option_excersize_value = 0\n",
    "    #print(n, 'option_excersize_value=', option_excersize_value)    \n",
    "    values_500.append(option_excersize_value)\n",
    "mean_500 = mean(values_500)\n",
    "print(round(mean_500, 2))"
   ]
  },
  {
   "cell_type": "code",
   "execution_count": 102,
   "metadata": {},
   "outputs": [
    {
     "name": "stdout",
     "output_type": "stream",
     "text": [
      "0.27\n"
     ]
    }
   ],
   "source": [
    "N= 1000\n",
    "values_1000 = []\n",
    "for n in range(N):\n",
    "    sum=0\n",
    "    move=0.5\n",
    "    price = 100\n",
    "    for i in range(1,62):\n",
    "        u = np.random.rand()\n",
    "        if u > 0.4:\n",
    "            price += move\n",
    "        else:\n",
    "            price -= move\n",
    "    if price >= 110:\n",
    "        option_excersize_value = price-110\n",
    "    else:\n",
    "        option_excersize_value = 0\n",
    "    #print(n, 'option_excersize_value=', option_excersize_value)    \n",
    "    values_1000.append(option_excersize_value)\n",
    "mean_1000 = mean(values_1000)\n",
    "print(round(mean_1000, 2))"
   ]
  },
  {
   "cell_type": "code",
   "execution_count": null,
   "metadata": {},
   "outputs": [
    {
     "name": "stdout",
     "output_type": "stream",
     "text": [
      "0.3\n"
     ]
    }
   ],
   "source": [
    "N= 1000000\n",
    "values_1000000 = []\n",
    "for n in range(N):\n",
    "    sum=0\n",
    "    move=0.5\n",
    "    price = 100\n",
    "    for i in range(1,62):\n",
    "        u = np.random.rand()\n",
    "        if u > 0.4:\n",
    "            price += move\n",
    "        else:\n",
    "            price -= move\n",
    "    if price >= 110:\n",
    "        option_excersize_value = price - 110\n",
    "    else:\n",
    "        option_excersize_value = 0\n",
    "    #print(n, 'option_excersize_value=', option_excersize_value)    \n",
    "    values_1000000.append(option_excersize_value)\n",
    "mean_1000000 = mean(values_1000000)\n",
    "print(round( mean_1000000, 2))"
   ]
  },
  {
   "cell_type": "code",
   "execution_count": 91,
   "metadata": {},
   "outputs": [
    {
     "name": "stdout",
     "output_type": "stream",
     "text": [
      "mean_100 =  0.46\n",
      "mean_1000 =  0.32\n",
      "mean_1000000 =  0.3\n"
     ]
    }
   ],
   "source": [
    "print ('mean_100 = ' ,round( mean_100, 2) )\n",
    "print ('mean_1000 = ' ,round( mean_1000, 2) )\n",
    "print ('mean_1000000 = ' ,round( mean_1000000, 2) )\n"
   ]
  },
  {
   "cell_type": "code",
   "execution_count": 98,
   "metadata": {},
   "outputs": [
    {
     "name": "stdout",
     "output_type": "stream",
     "text": [
      "0.27378734750600553 0.0683068374720599 In the circle\n"
     ]
    }
   ],
   "source": [
    "x= np.random.uniform(0,1)\n",
    "y= np.random.uniform(0,1)\n",
    "if x**2+y**2 <=1:\n",
    "    print(x,y, 'In the circle')\n",
    "else:\n",
    "    print (x,y,'out-the circle')\n"
   ]
  },
  {
   "cell_type": "code",
   "execution_count": 101,
   "metadata": {},
   "outputs": [
    {
     "name": "stdout",
     "output_type": "stream",
     "text": [
      "3.064\n"
     ]
    }
   ],
   "source": [
    "N= 1000\n",
    "k=0\n",
    "for n in range(N):\n",
    "    x= np.random.uniform(0,1)\n",
    "    y= np.random.uniform(0,1)\n",
    "    if x**2+y**2 <=1:\n",
    "        k += 1\n",
    "pi = 4 * (k/N)\n",
    "print(pi)\n"
   ]
  }
 ],
 "metadata": {
  "kernelspec": {
   "display_name": ".venv (3.9.6)",
   "language": "python",
   "name": "python3"
  },
  "language_info": {
   "codemirror_mode": {
    "name": "ipython",
    "version": 3
   },
   "file_extension": ".py",
   "mimetype": "text/x-python",
   "name": "python",
   "nbconvert_exporter": "python",
   "pygments_lexer": "ipython3",
   "version": "3.9.6"
  }
 },
 "nbformat": 4,
 "nbformat_minor": 4
}
