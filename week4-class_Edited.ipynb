{
 "cells": [
  {
   "cell_type": "markdown",
   "metadata": {
    "iooxa": {
     "id": {
      "block": "i3b7cbMZVWIFEWOx10wW",
      "project": "o8uCbOPb8iJK0GDallsV",
      "version": 1
     }
    }
   },
   "source": [
    "In this class we will cover,\n",
    "\n",
    "- Working with Pandas DataFrames\n",
    "- Accessing DataFrames, Null Value and Dropping Null Value\n",
    "- pd.DataFrame() methods (Filtering, Sorting, Pivot table, Add Column, Summary statistics, Subset, etc.)"
   ]
  },
  {
   "cell_type": "markdown",
   "metadata": {
    "iooxa": {
     "id": {
      "block": "WJcTaGmFL42I7noUtzH5",
      "project": "o8uCbOPb8iJK0GDallsV",
      "version": 1
     }
    }
   },
   "source": [
    "**Importing Required Libraries**"
   ]
  },
  {
   "cell_type": "code",
   "execution_count": 99,
   "metadata": {
    "iooxa": {
     "id": {
      "block": "Y6OBPFZOdNdk3jeNnKG5",
      "project": "o8uCbOPb8iJK0GDallsV",
      "version": 2
     },
     "outputId": null
    }
   },
   "outputs": [],
   "source": [
    "import numpy as np\n",
    "import pandas as pd\n",
    "import matplotlib.pyplot as plt"
   ]
  },
  {
   "cell_type": "markdown",
   "metadata": {
    "iooxa": {
     "id": {
      "block": "ijo9rYFnO95ZugNfTm5Z",
      "project": "o8uCbOPb8iJK0GDallsV",
      "version": 1
     }
    }
   },
   "source": [
    "**Code To Change Working Directory**"
   ]
  },
  {
   "cell_type": "code",
   "execution_count": 100,
   "metadata": {
    "iooxa": {
     "id": {
      "block": "07JQRhC4EKiuhFhDKQ0S",
      "project": "o8uCbOPb8iJK0GDallsV",
      "version": 2
     },
     "outputId": {
      "block": "AFKO7adqIHLG8OvuvhxA",
      "project": "o8uCbOPb8iJK0GDallsV",
      "version": 1
     }
    }
   },
   "outputs": [
    {
     "data": {
      "text/plain": [
       "'/Users/aruvins/Desktop/Fordham/Fall 2025/Computational Finance'"
      ]
     },
     "execution_count": 100,
     "metadata": {},
     "output_type": "execute_result"
    }
   ],
   "source": [
    "import os\n",
    "os.chdir('../Computational Finance')\n",
    "os.getcwd()"
   ]
  },
  {
   "cell_type": "markdown",
   "metadata": {
    "iooxa": {
     "id": {
      "block": "37u8WDhZ2KwiLus0rIq8",
      "project": "o8uCbOPb8iJK0GDallsV",
      "version": 1
     }
    }
   },
   "source": [
    "# **Working with Pandas DataFrames**"
   ]
  },
  {
   "cell_type": "markdown",
   "metadata": {
    "iooxa": {
     "id": {
      "block": "3CO2Lhski4SJmc8JLGeh",
      "project": "o8uCbOPb8iJK0GDallsV",
      "version": 1
     }
    }
   },
   "source": [
    "**Reading the Dataset**\n",
    "\n",
    "Pandas `head()` and `tail()` Methods\n",
    "\n",
    "- The `head()` and `tail()` methods in Pandas are used to view a subset of rows from the beginning or end of a DataFrame, respectively.\n",
    "  - `head(n)`: Returns the first `n` rows of the DataFrame. By default, `n=5`.\n",
    "  - `tail(n)`: Returns the last `n` rows of the DataFrame. By default, `n=5`."
   ]
  },
  {
   "cell_type": "code",
   "execution_count": 101,
   "metadata": {
    "iooxa": {
     "id": {
      "block": "Z4Zt67HE4TOg0iFLnmOz",
      "project": "o8uCbOPb8iJK0GDallsV",
      "version": 2
     },
     "outputId": {
      "block": "g0D4xRx3NLwAfZxTpuWV",
      "project": "o8uCbOPb8iJK0GDallsV",
      "version": 2
     }
    }
   },
   "outputs": [
    {
     "data": {
      "application/vnd.microsoft.datawrangler.viewer.v0+json": {
       "columns": [
        {
         "name": "index",
         "rawType": "int64",
         "type": "integer"
        },
        {
         "name": "symbol",
         "rawType": "object",
         "type": "string"
        },
        {
         "name": "sector",
         "rawType": "object",
         "type": "string"
        },
        {
         "name": "industry",
         "rawType": "object",
         "type": "string"
        },
        {
         "name": "price",
         "rawType": "float64",
         "type": "float"
        },
        {
         "name": "avg_volume",
         "rawType": "int64",
         "type": "integer"
        },
        {
         "name": "avg_spread",
         "rawType": "float64",
         "type": "float"
        },
        {
         "name": "market_cap",
         "rawType": "float64",
         "type": "float"
        },
        {
         "name": "avg_spread.1",
         "rawType": "float64",
         "type": "float"
        }
       ],
       "ref": "3304ad79-8c2e-4adb-9fee-89a3fd468360",
       "rows": [
        [
         "0",
         "CPAH",
         "Technology",
         "Software—Application",
         "3.48",
         "74600",
         "0.010135135",
         "22454623.44",
         "0.010135135"
        ],
        [
         "1",
         "NBRV",
         "Healthcare",
         "Biotechnology",
         "1.789999962",
         "3468270",
         "0.010134519",
         "63340335.42",
         "0.010134519"
        ],
        [
         "2",
         "VCRA",
         "Technology",
         "Communication Equipment",
         "43.95000076",
         "722431",
         "0.143875222",
         "1443100473.0",
         "0.143875222"
        ],
        [
         "3",
         "MKSI",
         "Technology",
         "Scientific & Technical Instruments",
         "153.0",
         "590971",
         "0.57398596",
         "8448984054.0",
         "0.57398596"
        ],
        [
         "4",
         "RHI",
         "Industrials",
         "Staffing & Employment Services",
         "76.91999817",
         "1287779",
         "0.105434907",
         "8701563563.0",
         "0.105434907"
        ]
       ],
       "shape": {
        "columns": 8,
        "rows": 5
       }
      },
      "text/html": [
       "<div>\n",
       "<style scoped>\n",
       "    .dataframe tbody tr th:only-of-type {\n",
       "        vertical-align: middle;\n",
       "    }\n",
       "\n",
       "    .dataframe tbody tr th {\n",
       "        vertical-align: top;\n",
       "    }\n",
       "\n",
       "    .dataframe thead th {\n",
       "        text-align: right;\n",
       "    }\n",
       "</style>\n",
       "<table border=\"1\" class=\"dataframe\">\n",
       "  <thead>\n",
       "    <tr style=\"text-align: right;\">\n",
       "      <th></th>\n",
       "      <th>symbol</th>\n",
       "      <th>sector</th>\n",
       "      <th>industry</th>\n",
       "      <th>price</th>\n",
       "      <th>avg_volume</th>\n",
       "      <th>avg_spread</th>\n",
       "      <th>market_cap</th>\n",
       "      <th>avg_spread.1</th>\n",
       "    </tr>\n",
       "  </thead>\n",
       "  <tbody>\n",
       "    <tr>\n",
       "      <th>0</th>\n",
       "      <td>CPAH</td>\n",
       "      <td>Technology</td>\n",
       "      <td>Software—Application</td>\n",
       "      <td>3.480000</td>\n",
       "      <td>74600</td>\n",
       "      <td>0.010135</td>\n",
       "      <td>2.245462e+07</td>\n",
       "      <td>0.010135</td>\n",
       "    </tr>\n",
       "    <tr>\n",
       "      <th>1</th>\n",
       "      <td>NBRV</td>\n",
       "      <td>Healthcare</td>\n",
       "      <td>Biotechnology</td>\n",
       "      <td>1.790000</td>\n",
       "      <td>3468270</td>\n",
       "      <td>0.010135</td>\n",
       "      <td>6.334034e+07</td>\n",
       "      <td>0.010135</td>\n",
       "    </tr>\n",
       "    <tr>\n",
       "      <th>2</th>\n",
       "      <td>VCRA</td>\n",
       "      <td>Technology</td>\n",
       "      <td>Communication Equipment</td>\n",
       "      <td>43.950001</td>\n",
       "      <td>722431</td>\n",
       "      <td>0.143875</td>\n",
       "      <td>1.443100e+09</td>\n",
       "      <td>0.143875</td>\n",
       "    </tr>\n",
       "    <tr>\n",
       "      <th>3</th>\n",
       "      <td>MKSI</td>\n",
       "      <td>Technology</td>\n",
       "      <td>Scientific &amp; Technical Instruments</td>\n",
       "      <td>153.000000</td>\n",
       "      <td>590971</td>\n",
       "      <td>0.573986</td>\n",
       "      <td>8.448984e+09</td>\n",
       "      <td>0.573986</td>\n",
       "    </tr>\n",
       "    <tr>\n",
       "      <th>4</th>\n",
       "      <td>RHI</td>\n",
       "      <td>Industrials</td>\n",
       "      <td>Staffing &amp; Employment Services</td>\n",
       "      <td>76.919998</td>\n",
       "      <td>1287779</td>\n",
       "      <td>0.105435</td>\n",
       "      <td>8.701564e+09</td>\n",
       "      <td>0.105435</td>\n",
       "    </tr>\n",
       "  </tbody>\n",
       "</table>\n",
       "</div>"
      ],
      "text/plain": [
       "  symbol       sector                            industry       price  \\\n",
       "0   CPAH   Technology                Software—Application    3.480000   \n",
       "1   NBRV   Healthcare                       Biotechnology    1.790000   \n",
       "2   VCRA   Technology             Communication Equipment   43.950001   \n",
       "3   MKSI   Technology  Scientific & Technical Instruments  153.000000   \n",
       "4    RHI  Industrials      Staffing & Employment Services   76.919998   \n",
       "\n",
       "   avg_volume  avg_spread    market_cap  avg_spread.1  \n",
       "0       74600    0.010135  2.245462e+07      0.010135  \n",
       "1     3468270    0.010135  6.334034e+07      0.010135  \n",
       "2      722431    0.143875  1.443100e+09      0.143875  \n",
       "3      590971    0.573986  8.448984e+09      0.573986  \n",
       "4     1287779    0.105435  8.701564e+09      0.105435  "
      ]
     },
     "execution_count": 101,
     "metadata": {},
     "output_type": "execute_result"
    }
   ],
   "source": [
    "#1 Let us import a data on 200 stocks\n",
    "stocks=pd.read_csv('dataFiles/Stocks_profile_week4.csv') \n",
    "stocks.head()"
   ]
  },
  {
   "cell_type": "code",
   "execution_count": 102,
   "metadata": {
    "iooxa": {
     "id": {
      "block": "P57dIN7makYJftAdwG2V",
      "project": "o8uCbOPb8iJK0GDallsV",
      "version": 2
     },
     "outputId": {
      "block": "cAKqtSITRBoDYhYzvXfs",
      "project": "o8uCbOPb8iJK0GDallsV",
      "version": 2
     }
    }
   },
   "outputs": [
    {
     "data": {
      "application/vnd.microsoft.datawrangler.viewer.v0+json": {
       "columns": [
        {
         "name": "index",
         "rawType": "int64",
         "type": "integer"
        },
        {
         "name": "symbol",
         "rawType": "object",
         "type": "string"
        },
        {
         "name": "sector",
         "rawType": "object",
         "type": "string"
        },
        {
         "name": "industry",
         "rawType": "object",
         "type": "string"
        },
        {
         "name": "price",
         "rawType": "float64",
         "type": "float"
        },
        {
         "name": "avg_volume",
         "rawType": "int64",
         "type": "integer"
        },
        {
         "name": "avg_spread",
         "rawType": "float64",
         "type": "float"
        },
        {
         "name": "market_cap",
         "rawType": "float64",
         "type": "float"
        },
        {
         "name": "avg_spread.1",
         "rawType": "float64",
         "type": "float"
        }
       ],
       "ref": "0c79f5ef-426d-428b-806a-640c78f7dbfa",
       "rows": [
        [
         "195",
         "FE",
         "Utilities",
         "Utilities—Diversified",
         "33.20999908",
         "5516490",
         "0.0115161",
         "18040172642.0",
         "0.0115161"
        ],
        [
         "196",
         "USWS",
         "Energy",
         "Oil & Gas Midstream",
         "1.440000057",
         "3676235",
         "0.011655743",
         "106659787.6",
         "0.011655743"
        ],
        [
         "197",
         "VRSK",
         "Industrials",
         "Consulting Services",
         "168.1199951",
         "1922759",
         "0.147463882",
         "27368520139.0",
         "0.147463882"
        ],
        [
         "198",
         "APLS",
         "Healthcare",
         "Biotechnology",
         "48.81000137",
         "737613",
         "0.234900579",
         "3923121676.0",
         "0.234900579"
        ],
        [
         "199",
         "VCVC",
         "Financial Services",
         "Shell Companies",
         "10.60000038",
         "739586",
         "0.045865365",
         "266656259.6",
         "0.045865365"
        ]
       ],
       "shape": {
        "columns": 8,
        "rows": 5
       }
      },
      "text/html": [
       "<div>\n",
       "<style scoped>\n",
       "    .dataframe tbody tr th:only-of-type {\n",
       "        vertical-align: middle;\n",
       "    }\n",
       "\n",
       "    .dataframe tbody tr th {\n",
       "        vertical-align: top;\n",
       "    }\n",
       "\n",
       "    .dataframe thead th {\n",
       "        text-align: right;\n",
       "    }\n",
       "</style>\n",
       "<table border=\"1\" class=\"dataframe\">\n",
       "  <thead>\n",
       "    <tr style=\"text-align: right;\">\n",
       "      <th></th>\n",
       "      <th>symbol</th>\n",
       "      <th>sector</th>\n",
       "      <th>industry</th>\n",
       "      <th>price</th>\n",
       "      <th>avg_volume</th>\n",
       "      <th>avg_spread</th>\n",
       "      <th>market_cap</th>\n",
       "      <th>avg_spread.1</th>\n",
       "    </tr>\n",
       "  </thead>\n",
       "  <tbody>\n",
       "    <tr>\n",
       "      <th>195</th>\n",
       "      <td>FE</td>\n",
       "      <td>Utilities</td>\n",
       "      <td>Utilities—Diversified</td>\n",
       "      <td>33.209999</td>\n",
       "      <td>5516490</td>\n",
       "      <td>0.011516</td>\n",
       "      <td>1.804017e+10</td>\n",
       "      <td>0.011516</td>\n",
       "    </tr>\n",
       "    <tr>\n",
       "      <th>196</th>\n",
       "      <td>USWS</td>\n",
       "      <td>Energy</td>\n",
       "      <td>Oil &amp; Gas Midstream</td>\n",
       "      <td>1.440000</td>\n",
       "      <td>3676235</td>\n",
       "      <td>0.011656</td>\n",
       "      <td>1.066598e+08</td>\n",
       "      <td>0.011656</td>\n",
       "    </tr>\n",
       "    <tr>\n",
       "      <th>197</th>\n",
       "      <td>VRSK</td>\n",
       "      <td>Industrials</td>\n",
       "      <td>Consulting Services</td>\n",
       "      <td>168.119995</td>\n",
       "      <td>1922759</td>\n",
       "      <td>0.147464</td>\n",
       "      <td>2.736852e+10</td>\n",
       "      <td>0.147464</td>\n",
       "    </tr>\n",
       "    <tr>\n",
       "      <th>198</th>\n",
       "      <td>APLS</td>\n",
       "      <td>Healthcare</td>\n",
       "      <td>Biotechnology</td>\n",
       "      <td>48.810001</td>\n",
       "      <td>737613</td>\n",
       "      <td>0.234901</td>\n",
       "      <td>3.923122e+09</td>\n",
       "      <td>0.234901</td>\n",
       "    </tr>\n",
       "    <tr>\n",
       "      <th>199</th>\n",
       "      <td>VCVC</td>\n",
       "      <td>Financial Services</td>\n",
       "      <td>Shell Companies</td>\n",
       "      <td>10.600000</td>\n",
       "      <td>739586</td>\n",
       "      <td>0.045865</td>\n",
       "      <td>2.666563e+08</td>\n",
       "      <td>0.045865</td>\n",
       "    </tr>\n",
       "  </tbody>\n",
       "</table>\n",
       "</div>"
      ],
      "text/plain": [
       "    symbol              sector               industry       price  avg_volume  \\\n",
       "195     FE           Utilities  Utilities—Diversified   33.209999     5516490   \n",
       "196   USWS              Energy    Oil & Gas Midstream    1.440000     3676235   \n",
       "197   VRSK         Industrials    Consulting Services  168.119995     1922759   \n",
       "198   APLS          Healthcare          Biotechnology   48.810001      737613   \n",
       "199   VCVC  Financial Services        Shell Companies   10.600000      739586   \n",
       "\n",
       "     avg_spread    market_cap  avg_spread.1  \n",
       "195    0.011516  1.804017e+10      0.011516  \n",
       "196    0.011656  1.066598e+08      0.011656  \n",
       "197    0.147464  2.736852e+10      0.147464  \n",
       "198    0.234901  3.923122e+09      0.234901  \n",
       "199    0.045865  2.666563e+08      0.045865  "
      ]
     },
     "execution_count": 102,
     "metadata": {},
     "output_type": "execute_result"
    }
   ],
   "source": [
    "stocks.tail()"
   ]
  },
  {
   "cell_type": "markdown",
   "metadata": {
    "iooxa": {
     "id": {
      "block": "KGfpJUnV58beRkHoQJ0B",
      "project": "o8uCbOPb8iJK0GDallsV",
      "version": 1
     }
    }
   },
   "source": [
    "## **Null Values**"
   ]
  },
  {
   "cell_type": "code",
   "execution_count": 103,
   "metadata": {
    "iooxa": {
     "id": {
      "block": "AZKkxIFLX5tJZnkLXqZ4",
      "project": "o8uCbOPb8iJK0GDallsV",
      "version": 1
     },
     "outputId": {
      "block": "iRYXHuRE3gZPVbWe9gfP",
      "project": "o8uCbOPb8iJK0GDallsV",
      "version": 1
     }
    }
   },
   "outputs": [
    {
     "data": {
      "application/vnd.microsoft.datawrangler.viewer.v0+json": {
       "columns": [
        {
         "name": "index",
         "rawType": "object",
         "type": "string"
        },
        {
         "name": "0",
         "rawType": "int64",
         "type": "integer"
        }
       ],
       "ref": "af4b0c2f-f009-4e22-b62c-abe76c421d80",
       "rows": [
        [
         "symbol",
         "0"
        ],
        [
         "sector",
         "1"
        ],
        [
         "industry",
         "1"
        ],
        [
         "price",
         "0"
        ],
        [
         "avg_volume",
         "0"
        ],
        [
         "avg_spread",
         "0"
        ],
        [
         "market_cap",
         "0"
        ],
        [
         "avg_spread.1",
         "7"
        ]
       ],
       "shape": {
        "columns": 1,
        "rows": 8
       }
      },
      "text/plain": [
       "symbol          0\n",
       "sector          1\n",
       "industry        1\n",
       "price           0\n",
       "avg_volume      0\n",
       "avg_spread      0\n",
       "market_cap      0\n",
       "avg_spread.1    7\n",
       "dtype: int64"
      ]
     },
     "execution_count": 103,
     "metadata": {},
     "output_type": "execute_result"
    }
   ],
   "source": [
    "#Let us check for missing values\n",
    "stocks.isnull().sum()"
   ]
  },
  {
   "cell_type": "markdown",
   "metadata": {
    "iooxa": {
     "id": {
      "block": "Mryt2As3N3Zk04s8PX9M",
      "project": "o8uCbOPb8iJK0GDallsV",
      "version": 1
     }
    }
   },
   "source": [
    "## **Dropping Null values**"
   ]
  },
  {
   "cell_type": "code",
   "execution_count": 104,
   "metadata": {
    "iooxa": {
     "id": {
      "block": "eR3wL4rRGClvhOf14kcn",
      "project": "o8uCbOPb8iJK0GDallsV",
      "version": 1
     },
     "outputId": {
      "block": "Pg6cm1c2P1kk8Lt2Xy2E",
      "project": "o8uCbOPb8iJK0GDallsV",
      "version": 1
     }
    }
   },
   "outputs": [
    {
     "name": "stdout",
     "output_type": "stream",
     "text": [
      "(200, 8) (192, 8)\n"
     ]
    }
   ],
   "source": [
    "# we can drop missing values using the following comand\n",
    "stocks_=stocks.dropna()\n",
    "print(stocks.shape, stocks_.shape)"
   ]
  },
  {
   "cell_type": "code",
   "execution_count": 105,
   "metadata": {
    "iooxa": {
     "id": {
      "block": "kTYfRztHujWuSeNcQTjz",
      "project": "o8uCbOPb8iJK0GDallsV",
      "version": 1
     },
     "outputId": null
    }
   },
   "outputs": [],
   "source": [
    "#rename replace stocks by stocks_\n",
    "stocks=stocks_"
   ]
  },
  {
   "cell_type": "markdown",
   "metadata": {
    "iooxa": {
     "id": {
      "block": "u5VFSHQ6A25MncnwiVAA",
      "project": "o8uCbOPb8iJK0GDallsV",
      "version": 1
     }
    }
   },
   "source": [
    "# **pd.DataFrame() Methods**"
   ]
  },
  {
   "cell_type": "markdown",
   "metadata": {
    "iooxa": {
     "id": {
      "block": "85DbuhTYxSutQu1lG5wF",
      "project": "o8uCbOPb8iJK0GDallsV",
      "version": 1
     }
    }
   },
   "source": [
    "## **sort_values()**\n",
    "\n",
    "The `sort_values()` method in Pandas is used to sort a DataFrame by one or more columns."
   ]
  },
  {
   "cell_type": "code",
   "execution_count": 106,
   "metadata": {
    "iooxa": {
     "id": {
      "block": "meXd5ROQjQhrfHoD07jp",
      "project": "o8uCbOPb8iJK0GDallsV",
      "version": 2
     },
     "outputId": {
      "block": "ltHzfI08sYdaE8YxR4dg",
      "project": "o8uCbOPb8iJK0GDallsV",
      "version": 2
     }
    }
   },
   "outputs": [
    {
     "data": {
      "application/vnd.microsoft.datawrangler.viewer.v0+json": {
       "columns": [
        {
         "name": "index",
         "rawType": "int64",
         "type": "integer"
        },
        {
         "name": "symbol",
         "rawType": "object",
         "type": "string"
        },
        {
         "name": "sector",
         "rawType": "object",
         "type": "string"
        },
        {
         "name": "industry",
         "rawType": "object",
         "type": "string"
        },
        {
         "name": "price",
         "rawType": "float64",
         "type": "float"
        },
        {
         "name": "avg_volume",
         "rawType": "int64",
         "type": "integer"
        },
        {
         "name": "avg_spread",
         "rawType": "float64",
         "type": "float"
        },
        {
         "name": "market_cap",
         "rawType": "float64",
         "type": "float"
        },
        {
         "name": "avg_spread.1",
         "rawType": "float64",
         "type": "float"
        }
       ],
       "ref": "ee093f10-d0eb-4f56-b0a0-096c0a9ecdf0",
       "rows": [
        [
         "81",
         "JHX",
         "Basic Materials",
         "Building Materials",
         "28.96999931",
         "37828",
         "0.178728676",
         "12867531851.0",
         "0.178728676"
        ],
        [
         "167",
         "LAC",
         "Basic Materials",
         "Other Industrial Metals & Mining",
         "14.90999985",
         "6719695",
         "0.019648828",
         "1780074450.0",
         "0.019648828"
        ],
        [
         "32",
         "SEED",
         "Basic Materials",
         "Agricultural Inputs",
         "21.12999916",
         "201979",
         "0.425444793",
         "120146717.7",
         "0.425444793"
        ],
        [
         "72",
         "IAG",
         "Basic Materials",
         "Gold",
         "3.069999933",
         "5298035",
         "0.010009591",
         "1459220629.0",
         "0.010009591"
        ],
        [
         "34",
         "DOW",
         "Basic Materials",
         "Chemicals",
         "62.90999985",
         "3883643",
         "0.027066203",
         "46882095703.0",
         "0.027066203"
        ],
        [
         "61",
         "EGO",
         "Basic Materials",
         "Gold",
         "11.34000015",
         "1839050",
         "0.010323001",
         "1983721887.0",
         "0.010323001"
        ],
        [
         "6",
         "PTNR",
         "Communication Services",
         "Telecom Services",
         "4.900000095",
         "5321",
         "0.08529563",
         "900234706.0",
         "0.08529563"
        ],
        [
         "190",
         "LOV",
         "Communication Services",
         "Internet Content & Information",
         "5.050000191",
         "65729",
         "0.067383089",
         "131352373.5",
         "0.067383089"
        ],
        [
         "132",
         "LIVX",
         "Communication Services",
         "Entertainment",
         "3.799999952",
         "980786",
         "0.015822101",
         "286818589.0",
         "0.015822101"
        ],
        [
         "82",
         "BIDU",
         "Communication Services",
         "Internet Content & Information",
         "261.7200012",
         "15958337",
         "0.386135559",
         "89266316917.0",
         "0.386135559"
        ]
       ],
       "shape": {
        "columns": 8,
        "rows": 10
       }
      },
      "text/html": [
       "<div>\n",
       "<style scoped>\n",
       "    .dataframe tbody tr th:only-of-type {\n",
       "        vertical-align: middle;\n",
       "    }\n",
       "\n",
       "    .dataframe tbody tr th {\n",
       "        vertical-align: top;\n",
       "    }\n",
       "\n",
       "    .dataframe thead th {\n",
       "        text-align: right;\n",
       "    }\n",
       "</style>\n",
       "<table border=\"1\" class=\"dataframe\">\n",
       "  <thead>\n",
       "    <tr style=\"text-align: right;\">\n",
       "      <th></th>\n",
       "      <th>symbol</th>\n",
       "      <th>sector</th>\n",
       "      <th>industry</th>\n",
       "      <th>price</th>\n",
       "      <th>avg_volume</th>\n",
       "      <th>avg_spread</th>\n",
       "      <th>market_cap</th>\n",
       "      <th>avg_spread.1</th>\n",
       "    </tr>\n",
       "  </thead>\n",
       "  <tbody>\n",
       "    <tr>\n",
       "      <th>81</th>\n",
       "      <td>JHX</td>\n",
       "      <td>Basic Materials</td>\n",
       "      <td>Building Materials</td>\n",
       "      <td>28.969999</td>\n",
       "      <td>37828</td>\n",
       "      <td>0.178729</td>\n",
       "      <td>1.286753e+10</td>\n",
       "      <td>0.178729</td>\n",
       "    </tr>\n",
       "    <tr>\n",
       "      <th>167</th>\n",
       "      <td>LAC</td>\n",
       "      <td>Basic Materials</td>\n",
       "      <td>Other Industrial Metals &amp; Mining</td>\n",
       "      <td>14.910000</td>\n",
       "      <td>6719695</td>\n",
       "      <td>0.019649</td>\n",
       "      <td>1.780074e+09</td>\n",
       "      <td>0.019649</td>\n",
       "    </tr>\n",
       "    <tr>\n",
       "      <th>32</th>\n",
       "      <td>SEED</td>\n",
       "      <td>Basic Materials</td>\n",
       "      <td>Agricultural Inputs</td>\n",
       "      <td>21.129999</td>\n",
       "      <td>201979</td>\n",
       "      <td>0.425445</td>\n",
       "      <td>1.201467e+08</td>\n",
       "      <td>0.425445</td>\n",
       "    </tr>\n",
       "    <tr>\n",
       "      <th>72</th>\n",
       "      <td>IAG</td>\n",
       "      <td>Basic Materials</td>\n",
       "      <td>Gold</td>\n",
       "      <td>3.070000</td>\n",
       "      <td>5298035</td>\n",
       "      <td>0.010010</td>\n",
       "      <td>1.459221e+09</td>\n",
       "      <td>0.010010</td>\n",
       "    </tr>\n",
       "    <tr>\n",
       "      <th>34</th>\n",
       "      <td>DOW</td>\n",
       "      <td>Basic Materials</td>\n",
       "      <td>Chemicals</td>\n",
       "      <td>62.910000</td>\n",
       "      <td>3883643</td>\n",
       "      <td>0.027066</td>\n",
       "      <td>4.688210e+10</td>\n",
       "      <td>0.027066</td>\n",
       "    </tr>\n",
       "    <tr>\n",
       "      <th>61</th>\n",
       "      <td>EGO</td>\n",
       "      <td>Basic Materials</td>\n",
       "      <td>Gold</td>\n",
       "      <td>11.340000</td>\n",
       "      <td>1839050</td>\n",
       "      <td>0.010323</td>\n",
       "      <td>1.983722e+09</td>\n",
       "      <td>0.010323</td>\n",
       "    </tr>\n",
       "    <tr>\n",
       "      <th>6</th>\n",
       "      <td>PTNR</td>\n",
       "      <td>Communication Services</td>\n",
       "      <td>Telecom Services</td>\n",
       "      <td>4.900000</td>\n",
       "      <td>5321</td>\n",
       "      <td>0.085296</td>\n",
       "      <td>9.002347e+08</td>\n",
       "      <td>0.085296</td>\n",
       "    </tr>\n",
       "    <tr>\n",
       "      <th>190</th>\n",
       "      <td>LOV</td>\n",
       "      <td>Communication Services</td>\n",
       "      <td>Internet Content &amp; Information</td>\n",
       "      <td>5.050000</td>\n",
       "      <td>65729</td>\n",
       "      <td>0.067383</td>\n",
       "      <td>1.313524e+08</td>\n",
       "      <td>0.067383</td>\n",
       "    </tr>\n",
       "    <tr>\n",
       "      <th>132</th>\n",
       "      <td>LIVX</td>\n",
       "      <td>Communication Services</td>\n",
       "      <td>Entertainment</td>\n",
       "      <td>3.800000</td>\n",
       "      <td>980786</td>\n",
       "      <td>0.015822</td>\n",
       "      <td>2.868186e+08</td>\n",
       "      <td>0.015822</td>\n",
       "    </tr>\n",
       "    <tr>\n",
       "      <th>82</th>\n",
       "      <td>BIDU</td>\n",
       "      <td>Communication Services</td>\n",
       "      <td>Internet Content &amp; Information</td>\n",
       "      <td>261.720001</td>\n",
       "      <td>15958337</td>\n",
       "      <td>0.386136</td>\n",
       "      <td>8.926632e+10</td>\n",
       "      <td>0.386136</td>\n",
       "    </tr>\n",
       "  </tbody>\n",
       "</table>\n",
       "</div>"
      ],
      "text/plain": [
       "    symbol                  sector                          industry  \\\n",
       "81     JHX         Basic Materials                Building Materials   \n",
       "167    LAC         Basic Materials  Other Industrial Metals & Mining   \n",
       "32    SEED         Basic Materials               Agricultural Inputs   \n",
       "72     IAG         Basic Materials                              Gold   \n",
       "34     DOW         Basic Materials                         Chemicals   \n",
       "61     EGO         Basic Materials                              Gold   \n",
       "6     PTNR  Communication Services                  Telecom Services   \n",
       "190    LOV  Communication Services    Internet Content & Information   \n",
       "132   LIVX  Communication Services                     Entertainment   \n",
       "82    BIDU  Communication Services    Internet Content & Information   \n",
       "\n",
       "          price  avg_volume  avg_spread    market_cap  avg_spread.1  \n",
       "81    28.969999       37828    0.178729  1.286753e+10      0.178729  \n",
       "167   14.910000     6719695    0.019649  1.780074e+09      0.019649  \n",
       "32    21.129999      201979    0.425445  1.201467e+08      0.425445  \n",
       "72     3.070000     5298035    0.010010  1.459221e+09      0.010010  \n",
       "34    62.910000     3883643    0.027066  4.688210e+10      0.027066  \n",
       "61    11.340000     1839050    0.010323  1.983722e+09      0.010323  \n",
       "6      4.900000        5321    0.085296  9.002347e+08      0.085296  \n",
       "190    5.050000       65729    0.067383  1.313524e+08      0.067383  \n",
       "132    3.800000      980786    0.015822  2.868186e+08      0.015822  \n",
       "82   261.720001    15958337    0.386136  8.926632e+10      0.386136  "
      ]
     },
     "execution_count": 106,
     "metadata": {},
     "output_type": "execute_result"
    }
   ],
   "source": [
    "#WE can sort the data by sector like this\n",
    "by_sector= stocks.sort_values('sector')\n",
    "by_sector.head(10)"
   ]
  },
  {
   "cell_type": "markdown",
   "metadata": {
    "iooxa": {
     "id": {
      "block": "4MBAddwrpZSMrsYRZ1mF",
      "project": "o8uCbOPb8iJK0GDallsV",
      "version": 1
     }
    }
   },
   "source": [
    "Sort by a single column in descending order: `df.sort_values(by='column_name', ascending=False)`"
   ]
  },
  {
   "cell_type": "code",
   "execution_count": 107,
   "metadata": {
    "iooxa": {
     "id": {
      "block": "YBGef7DRf2EHVzX68dp9",
      "project": "o8uCbOPb8iJK0GDallsV",
      "version": 2
     },
     "outputId": {
      "block": "naZiOh2lfwjy6un1bibL",
      "project": "o8uCbOPb8iJK0GDallsV",
      "version": 2
     }
    }
   },
   "outputs": [
    {
     "data": {
      "application/vnd.microsoft.datawrangler.viewer.v0+json": {
       "columns": [
        {
         "name": "index",
         "rawType": "int64",
         "type": "integer"
        },
        {
         "name": "symbol",
         "rawType": "object",
         "type": "string"
        },
        {
         "name": "sector",
         "rawType": "object",
         "type": "string"
        },
        {
         "name": "industry",
         "rawType": "object",
         "type": "string"
        },
        {
         "name": "price",
         "rawType": "float64",
         "type": "float"
        },
        {
         "name": "avg_volume",
         "rawType": "int64",
         "type": "integer"
        },
        {
         "name": "avg_spread",
         "rawType": "float64",
         "type": "float"
        },
        {
         "name": "market_cap",
         "rawType": "float64",
         "type": "float"
        },
        {
         "name": "avg_spread.1",
         "rawType": "float64",
         "type": "float"
        }
       ],
       "ref": "cdf434d3-dd7f-4405-aa95-2d9ff85e5bdc",
       "rows": [
        [
         "173",
         "HE",
         "Utilities",
         "Utilities—Regulated Electric",
         "37.24000168",
         "567132",
         "0.053228819",
         "4065905241.0",
         "0.053228819"
        ],
        [
         "67",
         "ES",
         "Utilities",
         "Utilities—Regulated Electric",
         "80.66000366",
         "2149467",
         "0.066848352",
         "27666652758.0",
         "0.066848352"
        ],
        [
         "195",
         "FE",
         "Utilities",
         "Utilities—Diversified",
         "33.20999908",
         "5516490",
         "0.0115161",
         "18040172642.0",
         "0.0115161"
        ],
        [
         "33",
         "RGCO",
         "Utilities",
         "Utilities—Regulated Gas",
         "23.29999924",
         "17575",
         "0.368738263",
         "191419722.4",
         "0.368738263"
        ],
        [
         "119",
         "SJW",
         "Utilities",
         "Utilities—Regulated Water",
         "62.56000137",
         "191183",
         "0.424575286",
         "1789179379.0",
         "0.424575286"
        ],
        [
         "109",
         "YORW",
         "Utilities",
         "Utilities—Regulated Water",
         "42.77000046",
         "53908",
         "0.43792024",
         "558146709.6",
         "0.43792024"
        ],
        [
         "25",
         "PEG",
         "Utilities",
         "Utilities—Diversified",
         "56.25999832",
         "2302709",
         "0.042702395",
         "28416536339.0",
         "0.042702395"
        ],
        [
         "104",
         "NTIP",
         "Technology",
         "Communication Equipment",
         "3.0",
         "49256",
         "0.04566787",
         "72099228.0",
         "0.04566787"
        ],
        [
         "28",
         "INVE",
         "Technology",
         "Computer Hardware",
         "10.97000027",
         "166966",
         "0.123582677",
         "197681324.6",
         "0.123582677"
        ],
        [
         "143",
         "NICE",
         "Technology",
         "Software—Application",
         "221.3999939",
         "499870",
         "0.64192139",
         "13888930394.0",
         "0.64192139"
        ]
       ],
       "shape": {
        "columns": 8,
        "rows": 10
       }
      },
      "text/html": [
       "<div>\n",
       "<style scoped>\n",
       "    .dataframe tbody tr th:only-of-type {\n",
       "        vertical-align: middle;\n",
       "    }\n",
       "\n",
       "    .dataframe tbody tr th {\n",
       "        vertical-align: top;\n",
       "    }\n",
       "\n",
       "    .dataframe thead th {\n",
       "        text-align: right;\n",
       "    }\n",
       "</style>\n",
       "<table border=\"1\" class=\"dataframe\">\n",
       "  <thead>\n",
       "    <tr style=\"text-align: right;\">\n",
       "      <th></th>\n",
       "      <th>symbol</th>\n",
       "      <th>sector</th>\n",
       "      <th>industry</th>\n",
       "      <th>price</th>\n",
       "      <th>avg_volume</th>\n",
       "      <th>avg_spread</th>\n",
       "      <th>market_cap</th>\n",
       "      <th>avg_spread.1</th>\n",
       "    </tr>\n",
       "  </thead>\n",
       "  <tbody>\n",
       "    <tr>\n",
       "      <th>173</th>\n",
       "      <td>HE</td>\n",
       "      <td>Utilities</td>\n",
       "      <td>Utilities—Regulated Electric</td>\n",
       "      <td>37.240002</td>\n",
       "      <td>567132</td>\n",
       "      <td>0.053229</td>\n",
       "      <td>4.065905e+09</td>\n",
       "      <td>0.053229</td>\n",
       "    </tr>\n",
       "    <tr>\n",
       "      <th>67</th>\n",
       "      <td>ES</td>\n",
       "      <td>Utilities</td>\n",
       "      <td>Utilities—Regulated Electric</td>\n",
       "      <td>80.660004</td>\n",
       "      <td>2149467</td>\n",
       "      <td>0.066848</td>\n",
       "      <td>2.766665e+10</td>\n",
       "      <td>0.066848</td>\n",
       "    </tr>\n",
       "    <tr>\n",
       "      <th>195</th>\n",
       "      <td>FE</td>\n",
       "      <td>Utilities</td>\n",
       "      <td>Utilities—Diversified</td>\n",
       "      <td>33.209999</td>\n",
       "      <td>5516490</td>\n",
       "      <td>0.011516</td>\n",
       "      <td>1.804017e+10</td>\n",
       "      <td>0.011516</td>\n",
       "    </tr>\n",
       "    <tr>\n",
       "      <th>33</th>\n",
       "      <td>RGCO</td>\n",
       "      <td>Utilities</td>\n",
       "      <td>Utilities—Regulated Gas</td>\n",
       "      <td>23.299999</td>\n",
       "      <td>17575</td>\n",
       "      <td>0.368738</td>\n",
       "      <td>1.914197e+08</td>\n",
       "      <td>0.368738</td>\n",
       "    </tr>\n",
       "    <tr>\n",
       "      <th>119</th>\n",
       "      <td>SJW</td>\n",
       "      <td>Utilities</td>\n",
       "      <td>Utilities—Regulated Water</td>\n",
       "      <td>62.560001</td>\n",
       "      <td>191183</td>\n",
       "      <td>0.424575</td>\n",
       "      <td>1.789179e+09</td>\n",
       "      <td>0.424575</td>\n",
       "    </tr>\n",
       "    <tr>\n",
       "      <th>109</th>\n",
       "      <td>YORW</td>\n",
       "      <td>Utilities</td>\n",
       "      <td>Utilities—Regulated Water</td>\n",
       "      <td>42.770000</td>\n",
       "      <td>53908</td>\n",
       "      <td>0.437920</td>\n",
       "      <td>5.581467e+08</td>\n",
       "      <td>0.437920</td>\n",
       "    </tr>\n",
       "    <tr>\n",
       "      <th>25</th>\n",
       "      <td>PEG</td>\n",
       "      <td>Utilities</td>\n",
       "      <td>Utilities—Diversified</td>\n",
       "      <td>56.259998</td>\n",
       "      <td>2302709</td>\n",
       "      <td>0.042702</td>\n",
       "      <td>2.841654e+10</td>\n",
       "      <td>0.042702</td>\n",
       "    </tr>\n",
       "    <tr>\n",
       "      <th>104</th>\n",
       "      <td>NTIP</td>\n",
       "      <td>Technology</td>\n",
       "      <td>Communication Equipment</td>\n",
       "      <td>3.000000</td>\n",
       "      <td>49256</td>\n",
       "      <td>0.045668</td>\n",
       "      <td>7.209923e+07</td>\n",
       "      <td>0.045668</td>\n",
       "    </tr>\n",
       "    <tr>\n",
       "      <th>28</th>\n",
       "      <td>INVE</td>\n",
       "      <td>Technology</td>\n",
       "      <td>Computer Hardware</td>\n",
       "      <td>10.970000</td>\n",
       "      <td>166966</td>\n",
       "      <td>0.123583</td>\n",
       "      <td>1.976813e+08</td>\n",
       "      <td>0.123583</td>\n",
       "    </tr>\n",
       "    <tr>\n",
       "      <th>143</th>\n",
       "      <td>NICE</td>\n",
       "      <td>Technology</td>\n",
       "      <td>Software—Application</td>\n",
       "      <td>221.399994</td>\n",
       "      <td>499870</td>\n",
       "      <td>0.641921</td>\n",
       "      <td>1.388893e+10</td>\n",
       "      <td>0.641921</td>\n",
       "    </tr>\n",
       "  </tbody>\n",
       "</table>\n",
       "</div>"
      ],
      "text/plain": [
       "    symbol      sector                      industry       price  avg_volume  \\\n",
       "173     HE   Utilities  Utilities—Regulated Electric   37.240002      567132   \n",
       "67      ES   Utilities  Utilities—Regulated Electric   80.660004     2149467   \n",
       "195     FE   Utilities         Utilities—Diversified   33.209999     5516490   \n",
       "33    RGCO   Utilities       Utilities—Regulated Gas   23.299999       17575   \n",
       "119    SJW   Utilities     Utilities—Regulated Water   62.560001      191183   \n",
       "109   YORW   Utilities     Utilities—Regulated Water   42.770000       53908   \n",
       "25     PEG   Utilities         Utilities—Diversified   56.259998     2302709   \n",
       "104   NTIP  Technology       Communication Equipment    3.000000       49256   \n",
       "28    INVE  Technology             Computer Hardware   10.970000      166966   \n",
       "143   NICE  Technology          Software—Application  221.399994      499870   \n",
       "\n",
       "     avg_spread    market_cap  avg_spread.1  \n",
       "173    0.053229  4.065905e+09      0.053229  \n",
       "67     0.066848  2.766665e+10      0.066848  \n",
       "195    0.011516  1.804017e+10      0.011516  \n",
       "33     0.368738  1.914197e+08      0.368738  \n",
       "119    0.424575  1.789179e+09      0.424575  \n",
       "109    0.437920  5.581467e+08      0.437920  \n",
       "25     0.042702  2.841654e+10      0.042702  \n",
       "104    0.045668  7.209923e+07      0.045668  \n",
       "28     0.123583  1.976813e+08      0.123583  \n",
       "143    0.641921  1.388893e+10      0.641921  "
      ]
     },
     "execution_count": 107,
     "metadata": {},
     "output_type": "execute_result"
    }
   ],
   "source": [
    "#Note that the sorting is ascending alphabetical order. If we want to sort in alphabetical descending order we do the following:\n",
    "by_sector= stocks.sort_values('sector', ascending = False)\n",
    "by_sector.head(10)"
   ]
  },
  {
   "cell_type": "code",
   "execution_count": 108,
   "metadata": {
    "iooxa": {
     "id": {
      "block": "H6GXdvfGPKREPN6l5sUF",
      "project": "o8uCbOPb8iJK0GDallsV",
      "version": 2
     },
     "outputId": {
      "block": "7Ka7IknAZaQOvWI387Za",
      "project": "o8uCbOPb8iJK0GDallsV",
      "version": 2
     }
    }
   },
   "outputs": [
    {
     "data": {
      "application/vnd.microsoft.datawrangler.viewer.v0+json": {
       "columns": [
        {
         "name": "index",
         "rawType": "int64",
         "type": "integer"
        },
        {
         "name": "symbol",
         "rawType": "object",
         "type": "string"
        },
        {
         "name": "sector",
         "rawType": "object",
         "type": "string"
        },
        {
         "name": "industry",
         "rawType": "object",
         "type": "string"
        },
        {
         "name": "price",
         "rawType": "float64",
         "type": "float"
        },
        {
         "name": "avg_volume",
         "rawType": "int64",
         "type": "integer"
        },
        {
         "name": "avg_spread",
         "rawType": "float64",
         "type": "float"
        },
        {
         "name": "market_cap",
         "rawType": "float64",
         "type": "float"
        },
        {
         "name": "avg_spread.1",
         "rawType": "float64",
         "type": "float"
        }
       ],
       "ref": "e805e3f9-7337-4dde-8284-bf5e67212992",
       "rows": [
        [
         "167",
         "LAC",
         "Basic Materials",
         "Other Industrial Metals & Mining",
         "14.90999985",
         "6719695",
         "0.019648828",
         "1780074450.0",
         "0.019648828"
        ],
        [
         "72",
         "IAG",
         "Basic Materials",
         "Gold",
         "3.069999933",
         "5298035",
         "0.010009591",
         "1459220629.0",
         "0.010009591"
        ],
        [
         "34",
         "DOW",
         "Basic Materials",
         "Chemicals",
         "62.90999985",
         "3883643",
         "0.027066203",
         "46882095703.0",
         "0.027066203"
        ],
        [
         "61",
         "EGO",
         "Basic Materials",
         "Gold",
         "11.34000015",
         "1839050",
         "0.010323001",
         "1983721887.0",
         "0.010323001"
        ],
        [
         "32",
         "SEED",
         "Basic Materials",
         "Agricultural Inputs",
         "21.12999916",
         "201979",
         "0.425444793",
         "120146717.7",
         "0.425444793"
        ],
        [
         "81",
         "JHX",
         "Basic Materials",
         "Building Materials",
         "28.96999931",
         "37828",
         "0.178728676",
         "12867531851.0",
         "0.178728676"
        ],
        [
         "82",
         "BIDU",
         "Communication Services",
         "Internet Content & Information",
         "261.7200012",
         "15958337",
         "0.386135559",
         "89266316917.0",
         "0.386135559"
        ],
        [
         "172",
         "VG",
         "Communication Services",
         "Telecom Services",
         "12.47999954",
         "4201110",
         "0.01099236",
         "3109168120.0",
         "0.01099236"
        ],
        [
         "132",
         "LIVX",
         "Communication Services",
         "Entertainment",
         "3.799999952",
         "980786",
         "0.015822101",
         "286818589.0",
         "0.015822101"
        ],
        [
         "190",
         "LOV",
         "Communication Services",
         "Internet Content & Information",
         "5.050000191",
         "65729",
         "0.067383089",
         "131352373.5",
         "0.067383089"
        ]
       ],
       "shape": {
        "columns": 8,
        "rows": 10
       }
      },
      "text/html": [
       "<div>\n",
       "<style scoped>\n",
       "    .dataframe tbody tr th:only-of-type {\n",
       "        vertical-align: middle;\n",
       "    }\n",
       "\n",
       "    .dataframe tbody tr th {\n",
       "        vertical-align: top;\n",
       "    }\n",
       "\n",
       "    .dataframe thead th {\n",
       "        text-align: right;\n",
       "    }\n",
       "</style>\n",
       "<table border=\"1\" class=\"dataframe\">\n",
       "  <thead>\n",
       "    <tr style=\"text-align: right;\">\n",
       "      <th></th>\n",
       "      <th>symbol</th>\n",
       "      <th>sector</th>\n",
       "      <th>industry</th>\n",
       "      <th>price</th>\n",
       "      <th>avg_volume</th>\n",
       "      <th>avg_spread</th>\n",
       "      <th>market_cap</th>\n",
       "      <th>avg_spread.1</th>\n",
       "    </tr>\n",
       "  </thead>\n",
       "  <tbody>\n",
       "    <tr>\n",
       "      <th>167</th>\n",
       "      <td>LAC</td>\n",
       "      <td>Basic Materials</td>\n",
       "      <td>Other Industrial Metals &amp; Mining</td>\n",
       "      <td>14.910000</td>\n",
       "      <td>6719695</td>\n",
       "      <td>0.019649</td>\n",
       "      <td>1.780074e+09</td>\n",
       "      <td>0.019649</td>\n",
       "    </tr>\n",
       "    <tr>\n",
       "      <th>72</th>\n",
       "      <td>IAG</td>\n",
       "      <td>Basic Materials</td>\n",
       "      <td>Gold</td>\n",
       "      <td>3.070000</td>\n",
       "      <td>5298035</td>\n",
       "      <td>0.010010</td>\n",
       "      <td>1.459221e+09</td>\n",
       "      <td>0.010010</td>\n",
       "    </tr>\n",
       "    <tr>\n",
       "      <th>34</th>\n",
       "      <td>DOW</td>\n",
       "      <td>Basic Materials</td>\n",
       "      <td>Chemicals</td>\n",
       "      <td>62.910000</td>\n",
       "      <td>3883643</td>\n",
       "      <td>0.027066</td>\n",
       "      <td>4.688210e+10</td>\n",
       "      <td>0.027066</td>\n",
       "    </tr>\n",
       "    <tr>\n",
       "      <th>61</th>\n",
       "      <td>EGO</td>\n",
       "      <td>Basic Materials</td>\n",
       "      <td>Gold</td>\n",
       "      <td>11.340000</td>\n",
       "      <td>1839050</td>\n",
       "      <td>0.010323</td>\n",
       "      <td>1.983722e+09</td>\n",
       "      <td>0.010323</td>\n",
       "    </tr>\n",
       "    <tr>\n",
       "      <th>32</th>\n",
       "      <td>SEED</td>\n",
       "      <td>Basic Materials</td>\n",
       "      <td>Agricultural Inputs</td>\n",
       "      <td>21.129999</td>\n",
       "      <td>201979</td>\n",
       "      <td>0.425445</td>\n",
       "      <td>1.201467e+08</td>\n",
       "      <td>0.425445</td>\n",
       "    </tr>\n",
       "    <tr>\n",
       "      <th>81</th>\n",
       "      <td>JHX</td>\n",
       "      <td>Basic Materials</td>\n",
       "      <td>Building Materials</td>\n",
       "      <td>28.969999</td>\n",
       "      <td>37828</td>\n",
       "      <td>0.178729</td>\n",
       "      <td>1.286753e+10</td>\n",
       "      <td>0.178729</td>\n",
       "    </tr>\n",
       "    <tr>\n",
       "      <th>82</th>\n",
       "      <td>BIDU</td>\n",
       "      <td>Communication Services</td>\n",
       "      <td>Internet Content &amp; Information</td>\n",
       "      <td>261.720001</td>\n",
       "      <td>15958337</td>\n",
       "      <td>0.386136</td>\n",
       "      <td>8.926632e+10</td>\n",
       "      <td>0.386136</td>\n",
       "    </tr>\n",
       "    <tr>\n",
       "      <th>172</th>\n",
       "      <td>VG</td>\n",
       "      <td>Communication Services</td>\n",
       "      <td>Telecom Services</td>\n",
       "      <td>12.480000</td>\n",
       "      <td>4201110</td>\n",
       "      <td>0.010992</td>\n",
       "      <td>3.109168e+09</td>\n",
       "      <td>0.010992</td>\n",
       "    </tr>\n",
       "    <tr>\n",
       "      <th>132</th>\n",
       "      <td>LIVX</td>\n",
       "      <td>Communication Services</td>\n",
       "      <td>Entertainment</td>\n",
       "      <td>3.800000</td>\n",
       "      <td>980786</td>\n",
       "      <td>0.015822</td>\n",
       "      <td>2.868186e+08</td>\n",
       "      <td>0.015822</td>\n",
       "    </tr>\n",
       "    <tr>\n",
       "      <th>190</th>\n",
       "      <td>LOV</td>\n",
       "      <td>Communication Services</td>\n",
       "      <td>Internet Content &amp; Information</td>\n",
       "      <td>5.050000</td>\n",
       "      <td>65729</td>\n",
       "      <td>0.067383</td>\n",
       "      <td>1.313524e+08</td>\n",
       "      <td>0.067383</td>\n",
       "    </tr>\n",
       "  </tbody>\n",
       "</table>\n",
       "</div>"
      ],
      "text/plain": [
       "    symbol                  sector                          industry  \\\n",
       "167    LAC         Basic Materials  Other Industrial Metals & Mining   \n",
       "72     IAG         Basic Materials                              Gold   \n",
       "34     DOW         Basic Materials                         Chemicals   \n",
       "61     EGO         Basic Materials                              Gold   \n",
       "32    SEED         Basic Materials               Agricultural Inputs   \n",
       "81     JHX         Basic Materials                Building Materials   \n",
       "82    BIDU  Communication Services    Internet Content & Information   \n",
       "172     VG  Communication Services                  Telecom Services   \n",
       "132   LIVX  Communication Services                     Entertainment   \n",
       "190    LOV  Communication Services    Internet Content & Information   \n",
       "\n",
       "          price  avg_volume  avg_spread    market_cap  avg_spread.1  \n",
       "167   14.910000     6719695    0.019649  1.780074e+09      0.019649  \n",
       "72     3.070000     5298035    0.010010  1.459221e+09      0.010010  \n",
       "34    62.910000     3883643    0.027066  4.688210e+10      0.027066  \n",
       "61    11.340000     1839050    0.010323  1.983722e+09      0.010323  \n",
       "32    21.129999      201979    0.425445  1.201467e+08      0.425445  \n",
       "81    28.969999       37828    0.178729  1.286753e+10      0.178729  \n",
       "82   261.720001    15958337    0.386136  8.926632e+10      0.386136  \n",
       "172   12.480000     4201110    0.010992  3.109168e+09      0.010992  \n",
       "132    3.800000      980786    0.015822  2.868186e+08      0.015822  \n",
       "190    5.050000       65729    0.067383  1.313524e+08      0.067383  "
      ]
     },
     "execution_count": 108,
     "metadata": {},
     "output_type": "execute_result"
    }
   ],
   "source": [
    "#We can also sort the data by two columns. Her we sort the data by sector and avg_volume\n",
    "by_sector_volume= stocks.sort_values(['sector', 'avg_volume'], ascending =[True, False] )\n",
    "by_sector_volume.head(10)"
   ]
  },
  {
   "cell_type": "markdown",
   "metadata": {
    "iooxa": {
     "id": {
      "block": "h324nx6T0MCdJhC2bQWF",
      "project": "o8uCbOPb8iJK0GDallsV",
      "version": 1
     }
    }
   },
   "source": [
    "## **Accessing Column Data**"
   ]
  },
  {
   "cell_type": "code",
   "execution_count": 109,
   "metadata": {
    "iooxa": {
     "id": {
      "block": "8UFcJEOh8p1bL3Lv0AuL",
      "project": "o8uCbOPb8iJK0GDallsV",
      "version": 2
     },
     "outputId": {
      "block": "g88FIOFhSx84ah41gcUu",
      "project": "o8uCbOPb8iJK0GDallsV",
      "version": 2
     }
    }
   },
   "outputs": [
    {
     "data": {
      "application/vnd.microsoft.datawrangler.viewer.v0+json": {
       "columns": [
        {
         "name": "index",
         "rawType": "int64",
         "type": "integer"
        },
        {
         "name": "price",
         "rawType": "float64",
         "type": "float"
        }
       ],
       "ref": "93d54962-c461-4cc4-a291-3f68bdc21c72",
       "rows": [
        [
         "0",
         "3.48"
        ],
        [
         "1",
         "1.789999962"
        ],
        [
         "2",
         "43.95000076"
        ],
        [
         "3",
         "153.0"
        ],
        [
         "4",
         "76.91999817"
        ],
        [
         "5",
         "34.06000137"
        ],
        [
         "6",
         "4.900000095"
        ],
        [
         "7",
         "21.02000046"
        ],
        [
         "8",
         "9.399999619"
        ],
        [
         "9",
         "47.99000168"
        ],
        [
         "10",
         "5.380000114"
        ],
        [
         "11",
         "19.88999939"
        ],
        [
         "12",
         "15.63000011"
        ],
        [
         "13",
         "42.54000092"
        ],
        [
         "14",
         "8.220000267"
        ],
        [
         "15",
         "42.88999939"
        ],
        [
         "16",
         "18.61000061"
        ],
        [
         "17",
         "42.59999847"
        ],
        [
         "18",
         "167.9400024"
        ],
        [
         "19",
         "12.43999958"
        ],
        [
         "20",
         "28.76000023"
        ],
        [
         "21",
         "1.710000038"
        ],
        [
         "22",
         "15.22500038"
        ],
        [
         "23",
         "20.18000031"
        ],
        [
         "24",
         "38.95000076"
        ],
        [
         "25",
         "56.25999832"
        ],
        [
         "26",
         "2.170000076"
        ],
        [
         "27",
         "98.45999908"
        ],
        [
         "28",
         "10.97000027"
        ],
        [
         "29",
         "48.13000107"
        ],
        [
         "30",
         "44.66999817"
        ],
        [
         "31",
         "16.90500069"
        ],
        [
         "32",
         "21.12999916"
        ],
        [
         "33",
         "23.29999924"
        ],
        [
         "34",
         "62.90999985"
        ],
        [
         "35",
         "36.72000122"
        ],
        [
         "36",
         "10.02999973"
        ],
        [
         "37",
         "4.460000038"
        ],
        [
         "38",
         "10.23999977"
        ],
        [
         "39",
         "14.81999969"
        ],
        [
         "40",
         "11.28999996"
        ],
        [
         "41",
         "10.25"
        ],
        [
         "42",
         "31.85000038"
        ],
        [
         "43",
         "17.54000092"
        ],
        [
         "44",
         "137.25"
        ],
        [
         "45",
         "2.380000114"
        ],
        [
         "46",
         "10.27999973"
        ],
        [
         "47",
         "27.47999954"
        ],
        [
         "48",
         "8.300000191"
        ],
        [
         "49",
         "17.39999962"
        ]
       ],
       "shape": {
        "columns": 1,
        "rows": 192
       }
      },
      "text/plain": [
       "0        3.480000\n",
       "1        1.790000\n",
       "2       43.950001\n",
       "3      153.000000\n",
       "4       76.919998\n",
       "          ...    \n",
       "195     33.209999\n",
       "196      1.440000\n",
       "197    168.119995\n",
       "198     48.810001\n",
       "199     10.600000\n",
       "Name: price, Length: 192, dtype: float64"
      ]
     },
     "execution_count": 109,
     "metadata": {},
     "output_type": "execute_result"
    }
   ],
   "source": [
    "## if you want to zoom on certain column, \n",
    "stocks ['price']"
   ]
  },
  {
   "cell_type": "code",
   "execution_count": 110,
   "metadata": {
    "iooxa": {
     "id": {
      "block": "NoE6qmkEUvh1fRDmxyNR",
      "project": "o8uCbOPb8iJK0GDallsV",
      "version": 1
     },
     "outputId": null
    }
   },
   "outputs": [],
   "source": [
    "##subseting DataFrame by extracting specific columns"
   ]
  },
  {
   "cell_type": "markdown",
   "metadata": {
    "iooxa": {
     "id": {
      "block": "8SyxpANk7oJAKqMlUQCz",
      "project": "o8uCbOPb8iJK0GDallsV",
      "version": 1
     }
    }
   },
   "source": [
    "## **DataFrame Subset**"
   ]
  },
  {
   "cell_type": "code",
   "execution_count": 111,
   "metadata": {
    "iooxa": {
     "id": {
      "block": "2eIaUa7VYcJFt4tY36Sn",
      "project": "o8uCbOPb8iJK0GDallsV",
      "version": 2
     },
     "outputId": {
      "block": "xyt2NkUJYx7GC3Oez6RU",
      "project": "o8uCbOPb8iJK0GDallsV",
      "version": 2
     }
    }
   },
   "outputs": [
    {
     "data": {
      "application/vnd.microsoft.datawrangler.viewer.v0+json": {
       "columns": [
        {
         "name": "index",
         "rawType": "int64",
         "type": "integer"
        },
        {
         "name": "symbol",
         "rawType": "object",
         "type": "string"
        },
        {
         "name": "price",
         "rawType": "float64",
         "type": "float"
        },
        {
         "name": "avg_volume",
         "rawType": "int64",
         "type": "integer"
        }
       ],
       "ref": "8b5103d1-d9c8-4770-b3e5-7e06e2e7cbff",
       "rows": [
        [
         "0",
         "CPAH",
         "3.48",
         "74600"
        ],
        [
         "1",
         "NBRV",
         "1.789999962",
         "3468270"
        ],
        [
         "2",
         "VCRA",
         "43.95000076",
         "722431"
        ],
        [
         "3",
         "MKSI",
         "153.0",
         "590971"
        ],
        [
         "4",
         "RHI",
         "76.91999817",
         "1287779"
        ]
       ],
       "shape": {
        "columns": 3,
        "rows": 5
       }
      },
      "text/html": [
       "<div>\n",
       "<style scoped>\n",
       "    .dataframe tbody tr th:only-of-type {\n",
       "        vertical-align: middle;\n",
       "    }\n",
       "\n",
       "    .dataframe tbody tr th {\n",
       "        vertical-align: top;\n",
       "    }\n",
       "\n",
       "    .dataframe thead th {\n",
       "        text-align: right;\n",
       "    }\n",
       "</style>\n",
       "<table border=\"1\" class=\"dataframe\">\n",
       "  <thead>\n",
       "    <tr style=\"text-align: right;\">\n",
       "      <th></th>\n",
       "      <th>symbol</th>\n",
       "      <th>price</th>\n",
       "      <th>avg_volume</th>\n",
       "    </tr>\n",
       "  </thead>\n",
       "  <tbody>\n",
       "    <tr>\n",
       "      <th>0</th>\n",
       "      <td>CPAH</td>\n",
       "      <td>3.480000</td>\n",
       "      <td>74600</td>\n",
       "    </tr>\n",
       "    <tr>\n",
       "      <th>1</th>\n",
       "      <td>NBRV</td>\n",
       "      <td>1.790000</td>\n",
       "      <td>3468270</td>\n",
       "    </tr>\n",
       "    <tr>\n",
       "      <th>2</th>\n",
       "      <td>VCRA</td>\n",
       "      <td>43.950001</td>\n",
       "      <td>722431</td>\n",
       "    </tr>\n",
       "    <tr>\n",
       "      <th>3</th>\n",
       "      <td>MKSI</td>\n",
       "      <td>153.000000</td>\n",
       "      <td>590971</td>\n",
       "    </tr>\n",
       "    <tr>\n",
       "      <th>4</th>\n",
       "      <td>RHI</td>\n",
       "      <td>76.919998</td>\n",
       "      <td>1287779</td>\n",
       "    </tr>\n",
       "  </tbody>\n",
       "</table>\n",
       "</div>"
      ],
      "text/plain": [
       "  symbol       price  avg_volume\n",
       "0   CPAH    3.480000       74600\n",
       "1   NBRV    1.790000     3468270\n",
       "2   VCRA   43.950001      722431\n",
       "3   MKSI  153.000000      590971\n",
       "4    RHI   76.919998     1287779"
      ]
     },
     "execution_count": 111,
     "metadata": {},
     "output_type": "execute_result"
    }
   ],
   "source": [
    "col_subset= stocks [['symbol','price' , 'avg_volume']]\n",
    "col_subset.head()"
   ]
  },
  {
   "cell_type": "markdown",
   "metadata": {
    "iooxa": {
     "id": {
      "block": "Pw6QSF94Z1PQfOzr8QtP",
      "project": "o8uCbOPb8iJK0GDallsV",
      "version": 1
     }
    }
   },
   "source": [
    "Subset using Boolean Condition, the code below creates a **subset of the DataFrame** `stocks` containing only the rows where the `price` column has values greater than 100:"
   ]
  },
  {
   "cell_type": "code",
   "execution_count": 112,
   "metadata": {
    "iooxa": {
     "id": {
      "block": "SrRo3LiN0JhTRj10WHjm",
      "project": "o8uCbOPb8iJK0GDallsV",
      "version": 1
     },
     "outputId": {
      "block": "pWDGzwrlNCAFKIoKbpXU",
      "project": "o8uCbOPb8iJK0GDallsV",
      "version": 1
     }
    }
   },
   "outputs": [
    {
     "name": "stdout",
     "output_type": "stream",
     "text": [
      "(192, 8) (20, 8)\n"
     ]
    }
   ],
   "source": [
    "##Subsetting by Rows.\n",
    "price_mth_100 = stocks[ stocks['price'] > 100 ]\n",
    "print( stocks.shape, price_mth_100.shape )"
   ]
  },
  {
   "cell_type": "code",
   "execution_count": 113,
   "metadata": {
    "iooxa": {
     "id": {
      "block": "82qYvMZp5VsXtI9ygxv6",
      "project": "o8uCbOPb8iJK0GDallsV",
      "version": 2
     },
     "outputId": {
      "block": "CuTDCk5pUYlM7HNGVaF5",
      "project": "o8uCbOPb8iJK0GDallsV",
      "version": 2
     }
    }
   },
   "outputs": [
    {
     "data": {
      "application/vnd.microsoft.datawrangler.viewer.v0+json": {
       "columns": [
        {
         "name": "index",
         "rawType": "int64",
         "type": "integer"
        },
        {
         "name": "symbol",
         "rawType": "object",
         "type": "string"
        },
        {
         "name": "sector",
         "rawType": "object",
         "type": "string"
        },
        {
         "name": "industry",
         "rawType": "object",
         "type": "string"
        },
        {
         "name": "price",
         "rawType": "float64",
         "type": "float"
        },
        {
         "name": "avg_volume",
         "rawType": "int64",
         "type": "integer"
        },
        {
         "name": "avg_spread",
         "rawType": "float64",
         "type": "float"
        },
        {
         "name": "market_cap",
         "rawType": "float64",
         "type": "float"
        },
        {
         "name": "avg_spread.1",
         "rawType": "float64",
         "type": "float"
        }
       ],
       "ref": "709dd6fb-22e0-493a-a1e1-8faf849501d0",
       "rows": [
        [
         "3",
         "MKSI",
         "Technology",
         "Scientific & Technical Instruments",
         "153.0",
         "590971",
         "0.57398596",
         "8448984054.0",
         "0.57398596"
        ],
        [
         "18",
         "TXN",
         "Technology",
         "Semiconductors",
         "167.9400024",
         "5680740",
         "0.101547941",
         "155000000000.0",
         "0.101547941"
        ],
        [
         "44",
         "ZLAB",
         "Healthcare",
         "Biotechnology",
         "137.25",
         "345571",
         "0.657890909",
         "12159299077.0",
         "0.657890909"
        ],
        [
         "50",
         "NVCR",
         "Healthcare",
         "Medical Instruments & Supplies",
         "129.2799988",
         "1206323",
         "0.500961327",
         "13239789364.0",
         "0.500961327"
        ],
        [
         "52",
         "CIGI",
         "Real Estate",
         "Real Estate Services",
         "104.8499985",
         "67271",
         "0.62186475",
         "4221236160.0",
         "0.62186475"
        ],
        [
         "77",
         "NXPI",
         "Technology",
         "Semiconductors",
         "180.8999939",
         "5076308",
         "0.31249611",
         "50110781508.0",
         "0.31249611"
        ],
        [
         "82",
         "BIDU",
         "Communication Services",
         "Internet Content & Information",
         "261.7200012",
         "15958337",
         "0.386135559",
         "89266316917.0",
         "0.386135559"
        ],
        [
         "93",
         "NKE",
         "Consumer Cyclical",
         "Footwear & Accessories",
         "133.3500061",
         "5956999",
         "0.05040159",
         "210000000000.0",
         "0.05040159"
        ],
        [
         "99",
         "CDW",
         "Technology",
         "Information Technology Services",
         "154.4799957",
         "891174",
         "0.21100579",
         "21780303753.0",
         "0.21100579"
        ],
        [
         "108",
         "AMT",
         "Real Estate",
         "REIT—Specialty",
         "200.0",
         "3455754",
         "0.149793678",
         "88876887400.0",
         "0.149793678"
        ],
        [
         "113",
         "EXAS",
         "Healthcare",
         "Diagnostics & Research",
         "121.6399994",
         "3017998",
         "0.347735362",
         "20568492122.0",
         "0.347735362"
        ],
        [
         "126",
         "HRC",
         "Healthcare",
         "Medical Instruments & Supplies",
         "104.1800003",
         "335439",
         "0.18386563",
         "6913597973.0",
         "0.18386563"
        ],
        [
         "139",
         "RBC",
         "Industrials",
         "Specialty Industrial Machinery",
         "138.6999969",
         "445892",
         "0.384969803",
         "5633845606.0",
         "0.384969803"
        ],
        [
         "143",
         "NICE",
         "Technology",
         "Software—Application",
         "221.3999939",
         "499870",
         "0.64192139",
         "13888930394.0",
         "0.64192139"
        ],
        [
         "176",
         "UTHR",
         "Healthcare",
         "Biotechnology",
         "164.3399963",
         "502195",
         "0.611590113",
         "7320415851.0",
         "0.611590113"
        ],
        [
         "185",
         "VRTX",
         "Healthcare",
         "Biotechnology",
         "211.9799957",
         "1704827",
         "0.259628445",
         "55106332832.0",
         "0.259628445"
        ],
        [
         "186",
         "SPG",
         "Real Estate",
         "REIT—Retail",
         "111.1699982",
         "4575100",
         "0.089717913",
         "36519501815.0",
         "0.089717913"
        ],
        [
         "192",
         "FRPT",
         "Consumer Defensive",
         "Packaged Foods",
         "139.3600006",
         "534759",
         "0.574796879",
         "6011876848.0",
         "0.574796879"
        ],
        [
         "194",
         "TER",
         "Technology",
         "Semiconductor Equipment & Materials",
         "113.9000015",
         "3451640",
         "0.162954746",
         "18986534785.0",
         "0.162954746"
        ],
        [
         "197",
         "VRSK",
         "Industrials",
         "Consulting Services",
         "168.1199951",
         "1922759",
         "0.147463882",
         "27368520139.0",
         "0.147463882"
        ]
       ],
       "shape": {
        "columns": 8,
        "rows": 20
       }
      },
      "text/html": [
       "<div>\n",
       "<style scoped>\n",
       "    .dataframe tbody tr th:only-of-type {\n",
       "        vertical-align: middle;\n",
       "    }\n",
       "\n",
       "    .dataframe tbody tr th {\n",
       "        vertical-align: top;\n",
       "    }\n",
       "\n",
       "    .dataframe thead th {\n",
       "        text-align: right;\n",
       "    }\n",
       "</style>\n",
       "<table border=\"1\" class=\"dataframe\">\n",
       "  <thead>\n",
       "    <tr style=\"text-align: right;\">\n",
       "      <th></th>\n",
       "      <th>symbol</th>\n",
       "      <th>sector</th>\n",
       "      <th>industry</th>\n",
       "      <th>price</th>\n",
       "      <th>avg_volume</th>\n",
       "      <th>avg_spread</th>\n",
       "      <th>market_cap</th>\n",
       "      <th>avg_spread.1</th>\n",
       "    </tr>\n",
       "  </thead>\n",
       "  <tbody>\n",
       "    <tr>\n",
       "      <th>3</th>\n",
       "      <td>MKSI</td>\n",
       "      <td>Technology</td>\n",
       "      <td>Scientific &amp; Technical Instruments</td>\n",
       "      <td>153.000000</td>\n",
       "      <td>590971</td>\n",
       "      <td>0.573986</td>\n",
       "      <td>8.448984e+09</td>\n",
       "      <td>0.573986</td>\n",
       "    </tr>\n",
       "    <tr>\n",
       "      <th>18</th>\n",
       "      <td>TXN</td>\n",
       "      <td>Technology</td>\n",
       "      <td>Semiconductors</td>\n",
       "      <td>167.940002</td>\n",
       "      <td>5680740</td>\n",
       "      <td>0.101548</td>\n",
       "      <td>1.550000e+11</td>\n",
       "      <td>0.101548</td>\n",
       "    </tr>\n",
       "    <tr>\n",
       "      <th>44</th>\n",
       "      <td>ZLAB</td>\n",
       "      <td>Healthcare</td>\n",
       "      <td>Biotechnology</td>\n",
       "      <td>137.250000</td>\n",
       "      <td>345571</td>\n",
       "      <td>0.657891</td>\n",
       "      <td>1.215930e+10</td>\n",
       "      <td>0.657891</td>\n",
       "    </tr>\n",
       "    <tr>\n",
       "      <th>50</th>\n",
       "      <td>NVCR</td>\n",
       "      <td>Healthcare</td>\n",
       "      <td>Medical Instruments &amp; Supplies</td>\n",
       "      <td>129.279999</td>\n",
       "      <td>1206323</td>\n",
       "      <td>0.500961</td>\n",
       "      <td>1.323979e+10</td>\n",
       "      <td>0.500961</td>\n",
       "    </tr>\n",
       "    <tr>\n",
       "      <th>52</th>\n",
       "      <td>CIGI</td>\n",
       "      <td>Real Estate</td>\n",
       "      <td>Real Estate Services</td>\n",
       "      <td>104.849998</td>\n",
       "      <td>67271</td>\n",
       "      <td>0.621865</td>\n",
       "      <td>4.221236e+09</td>\n",
       "      <td>0.621865</td>\n",
       "    </tr>\n",
       "    <tr>\n",
       "      <th>77</th>\n",
       "      <td>NXPI</td>\n",
       "      <td>Technology</td>\n",
       "      <td>Semiconductors</td>\n",
       "      <td>180.899994</td>\n",
       "      <td>5076308</td>\n",
       "      <td>0.312496</td>\n",
       "      <td>5.011078e+10</td>\n",
       "      <td>0.312496</td>\n",
       "    </tr>\n",
       "    <tr>\n",
       "      <th>82</th>\n",
       "      <td>BIDU</td>\n",
       "      <td>Communication Services</td>\n",
       "      <td>Internet Content &amp; Information</td>\n",
       "      <td>261.720001</td>\n",
       "      <td>15958337</td>\n",
       "      <td>0.386136</td>\n",
       "      <td>8.926632e+10</td>\n",
       "      <td>0.386136</td>\n",
       "    </tr>\n",
       "    <tr>\n",
       "      <th>93</th>\n",
       "      <td>NKE</td>\n",
       "      <td>Consumer Cyclical</td>\n",
       "      <td>Footwear &amp; Accessories</td>\n",
       "      <td>133.350006</td>\n",
       "      <td>5956999</td>\n",
       "      <td>0.050402</td>\n",
       "      <td>2.100000e+11</td>\n",
       "      <td>0.050402</td>\n",
       "    </tr>\n",
       "    <tr>\n",
       "      <th>99</th>\n",
       "      <td>CDW</td>\n",
       "      <td>Technology</td>\n",
       "      <td>Information Technology Services</td>\n",
       "      <td>154.479996</td>\n",
       "      <td>891174</td>\n",
       "      <td>0.211006</td>\n",
       "      <td>2.178030e+10</td>\n",
       "      <td>0.211006</td>\n",
       "    </tr>\n",
       "    <tr>\n",
       "      <th>108</th>\n",
       "      <td>AMT</td>\n",
       "      <td>Real Estate</td>\n",
       "      <td>REIT—Specialty</td>\n",
       "      <td>200.000000</td>\n",
       "      <td>3455754</td>\n",
       "      <td>0.149794</td>\n",
       "      <td>8.887689e+10</td>\n",
       "      <td>0.149794</td>\n",
       "    </tr>\n",
       "    <tr>\n",
       "      <th>113</th>\n",
       "      <td>EXAS</td>\n",
       "      <td>Healthcare</td>\n",
       "      <td>Diagnostics &amp; Research</td>\n",
       "      <td>121.639999</td>\n",
       "      <td>3017998</td>\n",
       "      <td>0.347735</td>\n",
       "      <td>2.056849e+10</td>\n",
       "      <td>0.347735</td>\n",
       "    </tr>\n",
       "    <tr>\n",
       "      <th>126</th>\n",
       "      <td>HRC</td>\n",
       "      <td>Healthcare</td>\n",
       "      <td>Medical Instruments &amp; Supplies</td>\n",
       "      <td>104.180000</td>\n",
       "      <td>335439</td>\n",
       "      <td>0.183866</td>\n",
       "      <td>6.913598e+09</td>\n",
       "      <td>0.183866</td>\n",
       "    </tr>\n",
       "    <tr>\n",
       "      <th>139</th>\n",
       "      <td>RBC</td>\n",
       "      <td>Industrials</td>\n",
       "      <td>Specialty Industrial Machinery</td>\n",
       "      <td>138.699997</td>\n",
       "      <td>445892</td>\n",
       "      <td>0.384970</td>\n",
       "      <td>5.633846e+09</td>\n",
       "      <td>0.384970</td>\n",
       "    </tr>\n",
       "    <tr>\n",
       "      <th>143</th>\n",
       "      <td>NICE</td>\n",
       "      <td>Technology</td>\n",
       "      <td>Software—Application</td>\n",
       "      <td>221.399994</td>\n",
       "      <td>499870</td>\n",
       "      <td>0.641921</td>\n",
       "      <td>1.388893e+10</td>\n",
       "      <td>0.641921</td>\n",
       "    </tr>\n",
       "    <tr>\n",
       "      <th>176</th>\n",
       "      <td>UTHR</td>\n",
       "      <td>Healthcare</td>\n",
       "      <td>Biotechnology</td>\n",
       "      <td>164.339996</td>\n",
       "      <td>502195</td>\n",
       "      <td>0.611590</td>\n",
       "      <td>7.320416e+09</td>\n",
       "      <td>0.611590</td>\n",
       "    </tr>\n",
       "    <tr>\n",
       "      <th>185</th>\n",
       "      <td>VRTX</td>\n",
       "      <td>Healthcare</td>\n",
       "      <td>Biotechnology</td>\n",
       "      <td>211.979996</td>\n",
       "      <td>1704827</td>\n",
       "      <td>0.259628</td>\n",
       "      <td>5.510633e+10</td>\n",
       "      <td>0.259628</td>\n",
       "    </tr>\n",
       "    <tr>\n",
       "      <th>186</th>\n",
       "      <td>SPG</td>\n",
       "      <td>Real Estate</td>\n",
       "      <td>REIT—Retail</td>\n",
       "      <td>111.169998</td>\n",
       "      <td>4575100</td>\n",
       "      <td>0.089718</td>\n",
       "      <td>3.651950e+10</td>\n",
       "      <td>0.089718</td>\n",
       "    </tr>\n",
       "    <tr>\n",
       "      <th>192</th>\n",
       "      <td>FRPT</td>\n",
       "      <td>Consumer Defensive</td>\n",
       "      <td>Packaged Foods</td>\n",
       "      <td>139.360001</td>\n",
       "      <td>534759</td>\n",
       "      <td>0.574797</td>\n",
       "      <td>6.011877e+09</td>\n",
       "      <td>0.574797</td>\n",
       "    </tr>\n",
       "    <tr>\n",
       "      <th>194</th>\n",
       "      <td>TER</td>\n",
       "      <td>Technology</td>\n",
       "      <td>Semiconductor Equipment &amp; Materials</td>\n",
       "      <td>113.900002</td>\n",
       "      <td>3451640</td>\n",
       "      <td>0.162955</td>\n",
       "      <td>1.898653e+10</td>\n",
       "      <td>0.162955</td>\n",
       "    </tr>\n",
       "    <tr>\n",
       "      <th>197</th>\n",
       "      <td>VRSK</td>\n",
       "      <td>Industrials</td>\n",
       "      <td>Consulting Services</td>\n",
       "      <td>168.119995</td>\n",
       "      <td>1922759</td>\n",
       "      <td>0.147464</td>\n",
       "      <td>2.736852e+10</td>\n",
       "      <td>0.147464</td>\n",
       "    </tr>\n",
       "  </tbody>\n",
       "</table>\n",
       "</div>"
      ],
      "text/plain": [
       "    symbol                  sector                             industry  \\\n",
       "3     MKSI              Technology   Scientific & Technical Instruments   \n",
       "18     TXN              Technology                       Semiconductors   \n",
       "44    ZLAB              Healthcare                        Biotechnology   \n",
       "50    NVCR              Healthcare       Medical Instruments & Supplies   \n",
       "52    CIGI             Real Estate                 Real Estate Services   \n",
       "77    NXPI              Technology                       Semiconductors   \n",
       "82    BIDU  Communication Services       Internet Content & Information   \n",
       "93     NKE       Consumer Cyclical               Footwear & Accessories   \n",
       "99     CDW              Technology      Information Technology Services   \n",
       "108    AMT             Real Estate                       REIT—Specialty   \n",
       "113   EXAS              Healthcare               Diagnostics & Research   \n",
       "126    HRC              Healthcare       Medical Instruments & Supplies   \n",
       "139    RBC             Industrials       Specialty Industrial Machinery   \n",
       "143   NICE              Technology                 Software—Application   \n",
       "176   UTHR              Healthcare                        Biotechnology   \n",
       "185   VRTX              Healthcare                        Biotechnology   \n",
       "186    SPG             Real Estate                          REIT—Retail   \n",
       "192   FRPT      Consumer Defensive                       Packaged Foods   \n",
       "194    TER              Technology  Semiconductor Equipment & Materials   \n",
       "197   VRSK             Industrials                  Consulting Services   \n",
       "\n",
       "          price  avg_volume  avg_spread    market_cap  avg_spread.1  \n",
       "3    153.000000      590971    0.573986  8.448984e+09      0.573986  \n",
       "18   167.940002     5680740    0.101548  1.550000e+11      0.101548  \n",
       "44   137.250000      345571    0.657891  1.215930e+10      0.657891  \n",
       "50   129.279999     1206323    0.500961  1.323979e+10      0.500961  \n",
       "52   104.849998       67271    0.621865  4.221236e+09      0.621865  \n",
       "77   180.899994     5076308    0.312496  5.011078e+10      0.312496  \n",
       "82   261.720001    15958337    0.386136  8.926632e+10      0.386136  \n",
       "93   133.350006     5956999    0.050402  2.100000e+11      0.050402  \n",
       "99   154.479996      891174    0.211006  2.178030e+10      0.211006  \n",
       "108  200.000000     3455754    0.149794  8.887689e+10      0.149794  \n",
       "113  121.639999     3017998    0.347735  2.056849e+10      0.347735  \n",
       "126  104.180000      335439    0.183866  6.913598e+09      0.183866  \n",
       "139  138.699997      445892    0.384970  5.633846e+09      0.384970  \n",
       "143  221.399994      499870    0.641921  1.388893e+10      0.641921  \n",
       "176  164.339996      502195    0.611590  7.320416e+09      0.611590  \n",
       "185  211.979996     1704827    0.259628  5.510633e+10      0.259628  \n",
       "186  111.169998     4575100    0.089718  3.651950e+10      0.089718  \n",
       "192  139.360001      534759    0.574797  6.011877e+09      0.574797  \n",
       "194  113.900002     3451640    0.162955  1.898653e+10      0.162955  \n",
       "197  168.119995     1922759    0.147464  2.736852e+10      0.147464  "
      ]
     },
     "execution_count": 113,
     "metadata": {},
     "output_type": "execute_result"
    }
   ],
   "source": [
    "price_mth_100"
   ]
  },
  {
   "cell_type": "markdown",
   "metadata": {
    "iooxa": {
     "id": {
      "block": "0OTtWDs29hNiZAQG4CjM",
      "project": "o8uCbOPb8iJK0GDallsV",
      "version": 1
     }
    }
   },
   "source": [
    "## **Filtering the DataFrame**"
   ]
  },
  {
   "cell_type": "code",
   "execution_count": 114,
   "metadata": {
    "iooxa": {
     "id": {
      "block": "7Q2m7BA82gcW9clBRLDX",
      "project": "o8uCbOPb8iJK0GDallsV",
      "version": 2
     },
     "outputId": {
      "block": "fObONY7xNUGsCRlPT4A7",
      "project": "o8uCbOPb8iJK0GDallsV",
      "version": 2
     }
    }
   },
   "outputs": [
    {
     "data": {
      "application/vnd.microsoft.datawrangler.viewer.v0+json": {
       "columns": [
        {
         "name": "index",
         "rawType": "int64",
         "type": "integer"
        },
        {
         "name": "symbol",
         "rawType": "object",
         "type": "string"
        },
        {
         "name": "sector",
         "rawType": "object",
         "type": "string"
        },
        {
         "name": "industry",
         "rawType": "object",
         "type": "string"
        },
        {
         "name": "price",
         "rawType": "float64",
         "type": "float"
        },
        {
         "name": "avg_volume",
         "rawType": "int64",
         "type": "integer"
        },
        {
         "name": "avg_spread",
         "rawType": "float64",
         "type": "float"
        },
        {
         "name": "market_cap",
         "rawType": "float64",
         "type": "float"
        },
        {
         "name": "avg_spread.1",
         "rawType": "float64",
         "type": "float"
        }
       ],
       "ref": "f6a14843-fce7-4e57-a2c0-72a980197999",
       "rows": [
        [
         "5",
         "CSV",
         "Consumer Cyclical",
         "Personal Services",
         "34.06000137",
         "114940",
         "0.173779993",
         "612900085.7",
         "0.173779993"
        ],
        [
         "49",
         "CAL",
         "Consumer Cyclical",
         "Footwear & Accessories",
         "17.39999962",
         "370520",
         "0.08243631",
         "659577609.5",
         "0.08243631"
        ],
        [
         "55",
         "KNDI",
         "Consumer Cyclical",
         "Auto Parts",
         "6.099999905",
         "5089359",
         "0.011299605",
         "441503078.6",
         "0.011299605"
        ],
        [
         "57",
         "PLYA",
         "Consumer Cyclical",
         "Resorts & Casinos",
         "6.849999905",
         "2487091",
         "0.011670765",
         "1123602573.0",
         "0.011670765"
        ],
        [
         "62",
         "PRTY",
         "Consumer Cyclical",
         "Specialty Retail",
         "7.460000038",
         "2621153",
         "0.01381178",
         "825420283.2",
         "0.01381178"
        ],
        [
         "93",
         "NKE",
         "Consumer Cyclical",
         "Footwear & Accessories",
         "133.3500061",
         "5956999",
         "0.05040159",
         "210000000000.0",
         "0.05040159"
        ],
        [
         "110",
         "AAN",
         "Consumer Cyclical",
         "Specialty Retail",
         "23.95999908",
         "306840",
         "0.071192192",
         "819549636.2",
         "0.071192192"
        ],
        [
         "136",
         "PZZA",
         "Consumer Cyclical",
         "Restaurants",
         "82.66999817",
         "616561",
         "0.281762222",
         "2722167041.0",
         "0.281762222"
        ],
        [
         "141",
         "TILE",
         "Consumer Cyclical",
         "Furnishings, Fixtures & Appliances",
         "12.82999992",
         "801960",
         "0.03594667",
         "752375829.1",
         "0.03594667"
        ]
       ],
       "shape": {
        "columns": 8,
        "rows": 9
       }
      },
      "text/html": [
       "<div>\n",
       "<style scoped>\n",
       "    .dataframe tbody tr th:only-of-type {\n",
       "        vertical-align: middle;\n",
       "    }\n",
       "\n",
       "    .dataframe tbody tr th {\n",
       "        vertical-align: top;\n",
       "    }\n",
       "\n",
       "    .dataframe thead th {\n",
       "        text-align: right;\n",
       "    }\n",
       "</style>\n",
       "<table border=\"1\" class=\"dataframe\">\n",
       "  <thead>\n",
       "    <tr style=\"text-align: right;\">\n",
       "      <th></th>\n",
       "      <th>symbol</th>\n",
       "      <th>sector</th>\n",
       "      <th>industry</th>\n",
       "      <th>price</th>\n",
       "      <th>avg_volume</th>\n",
       "      <th>avg_spread</th>\n",
       "      <th>market_cap</th>\n",
       "      <th>avg_spread.1</th>\n",
       "    </tr>\n",
       "  </thead>\n",
       "  <tbody>\n",
       "    <tr>\n",
       "      <th>5</th>\n",
       "      <td>CSV</td>\n",
       "      <td>Consumer Cyclical</td>\n",
       "      <td>Personal Services</td>\n",
       "      <td>34.060001</td>\n",
       "      <td>114940</td>\n",
       "      <td>0.173780</td>\n",
       "      <td>6.129001e+08</td>\n",
       "      <td>0.173780</td>\n",
       "    </tr>\n",
       "    <tr>\n",
       "      <th>49</th>\n",
       "      <td>CAL</td>\n",
       "      <td>Consumer Cyclical</td>\n",
       "      <td>Footwear &amp; Accessories</td>\n",
       "      <td>17.400000</td>\n",
       "      <td>370520</td>\n",
       "      <td>0.082436</td>\n",
       "      <td>6.595776e+08</td>\n",
       "      <td>0.082436</td>\n",
       "    </tr>\n",
       "    <tr>\n",
       "      <th>55</th>\n",
       "      <td>KNDI</td>\n",
       "      <td>Consumer Cyclical</td>\n",
       "      <td>Auto Parts</td>\n",
       "      <td>6.100000</td>\n",
       "      <td>5089359</td>\n",
       "      <td>0.011300</td>\n",
       "      <td>4.415031e+08</td>\n",
       "      <td>0.011300</td>\n",
       "    </tr>\n",
       "    <tr>\n",
       "      <th>57</th>\n",
       "      <td>PLYA</td>\n",
       "      <td>Consumer Cyclical</td>\n",
       "      <td>Resorts &amp; Casinos</td>\n",
       "      <td>6.850000</td>\n",
       "      <td>2487091</td>\n",
       "      <td>0.011671</td>\n",
       "      <td>1.123603e+09</td>\n",
       "      <td>0.011671</td>\n",
       "    </tr>\n",
       "    <tr>\n",
       "      <th>62</th>\n",
       "      <td>PRTY</td>\n",
       "      <td>Consumer Cyclical</td>\n",
       "      <td>Specialty Retail</td>\n",
       "      <td>7.460000</td>\n",
       "      <td>2621153</td>\n",
       "      <td>0.013812</td>\n",
       "      <td>8.254203e+08</td>\n",
       "      <td>0.013812</td>\n",
       "    </tr>\n",
       "    <tr>\n",
       "      <th>93</th>\n",
       "      <td>NKE</td>\n",
       "      <td>Consumer Cyclical</td>\n",
       "      <td>Footwear &amp; Accessories</td>\n",
       "      <td>133.350006</td>\n",
       "      <td>5956999</td>\n",
       "      <td>0.050402</td>\n",
       "      <td>2.100000e+11</td>\n",
       "      <td>0.050402</td>\n",
       "    </tr>\n",
       "    <tr>\n",
       "      <th>110</th>\n",
       "      <td>AAN</td>\n",
       "      <td>Consumer Cyclical</td>\n",
       "      <td>Specialty Retail</td>\n",
       "      <td>23.959999</td>\n",
       "      <td>306840</td>\n",
       "      <td>0.071192</td>\n",
       "      <td>8.195496e+08</td>\n",
       "      <td>0.071192</td>\n",
       "    </tr>\n",
       "    <tr>\n",
       "      <th>136</th>\n",
       "      <td>PZZA</td>\n",
       "      <td>Consumer Cyclical</td>\n",
       "      <td>Restaurants</td>\n",
       "      <td>82.669998</td>\n",
       "      <td>616561</td>\n",
       "      <td>0.281762</td>\n",
       "      <td>2.722167e+09</td>\n",
       "      <td>0.281762</td>\n",
       "    </tr>\n",
       "    <tr>\n",
       "      <th>141</th>\n",
       "      <td>TILE</td>\n",
       "      <td>Consumer Cyclical</td>\n",
       "      <td>Furnishings, Fixtures &amp; Appliances</td>\n",
       "      <td>12.830000</td>\n",
       "      <td>801960</td>\n",
       "      <td>0.035947</td>\n",
       "      <td>7.523758e+08</td>\n",
       "      <td>0.035947</td>\n",
       "    </tr>\n",
       "  </tbody>\n",
       "</table>\n",
       "</div>"
      ],
      "text/plain": [
       "    symbol             sector                            industry       price  \\\n",
       "5      CSV  Consumer Cyclical                   Personal Services   34.060001   \n",
       "49     CAL  Consumer Cyclical              Footwear & Accessories   17.400000   \n",
       "55    KNDI  Consumer Cyclical                          Auto Parts    6.100000   \n",
       "57    PLYA  Consumer Cyclical                   Resorts & Casinos    6.850000   \n",
       "62    PRTY  Consumer Cyclical                    Specialty Retail    7.460000   \n",
       "93     NKE  Consumer Cyclical              Footwear & Accessories  133.350006   \n",
       "110    AAN  Consumer Cyclical                    Specialty Retail   23.959999   \n",
       "136   PZZA  Consumer Cyclical                         Restaurants   82.669998   \n",
       "141   TILE  Consumer Cyclical  Furnishings, Fixtures & Appliances   12.830000   \n",
       "\n",
       "     avg_volume  avg_spread    market_cap  avg_spread.1  \n",
       "5        114940    0.173780  6.129001e+08      0.173780  \n",
       "49       370520    0.082436  6.595776e+08      0.082436  \n",
       "55      5089359    0.011300  4.415031e+08      0.011300  \n",
       "57      2487091    0.011671  1.123603e+09      0.011671  \n",
       "62      2621153    0.013812  8.254203e+08      0.013812  \n",
       "93      5956999    0.050402  2.100000e+11      0.050402  \n",
       "110      306840    0.071192  8.195496e+08      0.071192  \n",
       "136      616561    0.281762  2.722167e+09      0.281762  \n",
       "141      801960    0.035947  7.523758e+08      0.035947  "
      ]
     },
     "execution_count": 114,
     "metadata": {},
     "output_type": "execute_result"
    }
   ],
   "source": [
    "#We can filter data based on sector. Here is an example\n",
    "Consumer_Cyc = stocks[ stocks['sector'] ==  'Consumer Cyclical' ]\n",
    "Consumer_Cyc"
   ]
  },
  {
   "cell_type": "markdown",
   "metadata": {
    "iooxa": {
     "id": {
      "block": "8cRVI0QFMQdsi9DWfES7",
      "project": "o8uCbOPb8iJK0GDallsV",
      "version": 1
     }
    }
   },
   "source": [
    "### **Filtering with Multiple Condition**"
   ]
  },
  {
   "cell_type": "code",
   "execution_count": 115,
   "metadata": {
    "iooxa": {
     "id": {
      "block": "Np9QDPX92ql7x4nKp92q",
      "project": "o8uCbOPb8iJK0GDallsV",
      "version": 1
     },
     "outputId": null
    }
   },
   "outputs": [],
   "source": [
    "##what if we have multiple conditions. \n",
    "#Suppose we want to select Consumer Cyclical stocks with a price > 100.\n",
    "#we can write each condition separately and then include the condition\n",
    "price_mth_100 = stocks['price'] > 100\n",
    "vol_mth_3m = stocks['avg_volume'] > 3000000  \n"
   ]
  },
  {
   "cell_type": "code",
   "execution_count": 116,
   "metadata": {
    "iooxa": {
     "id": {
      "block": "zOQeUMLFb4BVuEvC8KNi",
      "project": "o8uCbOPb8iJK0GDallsV",
      "version": 2
     },
     "outputId": {
      "block": "iBuuKhkpRHkV1CFAG6U7",
      "project": "o8uCbOPb8iJK0GDallsV",
      "version": 2
     }
    }
   },
   "outputs": [
    {
     "data": {
      "application/vnd.microsoft.datawrangler.viewer.v0+json": {
       "columns": [
        {
         "name": "index",
         "rawType": "int64",
         "type": "integer"
        },
        {
         "name": "symbol",
         "rawType": "object",
         "type": "string"
        },
        {
         "name": "sector",
         "rawType": "object",
         "type": "string"
        },
        {
         "name": "industry",
         "rawType": "object",
         "type": "string"
        },
        {
         "name": "price",
         "rawType": "float64",
         "type": "float"
        },
        {
         "name": "avg_volume",
         "rawType": "int64",
         "type": "integer"
        },
        {
         "name": "avg_spread",
         "rawType": "float64",
         "type": "float"
        },
        {
         "name": "market_cap",
         "rawType": "float64",
         "type": "float"
        },
        {
         "name": "avg_spread.1",
         "rawType": "float64",
         "type": "float"
        }
       ],
       "ref": "038ab28f-fd64-499c-969f-7d53bc8c3823",
       "rows": [
        [
         "18",
         "TXN",
         "Technology",
         "Semiconductors",
         "167.9400024",
         "5680740",
         "0.101547941",
         "155000000000.0",
         "0.101547941"
        ],
        [
         "77",
         "NXPI",
         "Technology",
         "Semiconductors",
         "180.8999939",
         "5076308",
         "0.31249611",
         "50110781508.0",
         "0.31249611"
        ],
        [
         "82",
         "BIDU",
         "Communication Services",
         "Internet Content & Information",
         "261.7200012",
         "15958337",
         "0.386135559",
         "89266316917.0",
         "0.386135559"
        ],
        [
         "93",
         "NKE",
         "Consumer Cyclical",
         "Footwear & Accessories",
         "133.3500061",
         "5956999",
         "0.05040159",
         "210000000000.0",
         "0.05040159"
        ],
        [
         "108",
         "AMT",
         "Real Estate",
         "REIT—Specialty",
         "200.0",
         "3455754",
         "0.149793678",
         "88876887400.0",
         "0.149793678"
        ],
        [
         "113",
         "EXAS",
         "Healthcare",
         "Diagnostics & Research",
         "121.6399994",
         "3017998",
         "0.347735362",
         "20568492122.0",
         "0.347735362"
        ],
        [
         "186",
         "SPG",
         "Real Estate",
         "REIT—Retail",
         "111.1699982",
         "4575100",
         "0.089717913",
         "36519501815.0",
         "0.089717913"
        ],
        [
         "194",
         "TER",
         "Technology",
         "Semiconductor Equipment & Materials",
         "113.9000015",
         "3451640",
         "0.162954746",
         "18986534785.0",
         "0.162954746"
        ]
       ],
       "shape": {
        "columns": 8,
        "rows": 8
       }
      },
      "text/html": [
       "<div>\n",
       "<style scoped>\n",
       "    .dataframe tbody tr th:only-of-type {\n",
       "        vertical-align: middle;\n",
       "    }\n",
       "\n",
       "    .dataframe tbody tr th {\n",
       "        vertical-align: top;\n",
       "    }\n",
       "\n",
       "    .dataframe thead th {\n",
       "        text-align: right;\n",
       "    }\n",
       "</style>\n",
       "<table border=\"1\" class=\"dataframe\">\n",
       "  <thead>\n",
       "    <tr style=\"text-align: right;\">\n",
       "      <th></th>\n",
       "      <th>symbol</th>\n",
       "      <th>sector</th>\n",
       "      <th>industry</th>\n",
       "      <th>price</th>\n",
       "      <th>avg_volume</th>\n",
       "      <th>avg_spread</th>\n",
       "      <th>market_cap</th>\n",
       "      <th>avg_spread.1</th>\n",
       "    </tr>\n",
       "  </thead>\n",
       "  <tbody>\n",
       "    <tr>\n",
       "      <th>18</th>\n",
       "      <td>TXN</td>\n",
       "      <td>Technology</td>\n",
       "      <td>Semiconductors</td>\n",
       "      <td>167.940002</td>\n",
       "      <td>5680740</td>\n",
       "      <td>0.101548</td>\n",
       "      <td>1.550000e+11</td>\n",
       "      <td>0.101548</td>\n",
       "    </tr>\n",
       "    <tr>\n",
       "      <th>77</th>\n",
       "      <td>NXPI</td>\n",
       "      <td>Technology</td>\n",
       "      <td>Semiconductors</td>\n",
       "      <td>180.899994</td>\n",
       "      <td>5076308</td>\n",
       "      <td>0.312496</td>\n",
       "      <td>5.011078e+10</td>\n",
       "      <td>0.312496</td>\n",
       "    </tr>\n",
       "    <tr>\n",
       "      <th>82</th>\n",
       "      <td>BIDU</td>\n",
       "      <td>Communication Services</td>\n",
       "      <td>Internet Content &amp; Information</td>\n",
       "      <td>261.720001</td>\n",
       "      <td>15958337</td>\n",
       "      <td>0.386136</td>\n",
       "      <td>8.926632e+10</td>\n",
       "      <td>0.386136</td>\n",
       "    </tr>\n",
       "    <tr>\n",
       "      <th>93</th>\n",
       "      <td>NKE</td>\n",
       "      <td>Consumer Cyclical</td>\n",
       "      <td>Footwear &amp; Accessories</td>\n",
       "      <td>133.350006</td>\n",
       "      <td>5956999</td>\n",
       "      <td>0.050402</td>\n",
       "      <td>2.100000e+11</td>\n",
       "      <td>0.050402</td>\n",
       "    </tr>\n",
       "    <tr>\n",
       "      <th>108</th>\n",
       "      <td>AMT</td>\n",
       "      <td>Real Estate</td>\n",
       "      <td>REIT—Specialty</td>\n",
       "      <td>200.000000</td>\n",
       "      <td>3455754</td>\n",
       "      <td>0.149794</td>\n",
       "      <td>8.887689e+10</td>\n",
       "      <td>0.149794</td>\n",
       "    </tr>\n",
       "    <tr>\n",
       "      <th>113</th>\n",
       "      <td>EXAS</td>\n",
       "      <td>Healthcare</td>\n",
       "      <td>Diagnostics &amp; Research</td>\n",
       "      <td>121.639999</td>\n",
       "      <td>3017998</td>\n",
       "      <td>0.347735</td>\n",
       "      <td>2.056849e+10</td>\n",
       "      <td>0.347735</td>\n",
       "    </tr>\n",
       "    <tr>\n",
       "      <th>186</th>\n",
       "      <td>SPG</td>\n",
       "      <td>Real Estate</td>\n",
       "      <td>REIT—Retail</td>\n",
       "      <td>111.169998</td>\n",
       "      <td>4575100</td>\n",
       "      <td>0.089718</td>\n",
       "      <td>3.651950e+10</td>\n",
       "      <td>0.089718</td>\n",
       "    </tr>\n",
       "    <tr>\n",
       "      <th>194</th>\n",
       "      <td>TER</td>\n",
       "      <td>Technology</td>\n",
       "      <td>Semiconductor Equipment &amp; Materials</td>\n",
       "      <td>113.900002</td>\n",
       "      <td>3451640</td>\n",
       "      <td>0.162955</td>\n",
       "      <td>1.898653e+10</td>\n",
       "      <td>0.162955</td>\n",
       "    </tr>\n",
       "  </tbody>\n",
       "</table>\n",
       "</div>"
      ],
      "text/plain": [
       "    symbol                  sector                             industry  \\\n",
       "18     TXN              Technology                       Semiconductors   \n",
       "77    NXPI              Technology                       Semiconductors   \n",
       "82    BIDU  Communication Services       Internet Content & Information   \n",
       "93     NKE       Consumer Cyclical               Footwear & Accessories   \n",
       "108    AMT             Real Estate                       REIT—Specialty   \n",
       "113   EXAS              Healthcare               Diagnostics & Research   \n",
       "186    SPG             Real Estate                          REIT—Retail   \n",
       "194    TER              Technology  Semiconductor Equipment & Materials   \n",
       "\n",
       "          price  avg_volume  avg_spread    market_cap  avg_spread.1  \n",
       "18   167.940002     5680740    0.101548  1.550000e+11      0.101548  \n",
       "77   180.899994     5076308    0.312496  5.011078e+10      0.312496  \n",
       "82   261.720001    15958337    0.386136  8.926632e+10      0.386136  \n",
       "93   133.350006     5956999    0.050402  2.100000e+11      0.050402  \n",
       "108  200.000000     3455754    0.149794  8.887689e+10      0.149794  \n",
       "113  121.639999     3017998    0.347735  2.056849e+10      0.347735  \n",
       "186  111.169998     4575100    0.089718  3.651950e+10      0.089718  \n",
       "194  113.900002     3451640    0.162955  1.898653e+10      0.162955  "
      ]
     },
     "execution_count": 116,
     "metadata": {},
     "output_type": "execute_result"
    }
   ],
   "source": [
    "stocks[vol_mth_3m  & price_mth_100]"
   ]
  },
  {
   "cell_type": "code",
   "execution_count": 117,
   "metadata": {
    "iooxa": {
     "id": {
      "block": "a4DwGTNr3cPIPcAMMkIr",
      "project": "o8uCbOPb8iJK0GDallsV",
      "version": 2
     },
     "outputId": {
      "block": "N9e4xKUzviA9GvO9az6W",
      "project": "o8uCbOPb8iJK0GDallsV",
      "version": 2
     }
    }
   },
   "outputs": [
    {
     "data": {
      "application/vnd.microsoft.datawrangler.viewer.v0+json": {
       "columns": [
        {
         "name": "index",
         "rawType": "int64",
         "type": "integer"
        },
        {
         "name": "symbol",
         "rawType": "object",
         "type": "string"
        },
        {
         "name": "sector",
         "rawType": "object",
         "type": "string"
        },
        {
         "name": "industry",
         "rawType": "object",
         "type": "string"
        },
        {
         "name": "price",
         "rawType": "float64",
         "type": "float"
        },
        {
         "name": "avg_volume",
         "rawType": "int64",
         "type": "integer"
        },
        {
         "name": "avg_spread",
         "rawType": "float64",
         "type": "float"
        },
        {
         "name": "market_cap",
         "rawType": "float64",
         "type": "float"
        },
        {
         "name": "avg_spread.1",
         "rawType": "float64",
         "type": "float"
        }
       ],
       "ref": "4c27b550-696d-4c9b-9960-a3bbfeba5839",
       "rows": [
        [
         "44",
         "ZLAB",
         "Healthcare",
         "Biotechnology",
         "137.25",
         "345571",
         "0.657890909",
         "12159299077.0",
         "0.657890909"
        ],
        [
         "50",
         "NVCR",
         "Healthcare",
         "Medical Instruments & Supplies",
         "129.2799988",
         "1206323",
         "0.500961327",
         "13239789364.0",
         "0.500961327"
        ],
        [
         "113",
         "EXAS",
         "Healthcare",
         "Diagnostics & Research",
         "121.6399994",
         "3017998",
         "0.347735362",
         "20568492122.0",
         "0.347735362"
        ],
        [
         "126",
         "HRC",
         "Healthcare",
         "Medical Instruments & Supplies",
         "104.1800003",
         "335439",
         "0.18386563",
         "6913597973.0",
         "0.18386563"
        ],
        [
         "176",
         "UTHR",
         "Healthcare",
         "Biotechnology",
         "164.3399963",
         "502195",
         "0.611590113",
         "7320415851.0",
         "0.611590113"
        ],
        [
         "185",
         "VRTX",
         "Healthcare",
         "Biotechnology",
         "211.9799957",
         "1704827",
         "0.259628445",
         "55106332832.0",
         "0.259628445"
        ]
       ],
       "shape": {
        "columns": 8,
        "rows": 6
       }
      },
      "text/html": [
       "<div>\n",
       "<style scoped>\n",
       "    .dataframe tbody tr th:only-of-type {\n",
       "        vertical-align: middle;\n",
       "    }\n",
       "\n",
       "    .dataframe tbody tr th {\n",
       "        vertical-align: top;\n",
       "    }\n",
       "\n",
       "    .dataframe thead th {\n",
       "        text-align: right;\n",
       "    }\n",
       "</style>\n",
       "<table border=\"1\" class=\"dataframe\">\n",
       "  <thead>\n",
       "    <tr style=\"text-align: right;\">\n",
       "      <th></th>\n",
       "      <th>symbol</th>\n",
       "      <th>sector</th>\n",
       "      <th>industry</th>\n",
       "      <th>price</th>\n",
       "      <th>avg_volume</th>\n",
       "      <th>avg_spread</th>\n",
       "      <th>market_cap</th>\n",
       "      <th>avg_spread.1</th>\n",
       "    </tr>\n",
       "  </thead>\n",
       "  <tbody>\n",
       "    <tr>\n",
       "      <th>44</th>\n",
       "      <td>ZLAB</td>\n",
       "      <td>Healthcare</td>\n",
       "      <td>Biotechnology</td>\n",
       "      <td>137.250000</td>\n",
       "      <td>345571</td>\n",
       "      <td>0.657891</td>\n",
       "      <td>1.215930e+10</td>\n",
       "      <td>0.657891</td>\n",
       "    </tr>\n",
       "    <tr>\n",
       "      <th>50</th>\n",
       "      <td>NVCR</td>\n",
       "      <td>Healthcare</td>\n",
       "      <td>Medical Instruments &amp; Supplies</td>\n",
       "      <td>129.279999</td>\n",
       "      <td>1206323</td>\n",
       "      <td>0.500961</td>\n",
       "      <td>1.323979e+10</td>\n",
       "      <td>0.500961</td>\n",
       "    </tr>\n",
       "    <tr>\n",
       "      <th>113</th>\n",
       "      <td>EXAS</td>\n",
       "      <td>Healthcare</td>\n",
       "      <td>Diagnostics &amp; Research</td>\n",
       "      <td>121.639999</td>\n",
       "      <td>3017998</td>\n",
       "      <td>0.347735</td>\n",
       "      <td>2.056849e+10</td>\n",
       "      <td>0.347735</td>\n",
       "    </tr>\n",
       "    <tr>\n",
       "      <th>126</th>\n",
       "      <td>HRC</td>\n",
       "      <td>Healthcare</td>\n",
       "      <td>Medical Instruments &amp; Supplies</td>\n",
       "      <td>104.180000</td>\n",
       "      <td>335439</td>\n",
       "      <td>0.183866</td>\n",
       "      <td>6.913598e+09</td>\n",
       "      <td>0.183866</td>\n",
       "    </tr>\n",
       "    <tr>\n",
       "      <th>176</th>\n",
       "      <td>UTHR</td>\n",
       "      <td>Healthcare</td>\n",
       "      <td>Biotechnology</td>\n",
       "      <td>164.339996</td>\n",
       "      <td>502195</td>\n",
       "      <td>0.611590</td>\n",
       "      <td>7.320416e+09</td>\n",
       "      <td>0.611590</td>\n",
       "    </tr>\n",
       "    <tr>\n",
       "      <th>185</th>\n",
       "      <td>VRTX</td>\n",
       "      <td>Healthcare</td>\n",
       "      <td>Biotechnology</td>\n",
       "      <td>211.979996</td>\n",
       "      <td>1704827</td>\n",
       "      <td>0.259628</td>\n",
       "      <td>5.510633e+10</td>\n",
       "      <td>0.259628</td>\n",
       "    </tr>\n",
       "  </tbody>\n",
       "</table>\n",
       "</div>"
      ],
      "text/plain": [
       "    symbol      sector                        industry       price  \\\n",
       "44    ZLAB  Healthcare                   Biotechnology  137.250000   \n",
       "50    NVCR  Healthcare  Medical Instruments & Supplies  129.279999   \n",
       "113   EXAS  Healthcare          Diagnostics & Research  121.639999   \n",
       "126    HRC  Healthcare  Medical Instruments & Supplies  104.180000   \n",
       "176   UTHR  Healthcare                   Biotechnology  164.339996   \n",
       "185   VRTX  Healthcare                   Biotechnology  211.979996   \n",
       "\n",
       "     avg_volume  avg_spread    market_cap  avg_spread.1  \n",
       "44       345571    0.657891  1.215930e+10      0.657891  \n",
       "50      1206323    0.500961  1.323979e+10      0.500961  \n",
       "113     3017998    0.347735  2.056849e+10      0.347735  \n",
       "126      335439    0.183866  6.913598e+09      0.183866  \n",
       "176      502195    0.611590  7.320416e+09      0.611590  \n",
       "185     1704827    0.259628  5.510633e+10      0.259628  "
      ]
     },
     "execution_count": 117,
     "metadata": {},
     "output_type": "execute_result"
    }
   ],
   "source": [
    "price_mth_100 = stocks['price'] > 100\n",
    "HC = stocks['sector'] == 'Healthcare'\n",
    "\n",
    "both_price_HC = stocks[price_mth_100 & HC]\n",
    "both_price_HC"
   ]
  },
  {
   "cell_type": "markdown",
   "metadata": {
    "iooxa": {
     "id": {
      "block": "B7w2CY9C5kHbukmuttDa",
      "project": "o8uCbOPb8iJK0GDallsV",
      "version": 1
     }
    }
   },
   "source": [
    "The code below creates a **subset of the DataFrame** `stocks` containing only the rows where the `sector` column matches either \"Real Estate\" or \"Healthcare\":"
   ]
  },
  {
   "cell_type": "code",
   "execution_count": 118,
   "metadata": {
    "iooxa": {
     "id": {
      "block": "W60On8RkwYdEePajP5V3",
      "project": "o8uCbOPb8iJK0GDallsV",
      "version": 2
     },
     "outputId": {
      "block": "77v83ScC5OxtOm2T2dBk",
      "project": "o8uCbOPb8iJK0GDallsV",
      "version": 2
     }
    }
   },
   "outputs": [
    {
     "data": {
      "application/vnd.microsoft.datawrangler.viewer.v0+json": {
       "columns": [
        {
         "name": "index",
         "rawType": "int64",
         "type": "integer"
        },
        {
         "name": "symbol",
         "rawType": "object",
         "type": "string"
        },
        {
         "name": "sector",
         "rawType": "object",
         "type": "string"
        },
        {
         "name": "industry",
         "rawType": "object",
         "type": "string"
        },
        {
         "name": "price",
         "rawType": "float64",
         "type": "float"
        },
        {
         "name": "avg_volume",
         "rawType": "int64",
         "type": "integer"
        },
        {
         "name": "avg_spread",
         "rawType": "float64",
         "type": "float"
        },
        {
         "name": "market_cap",
         "rawType": "float64",
         "type": "float"
        },
        {
         "name": "avg_spread.1",
         "rawType": "float64",
         "type": "float"
        }
       ],
       "ref": "4c9c18fb-2ce0-414e-9c29-de78d0e55ee5",
       "rows": [
        [
         "1",
         "NBRV",
         "Healthcare",
         "Biotechnology",
         "1.789999962",
         "3468270",
         "0.010134519",
         "63340335.42",
         "0.010134519"
        ],
        [
         "7",
         "GRCL",
         "Healthcare",
         "Biotechnology",
         "21.02000046",
         "30016",
         "0.392674544",
         "1378138477.0",
         "0.392674544"
        ],
        [
         "8",
         "SLDB",
         "Healthcare",
         "Drug Manufacturers—Specialty & Generic",
         "9.399999619",
         "866541",
         "0.04958158",
         "568223782.3",
         "0.04958158"
        ],
        [
         "13",
         "RPRX",
         "Healthcare",
         "Biotechnology",
         "42.54000092",
         "3439577",
         "0.076204153",
         "25826496966.0",
         "0.076204153"
        ],
        [
         "14",
         "TCON",
         "Healthcare",
         "Biotechnology",
         "8.220000267",
         "654909",
         "0.07563002",
         "127235633.3",
         "0.07563002"
        ],
        [
         "17",
         "NNN",
         "Real Estate",
         "REIT—Retail",
         "42.59999847",
         "766204",
         "0.047295727",
         "7466625315.0",
         "0.047295727"
        ],
        [
         "21",
         "HGSH",
         "Real Estate",
         "Real Estate—Development",
         "1.710000038",
         "95469",
         "0.054098684",
         "38517750.86",
         "0.054098684"
        ],
        [
         "24",
         "RMAX",
         "Real Estate",
         "Real Estate Services",
         "38.95000076",
         "117627",
         "0.273101988",
         "1212740330.0",
         "0.273101988"
        ],
        [
         "43",
         "NTST",
         "Real Estate",
         "REIT—Retail",
         "17.54000092",
         "243954",
         "0.067663659",
         "497942244.1",
         "0.067663659"
        ],
        [
         "44",
         "ZLAB",
         "Healthcare",
         "Biotechnology",
         "137.25",
         "345571",
         "0.657890909",
         "12159299077.0",
         "0.657890909"
        ]
       ],
       "shape": {
        "columns": 8,
        "rows": 10
       }
      },
      "text/html": [
       "<div>\n",
       "<style scoped>\n",
       "    .dataframe tbody tr th:only-of-type {\n",
       "        vertical-align: middle;\n",
       "    }\n",
       "\n",
       "    .dataframe tbody tr th {\n",
       "        vertical-align: top;\n",
       "    }\n",
       "\n",
       "    .dataframe thead th {\n",
       "        text-align: right;\n",
       "    }\n",
       "</style>\n",
       "<table border=\"1\" class=\"dataframe\">\n",
       "  <thead>\n",
       "    <tr style=\"text-align: right;\">\n",
       "      <th></th>\n",
       "      <th>symbol</th>\n",
       "      <th>sector</th>\n",
       "      <th>industry</th>\n",
       "      <th>price</th>\n",
       "      <th>avg_volume</th>\n",
       "      <th>avg_spread</th>\n",
       "      <th>market_cap</th>\n",
       "      <th>avg_spread.1</th>\n",
       "    </tr>\n",
       "  </thead>\n",
       "  <tbody>\n",
       "    <tr>\n",
       "      <th>1</th>\n",
       "      <td>NBRV</td>\n",
       "      <td>Healthcare</td>\n",
       "      <td>Biotechnology</td>\n",
       "      <td>1.790000</td>\n",
       "      <td>3468270</td>\n",
       "      <td>0.010135</td>\n",
       "      <td>6.334034e+07</td>\n",
       "      <td>0.010135</td>\n",
       "    </tr>\n",
       "    <tr>\n",
       "      <th>7</th>\n",
       "      <td>GRCL</td>\n",
       "      <td>Healthcare</td>\n",
       "      <td>Biotechnology</td>\n",
       "      <td>21.020000</td>\n",
       "      <td>30016</td>\n",
       "      <td>0.392675</td>\n",
       "      <td>1.378138e+09</td>\n",
       "      <td>0.392675</td>\n",
       "    </tr>\n",
       "    <tr>\n",
       "      <th>8</th>\n",
       "      <td>SLDB</td>\n",
       "      <td>Healthcare</td>\n",
       "      <td>Drug Manufacturers—Specialty &amp; Generic</td>\n",
       "      <td>9.400000</td>\n",
       "      <td>866541</td>\n",
       "      <td>0.049582</td>\n",
       "      <td>5.682238e+08</td>\n",
       "      <td>0.049582</td>\n",
       "    </tr>\n",
       "    <tr>\n",
       "      <th>13</th>\n",
       "      <td>RPRX</td>\n",
       "      <td>Healthcare</td>\n",
       "      <td>Biotechnology</td>\n",
       "      <td>42.540001</td>\n",
       "      <td>3439577</td>\n",
       "      <td>0.076204</td>\n",
       "      <td>2.582650e+10</td>\n",
       "      <td>0.076204</td>\n",
       "    </tr>\n",
       "    <tr>\n",
       "      <th>14</th>\n",
       "      <td>TCON</td>\n",
       "      <td>Healthcare</td>\n",
       "      <td>Biotechnology</td>\n",
       "      <td>8.220000</td>\n",
       "      <td>654909</td>\n",
       "      <td>0.075630</td>\n",
       "      <td>1.272356e+08</td>\n",
       "      <td>0.075630</td>\n",
       "    </tr>\n",
       "    <tr>\n",
       "      <th>17</th>\n",
       "      <td>NNN</td>\n",
       "      <td>Real Estate</td>\n",
       "      <td>REIT—Retail</td>\n",
       "      <td>42.599998</td>\n",
       "      <td>766204</td>\n",
       "      <td>0.047296</td>\n",
       "      <td>7.466625e+09</td>\n",
       "      <td>0.047296</td>\n",
       "    </tr>\n",
       "    <tr>\n",
       "      <th>21</th>\n",
       "      <td>HGSH</td>\n",
       "      <td>Real Estate</td>\n",
       "      <td>Real Estate—Development</td>\n",
       "      <td>1.710000</td>\n",
       "      <td>95469</td>\n",
       "      <td>0.054099</td>\n",
       "      <td>3.851775e+07</td>\n",
       "      <td>0.054099</td>\n",
       "    </tr>\n",
       "    <tr>\n",
       "      <th>24</th>\n",
       "      <td>RMAX</td>\n",
       "      <td>Real Estate</td>\n",
       "      <td>Real Estate Services</td>\n",
       "      <td>38.950001</td>\n",
       "      <td>117627</td>\n",
       "      <td>0.273102</td>\n",
       "      <td>1.212740e+09</td>\n",
       "      <td>0.273102</td>\n",
       "    </tr>\n",
       "    <tr>\n",
       "      <th>43</th>\n",
       "      <td>NTST</td>\n",
       "      <td>Real Estate</td>\n",
       "      <td>REIT—Retail</td>\n",
       "      <td>17.540001</td>\n",
       "      <td>243954</td>\n",
       "      <td>0.067664</td>\n",
       "      <td>4.979422e+08</td>\n",
       "      <td>0.067664</td>\n",
       "    </tr>\n",
       "    <tr>\n",
       "      <th>44</th>\n",
       "      <td>ZLAB</td>\n",
       "      <td>Healthcare</td>\n",
       "      <td>Biotechnology</td>\n",
       "      <td>137.250000</td>\n",
       "      <td>345571</td>\n",
       "      <td>0.657891</td>\n",
       "      <td>1.215930e+10</td>\n",
       "      <td>0.657891</td>\n",
       "    </tr>\n",
       "  </tbody>\n",
       "</table>\n",
       "</div>"
      ],
      "text/plain": [
       "   symbol       sector                                industry       price  \\\n",
       "1    NBRV   Healthcare                           Biotechnology    1.790000   \n",
       "7    GRCL   Healthcare                           Biotechnology   21.020000   \n",
       "8    SLDB   Healthcare  Drug Manufacturers—Specialty & Generic    9.400000   \n",
       "13   RPRX   Healthcare                           Biotechnology   42.540001   \n",
       "14   TCON   Healthcare                           Biotechnology    8.220000   \n",
       "17    NNN  Real Estate                             REIT—Retail   42.599998   \n",
       "21   HGSH  Real Estate                 Real Estate—Development    1.710000   \n",
       "24   RMAX  Real Estate                    Real Estate Services   38.950001   \n",
       "43   NTST  Real Estate                             REIT—Retail   17.540001   \n",
       "44   ZLAB   Healthcare                           Biotechnology  137.250000   \n",
       "\n",
       "    avg_volume  avg_spread    market_cap  avg_spread.1  \n",
       "1      3468270    0.010135  6.334034e+07      0.010135  \n",
       "7        30016    0.392675  1.378138e+09      0.392675  \n",
       "8       866541    0.049582  5.682238e+08      0.049582  \n",
       "13     3439577    0.076204  2.582650e+10      0.076204  \n",
       "14      654909    0.075630  1.272356e+08      0.075630  \n",
       "17      766204    0.047296  7.466625e+09      0.047296  \n",
       "21       95469    0.054099  3.851775e+07      0.054099  \n",
       "24      117627    0.273102  1.212740e+09      0.273102  \n",
       "43      243954    0.067664  4.979422e+08      0.067664  \n",
       "44      345571    0.657891  1.215930e+10      0.657891  "
      ]
     },
     "execution_count": 118,
     "metadata": {},
     "output_type": "execute_result"
    }
   ],
   "source": [
    "selected_sectors = stocks[stocks['sector'].isin (['Real Estate', 'Healthcare'])]\n",
    "selected_sectors.head(10)"
   ]
  },
  {
   "cell_type": "markdown",
   "metadata": {
    "iooxa": {
     "id": {
      "block": "sotz9lzFYCafCvEKktmz",
      "project": "o8uCbOPb8iJK0GDallsV",
      "version": 1
     }
    }
   },
   "source": [
    "## **Adding New Columns**"
   ]
  },
  {
   "cell_type": "code",
   "execution_count": 119,
   "metadata": {
    "iooxa": {
     "id": {
      "block": "lrGMW1KEbxZoSBP7Q8X4",
      "project": "o8uCbOPb8iJK0GDallsV",
      "version": 2
     },
     "outputId": {
      "block": "aplIqiOZkx6ZIivZr6mD",
      "project": "o8uCbOPb8iJK0GDallsV",
      "version": 2
     }
    }
   },
   "outputs": [
    {
     "data": {
      "application/vnd.microsoft.datawrangler.viewer.v0+json": {
       "columns": [
        {
         "name": "index",
         "rawType": "int64",
         "type": "integer"
        },
        {
         "name": "symbol",
         "rawType": "object",
         "type": "string"
        },
        {
         "name": "sector",
         "rawType": "object",
         "type": "string"
        },
        {
         "name": "industry",
         "rawType": "object",
         "type": "string"
        },
        {
         "name": "price",
         "rawType": "float64",
         "type": "float"
        },
        {
         "name": "avg_volume",
         "rawType": "int64",
         "type": "integer"
        },
        {
         "name": "avg_spread",
         "rawType": "float64",
         "type": "float"
        },
        {
         "name": "market_cap",
         "rawType": "float64",
         "type": "float"
        },
        {
         "name": "avg_spread.1",
         "rawType": "float64",
         "type": "float"
        },
        {
         "name": "dollar_volume",
         "rawType": "float64",
         "type": "float"
        }
       ],
       "ref": "06080152-0dd2-4955-b155-7036e73d9594",
       "rows": [
        [
         "0",
         "CPAH",
         "Technology",
         "Software—Application",
         "3.48",
         "74600",
         "0.010135135",
         "22454623.44",
         "0.010135135",
         "259608.0"
        ],
        [
         "1",
         "NBRV",
         "Healthcare",
         "Biotechnology",
         "1.789999962",
         "3468270",
         "0.010134519",
         "63340335.42",
         "0.010134519",
         "6208203.16820574"
        ],
        [
         "2",
         "VCRA",
         "Technology",
         "Communication Equipment",
         "43.95000076",
         "722431",
         "0.143875222",
         "1443100473.0",
         "0.143875222",
         "31750842.999047562"
        ],
        [
         "3",
         "MKSI",
         "Technology",
         "Scientific & Technical Instruments",
         "153.0",
         "590971",
         "0.57398596",
         "8448984054.0",
         "0.57398596",
         "90418563.0"
        ],
        [
         "4",
         "RHI",
         "Industrials",
         "Staffing & Employment Services",
         "76.91999817",
         "1287779",
         "0.105434907",
         "8701563563.0",
         "0.105434907",
         "99055958.32336444"
        ]
       ],
       "shape": {
        "columns": 9,
        "rows": 5
       }
      },
      "text/html": [
       "<div>\n",
       "<style scoped>\n",
       "    .dataframe tbody tr th:only-of-type {\n",
       "        vertical-align: middle;\n",
       "    }\n",
       "\n",
       "    .dataframe tbody tr th {\n",
       "        vertical-align: top;\n",
       "    }\n",
       "\n",
       "    .dataframe thead th {\n",
       "        text-align: right;\n",
       "    }\n",
       "</style>\n",
       "<table border=\"1\" class=\"dataframe\">\n",
       "  <thead>\n",
       "    <tr style=\"text-align: right;\">\n",
       "      <th></th>\n",
       "      <th>symbol</th>\n",
       "      <th>sector</th>\n",
       "      <th>industry</th>\n",
       "      <th>price</th>\n",
       "      <th>avg_volume</th>\n",
       "      <th>avg_spread</th>\n",
       "      <th>market_cap</th>\n",
       "      <th>avg_spread.1</th>\n",
       "      <th>dollar_volume</th>\n",
       "    </tr>\n",
       "  </thead>\n",
       "  <tbody>\n",
       "    <tr>\n",
       "      <th>0</th>\n",
       "      <td>CPAH</td>\n",
       "      <td>Technology</td>\n",
       "      <td>Software—Application</td>\n",
       "      <td>3.480000</td>\n",
       "      <td>74600</td>\n",
       "      <td>0.010135</td>\n",
       "      <td>2.245462e+07</td>\n",
       "      <td>0.010135</td>\n",
       "      <td>2.596080e+05</td>\n",
       "    </tr>\n",
       "    <tr>\n",
       "      <th>1</th>\n",
       "      <td>NBRV</td>\n",
       "      <td>Healthcare</td>\n",
       "      <td>Biotechnology</td>\n",
       "      <td>1.790000</td>\n",
       "      <td>3468270</td>\n",
       "      <td>0.010135</td>\n",
       "      <td>6.334034e+07</td>\n",
       "      <td>0.010135</td>\n",
       "      <td>6.208203e+06</td>\n",
       "    </tr>\n",
       "    <tr>\n",
       "      <th>2</th>\n",
       "      <td>VCRA</td>\n",
       "      <td>Technology</td>\n",
       "      <td>Communication Equipment</td>\n",
       "      <td>43.950001</td>\n",
       "      <td>722431</td>\n",
       "      <td>0.143875</td>\n",
       "      <td>1.443100e+09</td>\n",
       "      <td>0.143875</td>\n",
       "      <td>3.175084e+07</td>\n",
       "    </tr>\n",
       "    <tr>\n",
       "      <th>3</th>\n",
       "      <td>MKSI</td>\n",
       "      <td>Technology</td>\n",
       "      <td>Scientific &amp; Technical Instruments</td>\n",
       "      <td>153.000000</td>\n",
       "      <td>590971</td>\n",
       "      <td>0.573986</td>\n",
       "      <td>8.448984e+09</td>\n",
       "      <td>0.573986</td>\n",
       "      <td>9.041856e+07</td>\n",
       "    </tr>\n",
       "    <tr>\n",
       "      <th>4</th>\n",
       "      <td>RHI</td>\n",
       "      <td>Industrials</td>\n",
       "      <td>Staffing &amp; Employment Services</td>\n",
       "      <td>76.919998</td>\n",
       "      <td>1287779</td>\n",
       "      <td>0.105435</td>\n",
       "      <td>8.701564e+09</td>\n",
       "      <td>0.105435</td>\n",
       "      <td>9.905596e+07</td>\n",
       "    </tr>\n",
       "  </tbody>\n",
       "</table>\n",
       "</div>"
      ],
      "text/plain": [
       "  symbol       sector                            industry       price  \\\n",
       "0   CPAH   Technology                Software—Application    3.480000   \n",
       "1   NBRV   Healthcare                       Biotechnology    1.790000   \n",
       "2   VCRA   Technology             Communication Equipment   43.950001   \n",
       "3   MKSI   Technology  Scientific & Technical Instruments  153.000000   \n",
       "4    RHI  Industrials      Staffing & Employment Services   76.919998   \n",
       "\n",
       "   avg_volume  avg_spread    market_cap  avg_spread.1  dollar_volume  \n",
       "0       74600    0.010135  2.245462e+07      0.010135   2.596080e+05  \n",
       "1     3468270    0.010135  6.334034e+07      0.010135   6.208203e+06  \n",
       "2      722431    0.143875  1.443100e+09      0.143875   3.175084e+07  \n",
       "3      590971    0.573986  8.448984e+09      0.573986   9.041856e+07  \n",
       "4     1287779    0.105435  8.701564e+09      0.105435   9.905596e+07  "
      ]
     },
     "execution_count": 119,
     "metadata": {},
     "output_type": "execute_result"
    }
   ],
   "source": [
    "##Creating new columns\n",
    "#Suppose we want to create a column that gives average volumn in dollars instead of shares\n",
    "stocks['dollar_volume'] = stocks['price']* stocks['avg_volume']\n",
    "stocks.head()\n"
   ]
  },
  {
   "cell_type": "code",
   "execution_count": 120,
   "metadata": {
    "iooxa": {
     "id": {
      "block": "8an9I5nV2ZAxdIjYxHN7",
      "project": "o8uCbOPb8iJK0GDallsV",
      "version": 2
     },
     "outputId": {
      "block": "I8kZkpCHMtzr9ValaO0k",
      "project": "o8uCbOPb8iJK0GDallsV",
      "version": 2
     }
    }
   },
   "outputs": [
    {
     "data": {
      "application/vnd.microsoft.datawrangler.viewer.v0+json": {
       "columns": [
        {
         "name": "index",
         "rawType": "int64",
         "type": "integer"
        },
        {
         "name": "symbol",
         "rawType": "object",
         "type": "string"
        },
        {
         "name": "sector",
         "rawType": "object",
         "type": "string"
        },
        {
         "name": "industry",
         "rawType": "object",
         "type": "string"
        },
        {
         "name": "price",
         "rawType": "float64",
         "type": "float"
        },
        {
         "name": "avg_volume",
         "rawType": "int64",
         "type": "integer"
        },
        {
         "name": "avg_spread",
         "rawType": "float64",
         "type": "float"
        },
        {
         "name": "market_cap",
         "rawType": "float64",
         "type": "float"
        },
        {
         "name": "avg_spread.1",
         "rawType": "float64",
         "type": "float"
        },
        {
         "name": "dollar_volume",
         "rawType": "float64",
         "type": "float"
        }
       ],
       "ref": "a3be2780-f1ff-41c2-b03f-e1b0b74dc7a9",
       "rows": [
        [
         "0",
         "CPAH",
         "Technology",
         "Software—Application",
         "3.48",
         "74600",
         "0.010135135",
         "22454623.44",
         "0.010135135",
         "259608.0"
        ],
        [
         "1",
         "NBRV",
         "Healthcare",
         "Biotechnology",
         "1.789999962",
         "3468270",
         "0.010134519",
         "63340335.42",
         "0.010134519",
         "6208203.16820574"
        ],
        [
         "2",
         "VCRA",
         "Technology",
         "Communication Equipment",
         "43.95000076",
         "722431",
         "0.143875222",
         "1443100473.0",
         "0.143875222",
         "31750842.999047562"
        ],
        [
         "3",
         "MKSI",
         "Technology",
         "Scientific & Technical Instruments",
         "153.0",
         "590971",
         "0.57398596",
         "8448984054.0",
         "0.57398596",
         "90418563.0"
        ],
        [
         "4",
         "RHI",
         "Industrials",
         "Staffing & Employment Services",
         "76.91999817",
         "1287779",
         "0.105434907",
         "8701563563.0",
         "0.105434907",
         "99055958.32336444"
        ]
       ],
       "shape": {
        "columns": 9,
        "rows": 5
       }
      },
      "text/html": [
       "<div>\n",
       "<style scoped>\n",
       "    .dataframe tbody tr th:only-of-type {\n",
       "        vertical-align: middle;\n",
       "    }\n",
       "\n",
       "    .dataframe tbody tr th {\n",
       "        vertical-align: top;\n",
       "    }\n",
       "\n",
       "    .dataframe thead th {\n",
       "        text-align: right;\n",
       "    }\n",
       "</style>\n",
       "<table border=\"1\" class=\"dataframe\">\n",
       "  <thead>\n",
       "    <tr style=\"text-align: right;\">\n",
       "      <th></th>\n",
       "      <th>symbol</th>\n",
       "      <th>sector</th>\n",
       "      <th>industry</th>\n",
       "      <th>price</th>\n",
       "      <th>avg_volume</th>\n",
       "      <th>avg_spread</th>\n",
       "      <th>market_cap</th>\n",
       "      <th>avg_spread.1</th>\n",
       "      <th>dollar_volume</th>\n",
       "    </tr>\n",
       "  </thead>\n",
       "  <tbody>\n",
       "    <tr>\n",
       "      <th>0</th>\n",
       "      <td>CPAH</td>\n",
       "      <td>Technology</td>\n",
       "      <td>Software—Application</td>\n",
       "      <td>3.480000</td>\n",
       "      <td>74600</td>\n",
       "      <td>0.010135</td>\n",
       "      <td>2.245462e+07</td>\n",
       "      <td>0.010135</td>\n",
       "      <td>2.596080e+05</td>\n",
       "    </tr>\n",
       "    <tr>\n",
       "      <th>1</th>\n",
       "      <td>NBRV</td>\n",
       "      <td>Healthcare</td>\n",
       "      <td>Biotechnology</td>\n",
       "      <td>1.790000</td>\n",
       "      <td>3468270</td>\n",
       "      <td>0.010135</td>\n",
       "      <td>6.334034e+07</td>\n",
       "      <td>0.010135</td>\n",
       "      <td>6.208203e+06</td>\n",
       "    </tr>\n",
       "    <tr>\n",
       "      <th>2</th>\n",
       "      <td>VCRA</td>\n",
       "      <td>Technology</td>\n",
       "      <td>Communication Equipment</td>\n",
       "      <td>43.950001</td>\n",
       "      <td>722431</td>\n",
       "      <td>0.143875</td>\n",
       "      <td>1.443100e+09</td>\n",
       "      <td>0.143875</td>\n",
       "      <td>3.175084e+07</td>\n",
       "    </tr>\n",
       "    <tr>\n",
       "      <th>3</th>\n",
       "      <td>MKSI</td>\n",
       "      <td>Technology</td>\n",
       "      <td>Scientific &amp; Technical Instruments</td>\n",
       "      <td>153.000000</td>\n",
       "      <td>590971</td>\n",
       "      <td>0.573986</td>\n",
       "      <td>8.448984e+09</td>\n",
       "      <td>0.573986</td>\n",
       "      <td>9.041856e+07</td>\n",
       "    </tr>\n",
       "    <tr>\n",
       "      <th>4</th>\n",
       "      <td>RHI</td>\n",
       "      <td>Industrials</td>\n",
       "      <td>Staffing &amp; Employment Services</td>\n",
       "      <td>76.919998</td>\n",
       "      <td>1287779</td>\n",
       "      <td>0.105435</td>\n",
       "      <td>8.701564e+09</td>\n",
       "      <td>0.105435</td>\n",
       "      <td>9.905596e+07</td>\n",
       "    </tr>\n",
       "  </tbody>\n",
       "</table>\n",
       "</div>"
      ],
      "text/plain": [
       "  symbol       sector                            industry       price  \\\n",
       "0   CPAH   Technology                Software—Application    3.480000   \n",
       "1   NBRV   Healthcare                       Biotechnology    1.790000   \n",
       "2   VCRA   Technology             Communication Equipment   43.950001   \n",
       "3   MKSI   Technology  Scientific & Technical Instruments  153.000000   \n",
       "4    RHI  Industrials      Staffing & Employment Services   76.919998   \n",
       "\n",
       "   avg_volume  avg_spread    market_cap  avg_spread.1  dollar_volume  \n",
       "0       74600    0.010135  2.245462e+07      0.010135   2.596080e+05  \n",
       "1     3468270    0.010135  6.334034e+07      0.010135   6.208203e+06  \n",
       "2      722431    0.143875  1.443100e+09      0.143875   3.175084e+07  \n",
       "3      590971    0.573986  8.448984e+09      0.573986   9.041856e+07  \n",
       "4     1287779    0.105435  8.701564e+09      0.105435   9.905596e+07  "
      ]
     },
     "execution_count": 120,
     "metadata": {},
     "output_type": "execute_result"
    }
   ],
   "source": [
    "#we can also do\n",
    "stocks['dollar_volume'] = stocks.price* stocks.avg_volume\n",
    "stocks.head()"
   ]
  },
  {
   "cell_type": "markdown",
   "metadata": {
    "iooxa": {
     "id": {
      "block": "VzEDSFIo2WJJWIltf9JF",
      "project": "o8uCbOPb8iJK0GDallsV",
      "version": 1
     }
    }
   },
   "source": [
    "## **Statistics of Data columns**"
   ]
  },
  {
   "cell_type": "markdown",
   "metadata": {
    "iooxa": {
     "id": {
      "block": "u4k5CpnhabuX7z1U14Nr",
      "project": "o8uCbOPb8iJK0GDallsV",
      "version": 1
     }
    }
   },
   "source": [
    "### **Mean()**"
   ]
  },
  {
   "cell_type": "code",
   "execution_count": 121,
   "metadata": {
    "iooxa": {
     "id": {
      "block": "t1n1Y8FssgrrezpCgGEA",
      "project": "o8uCbOPb8iJK0GDallsV",
      "version": 2
     },
     "outputId": {
      "block": "s40PjD9IYxvr1BIc57iw",
      "project": "o8uCbOPb8iJK0GDallsV",
      "version": 2
     }
    }
   },
   "outputs": [
    {
     "data": {
      "text/plain": [
       "np.float64(36.738206711187495)"
      ]
     },
     "execution_count": 121,
     "metadata": {},
     "output_type": "execute_result"
    }
   ],
   "source": [
    "price_mean = stocks['price'].mean()\n",
    "price_mean\n"
   ]
  },
  {
   "cell_type": "markdown",
   "metadata": {
    "iooxa": {
     "id": {
      "block": "MkTVU2koV0U9JCSzLYja",
      "project": "o8uCbOPb8iJK0GDallsV",
      "version": 1
     }
    }
   },
   "source": [
    "### **Median()**"
   ]
  },
  {
   "cell_type": "code",
   "execution_count": 122,
   "metadata": {
    "iooxa": {
     "id": {
      "block": "PYa1oGFolgqqlpxWrjH2",
      "project": "o8uCbOPb8iJK0GDallsV",
      "version": 2
     },
     "outputId": {
      "block": "KylvRpPTtGS2OkAxtKJ4",
      "project": "o8uCbOPb8iJK0GDallsV",
      "version": 2
     }
    }
   },
   "outputs": [
    {
     "data": {
      "text/plain": [
       "np.float64(17.58000088)"
      ]
     },
     "execution_count": 122,
     "metadata": {},
     "output_type": "execute_result"
    }
   ],
   "source": [
    "price_median = stocks['price'].median()\n",
    "price_median"
   ]
  },
  {
   "cell_type": "code",
   "execution_count": 123,
   "metadata": {
    "iooxa": {
     "id": {
      "block": "96SBSDTlf9OJq2qKuevX",
      "project": "o8uCbOPb8iJK0GDallsV",
      "version": 1
     },
     "outputId": null
    }
   },
   "outputs": [],
   "source": [
    "#What does it mean that the mean is higher than the median here?"
   ]
  },
  {
   "cell_type": "markdown",
   "metadata": {
    "iooxa": {
     "id": {
      "block": "Uc37KL9iocD6BsRlMSjk",
      "project": "o8uCbOPb8iJK0GDallsV",
      "version": 1
     }
    }
   },
   "source": [
    "### **Minimum**"
   ]
  },
  {
   "cell_type": "code",
   "execution_count": 124,
   "metadata": {
    "iooxa": {
     "id": {
      "block": "Elwqqzolw1PPmBV8KA2K",
      "project": "o8uCbOPb8iJK0GDallsV",
      "version": 2
     },
     "outputId": {
      "block": "ThluEQh2CAvnPsnVCwhj",
      "project": "o8uCbOPb8iJK0GDallsV",
      "version": 2
     }
    }
   },
   "outputs": [
    {
     "data": {
      "text/plain": [
       "np.float64(1.440000057)"
      ]
     },
     "execution_count": 124,
     "metadata": {},
     "output_type": "execute_result"
    }
   ],
   "source": [
    "price_min = stocks['price'].min()\n",
    "price_min "
   ]
  },
  {
   "cell_type": "markdown",
   "metadata": {
    "iooxa": {
     "id": {
      "block": "n5juTKIQ2NXazCyjJ6oW",
      "project": "o8uCbOPb8iJK0GDallsV",
      "version": 1
     }
    }
   },
   "source": [
    "### **Maximum**"
   ]
  },
  {
   "cell_type": "code",
   "execution_count": 125,
   "metadata": {
    "iooxa": {
     "id": {
      "block": "5X5nw0QBsdX12TZ6bAHx",
      "project": "o8uCbOPb8iJK0GDallsV",
      "version": 2
     },
     "outputId": {
      "block": "I7kEhhjJ2YLsOFbnkRlL",
      "project": "o8uCbOPb8iJK0GDallsV",
      "version": 2
     }
    }
   },
   "outputs": [
    {
     "data": {
      "text/plain": [
       "np.float64(261.7200012)"
      ]
     },
     "execution_count": 125,
     "metadata": {},
     "output_type": "execute_result"
    }
   ],
   "source": [
    "price_max = stocks['price'].max()\n",
    "price_max \n"
   ]
  },
  {
   "cell_type": "markdown",
   "metadata": {
    "iooxa": {
     "id": {
      "block": "Tzr7V6l1pCgYh7XPuJnz",
      "project": "o8uCbOPb8iJK0GDallsV",
      "version": 1
     }
    }
   },
   "source": [
    "### **Quantile of the data**"
   ]
  },
  {
   "cell_type": "code",
   "execution_count": 126,
   "metadata": {
    "iooxa": {
     "id": {
      "block": "AGgQo98a7FfiqVK0eH4K",
      "project": "o8uCbOPb8iJK0GDallsV",
      "version": 2
     },
     "outputId": {
      "block": "kAep2dd567hJREYvGeZy",
      "project": "o8uCbOPb8iJK0GDallsV",
      "version": 2
     }
    }
   },
   "outputs": [
    {
     "data": {
      "text/plain": [
       "np.float64(42.6274986225)"
      ]
     },
     "execution_count": 126,
     "metadata": {},
     "output_type": "execute_result"
    }
   ],
   "source": [
    "price_Q75 = stocks['price'].quantile(0.75)\n",
    "price_Q75\n"
   ]
  },
  {
   "cell_type": "code",
   "execution_count": 127,
   "metadata": {
    "iooxa": {
     "id": {
      "block": "2KorlJ0UD2MDWar36Rnh",
      "project": "o8uCbOPb8iJK0GDallsV",
      "version": 2
     },
     "outputId": {
      "block": "0YOnueX8Ycw1ugUArtKf",
      "project": "o8uCbOPb8iJK0GDallsV",
      "version": 2
     }
    }
   },
   "outputs": [
    {
     "data": {
      "text/plain": [
       "np.float64(8.77999973275)"
      ]
     },
     "execution_count": 127,
     "metadata": {},
     "output_type": "execute_result"
    }
   ],
   "source": [
    "price_Q25 = stocks['price'].quantile(0.25)\n",
    "price_Q25\n"
   ]
  },
  {
   "cell_type": "code",
   "execution_count": 128,
   "metadata": {
    "iooxa": {
     "id": {
      "block": "0v30sRxfTLsweHKU714y",
      "project": "o8uCbOPb8iJK0GDallsV",
      "version": 2
     },
     "outputId": {
      "block": "zwGSCEhLJiGYnuwBLcSF",
      "project": "o8uCbOPb8iJK0GDallsV",
      "version": 2
     }
    }
   },
   "outputs": [
    {
     "data": {
      "text/plain": [
       "np.float64(47.444028955008804)"
      ]
     },
     "execution_count": 128,
     "metadata": {},
     "output_type": "execute_result"
    }
   ],
   "source": [
    "price_std = stocks['price'].std()\n",
    "price_std\n"
   ]
  },
  {
   "cell_type": "markdown",
   "metadata": {
    "iooxa": {
     "id": {
      "block": "JYzHDDy5j4PjdxeNJfjE",
      "project": "o8uCbOPb8iJK0GDallsV",
      "version": 1
     }
    }
   },
   "source": [
    "### **Summary Stats.**"
   ]
  },
  {
   "cell_type": "code",
   "execution_count": 129,
   "metadata": {
    "iooxa": {
     "id": {
      "block": "m55WlxVUOkEMLISGFVzt",
      "project": "o8uCbOPb8iJK0GDallsV",
      "version": 2
     },
     "outputId": {
      "block": "w1zcQTrnT63HEdK2kgJc",
      "project": "o8uCbOPb8iJK0GDallsV",
      "version": 2
     }
    }
   },
   "outputs": [
    {
     "data": {
      "application/vnd.microsoft.datawrangler.viewer.v0+json": {
       "columns": [
        {
         "name": "index",
         "rawType": "object",
         "type": "string"
        },
        {
         "name": "price",
         "rawType": "float64",
         "type": "float"
        }
       ],
       "ref": "1f451b31-5b7d-408b-b97d-8db6ff801419",
       "rows": [
        [
         "count",
         "192.0"
        ],
        [
         "mean",
         "36.738206711187495"
        ],
        [
         "std",
         "47.444028955008804"
        ],
        [
         "min",
         "1.440000057"
        ],
        [
         "25%",
         "8.77999973275"
        ],
        [
         "50%",
         "17.58000088"
        ],
        [
         "75%",
         "42.6274986225"
        ],
        [
         "max",
         "261.7200012"
        ]
       ],
       "shape": {
        "columns": 1,
        "rows": 8
       }
      },
      "text/plain": [
       "count    192.000000\n",
       "mean      36.738207\n",
       "std       47.444029\n",
       "min        1.440000\n",
       "25%        8.780000\n",
       "50%       17.580001\n",
       "75%       42.627499\n",
       "max      261.720001\n",
       "Name: price, dtype: float64"
      ]
     },
     "execution_count": 129,
     "metadata": {},
     "output_type": "execute_result"
    }
   ],
   "source": [
    "price_smry= stocks['price'].describe()\n",
    "price_smry"
   ]
  },
  {
   "cell_type": "code",
   "execution_count": 130,
   "metadata": {
    "iooxa": {
     "id": {
      "block": "rYEc9HMAW7NICgHzy2bN",
      "project": "o8uCbOPb8iJK0GDallsV",
      "version": 2
     },
     "outputId": {
      "block": "Q2KlPnukzTIUrH2xFS0b",
      "project": "o8uCbOPb8iJK0GDallsV",
      "version": 2
     }
    }
   },
   "outputs": [
    {
     "data": {
      "text/plain": [
       "pandas.core.series.Series"
      ]
     },
     "execution_count": 130,
     "metadata": {},
     "output_type": "execute_result"
    }
   ],
   "source": [
    "type(price_smry)"
   ]
  },
  {
   "cell_type": "code",
   "execution_count": 131,
   "metadata": {
    "iooxa": {
     "id": {
      "block": "YElI3gUmuulahFYsaYfi",
      "project": "o8uCbOPb8iJK0GDallsV",
      "version": 2
     },
     "outputId": {
      "block": "0WxYtclzBzJSLWcGsIjf",
      "project": "o8uCbOPb8iJK0GDallsV",
      "version": 2
     }
    }
   },
   "outputs": [
    {
     "data": {
      "application/vnd.microsoft.datawrangler.viewer.v0+json": {
       "columns": [
        {
         "name": "index",
         "rawType": "object",
         "type": "string"
        },
        {
         "name": "price",
         "rawType": "float64",
         "type": "float"
        },
        {
         "name": "avg_spread",
         "rawType": "float64",
         "type": "float"
        }
       ],
       "ref": "c5c02f40-afe7-4c32-b5ef-d9133c527cbe",
       "rows": [
        [
         "count",
         "192.0",
         "192.0"
        ],
        [
         "mean",
         "36.738206711187495",
         "0.1612676169375"
        ],
        [
         "std",
         "47.444028955008804",
         "0.1906491299474052"
        ],
        [
         "min",
         "1.440000057",
         "0.010009591"
        ],
        [
         "25%",
         "8.77999973275",
         "0.037191865000000005"
        ],
        [
         "50%",
         "17.58000088",
         "0.0772934445"
        ],
        [
         "75%",
         "42.6274986225",
         "0.21439780475"
        ],
        [
         "max",
         "261.7200012",
         "0.922505423"
        ]
       ],
       "shape": {
        "columns": 2,
        "rows": 8
       }
      },
      "text/html": [
       "<div>\n",
       "<style scoped>\n",
       "    .dataframe tbody tr th:only-of-type {\n",
       "        vertical-align: middle;\n",
       "    }\n",
       "\n",
       "    .dataframe tbody tr th {\n",
       "        vertical-align: top;\n",
       "    }\n",
       "\n",
       "    .dataframe thead th {\n",
       "        text-align: right;\n",
       "    }\n",
       "</style>\n",
       "<table border=\"1\" class=\"dataframe\">\n",
       "  <thead>\n",
       "    <tr style=\"text-align: right;\">\n",
       "      <th></th>\n",
       "      <th>price</th>\n",
       "      <th>avg_spread</th>\n",
       "    </tr>\n",
       "  </thead>\n",
       "  <tbody>\n",
       "    <tr>\n",
       "      <th>count</th>\n",
       "      <td>192.000000</td>\n",
       "      <td>192.000000</td>\n",
       "    </tr>\n",
       "    <tr>\n",
       "      <th>mean</th>\n",
       "      <td>36.738207</td>\n",
       "      <td>0.161268</td>\n",
       "    </tr>\n",
       "    <tr>\n",
       "      <th>std</th>\n",
       "      <td>47.444029</td>\n",
       "      <td>0.190649</td>\n",
       "    </tr>\n",
       "    <tr>\n",
       "      <th>min</th>\n",
       "      <td>1.440000</td>\n",
       "      <td>0.010010</td>\n",
       "    </tr>\n",
       "    <tr>\n",
       "      <th>25%</th>\n",
       "      <td>8.780000</td>\n",
       "      <td>0.037192</td>\n",
       "    </tr>\n",
       "    <tr>\n",
       "      <th>50%</th>\n",
       "      <td>17.580001</td>\n",
       "      <td>0.077293</td>\n",
       "    </tr>\n",
       "    <tr>\n",
       "      <th>75%</th>\n",
       "      <td>42.627499</td>\n",
       "      <td>0.214398</td>\n",
       "    </tr>\n",
       "    <tr>\n",
       "      <th>max</th>\n",
       "      <td>261.720001</td>\n",
       "      <td>0.922505</td>\n",
       "    </tr>\n",
       "  </tbody>\n",
       "</table>\n",
       "</div>"
      ],
      "text/plain": [
       "            price  avg_spread\n",
       "count  192.000000  192.000000\n",
       "mean    36.738207    0.161268\n",
       "std     47.444029    0.190649\n",
       "min      1.440000    0.010010\n",
       "25%      8.780000    0.037192\n",
       "50%     17.580001    0.077293\n",
       "75%     42.627499    0.214398\n",
       "max    261.720001    0.922505"
      ]
     },
     "execution_count": 131,
     "metadata": {},
     "output_type": "execute_result"
    }
   ],
   "source": [
    "stocks[['price', 'avg_spread']].describe()\n"
   ]
  },
  {
   "cell_type": "markdown",
   "metadata": {
    "iooxa": {
     "id": {
      "block": "bmyaRYQQ4dhkZo9aBMvn",
      "project": "o8uCbOPb8iJK0GDallsV",
      "version": 1
     }
    }
   },
   "source": []
  },
  {
   "cell_type": "markdown",
   "metadata": {
    "iooxa": {
     "id": {
      "block": "2g4xCNKA8eDOsShmBpQP",
      "project": "o8uCbOPb8iJK0GDallsV",
      "version": 1
     }
    }
   },
   "source": [
    "## **pd.groupby() method**\n",
    "\n",
    "- The `groupby()` method in Pandas is used to split data into groups based on some criteria, making it easy to perform aggregate calculations for each group.\n",
    "- It’s especially useful when working with categorical data and helps to summarize, analyze, and manipulate data efficiently.\n",
    "- Syntax: df.groupby('column_name').aggregation_method()\n",
    "  - aggregation_method (e.g., `mean()`, `sum()`, `count()`, `max()`, etc.)\n",
    "- The code below groups the `stocks` DataFrame by the `sector` column and calculates the **mean** of the `price` and `avg_spread` columns within each sector."
   ]
  },
  {
   "cell_type": "code",
   "execution_count": 132,
   "metadata": {
    "iooxa": {
     "id": {
      "block": "tmUXAc6k7qbxIAzXyo21",
      "project": "o8uCbOPb8iJK0GDallsV",
      "version": 2
     },
     "outputId": {
      "block": "ilfDBdhjfFf63W7m4JMY",
      "project": "o8uCbOPb8iJK0GDallsV",
      "version": 2
     }
    }
   },
   "outputs": [
    {
     "data": {
      "application/vnd.microsoft.datawrangler.viewer.v0+json": {
       "columns": [
        {
         "name": "sector",
         "rawType": "object",
         "type": "string"
        },
        {
         "name": "price",
         "rawType": "float64",
         "type": "float"
        },
        {
         "name": "avg_spread",
         "rawType": "float64",
         "type": "float"
        }
       ],
       "ref": "337e0dcd-c030-4c9c-8a13-eb58ba9abcc9",
       "rows": [
        [
         "Basic Materials",
         "23.721666375499996",
         "0.111870182"
        ],
        [
         "Communication Services",
         "57.5900001956",
         "0.1131257478"
        ],
        [
         "Consumer Cyclical",
         "36.075556012",
         "0.08136679188888889"
        ],
        [
         "Consumer Defensive",
         "55.92500022883333",
         "0.3656436966666667"
        ],
        [
         "Energy",
         "12.36888877488889",
         "0.038766959999999996"
        ],
        [
         "Financial Services",
         "20.523556079320002",
         "0.17517162474"
        ],
        [
         "Healthcare",
         "42.22126051144737",
         "0.1882070124736842"
        ],
        [
         "Industrials",
         "47.299411151823534",
         "0.17795318100000002"
        ],
        [
         "Real Estate",
         "43.829687301375",
         "0.111704199375"
        ],
        [
         "Technology",
         "47.58465487062069",
         "0.14906959451724136"
        ],
        [
         "Utilities",
         "48.00000054428572",
         "0.20078992214285712"
        ]
       ],
       "shape": {
        "columns": 2,
        "rows": 11
       }
      },
      "text/html": [
       "<div>\n",
       "<style scoped>\n",
       "    .dataframe tbody tr th:only-of-type {\n",
       "        vertical-align: middle;\n",
       "    }\n",
       "\n",
       "    .dataframe tbody tr th {\n",
       "        vertical-align: top;\n",
       "    }\n",
       "\n",
       "    .dataframe thead th {\n",
       "        text-align: right;\n",
       "    }\n",
       "</style>\n",
       "<table border=\"1\" class=\"dataframe\">\n",
       "  <thead>\n",
       "    <tr style=\"text-align: right;\">\n",
       "      <th></th>\n",
       "      <th>price</th>\n",
       "      <th>avg_spread</th>\n",
       "    </tr>\n",
       "    <tr>\n",
       "      <th>sector</th>\n",
       "      <th></th>\n",
       "      <th></th>\n",
       "    </tr>\n",
       "  </thead>\n",
       "  <tbody>\n",
       "    <tr>\n",
       "      <th>Basic Materials</th>\n",
       "      <td>23.721666</td>\n",
       "      <td>0.111870</td>\n",
       "    </tr>\n",
       "    <tr>\n",
       "      <th>Communication Services</th>\n",
       "      <td>57.590000</td>\n",
       "      <td>0.113126</td>\n",
       "    </tr>\n",
       "    <tr>\n",
       "      <th>Consumer Cyclical</th>\n",
       "      <td>36.075556</td>\n",
       "      <td>0.081367</td>\n",
       "    </tr>\n",
       "    <tr>\n",
       "      <th>Consumer Defensive</th>\n",
       "      <td>55.925000</td>\n",
       "      <td>0.365644</td>\n",
       "    </tr>\n",
       "    <tr>\n",
       "      <th>Energy</th>\n",
       "      <td>12.368889</td>\n",
       "      <td>0.038767</td>\n",
       "    </tr>\n",
       "    <tr>\n",
       "      <th>Financial Services</th>\n",
       "      <td>20.523556</td>\n",
       "      <td>0.175172</td>\n",
       "    </tr>\n",
       "    <tr>\n",
       "      <th>Healthcare</th>\n",
       "      <td>42.221261</td>\n",
       "      <td>0.188207</td>\n",
       "    </tr>\n",
       "    <tr>\n",
       "      <th>Industrials</th>\n",
       "      <td>47.299411</td>\n",
       "      <td>0.177953</td>\n",
       "    </tr>\n",
       "    <tr>\n",
       "      <th>Real Estate</th>\n",
       "      <td>43.829687</td>\n",
       "      <td>0.111704</td>\n",
       "    </tr>\n",
       "    <tr>\n",
       "      <th>Technology</th>\n",
       "      <td>47.584655</td>\n",
       "      <td>0.149070</td>\n",
       "    </tr>\n",
       "    <tr>\n",
       "      <th>Utilities</th>\n",
       "      <td>48.000001</td>\n",
       "      <td>0.200790</td>\n",
       "    </tr>\n",
       "  </tbody>\n",
       "</table>\n",
       "</div>"
      ],
      "text/plain": [
       "                            price  avg_spread\n",
       "sector                                       \n",
       "Basic Materials         23.721666    0.111870\n",
       "Communication Services  57.590000    0.113126\n",
       "Consumer Cyclical       36.075556    0.081367\n",
       "Consumer Defensive      55.925000    0.365644\n",
       "Energy                  12.368889    0.038767\n",
       "Financial Services      20.523556    0.175172\n",
       "Healthcare              42.221261    0.188207\n",
       "Industrials             47.299411    0.177953\n",
       "Real Estate             43.829687    0.111704\n",
       "Technology              47.584655    0.149070\n",
       "Utilities               48.000001    0.200790"
      ]
     },
     "execution_count": 132,
     "metadata": {},
     "output_type": "execute_result"
    }
   ],
   "source": [
    "stocks.groupby('sector')[['price', 'avg_spread']].mean()"
   ]
  },
  {
   "cell_type": "markdown",
   "metadata": {
    "iooxa": {
     "id": {
      "block": "lR4mICQ5N7wcP24fM3QN",
      "project": "o8uCbOPb8iJK0GDallsV",
      "version": 1
     }
    }
   },
   "source": [
    "## **Counting Values**"
   ]
  },
  {
   "cell_type": "code",
   "execution_count": 133,
   "metadata": {
    "iooxa": {
     "id": {
      "block": "e3c8lShlOfw8WkUDOjpv",
      "project": "o8uCbOPb8iJK0GDallsV",
      "version": 2
     },
     "outputId": {
      "block": "93CVS9GYWB480qyXGndE",
      "project": "o8uCbOPb8iJK0GDallsV",
      "version": 2
     }
    }
   },
   "outputs": [
    {
     "data": {
      "application/vnd.microsoft.datawrangler.viewer.v0+json": {
       "columns": [
        {
         "name": "sector",
         "rawType": "object",
         "type": "string"
        },
        {
         "name": "count",
         "rawType": "int64",
         "type": "integer"
        }
       ],
       "ref": "baab9aa0-509d-4455-bbaf-cdebfd2c680b",
       "rows": [
        [
         "Financial Services",
         "50"
        ],
        [
         "Healthcare",
         "38"
        ],
        [
         "Technology",
         "29"
        ],
        [
         "Industrials",
         "17"
        ],
        [
         "Real Estate",
         "16"
        ],
        [
         "Consumer Cyclical",
         "9"
        ],
        [
         "Energy",
         "9"
        ],
        [
         "Utilities",
         "7"
        ],
        [
         "Consumer Defensive",
         "6"
        ],
        [
         "Basic Materials",
         "6"
        ],
        [
         "Communication Services",
         "5"
        ]
       ],
       "shape": {
        "columns": 1,
        "rows": 11
       }
      },
      "text/plain": [
       "sector\n",
       "Financial Services        50\n",
       "Healthcare                38\n",
       "Technology                29\n",
       "Industrials               17\n",
       "Real Estate               16\n",
       "Consumer Cyclical          9\n",
       "Energy                     9\n",
       "Utilities                  7\n",
       "Consumer Defensive         6\n",
       "Basic Materials            6\n",
       "Communication Services     5\n",
       "Name: count, dtype: int64"
      ]
     },
     "execution_count": 133,
     "metadata": {},
     "output_type": "execute_result"
    }
   ],
   "source": [
    "stocks['sector'].value_counts()"
   ]
  },
  {
   "cell_type": "markdown",
   "metadata": {
    "iooxa": {
     "id": {
      "block": "z4CjFDxPn2i5P759ObrN",
      "project": "o8uCbOPb8iJK0GDallsV",
      "version": 1
     }
    }
   },
   "source": [
    "The code below calculates the **relative frequency** of each unique value in the `sector` column of the `stocks` DataFrame, expressing it as a percentage of the total count:"
   ]
  },
  {
   "cell_type": "code",
   "execution_count": 134,
   "metadata": {
    "iooxa": {
     "id": {
      "block": "0M3eXByfUQMhWl3oZVP5",
      "project": "o8uCbOPb8iJK0GDallsV",
      "version": 2
     },
     "outputId": {
      "block": "oRJHsg5SA3wqWsPz1gdw",
      "project": "o8uCbOPb8iJK0GDallsV",
      "version": 2
     }
    }
   },
   "outputs": [
    {
     "data": {
      "application/vnd.microsoft.datawrangler.viewer.v0+json": {
       "columns": [
        {
         "name": "sector",
         "rawType": "object",
         "type": "string"
        },
        {
         "name": "proportion",
         "rawType": "float64",
         "type": "float"
        }
       ],
       "ref": "1600317e-5c9f-4741-9728-871cd6134195",
       "rows": [
        [
         "Financial Services",
         "0.2604166666666667"
        ],
        [
         "Healthcare",
         "0.19791666666666666"
        ],
        [
         "Technology",
         "0.15104166666666666"
        ],
        [
         "Industrials",
         "0.08854166666666667"
        ],
        [
         "Real Estate",
         "0.08333333333333333"
        ],
        [
         "Consumer Cyclical",
         "0.046875"
        ],
        [
         "Energy",
         "0.046875"
        ],
        [
         "Utilities",
         "0.036458333333333336"
        ],
        [
         "Consumer Defensive",
         "0.03125"
        ],
        [
         "Basic Materials",
         "0.03125"
        ],
        [
         "Communication Services",
         "0.026041666666666668"
        ]
       ],
       "shape": {
        "columns": 1,
        "rows": 11
       }
      },
      "text/plain": [
       "sector\n",
       "Financial Services        0.260417\n",
       "Healthcare                0.197917\n",
       "Technology                0.151042\n",
       "Industrials               0.088542\n",
       "Real Estate               0.083333\n",
       "Consumer Cyclical         0.046875\n",
       "Energy                    0.046875\n",
       "Utilities                 0.036458\n",
       "Consumer Defensive        0.031250\n",
       "Basic Materials           0.031250\n",
       "Communication Services    0.026042\n",
       "Name: proportion, dtype: float64"
      ]
     },
     "execution_count": 134,
     "metadata": {},
     "output_type": "execute_result"
    }
   ],
   "source": [
    "stocks['sector'].value_counts(normalize=True)"
   ]
  },
  {
   "cell_type": "markdown",
   "metadata": {
    "iooxa": {
     "id": {
      "block": "iYtougLAiAa7Tlqmgdek",
      "project": "o8uCbOPb8iJK0GDallsV",
      "version": 1
     }
    }
   },
   "source": [
    "## **Pivot Table**\n",
    "\n",
    "- The `pd.pivot_table()` function in Pandas is used to create a **pivot table**, which is a data summarization tool that reorganizes and aggregates data to help analyze relationships and trends.\n",
    "- Pivot tables are particularly useful for exploring multidimensional data, especially when looking at averages, counts, sums, or other aggregate metrics grouped by one or more categories.\n",
    "- Key Parameters of `pd.pivot_table()`:\n",
    "  1. `data`: The DataFrame to be used for the pivot table.\n",
    "  2. `values`: The column(s) to aggregate (e.g., `price`, `sales`).\n",
    "  3. `index`: The column(s) to group by rows in the pivot table.\n",
    "  4. `columns`: The column(s) to group by columns in the pivot table.\n",
    "  5. `aggfunc`: The aggregation function to apply to the data (e.g., `mean`, `sum`, `count`). The default is `mean`."
   ]
  },
  {
   "cell_type": "code",
   "execution_count": 135,
   "metadata": {
    "iooxa": {
     "id": {
      "block": "73LB9rSZuYPotYA4o3eP",
      "project": "o8uCbOPb8iJK0GDallsV",
      "version": 2
     },
     "outputId": {
      "block": "CbrvEGCW3AEAODYb89OL",
      "project": "o8uCbOPb8iJK0GDallsV",
      "version": 2
     }
    }
   },
   "outputs": [
    {
     "data": {
      "application/vnd.microsoft.datawrangler.viewer.v0+json": {
       "columns": [
        {
         "name": "sector",
         "rawType": "object",
         "type": "string"
        },
        {
         "name": "price",
         "rawType": "float64",
         "type": "float"
        }
       ],
       "ref": "c41699c7-74a1-417f-bb38-8bdd5f45ad8d",
       "rows": [
        [
         "Basic Materials",
         "23.721666375499996"
        ],
        [
         "Communication Services",
         "57.5900001956"
        ],
        [
         "Consumer Cyclical",
         "36.075556012"
        ],
        [
         "Consumer Defensive",
         "55.92500022883333"
        ],
        [
         "Energy",
         "12.36888877488889"
        ],
        [
         "Financial Services",
         "20.523556079320002"
        ],
        [
         "Healthcare",
         "42.22126051144737"
        ],
        [
         "Industrials",
         "47.299411151823534"
        ],
        [
         "Real Estate",
         "43.829687301375"
        ],
        [
         "Technology",
         "47.58465487062069"
        ],
        [
         "Utilities",
         "48.00000054428572"
        ]
       ],
       "shape": {
        "columns": 1,
        "rows": 11
       }
      },
      "text/html": [
       "<div>\n",
       "<style scoped>\n",
       "    .dataframe tbody tr th:only-of-type {\n",
       "        vertical-align: middle;\n",
       "    }\n",
       "\n",
       "    .dataframe tbody tr th {\n",
       "        vertical-align: top;\n",
       "    }\n",
       "\n",
       "    .dataframe thead th {\n",
       "        text-align: right;\n",
       "    }\n",
       "</style>\n",
       "<table border=\"1\" class=\"dataframe\">\n",
       "  <thead>\n",
       "    <tr style=\"text-align: right;\">\n",
       "      <th></th>\n",
       "      <th>price</th>\n",
       "    </tr>\n",
       "    <tr>\n",
       "      <th>sector</th>\n",
       "      <th></th>\n",
       "    </tr>\n",
       "  </thead>\n",
       "  <tbody>\n",
       "    <tr>\n",
       "      <th>Basic Materials</th>\n",
       "      <td>23.721666</td>\n",
       "    </tr>\n",
       "    <tr>\n",
       "      <th>Communication Services</th>\n",
       "      <td>57.590000</td>\n",
       "    </tr>\n",
       "    <tr>\n",
       "      <th>Consumer Cyclical</th>\n",
       "      <td>36.075556</td>\n",
       "    </tr>\n",
       "    <tr>\n",
       "      <th>Consumer Defensive</th>\n",
       "      <td>55.925000</td>\n",
       "    </tr>\n",
       "    <tr>\n",
       "      <th>Energy</th>\n",
       "      <td>12.368889</td>\n",
       "    </tr>\n",
       "    <tr>\n",
       "      <th>Financial Services</th>\n",
       "      <td>20.523556</td>\n",
       "    </tr>\n",
       "    <tr>\n",
       "      <th>Healthcare</th>\n",
       "      <td>42.221261</td>\n",
       "    </tr>\n",
       "    <tr>\n",
       "      <th>Industrials</th>\n",
       "      <td>47.299411</td>\n",
       "    </tr>\n",
       "    <tr>\n",
       "      <th>Real Estate</th>\n",
       "      <td>43.829687</td>\n",
       "    </tr>\n",
       "    <tr>\n",
       "      <th>Technology</th>\n",
       "      <td>47.584655</td>\n",
       "    </tr>\n",
       "    <tr>\n",
       "      <th>Utilities</th>\n",
       "      <td>48.000001</td>\n",
       "    </tr>\n",
       "  </tbody>\n",
       "</table>\n",
       "</div>"
      ],
      "text/plain": [
       "                            price\n",
       "sector                           \n",
       "Basic Materials         23.721666\n",
       "Communication Services  57.590000\n",
       "Consumer Cyclical       36.075556\n",
       "Consumer Defensive      55.925000\n",
       "Energy                  12.368889\n",
       "Financial Services      20.523556\n",
       "Healthcare              42.221261\n",
       "Industrials             47.299411\n",
       "Real Estate             43.829687\n",
       "Technology              47.584655\n",
       "Utilities               48.000001"
      ]
     },
     "execution_count": 135,
     "metadata": {},
     "output_type": "execute_result"
    }
   ],
   "source": [
    "#Pivot Tables\n",
    "stocks.pivot_table(values='price', index='sector')  \n",
    "## by default it summarize the mean "
   ]
  },
  {
   "cell_type": "code",
   "execution_count": 136,
   "metadata": {
    "iooxa": {
     "id": {
      "block": "9XNfAgQWhlwYAPv2GZlr",
      "project": "o8uCbOPb8iJK0GDallsV",
      "version": 2
     },
     "outputId": {
      "block": "tnpR4xZvTB6WOeDb3I3P",
      "project": "o8uCbOPb8iJK0GDallsV",
      "version": 2
     }
    }
   },
   "outputs": [
    {
     "name": "stderr",
     "output_type": "stream",
     "text": [
      "/var/folders/h0/s41cy5xj0qx08m983bv4kc3c0000gn/T/ipykernel_4870/3317722034.py:2: FutureWarning: The provided callable <function median at 0x10502fee0> is currently using DataFrameGroupBy.median. In a future version of pandas, the provided callable will be used directly. To keep current behavior pass the string \"median\" instead.\n",
      "  stocks.pivot_table(values='price', index='sector' , aggfunc = np.median)\n"
     ]
    },
    {
     "data": {
      "application/vnd.microsoft.datawrangler.viewer.v0+json": {
       "columns": [
        {
         "name": "sector",
         "rawType": "object",
         "type": "string"
        },
        {
         "name": "price",
         "rawType": "float64",
         "type": "float"
        }
       ],
       "ref": "14c9f57d-085d-428e-9c8b-9b28ea18babf",
       "rows": [
        [
         "Basic Materials",
         "18.019999505"
        ],
        [
         "Communication Services",
         "5.050000191"
        ],
        [
         "Consumer Cyclical",
         "17.39999962"
        ],
        [
         "Consumer Defensive",
         "41.940000534999996"
        ],
        [
         "Energy",
         "8.93999958"
        ],
        [
         "Financial Services",
         "15.377500055"
        ],
        [
         "Healthcare",
         "14.5"
        ],
        [
         "Industrials",
         "26.61000061"
        ],
        [
         "Real Estate",
         "23.654999735"
        ],
        [
         "Technology",
         "16.90500069"
        ],
        [
         "Utilities",
         "42.77000046"
        ]
       ],
       "shape": {
        "columns": 1,
        "rows": 11
       }
      },
      "text/html": [
       "<div>\n",
       "<style scoped>\n",
       "    .dataframe tbody tr th:only-of-type {\n",
       "        vertical-align: middle;\n",
       "    }\n",
       "\n",
       "    .dataframe tbody tr th {\n",
       "        vertical-align: top;\n",
       "    }\n",
       "\n",
       "    .dataframe thead th {\n",
       "        text-align: right;\n",
       "    }\n",
       "</style>\n",
       "<table border=\"1\" class=\"dataframe\">\n",
       "  <thead>\n",
       "    <tr style=\"text-align: right;\">\n",
       "      <th></th>\n",
       "      <th>price</th>\n",
       "    </tr>\n",
       "    <tr>\n",
       "      <th>sector</th>\n",
       "      <th></th>\n",
       "    </tr>\n",
       "  </thead>\n",
       "  <tbody>\n",
       "    <tr>\n",
       "      <th>Basic Materials</th>\n",
       "      <td>18.020000</td>\n",
       "    </tr>\n",
       "    <tr>\n",
       "      <th>Communication Services</th>\n",
       "      <td>5.050000</td>\n",
       "    </tr>\n",
       "    <tr>\n",
       "      <th>Consumer Cyclical</th>\n",
       "      <td>17.400000</td>\n",
       "    </tr>\n",
       "    <tr>\n",
       "      <th>Consumer Defensive</th>\n",
       "      <td>41.940001</td>\n",
       "    </tr>\n",
       "    <tr>\n",
       "      <th>Energy</th>\n",
       "      <td>8.940000</td>\n",
       "    </tr>\n",
       "    <tr>\n",
       "      <th>Financial Services</th>\n",
       "      <td>15.377500</td>\n",
       "    </tr>\n",
       "    <tr>\n",
       "      <th>Healthcare</th>\n",
       "      <td>14.500000</td>\n",
       "    </tr>\n",
       "    <tr>\n",
       "      <th>Industrials</th>\n",
       "      <td>26.610001</td>\n",
       "    </tr>\n",
       "    <tr>\n",
       "      <th>Real Estate</th>\n",
       "      <td>23.655000</td>\n",
       "    </tr>\n",
       "    <tr>\n",
       "      <th>Technology</th>\n",
       "      <td>16.905001</td>\n",
       "    </tr>\n",
       "    <tr>\n",
       "      <th>Utilities</th>\n",
       "      <td>42.770000</td>\n",
       "    </tr>\n",
       "  </tbody>\n",
       "</table>\n",
       "</div>"
      ],
      "text/plain": [
       "                            price\n",
       "sector                           \n",
       "Basic Materials         18.020000\n",
       "Communication Services   5.050000\n",
       "Consumer Cyclical       17.400000\n",
       "Consumer Defensive      41.940001\n",
       "Energy                   8.940000\n",
       "Financial Services      15.377500\n",
       "Healthcare              14.500000\n",
       "Industrials             26.610001\n",
       "Real Estate             23.655000\n",
       "Technology              16.905001\n",
       "Utilities               42.770000"
      ]
     },
     "execution_count": 136,
     "metadata": {},
     "output_type": "execute_result"
    }
   ],
   "source": [
    "import numpy as np\n",
    "stocks.pivot_table(values='price', index='sector' , aggfunc = np.median)"
   ]
  },
  {
   "cell_type": "code",
   "execution_count": 137,
   "metadata": {
    "iooxa": {
     "id": {
      "block": "2YNVGpWKtLWns2mOthYD",
      "project": "o8uCbOPb8iJK0GDallsV",
      "version": 2
     },
     "outputId": {
      "block": "z4v374Uzda6zK3NbyqfK",
      "project": "o8uCbOPb8iJK0GDallsV",
      "version": 2
     }
    }
   },
   "outputs": [
    {
     "name": "stderr",
     "output_type": "stream",
     "text": [
      "/var/folders/h0/s41cy5xj0qx08m983bv4kc3c0000gn/T/ipykernel_4870/2295277351.py:2: FutureWarning: The provided callable <function mean at 0x1045739d0> is currently using DataFrameGroupBy.mean. In a future version of pandas, the provided callable will be used directly. To keep current behavior pass the string \"mean\" instead.\n",
      "  stocks.pivot_table(values='price', index='sector' , aggfunc = [np.mean, np.median])\n",
      "/var/folders/h0/s41cy5xj0qx08m983bv4kc3c0000gn/T/ipykernel_4870/2295277351.py:2: FutureWarning: The provided callable <function median at 0x10502fee0> is currently using DataFrameGroupBy.median. In a future version of pandas, the provided callable will be used directly. To keep current behavior pass the string \"median\" instead.\n",
      "  stocks.pivot_table(values='price', index='sector' , aggfunc = [np.mean, np.median])\n"
     ]
    },
    {
     "data": {
      "application/vnd.microsoft.datawrangler.viewer.v0+json": {
       "columns": [
        {
         "name": "sector",
         "rawType": "object",
         "type": "string"
        },
        {
         "name": "('mean', 'price')",
         "rawType": "float64",
         "type": "float"
        },
        {
         "name": "('median', 'price')",
         "rawType": "float64",
         "type": "float"
        }
       ],
       "ref": "db2cb8f3-11f2-41b8-a5b4-89f08f754c4b",
       "rows": [
        [
         "Basic Materials",
         "23.721666375499996",
         "18.019999505"
        ],
        [
         "Communication Services",
         "57.5900001956",
         "5.050000191"
        ],
        [
         "Consumer Cyclical",
         "36.075556012",
         "17.39999962"
        ],
        [
         "Consumer Defensive",
         "55.92500022883333",
         "41.940000534999996"
        ],
        [
         "Energy",
         "12.36888877488889",
         "8.93999958"
        ],
        [
         "Financial Services",
         "20.523556079320002",
         "15.377500055"
        ],
        [
         "Healthcare",
         "42.22126051144737",
         "14.5"
        ],
        [
         "Industrials",
         "47.299411151823534",
         "26.61000061"
        ],
        [
         "Real Estate",
         "43.829687301375",
         "23.654999735"
        ],
        [
         "Technology",
         "47.58465487062069",
         "16.90500069"
        ],
        [
         "Utilities",
         "48.00000054428572",
         "42.77000046"
        ]
       ],
       "shape": {
        "columns": 2,
        "rows": 11
       }
      },
      "text/html": [
       "<div>\n",
       "<style scoped>\n",
       "    .dataframe tbody tr th:only-of-type {\n",
       "        vertical-align: middle;\n",
       "    }\n",
       "\n",
       "    .dataframe tbody tr th {\n",
       "        vertical-align: top;\n",
       "    }\n",
       "\n",
       "    .dataframe thead tr th {\n",
       "        text-align: left;\n",
       "    }\n",
       "\n",
       "    .dataframe thead tr:last-of-type th {\n",
       "        text-align: right;\n",
       "    }\n",
       "</style>\n",
       "<table border=\"1\" class=\"dataframe\">\n",
       "  <thead>\n",
       "    <tr>\n",
       "      <th></th>\n",
       "      <th>mean</th>\n",
       "      <th>median</th>\n",
       "    </tr>\n",
       "    <tr>\n",
       "      <th></th>\n",
       "      <th>price</th>\n",
       "      <th>price</th>\n",
       "    </tr>\n",
       "    <tr>\n",
       "      <th>sector</th>\n",
       "      <th></th>\n",
       "      <th></th>\n",
       "    </tr>\n",
       "  </thead>\n",
       "  <tbody>\n",
       "    <tr>\n",
       "      <th>Basic Materials</th>\n",
       "      <td>23.721666</td>\n",
       "      <td>18.020000</td>\n",
       "    </tr>\n",
       "    <tr>\n",
       "      <th>Communication Services</th>\n",
       "      <td>57.590000</td>\n",
       "      <td>5.050000</td>\n",
       "    </tr>\n",
       "    <tr>\n",
       "      <th>Consumer Cyclical</th>\n",
       "      <td>36.075556</td>\n",
       "      <td>17.400000</td>\n",
       "    </tr>\n",
       "    <tr>\n",
       "      <th>Consumer Defensive</th>\n",
       "      <td>55.925000</td>\n",
       "      <td>41.940001</td>\n",
       "    </tr>\n",
       "    <tr>\n",
       "      <th>Energy</th>\n",
       "      <td>12.368889</td>\n",
       "      <td>8.940000</td>\n",
       "    </tr>\n",
       "    <tr>\n",
       "      <th>Financial Services</th>\n",
       "      <td>20.523556</td>\n",
       "      <td>15.377500</td>\n",
       "    </tr>\n",
       "    <tr>\n",
       "      <th>Healthcare</th>\n",
       "      <td>42.221261</td>\n",
       "      <td>14.500000</td>\n",
       "    </tr>\n",
       "    <tr>\n",
       "      <th>Industrials</th>\n",
       "      <td>47.299411</td>\n",
       "      <td>26.610001</td>\n",
       "    </tr>\n",
       "    <tr>\n",
       "      <th>Real Estate</th>\n",
       "      <td>43.829687</td>\n",
       "      <td>23.655000</td>\n",
       "    </tr>\n",
       "    <tr>\n",
       "      <th>Technology</th>\n",
       "      <td>47.584655</td>\n",
       "      <td>16.905001</td>\n",
       "    </tr>\n",
       "    <tr>\n",
       "      <th>Utilities</th>\n",
       "      <td>48.000001</td>\n",
       "      <td>42.770000</td>\n",
       "    </tr>\n",
       "  </tbody>\n",
       "</table>\n",
       "</div>"
      ],
      "text/plain": [
       "                             mean     median\n",
       "                            price      price\n",
       "sector                                      \n",
       "Basic Materials         23.721666  18.020000\n",
       "Communication Services  57.590000   5.050000\n",
       "Consumer Cyclical       36.075556  17.400000\n",
       "Consumer Defensive      55.925000  41.940001\n",
       "Energy                  12.368889   8.940000\n",
       "Financial Services      20.523556  15.377500\n",
       "Healthcare              42.221261  14.500000\n",
       "Industrials             47.299411  26.610001\n",
       "Real Estate             43.829687  23.655000\n",
       "Technology              47.584655  16.905001\n",
       "Utilities               48.000001  42.770000"
      ]
     },
     "execution_count": 137,
     "metadata": {},
     "output_type": "execute_result"
    }
   ],
   "source": [
    "import numpy as np\n",
    "stocks.pivot_table(values='price', index='sector' , aggfunc = [np.mean, np.median])"
   ]
  },
  {
   "cell_type": "markdown",
   "metadata": {
    "iooxa": {
     "id": {
      "block": "HLFdKwn5lrebIHmoxWMR",
      "project": "o8uCbOPb8iJK0GDallsV",
      "version": 1
     }
    }
   },
   "source": [
    "### **Think?**\n",
    "\n",
    "How can we create two new categorical variables representing whether values in the `price` and `avg_spread` columns are **above or below their median?**"
   ]
  },
  {
   "cell_type": "code",
   "execution_count": 138,
   "metadata": {
    "iooxa": {
     "id": {
      "block": "gI4CfLdDJDKwMwlmJNaE",
      "project": "o8uCbOPb8iJK0GDallsV",
      "version": 1
     },
     "outputId": {
      "block": "KE1kmzwwKne0bu0a2gUE",
      "project": "o8uCbOPb8iJK0GDallsV",
      "version": 1
     }
    }
   },
   "outputs": [
    {
     "name": "stdout",
     "output_type": "stream",
     "text": [
      "<class 'pandas.core.frame.DataFrame'>\n",
      "Index: 192 entries, 0 to 199\n",
      "Data columns (total 9 columns):\n",
      " #   Column         Non-Null Count  Dtype  \n",
      "---  ------         --------------  -----  \n",
      " 0   symbol         192 non-null    object \n",
      " 1   sector         192 non-null    object \n",
      " 2   industry       192 non-null    object \n",
      " 3   price          192 non-null    float64\n",
      " 4   avg_volume     192 non-null    int64  \n",
      " 5   avg_spread     192 non-null    float64\n",
      " 6   market_cap     192 non-null    float64\n",
      " 7   avg_spread.1   192 non-null    float64\n",
      " 8   dollar_volume  192 non-null    float64\n",
      "dtypes: float64(5), int64(1), object(3)\n",
      "memory usage: 15.0+ KB\n"
     ]
    }
   ],
   "source": [
    "stocks.info()"
   ]
  },
  {
   "cell_type": "code",
   "execution_count": 139,
   "metadata": {
    "iooxa": {
     "id": {
      "block": "LNQPHGKemNUPbxXLyRIq",
      "project": "o8uCbOPb8iJK0GDallsV",
      "version": 2
     },
     "outputId": {
      "block": "6gpRp7ROd0njEdrWfDlk",
      "project": "o8uCbOPb8iJK0GDallsV",
      "version": 2
     }
    }
   },
   "outputs": [
    {
     "data": {
      "application/vnd.microsoft.datawrangler.viewer.v0+json": {
       "columns": [
        {
         "name": "price_level",
         "rawType": "object",
         "type": "string"
        },
        {
         "name": "count",
         "rawType": "int64",
         "type": "integer"
        }
       ],
       "ref": "6fa90940-2a1e-45de-8ed7-55423c0d8515",
       "rows": [
        [
         "low",
         "96"
        ],
        [
         "high",
         "96"
        ]
       ],
       "shape": {
        "columns": 1,
        "rows": 2
       }
      },
      "text/plain": [
       "price_level\n",
       "low     96\n",
       "high    96\n",
       "Name: count, dtype: int64"
      ]
     },
     "execution_count": 139,
     "metadata": {},
     "output_type": "execute_result"
    }
   ],
   "source": [
    "median_price = stocks['price'].median()\n",
    "stocks['price_level']= np.where(stocks['price'] > median_price ,'high','low')\n",
    "stocks['price_level'].value_counts()"
   ]
  },
  {
   "cell_type": "code",
   "execution_count": 140,
   "metadata": {
    "iooxa": {
     "id": {
      "block": "HRZmo2NW2TfD80XT9ldS",
      "project": "o8uCbOPb8iJK0GDallsV",
      "version": 2
     },
     "outputId": {
      "block": "4YKfpawmMRshzIGLozgG",
      "project": "o8uCbOPb8iJK0GDallsV",
      "version": 2
     }
    }
   },
   "outputs": [
    {
     "data": {
      "application/vnd.microsoft.datawrangler.viewer.v0+json": {
       "columns": [
        {
         "name": "spread_level",
         "rawType": "object",
         "type": "string"
        },
        {
         "name": "count",
         "rawType": "int64",
         "type": "integer"
        }
       ],
       "ref": "5070700f-2a50-4361-9ce4-420270e1e8f8",
       "rows": [
        [
         "low",
         "96"
        ],
        [
         "high",
         "96"
        ]
       ],
       "shape": {
        "columns": 1,
        "rows": 2
       }
      },
      "text/plain": [
       "spread_level\n",
       "low     96\n",
       "high    96\n",
       "Name: count, dtype: int64"
      ]
     },
     "execution_count": 140,
     "metadata": {},
     "output_type": "execute_result"
    }
   ],
   "source": [
    "median_spread = stocks['avg_spread'].median()\n",
    "stocks['spread_level']= np.where(stocks['avg_spread'] > median_spread ,'high','low')\n",
    "stocks['spread_level'].value_counts()"
   ]
  },
  {
   "cell_type": "code",
   "execution_count": 141,
   "metadata": {
    "iooxa": {
     "id": {
      "block": "z3skpNEJIeRPdCdDMUZ1",
      "project": "o8uCbOPb8iJK0GDallsV",
      "version": 2
     },
     "outputId": {
      "block": "giCqZ64QtzRjHlLY5Muw",
      "project": "o8uCbOPb8iJK0GDallsV",
      "version": 2
     }
    }
   },
   "outputs": [
    {
     "data": {
      "application/vnd.microsoft.datawrangler.viewer.v0+json": {
       "columns": [
        {
         "name": "index",
         "rawType": "int64",
         "type": "integer"
        },
        {
         "name": "symbol",
         "rawType": "object",
         "type": "string"
        },
        {
         "name": "sector",
         "rawType": "object",
         "type": "string"
        },
        {
         "name": "industry",
         "rawType": "object",
         "type": "string"
        },
        {
         "name": "price",
         "rawType": "float64",
         "type": "float"
        },
        {
         "name": "avg_volume",
         "rawType": "int64",
         "type": "integer"
        },
        {
         "name": "avg_spread",
         "rawType": "float64",
         "type": "float"
        },
        {
         "name": "market_cap",
         "rawType": "float64",
         "type": "float"
        },
        {
         "name": "avg_spread.1",
         "rawType": "float64",
         "type": "float"
        },
        {
         "name": "dollar_volume",
         "rawType": "float64",
         "type": "float"
        },
        {
         "name": "price_level",
         "rawType": "object",
         "type": "string"
        },
        {
         "name": "spread_level",
         "rawType": "object",
         "type": "string"
        }
       ],
       "ref": "653eac8f-15a5-4a66-8046-a962ee8db2d7",
       "rows": [
        [
         "0",
         "CPAH",
         "Technology",
         "Software—Application",
         "3.48",
         "74600",
         "0.010135135",
         "22454623.44",
         "0.010135135",
         "259608.0",
         "low",
         "low"
        ],
        [
         "1",
         "NBRV",
         "Healthcare",
         "Biotechnology",
         "1.789999962",
         "3468270",
         "0.010134519",
         "63340335.42",
         "0.010134519",
         "6208203.16820574",
         "low",
         "low"
        ],
        [
         "2",
         "VCRA",
         "Technology",
         "Communication Equipment",
         "43.95000076",
         "722431",
         "0.143875222",
         "1443100473.0",
         "0.143875222",
         "31750842.999047562",
         "high",
         "high"
        ],
        [
         "3",
         "MKSI",
         "Technology",
         "Scientific & Technical Instruments",
         "153.0",
         "590971",
         "0.57398596",
         "8448984054.0",
         "0.57398596",
         "90418563.0",
         "high",
         "high"
        ],
        [
         "4",
         "RHI",
         "Industrials",
         "Staffing & Employment Services",
         "76.91999817",
         "1287779",
         "0.105434907",
         "8701563563.0",
         "0.105434907",
         "99055958.32336444",
         "high",
         "high"
        ],
        [
         "5",
         "CSV",
         "Consumer Cyclical",
         "Personal Services",
         "34.06000137",
         "114940",
         "0.173779993",
         "612900085.7",
         "0.173779993",
         "3914856.5574678",
         "high",
         "high"
        ],
        [
         "6",
         "PTNR",
         "Communication Services",
         "Telecom Services",
         "4.900000095",
         "5321",
         "0.08529563",
         "900234706.0",
         "0.08529563",
         "26072.900505495",
         "low",
         "high"
        ],
        [
         "7",
         "GRCL",
         "Healthcare",
         "Biotechnology",
         "21.02000046",
         "30016",
         "0.392674544",
         "1378138477.0",
         "0.392674544",
         "630936.3338073599",
         "high",
         "high"
        ],
        [
         "8",
         "SLDB",
         "Healthcare",
         "Drug Manufacturers—Specialty & Generic",
         "9.399999619",
         "866541",
         "0.04958158",
         "568223782.3",
         "0.04958158",
         "8145485.06984788",
         "low",
         "low"
        ],
        [
         "9",
         "AL",
         "Industrials",
         "Rental & Leasing Services",
         "47.99000168",
         "668221",
         "0.110488916",
         "5464809180.0",
         "0.110488916",
         "32067926.91261128",
         "high",
         "high"
        ]
       ],
       "shape": {
        "columns": 11,
        "rows": 10
       }
      },
      "text/html": [
       "<div>\n",
       "<style scoped>\n",
       "    .dataframe tbody tr th:only-of-type {\n",
       "        vertical-align: middle;\n",
       "    }\n",
       "\n",
       "    .dataframe tbody tr th {\n",
       "        vertical-align: top;\n",
       "    }\n",
       "\n",
       "    .dataframe thead th {\n",
       "        text-align: right;\n",
       "    }\n",
       "</style>\n",
       "<table border=\"1\" class=\"dataframe\">\n",
       "  <thead>\n",
       "    <tr style=\"text-align: right;\">\n",
       "      <th></th>\n",
       "      <th>symbol</th>\n",
       "      <th>sector</th>\n",
       "      <th>industry</th>\n",
       "      <th>price</th>\n",
       "      <th>avg_volume</th>\n",
       "      <th>avg_spread</th>\n",
       "      <th>market_cap</th>\n",
       "      <th>avg_spread.1</th>\n",
       "      <th>dollar_volume</th>\n",
       "      <th>price_level</th>\n",
       "      <th>spread_level</th>\n",
       "    </tr>\n",
       "  </thead>\n",
       "  <tbody>\n",
       "    <tr>\n",
       "      <th>0</th>\n",
       "      <td>CPAH</td>\n",
       "      <td>Technology</td>\n",
       "      <td>Software—Application</td>\n",
       "      <td>3.480000</td>\n",
       "      <td>74600</td>\n",
       "      <td>0.010135</td>\n",
       "      <td>2.245462e+07</td>\n",
       "      <td>0.010135</td>\n",
       "      <td>2.596080e+05</td>\n",
       "      <td>low</td>\n",
       "      <td>low</td>\n",
       "    </tr>\n",
       "    <tr>\n",
       "      <th>1</th>\n",
       "      <td>NBRV</td>\n",
       "      <td>Healthcare</td>\n",
       "      <td>Biotechnology</td>\n",
       "      <td>1.790000</td>\n",
       "      <td>3468270</td>\n",
       "      <td>0.010135</td>\n",
       "      <td>6.334034e+07</td>\n",
       "      <td>0.010135</td>\n",
       "      <td>6.208203e+06</td>\n",
       "      <td>low</td>\n",
       "      <td>low</td>\n",
       "    </tr>\n",
       "    <tr>\n",
       "      <th>2</th>\n",
       "      <td>VCRA</td>\n",
       "      <td>Technology</td>\n",
       "      <td>Communication Equipment</td>\n",
       "      <td>43.950001</td>\n",
       "      <td>722431</td>\n",
       "      <td>0.143875</td>\n",
       "      <td>1.443100e+09</td>\n",
       "      <td>0.143875</td>\n",
       "      <td>3.175084e+07</td>\n",
       "      <td>high</td>\n",
       "      <td>high</td>\n",
       "    </tr>\n",
       "    <tr>\n",
       "      <th>3</th>\n",
       "      <td>MKSI</td>\n",
       "      <td>Technology</td>\n",
       "      <td>Scientific &amp; Technical Instruments</td>\n",
       "      <td>153.000000</td>\n",
       "      <td>590971</td>\n",
       "      <td>0.573986</td>\n",
       "      <td>8.448984e+09</td>\n",
       "      <td>0.573986</td>\n",
       "      <td>9.041856e+07</td>\n",
       "      <td>high</td>\n",
       "      <td>high</td>\n",
       "    </tr>\n",
       "    <tr>\n",
       "      <th>4</th>\n",
       "      <td>RHI</td>\n",
       "      <td>Industrials</td>\n",
       "      <td>Staffing &amp; Employment Services</td>\n",
       "      <td>76.919998</td>\n",
       "      <td>1287779</td>\n",
       "      <td>0.105435</td>\n",
       "      <td>8.701564e+09</td>\n",
       "      <td>0.105435</td>\n",
       "      <td>9.905596e+07</td>\n",
       "      <td>high</td>\n",
       "      <td>high</td>\n",
       "    </tr>\n",
       "    <tr>\n",
       "      <th>5</th>\n",
       "      <td>CSV</td>\n",
       "      <td>Consumer Cyclical</td>\n",
       "      <td>Personal Services</td>\n",
       "      <td>34.060001</td>\n",
       "      <td>114940</td>\n",
       "      <td>0.173780</td>\n",
       "      <td>6.129001e+08</td>\n",
       "      <td>0.173780</td>\n",
       "      <td>3.914857e+06</td>\n",
       "      <td>high</td>\n",
       "      <td>high</td>\n",
       "    </tr>\n",
       "    <tr>\n",
       "      <th>6</th>\n",
       "      <td>PTNR</td>\n",
       "      <td>Communication Services</td>\n",
       "      <td>Telecom Services</td>\n",
       "      <td>4.900000</td>\n",
       "      <td>5321</td>\n",
       "      <td>0.085296</td>\n",
       "      <td>9.002347e+08</td>\n",
       "      <td>0.085296</td>\n",
       "      <td>2.607290e+04</td>\n",
       "      <td>low</td>\n",
       "      <td>high</td>\n",
       "    </tr>\n",
       "    <tr>\n",
       "      <th>7</th>\n",
       "      <td>GRCL</td>\n",
       "      <td>Healthcare</td>\n",
       "      <td>Biotechnology</td>\n",
       "      <td>21.020000</td>\n",
       "      <td>30016</td>\n",
       "      <td>0.392675</td>\n",
       "      <td>1.378138e+09</td>\n",
       "      <td>0.392675</td>\n",
       "      <td>6.309363e+05</td>\n",
       "      <td>high</td>\n",
       "      <td>high</td>\n",
       "    </tr>\n",
       "    <tr>\n",
       "      <th>8</th>\n",
       "      <td>SLDB</td>\n",
       "      <td>Healthcare</td>\n",
       "      <td>Drug Manufacturers—Specialty &amp; Generic</td>\n",
       "      <td>9.400000</td>\n",
       "      <td>866541</td>\n",
       "      <td>0.049582</td>\n",
       "      <td>5.682238e+08</td>\n",
       "      <td>0.049582</td>\n",
       "      <td>8.145485e+06</td>\n",
       "      <td>low</td>\n",
       "      <td>low</td>\n",
       "    </tr>\n",
       "    <tr>\n",
       "      <th>9</th>\n",
       "      <td>AL</td>\n",
       "      <td>Industrials</td>\n",
       "      <td>Rental &amp; Leasing Services</td>\n",
       "      <td>47.990002</td>\n",
       "      <td>668221</td>\n",
       "      <td>0.110489</td>\n",
       "      <td>5.464809e+09</td>\n",
       "      <td>0.110489</td>\n",
       "      <td>3.206793e+07</td>\n",
       "      <td>high</td>\n",
       "      <td>high</td>\n",
       "    </tr>\n",
       "  </tbody>\n",
       "</table>\n",
       "</div>"
      ],
      "text/plain": [
       "  symbol                  sector                                industry  \\\n",
       "0   CPAH              Technology                    Software—Application   \n",
       "1   NBRV              Healthcare                           Biotechnology   \n",
       "2   VCRA              Technology                 Communication Equipment   \n",
       "3   MKSI              Technology      Scientific & Technical Instruments   \n",
       "4    RHI             Industrials          Staffing & Employment Services   \n",
       "5    CSV       Consumer Cyclical                       Personal Services   \n",
       "6   PTNR  Communication Services                        Telecom Services   \n",
       "7   GRCL              Healthcare                           Biotechnology   \n",
       "8   SLDB              Healthcare  Drug Manufacturers—Specialty & Generic   \n",
       "9     AL             Industrials               Rental & Leasing Services   \n",
       "\n",
       "        price  avg_volume  avg_spread    market_cap  avg_spread.1  \\\n",
       "0    3.480000       74600    0.010135  2.245462e+07      0.010135   \n",
       "1    1.790000     3468270    0.010135  6.334034e+07      0.010135   \n",
       "2   43.950001      722431    0.143875  1.443100e+09      0.143875   \n",
       "3  153.000000      590971    0.573986  8.448984e+09      0.573986   \n",
       "4   76.919998     1287779    0.105435  8.701564e+09      0.105435   \n",
       "5   34.060001      114940    0.173780  6.129001e+08      0.173780   \n",
       "6    4.900000        5321    0.085296  9.002347e+08      0.085296   \n",
       "7   21.020000       30016    0.392675  1.378138e+09      0.392675   \n",
       "8    9.400000      866541    0.049582  5.682238e+08      0.049582   \n",
       "9   47.990002      668221    0.110489  5.464809e+09      0.110489   \n",
       "\n",
       "   dollar_volume price_level spread_level  \n",
       "0   2.596080e+05         low          low  \n",
       "1   6.208203e+06         low          low  \n",
       "2   3.175084e+07        high         high  \n",
       "3   9.041856e+07        high         high  \n",
       "4   9.905596e+07        high         high  \n",
       "5   3.914857e+06        high         high  \n",
       "6   2.607290e+04         low         high  \n",
       "7   6.309363e+05        high         high  \n",
       "8   8.145485e+06         low          low  \n",
       "9   3.206793e+07        high         high  "
      ]
     },
     "execution_count": 141,
     "metadata": {},
     "output_type": "execute_result"
    }
   ],
   "source": [
    "stocks.head(10)"
   ]
  },
  {
   "cell_type": "code",
   "execution_count": 142,
   "metadata": {
    "iooxa": {
     "id": {
      "block": "ywyTqsNkO7FVmDYSsgBh",
      "project": "o8uCbOPb8iJK0GDallsV",
      "version": 2
     },
     "outputId": {
      "block": "S1riF8Ol2Q2hMgKNdbSK",
      "project": "o8uCbOPb8iJK0GDallsV",
      "version": 2
     }
    }
   },
   "outputs": [
    {
     "name": "stderr",
     "output_type": "stream",
     "text": [
      "/var/folders/h0/s41cy5xj0qx08m983bv4kc3c0000gn/T/ipykernel_4870/2700152642.py:1: FutureWarning: The provided callable <function median at 0x10502fee0> is currently using DataFrameGroupBy.median. In a future version of pandas, the provided callable will be used directly. To keep current behavior pass the string \"median\" instead.\n",
      "  stocks.pivot_table(values=['market_cap'], index='price_level' ,columns='spread_level', aggfunc= np.median )\n"
     ]
    },
    {
     "data": {
      "application/vnd.microsoft.datawrangler.viewer.v0+json": {
       "columns": [
        {
         "name": "price_level",
         "rawType": "object",
         "type": "string"
        },
        {
         "name": "('market_cap', 'high')",
         "rawType": "float64",
         "type": "float"
        },
        {
         "name": "('market_cap', 'low')",
         "rawType": "float64",
         "type": "float"
        }
       ],
       "ref": "ad5b236c-5367-472a-b818-372352ef4ac9",
       "rows": [
        [
         "high",
         "2018097174.0",
         "7466625315.0"
        ],
        [
         "low",
         "165256153.5",
         "305181950.3"
        ]
       ],
       "shape": {
        "columns": 2,
        "rows": 2
       }
      },
      "text/html": [
       "<div>\n",
       "<style scoped>\n",
       "    .dataframe tbody tr th:only-of-type {\n",
       "        vertical-align: middle;\n",
       "    }\n",
       "\n",
       "    .dataframe tbody tr th {\n",
       "        vertical-align: top;\n",
       "    }\n",
       "\n",
       "    .dataframe thead tr th {\n",
       "        text-align: left;\n",
       "    }\n",
       "\n",
       "    .dataframe thead tr:last-of-type th {\n",
       "        text-align: right;\n",
       "    }\n",
       "</style>\n",
       "<table border=\"1\" class=\"dataframe\">\n",
       "  <thead>\n",
       "    <tr>\n",
       "      <th></th>\n",
       "      <th colspan=\"2\" halign=\"left\">market_cap</th>\n",
       "    </tr>\n",
       "    <tr>\n",
       "      <th>spread_level</th>\n",
       "      <th>high</th>\n",
       "      <th>low</th>\n",
       "    </tr>\n",
       "    <tr>\n",
       "      <th>price_level</th>\n",
       "      <th></th>\n",
       "      <th></th>\n",
       "    </tr>\n",
       "  </thead>\n",
       "  <tbody>\n",
       "    <tr>\n",
       "      <th>high</th>\n",
       "      <td>2.018097e+09</td>\n",
       "      <td>7.466625e+09</td>\n",
       "    </tr>\n",
       "    <tr>\n",
       "      <th>low</th>\n",
       "      <td>1.652562e+08</td>\n",
       "      <td>3.051820e+08</td>\n",
       "    </tr>\n",
       "  </tbody>\n",
       "</table>\n",
       "</div>"
      ],
      "text/plain": [
       "                market_cap              \n",
       "spread_level          high           low\n",
       "price_level                             \n",
       "high          2.018097e+09  7.466625e+09\n",
       "low           1.652562e+08  3.051820e+08"
      ]
     },
     "execution_count": 142,
     "metadata": {},
     "output_type": "execute_result"
    }
   ],
   "source": [
    "stocks.pivot_table(values=['market_cap'], index='price_level' ,columns='spread_level', aggfunc= np.median )"
   ]
  },
  {
   "cell_type": "code",
   "execution_count": 143,
   "metadata": {
    "iooxa": {
     "id": {
      "block": "YkmlsjFuTpc7fkTgjuTq",
      "project": "o8uCbOPb8iJK0GDallsV",
      "version": 2
     },
     "outputId": {
      "block": "JpJnl7CrUbwrDyKsAb07",
      "project": "o8uCbOPb8iJK0GDallsV",
      "version": 2
     }
    }
   },
   "outputs": [
    {
     "name": "stderr",
     "output_type": "stream",
     "text": [
      "/var/folders/h0/s41cy5xj0qx08m983bv4kc3c0000gn/T/ipykernel_4870/2754013620.py:1: FutureWarning: The provided callable <function median at 0x10502fee0> is currently using DataFrameGroupBy.median. In a future version of pandas, the provided callable will be used directly. To keep current behavior pass the string \"median\" instead.\n",
      "  stocks.pivot_table(values=['avg_volume'], index='price_level' ,columns='spread_level', aggfunc= np.median )\n"
     ]
    },
    {
     "data": {
      "application/vnd.microsoft.datawrangler.viewer.v0+json": {
       "columns": [
        {
         "name": "price_level",
         "rawType": "object",
         "type": "string"
        },
        {
         "name": "('avg_volume', 'high')",
         "rawType": "float64",
         "type": "float"
        },
        {
         "name": "('avg_volume', 'low')",
         "rawType": "float64",
         "type": "float"
        }
       ],
       "ref": "5355a540-e48a-4f3e-adb2-847a598116ab",
       "rows": [
        [
         "high",
         "335439.0",
         "1380228.0"
        ],
        [
         "low",
         "64831.0",
         "654909.0"
        ]
       ],
       "shape": {
        "columns": 2,
        "rows": 2
       }
      },
      "text/html": [
       "<div>\n",
       "<style scoped>\n",
       "    .dataframe tbody tr th:only-of-type {\n",
       "        vertical-align: middle;\n",
       "    }\n",
       "\n",
       "    .dataframe tbody tr th {\n",
       "        vertical-align: top;\n",
       "    }\n",
       "\n",
       "    .dataframe thead tr th {\n",
       "        text-align: left;\n",
       "    }\n",
       "\n",
       "    .dataframe thead tr:last-of-type th {\n",
       "        text-align: right;\n",
       "    }\n",
       "</style>\n",
       "<table border=\"1\" class=\"dataframe\">\n",
       "  <thead>\n",
       "    <tr>\n",
       "      <th></th>\n",
       "      <th colspan=\"2\" halign=\"left\">avg_volume</th>\n",
       "    </tr>\n",
       "    <tr>\n",
       "      <th>spread_level</th>\n",
       "      <th>high</th>\n",
       "      <th>low</th>\n",
       "    </tr>\n",
       "    <tr>\n",
       "      <th>price_level</th>\n",
       "      <th></th>\n",
       "      <th></th>\n",
       "    </tr>\n",
       "  </thead>\n",
       "  <tbody>\n",
       "    <tr>\n",
       "      <th>high</th>\n",
       "      <td>335439.0</td>\n",
       "      <td>1380228.0</td>\n",
       "    </tr>\n",
       "    <tr>\n",
       "      <th>low</th>\n",
       "      <td>64831.0</td>\n",
       "      <td>654909.0</td>\n",
       "    </tr>\n",
       "  </tbody>\n",
       "</table>\n",
       "</div>"
      ],
      "text/plain": [
       "             avg_volume           \n",
       "spread_level       high        low\n",
       "price_level                       \n",
       "high           335439.0  1380228.0\n",
       "low             64831.0   654909.0"
      ]
     },
     "execution_count": 143,
     "metadata": {},
     "output_type": "execute_result"
    }
   ],
   "source": [
    "stocks.pivot_table(values=['avg_volume'], index='price_level' ,columns='spread_level', aggfunc= np.median )\n"
   ]
  },
  {
   "cell_type": "markdown",
   "metadata": {
    "iooxa": {
     "id": {
      "block": "aYn01dHbk6SwOFtkCUXh",
      "project": "o8uCbOPb8iJK0GDallsV",
      "version": 1
     }
    }
   },
   "source": [
    "Try to make an inference from the above two tables. Think what can you learn from it?"
   ]
  },
  {
   "cell_type": "markdown",
   "metadata": {
    "iooxa": {
     "id": {
      "block": "zGcwh9fkXYgTEQRXD3vh",
      "project": "o8uCbOPb8iJK0GDallsV",
      "version": 1
     }
    }
   },
   "source": [
    "# **Task**"
   ]
  },
  {
   "cell_type": "code",
   "execution_count": 144,
   "metadata": {
    "iooxa": {
     "id": {
      "block": "53ZzekXZXWMPyoh16BAY",
      "project": "o8uCbOPb8iJK0GDallsV",
      "version": 2
     },
     "outputId": {
      "block": "jMLOelOhQIqsg3Uq8C9M",
      "project": "o8uCbOPb8iJK0GDallsV",
      "version": 2
     }
    }
   },
   "outputs": [
    {
     "data": {
      "application/vnd.microsoft.datawrangler.viewer.v0+json": {
       "columns": [
        {
         "name": "index",
         "rawType": "int64",
         "type": "integer"
        },
        {
         "name": "Unnamed: 0",
         "rawType": "int64",
         "type": "integer"
        },
        {
         "name": "date",
         "rawType": "int64",
         "type": "integer"
        },
        {
         "name": "symbol",
         "rawType": "object",
         "type": "string"
        },
        {
         "name": "price",
         "rawType": "float64",
         "type": "float"
        },
        {
         "name": "return",
         "rawType": "float64",
         "type": "float"
        },
        {
         "name": "volume",
         "rawType": "float64",
         "type": "float"
        },
        {
         "name": "shares_out",
         "rawType": "float64",
         "type": "float"
        }
       ],
       "ref": "4be5f11c-bbcd-42a3-be5e-8e2ba9d7bbda",
       "rows": [
        [
         "0",
         "482",
         "20120131",
         "AMGN",
         "67.93",
         "0.057935",
         "1435603.0",
         "795600.0"
        ],
        [
         "1",
         "483",
         "20120229",
         "AMGN",
         "68.01",
         "0.0064769999999999",
         "1192389.0",
         "791432.0"
        ],
        [
         "2",
         "484",
         "20120330",
         "AMGN",
         "67.97",
         "-0.000588",
         "943340.0",
         "781100.0"
        ]
       ],
       "shape": {
        "columns": 7,
        "rows": 3
       }
      },
      "text/html": [
       "<div>\n",
       "<style scoped>\n",
       "    .dataframe tbody tr th:only-of-type {\n",
       "        vertical-align: middle;\n",
       "    }\n",
       "\n",
       "    .dataframe tbody tr th {\n",
       "        vertical-align: top;\n",
       "    }\n",
       "\n",
       "    .dataframe thead th {\n",
       "        text-align: right;\n",
       "    }\n",
       "</style>\n",
       "<table border=\"1\" class=\"dataframe\">\n",
       "  <thead>\n",
       "    <tr style=\"text-align: right;\">\n",
       "      <th></th>\n",
       "      <th>Unnamed: 0</th>\n",
       "      <th>date</th>\n",
       "      <th>symbol</th>\n",
       "      <th>price</th>\n",
       "      <th>return</th>\n",
       "      <th>volume</th>\n",
       "      <th>shares_out</th>\n",
       "    </tr>\n",
       "  </thead>\n",
       "  <tbody>\n",
       "    <tr>\n",
       "      <th>0</th>\n",
       "      <td>482</td>\n",
       "      <td>20120131</td>\n",
       "      <td>AMGN</td>\n",
       "      <td>67.93</td>\n",
       "      <td>0.057935</td>\n",
       "      <td>1435603.0</td>\n",
       "      <td>795600.0</td>\n",
       "    </tr>\n",
       "    <tr>\n",
       "      <th>1</th>\n",
       "      <td>483</td>\n",
       "      <td>20120229</td>\n",
       "      <td>AMGN</td>\n",
       "      <td>68.01</td>\n",
       "      <td>0.006477</td>\n",
       "      <td>1192389.0</td>\n",
       "      <td>791432.0</td>\n",
       "    </tr>\n",
       "    <tr>\n",
       "      <th>2</th>\n",
       "      <td>484</td>\n",
       "      <td>20120330</td>\n",
       "      <td>AMGN</td>\n",
       "      <td>67.97</td>\n",
       "      <td>-0.000588</td>\n",
       "      <td>943340.0</td>\n",
       "      <td>781100.0</td>\n",
       "    </tr>\n",
       "  </tbody>\n",
       "</table>\n",
       "</div>"
      ],
      "text/plain": [
       "   Unnamed: 0      date symbol  price    return     volume  shares_out\n",
       "0         482  20120131   AMGN  67.93  0.057935  1435603.0    795600.0\n",
       "1         483  20120229   AMGN  68.01  0.006477  1192389.0    791432.0\n",
       "2         484  20120330   AMGN  67.97 -0.000588   943340.0    781100.0"
      ]
     },
     "execution_count": 144,
     "metadata": {},
     "output_type": "execute_result"
    }
   ],
   "source": [
    "## Let us look at these stock data\n",
    "dow9= pd.read_csv('dataFiles/week-4-dow9_stcocks.csv')\n",
    "dow9.head(3)"
   ]
  },
  {
   "cell_type": "code",
   "execution_count": 145,
   "metadata": {
    "iooxa": {
     "id": {
      "block": "kX2oaZZyJCfBG8CfTgtZ",
      "project": "o8uCbOPb8iJK0GDallsV",
      "version": 1
     },
     "outputId": {
      "block": "2HTikmOWnvDRG9lUZqoC",
      "project": "o8uCbOPb8iJK0GDallsV",
      "version": 1
     }
    }
   },
   "outputs": [
    {
     "data": {
      "application/vnd.microsoft.datawrangler.viewer.v0+json": {
       "columns": [
        {
         "name": "index",
         "rawType": "int64",
         "type": "integer"
        },
        {
         "name": "Unnamed: 0",
         "rawType": "int64",
         "type": "integer"
        },
        {
         "name": "date",
         "rawType": "int64",
         "type": "integer"
        },
        {
         "name": "symbol",
         "rawType": "object",
         "type": "string"
        },
        {
         "name": "price",
         "rawType": "float64",
         "type": "float"
        },
        {
         "name": "return",
         "rawType": "float64",
         "type": "float"
        },
        {
         "name": "volume",
         "rawType": "float64",
         "type": "float"
        },
        {
         "name": "shares_out",
         "rawType": "float64",
         "type": "float"
        }
       ],
       "ref": "57ea42a4-7a44-4c1d-acc9-765865e3ae77",
       "rows": [
        [
         "1078",
         "3586",
         "20211029",
         "CRM",
         "299.69",
         "0.10497",
         "908745.0",
         "979000.0"
        ],
        [
         "1079",
         "3587",
         "20211130",
         "CRM",
         "284.95999",
         "-0.049151",
         "992961.0",
         "979000.0"
        ],
        [
         "1080",
         "3588",
         "20211231",
         "CRM",
         "254.13",
         "-0.108191",
         "1498136.0",
         "985000.0"
        ]
       ],
       "shape": {
        "columns": 7,
        "rows": 3
       }
      },
      "text/html": [
       "<div>\n",
       "<style scoped>\n",
       "    .dataframe tbody tr th:only-of-type {\n",
       "        vertical-align: middle;\n",
       "    }\n",
       "\n",
       "    .dataframe tbody tr th {\n",
       "        vertical-align: top;\n",
       "    }\n",
       "\n",
       "    .dataframe thead th {\n",
       "        text-align: right;\n",
       "    }\n",
       "</style>\n",
       "<table border=\"1\" class=\"dataframe\">\n",
       "  <thead>\n",
       "    <tr style=\"text-align: right;\">\n",
       "      <th></th>\n",
       "      <th>Unnamed: 0</th>\n",
       "      <th>date</th>\n",
       "      <th>symbol</th>\n",
       "      <th>price</th>\n",
       "      <th>return</th>\n",
       "      <th>volume</th>\n",
       "      <th>shares_out</th>\n",
       "    </tr>\n",
       "  </thead>\n",
       "  <tbody>\n",
       "    <tr>\n",
       "      <th>1078</th>\n",
       "      <td>3586</td>\n",
       "      <td>20211029</td>\n",
       "      <td>CRM</td>\n",
       "      <td>299.69000</td>\n",
       "      <td>0.104970</td>\n",
       "      <td>908745.0</td>\n",
       "      <td>979000.0</td>\n",
       "    </tr>\n",
       "    <tr>\n",
       "      <th>1079</th>\n",
       "      <td>3587</td>\n",
       "      <td>20211130</td>\n",
       "      <td>CRM</td>\n",
       "      <td>284.95999</td>\n",
       "      <td>-0.049151</td>\n",
       "      <td>992961.0</td>\n",
       "      <td>979000.0</td>\n",
       "    </tr>\n",
       "    <tr>\n",
       "      <th>1080</th>\n",
       "      <td>3588</td>\n",
       "      <td>20211231</td>\n",
       "      <td>CRM</td>\n",
       "      <td>254.13000</td>\n",
       "      <td>-0.108191</td>\n",
       "      <td>1498136.0</td>\n",
       "      <td>985000.0</td>\n",
       "    </tr>\n",
       "  </tbody>\n",
       "</table>\n",
       "</div>"
      ],
      "text/plain": [
       "      Unnamed: 0      date symbol      price    return     volume  shares_out\n",
       "1078        3586  20211029    CRM  299.69000  0.104970   908745.0    979000.0\n",
       "1079        3587  20211130    CRM  284.95999 -0.049151   992961.0    979000.0\n",
       "1080        3588  20211231    CRM  254.13000 -0.108191  1498136.0    985000.0"
      ]
     },
     "execution_count": 145,
     "metadata": {},
     "output_type": "execute_result"
    }
   ],
   "source": [
    "dow9.tail(3)"
   ]
  },
  {
   "cell_type": "code",
   "execution_count": 146,
   "metadata": {
    "iooxa": {
     "id": {
      "block": "ZMsUp9pn5AMommKFEl1K",
      "project": "o8uCbOPb8iJK0GDallsV",
      "version": 2
     },
     "outputId": {
      "block": "iE5VPDHbGpxuiiOpc74I",
      "project": "o8uCbOPb8iJK0GDallsV",
      "version": 2
     }
    }
   },
   "outputs": [
    {
     "data": {
      "text/plain": [
       "(1081, 7)"
      ]
     },
     "execution_count": 146,
     "metadata": {},
     "output_type": "execute_result"
    }
   ],
   "source": [
    "dow9.shape"
   ]
  },
  {
   "cell_type": "markdown",
   "metadata": {
    "iooxa": {
     "id": {
      "block": "jEhUFOTEwSEdG4hAHsWr",
      "project": "o8uCbOPb8iJK0GDallsV",
      "version": 1
     }
    }
   },
   "source": [
    "## **Questions:**\n",
    "\n",
    "1. **Data**\n",
    "   - How many unique symbols are present in the dataset?\n",
    "   - For each symbol, how many days of data are available?\n",
    "2. **Market Capitalization**\n",
    "   - What is the market capitalization per symbol?\n",
    "   - Can we create a column named `market_cap` that contains the market cap values for each symbol?\n",
    "3. **Monthly Returns Calculation**\n",
    "   - How can we create a DataFrame that includes a monthly returns column for each symbol, named as `symbol_ret` (e.g., `AMGN_ret`)?\n",
    "   - How would this new DataFrame differ in structure, having 120 rows for monthly returns and a column for each of the 9 symbols?\n",
    "   - Can we include the date and 9 columns for the respective returns in this DataFrame?"
   ]
  }
 ],
 "metadata": {
  "iooxa": {
   "id": {
    "block": "X1OuePM6lBDzDTFz6Tld",
    "project": "o8uCbOPb8iJK0GDallsV",
    "version": 2
   }
  },
  "kernelspec": {
   "display_name": ".venv (3.9.6)",
   "language": "python",
   "name": "python3"
  },
  "language_info": {
   "codemirror_mode": {
    "name": "ipython",
    "version": 3
   },
   "file_extension": ".py",
   "mimetype": "text/x-python",
   "name": "python",
   "nbconvert_exporter": "python",
   "pygments_lexer": "ipython3",
   "version": "3.9.6"
  }
 },
 "nbformat": 4,
 "nbformat_minor": 4
}
