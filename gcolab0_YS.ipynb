{
  "nbformat": 4,
  "nbformat_minor": 0,
  "metadata": {
    "colab": {
      "provenance": []
    },
    "kernelspec": {
      "name": "python3",
      "display_name": "Python 3"
    },
    "language_info": {
      "name": "python"
    }
  },
  "cells": [
    {
      "cell_type": "code",
      "execution_count": null,
      "metadata": {
        "id": "Gs73yHEpknY4"
      },
      "outputs": [],
      "source": []
    },
    {
      "cell_type": "markdown",
      "source": [
        "# What is google colab ?\n",
        "# Triger google colab app on your google drive\n",
        "# Mounting your google drive\n",
        "# Finding the path to a given directory in your drive\n",
        "# Install yahoo finance library\n",
        "# import yfinance and use it to get historical priice data\n",
        "# Working with downloaded data"
      ],
      "metadata": {
        "id": "tEjL3WzakrbN"
      }
    },
    {
      "cell_type": "markdown",
      "source": [
        "# Go to your BB and clik on\n",
        "\n",
        "How to Use Google Colab\n",
        "\n",
        "\n"
      ],
      "metadata": {
        "id": "UXBw525Eliwd"
      }
    },
    {
      "cell_type": "markdown",
      "source": [
        "## To activate google colab,\n",
        "### (i) log on to my.fordham.edu\n",
        "### (ii) click on 'G' and hol and then click on the triangle sign next to the email icon\n",
        "### Your Google drive can act like a computer. You are probable familer with (i) Google Doc; (ii) Google Sheet ; and (iii) Google slides\n",
        "\n",
        "### Click on the plus sign and you will see the abve apps. If you click more you find Google Colaboratory. Clickin on activates this app when you use it for the first time\n"
      ],
      "metadata": {
        "id": "WM_MsLQyl0To"
      }
    },
    {
      "cell_type": "markdown",
      "source": [
        "##  Mounting your drive"
      ],
      "metadata": {
        "id": "kYiBFZLWmJTR"
      }
    },
    {
      "cell_type": "markdown",
      "source": [
        "## On your computer you can navigate your files depending on the operating system on your computer: Windows or Mac\n",
        "\n",
        "## There is an operating system library we can use to list files in your working directory.\n",
        "\n",
        "### As we import this library and use it you will learn about its capabilities."
      ],
      "metadata": {
        "id": "jjucjBtVmJX3"
      }
    },
    {
      "cell_type": "code",
      "source": [
        "import os\n",
        "os.getcwd() # this gets the working directory"
      ],
      "metadata": {
        "id": "lmYUTn5ZmJcA",
        "colab": {
          "base_uri": "https://localhost:8080/",
          "height": 35
        },
        "outputId": "be8a1a00-031f-44d8-e66b-6b091a4cd8b3"
      },
      "execution_count": 1,
      "outputs": [
        {
          "output_type": "execute_result",
          "data": {
            "text/plain": [
              "'/content'"
            ],
            "application/vnd.google.colaboratory.intrinsic+json": {
              "type": "string"
            }
          },
          "metadata": {},
          "execution_count": 1
        }
      ]
    },
    {
      "cell_type": "code",
      "source": [
        "os.listdir()"
      ],
      "metadata": {
        "colab": {
          "base_uri": "https://localhost:8080/"
        },
        "id": "FqbDWIntTFpi",
        "outputId": "176fcb99-4bb7-4d80-983c-0c7d32c33e27"
      },
      "execution_count": 2,
      "outputs": [
        {
          "output_type": "execute_result",
          "data": {
            "text/plain": [
              "['.config', 'sample_data']"
            ]
          },
          "metadata": {},
          "execution_count": 2
        }
      ]
    },
    {
      "cell_type": "markdown",
      "source": [
        "## The above is a folder on your Google drive. It gets created once you activate google colab"
      ],
      "metadata": {
        "id": "Cot7EbEFmJgu"
      }
    },
    {
      "cell_type": "markdown",
      "source": [
        "## Mounting the drive into python allows us to navigate files and specify your working directory and specify file paths\n",
        "\n",
        "## The following mounts your google drive to be access by google colab python"
      ],
      "metadata": {
        "id": "m_GNc26CK6xo"
      }
    },
    {
      "cell_type": "code",
      "source": [
        "from google.colab import drive\n",
        "drive.mount('/content/drive')"
      ],
      "metadata": {
        "id": "Ikvc6U2WK62t",
        "outputId": "ea1e78cc-7df5-4075-f3d1-ef6c661b042a",
        "colab": {
          "base_uri": "https://localhost:8080/"
        }
      },
      "execution_count": 3,
      "outputs": [
        {
          "output_type": "stream",
          "name": "stdout",
          "text": [
            "Mounted at /content/drive\n"
          ]
        }
      ]
    },
    {
      "cell_type": "markdown",
      "source": [
        "## This will get you three security steps by wich you allow python to access your google drive"
      ],
      "metadata": {
        "id": "zZTYYALkK664"
      }
    },
    {
      "cell_type": "code",
      "source": [
        "os.getcwd()"
      ],
      "metadata": {
        "id": "9u1ZI6sQK6_G",
        "outputId": "6f315095-f504-4685-8d71-8cfb36da8c67",
        "colab": {
          "base_uri": "https://localhost:8080/",
          "height": 35
        }
      },
      "execution_count": 4,
      "outputs": [
        {
          "output_type": "execute_result",
          "data": {
            "text/plain": [
              "'/content'"
            ],
            "application/vnd.google.colaboratory.intrinsic+json": {
              "type": "string"
            }
          },
          "metadata": {},
          "execution_count": 4
        }
      ]
    },
    {
      "cell_type": "markdown",
      "source": [
        "## So far the working directory is still the folder contents"
      ],
      "metadata": {
        "id": "kkyHAEnhK7EJ"
      }
    },
    {
      "cell_type": "code",
      "source": [
        "wd = '/content/drive/MyDrive/Computational finance/Fall-2025/lecture-20250925'\n",
        "os.chdir(wd)"
      ],
      "metadata": {
        "id": "-tlVDIBVMZDt"
      },
      "execution_count": 5,
      "outputs": []
    },
    {
      "cell_type": "code",
      "source": [
        "os.getcwd()"
      ],
      "metadata": {
        "id": "hCmWfQA8MZN8",
        "outputId": "4cdd28c1-d4d3-4649-bf2b-d385b0bff6d6",
        "colab": {
          "base_uri": "https://localhost:8080/",
          "height": 35
        }
      },
      "execution_count": 6,
      "outputs": [
        {
          "output_type": "execute_result",
          "data": {
            "text/plain": [
              "'/content/drive/MyDrive/Computational finance/Fall-2025/lecture-20250925'"
            ],
            "application/vnd.google.colaboratory.intrinsic+json": {
              "type": "string"
            }
          },
          "metadata": {},
          "execution_count": 6
        }
      ]
    },
    {
      "cell_type": "markdown",
      "source": [
        "## we can list all files in this folders"
      ],
      "metadata": {
        "id": "Czth4iKzN0Fd"
      }
    },
    {
      "cell_type": "code",
      "source": [
        "os.listdir()"
      ],
      "metadata": {
        "id": "d4Lt8BU8OQVk",
        "outputId": "9387942d-2b7e-4255-afe9-f7dfe2feea05",
        "colab": {
          "base_uri": "https://localhost:8080/"
        }
      },
      "execution_count": 7,
      "outputs": [
        {
          "output_type": "execute_result",
          "data": {
            "text/plain": [
              "['gcolab0_YS.ipynb']"
            ]
          },
          "metadata": {},
          "execution_count": 7
        }
      ]
    },
    {
      "cell_type": "code",
      "source": [
        "!ls"
      ],
      "metadata": {
        "id": "nrQQbo5iOQia",
        "colab": {
          "base_uri": "https://localhost:8080/"
        },
        "outputId": "f6dddbca-feeb-4e02-c431-e3e52ba36327"
      },
      "execution_count": 9,
      "outputs": [
        {
          "output_type": "stream",
          "name": "stdout",
          "text": [
            "gcolab0_YS.ipynb\n"
          ]
        }
      ]
    },
    {
      "cell_type": "markdown",
      "source": [
        "# Install yfinance"
      ],
      "metadata": {
        "id": "Fo1deRRuOQnH"
      }
    },
    {
      "cell_type": "code",
      "source": [
        "!pip install yfinance"
      ],
      "metadata": {
        "colab": {
          "base_uri": "https://localhost:8080/"
        },
        "id": "izLERfQIUrdn",
        "outputId": "f7ad7670-dd85-4caf-aa61-d1dc84e27246"
      },
      "execution_count": 10,
      "outputs": [
        {
          "output_type": "stream",
          "name": "stdout",
          "text": [
            "Requirement already satisfied: yfinance in /usr/local/lib/python3.12/dist-packages (0.2.66)\n",
            "Requirement already satisfied: pandas>=1.3.0 in /usr/local/lib/python3.12/dist-packages (from yfinance) (2.2.2)\n",
            "Requirement already satisfied: numpy>=1.16.5 in /usr/local/lib/python3.12/dist-packages (from yfinance) (2.0.2)\n",
            "Requirement already satisfied: requests>=2.31 in /usr/local/lib/python3.12/dist-packages (from yfinance) (2.32.4)\n",
            "Requirement already satisfied: multitasking>=0.0.7 in /usr/local/lib/python3.12/dist-packages (from yfinance) (0.0.12)\n",
            "Requirement already satisfied: platformdirs>=2.0.0 in /usr/local/lib/python3.12/dist-packages (from yfinance) (4.4.0)\n",
            "Requirement already satisfied: pytz>=2022.5 in /usr/local/lib/python3.12/dist-packages (from yfinance) (2025.2)\n",
            "Requirement already satisfied: frozendict>=2.3.4 in /usr/local/lib/python3.12/dist-packages (from yfinance) (2.4.6)\n",
            "Requirement already satisfied: peewee>=3.16.2 in /usr/local/lib/python3.12/dist-packages (from yfinance) (3.18.2)\n",
            "Requirement already satisfied: beautifulsoup4>=4.11.1 in /usr/local/lib/python3.12/dist-packages (from yfinance) (4.13.5)\n",
            "Requirement already satisfied: curl_cffi>=0.7 in /usr/local/lib/python3.12/dist-packages (from yfinance) (0.13.0)\n",
            "Requirement already satisfied: protobuf>=3.19.0 in /usr/local/lib/python3.12/dist-packages (from yfinance) (5.29.5)\n",
            "Requirement already satisfied: websockets>=13.0 in /usr/local/lib/python3.12/dist-packages (from yfinance) (15.0.1)\n",
            "Requirement already satisfied: soupsieve>1.2 in /usr/local/lib/python3.12/dist-packages (from beautifulsoup4>=4.11.1->yfinance) (2.8)\n",
            "Requirement already satisfied: typing-extensions>=4.0.0 in /usr/local/lib/python3.12/dist-packages (from beautifulsoup4>=4.11.1->yfinance) (4.15.0)\n",
            "Requirement already satisfied: cffi>=1.12.0 in /usr/local/lib/python3.12/dist-packages (from curl_cffi>=0.7->yfinance) (2.0.0)\n",
            "Requirement already satisfied: certifi>=2024.2.2 in /usr/local/lib/python3.12/dist-packages (from curl_cffi>=0.7->yfinance) (2025.8.3)\n",
            "Requirement already satisfied: python-dateutil>=2.8.2 in /usr/local/lib/python3.12/dist-packages (from pandas>=1.3.0->yfinance) (2.9.0.post0)\n",
            "Requirement already satisfied: tzdata>=2022.7 in /usr/local/lib/python3.12/dist-packages (from pandas>=1.3.0->yfinance) (2025.2)\n",
            "Requirement already satisfied: charset_normalizer<4,>=2 in /usr/local/lib/python3.12/dist-packages (from requests>=2.31->yfinance) (3.4.3)\n",
            "Requirement already satisfied: idna<4,>=2.5 in /usr/local/lib/python3.12/dist-packages (from requests>=2.31->yfinance) (3.10)\n",
            "Requirement already satisfied: urllib3<3,>=1.21.1 in /usr/local/lib/python3.12/dist-packages (from requests>=2.31->yfinance) (2.5.0)\n",
            "Requirement already satisfied: pycparser in /usr/local/lib/python3.12/dist-packages (from cffi>=1.12.0->curl_cffi>=0.7->yfinance) (2.23)\n",
            "Requirement already satisfied: six>=1.5 in /usr/local/lib/python3.12/dist-packages (from python-dateutil>=2.8.2->pandas>=1.3.0->yfinance) (1.17.0)\n"
          ]
        }
      ]
    },
    {
      "cell_type": "code",
      "source": [
        "import pandas as pd\n",
        "import yfinance as yf"
      ],
      "metadata": {
        "id": "UFYzyZ8PUriJ"
      },
      "execution_count": 13,
      "outputs": []
    },
    {
      "cell_type": "code",
      "source": [
        "yf.download('NVDA', period=\"max\")"
      ],
      "metadata": {
        "colab": {
          "base_uri": "https://localhost:8080/",
          "height": 558
        },
        "id": "HKsomY0IWNCO",
        "outputId": "8e5ba2ea-ba69-40a7-d031-2cc6d3c08f49"
      },
      "execution_count": 14,
      "outputs": [
        {
          "output_type": "stream",
          "name": "stderr",
          "text": [
            "/tmp/ipython-input-2707956864.py:1: FutureWarning: YF.download() has changed argument auto_adjust default to True\n",
            "  yf.download('NVDA', period=\"max\")\n",
            "[*********************100%***********************]  1 of 1 completed\n"
          ]
        },
        {
          "output_type": "execute_result",
          "data": {
            "text/plain": [
              "Price            Close        High         Low        Open      Volume\n",
              "Ticker            NVDA        NVDA        NVDA        NVDA        NVDA\n",
              "Date                                                                  \n",
              "1999-01-22    0.037607    0.044770    0.035577    0.040114  2714688000\n",
              "1999-01-25    0.041547    0.042024    0.037607    0.040591   510480000\n",
              "1999-01-26    0.038323    0.042860    0.037726    0.042024   343200000\n",
              "1999-01-27    0.038204    0.039398    0.036293    0.038442   244368000\n",
              "1999-01-28    0.038084    0.038442    0.037845    0.038204   227520000\n",
              "...                ...         ...         ...         ...         ...\n",
              "2025-09-18  176.240005  177.100006  172.960007  173.979996   191763300\n",
              "2025-09-19  176.669998  178.080002  175.179993  175.770004   237182100\n",
              "2025-09-22  183.610001  184.550003  174.710007  175.300003   269637000\n",
              "2025-09-23  178.429993  182.419998  176.210007  181.970001   192559600\n",
              "2025-09-24  176.970001  179.779999  175.399994  179.720001   142821978\n",
              "\n",
              "[6710 rows x 5 columns]"
            ],
            "text/html": [
              "\n",
              "  <div id=\"df-7171af57-0487-4ddf-8b44-8bbb0760e389\" class=\"colab-df-container\">\n",
              "    <div>\n",
              "<style scoped>\n",
              "    .dataframe tbody tr th:only-of-type {\n",
              "        vertical-align: middle;\n",
              "    }\n",
              "\n",
              "    .dataframe tbody tr th {\n",
              "        vertical-align: top;\n",
              "    }\n",
              "\n",
              "    .dataframe thead tr th {\n",
              "        text-align: left;\n",
              "    }\n",
              "\n",
              "    .dataframe thead tr:last-of-type th {\n",
              "        text-align: right;\n",
              "    }\n",
              "</style>\n",
              "<table border=\"1\" class=\"dataframe\">\n",
              "  <thead>\n",
              "    <tr>\n",
              "      <th>Price</th>\n",
              "      <th>Close</th>\n",
              "      <th>High</th>\n",
              "      <th>Low</th>\n",
              "      <th>Open</th>\n",
              "      <th>Volume</th>\n",
              "    </tr>\n",
              "    <tr>\n",
              "      <th>Ticker</th>\n",
              "      <th>NVDA</th>\n",
              "      <th>NVDA</th>\n",
              "      <th>NVDA</th>\n",
              "      <th>NVDA</th>\n",
              "      <th>NVDA</th>\n",
              "    </tr>\n",
              "    <tr>\n",
              "      <th>Date</th>\n",
              "      <th></th>\n",
              "      <th></th>\n",
              "      <th></th>\n",
              "      <th></th>\n",
              "      <th></th>\n",
              "    </tr>\n",
              "  </thead>\n",
              "  <tbody>\n",
              "    <tr>\n",
              "      <th>1999-01-22</th>\n",
              "      <td>0.037607</td>\n",
              "      <td>0.044770</td>\n",
              "      <td>0.035577</td>\n",
              "      <td>0.040114</td>\n",
              "      <td>2714688000</td>\n",
              "    </tr>\n",
              "    <tr>\n",
              "      <th>1999-01-25</th>\n",
              "      <td>0.041547</td>\n",
              "      <td>0.042024</td>\n",
              "      <td>0.037607</td>\n",
              "      <td>0.040591</td>\n",
              "      <td>510480000</td>\n",
              "    </tr>\n",
              "    <tr>\n",
              "      <th>1999-01-26</th>\n",
              "      <td>0.038323</td>\n",
              "      <td>0.042860</td>\n",
              "      <td>0.037726</td>\n",
              "      <td>0.042024</td>\n",
              "      <td>343200000</td>\n",
              "    </tr>\n",
              "    <tr>\n",
              "      <th>1999-01-27</th>\n",
              "      <td>0.038204</td>\n",
              "      <td>0.039398</td>\n",
              "      <td>0.036293</td>\n",
              "      <td>0.038442</td>\n",
              "      <td>244368000</td>\n",
              "    </tr>\n",
              "    <tr>\n",
              "      <th>1999-01-28</th>\n",
              "      <td>0.038084</td>\n",
              "      <td>0.038442</td>\n",
              "      <td>0.037845</td>\n",
              "      <td>0.038204</td>\n",
              "      <td>227520000</td>\n",
              "    </tr>\n",
              "    <tr>\n",
              "      <th>...</th>\n",
              "      <td>...</td>\n",
              "      <td>...</td>\n",
              "      <td>...</td>\n",
              "      <td>...</td>\n",
              "      <td>...</td>\n",
              "    </tr>\n",
              "    <tr>\n",
              "      <th>2025-09-18</th>\n",
              "      <td>176.240005</td>\n",
              "      <td>177.100006</td>\n",
              "      <td>172.960007</td>\n",
              "      <td>173.979996</td>\n",
              "      <td>191763300</td>\n",
              "    </tr>\n",
              "    <tr>\n",
              "      <th>2025-09-19</th>\n",
              "      <td>176.669998</td>\n",
              "      <td>178.080002</td>\n",
              "      <td>175.179993</td>\n",
              "      <td>175.770004</td>\n",
              "      <td>237182100</td>\n",
              "    </tr>\n",
              "    <tr>\n",
              "      <th>2025-09-22</th>\n",
              "      <td>183.610001</td>\n",
              "      <td>184.550003</td>\n",
              "      <td>174.710007</td>\n",
              "      <td>175.300003</td>\n",
              "      <td>269637000</td>\n",
              "    </tr>\n",
              "    <tr>\n",
              "      <th>2025-09-23</th>\n",
              "      <td>178.429993</td>\n",
              "      <td>182.419998</td>\n",
              "      <td>176.210007</td>\n",
              "      <td>181.970001</td>\n",
              "      <td>192559600</td>\n",
              "    </tr>\n",
              "    <tr>\n",
              "      <th>2025-09-24</th>\n",
              "      <td>176.970001</td>\n",
              "      <td>179.779999</td>\n",
              "      <td>175.399994</td>\n",
              "      <td>179.720001</td>\n",
              "      <td>142821978</td>\n",
              "    </tr>\n",
              "  </tbody>\n",
              "</table>\n",
              "<p>6710 rows × 5 columns</p>\n",
              "</div>\n",
              "    <div class=\"colab-df-buttons\">\n",
              "\n",
              "  <div class=\"colab-df-container\">\n",
              "    <button class=\"colab-df-convert\" onclick=\"convertToInteractive('df-7171af57-0487-4ddf-8b44-8bbb0760e389')\"\n",
              "            title=\"Convert this dataframe to an interactive table.\"\n",
              "            style=\"display:none;\">\n",
              "\n",
              "  <svg xmlns=\"http://www.w3.org/2000/svg\" height=\"24px\" viewBox=\"0 -960 960 960\">\n",
              "    <path d=\"M120-120v-720h720v720H120Zm60-500h600v-160H180v160Zm220 220h160v-160H400v160Zm0 220h160v-160H400v160ZM180-400h160v-160H180v160Zm440 0h160v-160H620v160ZM180-180h160v-160H180v160Zm440 0h160v-160H620v160Z\"/>\n",
              "  </svg>\n",
              "    </button>\n",
              "\n",
              "  <style>\n",
              "    .colab-df-container {\n",
              "      display:flex;\n",
              "      gap: 12px;\n",
              "    }\n",
              "\n",
              "    .colab-df-convert {\n",
              "      background-color: #E8F0FE;\n",
              "      border: none;\n",
              "      border-radius: 50%;\n",
              "      cursor: pointer;\n",
              "      display: none;\n",
              "      fill: #1967D2;\n",
              "      height: 32px;\n",
              "      padding: 0 0 0 0;\n",
              "      width: 32px;\n",
              "    }\n",
              "\n",
              "    .colab-df-convert:hover {\n",
              "      background-color: #E2EBFA;\n",
              "      box-shadow: 0px 1px 2px rgba(60, 64, 67, 0.3), 0px 1px 3px 1px rgba(60, 64, 67, 0.15);\n",
              "      fill: #174EA6;\n",
              "    }\n",
              "\n",
              "    .colab-df-buttons div {\n",
              "      margin-bottom: 4px;\n",
              "    }\n",
              "\n",
              "    [theme=dark] .colab-df-convert {\n",
              "      background-color: #3B4455;\n",
              "      fill: #D2E3FC;\n",
              "    }\n",
              "\n",
              "    [theme=dark] .colab-df-convert:hover {\n",
              "      background-color: #434B5C;\n",
              "      box-shadow: 0px 1px 3px 1px rgba(0, 0, 0, 0.15);\n",
              "      filter: drop-shadow(0px 1px 2px rgba(0, 0, 0, 0.3));\n",
              "      fill: #FFFFFF;\n",
              "    }\n",
              "  </style>\n",
              "\n",
              "    <script>\n",
              "      const buttonEl =\n",
              "        document.querySelector('#df-7171af57-0487-4ddf-8b44-8bbb0760e389 button.colab-df-convert');\n",
              "      buttonEl.style.display =\n",
              "        google.colab.kernel.accessAllowed ? 'block' : 'none';\n",
              "\n",
              "      async function convertToInteractive(key) {\n",
              "        const element = document.querySelector('#df-7171af57-0487-4ddf-8b44-8bbb0760e389');\n",
              "        const dataTable =\n",
              "          await google.colab.kernel.invokeFunction('convertToInteractive',\n",
              "                                                    [key], {});\n",
              "        if (!dataTable) return;\n",
              "\n",
              "        const docLinkHtml = 'Like what you see? Visit the ' +\n",
              "          '<a target=\"_blank\" href=https://colab.research.google.com/notebooks/data_table.ipynb>data table notebook</a>'\n",
              "          + ' to learn more about interactive tables.';\n",
              "        element.innerHTML = '';\n",
              "        dataTable['output_type'] = 'display_data';\n",
              "        await google.colab.output.renderOutput(dataTable, element);\n",
              "        const docLink = document.createElement('div');\n",
              "        docLink.innerHTML = docLinkHtml;\n",
              "        element.appendChild(docLink);\n",
              "      }\n",
              "    </script>\n",
              "  </div>\n",
              "\n",
              "\n",
              "    <div id=\"df-5b638194-321a-440a-aa89-2b7fadee92c1\">\n",
              "      <button class=\"colab-df-quickchart\" onclick=\"quickchart('df-5b638194-321a-440a-aa89-2b7fadee92c1')\"\n",
              "                title=\"Suggest charts\"\n",
              "                style=\"display:none;\">\n",
              "\n",
              "<svg xmlns=\"http://www.w3.org/2000/svg\" height=\"24px\"viewBox=\"0 0 24 24\"\n",
              "     width=\"24px\">\n",
              "    <g>\n",
              "        <path d=\"M19 3H5c-1.1 0-2 .9-2 2v14c0 1.1.9 2 2 2h14c1.1 0 2-.9 2-2V5c0-1.1-.9-2-2-2zM9 17H7v-7h2v7zm4 0h-2V7h2v10zm4 0h-2v-4h2v4z\"/>\n",
              "    </g>\n",
              "</svg>\n",
              "      </button>\n",
              "\n",
              "<style>\n",
              "  .colab-df-quickchart {\n",
              "      --bg-color: #E8F0FE;\n",
              "      --fill-color: #1967D2;\n",
              "      --hover-bg-color: #E2EBFA;\n",
              "      --hover-fill-color: #174EA6;\n",
              "      --disabled-fill-color: #AAA;\n",
              "      --disabled-bg-color: #DDD;\n",
              "  }\n",
              "\n",
              "  [theme=dark] .colab-df-quickchart {\n",
              "      --bg-color: #3B4455;\n",
              "      --fill-color: #D2E3FC;\n",
              "      --hover-bg-color: #434B5C;\n",
              "      --hover-fill-color: #FFFFFF;\n",
              "      --disabled-bg-color: #3B4455;\n",
              "      --disabled-fill-color: #666;\n",
              "  }\n",
              "\n",
              "  .colab-df-quickchart {\n",
              "    background-color: var(--bg-color);\n",
              "    border: none;\n",
              "    border-radius: 50%;\n",
              "    cursor: pointer;\n",
              "    display: none;\n",
              "    fill: var(--fill-color);\n",
              "    height: 32px;\n",
              "    padding: 0;\n",
              "    width: 32px;\n",
              "  }\n",
              "\n",
              "  .colab-df-quickchart:hover {\n",
              "    background-color: var(--hover-bg-color);\n",
              "    box-shadow: 0 1px 2px rgba(60, 64, 67, 0.3), 0 1px 3px 1px rgba(60, 64, 67, 0.15);\n",
              "    fill: var(--button-hover-fill-color);\n",
              "  }\n",
              "\n",
              "  .colab-df-quickchart-complete:disabled,\n",
              "  .colab-df-quickchart-complete:disabled:hover {\n",
              "    background-color: var(--disabled-bg-color);\n",
              "    fill: var(--disabled-fill-color);\n",
              "    box-shadow: none;\n",
              "  }\n",
              "\n",
              "  .colab-df-spinner {\n",
              "    border: 2px solid var(--fill-color);\n",
              "    border-color: transparent;\n",
              "    border-bottom-color: var(--fill-color);\n",
              "    animation:\n",
              "      spin 1s steps(1) infinite;\n",
              "  }\n",
              "\n",
              "  @keyframes spin {\n",
              "    0% {\n",
              "      border-color: transparent;\n",
              "      border-bottom-color: var(--fill-color);\n",
              "      border-left-color: var(--fill-color);\n",
              "    }\n",
              "    20% {\n",
              "      border-color: transparent;\n",
              "      border-left-color: var(--fill-color);\n",
              "      border-top-color: var(--fill-color);\n",
              "    }\n",
              "    30% {\n",
              "      border-color: transparent;\n",
              "      border-left-color: var(--fill-color);\n",
              "      border-top-color: var(--fill-color);\n",
              "      border-right-color: var(--fill-color);\n",
              "    }\n",
              "    40% {\n",
              "      border-color: transparent;\n",
              "      border-right-color: var(--fill-color);\n",
              "      border-top-color: var(--fill-color);\n",
              "    }\n",
              "    60% {\n",
              "      border-color: transparent;\n",
              "      border-right-color: var(--fill-color);\n",
              "    }\n",
              "    80% {\n",
              "      border-color: transparent;\n",
              "      border-right-color: var(--fill-color);\n",
              "      border-bottom-color: var(--fill-color);\n",
              "    }\n",
              "    90% {\n",
              "      border-color: transparent;\n",
              "      border-bottom-color: var(--fill-color);\n",
              "    }\n",
              "  }\n",
              "</style>\n",
              "\n",
              "      <script>\n",
              "        async function quickchart(key) {\n",
              "          const quickchartButtonEl =\n",
              "            document.querySelector('#' + key + ' button');\n",
              "          quickchartButtonEl.disabled = true;  // To prevent multiple clicks.\n",
              "          quickchartButtonEl.classList.add('colab-df-spinner');\n",
              "          try {\n",
              "            const charts = await google.colab.kernel.invokeFunction(\n",
              "                'suggestCharts', [key], {});\n",
              "          } catch (error) {\n",
              "            console.error('Error during call to suggestCharts:', error);\n",
              "          }\n",
              "          quickchartButtonEl.classList.remove('colab-df-spinner');\n",
              "          quickchartButtonEl.classList.add('colab-df-quickchart-complete');\n",
              "        }\n",
              "        (() => {\n",
              "          let quickchartButtonEl =\n",
              "            document.querySelector('#df-5b638194-321a-440a-aa89-2b7fadee92c1 button');\n",
              "          quickchartButtonEl.style.display =\n",
              "            google.colab.kernel.accessAllowed ? 'block' : 'none';\n",
              "        })();\n",
              "      </script>\n",
              "    </div>\n",
              "\n",
              "    </div>\n",
              "  </div>\n"
            ],
            "application/vnd.google.colaboratory.intrinsic+json": {
              "type": "dataframe",
              "summary": "{\n  \"name\": \"yf\",\n  \"rows\": 6710,\n  \"fields\": [\n    {\n      \"column\": [\n        \"Date\",\n        \"\"\n      ],\n      \"properties\": {\n        \"dtype\": \"date\",\n        \"min\": \"1999-01-22 00:00:00\",\n        \"max\": \"2025-09-24 00:00:00\",\n        \"num_unique_values\": 6710,\n        \"samples\": [\n          \"2018-11-26 00:00:00\",\n          \"2000-01-13 00:00:00\",\n          \"2015-12-14 00:00:00\"\n        ],\n        \"semantic_type\": \"\",\n        \"description\": \"\"\n      }\n    },\n    {\n      \"column\": [\n        \"Close\",\n        \"NVDA\"\n      ],\n      \"properties\": {\n        \"dtype\": \"number\",\n        \"std\": 31.280779362589165,\n        \"min\": 0.0312795490026474,\n        \"max\": 183.61000061035156,\n        \"num_unique_values\": 5667,\n        \"samples\": [\n          32.61064147949219,\n          8.000018119812012,\n          16.30740737915039\n        ],\n        \"semantic_type\": \"\",\n        \"description\": \"\"\n      }\n    },\n    {\n      \"column\": [\n        \"High\",\n        \"NVDA\"\n      ],\n      \"properties\": {\n        \"dtype\": \"number\",\n        \"std\": 31.789470165078182,\n        \"min\": 0.03259251973800169,\n        \"max\": 184.5500030517578,\n        \"num_unique_values\": 6683,\n        \"samples\": [\n          0.7978948802247694,\n          16.33737093968926,\n          0.14601403706033955\n        ],\n        \"semantic_type\": \"\",\n        \"description\": \"\"\n      }\n    },\n    {\n      \"column\": [\n        \"Low\",\n        \"NVDA\"\n      ],\n      \"properties\": {\n        \"dtype\": \"number\",\n        \"std\": 30.70182727958148,\n        \"min\": 0.03056254295351564,\n        \"max\": 180.5798072904055,\n        \"num_unique_values\": 6674,\n        \"samples\": [\n          0.20729224568855856,\n          19.791840024636087,\n          3.7470109426813027\n        ],\n        \"semantic_type\": \"\",\n        \"description\": \"\"\n      }\n    },\n    {\n      \"column\": [\n        \"Open\",\n        \"NVDA\"\n      ],\n      \"properties\": {\n        \"dtype\": \"number\",\n        \"std\": 31.28464033930192,\n        \"min\": 0.031995635082098,\n        \"max\": 182.94968779347354,\n        \"num_unique_values\": 6693,\n        \"samples\": [\n          8.799717447835334,\n          12.833625416569115,\n          0.03903915033325096\n        ],\n        \"semantic_type\": \"\",\n        \"description\": \"\"\n      }\n    },\n    {\n      \"column\": [\n        \"Volume\",\n        \"NVDA\"\n      ],\n      \"properties\": {\n        \"dtype\": \"number\",\n        \"std\": 429637470,\n        \"min\": 19680000,\n        \"max\": 9230856000,\n        \"num_unique_values\": 6626,\n        \"samples\": [\n          836608000,\n          381544000,\n          306956000\n        ],\n        \"semantic_type\": \"\",\n        \"description\": \"\"\n      }\n    }\n  ]\n}"
            }
          },
          "metadata": {},
          "execution_count": 14
        }
      ]
    },
    {
      "cell_type": "code",
      "source": [
        "yf.download('nvda', period=\"max\")"
      ],
      "metadata": {
        "colab": {
          "base_uri": "https://localhost:8080/",
          "height": 558
        },
        "id": "dOApe6xWWWaJ",
        "outputId": "fcbe2cfb-57bb-40aa-e0cd-49fb28ee6db8"
      },
      "execution_count": 15,
      "outputs": [
        {
          "output_type": "stream",
          "name": "stderr",
          "text": [
            "/tmp/ipython-input-2770226274.py:1: FutureWarning: YF.download() has changed argument auto_adjust default to True\n",
            "  yf.download('nvda', period=\"max\")\n",
            "[*********************100%***********************]  1 of 1 completed\n"
          ]
        },
        {
          "output_type": "execute_result",
          "data": {
            "text/plain": [
              "Price            Close        High         Low        Open      Volume\n",
              "Ticker            NVDA        NVDA        NVDA        NVDA        NVDA\n",
              "Date                                                                  \n",
              "1999-01-22    0.037607    0.044770    0.035577    0.040114  2714688000\n",
              "1999-01-25    0.041547    0.042024    0.037607    0.040591   510480000\n",
              "1999-01-26    0.038323    0.042860    0.037726    0.042024   343200000\n",
              "1999-01-27    0.038204    0.039398    0.036293    0.038442   244368000\n",
              "1999-01-28    0.038084    0.038442    0.037845    0.038204   227520000\n",
              "...                ...         ...         ...         ...         ...\n",
              "2025-09-18  176.240005  177.100006  172.960007  173.979996   191763300\n",
              "2025-09-19  176.669998  178.080002  175.179993  175.770004   237182100\n",
              "2025-09-22  183.610001  184.550003  174.710007  175.300003   269637000\n",
              "2025-09-23  178.429993  182.419998  176.210007  181.970001   192559600\n",
              "2025-09-24  176.970001  179.779999  175.399994  179.720001   142821978\n",
              "\n",
              "[6710 rows x 5 columns]"
            ],
            "text/html": [
              "\n",
              "  <div id=\"df-e1d461f8-1f67-43f3-85cd-8e28c3f81425\" class=\"colab-df-container\">\n",
              "    <div>\n",
              "<style scoped>\n",
              "    .dataframe tbody tr th:only-of-type {\n",
              "        vertical-align: middle;\n",
              "    }\n",
              "\n",
              "    .dataframe tbody tr th {\n",
              "        vertical-align: top;\n",
              "    }\n",
              "\n",
              "    .dataframe thead tr th {\n",
              "        text-align: left;\n",
              "    }\n",
              "\n",
              "    .dataframe thead tr:last-of-type th {\n",
              "        text-align: right;\n",
              "    }\n",
              "</style>\n",
              "<table border=\"1\" class=\"dataframe\">\n",
              "  <thead>\n",
              "    <tr>\n",
              "      <th>Price</th>\n",
              "      <th>Close</th>\n",
              "      <th>High</th>\n",
              "      <th>Low</th>\n",
              "      <th>Open</th>\n",
              "      <th>Volume</th>\n",
              "    </tr>\n",
              "    <tr>\n",
              "      <th>Ticker</th>\n",
              "      <th>NVDA</th>\n",
              "      <th>NVDA</th>\n",
              "      <th>NVDA</th>\n",
              "      <th>NVDA</th>\n",
              "      <th>NVDA</th>\n",
              "    </tr>\n",
              "    <tr>\n",
              "      <th>Date</th>\n",
              "      <th></th>\n",
              "      <th></th>\n",
              "      <th></th>\n",
              "      <th></th>\n",
              "      <th></th>\n",
              "    </tr>\n",
              "  </thead>\n",
              "  <tbody>\n",
              "    <tr>\n",
              "      <th>1999-01-22</th>\n",
              "      <td>0.037607</td>\n",
              "      <td>0.044770</td>\n",
              "      <td>0.035577</td>\n",
              "      <td>0.040114</td>\n",
              "      <td>2714688000</td>\n",
              "    </tr>\n",
              "    <tr>\n",
              "      <th>1999-01-25</th>\n",
              "      <td>0.041547</td>\n",
              "      <td>0.042024</td>\n",
              "      <td>0.037607</td>\n",
              "      <td>0.040591</td>\n",
              "      <td>510480000</td>\n",
              "    </tr>\n",
              "    <tr>\n",
              "      <th>1999-01-26</th>\n",
              "      <td>0.038323</td>\n",
              "      <td>0.042860</td>\n",
              "      <td>0.037726</td>\n",
              "      <td>0.042024</td>\n",
              "      <td>343200000</td>\n",
              "    </tr>\n",
              "    <tr>\n",
              "      <th>1999-01-27</th>\n",
              "      <td>0.038204</td>\n",
              "      <td>0.039398</td>\n",
              "      <td>0.036293</td>\n",
              "      <td>0.038442</td>\n",
              "      <td>244368000</td>\n",
              "    </tr>\n",
              "    <tr>\n",
              "      <th>1999-01-28</th>\n",
              "      <td>0.038084</td>\n",
              "      <td>0.038442</td>\n",
              "      <td>0.037845</td>\n",
              "      <td>0.038204</td>\n",
              "      <td>227520000</td>\n",
              "    </tr>\n",
              "    <tr>\n",
              "      <th>...</th>\n",
              "      <td>...</td>\n",
              "      <td>...</td>\n",
              "      <td>...</td>\n",
              "      <td>...</td>\n",
              "      <td>...</td>\n",
              "    </tr>\n",
              "    <tr>\n",
              "      <th>2025-09-18</th>\n",
              "      <td>176.240005</td>\n",
              "      <td>177.100006</td>\n",
              "      <td>172.960007</td>\n",
              "      <td>173.979996</td>\n",
              "      <td>191763300</td>\n",
              "    </tr>\n",
              "    <tr>\n",
              "      <th>2025-09-19</th>\n",
              "      <td>176.669998</td>\n",
              "      <td>178.080002</td>\n",
              "      <td>175.179993</td>\n",
              "      <td>175.770004</td>\n",
              "      <td>237182100</td>\n",
              "    </tr>\n",
              "    <tr>\n",
              "      <th>2025-09-22</th>\n",
              "      <td>183.610001</td>\n",
              "      <td>184.550003</td>\n",
              "      <td>174.710007</td>\n",
              "      <td>175.300003</td>\n",
              "      <td>269637000</td>\n",
              "    </tr>\n",
              "    <tr>\n",
              "      <th>2025-09-23</th>\n",
              "      <td>178.429993</td>\n",
              "      <td>182.419998</td>\n",
              "      <td>176.210007</td>\n",
              "      <td>181.970001</td>\n",
              "      <td>192559600</td>\n",
              "    </tr>\n",
              "    <tr>\n",
              "      <th>2025-09-24</th>\n",
              "      <td>176.970001</td>\n",
              "      <td>179.779999</td>\n",
              "      <td>175.399994</td>\n",
              "      <td>179.720001</td>\n",
              "      <td>142821978</td>\n",
              "    </tr>\n",
              "  </tbody>\n",
              "</table>\n",
              "<p>6710 rows × 5 columns</p>\n",
              "</div>\n",
              "    <div class=\"colab-df-buttons\">\n",
              "\n",
              "  <div class=\"colab-df-container\">\n",
              "    <button class=\"colab-df-convert\" onclick=\"convertToInteractive('df-e1d461f8-1f67-43f3-85cd-8e28c3f81425')\"\n",
              "            title=\"Convert this dataframe to an interactive table.\"\n",
              "            style=\"display:none;\">\n",
              "\n",
              "  <svg xmlns=\"http://www.w3.org/2000/svg\" height=\"24px\" viewBox=\"0 -960 960 960\">\n",
              "    <path d=\"M120-120v-720h720v720H120Zm60-500h600v-160H180v160Zm220 220h160v-160H400v160Zm0 220h160v-160H400v160ZM180-400h160v-160H180v160Zm440 0h160v-160H620v160ZM180-180h160v-160H180v160Zm440 0h160v-160H620v160Z\"/>\n",
              "  </svg>\n",
              "    </button>\n",
              "\n",
              "  <style>\n",
              "    .colab-df-container {\n",
              "      display:flex;\n",
              "      gap: 12px;\n",
              "    }\n",
              "\n",
              "    .colab-df-convert {\n",
              "      background-color: #E8F0FE;\n",
              "      border: none;\n",
              "      border-radius: 50%;\n",
              "      cursor: pointer;\n",
              "      display: none;\n",
              "      fill: #1967D2;\n",
              "      height: 32px;\n",
              "      padding: 0 0 0 0;\n",
              "      width: 32px;\n",
              "    }\n",
              "\n",
              "    .colab-df-convert:hover {\n",
              "      background-color: #E2EBFA;\n",
              "      box-shadow: 0px 1px 2px rgba(60, 64, 67, 0.3), 0px 1px 3px 1px rgba(60, 64, 67, 0.15);\n",
              "      fill: #174EA6;\n",
              "    }\n",
              "\n",
              "    .colab-df-buttons div {\n",
              "      margin-bottom: 4px;\n",
              "    }\n",
              "\n",
              "    [theme=dark] .colab-df-convert {\n",
              "      background-color: #3B4455;\n",
              "      fill: #D2E3FC;\n",
              "    }\n",
              "\n",
              "    [theme=dark] .colab-df-convert:hover {\n",
              "      background-color: #434B5C;\n",
              "      box-shadow: 0px 1px 3px 1px rgba(0, 0, 0, 0.15);\n",
              "      filter: drop-shadow(0px 1px 2px rgba(0, 0, 0, 0.3));\n",
              "      fill: #FFFFFF;\n",
              "    }\n",
              "  </style>\n",
              "\n",
              "    <script>\n",
              "      const buttonEl =\n",
              "        document.querySelector('#df-e1d461f8-1f67-43f3-85cd-8e28c3f81425 button.colab-df-convert');\n",
              "      buttonEl.style.display =\n",
              "        google.colab.kernel.accessAllowed ? 'block' : 'none';\n",
              "\n",
              "      async function convertToInteractive(key) {\n",
              "        const element = document.querySelector('#df-e1d461f8-1f67-43f3-85cd-8e28c3f81425');\n",
              "        const dataTable =\n",
              "          await google.colab.kernel.invokeFunction('convertToInteractive',\n",
              "                                                    [key], {});\n",
              "        if (!dataTable) return;\n",
              "\n",
              "        const docLinkHtml = 'Like what you see? Visit the ' +\n",
              "          '<a target=\"_blank\" href=https://colab.research.google.com/notebooks/data_table.ipynb>data table notebook</a>'\n",
              "          + ' to learn more about interactive tables.';\n",
              "        element.innerHTML = '';\n",
              "        dataTable['output_type'] = 'display_data';\n",
              "        await google.colab.output.renderOutput(dataTable, element);\n",
              "        const docLink = document.createElement('div');\n",
              "        docLink.innerHTML = docLinkHtml;\n",
              "        element.appendChild(docLink);\n",
              "      }\n",
              "    </script>\n",
              "  </div>\n",
              "\n",
              "\n",
              "    <div id=\"df-de95497c-f0ab-4d34-a42c-f9d9efb540d7\">\n",
              "      <button class=\"colab-df-quickchart\" onclick=\"quickchart('df-de95497c-f0ab-4d34-a42c-f9d9efb540d7')\"\n",
              "                title=\"Suggest charts\"\n",
              "                style=\"display:none;\">\n",
              "\n",
              "<svg xmlns=\"http://www.w3.org/2000/svg\" height=\"24px\"viewBox=\"0 0 24 24\"\n",
              "     width=\"24px\">\n",
              "    <g>\n",
              "        <path d=\"M19 3H5c-1.1 0-2 .9-2 2v14c0 1.1.9 2 2 2h14c1.1 0 2-.9 2-2V5c0-1.1-.9-2-2-2zM9 17H7v-7h2v7zm4 0h-2V7h2v10zm4 0h-2v-4h2v4z\"/>\n",
              "    </g>\n",
              "</svg>\n",
              "      </button>\n",
              "\n",
              "<style>\n",
              "  .colab-df-quickchart {\n",
              "      --bg-color: #E8F0FE;\n",
              "      --fill-color: #1967D2;\n",
              "      --hover-bg-color: #E2EBFA;\n",
              "      --hover-fill-color: #174EA6;\n",
              "      --disabled-fill-color: #AAA;\n",
              "      --disabled-bg-color: #DDD;\n",
              "  }\n",
              "\n",
              "  [theme=dark] .colab-df-quickchart {\n",
              "      --bg-color: #3B4455;\n",
              "      --fill-color: #D2E3FC;\n",
              "      --hover-bg-color: #434B5C;\n",
              "      --hover-fill-color: #FFFFFF;\n",
              "      --disabled-bg-color: #3B4455;\n",
              "      --disabled-fill-color: #666;\n",
              "  }\n",
              "\n",
              "  .colab-df-quickchart {\n",
              "    background-color: var(--bg-color);\n",
              "    border: none;\n",
              "    border-radius: 50%;\n",
              "    cursor: pointer;\n",
              "    display: none;\n",
              "    fill: var(--fill-color);\n",
              "    height: 32px;\n",
              "    padding: 0;\n",
              "    width: 32px;\n",
              "  }\n",
              "\n",
              "  .colab-df-quickchart:hover {\n",
              "    background-color: var(--hover-bg-color);\n",
              "    box-shadow: 0 1px 2px rgba(60, 64, 67, 0.3), 0 1px 3px 1px rgba(60, 64, 67, 0.15);\n",
              "    fill: var(--button-hover-fill-color);\n",
              "  }\n",
              "\n",
              "  .colab-df-quickchart-complete:disabled,\n",
              "  .colab-df-quickchart-complete:disabled:hover {\n",
              "    background-color: var(--disabled-bg-color);\n",
              "    fill: var(--disabled-fill-color);\n",
              "    box-shadow: none;\n",
              "  }\n",
              "\n",
              "  .colab-df-spinner {\n",
              "    border: 2px solid var(--fill-color);\n",
              "    border-color: transparent;\n",
              "    border-bottom-color: var(--fill-color);\n",
              "    animation:\n",
              "      spin 1s steps(1) infinite;\n",
              "  }\n",
              "\n",
              "  @keyframes spin {\n",
              "    0% {\n",
              "      border-color: transparent;\n",
              "      border-bottom-color: var(--fill-color);\n",
              "      border-left-color: var(--fill-color);\n",
              "    }\n",
              "    20% {\n",
              "      border-color: transparent;\n",
              "      border-left-color: var(--fill-color);\n",
              "      border-top-color: var(--fill-color);\n",
              "    }\n",
              "    30% {\n",
              "      border-color: transparent;\n",
              "      border-left-color: var(--fill-color);\n",
              "      border-top-color: var(--fill-color);\n",
              "      border-right-color: var(--fill-color);\n",
              "    }\n",
              "    40% {\n",
              "      border-color: transparent;\n",
              "      border-right-color: var(--fill-color);\n",
              "      border-top-color: var(--fill-color);\n",
              "    }\n",
              "    60% {\n",
              "      border-color: transparent;\n",
              "      border-right-color: var(--fill-color);\n",
              "    }\n",
              "    80% {\n",
              "      border-color: transparent;\n",
              "      border-right-color: var(--fill-color);\n",
              "      border-bottom-color: var(--fill-color);\n",
              "    }\n",
              "    90% {\n",
              "      border-color: transparent;\n",
              "      border-bottom-color: var(--fill-color);\n",
              "    }\n",
              "  }\n",
              "</style>\n",
              "\n",
              "      <script>\n",
              "        async function quickchart(key) {\n",
              "          const quickchartButtonEl =\n",
              "            document.querySelector('#' + key + ' button');\n",
              "          quickchartButtonEl.disabled = true;  // To prevent multiple clicks.\n",
              "          quickchartButtonEl.classList.add('colab-df-spinner');\n",
              "          try {\n",
              "            const charts = await google.colab.kernel.invokeFunction(\n",
              "                'suggestCharts', [key], {});\n",
              "          } catch (error) {\n",
              "            console.error('Error during call to suggestCharts:', error);\n",
              "          }\n",
              "          quickchartButtonEl.classList.remove('colab-df-spinner');\n",
              "          quickchartButtonEl.classList.add('colab-df-quickchart-complete');\n",
              "        }\n",
              "        (() => {\n",
              "          let quickchartButtonEl =\n",
              "            document.querySelector('#df-de95497c-f0ab-4d34-a42c-f9d9efb540d7 button');\n",
              "          quickchartButtonEl.style.display =\n",
              "            google.colab.kernel.accessAllowed ? 'block' : 'none';\n",
              "        })();\n",
              "      </script>\n",
              "    </div>\n",
              "\n",
              "    </div>\n",
              "  </div>\n"
            ],
            "application/vnd.google.colaboratory.intrinsic+json": {
              "type": "dataframe",
              "summary": "{\n  \"name\": \"yf\",\n  \"rows\": 6710,\n  \"fields\": [\n    {\n      \"column\": [\n        \"Date\",\n        \"\"\n      ],\n      \"properties\": {\n        \"dtype\": \"date\",\n        \"min\": \"1999-01-22 00:00:00\",\n        \"max\": \"2025-09-24 00:00:00\",\n        \"num_unique_values\": 6710,\n        \"samples\": [\n          \"2018-11-26 00:00:00\",\n          \"2000-01-13 00:00:00\",\n          \"2015-12-14 00:00:00\"\n        ],\n        \"semantic_type\": \"\",\n        \"description\": \"\"\n      }\n    },\n    {\n      \"column\": [\n        \"Close\",\n        \"NVDA\"\n      ],\n      \"properties\": {\n        \"dtype\": \"number\",\n        \"std\": 31.280779398171045,\n        \"min\": 0.031279537826776505,\n        \"max\": 183.61000061035156,\n        \"num_unique_values\": 5667,\n        \"samples\": [\n          32.61064910888672,\n          8.000015258789062,\n          16.30740737915039\n        ],\n        \"semantic_type\": \"\",\n        \"description\": \"\"\n      }\n    },\n    {\n      \"column\": [\n        \"High\",\n        \"NVDA\"\n      ],\n      \"properties\": {\n        \"dtype\": \"number\",\n        \"std\": 31.789470200316714,\n        \"min\": 0.03259251973800169,\n        \"max\": 184.5500030517578,\n        \"num_unique_values\": 6683,\n        \"samples\": [\n          0.7978950003555938,\n          16.337373896519637,\n          0.14601399118054487\n        ],\n        \"semantic_type\": \"\",\n        \"description\": \"\"\n      }\n    },\n    {\n      \"column\": [\n        \"Low\",\n        \"NVDA\"\n      ],\n      \"properties\": {\n        \"dtype\": \"number\",\n        \"std\": 30.701827312822896,\n        \"min\": 0.030562532033823857,\n        \"max\": 180.5798072904055,\n        \"num_unique_values\": 6674,\n        \"samples\": [\n          0.2072922310940281,\n          19.791840024636087,\n          3.7470109426813027\n        ],\n        \"semantic_type\": \"\",\n        \"description\": \"\"\n      }\n    },\n    {\n      \"column\": [\n        \"Open\",\n        \"NVDA\"\n      ],\n      \"properties\": {\n        \"dtype\": \"number\",\n        \"std\": 31.28464037334464,\n        \"min\": 0.03199563682089706,\n        \"max\": 182.94968779347354,\n        \"num_unique_values\": 6693,\n        \"samples\": [\n          8.799716491237003,\n          12.833626362652886,\n          0.039039161018981104\n        ],\n        \"semantic_type\": \"\",\n        \"description\": \"\"\n      }\n    },\n    {\n      \"column\": [\n        \"Volume\",\n        \"NVDA\"\n      ],\n      \"properties\": {\n        \"dtype\": \"number\",\n        \"std\": 429637470,\n        \"min\": 19680000,\n        \"max\": 9230856000,\n        \"num_unique_values\": 6626,\n        \"samples\": [\n          836608000,\n          381544000,\n          306956000\n        ],\n        \"semantic_type\": \"\",\n        \"description\": \"\"\n      }\n    }\n  ]\n}"
            }
          },
          "metadata": {},
          "execution_count": 15
        }
      ]
    },
    {
      "cell_type": "code",
      "source": [],
      "metadata": {
        "id": "7ddsn_beWWf8"
      },
      "execution_count": null,
      "outputs": []
    },
    {
      "cell_type": "code",
      "source": [
        "symbol = 'nvda'"
      ],
      "metadata": {
        "id": "ZAUQ_H4QWuGD"
      },
      "execution_count": null,
      "outputs": []
    },
    {
      "cell_type": "code",
      "source": [
        "nvida_daily = yf.download('nvda', period=\"max\")\n",
        "type(nvida_daily)"
      ],
      "metadata": {
        "colab": {
          "base_uri": "https://localhost:8080/",
          "height": 276
        },
        "id": "vPICGx72WWkA",
        "outputId": "b2ee045a-3706-4746-c7b3-0a2cac5821d4"
      },
      "execution_count": 16,
      "outputs": [
        {
          "output_type": "stream",
          "name": "stderr",
          "text": [
            "/tmp/ipython-input-1115863796.py:1: FutureWarning: YF.download() has changed argument auto_adjust default to True\n",
            "  nvida_daily = yf.download('nvda', period=\"max\")\n",
            "[*********************100%***********************]  1 of 1 completed\n"
          ]
        },
        {
          "output_type": "execute_result",
          "data": {
            "text/plain": [
              "pandas.core.frame.DataFrame"
            ],
            "text/html": [
              "<div style=\"max-width:800px; border: 1px solid var(--colab-border-color);\"><style>\n",
              "      pre.function-repr-contents {\n",
              "        overflow-x: auto;\n",
              "        padding: 8px 12px;\n",
              "        max-height: 500px;\n",
              "      }\n",
              "\n",
              "      pre.function-repr-contents.function-repr-contents-collapsed {\n",
              "        cursor: pointer;\n",
              "        max-height: 100px;\n",
              "      }\n",
              "    </style>\n",
              "    <pre style=\"white-space: initial; background:\n",
              "         var(--colab-secondary-surface-color); padding: 8px 12px;\n",
              "         border-bottom: 1px solid var(--colab-border-color);\"><b>pandas.core.frame.DataFrame</b><br/>def __init__(data=None, index: Axes | None=None, columns: Axes | None=None, dtype: Dtype | None=None, copy: bool | None=None) -&gt; None</pre><pre class=\"function-repr-contents function-repr-contents-collapsed\" style=\"\"><a class=\"filepath\" style=\"display:none\" href=\"#\">/usr/local/lib/python3.12/dist-packages/pandas/core/frame.py</a>Two-dimensional, size-mutable, potentially heterogeneous tabular data.\n",
              "\n",
              "Data structure also contains labeled axes (rows and columns).\n",
              "Arithmetic operations align on both row and column labels. Can be\n",
              "thought of as a dict-like container for Series objects. The primary\n",
              "pandas data structure.\n",
              "\n",
              "Parameters\n",
              "----------\n",
              "data : ndarray (structured or homogeneous), Iterable, dict, or DataFrame\n",
              "    Dict can contain Series, arrays, constants, dataclass or list-like objects. If\n",
              "    data is a dict, column order follows insertion-order. If a dict contains Series\n",
              "    which have an index defined, it is aligned by its index. This alignment also\n",
              "    occurs if data is a Series or a DataFrame itself. Alignment is done on\n",
              "    Series/DataFrame inputs.\n",
              "\n",
              "    If data is a list of dicts, column order follows insertion-order.\n",
              "\n",
              "index : Index or array-like\n",
              "    Index to use for resulting frame. Will default to RangeIndex if\n",
              "    no indexing information part of input data and no index provided.\n",
              "columns : Index or array-like\n",
              "    Column labels to use for resulting frame when data does not have them,\n",
              "    defaulting to RangeIndex(0, 1, 2, ..., n). If data contains column labels,\n",
              "    will perform column selection instead.\n",
              "dtype : dtype, default None\n",
              "    Data type to force. Only a single dtype is allowed. If None, infer.\n",
              "copy : bool or None, default None\n",
              "    Copy data from inputs.\n",
              "    For dict data, the default of None behaves like ``copy=True``.  For DataFrame\n",
              "    or 2d ndarray input, the default of None behaves like ``copy=False``.\n",
              "    If data is a dict containing one or more Series (possibly of different dtypes),\n",
              "    ``copy=False`` will ensure that these inputs are not copied.\n",
              "\n",
              "    .. versionchanged:: 1.3.0\n",
              "\n",
              "See Also\n",
              "--------\n",
              "DataFrame.from_records : Constructor from tuples, also record arrays.\n",
              "DataFrame.from_dict : From dicts of Series, arrays, or dicts.\n",
              "read_csv : Read a comma-separated values (csv) file into DataFrame.\n",
              "read_table : Read general delimited file into DataFrame.\n",
              "read_clipboard : Read text from clipboard into DataFrame.\n",
              "\n",
              "Notes\n",
              "-----\n",
              "Please reference the :ref:`User Guide &lt;basics.dataframe&gt;` for more information.\n",
              "\n",
              "Examples\n",
              "--------\n",
              "Constructing DataFrame from a dictionary.\n",
              "\n",
              "&gt;&gt;&gt; d = {&#x27;col1&#x27;: [1, 2], &#x27;col2&#x27;: [3, 4]}\n",
              "&gt;&gt;&gt; df = pd.DataFrame(data=d)\n",
              "&gt;&gt;&gt; df\n",
              "   col1  col2\n",
              "0     1     3\n",
              "1     2     4\n",
              "\n",
              "Notice that the inferred dtype is int64.\n",
              "\n",
              "&gt;&gt;&gt; df.dtypes\n",
              "col1    int64\n",
              "col2    int64\n",
              "dtype: object\n",
              "\n",
              "To enforce a single dtype:\n",
              "\n",
              "&gt;&gt;&gt; df = pd.DataFrame(data=d, dtype=np.int8)\n",
              "&gt;&gt;&gt; df.dtypes\n",
              "col1    int8\n",
              "col2    int8\n",
              "dtype: object\n",
              "\n",
              "Constructing DataFrame from a dictionary including Series:\n",
              "\n",
              "&gt;&gt;&gt; d = {&#x27;col1&#x27;: [0, 1, 2, 3], &#x27;col2&#x27;: pd.Series([2, 3], index=[2, 3])}\n",
              "&gt;&gt;&gt; pd.DataFrame(data=d, index=[0, 1, 2, 3])\n",
              "   col1  col2\n",
              "0     0   NaN\n",
              "1     1   NaN\n",
              "2     2   2.0\n",
              "3     3   3.0\n",
              "\n",
              "Constructing DataFrame from numpy ndarray:\n",
              "\n",
              "&gt;&gt;&gt; df2 = pd.DataFrame(np.array([[1, 2, 3], [4, 5, 6], [7, 8, 9]]),\n",
              "...                    columns=[&#x27;a&#x27;, &#x27;b&#x27;, &#x27;c&#x27;])\n",
              "&gt;&gt;&gt; df2\n",
              "   a  b  c\n",
              "0  1  2  3\n",
              "1  4  5  6\n",
              "2  7  8  9\n",
              "\n",
              "Constructing DataFrame from a numpy ndarray that has labeled columns:\n",
              "\n",
              "&gt;&gt;&gt; data = np.array([(1, 2, 3), (4, 5, 6), (7, 8, 9)],\n",
              "...                 dtype=[(&quot;a&quot;, &quot;i4&quot;), (&quot;b&quot;, &quot;i4&quot;), (&quot;c&quot;, &quot;i4&quot;)])\n",
              "&gt;&gt;&gt; df3 = pd.DataFrame(data, columns=[&#x27;c&#x27;, &#x27;a&#x27;])\n",
              "...\n",
              "&gt;&gt;&gt; df3\n",
              "   c  a\n",
              "0  3  1\n",
              "1  6  4\n",
              "2  9  7\n",
              "\n",
              "Constructing DataFrame from dataclass:\n",
              "\n",
              "&gt;&gt;&gt; from dataclasses import make_dataclass\n",
              "&gt;&gt;&gt; Point = make_dataclass(&quot;Point&quot;, [(&quot;x&quot;, int), (&quot;y&quot;, int)])\n",
              "&gt;&gt;&gt; pd.DataFrame([Point(0, 0), Point(0, 3), Point(2, 3)])\n",
              "   x  y\n",
              "0  0  0\n",
              "1  0  3\n",
              "2  2  3\n",
              "\n",
              "Constructing DataFrame from Series/DataFrame:\n",
              "\n",
              "&gt;&gt;&gt; ser = pd.Series([1, 2, 3], index=[&quot;a&quot;, &quot;b&quot;, &quot;c&quot;])\n",
              "&gt;&gt;&gt; df = pd.DataFrame(data=ser, index=[&quot;a&quot;, &quot;c&quot;])\n",
              "&gt;&gt;&gt; df\n",
              "   0\n",
              "a  1\n",
              "c  3\n",
              "\n",
              "&gt;&gt;&gt; df1 = pd.DataFrame([1, 2, 3], index=[&quot;a&quot;, &quot;b&quot;, &quot;c&quot;], columns=[&quot;x&quot;])\n",
              "&gt;&gt;&gt; df2 = pd.DataFrame(data=df1, index=[&quot;a&quot;, &quot;c&quot;])\n",
              "&gt;&gt;&gt; df2\n",
              "   x\n",
              "a  1\n",
              "c  3</pre>\n",
              "      <script>\n",
              "      if (google.colab.kernel.accessAllowed && google.colab.files && google.colab.files.view) {\n",
              "        for (const element of document.querySelectorAll('.filepath')) {\n",
              "          element.style.display = 'block'\n",
              "          element.onclick = (event) => {\n",
              "            event.preventDefault();\n",
              "            event.stopPropagation();\n",
              "            google.colab.files.view(element.textContent, 509);\n",
              "          };\n",
              "        }\n",
              "      }\n",
              "      for (const element of document.querySelectorAll('.function-repr-contents')) {\n",
              "        element.onclick = (event) => {\n",
              "          event.preventDefault();\n",
              "          event.stopPropagation();\n",
              "          element.classList.toggle('function-repr-contents-collapsed');\n",
              "        };\n",
              "      }\n",
              "      </script>\n",
              "      </div>"
            ]
          },
          "metadata": {},
          "execution_count": 16
        }
      ]
    },
    {
      "cell_type": "code",
      "source": [
        "nvida_daily.head()"
      ],
      "metadata": {
        "colab": {
          "base_uri": "https://localhost:8080/",
          "height": 269
        },
        "id": "_WDenr4gUrmT",
        "outputId": "b13ff6bb-c403-40fe-b794-ca2a1fa305c2"
      },
      "execution_count": 17,
      "outputs": [
        {
          "output_type": "execute_result",
          "data": {
            "text/plain": [
              "Price          Close      High       Low      Open      Volume\n",
              "Ticker          NVDA      NVDA      NVDA      NVDA        NVDA\n",
              "Date                                                          \n",
              "1999-01-22  0.037607  0.044770  0.035577  0.040114  2714688000\n",
              "1999-01-25  0.041547  0.042024  0.037607  0.040591   510480000\n",
              "1999-01-26  0.038323  0.042860  0.037726  0.042024   343200000\n",
              "1999-01-27  0.038204  0.039398  0.036293  0.038442   244368000\n",
              "1999-01-28  0.038084  0.038442  0.037845  0.038204   227520000"
            ],
            "text/html": [
              "\n",
              "  <div id=\"df-6e431a59-fed9-4c77-b569-4fd065c6e8d5\" class=\"colab-df-container\">\n",
              "    <div>\n",
              "<style scoped>\n",
              "    .dataframe tbody tr th:only-of-type {\n",
              "        vertical-align: middle;\n",
              "    }\n",
              "\n",
              "    .dataframe tbody tr th {\n",
              "        vertical-align: top;\n",
              "    }\n",
              "\n",
              "    .dataframe thead tr th {\n",
              "        text-align: left;\n",
              "    }\n",
              "\n",
              "    .dataframe thead tr:last-of-type th {\n",
              "        text-align: right;\n",
              "    }\n",
              "</style>\n",
              "<table border=\"1\" class=\"dataframe\">\n",
              "  <thead>\n",
              "    <tr>\n",
              "      <th>Price</th>\n",
              "      <th>Close</th>\n",
              "      <th>High</th>\n",
              "      <th>Low</th>\n",
              "      <th>Open</th>\n",
              "      <th>Volume</th>\n",
              "    </tr>\n",
              "    <tr>\n",
              "      <th>Ticker</th>\n",
              "      <th>NVDA</th>\n",
              "      <th>NVDA</th>\n",
              "      <th>NVDA</th>\n",
              "      <th>NVDA</th>\n",
              "      <th>NVDA</th>\n",
              "    </tr>\n",
              "    <tr>\n",
              "      <th>Date</th>\n",
              "      <th></th>\n",
              "      <th></th>\n",
              "      <th></th>\n",
              "      <th></th>\n",
              "      <th></th>\n",
              "    </tr>\n",
              "  </thead>\n",
              "  <tbody>\n",
              "    <tr>\n",
              "      <th>1999-01-22</th>\n",
              "      <td>0.037607</td>\n",
              "      <td>0.044770</td>\n",
              "      <td>0.035577</td>\n",
              "      <td>0.040114</td>\n",
              "      <td>2714688000</td>\n",
              "    </tr>\n",
              "    <tr>\n",
              "      <th>1999-01-25</th>\n",
              "      <td>0.041547</td>\n",
              "      <td>0.042024</td>\n",
              "      <td>0.037607</td>\n",
              "      <td>0.040591</td>\n",
              "      <td>510480000</td>\n",
              "    </tr>\n",
              "    <tr>\n",
              "      <th>1999-01-26</th>\n",
              "      <td>0.038323</td>\n",
              "      <td>0.042860</td>\n",
              "      <td>0.037726</td>\n",
              "      <td>0.042024</td>\n",
              "      <td>343200000</td>\n",
              "    </tr>\n",
              "    <tr>\n",
              "      <th>1999-01-27</th>\n",
              "      <td>0.038204</td>\n",
              "      <td>0.039398</td>\n",
              "      <td>0.036293</td>\n",
              "      <td>0.038442</td>\n",
              "      <td>244368000</td>\n",
              "    </tr>\n",
              "    <tr>\n",
              "      <th>1999-01-28</th>\n",
              "      <td>0.038084</td>\n",
              "      <td>0.038442</td>\n",
              "      <td>0.037845</td>\n",
              "      <td>0.038204</td>\n",
              "      <td>227520000</td>\n",
              "    </tr>\n",
              "  </tbody>\n",
              "</table>\n",
              "</div>\n",
              "    <div class=\"colab-df-buttons\">\n",
              "\n",
              "  <div class=\"colab-df-container\">\n",
              "    <button class=\"colab-df-convert\" onclick=\"convertToInteractive('df-6e431a59-fed9-4c77-b569-4fd065c6e8d5')\"\n",
              "            title=\"Convert this dataframe to an interactive table.\"\n",
              "            style=\"display:none;\">\n",
              "\n",
              "  <svg xmlns=\"http://www.w3.org/2000/svg\" height=\"24px\" viewBox=\"0 -960 960 960\">\n",
              "    <path d=\"M120-120v-720h720v720H120Zm60-500h600v-160H180v160Zm220 220h160v-160H400v160Zm0 220h160v-160H400v160ZM180-400h160v-160H180v160Zm440 0h160v-160H620v160ZM180-180h160v-160H180v160Zm440 0h160v-160H620v160Z\"/>\n",
              "  </svg>\n",
              "    </button>\n",
              "\n",
              "  <style>\n",
              "    .colab-df-container {\n",
              "      display:flex;\n",
              "      gap: 12px;\n",
              "    }\n",
              "\n",
              "    .colab-df-convert {\n",
              "      background-color: #E8F0FE;\n",
              "      border: none;\n",
              "      border-radius: 50%;\n",
              "      cursor: pointer;\n",
              "      display: none;\n",
              "      fill: #1967D2;\n",
              "      height: 32px;\n",
              "      padding: 0 0 0 0;\n",
              "      width: 32px;\n",
              "    }\n",
              "\n",
              "    .colab-df-convert:hover {\n",
              "      background-color: #E2EBFA;\n",
              "      box-shadow: 0px 1px 2px rgba(60, 64, 67, 0.3), 0px 1px 3px 1px rgba(60, 64, 67, 0.15);\n",
              "      fill: #174EA6;\n",
              "    }\n",
              "\n",
              "    .colab-df-buttons div {\n",
              "      margin-bottom: 4px;\n",
              "    }\n",
              "\n",
              "    [theme=dark] .colab-df-convert {\n",
              "      background-color: #3B4455;\n",
              "      fill: #D2E3FC;\n",
              "    }\n",
              "\n",
              "    [theme=dark] .colab-df-convert:hover {\n",
              "      background-color: #434B5C;\n",
              "      box-shadow: 0px 1px 3px 1px rgba(0, 0, 0, 0.15);\n",
              "      filter: drop-shadow(0px 1px 2px rgba(0, 0, 0, 0.3));\n",
              "      fill: #FFFFFF;\n",
              "    }\n",
              "  </style>\n",
              "\n",
              "    <script>\n",
              "      const buttonEl =\n",
              "        document.querySelector('#df-6e431a59-fed9-4c77-b569-4fd065c6e8d5 button.colab-df-convert');\n",
              "      buttonEl.style.display =\n",
              "        google.colab.kernel.accessAllowed ? 'block' : 'none';\n",
              "\n",
              "      async function convertToInteractive(key) {\n",
              "        const element = document.querySelector('#df-6e431a59-fed9-4c77-b569-4fd065c6e8d5');\n",
              "        const dataTable =\n",
              "          await google.colab.kernel.invokeFunction('convertToInteractive',\n",
              "                                                    [key], {});\n",
              "        if (!dataTable) return;\n",
              "\n",
              "        const docLinkHtml = 'Like what you see? Visit the ' +\n",
              "          '<a target=\"_blank\" href=https://colab.research.google.com/notebooks/data_table.ipynb>data table notebook</a>'\n",
              "          + ' to learn more about interactive tables.';\n",
              "        element.innerHTML = '';\n",
              "        dataTable['output_type'] = 'display_data';\n",
              "        await google.colab.output.renderOutput(dataTable, element);\n",
              "        const docLink = document.createElement('div');\n",
              "        docLink.innerHTML = docLinkHtml;\n",
              "        element.appendChild(docLink);\n",
              "      }\n",
              "    </script>\n",
              "  </div>\n",
              "\n",
              "\n",
              "    <div id=\"df-adc21217-badf-44ce-943a-b1491c1c08c4\">\n",
              "      <button class=\"colab-df-quickchart\" onclick=\"quickchart('df-adc21217-badf-44ce-943a-b1491c1c08c4')\"\n",
              "                title=\"Suggest charts\"\n",
              "                style=\"display:none;\">\n",
              "\n",
              "<svg xmlns=\"http://www.w3.org/2000/svg\" height=\"24px\"viewBox=\"0 0 24 24\"\n",
              "     width=\"24px\">\n",
              "    <g>\n",
              "        <path d=\"M19 3H5c-1.1 0-2 .9-2 2v14c0 1.1.9 2 2 2h14c1.1 0 2-.9 2-2V5c0-1.1-.9-2-2-2zM9 17H7v-7h2v7zm4 0h-2V7h2v10zm4 0h-2v-4h2v4z\"/>\n",
              "    </g>\n",
              "</svg>\n",
              "      </button>\n",
              "\n",
              "<style>\n",
              "  .colab-df-quickchart {\n",
              "      --bg-color: #E8F0FE;\n",
              "      --fill-color: #1967D2;\n",
              "      --hover-bg-color: #E2EBFA;\n",
              "      --hover-fill-color: #174EA6;\n",
              "      --disabled-fill-color: #AAA;\n",
              "      --disabled-bg-color: #DDD;\n",
              "  }\n",
              "\n",
              "  [theme=dark] .colab-df-quickchart {\n",
              "      --bg-color: #3B4455;\n",
              "      --fill-color: #D2E3FC;\n",
              "      --hover-bg-color: #434B5C;\n",
              "      --hover-fill-color: #FFFFFF;\n",
              "      --disabled-bg-color: #3B4455;\n",
              "      --disabled-fill-color: #666;\n",
              "  }\n",
              "\n",
              "  .colab-df-quickchart {\n",
              "    background-color: var(--bg-color);\n",
              "    border: none;\n",
              "    border-radius: 50%;\n",
              "    cursor: pointer;\n",
              "    display: none;\n",
              "    fill: var(--fill-color);\n",
              "    height: 32px;\n",
              "    padding: 0;\n",
              "    width: 32px;\n",
              "  }\n",
              "\n",
              "  .colab-df-quickchart:hover {\n",
              "    background-color: var(--hover-bg-color);\n",
              "    box-shadow: 0 1px 2px rgba(60, 64, 67, 0.3), 0 1px 3px 1px rgba(60, 64, 67, 0.15);\n",
              "    fill: var(--button-hover-fill-color);\n",
              "  }\n",
              "\n",
              "  .colab-df-quickchart-complete:disabled,\n",
              "  .colab-df-quickchart-complete:disabled:hover {\n",
              "    background-color: var(--disabled-bg-color);\n",
              "    fill: var(--disabled-fill-color);\n",
              "    box-shadow: none;\n",
              "  }\n",
              "\n",
              "  .colab-df-spinner {\n",
              "    border: 2px solid var(--fill-color);\n",
              "    border-color: transparent;\n",
              "    border-bottom-color: var(--fill-color);\n",
              "    animation:\n",
              "      spin 1s steps(1) infinite;\n",
              "  }\n",
              "\n",
              "  @keyframes spin {\n",
              "    0% {\n",
              "      border-color: transparent;\n",
              "      border-bottom-color: var(--fill-color);\n",
              "      border-left-color: var(--fill-color);\n",
              "    }\n",
              "    20% {\n",
              "      border-color: transparent;\n",
              "      border-left-color: var(--fill-color);\n",
              "      border-top-color: var(--fill-color);\n",
              "    }\n",
              "    30% {\n",
              "      border-color: transparent;\n",
              "      border-left-color: var(--fill-color);\n",
              "      border-top-color: var(--fill-color);\n",
              "      border-right-color: var(--fill-color);\n",
              "    }\n",
              "    40% {\n",
              "      border-color: transparent;\n",
              "      border-right-color: var(--fill-color);\n",
              "      border-top-color: var(--fill-color);\n",
              "    }\n",
              "    60% {\n",
              "      border-color: transparent;\n",
              "      border-right-color: var(--fill-color);\n",
              "    }\n",
              "    80% {\n",
              "      border-color: transparent;\n",
              "      border-right-color: var(--fill-color);\n",
              "      border-bottom-color: var(--fill-color);\n",
              "    }\n",
              "    90% {\n",
              "      border-color: transparent;\n",
              "      border-bottom-color: var(--fill-color);\n",
              "    }\n",
              "  }\n",
              "</style>\n",
              "\n",
              "      <script>\n",
              "        async function quickchart(key) {\n",
              "          const quickchartButtonEl =\n",
              "            document.querySelector('#' + key + ' button');\n",
              "          quickchartButtonEl.disabled = true;  // To prevent multiple clicks.\n",
              "          quickchartButtonEl.classList.add('colab-df-spinner');\n",
              "          try {\n",
              "            const charts = await google.colab.kernel.invokeFunction(\n",
              "                'suggestCharts', [key], {});\n",
              "          } catch (error) {\n",
              "            console.error('Error during call to suggestCharts:', error);\n",
              "          }\n",
              "          quickchartButtonEl.classList.remove('colab-df-spinner');\n",
              "          quickchartButtonEl.classList.add('colab-df-quickchart-complete');\n",
              "        }\n",
              "        (() => {\n",
              "          let quickchartButtonEl =\n",
              "            document.querySelector('#df-adc21217-badf-44ce-943a-b1491c1c08c4 button');\n",
              "          quickchartButtonEl.style.display =\n",
              "            google.colab.kernel.accessAllowed ? 'block' : 'none';\n",
              "        })();\n",
              "      </script>\n",
              "    </div>\n",
              "\n",
              "    </div>\n",
              "  </div>\n"
            ],
            "application/vnd.google.colaboratory.intrinsic+json": {
              "type": "dataframe",
              "variable_name": "nvida_daily",
              "summary": "{\n  \"name\": \"nvida_daily\",\n  \"rows\": 6710,\n  \"fields\": [\n    {\n      \"column\": [\n        \"Date\",\n        \"\"\n      ],\n      \"properties\": {\n        \"dtype\": \"date\",\n        \"min\": \"1999-01-22 00:00:00\",\n        \"max\": \"2025-09-24 00:00:00\",\n        \"num_unique_values\": 6710,\n        \"samples\": [\n          \"2018-11-26 00:00:00\",\n          \"2000-01-13 00:00:00\",\n          \"2015-12-14 00:00:00\"\n        ],\n        \"semantic_type\": \"\",\n        \"description\": \"\"\n      }\n    },\n    {\n      \"column\": [\n        \"Close\",\n        \"NVDA\"\n      ],\n      \"properties\": {\n        \"dtype\": \"number\",\n        \"std\": 31.28077941963294,\n        \"min\": 0.0312795415520668,\n        \"max\": 183.61000061035156,\n        \"num_unique_values\": 5667,\n        \"samples\": [\n          32.61063766479492,\n          8.000018119812012,\n          16.30740737915039\n        ],\n        \"semantic_type\": \"\",\n        \"description\": \"\"\n      }\n    },\n    {\n      \"column\": [\n        \"High\",\n        \"NVDA\"\n      ],\n      \"properties\": {\n        \"dtype\": \"number\",\n        \"std\": 31.7894702241783,\n        \"min\": 0.03259253850222618,\n        \"max\": 184.5500030517578,\n        \"num_unique_values\": 6683,\n        \"samples\": [\n          0.7978947000285328,\n          16.337373896519637,\n          0.14601397588727996\n        ],\n        \"semantic_type\": \"\",\n        \"description\": \"\"\n      }\n    },\n    {\n      \"column\": [\n        \"Low\",\n        \"NVDA\"\n      ],\n      \"properties\": {\n        \"dtype\": \"number\",\n        \"std\": 30.701827334278427,\n        \"min\": 0.03056253567372112,\n        \"max\": 180.5798072904055,\n        \"num_unique_values\": 6674,\n        \"samples\": [\n          0.20729224568855856,\n          19.791840024636087,\n          3.7470113952204414\n        ],\n        \"semantic_type\": \"\",\n        \"description\": \"\"\n      }\n    },\n    {\n      \"column\": [\n        \"Open\",\n        \"NVDA\"\n      ],\n      \"properties\": {\n        \"dtype\": \"number\",\n        \"std\": 31.28464039640192,\n        \"min\": 0.031995629935423944,\n        \"max\": 182.94968779347354,\n        \"num_unique_values\": 6693,\n        \"samples\": [\n          8.799716491237003,\n          12.833625416569115,\n          0.03903914677134091\n        ],\n        \"semantic_type\": \"\",\n        \"description\": \"\"\n      }\n    },\n    {\n      \"column\": [\n        \"Volume\",\n        \"NVDA\"\n      ],\n      \"properties\": {\n        \"dtype\": \"number\",\n        \"std\": 429637470,\n        \"min\": 19680000,\n        \"max\": 9230856000,\n        \"num_unique_values\": 6626,\n        \"samples\": [\n          836608000,\n          381544000,\n          306956000\n        ],\n        \"semantic_type\": \"\",\n        \"description\": \"\"\n      }\n    }\n  ]\n}"
            }
          },
          "metadata": {},
          "execution_count": 17
        }
      ]
    },
    {
      "cell_type": "code",
      "source": [
        "nvida_daily.columns"
      ],
      "metadata": {
        "colab": {
          "base_uri": "https://localhost:8080/"
        },
        "id": "vFKqwILyXK5L",
        "outputId": "fc347774-bac6-467e-fe96-6fa51ea050e3"
      },
      "execution_count": 18,
      "outputs": [
        {
          "output_type": "execute_result",
          "data": {
            "text/plain": [
              "MultiIndex([( 'Close', 'NVDA'),\n",
              "            (  'High', 'NVDA'),\n",
              "            (   'Low', 'NVDA'),\n",
              "            (  'Open', 'NVDA'),\n",
              "            ('Volume', 'NVDA')],\n",
              "           names=['Price', 'Ticker'])"
            ]
          },
          "metadata": {},
          "execution_count": 18
        }
      ]
    },
    {
      "cell_type": "code",
      "source": [
        "## Note that column names ara a multiIndex"
      ],
      "metadata": {
        "id": "U09R0ZD_XUWW"
      },
      "execution_count": null,
      "outputs": []
    },
    {
      "cell_type": "code",
      "source": [
        "type( nvida_daily.columns )"
      ],
      "metadata": {
        "colab": {
          "base_uri": "https://localhost:8080/"
        },
        "id": "V5jUDnNJXfw9",
        "outputId": "cbe78aae-5c17-47d3-f590-976125421c7a"
      },
      "execution_count": 19,
      "outputs": [
        {
          "output_type": "execute_result",
          "data": {
            "text/plain": [
              "pandas.core.indexes.multi.MultiIndex"
            ]
          },
          "metadata": {},
          "execution_count": 19
        }
      ]
    },
    {
      "cell_type": "markdown",
      "source": [
        "## I can access the first livel index"
      ],
      "metadata": {
        "id": "0u8lcmgCXf7U"
      }
    },
    {
      "cell_type": "code",
      "source": [
        "nvida_daily.columns[0]"
      ],
      "metadata": {
        "colab": {
          "base_uri": "https://localhost:8080/"
        },
        "id": "FME9yK47XtGi",
        "outputId": "4e875c46-ac86-4f95-80a7-5ef03cd1807e"
      },
      "execution_count": 21,
      "outputs": [
        {
          "output_type": "execute_result",
          "data": {
            "text/plain": [
              "('Close', 'NVDA')"
            ]
          },
          "metadata": {},
          "execution_count": 21
        }
      ]
    },
    {
      "cell_type": "markdown",
      "source": [
        "##  Is this a list?\n"
      ],
      "metadata": {
        "id": "cdq7_lmMXtZy"
      }
    },
    {
      "cell_type": "code",
      "source": [
        "## It is actually a tupple"
      ],
      "metadata": {
        "id": "PA4nYe2-Xtd6"
      },
      "execution_count": null,
      "outputs": []
    },
    {
      "cell_type": "code",
      "source": [
        "nvida_daily.columns[0][0]"
      ],
      "metadata": {
        "colab": {
          "base_uri": "https://localhost:8080/",
          "height": 35
        },
        "id": "QerVs60jXthT",
        "outputId": "bbd632a0-6823-4693-bd39-fbb95f11d891"
      },
      "execution_count": 23,
      "outputs": [
        {
          "output_type": "execute_result",
          "data": {
            "text/plain": [
              "'Close'"
            ],
            "application/vnd.google.colaboratory.intrinsic+json": {
              "type": "string"
            }
          },
          "metadata": {},
          "execution_count": 23
        }
      ]
    },
    {
      "cell_type": "markdown",
      "source": [
        "## For convenience I can suppres the ticker in the column names  "
      ],
      "metadata": {
        "id": "zXKUiM39YDd7"
      }
    },
    {
      "cell_type": "code",
      "source": [
        "nvida_daily.columns.get_level_values(0)"
      ],
      "metadata": {
        "colab": {
          "base_uri": "https://localhost:8080/"
        },
        "id": "zjdxrHL_YDiT",
        "outputId": "ba4b8d97-c1de-4648-8f23-23553273e6a3"
      },
      "execution_count": 24,
      "outputs": [
        {
          "output_type": "execute_result",
          "data": {
            "text/plain": [
              "Index(['Close', 'High', 'Low', 'Open', 'Volume'], dtype='object', name='Price')"
            ]
          },
          "metadata": {},
          "execution_count": 24
        }
      ]
    },
    {
      "cell_type": "code",
      "source": [
        "nvida_daily.columns = nvida_daily.columns.get_level_values(0)\n",
        "nvida_daily.head()"
      ],
      "metadata": {
        "colab": {
          "base_uri": "https://localhost:8080/",
          "height": 238
        },
        "id": "8nuR69I2YDmo",
        "outputId": "4e5bd34f-6e57-493c-bd48-043a48b5842c"
      },
      "execution_count": 26,
      "outputs": [
        {
          "output_type": "execute_result",
          "data": {
            "text/plain": [
              "Price          Close      High       Low      Open      Volume\n",
              "Date                                                          \n",
              "1999-01-22  0.037607  0.044770  0.035577  0.040114  2714688000\n",
              "1999-01-25  0.041547  0.042024  0.037607  0.040591   510480000\n",
              "1999-01-26  0.038323  0.042860  0.037726  0.042024   343200000\n",
              "1999-01-27  0.038204  0.039398  0.036293  0.038442   244368000\n",
              "1999-01-28  0.038084  0.038442  0.037845  0.038204   227520000"
            ],
            "text/html": [
              "\n",
              "  <div id=\"df-7a696221-64e5-41f0-ae20-4750643bb3cd\" class=\"colab-df-container\">\n",
              "    <div>\n",
              "<style scoped>\n",
              "    .dataframe tbody tr th:only-of-type {\n",
              "        vertical-align: middle;\n",
              "    }\n",
              "\n",
              "    .dataframe tbody tr th {\n",
              "        vertical-align: top;\n",
              "    }\n",
              "\n",
              "    .dataframe thead th {\n",
              "        text-align: right;\n",
              "    }\n",
              "</style>\n",
              "<table border=\"1\" class=\"dataframe\">\n",
              "  <thead>\n",
              "    <tr style=\"text-align: right;\">\n",
              "      <th>Price</th>\n",
              "      <th>Close</th>\n",
              "      <th>High</th>\n",
              "      <th>Low</th>\n",
              "      <th>Open</th>\n",
              "      <th>Volume</th>\n",
              "    </tr>\n",
              "    <tr>\n",
              "      <th>Date</th>\n",
              "      <th></th>\n",
              "      <th></th>\n",
              "      <th></th>\n",
              "      <th></th>\n",
              "      <th></th>\n",
              "    </tr>\n",
              "  </thead>\n",
              "  <tbody>\n",
              "    <tr>\n",
              "      <th>1999-01-22</th>\n",
              "      <td>0.037607</td>\n",
              "      <td>0.044770</td>\n",
              "      <td>0.035577</td>\n",
              "      <td>0.040114</td>\n",
              "      <td>2714688000</td>\n",
              "    </tr>\n",
              "    <tr>\n",
              "      <th>1999-01-25</th>\n",
              "      <td>0.041547</td>\n",
              "      <td>0.042024</td>\n",
              "      <td>0.037607</td>\n",
              "      <td>0.040591</td>\n",
              "      <td>510480000</td>\n",
              "    </tr>\n",
              "    <tr>\n",
              "      <th>1999-01-26</th>\n",
              "      <td>0.038323</td>\n",
              "      <td>0.042860</td>\n",
              "      <td>0.037726</td>\n",
              "      <td>0.042024</td>\n",
              "      <td>343200000</td>\n",
              "    </tr>\n",
              "    <tr>\n",
              "      <th>1999-01-27</th>\n",
              "      <td>0.038204</td>\n",
              "      <td>0.039398</td>\n",
              "      <td>0.036293</td>\n",
              "      <td>0.038442</td>\n",
              "      <td>244368000</td>\n",
              "    </tr>\n",
              "    <tr>\n",
              "      <th>1999-01-28</th>\n",
              "      <td>0.038084</td>\n",
              "      <td>0.038442</td>\n",
              "      <td>0.037845</td>\n",
              "      <td>0.038204</td>\n",
              "      <td>227520000</td>\n",
              "    </tr>\n",
              "  </tbody>\n",
              "</table>\n",
              "</div>\n",
              "    <div class=\"colab-df-buttons\">\n",
              "\n",
              "  <div class=\"colab-df-container\">\n",
              "    <button class=\"colab-df-convert\" onclick=\"convertToInteractive('df-7a696221-64e5-41f0-ae20-4750643bb3cd')\"\n",
              "            title=\"Convert this dataframe to an interactive table.\"\n",
              "            style=\"display:none;\">\n",
              "\n",
              "  <svg xmlns=\"http://www.w3.org/2000/svg\" height=\"24px\" viewBox=\"0 -960 960 960\">\n",
              "    <path d=\"M120-120v-720h720v720H120Zm60-500h600v-160H180v160Zm220 220h160v-160H400v160Zm0 220h160v-160H400v160ZM180-400h160v-160H180v160Zm440 0h160v-160H620v160ZM180-180h160v-160H180v160Zm440 0h160v-160H620v160Z\"/>\n",
              "  </svg>\n",
              "    </button>\n",
              "\n",
              "  <style>\n",
              "    .colab-df-container {\n",
              "      display:flex;\n",
              "      gap: 12px;\n",
              "    }\n",
              "\n",
              "    .colab-df-convert {\n",
              "      background-color: #E8F0FE;\n",
              "      border: none;\n",
              "      border-radius: 50%;\n",
              "      cursor: pointer;\n",
              "      display: none;\n",
              "      fill: #1967D2;\n",
              "      height: 32px;\n",
              "      padding: 0 0 0 0;\n",
              "      width: 32px;\n",
              "    }\n",
              "\n",
              "    .colab-df-convert:hover {\n",
              "      background-color: #E2EBFA;\n",
              "      box-shadow: 0px 1px 2px rgba(60, 64, 67, 0.3), 0px 1px 3px 1px rgba(60, 64, 67, 0.15);\n",
              "      fill: #174EA6;\n",
              "    }\n",
              "\n",
              "    .colab-df-buttons div {\n",
              "      margin-bottom: 4px;\n",
              "    }\n",
              "\n",
              "    [theme=dark] .colab-df-convert {\n",
              "      background-color: #3B4455;\n",
              "      fill: #D2E3FC;\n",
              "    }\n",
              "\n",
              "    [theme=dark] .colab-df-convert:hover {\n",
              "      background-color: #434B5C;\n",
              "      box-shadow: 0px 1px 3px 1px rgba(0, 0, 0, 0.15);\n",
              "      filter: drop-shadow(0px 1px 2px rgba(0, 0, 0, 0.3));\n",
              "      fill: #FFFFFF;\n",
              "    }\n",
              "  </style>\n",
              "\n",
              "    <script>\n",
              "      const buttonEl =\n",
              "        document.querySelector('#df-7a696221-64e5-41f0-ae20-4750643bb3cd button.colab-df-convert');\n",
              "      buttonEl.style.display =\n",
              "        google.colab.kernel.accessAllowed ? 'block' : 'none';\n",
              "\n",
              "      async function convertToInteractive(key) {\n",
              "        const element = document.querySelector('#df-7a696221-64e5-41f0-ae20-4750643bb3cd');\n",
              "        const dataTable =\n",
              "          await google.colab.kernel.invokeFunction('convertToInteractive',\n",
              "                                                    [key], {});\n",
              "        if (!dataTable) return;\n",
              "\n",
              "        const docLinkHtml = 'Like what you see? Visit the ' +\n",
              "          '<a target=\"_blank\" href=https://colab.research.google.com/notebooks/data_table.ipynb>data table notebook</a>'\n",
              "          + ' to learn more about interactive tables.';\n",
              "        element.innerHTML = '';\n",
              "        dataTable['output_type'] = 'display_data';\n",
              "        await google.colab.output.renderOutput(dataTable, element);\n",
              "        const docLink = document.createElement('div');\n",
              "        docLink.innerHTML = docLinkHtml;\n",
              "        element.appendChild(docLink);\n",
              "      }\n",
              "    </script>\n",
              "  </div>\n",
              "\n",
              "\n",
              "    <div id=\"df-f74a28d0-cc13-4ef6-87dc-5a93a1267333\">\n",
              "      <button class=\"colab-df-quickchart\" onclick=\"quickchart('df-f74a28d0-cc13-4ef6-87dc-5a93a1267333')\"\n",
              "                title=\"Suggest charts\"\n",
              "                style=\"display:none;\">\n",
              "\n",
              "<svg xmlns=\"http://www.w3.org/2000/svg\" height=\"24px\"viewBox=\"0 0 24 24\"\n",
              "     width=\"24px\">\n",
              "    <g>\n",
              "        <path d=\"M19 3H5c-1.1 0-2 .9-2 2v14c0 1.1.9 2 2 2h14c1.1 0 2-.9 2-2V5c0-1.1-.9-2-2-2zM9 17H7v-7h2v7zm4 0h-2V7h2v10zm4 0h-2v-4h2v4z\"/>\n",
              "    </g>\n",
              "</svg>\n",
              "      </button>\n",
              "\n",
              "<style>\n",
              "  .colab-df-quickchart {\n",
              "      --bg-color: #E8F0FE;\n",
              "      --fill-color: #1967D2;\n",
              "      --hover-bg-color: #E2EBFA;\n",
              "      --hover-fill-color: #174EA6;\n",
              "      --disabled-fill-color: #AAA;\n",
              "      --disabled-bg-color: #DDD;\n",
              "  }\n",
              "\n",
              "  [theme=dark] .colab-df-quickchart {\n",
              "      --bg-color: #3B4455;\n",
              "      --fill-color: #D2E3FC;\n",
              "      --hover-bg-color: #434B5C;\n",
              "      --hover-fill-color: #FFFFFF;\n",
              "      --disabled-bg-color: #3B4455;\n",
              "      --disabled-fill-color: #666;\n",
              "  }\n",
              "\n",
              "  .colab-df-quickchart {\n",
              "    background-color: var(--bg-color);\n",
              "    border: none;\n",
              "    border-radius: 50%;\n",
              "    cursor: pointer;\n",
              "    display: none;\n",
              "    fill: var(--fill-color);\n",
              "    height: 32px;\n",
              "    padding: 0;\n",
              "    width: 32px;\n",
              "  }\n",
              "\n",
              "  .colab-df-quickchart:hover {\n",
              "    background-color: var(--hover-bg-color);\n",
              "    box-shadow: 0 1px 2px rgba(60, 64, 67, 0.3), 0 1px 3px 1px rgba(60, 64, 67, 0.15);\n",
              "    fill: var(--button-hover-fill-color);\n",
              "  }\n",
              "\n",
              "  .colab-df-quickchart-complete:disabled,\n",
              "  .colab-df-quickchart-complete:disabled:hover {\n",
              "    background-color: var(--disabled-bg-color);\n",
              "    fill: var(--disabled-fill-color);\n",
              "    box-shadow: none;\n",
              "  }\n",
              "\n",
              "  .colab-df-spinner {\n",
              "    border: 2px solid var(--fill-color);\n",
              "    border-color: transparent;\n",
              "    border-bottom-color: var(--fill-color);\n",
              "    animation:\n",
              "      spin 1s steps(1) infinite;\n",
              "  }\n",
              "\n",
              "  @keyframes spin {\n",
              "    0% {\n",
              "      border-color: transparent;\n",
              "      border-bottom-color: var(--fill-color);\n",
              "      border-left-color: var(--fill-color);\n",
              "    }\n",
              "    20% {\n",
              "      border-color: transparent;\n",
              "      border-left-color: var(--fill-color);\n",
              "      border-top-color: var(--fill-color);\n",
              "    }\n",
              "    30% {\n",
              "      border-color: transparent;\n",
              "      border-left-color: var(--fill-color);\n",
              "      border-top-color: var(--fill-color);\n",
              "      border-right-color: var(--fill-color);\n",
              "    }\n",
              "    40% {\n",
              "      border-color: transparent;\n",
              "      border-right-color: var(--fill-color);\n",
              "      border-top-color: var(--fill-color);\n",
              "    }\n",
              "    60% {\n",
              "      border-color: transparent;\n",
              "      border-right-color: var(--fill-color);\n",
              "    }\n",
              "    80% {\n",
              "      border-color: transparent;\n",
              "      border-right-color: var(--fill-color);\n",
              "      border-bottom-color: var(--fill-color);\n",
              "    }\n",
              "    90% {\n",
              "      border-color: transparent;\n",
              "      border-bottom-color: var(--fill-color);\n",
              "    }\n",
              "  }\n",
              "</style>\n",
              "\n",
              "      <script>\n",
              "        async function quickchart(key) {\n",
              "          const quickchartButtonEl =\n",
              "            document.querySelector('#' + key + ' button');\n",
              "          quickchartButtonEl.disabled = true;  // To prevent multiple clicks.\n",
              "          quickchartButtonEl.classList.add('colab-df-spinner');\n",
              "          try {\n",
              "            const charts = await google.colab.kernel.invokeFunction(\n",
              "                'suggestCharts', [key], {});\n",
              "          } catch (error) {\n",
              "            console.error('Error during call to suggestCharts:', error);\n",
              "          }\n",
              "          quickchartButtonEl.classList.remove('colab-df-spinner');\n",
              "          quickchartButtonEl.classList.add('colab-df-quickchart-complete');\n",
              "        }\n",
              "        (() => {\n",
              "          let quickchartButtonEl =\n",
              "            document.querySelector('#df-f74a28d0-cc13-4ef6-87dc-5a93a1267333 button');\n",
              "          quickchartButtonEl.style.display =\n",
              "            google.colab.kernel.accessAllowed ? 'block' : 'none';\n",
              "        })();\n",
              "      </script>\n",
              "    </div>\n",
              "\n",
              "    </div>\n",
              "  </div>\n"
            ],
            "application/vnd.google.colaboratory.intrinsic+json": {
              "type": "dataframe",
              "variable_name": "nvida_daily",
              "summary": "{\n  \"name\": \"nvida_daily\",\n  \"rows\": 6710,\n  \"fields\": [\n    {\n      \"column\": \"Date\",\n      \"properties\": {\n        \"dtype\": \"date\",\n        \"min\": \"1999-01-22 00:00:00\",\n        \"max\": \"2025-09-24 00:00:00\",\n        \"num_unique_values\": 6710,\n        \"samples\": [\n          \"2018-11-26 00:00:00\",\n          \"2000-01-13 00:00:00\",\n          \"2015-12-14 00:00:00\"\n        ],\n        \"semantic_type\": \"\",\n        \"description\": \"\"\n      }\n    },\n    {\n      \"column\": \"Close\",\n      \"properties\": {\n        \"dtype\": \"number\",\n        \"std\": 31.28077941963294,\n        \"min\": 0.0312795415520668,\n        \"max\": 183.61000061035156,\n        \"num_unique_values\": 5667,\n        \"samples\": [\n          32.61063766479492,\n          8.000018119812012,\n          16.30740737915039\n        ],\n        \"semantic_type\": \"\",\n        \"description\": \"\"\n      }\n    },\n    {\n      \"column\": \"High\",\n      \"properties\": {\n        \"dtype\": \"number\",\n        \"std\": 31.7894702241783,\n        \"min\": 0.03259253850222618,\n        \"max\": 184.5500030517578,\n        \"num_unique_values\": 6683,\n        \"samples\": [\n          0.7978947000285328,\n          16.337373896519637,\n          0.14601397588727996\n        ],\n        \"semantic_type\": \"\",\n        \"description\": \"\"\n      }\n    },\n    {\n      \"column\": \"Low\",\n      \"properties\": {\n        \"dtype\": \"number\",\n        \"std\": 30.701827334278427,\n        \"min\": 0.03056253567372112,\n        \"max\": 180.5798072904055,\n        \"num_unique_values\": 6674,\n        \"samples\": [\n          0.20729224568855856,\n          19.791840024636087,\n          3.7470113952204414\n        ],\n        \"semantic_type\": \"\",\n        \"description\": \"\"\n      }\n    },\n    {\n      \"column\": \"Open\",\n      \"properties\": {\n        \"dtype\": \"number\",\n        \"std\": 31.28464039640192,\n        \"min\": 0.031995629935423944,\n        \"max\": 182.94968779347354,\n        \"num_unique_values\": 6693,\n        \"samples\": [\n          8.799716491237003,\n          12.833625416569115,\n          0.03903914677134091\n        ],\n        \"semantic_type\": \"\",\n        \"description\": \"\"\n      }\n    },\n    {\n      \"column\": \"Volume\",\n      \"properties\": {\n        \"dtype\": \"number\",\n        \"std\": 429637470,\n        \"min\": 19680000,\n        \"max\": 9230856000,\n        \"num_unique_values\": 6626,\n        \"samples\": [\n          836608000,\n          381544000,\n          306956000\n        ],\n        \"semantic_type\": \"\",\n        \"description\": \"\"\n      }\n    }\n  ]\n}"
            }
          },
          "metadata": {},
          "execution_count": 26
        }
      ]
    },
    {
      "cell_type": "markdown",
      "source": [
        "## Discuss adjusted-close and adjusted prices"
      ],
      "metadata": {
        "id": "TQSrHN6qYtV6"
      }
    },
    {
      "cell_type": "code",
      "source": [
        "nvida_daily.info()"
      ],
      "metadata": {
        "colab": {
          "base_uri": "https://localhost:8080/"
        },
        "id": "GAnp84XHZLqM",
        "outputId": "98ae0576-a032-4b3a-c1a8-1b11b6ea9673"
      },
      "execution_count": 28,
      "outputs": [
        {
          "output_type": "stream",
          "name": "stdout",
          "text": [
            "<class 'pandas.core.frame.DataFrame'>\n",
            "DatetimeIndex: 6710 entries, 1999-01-22 to 2025-09-24\n",
            "Data columns (total 5 columns):\n",
            " #   Column  Non-Null Count  Dtype  \n",
            "---  ------  --------------  -----  \n",
            " 0   Close   6710 non-null   float64\n",
            " 1   High    6710 non-null   float64\n",
            " 2   Low     6710 non-null   float64\n",
            " 3   Open    6710 non-null   float64\n",
            " 4   Volume  6710 non-null   int64  \n",
            "dtypes: float64(4), int64(1)\n",
            "memory usage: 314.5 KB\n"
          ]
        }
      ]
    },
    {
      "cell_type": "markdown",
      "source": [
        "## What is the daily growth in NVDA stock since inception"
      ],
      "metadata": {
        "id": "b8wEGcBWZWO4"
      }
    },
    {
      "cell_type": "code",
      "source": [
        "nvida_daily.shape"
      ],
      "metadata": {
        "colab": {
          "base_uri": "https://localhost:8080/"
        },
        "id": "NefIJx5PZuUz",
        "outputId": "4f9a6900-20cf-4b39-e993-d55364f7585b"
      },
      "execution_count": 31,
      "outputs": [
        {
          "output_type": "execute_result",
          "data": {
            "text/plain": [
              "(6710, 5)"
            ]
          },
          "metadata": {},
          "execution_count": 31
        }
      ]
    },
    {
      "cell_type": "code",
      "source": [
        "nvida_daily.shape[0]"
      ],
      "metadata": {
        "colab": {
          "base_uri": "https://localhost:8080/"
        },
        "id": "Al2SinZmZ1LB",
        "outputId": "a4da4ba4-7b28-45fb-fcad-ae551567c64e"
      },
      "execution_count": 32,
      "outputs": [
        {
          "output_type": "execute_result",
          "data": {
            "text/plain": [
              "6710"
            ]
          },
          "metadata": {},
          "execution_count": 32
        }
      ]
    },
    {
      "cell_type": "code",
      "source": [
        "## yahoo finance provide data for business days only.\n",
        "## How many yeas we have in 6710 days?"
      ],
      "metadata": {
        "id": "2vbL9BSlgQgp"
      },
      "execution_count": null,
      "outputs": []
    },
    {
      "cell_type": "code",
      "source": [
        "nvida_daily.shape[0]/252"
      ],
      "metadata": {
        "colab": {
          "base_uri": "https://localhost:8080/"
        },
        "id": "hMJ-QlfNgi-O",
        "outputId": "41499d3c-b48b-4f06-d3cf-1f161d1884e2"
      },
      "execution_count": 33,
      "outputs": [
        {
          "output_type": "execute_result",
          "data": {
            "text/plain": [
              "26.626984126984127"
            ]
          },
          "metadata": {},
          "execution_count": 33
        }
      ]
    },
    {
      "cell_type": "code",
      "source": [
        "## If you invested a $1 in Nvidia 1999-01-22 and held it tel 2025-09-24 What is you accumulated investment?"
      ],
      "metadata": {
        "id": "zBrIk4VigjLM"
      },
      "execution_count": null,
      "outputs": []
    },
    {
      "cell_type": "code",
      "source": [
        "TV = nvida_daily['Close'][-1]/nvida_daily['Close'][0]\n",
        "round(TV,6)\n"
      ],
      "metadata": {
        "colab": {
          "base_uri": "https://localhost:8080/"
        },
        "id": "TktDx33Xg-Ob",
        "outputId": "c98176e5-26b4-4f6e-df82-b1e447c9dd15"
      },
      "execution_count": 37,
      "outputs": [
        {
          "output_type": "stream",
          "name": "stderr",
          "text": [
            "/tmp/ipython-input-2544929998.py:1: FutureWarning: Series.__getitem__ treating keys as positions is deprecated. In a future version, integer keys will always be treated as labels (consistent with DataFrame behavior). To access a value by position, use `ser.iloc[pos]`\n",
            "  TV = nvida_daily['Close'][-1]/nvida_daily['Close'][0]\n"
          ]
        },
        {
          "output_type": "execute_result",
          "data": {
            "text/plain": [
              "np.float64(4705.776247)"
            ]
          },
          "metadata": {},
          "execution_count": 37
        }
      ]
    },
    {
      "cell_type": "code",
      "source": [
        "## Annual-growth is"
      ],
      "metadata": {
        "id": "z8ObZiqwg-XM"
      },
      "execution_count": null,
      "outputs": []
    },
    {
      "cell_type": "code",
      "source": [
        "ndays = nvida_daily.shape[0]\n",
        "print ( 'ndays= ' , round( ndays/252,2) )\n",
        "print ( 'daily growth' , round  (TV**(1/ndays),6 ) -1)"
      ],
      "metadata": {
        "colab": {
          "base_uri": "https://localhost:8080/"
        },
        "id": "2QP_AxlWhxKv",
        "outputId": "51e292bb-19db-40c5-a10b-666ae6afc855"
      },
      "execution_count": 45,
      "outputs": [
        {
          "output_type": "stream",
          "name": "stdout",
          "text": [
            "ndays=  26.63\n",
            "daily growth 0.0012609999999999566\n"
          ]
        }
      ]
    },
    {
      "cell_type": "code",
      "source": [
        "print ( 'daily growth' , round  (TV**(252/ndays),6 )-1)"
      ],
      "metadata": {
        "colab": {
          "base_uri": "https://localhost:8080/"
        },
        "id": "RRSs1trAhxWh",
        "outputId": "fc510041-f9c2-4978-fbe1-433a2cb05755"
      },
      "execution_count": 48,
      "outputs": [
        {
          "output_type": "stream",
          "name": "stdout",
          "text": [
            "daily growth 0.37381700000000007\n"
          ]
        }
      ]
    },
    {
      "cell_type": "markdown",
      "source": [
        "## Annual return of 37.38%"
      ],
      "metadata": {
        "id": "mAH8bCTTg-bc"
      }
    },
    {
      "cell_type": "markdown",
      "source": [
        "# This is very large. Very few stocks provided such return"
      ],
      "metadata": {
        "id": "XVnoDKNLg-fz"
      }
    },
    {
      "cell_type": "code",
      "source": [
        "## create a column tha calculates the return on the IPO date"
      ],
      "metadata": {
        "id": "uLthbWY5kFg6"
      },
      "execution_count": null,
      "outputs": []
    },
    {
      "cell_type": "code",
      "source": [
        "## create a column tha calculates the return on the IPO week of the ipo"
      ],
      "metadata": {
        "id": "AdDpFUJqkFlH"
      },
      "execution_count": null,
      "outputs": []
    },
    {
      "cell_type": "code",
      "source": [
        "from datetime import datetime\n",
        "nvida_daily.index[0]"
      ],
      "metadata": {
        "colab": {
          "base_uri": "https://localhost:8080/"
        },
        "id": "gAq3hOtGkFpo",
        "outputId": "fd856de2-ee5f-460f-a9f2-2258df44e089"
      },
      "execution_count": 51,
      "outputs": [
        {
          "output_type": "execute_result",
          "data": {
            "text/plain": [
              "Timestamp('1999-01-22 00:00:00')"
            ]
          },
          "metadata": {},
          "execution_count": 51
        }
      ]
    },
    {
      "cell_type": "code",
      "source": [
        "nvida_daily.index[0].weekday()"
      ],
      "metadata": {
        "colab": {
          "base_uri": "https://localhost:8080/"
        },
        "id": "LF3OLMFwksW2",
        "outputId": "44d5e3b9-29ab-442e-d791-5f864bacc113"
      },
      "execution_count": 52,
      "outputs": [
        {
          "output_type": "execute_result",
          "data": {
            "text/plain": [
              "4"
            ]
          },
          "metadata": {},
          "execution_count": 52
        }
      ]
    },
    {
      "cell_type": "markdown",
      "source": [
        "## This is the 4th business day of the week. It is fRiday"
      ],
      "metadata": {
        "id": "Hip4e0_cksb2"
      }
    },
    {
      "cell_type": "code",
      "source": [
        "nvida_daily.index[0].day_name()"
      ],
      "metadata": {
        "colab": {
          "base_uri": "https://localhost:8080/",
          "height": 35
        },
        "id": "bqCMcGXIkshM",
        "outputId": "506cfdb6-4340-4ee4-fbaa-ca1ee0d76bc2"
      },
      "execution_count": 53,
      "outputs": [
        {
          "output_type": "execute_result",
          "data": {
            "text/plain": [
              "'Friday'"
            ],
            "application/vnd.google.colaboratory.intrinsic+json": {
              "type": "string"
            }
          },
          "metadata": {},
          "execution_count": 53
        }
      ]
    },
    {
      "cell_type": "code",
      "source": [
        "nvida_daily.index[4].day_name()"
      ],
      "metadata": {
        "colab": {
          "base_uri": "https://localhost:8080/",
          "height": 35
        },
        "id": "glxyvDJWl-wr",
        "outputId": "aef0468b-6cd2-4484-d0c1-7a17b92f346a"
      },
      "execution_count": 54,
      "outputs": [
        {
          "output_type": "execute_result",
          "data": {
            "text/plain": [
              "'Thursday'"
            ],
            "application/vnd.google.colaboratory.intrinsic+json": {
              "type": "string"
            }
          },
          "metadata": {},
          "execution_count": 54
        }
      ]
    },
    {
      "cell_type": "markdown",
      "source": [
        "## Calculate the return of the first week from from IPO open to next Thursday close"
      ],
      "metadata": {
        "id": "kUxyOc5fmweY"
      }
    },
    {
      "cell_type": "code",
      "source": [
        "round ( nvida_daily['Close'][4] / nvida_daily['Open'][0] -1 , 6)"
      ],
      "metadata": {
        "colab": {
          "base_uri": "https://localhost:8080/"
        },
        "id": "z4uQVLuBnC1A",
        "outputId": "2e75668c-5540-4d48-d3e4-d82be80a17d8"
      },
      "execution_count": 57,
      "outputs": [
        {
          "output_type": "stream",
          "name": "stderr",
          "text": [
            "/tmp/ipython-input-4196291624.py:1: FutureWarning: Series.__getitem__ treating keys as positions is deprecated. In a future version, integer keys will always be treated as labels (consistent with DataFrame behavior). To access a value by position, use `ser.iloc[pos]`\n",
            "  round ( nvida_daily['Close'][4] / nvida_daily['Open'][0] -1 , 6)\n"
          ]
        },
        {
          "output_type": "execute_result",
          "data": {
            "text/plain": [
              "np.float64(-0.050606)"
            ]
          },
          "metadata": {},
          "execution_count": 57
        }
      ]
    },
    {
      "cell_type": "code",
      "source": [],
      "metadata": {
        "id": "oP8vagyUnC48"
      },
      "execution_count": null,
      "outputs": []
    },
    {
      "cell_type": "code",
      "source": [],
      "metadata": {
        "id": "rGh7pA7-nC9Y"
      },
      "execution_count": null,
      "outputs": []
    },
    {
      "cell_type": "code",
      "source": [],
      "metadata": {
        "id": "183-VvX5nDCH"
      },
      "execution_count": null,
      "outputs": []
    }
  ]
}