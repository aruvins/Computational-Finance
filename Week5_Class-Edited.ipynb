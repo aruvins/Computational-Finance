{
 "cells": [
  {
   "cell_type": "code",
   "execution_count": 114,
   "metadata": {
    "iooxa": {
     "id": {
      "block": "1VD3kDurdOYj3UWc1mxO",
      "project": "o8uCbOPb8iJK0GDallsV",
      "version": 1
     },
     "outputId": null
    }
   },
   "outputs": [],
   "source": [
    "# Working with Dates and Time in Python test\n",
    "#1. working with dates and calendars.\n",
    "#2. Combine dates and times.\n",
    "#3.How Pandas can make answering \n",
    "#  even complex questions about dates much easier.\n",
    "#4. Plotting using seaborn library"
   ]
  },
  {
   "cell_type": "code",
   "execution_count": 176,
   "metadata": {
    "iooxa": {
     "id": {
      "block": "WJbdvmUsLA4m6LznCIEW",
      "project": "o8uCbOPb8iJK0GDallsV",
      "version": 1
     },
     "outputId": {
      "block": "bNuGALtk2ylMREbjvfzE",
      "project": "o8uCbOPb8iJK0GDallsV",
      "version": 1
     }
    }
   },
   "outputs": [
    {
     "name": "stdout",
     "output_type": "stream",
     "text": [
      "Requirement already satisfied: pandas in ./.venv/lib/python3.9/site-packages (2.3.2)\n",
      "Requirement already satisfied: pytz>=2020.1 in ./.venv/lib/python3.9/site-packages (from pandas) (2025.2)\n",
      "Requirement already satisfied: tzdata>=2022.7 in ./.venv/lib/python3.9/site-packages (from pandas) (2025.2)\n",
      "Requirement already satisfied: python-dateutil>=2.8.2 in ./.venv/lib/python3.9/site-packages (from pandas) (2.9.0.post0)\n",
      "Requirement already satisfied: numpy>=1.22.4 in ./.venv/lib/python3.9/site-packages (from pandas) (2.0.2)\n",
      "Requirement already satisfied: six>=1.5 in ./.venv/lib/python3.9/site-packages (from python-dateutil>=2.8.2->pandas) (1.17.0)\n",
      "\u001b[33mWARNING: You are using pip version 21.2.4; however, version 25.2 is available.\n",
      "You should consider upgrading via the '/Users/aruvins/Desktop/Fordham/Fall 2025/Computational Finance/.venv/bin/python3 -m pip install --upgrade pip' command.\u001b[0m\n",
      "Requirement already satisfied: matplotlib in ./.venv/lib/python3.9/site-packages (3.9.4)\n",
      "Requirement already satisfied: numpy>=1.23 in ./.venv/lib/python3.9/site-packages (from matplotlib) (2.0.2)\n",
      "Requirement already satisfied: packaging>=20.0 in ./.venv/lib/python3.9/site-packages (from matplotlib) (25.0)\n",
      "Requirement already satisfied: importlib-resources>=3.2.0 in ./.venv/lib/python3.9/site-packages (from matplotlib) (6.5.2)\n",
      "Requirement already satisfied: python-dateutil>=2.7 in ./.venv/lib/python3.9/site-packages (from matplotlib) (2.9.0.post0)\n",
      "Requirement already satisfied: cycler>=0.10 in ./.venv/lib/python3.9/site-packages (from matplotlib) (0.12.1)\n",
      "Requirement already satisfied: fonttools>=4.22.0 in ./.venv/lib/python3.9/site-packages (from matplotlib) (4.59.2)\n",
      "Requirement already satisfied: pillow>=8 in ./.venv/lib/python3.9/site-packages (from matplotlib) (11.3.0)\n",
      "Requirement already satisfied: pyparsing>=2.3.1 in ./.venv/lib/python3.9/site-packages (from matplotlib) (3.2.3)\n",
      "Requirement already satisfied: kiwisolver>=1.3.1 in ./.venv/lib/python3.9/site-packages (from matplotlib) (1.4.7)\n",
      "Requirement already satisfied: contourpy>=1.0.1 in ./.venv/lib/python3.9/site-packages (from matplotlib) (1.3.0)\n",
      "Requirement already satisfied: zipp>=3.1.0 in ./.venv/lib/python3.9/site-packages (from importlib-resources>=3.2.0->matplotlib) (3.23.0)\n",
      "Requirement already satisfied: six>=1.5 in ./.venv/lib/python3.9/site-packages (from python-dateutil>=2.7->matplotlib) (1.17.0)\n",
      "\u001b[33mWARNING: You are using pip version 21.2.4; however, version 25.2 is available.\n",
      "You should consider upgrading via the '/Users/aruvins/Desktop/Fordham/Fall 2025/Computational Finance/.venv/bin/python3 -m pip install --upgrade pip' command.\u001b[0m\n"
     ]
    }
   ],
   "source": [
    "!pip install pandas\n",
    "!pip install matplotlib"
   ]
  },
  {
   "cell_type": "code",
   "execution_count": 116,
   "metadata": {
    "iooxa": {
     "id": {
      "block": "13EnwnY6yZhwcvZBgxdH",
      "project": "o8uCbOPb8iJK0GDallsV",
      "version": 1
     },
     "outputId": null
    }
   },
   "outputs": [],
   "source": [
    "import numpy as np\n",
    "import pandas as pd\n",
    "import matplotlib.pyplot as plt"
   ]
  },
  {
   "cell_type": "markdown",
   "metadata": {
    "iooxa": {
     "id": {
      "block": "1iwFRx4X2WC9bkNqIY3q",
      "project": "o8uCbOPb8iJK0GDallsV",
      "version": 1
     }
    }
   },
   "source": [
    "#### how to define date in python"
   ]
  },
  {
   "cell_type": "code",
   "execution_count": 117,
   "metadata": {
    "iooxa": {
     "id": {
      "block": "Lbu08bqwQxVeeooMOIsF",
      "project": "o8uCbOPb8iJK0GDallsV",
      "version": 1
     },
     "outputId": null
    }
   },
   "outputs": [],
   "source": [
    "#Python has a special date class, called \"date\", which you will use to represent dates.\n",
    "#A date, like a string, or a number, or a numpy array, has special rules for creating it and methods for working with it.\n",
    "#Let us discuss creating dates and extracting some basic information out of them.\n",
    "#will always need pandas"
   ]
  },
  {
   "cell_type": "code",
   "execution_count": 118,
   "metadata": {
    "iooxa": {
     "id": {
      "block": "rCXFGrGB1kLx83NSjiSg",
      "project": "o8uCbOPb8iJK0GDallsV",
      "version": 1
     },
     "outputId": null
    }
   },
   "outputs": [],
   "source": [
    "#Consider the following:\n",
    "Dates = ['2/19/2018', '1/05/2022']"
   ]
  },
  {
   "cell_type": "code",
   "execution_count": 119,
   "metadata": {
    "iooxa": {
     "id": {
      "block": "sG5W2dbzOn7zFTXQq6bT",
      "project": "o8uCbOPb8iJK0GDallsV",
      "version": 1
     },
     "outputId": {
      "block": "BKIc3cnd5ZfDY8DpA9ex",
      "project": "o8uCbOPb8iJK0GDallsV",
      "version": 1
     }
    }
   },
   "outputs": [
    {
     "data": {
      "text/plain": [
       "list"
      ]
     },
     "execution_count": 119,
     "metadata": {},
     "output_type": "execute_result"
    }
   ],
   "source": [
    "type(Dates)"
   ]
  },
  {
   "cell_type": "code",
   "execution_count": 120,
   "metadata": {
    "iooxa": {
     "id": {
      "block": "OPa8ctX7dFhzg0pAVkdq",
      "project": "o8uCbOPb8iJK0GDallsV",
      "version": 1
     },
     "outputId": {
      "block": "OM4hLe732S83REvw2BWJ",
      "project": "o8uCbOPb8iJK0GDallsV",
      "version": 1
     }
    }
   },
   "outputs": [
    {
     "data": {
      "text/plain": [
       "str"
      ]
     },
     "execution_count": 120,
     "metadata": {},
     "output_type": "execute_result"
    }
   ],
   "source": [
    "type(Dates[0])"
   ]
  },
  {
   "cell_type": "markdown",
   "metadata": {
    "iooxa": {
     "id": {
      "block": "eNMOCWRYnaCQPDJhxDez",
      "project": "o8uCbOPb8iJK0GDallsV",
      "version": 1
     }
    }
   },
   "source": [
    "#### Elements in List is not Date it is string. Can we define date as data type, like int, float, string?"
   ]
  },
  {
   "cell_type": "code",
   "execution_count": 121,
   "metadata": {
    "iooxa": {
     "id": {
      "block": "nQb25IWGfUL9Wfsf9nzA",
      "project": "o8uCbOPb8iJK0GDallsV",
      "version": 1
     },
     "outputId": null
    }
   },
   "outputs": [],
   "source": [
    "#1.How would you figure out how many days had elapsed between them?\n",
    "#2. How would you check that they were ordered from earliest to latest?\n",
    "#3. How would you know which day of the week each was?\n",
    "#Doing these things manually would be challenging, but Python makes all of them easy.\n",
    "#We need to import datetime"
   ]
  },
  {
   "cell_type": "code",
   "execution_count": 122,
   "metadata": {
    "iooxa": {
     "id": {
      "block": "eCxvpx9z3IzAjw5wXAF2",
      "project": "o8uCbOPb8iJK0GDallsV",
      "version": 1
     },
     "outputId": null
    }
   },
   "outputs": [],
   "source": [
    "from datetime import date, datetime # importing date and datetime class from python datetime module."
   ]
  },
  {
   "cell_type": "code",
   "execution_count": 123,
   "metadata": {
    "iooxa": {
     "id": {
      "block": "DCa7vGuHt5uVL01CvpGj",
      "project": "o8uCbOPb8iJK0GDallsV",
      "version": 1
     },
     "outputId": {
      "block": "Unwusijh88HrbHlRqsCt",
      "project": "o8uCbOPb8iJK0GDallsV",
      "version": 1
     }
    }
   },
   "outputs": [
    {
     "data": {
      "text/plain": [
       "[datetime.date(2019, 2, 19), datetime.date(2022, 1, 5)]"
      ]
     },
     "execution_count": 123,
     "metadata": {},
     "output_type": "execute_result"
    }
   ],
   "source": [
    "Dates = [date(2019,2,19), date(2022,1,5)]\n",
    "Dates"
   ]
  },
  {
   "cell_type": "markdown",
   "metadata": {
    "iooxa": {
     "id": {
      "block": "PysobsfqB4p99I2bcAsE",
      "project": "o8uCbOPb8iJK0GDallsV",
      "version": 1
     }
    }
   },
   "source": [
    "#### this says that element of list is date from datetime class."
   ]
  },
  {
   "cell_type": "code",
   "execution_count": 124,
   "metadata": {
    "iooxa": {
     "id": {
      "block": "L2o40jy3Ht61ZLxUvBJf",
      "project": "o8uCbOPb8iJK0GDallsV",
      "version": 1
     },
     "outputId": {
      "block": "drSDtJWVRoOBhzo0iPtv",
      "project": "o8uCbOPb8iJK0GDallsV",
      "version": 1
     }
    }
   },
   "outputs": [
    {
     "data": {
      "text/plain": [
       "datetime.date"
      ]
     },
     "execution_count": 124,
     "metadata": {},
     "output_type": "execute_result"
    }
   ],
   "source": [
    "type(Dates[0])"
   ]
  },
  {
   "cell_type": "code",
   "execution_count": 125,
   "metadata": {
    "iooxa": {
     "id": {
      "block": "wuc0iVEoiGHkH8SQ0qy4",
      "project": "o8uCbOPb8iJK0GDallsV",
      "version": 1
     },
     "outputId": null
    }
   },
   "outputs": [],
   "source": [
    "### How to extract date elements(year, day, year)"
   ]
  },
  {
   "cell_type": "code",
   "execution_count": 126,
   "metadata": {
    "iooxa": {
     "id": {
      "block": "wO7doBioPPRUcMMTkLvS",
      "project": "o8uCbOPb8iJK0GDallsV",
      "version": 1
     },
     "outputId": {
      "block": "HmWRjFMnSAYYBpH377Bz",
      "project": "o8uCbOPb8iJK0GDallsV",
      "version": 1
     }
    }
   },
   "outputs": [
    {
     "data": {
      "text/plain": [
       "2019"
      ]
     },
     "execution_count": 126,
     "metadata": {},
     "output_type": "execute_result"
    }
   ],
   "source": [
    "Dates[0].year"
   ]
  },
  {
   "cell_type": "code",
   "execution_count": 127,
   "metadata": {
    "iooxa": {
     "id": {
      "block": "sXFAQEMPUqlTHz2T0V5a",
      "project": "o8uCbOPb8iJK0GDallsV",
      "version": 1
     },
     "outputId": {
      "block": "V18DQcS0HXfQyJ2lYinQ",
      "project": "o8uCbOPb8iJK0GDallsV",
      "version": 1
     }
    }
   },
   "outputs": [
    {
     "data": {
      "text/plain": [
       "2"
      ]
     },
     "execution_count": 127,
     "metadata": {},
     "output_type": "execute_result"
    }
   ],
   "source": [
    "Dates[0].month"
   ]
  },
  {
   "cell_type": "code",
   "execution_count": 128,
   "metadata": {
    "iooxa": {
     "id": {
      "block": "CZvNs0RuTRKW7r5Z9c2Z",
      "project": "o8uCbOPb8iJK0GDallsV",
      "version": 1
     },
     "outputId": {
      "block": "vTLLfrWlycmD7zeaWYGw",
      "project": "o8uCbOPb8iJK0GDallsV",
      "version": 1
     }
    }
   },
   "outputs": [
    {
     "data": {
      "text/plain": [
       "5"
      ]
     },
     "execution_count": 128,
     "metadata": {},
     "output_type": "execute_result"
    }
   ],
   "source": [
    "Dates[1].day # day of second date in Dates\n"
   ]
  },
  {
   "cell_type": "code",
   "execution_count": 129,
   "metadata": {
    "iooxa": {
     "id": {
      "block": "I4bGGgrEbevdXXLueoKC",
      "project": "o8uCbOPb8iJK0GDallsV",
      "version": 1
     },
     "outputId": null
    }
   },
   "outputs": [],
   "source": [
    "## Can we know particular day falls on which day (Monday to sunday)"
   ]
  },
  {
   "cell_type": "code",
   "execution_count": 130,
   "metadata": {
    "iooxa": {
     "id": {
      "block": "k36TPGRDHFUK8I1LnjN7",
      "project": "o8uCbOPb8iJK0GDallsV",
      "version": 1
     },
     "outputId": {
      "block": "2hhxP7KqWaQQ3gMlJMyP",
      "project": "o8uCbOPb8iJK0GDallsV",
      "version": 1
     }
    }
   },
   "outputs": [
    {
     "data": {
      "text/plain": [
       "1"
      ]
     },
     "execution_count": 130,
     "metadata": {},
     "output_type": "execute_result"
    }
   ],
   "source": [
    "Dates[0].weekday()"
   ]
  },
  {
   "cell_type": "code",
   "execution_count": 131,
   "metadata": {
    "iooxa": {
     "id": {
      "block": "7ZWyqSW2kIsqtcjtc2nz",
      "project": "o8uCbOPb8iJK0GDallsV",
      "version": 1
     },
     "outputId": null
    }
   },
   "outputs": [],
   "source": [
    "#Python counts weekdays from 0, starting on Monday. 1 is Tuesday, 2 is Wednesday, and so on, up to 6 being a Sunday. This date was a Friday.\n",
    "#So 2/19/2019 is Tuesday"
   ]
  },
  {
   "cell_type": "code",
   "execution_count": 132,
   "metadata": {
    "iooxa": {
     "id": {
      "block": "af4SMEPiSosGl5Qw7b7X",
      "project": "o8uCbOPb8iJK0GDallsV",
      "version": 1
     },
     "outputId": null
    }
   },
   "outputs": [],
   "source": [
    "#Math with dates"
   ]
  },
  {
   "cell_type": "code",
   "execution_count": 133,
   "metadata": {
    "iooxa": {
     "id": {
      "block": "mfd5UIMVvurzEi5BXddH",
      "project": "o8uCbOPb8iJK0GDallsV",
      "version": 1
     },
     "outputId": {
      "block": "QZHiPQCLaUra7eWHCyt9",
      "project": "o8uCbOPb8iJK0GDallsV",
      "version": 1
     }
    }
   },
   "outputs": [
    {
     "data": {
      "text/plain": [
       "107"
      ]
     },
     "execution_count": 133,
     "metadata": {},
     "output_type": "execute_result"
    }
   ],
   "source": [
    "d1 = date(2022,1,22) # defining date using date class from Datetime\n",
    "d2 = date(2022,5,9)\n",
    "delta = d2-d1\n",
    "delta.days"
   ]
  },
  {
   "cell_type": "code",
   "execution_count": 134,
   "metadata": {
    "iooxa": {
     "id": {
      "block": "I38AghWLq81tY2keqtn0",
      "project": "o8uCbOPb8iJK0GDallsV",
      "version": 1
     },
     "outputId": null
    }
   },
   "outputs": [],
   "source": [
    "# days between two date"
   ]
  },
  {
   "cell_type": "code",
   "execution_count": 135,
   "metadata": {
    "iooxa": {
     "id": {
      "block": "hgNVIfHcKrUxpk2DntkS",
      "project": "o8uCbOPb8iJK0GDallsV",
      "version": 1
     },
     "outputId": null
    }
   },
   "outputs": [],
   "source": [
    "from datetime import timedelta # timedelta"
   ]
  },
  {
   "cell_type": "code",
   "execution_count": 136,
   "metadata": {
    "iooxa": {
     "id": {
      "block": "IwrMbzMpdX5NHtp8bDYl",
      "project": "o8uCbOPb8iJK0GDallsV",
      "version": 1
     },
     "outputId": {
      "block": "shByvc3FUNhceWm3ZFXv",
      "project": "o8uCbOPb8iJK0GDallsV",
      "version": 1
     }
    }
   },
   "outputs": [
    {
     "data": {
      "text/plain": [
       "datetime.date(2022, 2, 15)"
      ]
     },
     "execution_count": 136,
     "metadata": {},
     "output_type": "execute_result"
    }
   ],
   "source": [
    "td = timedelta(days=24)\n",
    "d1+td"
   ]
  },
  {
   "cell_type": "code",
   "execution_count": 137,
   "metadata": {
    "iooxa": {
     "id": {
      "block": "Z4YJdOoQLMaW1Zz7blrr",
      "project": "o8uCbOPb8iJK0GDallsV",
      "version": 1
     },
     "outputId": {
      "block": "FabuVG3IifQjTQwjjD1x",
      "project": "o8uCbOPb8iJK0GDallsV",
      "version": 1
     }
    }
   },
   "outputs": [
    {
     "name": "stdout",
     "output_type": "stream",
     "text": [
      "2022-01-22\n"
     ]
    }
   ],
   "source": [
    "print(d1)"
   ]
  },
  {
   "cell_type": "code",
   "execution_count": 138,
   "metadata": {
    "iooxa": {
     "id": {
      "block": "H1DmzG5h2iJNoS8hmqHV",
      "project": "o8uCbOPb8iJK0GDallsV",
      "version": 1
     },
     "outputId": null
    }
   },
   "outputs": [],
   "source": [
    "#Turning Dates into strings\n",
    "#we need to do that\n",
    "#(i) when we need to print results\n",
    "#(ii) use them no name files\n",
    "#(iii) Write dates into csv files"
   ]
  },
  {
   "cell_type": "code",
   "execution_count": 139,
   "metadata": {
    "iooxa": {
     "id": {
      "block": "kZEBZH2u5vJirWOg1Ywk",
      "project": "o8uCbOPb8iJK0GDallsV",
      "version": 1
     },
     "outputId": null
    }
   },
   "outputs": [],
   "source": [
    "#ISO 8601 format¶\n",
    "#Let us try to print a python date"
   ]
  },
  {
   "cell_type": "code",
   "execution_count": 140,
   "metadata": {
    "iooxa": {
     "id": {
      "block": "Fr1U2OnYB5YS209HEyJo",
      "project": "o8uCbOPb8iJK0GDallsV",
      "version": 1
     },
     "outputId": {
      "block": "8SGvcO9MpYsDfx8KvOMC",
      "project": "o8uCbOPb8iJK0GDallsV",
      "version": 1
     }
    }
   },
   "outputs": [
    {
     "name": "stdout",
     "output_type": "stream",
     "text": [
      "2022-01-06\n"
     ]
    }
   ],
   "source": [
    "d_test = date(2022,1,6)\n",
    "print(d_test)"
   ]
  },
  {
   "cell_type": "code",
   "execution_count": 141,
   "metadata": {
    "iooxa": {
     "id": {
      "block": "XkDzbSimyMHDmLu7k8QG",
      "project": "o8uCbOPb8iJK0GDallsV",
      "version": 1
     },
     "outputId": null
    }
   },
   "outputs": [],
   "source": [
    "#This format YYYY-MM-DD is known as ISO format, or ISO 8601 format, after the international standard ISO 8601 that it is based on.\n",
    "\n",
    "#ISO 8601 strings are always the same length since month and day are written\n",
    "#with 0s when they are less than 10. We'll talk about another advantage\n",
    "#of ISO 8601 in a moment.\n",
    "\n",
    "#If we want the ISO representation of a date as a string, say to write\n",
    "#it to a CSV file instead of just printing it, you can call the \n",
    "# isoformat() method. In this example, we put it inside a list so you\n",
    "#can see that it creates a string.\n",
    "\n",
    "#In this example, we put it inside a list so you can see that it creates a string."
   ]
  },
  {
   "cell_type": "code",
   "execution_count": 142,
   "metadata": {
    "iooxa": {
     "id": {
      "block": "hjthYcsKTCtXp8LKA3ME",
      "project": "o8uCbOPb8iJK0GDallsV",
      "version": 1
     },
     "outputId": {
      "block": "u00YBaoMhXSvq4jVsSpf",
      "project": "o8uCbOPb8iJK0GDallsV",
      "version": 1
     }
    }
   },
   "outputs": [
    {
     "name": "stdout",
     "output_type": "stream",
     "text": [
      "['2022-01-06']\n"
     ]
    }
   ],
   "source": [
    "print([d_test.isoformat()])"
   ]
  },
  {
   "cell_type": "code",
   "execution_count": 143,
   "metadata": {
    "iooxa": {
     "id": {
      "block": "Ub50I9AohwPQOPpJ8sqS",
      "project": "o8uCbOPb8iJK0GDallsV",
      "version": 1
     },
     "outputId": null
    }
   },
   "outputs": [],
   "source": [
    "#Another advantage of this formate is our ability to sort a list of dates:"
   ]
  },
  {
   "cell_type": "code",
   "execution_count": 144,
   "metadata": {
    "iooxa": {
     "id": {
      "block": "ElDoSeO15k4r71NFKo0n",
      "project": "o8uCbOPb8iJK0GDallsV",
      "version": 1
     },
     "outputId": null
    }
   },
   "outputs": [],
   "source": [
    "few_dates=['2022-01-06', '2021-06-07', '2021-12-21']"
   ]
  },
  {
   "cell_type": "code",
   "execution_count": 145,
   "metadata": {
    "iooxa": {
     "id": {
      "block": "JezCOkN2wbQlKSeMno7x",
      "project": "o8uCbOPb8iJK0GDallsV",
      "version": 1
     },
     "outputId": {
      "block": "PH2u32ZWWSyT0DBWQFTW",
      "project": "o8uCbOPb8iJK0GDallsV",
      "version": 1
     }
    }
   },
   "outputs": [
    {
     "data": {
      "text/plain": [
       "['2021-06-07', '2021-12-21', '2022-01-06']"
      ]
     },
     "execution_count": 145,
     "metadata": {},
     "output_type": "execute_result"
    }
   ],
   "source": [
    "few_dates.sort()\n",
    "few_dates"
   ]
  },
  {
   "cell_type": "code",
   "execution_count": 146,
   "metadata": {
    "iooxa": {
     "id": {
      "block": "IcctiNLYlrdFuiixulfR",
      "project": "o8uCbOPb8iJK0GDallsV",
      "version": 1
     },
     "outputId": {
      "block": "nUTO5uSTJ4O56N74wJf4",
      "project": "o8uCbOPb8iJK0GDallsV",
      "version": 1
     }
    }
   },
   "outputs": [
    {
     "data": {
      "text/plain": [
       "['2022-01-06', '2021-12-21', '2021-06-07']"
      ]
     },
     "execution_count": 146,
     "metadata": {},
     "output_type": "execute_result"
    }
   ],
   "source": [
    "few_dates.sort(reverse = True)\n",
    "few_dates"
   ]
  },
  {
   "cell_type": "code",
   "execution_count": 147,
   "metadata": {
    "iooxa": {
     "id": {
      "block": "lr4OObo9E72NZmYqJ4bH",
      "project": "o8uCbOPb8iJK0GDallsV",
      "version": 1
     },
     "outputId": null
    }
   },
   "outputs": [],
   "source": [
    "# Python has a flexible set of options for representing\n",
    "# dates in other ways, using the strftime()\n",
    "#method. Look at this example"
   ]
  },
  {
   "cell_type": "code",
   "execution_count": 148,
   "metadata": {
    "iooxa": {
     "id": {
      "block": "dX6tRMpQZlTjcaoEzBG3",
      "project": "o8uCbOPb8iJK0GDallsV",
      "version": 1
     },
     "outputId": {
      "block": "JM59GFir7PyuzklCE2Hp",
      "project": "o8uCbOPb8iJK0GDallsV",
      "version": 1
     }
    }
   },
   "outputs": [
    {
     "data": {
      "text/plain": [
       "datetime.date(2022, 1, 6)"
      ]
     },
     "execution_count": 148,
     "metadata": {},
     "output_type": "execute_result"
    }
   ],
   "source": [
    "d_test = date(2022,1,6)\n",
    "d_test"
   ]
  },
  {
   "cell_type": "code",
   "execution_count": 149,
   "metadata": {
    "iooxa": {
     "id": {
      "block": "qJqJ9SWAcz75yYOAqoUS",
      "project": "o8uCbOPb8iJK0GDallsV",
      "version": 1
     },
     "outputId": {
      "block": "Cgcn3YFW5PzYeSBw8HQZ",
      "project": "o8uCbOPb8iJK0GDallsV",
      "version": 1
     }
    }
   },
   "outputs": [
    {
     "name": "stdout",
     "output_type": "stream",
     "text": [
      "2022\n"
     ]
    }
   ],
   "source": [
    "print( d_test.strftime('%Y') )"
   ]
  },
  {
   "cell_type": "code",
   "execution_count": 150,
   "metadata": {
    "iooxa": {
     "id": {
      "block": "EcJK2ccnsAXaOn2PRz7B",
      "project": "o8uCbOPb8iJK0GDallsV",
      "version": 1
     },
     "outputId": {
      "block": "7gob3fr5CEKGo7jFRVke",
      "project": "o8uCbOPb8iJK0GDallsV",
      "version": 1
     }
    }
   },
   "outputs": [
    {
     "data": {
      "text/plain": [
       "'2022/01/06'"
      ]
     },
     "execution_count": 150,
     "metadata": {},
     "output_type": "execute_result"
    }
   ],
   "source": [
    "d_test.strftime('%Y/%m/%d')"
   ]
  },
  {
   "cell_type": "code",
   "execution_count": 151,
   "metadata": {
    "iooxa": {
     "id": {
      "block": "9s19EvmuZwSfxiGsbF2U",
      "project": "o8uCbOPb8iJK0GDallsV",
      "version": 1
     },
     "outputId": {
      "block": "uf2631xAvAzaJL6TNJGn",
      "project": "o8uCbOPb8iJK0GDallsV",
      "version": 1
     }
    }
   },
   "outputs": [
    {
     "data": {
      "text/plain": [
       "'22/01/06'"
      ]
     },
     "execution_count": 151,
     "metadata": {},
     "output_type": "execute_result"
    }
   ],
   "source": [
    "d_test.strftime('%y/%m/%d')"
   ]
  },
  {
   "cell_type": "code",
   "execution_count": 152,
   "metadata": {
    "iooxa": {
     "id": {
      "block": "jbYT41zEdRucNVUIA1cO",
      "project": "o8uCbOPb8iJK0GDallsV",
      "version": 1
     },
     "outputId": null
    }
   },
   "outputs": [],
   "source": [
    "#What is the difference?"
   ]
  },
  {
   "cell_type": "code",
   "execution_count": 153,
   "metadata": {
    "iooxa": {
     "id": {
      "block": "92TYyoSxUjC7c4fNrgVI",
      "project": "o8uCbOPb8iJK0GDallsV",
      "version": 1
     },
     "outputId": null
    }
   },
   "outputs": [],
   "source": [
    "#Adding Time"
   ]
  },
  {
   "cell_type": "code",
   "execution_count": 154,
   "metadata": {
    "iooxa": {
     "id": {
      "block": "dBORy4EGkzQQwqsPn5h3",
      "project": "o8uCbOPb8iJK0GDallsV",
      "version": 1
     },
     "outputId": null
    }
   },
   "outputs": [],
   "source": [
    "#We are going to move from only working with dates\n",
    "#to working with both dates and times;"
   ]
  },
  {
   "cell_type": "code",
   "execution_count": 155,
   "metadata": {
    "iooxa": {
     "id": {
      "block": "A1Lz4CRZBT8ot8QJHfE0",
      "project": "o8uCbOPb8iJK0GDallsV",
      "version": 1
     },
     "outputId": null
    }
   },
   "outputs": [],
   "source": [
    "#Here is an example of a date and a time together:\n",
    "#October 21, 2019, at 4:23:25 PM. Let's see how to\n",
    "#represent this in Python. First we need to import this library"
   ]
  },
  {
   "cell_type": "code",
   "execution_count": 156,
   "metadata": {
    "iooxa": {
     "id": {
      "block": "BXZ94s6HdpkwEBPM1mGy",
      "project": "o8uCbOPb8iJK0GDallsV",
      "version": 1
     },
     "outputId": {
      "block": "h6f5irjaIEfddkT8ujNc",
      "project": "o8uCbOPb8iJK0GDallsV",
      "version": 1
     }
    }
   },
   "outputs": [
    {
     "name": "stdout",
     "output_type": "stream",
     "text": [
      "2019-10-21 16:23:25\n"
     ]
    }
   ],
   "source": [
    "from datetime import datetime\n",
    "dt = datetime(2019,10,21,16,23,25) # parameters: Year,Month,Day,Hrs,Minute,Second\n",
    "print(dt)"
   ]
  },
  {
   "cell_type": "code",
   "execution_count": 157,
   "metadata": {
    "iooxa": {
     "id": {
      "block": "XUKox3KnPlPIrk0qHLal",
      "project": "o8uCbOPb8iJK0GDallsV",
      "version": 1
     },
     "outputId": null
    }
   },
   "outputs": [],
   "source": [
    "#You can create fractions of a second. a fraction of a second\n",
    "# is 1/1000000 of a second, which is in microseconds"
   ]
  },
  {
   "cell_type": "code",
   "execution_count": 158,
   "metadata": {
    "iooxa": {
     "id": {
      "block": "W3AHxPv3yT4fhUVvhSgz",
      "project": "o8uCbOPb8iJK0GDallsV",
      "version": 1
     },
     "outputId": {
      "block": "nuiOo8xjmK7JGHILLKeS",
      "project": "o8uCbOPb8iJK0GDallsV",
      "version": 1
     }
    }
   },
   "outputs": [
    {
     "name": "stdout",
     "output_type": "stream",
     "text": [
      "2019-10-21 16:23:25.400000\n"
     ]
    }
   ],
   "source": [
    "dt = datetime(2019,10,21,16,23,25,400000) # # parameters: Year,Month,Day,Hrs,Minute,Second,Microsecond\n",
    "print(dt)"
   ]
  },
  {
   "cell_type": "code",
   "execution_count": 159,
   "metadata": {
    "iooxa": {
     "id": {
      "block": "o1YvdSPrik1rOvEBoFQg",
      "project": "o8uCbOPb8iJK0GDallsV",
      "version": 1
     },
     "outputId": null
    }
   },
   "outputs": [],
   "source": [
    "#We can record datetime up to the hour by the following¶"
   ]
  },
  {
   "cell_type": "code",
   "execution_count": 160,
   "metadata": {
    "iooxa": {
     "id": {
      "block": "Pxv2iISRVcs5YROcXYv9",
      "project": "o8uCbOPb8iJK0GDallsV",
      "version": 1
     },
     "outputId": {
      "block": "1mcYol6d9LrvRYNYkdXk",
      "project": "o8uCbOPb8iJK0GDallsV",
      "version": 1
     }
    }
   },
   "outputs": [
    {
     "data": {
      "application/vnd.microsoft.datawrangler.viewer.v0+json": {
       "columns": [
        {
         "name": "index",
         "rawType": "int64",
         "type": "integer"
        },
        {
         "name": "symbol",
         "rawType": "object",
         "type": "string"
        },
        {
         "name": "date",
         "rawType": "object",
         "type": "string"
        },
        {
         "name": "time",
         "rawType": "object",
         "type": "string"
        },
        {
         "name": "hour",
         "rawType": "int64",
         "type": "integer"
        },
        {
         "name": "minute",
         "rawType": "int64",
         "type": "integer"
        },
        {
         "name": "second",
         "rawType": "int64",
         "type": "integer"
        },
        {
         "name": "share_price",
         "rawType": "float64",
         "type": "float"
        }
       ],
       "ref": "172f4911-8db7-4841-a0a0-330d654437fe",
       "rows": [
        [
         "0",
         "TSLA",
         "2021-01-15",
         "9:30:47",
         "9",
         "30",
         "57",
         "850.85"
        ],
        [
         "1",
         "TSLA",
         "2021-01-15",
         "9:30:46",
         "9",
         "30",
         "3",
         "850.97"
        ],
        [
         "2",
         "TSLA",
         "2021-01-15",
         "9:31:55",
         "9",
         "31",
         "25",
         "854.99"
        ]
       ],
       "shape": {
        "columns": 7,
        "rows": 3
       }
      },
      "text/html": [
       "<div>\n",
       "<style scoped>\n",
       "    .dataframe tbody tr th:only-of-type {\n",
       "        vertical-align: middle;\n",
       "    }\n",
       "\n",
       "    .dataframe tbody tr th {\n",
       "        vertical-align: top;\n",
       "    }\n",
       "\n",
       "    .dataframe thead th {\n",
       "        text-align: right;\n",
       "    }\n",
       "</style>\n",
       "<table border=\"1\" class=\"dataframe\">\n",
       "  <thead>\n",
       "    <tr style=\"text-align: right;\">\n",
       "      <th></th>\n",
       "      <th>symbol</th>\n",
       "      <th>date</th>\n",
       "      <th>time</th>\n",
       "      <th>hour</th>\n",
       "      <th>minute</th>\n",
       "      <th>second</th>\n",
       "      <th>share_price</th>\n",
       "    </tr>\n",
       "  </thead>\n",
       "  <tbody>\n",
       "    <tr>\n",
       "      <th>0</th>\n",
       "      <td>TSLA</td>\n",
       "      <td>2021-01-15</td>\n",
       "      <td>9:30:47</td>\n",
       "      <td>9</td>\n",
       "      <td>30</td>\n",
       "      <td>57</td>\n",
       "      <td>850.85</td>\n",
       "    </tr>\n",
       "    <tr>\n",
       "      <th>1</th>\n",
       "      <td>TSLA</td>\n",
       "      <td>2021-01-15</td>\n",
       "      <td>9:30:46</td>\n",
       "      <td>9</td>\n",
       "      <td>30</td>\n",
       "      <td>3</td>\n",
       "      <td>850.97</td>\n",
       "    </tr>\n",
       "    <tr>\n",
       "      <th>2</th>\n",
       "      <td>TSLA</td>\n",
       "      <td>2021-01-15</td>\n",
       "      <td>9:31:55</td>\n",
       "      <td>9</td>\n",
       "      <td>31</td>\n",
       "      <td>25</td>\n",
       "      <td>854.99</td>\n",
       "    </tr>\n",
       "  </tbody>\n",
       "</table>\n",
       "</div>"
      ],
      "text/plain": [
       "  symbol        date     time  hour  minute  second  share_price\n",
       "0   TSLA  2021-01-15  9:30:47     9      30      57       850.85\n",
       "1   TSLA  2021-01-15  9:30:46     9      30       3       850.97\n",
       "2   TSLA  2021-01-15  9:31:55     9      31      25       854.99"
      ]
     },
     "execution_count": 160,
     "metadata": {},
     "output_type": "execute_result"
    }
   ],
   "source": [
    "import pandas as pd\n",
    "tesla = pd.read_csv('dataFiles/tesla_example_week4.csv')\n",
    "tesla.head(3) # to print first three rows of the dataset"
   ]
  },
  {
   "cell_type": "code",
   "execution_count": 161,
   "metadata": {
    "iooxa": {
     "id": {
      "block": "NCpk9wfdJxomUIYMrHGm",
      "project": "o8uCbOPb8iJK0GDallsV",
      "version": 1
     },
     "outputId": {
      "block": "nY1VrvVWuSXcLK85rxm7",
      "project": "o8uCbOPb8iJK0GDallsV",
      "version": 1
     }
    }
   },
   "outputs": [
    {
     "data": {
      "application/vnd.microsoft.datawrangler.viewer.v0+json": {
       "columns": [
        {
         "name": "index",
         "rawType": "int64",
         "type": "integer"
        },
        {
         "name": "symbol",
         "rawType": "object",
         "type": "string"
        },
        {
         "name": "date",
         "rawType": "object",
         "type": "string"
        },
        {
         "name": "time",
         "rawType": "object",
         "type": "string"
        },
        {
         "name": "hour",
         "rawType": "int64",
         "type": "integer"
        },
        {
         "name": "minute",
         "rawType": "int64",
         "type": "integer"
        },
        {
         "name": "second",
         "rawType": "int64",
         "type": "integer"
        },
        {
         "name": "share_price",
         "rawType": "float64",
         "type": "float"
        }
       ],
       "ref": "9dc9d5c0-e397-4200-96eb-4fc7d419c019",
       "rows": [
        [
         "251",
         "TSLA",
         "2021-01-15",
         "10:57:24",
         "10",
         "57",
         "58",
         "823.205"
        ],
        [
         "252",
         "TSLA",
         "2021-01-15",
         "10:57:44",
         "10",
         "57",
         "49",
         "823.18"
        ],
        [
         "253",
         "TSLA",
         "2021-01-15",
         "10:58:39",
         "10",
         "58",
         "30",
         "841.239"
        ],
        [
         "254",
         "TSLA",
         "2021-01-15",
         "10:59:29",
         "10",
         "59",
         "19",
         "841.5"
        ],
        [
         "255",
         "TSLA",
         "2021-01-15",
         "10:59:6",
         "10",
         "59",
         "0",
         "841.8"
        ]
       ],
       "shape": {
        "columns": 7,
        "rows": 5
       }
      },
      "text/html": [
       "<div>\n",
       "<style scoped>\n",
       "    .dataframe tbody tr th:only-of-type {\n",
       "        vertical-align: middle;\n",
       "    }\n",
       "\n",
       "    .dataframe tbody tr th {\n",
       "        vertical-align: top;\n",
       "    }\n",
       "\n",
       "    .dataframe thead th {\n",
       "        text-align: right;\n",
       "    }\n",
       "</style>\n",
       "<table border=\"1\" class=\"dataframe\">\n",
       "  <thead>\n",
       "    <tr style=\"text-align: right;\">\n",
       "      <th></th>\n",
       "      <th>symbol</th>\n",
       "      <th>date</th>\n",
       "      <th>time</th>\n",
       "      <th>hour</th>\n",
       "      <th>minute</th>\n",
       "      <th>second</th>\n",
       "      <th>share_price</th>\n",
       "    </tr>\n",
       "  </thead>\n",
       "  <tbody>\n",
       "    <tr>\n",
       "      <th>251</th>\n",
       "      <td>TSLA</td>\n",
       "      <td>2021-01-15</td>\n",
       "      <td>10:57:24</td>\n",
       "      <td>10</td>\n",
       "      <td>57</td>\n",
       "      <td>58</td>\n",
       "      <td>823.205</td>\n",
       "    </tr>\n",
       "    <tr>\n",
       "      <th>252</th>\n",
       "      <td>TSLA</td>\n",
       "      <td>2021-01-15</td>\n",
       "      <td>10:57:44</td>\n",
       "      <td>10</td>\n",
       "      <td>57</td>\n",
       "      <td>49</td>\n",
       "      <td>823.180</td>\n",
       "    </tr>\n",
       "    <tr>\n",
       "      <th>253</th>\n",
       "      <td>TSLA</td>\n",
       "      <td>2021-01-15</td>\n",
       "      <td>10:58:39</td>\n",
       "      <td>10</td>\n",
       "      <td>58</td>\n",
       "      <td>30</td>\n",
       "      <td>841.239</td>\n",
       "    </tr>\n",
       "    <tr>\n",
       "      <th>254</th>\n",
       "      <td>TSLA</td>\n",
       "      <td>2021-01-15</td>\n",
       "      <td>10:59:29</td>\n",
       "      <td>10</td>\n",
       "      <td>59</td>\n",
       "      <td>19</td>\n",
       "      <td>841.500</td>\n",
       "    </tr>\n",
       "    <tr>\n",
       "      <th>255</th>\n",
       "      <td>TSLA</td>\n",
       "      <td>2021-01-15</td>\n",
       "      <td>10:59:6</td>\n",
       "      <td>10</td>\n",
       "      <td>59</td>\n",
       "      <td>0</td>\n",
       "      <td>841.800</td>\n",
       "    </tr>\n",
       "  </tbody>\n",
       "</table>\n",
       "</div>"
      ],
      "text/plain": [
       "    symbol        date      time  hour  minute  second  share_price\n",
       "251   TSLA  2021-01-15  10:57:24    10      57      58      823.205\n",
       "252   TSLA  2021-01-15  10:57:44    10      57      49      823.180\n",
       "253   TSLA  2021-01-15  10:58:39    10      58      30      841.239\n",
       "254   TSLA  2021-01-15  10:59:29    10      59      19      841.500\n",
       "255   TSLA  2021-01-15   10:59:6    10      59       0      841.800"
      ]
     },
     "execution_count": 161,
     "metadata": {},
     "output_type": "execute_result"
    }
   ],
   "source": [
    "tesla.tail() # to print last few rows of the dataset"
   ]
  },
  {
   "cell_type": "code",
   "execution_count": 162,
   "metadata": {
    "iooxa": {
     "id": {
      "block": "GV1y1BNDe5tXeoLgskGz",
      "project": "o8uCbOPb8iJK0GDallsV",
      "version": 1
     },
     "outputId": {
      "block": "3m89p3zAGtoMyVDifGx4",
      "project": "o8uCbOPb8iJK0GDallsV",
      "version": 1
     }
    },
    "scrolled": true
   },
   "outputs": [
    {
     "name": "stdout",
     "output_type": "stream",
     "text": [
      "<class 'pandas.core.frame.DataFrame'>\n",
      "RangeIndex: 256 entries, 0 to 255\n",
      "Data columns (total 7 columns):\n",
      " #   Column       Non-Null Count  Dtype  \n",
      "---  ------       --------------  -----  \n",
      " 0   symbol       256 non-null    object \n",
      " 1   date         256 non-null    object \n",
      " 2   time         256 non-null    object \n",
      " 3   hour         256 non-null    int64  \n",
      " 4   minute       256 non-null    int64  \n",
      " 5   second       256 non-null    int64  \n",
      " 6   share_price  256 non-null    float64\n",
      "dtypes: float64(1), int64(3), object(3)\n",
      "memory usage: 14.1+ KB\n"
     ]
    }
   ],
   "source": [
    "tesla.info() # info() method to print the dataset info"
   ]
  },
  {
   "cell_type": "code",
   "execution_count": 163,
   "metadata": {
    "iooxa": {
     "id": {
      "block": "DB5yGCSakNKLoSfNmaTo",
      "project": "o8uCbOPb8iJK0GDallsV",
      "version": 1
     },
     "outputId": null
    }
   },
   "outputs": [],
   "source": [
    "# Note that both date and time are objects\n",
    "\n",
    "# we can use pandas to create new variables in ( or transform\n",
    "# existing variables into) datetime format\n"
   ]
  },
  {
   "cell_type": "markdown",
   "metadata": {
    "iooxa": {
     "id": {
      "block": "rMicJtqrRUaSa1S1ejCZ",
      "project": "o8uCbOPb8iJK0GDallsV",
      "version": 1
     }
    }
   },
   "source": [
    "The to_datetime() function in Pandas is a powerful utility for converting various types of date and time representations into a standardized datetime object. \n",
    "#The to_timedelta() function in Pandas is used to convert a variety of input types into a Timedelta object, which represents a duration or difference in time. "
   ]
  },
  {
   "cell_type": "code",
   "execution_count": 164,
   "metadata": {
    "iooxa": {
     "id": {
      "block": "oUNf0e5KqPCSgpLuvdqJ",
      "project": "o8uCbOPb8iJK0GDallsV",
      "version": 1
     },
     "outputId": {
      "block": "9iLBatQyzh4rJacA4vCa",
      "project": "o8uCbOPb8iJK0GDallsV",
      "version": 1
     }
    }
   },
   "outputs": [
    {
     "data": {
      "application/vnd.microsoft.datawrangler.viewer.v0+json": {
       "columns": [
        {
         "name": "index",
         "rawType": "int64",
         "type": "integer"
        },
        {
         "name": "symbol",
         "rawType": "object",
         "type": "string"
        },
        {
         "name": "date",
         "rawType": "object",
         "type": "string"
        },
        {
         "name": "time",
         "rawType": "object",
         "type": "string"
        },
        {
         "name": "hour",
         "rawType": "int64",
         "type": "integer"
        },
        {
         "name": "minute",
         "rawType": "int64",
         "type": "integer"
        },
        {
         "name": "second",
         "rawType": "int64",
         "type": "integer"
        },
        {
         "name": "share_price",
         "rawType": "float64",
         "type": "float"
        },
        {
         "name": "Date",
         "rawType": "datetime64[ns]",
         "type": "datetime"
        },
        {
         "name": "Time",
         "rawType": "timedelta64[ns]",
         "type": "unknown"
        },
        {
         "name": "order_time",
         "rawType": "datetime64[ns]",
         "type": "datetime"
        }
       ],
       "ref": "e0a85f10-b80f-4f03-8b42-c6b3bedf3b52",
       "rows": [
        [
         "0",
         "TSLA",
         "2021-01-15",
         "9:30:47",
         "9",
         "30",
         "57",
         "850.85",
         "2021-01-15 00:00:00",
         "0 days 09:30:47",
         "2021-01-15 09:30:47"
        ],
        [
         "1",
         "TSLA",
         "2021-01-15",
         "9:30:46",
         "9",
         "30",
         "3",
         "850.97",
         "2021-01-15 00:00:00",
         "0 days 09:30:46",
         "2021-01-15 09:30:46"
        ],
        [
         "2",
         "TSLA",
         "2021-01-15",
         "9:31:55",
         "9",
         "31",
         "25",
         "854.99",
         "2021-01-15 00:00:00",
         "0 days 09:31:55",
         "2021-01-15 09:31:55"
        ],
        [
         "3",
         "TSLA",
         "2021-01-15",
         "9:31:50",
         "9",
         "31",
         "47",
         "853.58",
         "2021-01-15 00:00:00",
         "0 days 09:31:50",
         "2021-01-15 09:31:50"
        ],
        [
         "4",
         "TSLA",
         "2021-01-15",
         "9:31:49",
         "9",
         "31",
         "58",
         "823.18",
         "2021-01-15 00:00:00",
         "0 days 09:31:49",
         "2021-01-15 09:31:49"
        ]
       ],
       "shape": {
        "columns": 10,
        "rows": 5
       }
      },
      "text/html": [
       "<div>\n",
       "<style scoped>\n",
       "    .dataframe tbody tr th:only-of-type {\n",
       "        vertical-align: middle;\n",
       "    }\n",
       "\n",
       "    .dataframe tbody tr th {\n",
       "        vertical-align: top;\n",
       "    }\n",
       "\n",
       "    .dataframe thead th {\n",
       "        text-align: right;\n",
       "    }\n",
       "</style>\n",
       "<table border=\"1\" class=\"dataframe\">\n",
       "  <thead>\n",
       "    <tr style=\"text-align: right;\">\n",
       "      <th></th>\n",
       "      <th>symbol</th>\n",
       "      <th>date</th>\n",
       "      <th>time</th>\n",
       "      <th>hour</th>\n",
       "      <th>minute</th>\n",
       "      <th>second</th>\n",
       "      <th>share_price</th>\n",
       "      <th>Date</th>\n",
       "      <th>Time</th>\n",
       "      <th>order_time</th>\n",
       "    </tr>\n",
       "  </thead>\n",
       "  <tbody>\n",
       "    <tr>\n",
       "      <th>0</th>\n",
       "      <td>TSLA</td>\n",
       "      <td>2021-01-15</td>\n",
       "      <td>9:30:47</td>\n",
       "      <td>9</td>\n",
       "      <td>30</td>\n",
       "      <td>57</td>\n",
       "      <td>850.85</td>\n",
       "      <td>2021-01-15</td>\n",
       "      <td>0 days 09:30:47</td>\n",
       "      <td>2021-01-15 09:30:47</td>\n",
       "    </tr>\n",
       "    <tr>\n",
       "      <th>1</th>\n",
       "      <td>TSLA</td>\n",
       "      <td>2021-01-15</td>\n",
       "      <td>9:30:46</td>\n",
       "      <td>9</td>\n",
       "      <td>30</td>\n",
       "      <td>3</td>\n",
       "      <td>850.97</td>\n",
       "      <td>2021-01-15</td>\n",
       "      <td>0 days 09:30:46</td>\n",
       "      <td>2021-01-15 09:30:46</td>\n",
       "    </tr>\n",
       "    <tr>\n",
       "      <th>2</th>\n",
       "      <td>TSLA</td>\n",
       "      <td>2021-01-15</td>\n",
       "      <td>9:31:55</td>\n",
       "      <td>9</td>\n",
       "      <td>31</td>\n",
       "      <td>25</td>\n",
       "      <td>854.99</td>\n",
       "      <td>2021-01-15</td>\n",
       "      <td>0 days 09:31:55</td>\n",
       "      <td>2021-01-15 09:31:55</td>\n",
       "    </tr>\n",
       "    <tr>\n",
       "      <th>3</th>\n",
       "      <td>TSLA</td>\n",
       "      <td>2021-01-15</td>\n",
       "      <td>9:31:50</td>\n",
       "      <td>9</td>\n",
       "      <td>31</td>\n",
       "      <td>47</td>\n",
       "      <td>853.58</td>\n",
       "      <td>2021-01-15</td>\n",
       "      <td>0 days 09:31:50</td>\n",
       "      <td>2021-01-15 09:31:50</td>\n",
       "    </tr>\n",
       "    <tr>\n",
       "      <th>4</th>\n",
       "      <td>TSLA</td>\n",
       "      <td>2021-01-15</td>\n",
       "      <td>9:31:49</td>\n",
       "      <td>9</td>\n",
       "      <td>31</td>\n",
       "      <td>58</td>\n",
       "      <td>823.18</td>\n",
       "      <td>2021-01-15</td>\n",
       "      <td>0 days 09:31:49</td>\n",
       "      <td>2021-01-15 09:31:49</td>\n",
       "    </tr>\n",
       "  </tbody>\n",
       "</table>\n",
       "</div>"
      ],
      "text/plain": [
       "  symbol        date     time  hour  minute  second  share_price       Date  \\\n",
       "0   TSLA  2021-01-15  9:30:47     9      30      57       850.85 2021-01-15   \n",
       "1   TSLA  2021-01-15  9:30:46     9      30       3       850.97 2021-01-15   \n",
       "2   TSLA  2021-01-15  9:31:55     9      31      25       854.99 2021-01-15   \n",
       "3   TSLA  2021-01-15  9:31:50     9      31      47       853.58 2021-01-15   \n",
       "4   TSLA  2021-01-15  9:31:49     9      31      58       823.18 2021-01-15   \n",
       "\n",
       "             Time          order_time  \n",
       "0 0 days 09:30:47 2021-01-15 09:30:47  \n",
       "1 0 days 09:30:46 2021-01-15 09:30:46  \n",
       "2 0 days 09:31:55 2021-01-15 09:31:55  \n",
       "3 0 days 09:31:50 2021-01-15 09:31:50  \n",
       "4 0 days 09:31:49 2021-01-15 09:31:49  "
      ]
     },
     "execution_count": 164,
     "metadata": {},
     "output_type": "execute_result"
    }
   ],
   "source": [
    "tesla['Date']=pd.to_datetime(tesla.date) # Creates new column 'Date' in the tesla dataframe\n",
    "tesla['Time'] = pd.to_timedelta(tesla.time, unit='s', errors='coerce') # unit: seconds(default),\n",
    "#errors(optional): 'coerce': Converts invalid parsing to NaT (Not a Time).\n",
    "tesla['order_time'] = tesla['Date'] + tesla['Time']\n",
    "tesla.head()"
   ]
  },
  {
   "cell_type": "code",
   "execution_count": 165,
   "metadata": {
    "iooxa": {
     "id": {
      "block": "HuqwcJy5DQjLB8KCSAZS",
      "project": "o8uCbOPb8iJK0GDallsV",
      "version": 1
     },
     "outputId": null
    }
   },
   "outputs": [],
   "source": [
    "#If we have a datetime variable we can get part of the datetime variable like this"
   ]
  },
  {
   "cell_type": "code",
   "execution_count": 166,
   "metadata": {
    "iooxa": {
     "id": {
      "block": "J85aFegjXLWaNipfW7wt",
      "project": "o8uCbOPb8iJK0GDallsV",
      "version": 1
     },
     "outputId": {
      "block": "bTufWPrZmrqLiCuuLCOK",
      "project": "o8uCbOPb8iJK0GDallsV",
      "version": 1
     }
    }
   },
   "outputs": [
    {
     "data": {
      "application/vnd.microsoft.datawrangler.viewer.v0+json": {
       "columns": [
        {
         "name": "index",
         "rawType": "int64",
         "type": "integer"
        },
        {
         "name": "order_time",
         "rawType": "int32",
         "type": "integer"
        }
       ],
       "ref": "fb2c666d-8f43-469b-be2c-2b28f8916eaa",
       "rows": [
        [
         "0",
         "2021"
        ],
        [
         "1",
         "2021"
        ],
        [
         "2",
         "2021"
        ]
       ],
       "shape": {
        "columns": 1,
        "rows": 3
       }
      },
      "text/plain": [
       "0    2021\n",
       "1    2021\n",
       "2    2021\n",
       "Name: order_time, dtype: int32"
      ]
     },
     "execution_count": 166,
     "metadata": {},
     "output_type": "execute_result"
    }
   ],
   "source": [
    "tesla['order_time'].dt.year.head(3)"
   ]
  },
  {
   "cell_type": "code",
   "execution_count": 167,
   "metadata": {
    "iooxa": {
     "id": {
      "block": "5jYJVWunUN6phyzQOwji",
      "project": "o8uCbOPb8iJK0GDallsV",
      "version": 1
     },
     "outputId": {
      "block": "nNVgJUVyxOOGiTp0KrXC",
      "project": "o8uCbOPb8iJK0GDallsV",
      "version": 1
     }
    }
   },
   "outputs": [
    {
     "data": {
      "application/vnd.microsoft.datawrangler.viewer.v0+json": {
       "columns": [
        {
         "name": "index",
         "rawType": "int64",
         "type": "integer"
        },
        {
         "name": "order_time",
         "rawType": "int32",
         "type": "integer"
        }
       ],
       "ref": "1706b350-2e33-45e3-9cdd-9b8b8592e62d",
       "rows": [
        [
         "0",
         "30"
        ],
        [
         "1",
         "30"
        ],
        [
         "2",
         "31"
        ]
       ],
       "shape": {
        "columns": 1,
        "rows": 3
       }
      },
      "text/plain": [
       "0    30\n",
       "1    30\n",
       "2    31\n",
       "Name: order_time, dtype: int32"
      ]
     },
     "execution_count": 167,
     "metadata": {},
     "output_type": "execute_result"
    }
   ],
   "source": [
    "tesla['order_time'].dt.minute.head(3)"
   ]
  },
  {
   "cell_type": "code",
   "execution_count": 168,
   "metadata": {
    "iooxa": {
     "id": {
      "block": "ZjRdscLcnaFb0C3aUGzf",
      "project": "o8uCbOPb8iJK0GDallsV",
      "version": 1
     },
     "outputId": {
      "block": "jgi3FztFdiwikVePuuUx",
      "project": "o8uCbOPb8iJK0GDallsV",
      "version": 1
     }
    }
   },
   "outputs": [
    {
     "data": {
      "application/vnd.microsoft.datawrangler.viewer.v0+json": {
       "columns": [
        {
         "name": "index",
         "rawType": "int64",
         "type": "integer"
        },
        {
         "name": "order_time",
         "rawType": "int32",
         "type": "integer"
        }
       ],
       "ref": "d82870e8-0ae7-49b3-a772-809f4eab2e62",
       "rows": [
        [
         "0",
         "47"
        ],
        [
         "1",
         "46"
        ],
        [
         "2",
         "55"
        ]
       ],
       "shape": {
        "columns": 1,
        "rows": 3
       }
      },
      "text/plain": [
       "0    47\n",
       "1    46\n",
       "2    55\n",
       "Name: order_time, dtype: int32"
      ]
     },
     "execution_count": 168,
     "metadata": {},
     "output_type": "execute_result"
    }
   ],
   "source": [
    "tesla['order_time'].dt.second.head(3)"
   ]
  },
  {
   "cell_type": "code",
   "execution_count": 169,
   "metadata": {
    "iooxa": {
     "id": {
      "block": "epCZfdrFjq63fyqdM8sd",
      "project": "o8uCbOPb8iJK0GDallsV",
      "version": 1
     },
     "outputId": null
    }
   },
   "outputs": [],
   "source": [
    "#seaborn library"
   ]
  },
  {
   "cell_type": "code",
   "execution_count": 170,
   "metadata": {
    "iooxa": {
     "id": {
      "block": "pFB4DRtHCvSgcj6RXxNP",
      "project": "o8uCbOPb8iJK0GDallsV",
      "version": 1
     },
     "outputId": {
      "block": "nK3xmvfs9HLVsL8WUHZa",
      "project": "o8uCbOPb8iJK0GDallsV",
      "version": 1
     }
    }
   },
   "outputs": [
    {
     "name": "stdout",
     "output_type": "stream",
     "text": [
      "Requirement already satisfied: seaborn in ./.venv/lib/python3.9/site-packages (0.13.2)\n",
      "Requirement already satisfied: numpy!=1.24.0,>=1.20 in ./.venv/lib/python3.9/site-packages (from seaborn) (2.0.2)\n",
      "Requirement already satisfied: matplotlib!=3.6.1,>=3.4 in ./.venv/lib/python3.9/site-packages (from seaborn) (3.9.4)\n",
      "Requirement already satisfied: pandas>=1.2 in ./.venv/lib/python3.9/site-packages (from seaborn) (2.3.2)\n",
      "Requirement already satisfied: pillow>=8 in ./.venv/lib/python3.9/site-packages (from matplotlib!=3.6.1,>=3.4->seaborn) (11.3.0)\n",
      "Requirement already satisfied: kiwisolver>=1.3.1 in ./.venv/lib/python3.9/site-packages (from matplotlib!=3.6.1,>=3.4->seaborn) (1.4.7)\n",
      "Requirement already satisfied: contourpy>=1.0.1 in ./.venv/lib/python3.9/site-packages (from matplotlib!=3.6.1,>=3.4->seaborn) (1.3.0)\n",
      "Requirement already satisfied: pyparsing>=2.3.1 in ./.venv/lib/python3.9/site-packages (from matplotlib!=3.6.1,>=3.4->seaborn) (3.2.3)\n",
      "Requirement already satisfied: importlib-resources>=3.2.0 in ./.venv/lib/python3.9/site-packages (from matplotlib!=3.6.1,>=3.4->seaborn) (6.5.2)\n",
      "Requirement already satisfied: cycler>=0.10 in ./.venv/lib/python3.9/site-packages (from matplotlib!=3.6.1,>=3.4->seaborn) (0.12.1)\n",
      "Requirement already satisfied: python-dateutil>=2.7 in ./.venv/lib/python3.9/site-packages (from matplotlib!=3.6.1,>=3.4->seaborn) (2.9.0.post0)\n",
      "Requirement already satisfied: fonttools>=4.22.0 in ./.venv/lib/python3.9/site-packages (from matplotlib!=3.6.1,>=3.4->seaborn) (4.59.2)\n",
      "Requirement already satisfied: packaging>=20.0 in ./.venv/lib/python3.9/site-packages (from matplotlib!=3.6.1,>=3.4->seaborn) (25.0)\n",
      "Requirement already satisfied: zipp>=3.1.0 in ./.venv/lib/python3.9/site-packages (from importlib-resources>=3.2.0->matplotlib!=3.6.1,>=3.4->seaborn) (3.23.0)\n",
      "Requirement already satisfied: pytz>=2020.1 in ./.venv/lib/python3.9/site-packages (from pandas>=1.2->seaborn) (2025.2)\n",
      "Requirement already satisfied: tzdata>=2022.7 in ./.venv/lib/python3.9/site-packages (from pandas>=1.2->seaborn) (2025.2)\n",
      "Requirement already satisfied: six>=1.5 in ./.venv/lib/python3.9/site-packages (from python-dateutil>=2.7->matplotlib!=3.6.1,>=3.4->seaborn) (1.17.0)\n",
      "\u001b[33mWARNING: You are using pip version 21.2.4; however, version 25.2 is available.\n",
      "You should consider upgrading via the '/Users/aruvins/Desktop/Fordham/Fall 2025/Computational Finance/.venv/bin/python3 -m pip install --upgrade pip' command.\u001b[0m\n"
     ]
    }
   ],
   "source": [
    "!pip3 install seaborn"
   ]
  },
  {
   "cell_type": "code",
   "execution_count": 171,
   "metadata": {
    "iooxa": {
     "id": {
      "block": "RFAuPwkbbB9Y1W3o4nRd",
      "project": "o8uCbOPb8iJK0GDallsV",
      "version": 1
     },
     "outputId": null
    }
   },
   "outputs": [],
   "source": [
    "import matplotlib.pyplot as plt\n",
    "import numpy as np \n",
    "%matplotlib inline\n",
    "import seaborn as sns"
   ]
  },
  {
   "cell_type": "code",
   "execution_count": 172,
   "metadata": {
    "iooxa": {
     "id": {
      "block": "MpwcToPzXGuv444wZ2id",
      "project": "o8uCbOPb8iJK0GDallsV",
      "version": 1
     },
     "outputId": {
      "block": "sR3QomNsK6wye95Xyxiv",
      "project": "o8uCbOPb8iJK0GDallsV",
      "version": 1
     }
    }
   },
   "outputs": [
    {
     "data": {
      "application/vnd.microsoft.datawrangler.viewer.v0+json": {
       "columns": [
        {
         "name": "index",
         "rawType": "int64",
         "type": "integer"
        },
        {
         "name": "Unnamed: 0",
         "rawType": "int64",
         "type": "integer"
        },
        {
         "name": "date",
         "rawType": "int64",
         "type": "integer"
        },
        {
         "name": "symbol",
         "rawType": "object",
         "type": "string"
        },
        {
         "name": "price",
         "rawType": "float64",
         "type": "float"
        },
        {
         "name": "return",
         "rawType": "float64",
         "type": "float"
        },
        {
         "name": "volume",
         "rawType": "float64",
         "type": "float"
        },
        {
         "name": "shares_out",
         "rawType": "float64",
         "type": "float"
        },
        {
         "name": "mkt_cap",
         "rawType": "float64",
         "type": "float"
        }
       ],
       "ref": "92453b01-432f-4265-9cfd-accf80c0f9db",
       "rows": [
        [
         "0",
         "482",
         "20120131",
         "AMGN",
         "67.93",
         "0.057935",
         "1435603.0",
         "795600.0",
         "54045108.00000001"
        ],
        [
         "1",
         "483",
         "20120229",
         "AMGN",
         "68.01",
         "0.0064769999999999",
         "1192389.0",
         "791432.0",
         "53825290.32000001"
        ],
        [
         "2",
         "484",
         "20120330",
         "AMGN",
         "67.97",
         "-0.000588",
         "943340.0",
         "781100.0",
         "53091367.0"
        ]
       ],
       "shape": {
        "columns": 8,
        "rows": 3
       }
      },
      "text/html": [
       "<div>\n",
       "<style scoped>\n",
       "    .dataframe tbody tr th:only-of-type {\n",
       "        vertical-align: middle;\n",
       "    }\n",
       "\n",
       "    .dataframe tbody tr th {\n",
       "        vertical-align: top;\n",
       "    }\n",
       "\n",
       "    .dataframe thead th {\n",
       "        text-align: right;\n",
       "    }\n",
       "</style>\n",
       "<table border=\"1\" class=\"dataframe\">\n",
       "  <thead>\n",
       "    <tr style=\"text-align: right;\">\n",
       "      <th></th>\n",
       "      <th>Unnamed: 0</th>\n",
       "      <th>date</th>\n",
       "      <th>symbol</th>\n",
       "      <th>price</th>\n",
       "      <th>return</th>\n",
       "      <th>volume</th>\n",
       "      <th>shares_out</th>\n",
       "      <th>mkt_cap</th>\n",
       "    </tr>\n",
       "  </thead>\n",
       "  <tbody>\n",
       "    <tr>\n",
       "      <th>0</th>\n",
       "      <td>482</td>\n",
       "      <td>20120131</td>\n",
       "      <td>AMGN</td>\n",
       "      <td>67.93</td>\n",
       "      <td>0.057935</td>\n",
       "      <td>1435603.0</td>\n",
       "      <td>795600.0</td>\n",
       "      <td>54045108.00</td>\n",
       "    </tr>\n",
       "    <tr>\n",
       "      <th>1</th>\n",
       "      <td>483</td>\n",
       "      <td>20120229</td>\n",
       "      <td>AMGN</td>\n",
       "      <td>68.01</td>\n",
       "      <td>0.006477</td>\n",
       "      <td>1192389.0</td>\n",
       "      <td>791432.0</td>\n",
       "      <td>53825290.32</td>\n",
       "    </tr>\n",
       "    <tr>\n",
       "      <th>2</th>\n",
       "      <td>484</td>\n",
       "      <td>20120330</td>\n",
       "      <td>AMGN</td>\n",
       "      <td>67.97</td>\n",
       "      <td>-0.000588</td>\n",
       "      <td>943340.0</td>\n",
       "      <td>781100.0</td>\n",
       "      <td>53091367.00</td>\n",
       "    </tr>\n",
       "  </tbody>\n",
       "</table>\n",
       "</div>"
      ],
      "text/plain": [
       "   Unnamed: 0      date symbol  price    return     volume  shares_out  \\\n",
       "0         482  20120131   AMGN  67.93  0.057935  1435603.0    795600.0   \n",
       "1         483  20120229   AMGN  68.01  0.006477  1192389.0    791432.0   \n",
       "2         484  20120330   AMGN  67.97 -0.000588   943340.0    781100.0   \n",
       "\n",
       "       mkt_cap  \n",
       "0  54045108.00  \n",
       "1  53825290.32  \n",
       "2  53091367.00  "
      ]
     },
     "execution_count": 172,
     "metadata": {},
     "output_type": "execute_result"
    }
   ],
   "source": [
    "dow9= pd.read_csv('dataFiles/week-4-dow9_stcocks.csv')\n",
    "dow9['mkt_cap']=dow9['price']*dow9['shares_out']\n",
    "dow9.head(3)"
   ]
  },
  {
   "cell_type": "code",
   "execution_count": 173,
   "metadata": {
    "iooxa": {
     "id": {
      "block": "HAfEEt7aBL9436qLZQxq",
      "project": "o8uCbOPb8iJK0GDallsV",
      "version": 1
     },
     "outputId": {
      "block": "SXDWgECmxbpYvd2UllXy",
      "project": "o8uCbOPb8iJK0GDallsV",
      "version": 1
     }
    }
   },
   "outputs": [
    {
     "data": {
      "application/vnd.microsoft.datawrangler.viewer.v0+json": {
       "columns": [
        {
         "name": "symbol",
         "rawType": "object",
         "type": "string"
        },
        {
         "name": "count",
         "rawType": "int64",
         "type": "integer"
        }
       ],
       "ref": "8fd9d26e-8cab-4379-89b6-d5d81452d95a",
       "rows": [
        [
         "AAPL",
         "121"
        ],
        [
         "AMGN",
         "120"
        ],
        [
         "CVX",
         "120"
        ],
        [
         "CAT",
         "120"
        ],
        [
         "BA",
         "120"
        ],
        [
         "AXP",
         "120"
        ],
        [
         "HD",
         "120"
        ],
        [
         "GS",
         "120"
        ],
        [
         "CRM",
         "120"
        ]
       ],
       "shape": {
        "columns": 1,
        "rows": 9
       }
      },
      "text/plain": [
       "symbol\n",
       "AAPL    121\n",
       "AMGN    120\n",
       "CVX     120\n",
       "CAT     120\n",
       "BA      120\n",
       "AXP     120\n",
       "HD      120\n",
       "GS      120\n",
       "CRM     120\n",
       "Name: count, dtype: int64"
      ]
     },
     "execution_count": 173,
     "metadata": {},
     "output_type": "execute_result"
    }
   ],
   "source": [
    "dow9.symbol.value_counts() # it counts the frequency of each symbol in symbol column"
   ]
  },
  {
   "cell_type": "code",
   "execution_count": 174,
   "metadata": {
    "iooxa": {
     "id": {
      "block": "fSo4bsfuF86uF77psDv9",
      "project": "o8uCbOPb8iJK0GDallsV",
      "version": 1
     },
     "outputId": {
      "block": "M8fzAlSnmlF7x3Vp15k0",
      "project": "o8uCbOPb8iJK0GDallsV",
      "version": 1
     }
    }
   },
   "outputs": [
    {
     "data": {
      "application/vnd.microsoft.datawrangler.viewer.v0+json": {
       "columns": [
        {
         "name": "index",
         "rawType": "int64",
         "type": "integer"
        },
        {
         "name": "Unnamed: 0",
         "rawType": "int64",
         "type": "integer"
        },
        {
         "name": "date",
         "rawType": "int64",
         "type": "integer"
        },
        {
         "name": "symbol",
         "rawType": "object",
         "type": "string"
        },
        {
         "name": "price",
         "rawType": "float64",
         "type": "float"
        },
        {
         "name": "return",
         "rawType": "float64",
         "type": "float"
        },
        {
         "name": "volume",
         "rawType": "float64",
         "type": "float"
        },
        {
         "name": "shares_out",
         "rawType": "float64",
         "type": "float"
        },
        {
         "name": "mkt_cap",
         "rawType": "float64",
         "type": "float"
        }
       ],
       "ref": "8414fb90-4264-4ee1-9388-aadb319510c7",
       "rows": [
        [
         "838",
         "2986",
         "20211029",
         "HD",
         "371.73999",
         "0.132456",
         "596894.0",
         "1055359.0",
         "392319144.10640997"
        ],
        [
         "839",
         "2987",
         "20211130",
         "HD",
         "400.60999",
         "0.077662",
         "760519.0",
         "1044239.0",
         "418332575.34761"
        ],
        [
         "840",
         "2988",
         "20211231",
         "HD",
         "415.01001",
         "0.0400639999999999",
         "849064.0",
         "1044239.0",
         "433369637.83239"
        ]
       ],
       "shape": {
        "columns": 8,
        "rows": 3
       }
      },
      "text/html": [
       "<div>\n",
       "<style scoped>\n",
       "    .dataframe tbody tr th:only-of-type {\n",
       "        vertical-align: middle;\n",
       "    }\n",
       "\n",
       "    .dataframe tbody tr th {\n",
       "        vertical-align: top;\n",
       "    }\n",
       "\n",
       "    .dataframe thead th {\n",
       "        text-align: right;\n",
       "    }\n",
       "</style>\n",
       "<table border=\"1\" class=\"dataframe\">\n",
       "  <thead>\n",
       "    <tr style=\"text-align: right;\">\n",
       "      <th></th>\n",
       "      <th>Unnamed: 0</th>\n",
       "      <th>date</th>\n",
       "      <th>symbol</th>\n",
       "      <th>price</th>\n",
       "      <th>return</th>\n",
       "      <th>volume</th>\n",
       "      <th>shares_out</th>\n",
       "      <th>mkt_cap</th>\n",
       "    </tr>\n",
       "  </thead>\n",
       "  <tbody>\n",
       "    <tr>\n",
       "      <th>838</th>\n",
       "      <td>2986</td>\n",
       "      <td>20211029</td>\n",
       "      <td>HD</td>\n",
       "      <td>371.73999</td>\n",
       "      <td>0.132456</td>\n",
       "      <td>596894.0</td>\n",
       "      <td>1055359.0</td>\n",
       "      <td>3.923191e+08</td>\n",
       "    </tr>\n",
       "    <tr>\n",
       "      <th>839</th>\n",
       "      <td>2987</td>\n",
       "      <td>20211130</td>\n",
       "      <td>HD</td>\n",
       "      <td>400.60999</td>\n",
       "      <td>0.077662</td>\n",
       "      <td>760519.0</td>\n",
       "      <td>1044239.0</td>\n",
       "      <td>4.183326e+08</td>\n",
       "    </tr>\n",
       "    <tr>\n",
       "      <th>840</th>\n",
       "      <td>2988</td>\n",
       "      <td>20211231</td>\n",
       "      <td>HD</td>\n",
       "      <td>415.01001</td>\n",
       "      <td>0.040064</td>\n",
       "      <td>849064.0</td>\n",
       "      <td>1044239.0</td>\n",
       "      <td>4.333696e+08</td>\n",
       "    </tr>\n",
       "  </tbody>\n",
       "</table>\n",
       "</div>"
      ],
      "text/plain": [
       "     Unnamed: 0      date symbol      price    return    volume  shares_out  \\\n",
       "838        2986  20211029     HD  371.73999  0.132456  596894.0   1055359.0   \n",
       "839        2987  20211130     HD  400.60999  0.077662  760519.0   1044239.0   \n",
       "840        2988  20211231     HD  415.01001  0.040064  849064.0   1044239.0   \n",
       "\n",
       "          mkt_cap  \n",
       "838  3.923191e+08  \n",
       "839  4.183326e+08  \n",
       "840  4.333696e+08  "
      ]
     },
     "execution_count": 174,
     "metadata": {},
     "output_type": "execute_result"
    }
   ],
   "source": [
    "dow2=dow9[dow9['symbol'].isin(['AAPL', 'HD'])] \n",
    "dow2.tail(3)"
   ]
  },
  {
   "cell_type": "markdown",
   "metadata": {
    "iooxa": {
     "id": {
      "block": "i9TlHsrj4ofa4pYxEijV",
      "project": "o8uCbOPb8iJK0GDallsV",
      "version": 1
     }
    }
   },
   "source": [
    "#### What happen? The entire expression filters the dow9 DataFrame to include only those rows where the 'symbol' column has a value of either 'AAPL' (Apple Inc.) or 'HD' (Home Depot)."
   ]
  },
  {
   "cell_type": "code",
   "execution_count": 175,
   "metadata": {
    "iooxa": {
     "id": {
      "block": "5rrPEJlKg7yZspwLVt1O",
      "project": "o8uCbOPb8iJK0GDallsV",
      "version": 1
     },
     "outputId": {
      "block": "E7OrpVODwYpK6VsSq7dU",
      "project": "o8uCbOPb8iJK0GDallsV",
      "version": 1
     }
    }
   },
   "outputs": [
    {
     "ename": "KeyError",
     "evalue": "\"['sp_ret'] not in index\"",
     "output_type": "error",
     "traceback": [
      "\u001b[0;31m---------------------------------------------------------------------------\u001b[0m",
      "\u001b[0;31mKeyError\u001b[0m                                  Traceback (most recent call last)",
      "Cell \u001b[0;32mIn[175], line 1\u001b[0m\n\u001b[0;32m----> 1\u001b[0m \u001b[43msns\u001b[49m\u001b[38;5;241;43m.\u001b[39;49m\u001b[43mlmplot\u001b[49m\u001b[43m(\u001b[49m\u001b[43mx\u001b[49m\u001b[38;5;241;43m=\u001b[39;49m\u001b[38;5;124;43m'\u001b[39;49m\u001b[38;5;124;43mreturn\u001b[39;49m\u001b[38;5;124;43m'\u001b[39;49m\u001b[43m,\u001b[49m\u001b[43m \u001b[49m\u001b[43my\u001b[49m\u001b[38;5;241;43m=\u001b[39;49m\u001b[43m \u001b[49m\u001b[38;5;124;43m'\u001b[39;49m\u001b[38;5;124;43msp_ret\u001b[39;49m\u001b[38;5;124;43m'\u001b[39;49m\u001b[43m,\u001b[49m\u001b[43m \u001b[49m\u001b[43mdata\u001b[49m\u001b[38;5;241;43m=\u001b[39;49m\u001b[43mdow2\u001b[49m\u001b[43m \u001b[49m\u001b[43m,\u001b[49m\u001b[43m \u001b[49m\u001b[43mheight\u001b[49m\u001b[38;5;241;43m=\u001b[39;49m\u001b[38;5;241;43m8\u001b[39;49m\u001b[43m \u001b[49m\u001b[43m)\u001b[49m \u001b[38;5;66;03m# height: height of the plot in inches.\u001b[39;00m\n\u001b[1;32m      2\u001b[0m plt\u001b[38;5;241m.\u001b[39mtitle(\u001b[38;5;124m\"\u001b[39m\u001b[38;5;124mRelationship between Asset Returns(AAPL, HD) and S&P 500 Returns\u001b[39m\u001b[38;5;124m\"\u001b[39m, fontsize\u001b[38;5;241m=\u001b[39m\u001b[38;5;241m16\u001b[39m)\n\u001b[1;32m      3\u001b[0m plt\u001b[38;5;241m.\u001b[39mshow()\n",
      "File \u001b[0;32m~/Desktop/Fordham/Fall 2025/Computational Finance/.venv/lib/python3.9/site-packages/seaborn/regression.py:611\u001b[0m, in \u001b[0;36mlmplot\u001b[0;34m(data, x, y, hue, col, row, palette, col_wrap, height, aspect, markers, sharex, sharey, hue_order, col_order, row_order, legend, legend_out, x_estimator, x_bins, x_ci, scatter, fit_reg, ci, n_boot, units, seed, order, logistic, lowess, robust, logx, x_partial, y_partial, truncate, x_jitter, y_jitter, scatter_kws, line_kws, facet_kws)\u001b[0m\n\u001b[1;32m    609\u001b[0m need_cols \u001b[38;5;241m=\u001b[39m [x, y, hue, col, row, units, x_partial, y_partial]\n\u001b[1;32m    610\u001b[0m cols \u001b[38;5;241m=\u001b[39m np\u001b[38;5;241m.\u001b[39munique([a \u001b[38;5;28;01mfor\u001b[39;00m a \u001b[38;5;129;01min\u001b[39;00m need_cols \u001b[38;5;28;01mif\u001b[39;00m a \u001b[38;5;129;01mis\u001b[39;00m \u001b[38;5;129;01mnot\u001b[39;00m \u001b[38;5;28;01mNone\u001b[39;00m])\u001b[38;5;241m.\u001b[39mtolist()\n\u001b[0;32m--> 611\u001b[0m data \u001b[38;5;241m=\u001b[39m \u001b[43mdata\u001b[49m\u001b[43m[\u001b[49m\u001b[43mcols\u001b[49m\u001b[43m]\u001b[49m\n\u001b[1;32m    613\u001b[0m \u001b[38;5;66;03m# Initialize the grid\u001b[39;00m\n\u001b[1;32m    614\u001b[0m facets \u001b[38;5;241m=\u001b[39m FacetGrid(\n\u001b[1;32m    615\u001b[0m     data, row\u001b[38;5;241m=\u001b[39mrow, col\u001b[38;5;241m=\u001b[39mcol, hue\u001b[38;5;241m=\u001b[39mhue,\n\u001b[1;32m    616\u001b[0m     palette\u001b[38;5;241m=\u001b[39mpalette,\n\u001b[0;32m   (...)\u001b[0m\n\u001b[1;32m    619\u001b[0m     \u001b[38;5;241m*\u001b[39m\u001b[38;5;241m*\u001b[39mfacet_kws,\n\u001b[1;32m    620\u001b[0m )\n",
      "File \u001b[0;32m~/Desktop/Fordham/Fall 2025/Computational Finance/.venv/lib/python3.9/site-packages/pandas/core/frame.py:4113\u001b[0m, in \u001b[0;36mDataFrame.__getitem__\u001b[0;34m(self, key)\u001b[0m\n\u001b[1;32m   4111\u001b[0m     \u001b[38;5;28;01mif\u001b[39;00m is_iterator(key):\n\u001b[1;32m   4112\u001b[0m         key \u001b[38;5;241m=\u001b[39m \u001b[38;5;28mlist\u001b[39m(key)\n\u001b[0;32m-> 4113\u001b[0m     indexer \u001b[38;5;241m=\u001b[39m \u001b[38;5;28;43mself\u001b[39;49m\u001b[38;5;241;43m.\u001b[39;49m\u001b[43mcolumns\u001b[49m\u001b[38;5;241;43m.\u001b[39;49m\u001b[43m_get_indexer_strict\u001b[49m\u001b[43m(\u001b[49m\u001b[43mkey\u001b[49m\u001b[43m,\u001b[49m\u001b[43m \u001b[49m\u001b[38;5;124;43m\"\u001b[39;49m\u001b[38;5;124;43mcolumns\u001b[39;49m\u001b[38;5;124;43m\"\u001b[39;49m\u001b[43m)\u001b[49m[\u001b[38;5;241m1\u001b[39m]\n\u001b[1;32m   4115\u001b[0m \u001b[38;5;66;03m# take() does not accept boolean indexers\u001b[39;00m\n\u001b[1;32m   4116\u001b[0m \u001b[38;5;28;01mif\u001b[39;00m \u001b[38;5;28mgetattr\u001b[39m(indexer, \u001b[38;5;124m\"\u001b[39m\u001b[38;5;124mdtype\u001b[39m\u001b[38;5;124m\"\u001b[39m, \u001b[38;5;28;01mNone\u001b[39;00m) \u001b[38;5;241m==\u001b[39m \u001b[38;5;28mbool\u001b[39m:\n",
      "File \u001b[0;32m~/Desktop/Fordham/Fall 2025/Computational Finance/.venv/lib/python3.9/site-packages/pandas/core/indexes/base.py:6212\u001b[0m, in \u001b[0;36mIndex._get_indexer_strict\u001b[0;34m(self, key, axis_name)\u001b[0m\n\u001b[1;32m   6209\u001b[0m \u001b[38;5;28;01melse\u001b[39;00m:\n\u001b[1;32m   6210\u001b[0m     keyarr, indexer, new_indexer \u001b[38;5;241m=\u001b[39m \u001b[38;5;28mself\u001b[39m\u001b[38;5;241m.\u001b[39m_reindex_non_unique(keyarr)\n\u001b[0;32m-> 6212\u001b[0m \u001b[38;5;28;43mself\u001b[39;49m\u001b[38;5;241;43m.\u001b[39;49m\u001b[43m_raise_if_missing\u001b[49m\u001b[43m(\u001b[49m\u001b[43mkeyarr\u001b[49m\u001b[43m,\u001b[49m\u001b[43m \u001b[49m\u001b[43mindexer\u001b[49m\u001b[43m,\u001b[49m\u001b[43m \u001b[49m\u001b[43maxis_name\u001b[49m\u001b[43m)\u001b[49m\n\u001b[1;32m   6214\u001b[0m keyarr \u001b[38;5;241m=\u001b[39m \u001b[38;5;28mself\u001b[39m\u001b[38;5;241m.\u001b[39mtake(indexer)\n\u001b[1;32m   6215\u001b[0m \u001b[38;5;28;01mif\u001b[39;00m \u001b[38;5;28misinstance\u001b[39m(key, Index):\n\u001b[1;32m   6216\u001b[0m     \u001b[38;5;66;03m# GH 42790 - Preserve name from an Index\u001b[39;00m\n",
      "File \u001b[0;32m~/Desktop/Fordham/Fall 2025/Computational Finance/.venv/lib/python3.9/site-packages/pandas/core/indexes/base.py:6264\u001b[0m, in \u001b[0;36mIndex._raise_if_missing\u001b[0;34m(self, key, indexer, axis_name)\u001b[0m\n\u001b[1;32m   6261\u001b[0m     \u001b[38;5;28;01mraise\u001b[39;00m \u001b[38;5;167;01mKeyError\u001b[39;00m(\u001b[38;5;124mf\u001b[39m\u001b[38;5;124m\"\u001b[39m\u001b[38;5;124mNone of [\u001b[39m\u001b[38;5;132;01m{\u001b[39;00mkey\u001b[38;5;132;01m}\u001b[39;00m\u001b[38;5;124m] are in the [\u001b[39m\u001b[38;5;132;01m{\u001b[39;00maxis_name\u001b[38;5;132;01m}\u001b[39;00m\u001b[38;5;124m]\u001b[39m\u001b[38;5;124m\"\u001b[39m)\n\u001b[1;32m   6263\u001b[0m not_found \u001b[38;5;241m=\u001b[39m \u001b[38;5;28mlist\u001b[39m(ensure_index(key)[missing_mask\u001b[38;5;241m.\u001b[39mnonzero()[\u001b[38;5;241m0\u001b[39m]]\u001b[38;5;241m.\u001b[39munique())\n\u001b[0;32m-> 6264\u001b[0m \u001b[38;5;28;01mraise\u001b[39;00m \u001b[38;5;167;01mKeyError\u001b[39;00m(\u001b[38;5;124mf\u001b[39m\u001b[38;5;124m\"\u001b[39m\u001b[38;5;132;01m{\u001b[39;00mnot_found\u001b[38;5;132;01m}\u001b[39;00m\u001b[38;5;124m not in index\u001b[39m\u001b[38;5;124m\"\u001b[39m)\n",
      "\u001b[0;31mKeyError\u001b[0m: \"['sp_ret'] not in index\""
     ]
    }
   ],
   "source": [
    "sns.lmplot(x='return', y= 'sp_ret', data=dow2 , height=8 ) # height: height of the plot in inches.\n",
    "plt.title(\"Relationship between Asset Returns(AAPL, HD) and S&P 500 Returns\", fontsize=16)\n",
    "plt.show()"
   ]
  },
  {
   "cell_type": "code",
   "execution_count": null,
   "metadata": {
    "iooxa": {
     "id": {
      "block": "b7fNXdndHRTMlt8wKaW0",
      "project": "o8uCbOPb8iJK0GDallsV",
      "version": 1
     },
     "outputId": null
    }
   },
   "outputs": [],
   "source": [
    "#Not that the data includes two symbol. What if I want to examine whether the relationship\n",
    "#is different between the two symbols?"
   ]
  },
  {
   "cell_type": "code",
   "execution_count": null,
   "metadata": {
    "iooxa": {
     "id": {
      "block": "IlikWdqNQ5G0kDLo77ra",
      "project": "o8uCbOPb8iJK0GDallsV",
      "version": 1
     },
     "outputId": null
    }
   },
   "outputs": [],
   "source": [
    "#The following achieves that"
   ]
  },
  {
   "cell_type": "code",
   "execution_count": null,
   "metadata": {
    "iooxa": {
     "id": {
      "block": "nfULuFr6qEXMyK73n2wB",
      "project": "o8uCbOPb8iJK0GDallsV",
      "version": 1
     },
     "outputId": {
      "block": "dXDTwwQTD6XvkH0kKuF1",
      "project": "o8uCbOPb8iJK0GDallsV",
      "version": 1
     }
    }
   },
   "outputs": [
    {
     "data": {
      "image/png": "[encoded data removed]",
      "text/plain": [
       "<Figure size 637.5x576 with 1 Axes>"
      ]
     },
     "metadata": {
      "needs_background": "light"
     },
     "output_type": "display_data"
    }
   ],
   "source": [
    "# Parameters: \n",
    "# fit_reg:- This parameter disables the fitting of a regression line to the data points.\n",
    "# hue:- This parameter adds color coding to the scatter plot based on the values in the column of the DataFrame.\n",
    "sns.lmplot(x='sp_ret', y= 'return', data=dow2 , height=8,\n",
    "          fit_reg = False , hue = 'symbol' )\n",
    "plt.show()"
   ]
  },
  {
   "cell_type": "code",
   "execution_count": null,
   "metadata": {
    "iooxa": {
     "id": {
      "block": "HnWNIdVAckTiHPXQjL1k",
      "project": "o8uCbOPb8iJK0GDallsV",
      "version": 1
     },
     "outputId": {
      "block": "wf3VkzosHtcss4Yio1Lo",
      "project": "o8uCbOPb8iJK0GDallsV",
      "version": 1
     }
    }
   },
   "outputs": [
    {
     "data": {
      "image/png": "[encoded data removed]",
      "text/plain": [
       "<Figure size 637.5x576 with 1 Axes>"
      ]
     },
     "metadata": {
      "needs_background": "light"
     },
     "output_type": "display_data"
    }
   ],
   "source": [
    "# with regression line\n",
    "sns.lmplot(x='return', y= 'sp_ret', data=dow2 , height=8,\n",
    "          fit_reg = True , hue = 'symbol' )\n",
    "plt.show()"
   ]
  },
  {
   "cell_type": "code",
   "execution_count": null,
   "metadata": {
    "iooxa": {
     "id": {
      "block": "FGxgwoh11LF9BYHONH02",
      "project": "o8uCbOPb8iJK0GDallsV",
      "version": 1
     },
     "outputId": null
    }
   },
   "outputs": [],
   "source": [
    "sns.set_style()"
   ]
  },
  {
   "cell_type": "code",
   "execution_count": null,
   "metadata": {
    "iooxa": {
     "id": {
      "block": "SiyCDE62yIsSrlEhMPxQ",
      "project": "o8uCbOPb8iJK0GDallsV",
      "version": 3
     },
     "outputId": {
      "block": "HzRt3LUFszqNgldo5X41",
      "project": "o8uCbOPb8iJK0GDallsV",
      "version": 1
     }
    }
   },
   "outputs": [
    {
     "name": "stderr",
     "output_type": "stream",
     "text": [
      "C:\\Users\\jaiva\\anaconda3\\envs\\jupyter_env\\lib\\site-packages\\seaborn\\distributions.py:2619: FutureWarning: `distplot` is a deprecated function and will be removed in a future version. Please adapt your code to use either `displot` (a figure-level function with similar flexibility) or `histplot` (an axes-level function for histograms).\n",
      "  warnings.warn(msg, FutureWarning)\n"
     ]
    },
    {
     "data": {
      "text/plain": [
       "<AxesSubplot:xlabel='return', ylabel='Density'>"
      ]
     },
     "execution_count": 101,
     "metadata": {},
     "output_type": "execute_result"
    },
    {
     "data": {
      "image/png": "[encoded data removed]",
      "text/plain": [
       "<Figure size 864x432 with 1 Axes>"
      ]
     },
     "metadata": {},
     "output_type": "display_data"
    }
   ],
   "source": [
    "plt.figure(figsize=(12, 6))  # Width: 12 inches, Height: 6 inches\n",
    "sns.set_style('whitegrid')\n",
    "# Create the distribution plot\n",
    "sns.distplot(dow2['return'], kde=True, color='blue', bins=30)"
   ]
  },
  {
   "cell_type": "code",
   "execution_count": null,
   "metadata": {
    "iooxa": {
     "id": {
      "block": "jrWcqI6ea1EYeViwVE0x",
      "project": "o8uCbOPb8iJK0GDallsV",
      "version": 1
     },
     "outputId": null
    }
   },
   "outputs": [],
   "source": [
    "hd=dow9[dow9['symbol'].isin(['HD'])] "
   ]
  },
  {
   "cell_type": "code",
   "execution_count": null,
   "metadata": {
    "iooxa": {
     "id": {
      "block": "A0jmjCXY9aADTKRuHAzM",
      "project": "o8uCbOPb8iJK0GDallsV",
      "version": 1
     },
     "outputId": {
      "block": "1969HJuDQwxfeSqhZWp5",
      "project": "o8uCbOPb8iJK0GDallsV",
      "version": 1
     }
    }
   },
   "outputs": [
    {
     "data": {
      "text/plain": [
       "<seaborn.axisgrid.JointGrid at 0x2a2f07d0828>"
      ]
     },
     "execution_count": 110,
     "metadata": {},
     "output_type": "execute_result"
    },
    {
     "data": {
      "text/plain": [
       "<Figure size 864x432 with 0 Axes>"
      ]
     },
     "metadata": {},
     "output_type": "display_data"
    },
    {
     "data": {
      "image/png": "[encoded data removed]",
      "text/plain": [
       "<Figure size 432x432 with 3 Axes>"
      ]
     },
     "metadata": {},
     "output_type": "display_data"
    }
   ],
   "source": [
    "plt.figure(figsize=(12, 6))\n",
    "sns.jointplot(x ='sp_ret', y ='return', data = hd)"
   ]
  },
  {
   "cell_type": "code",
   "execution_count": null,
   "metadata": {
    "iooxa": {
     "id": {
      "block": "esQGrAtu4s4JkLCty3mX",
      "project": "o8uCbOPb8iJK0GDallsV",
      "version": 1
     },
     "outputId": {
      "block": "stkOTB6EuBDZRvpQGGNZ",
      "project": "o8uCbOPb8iJK0GDallsV",
      "version": 1
     }
    }
   },
   "outputs": [
    {
     "data": {
      "text/plain": [
       "<seaborn.axisgrid.JointGrid at 0x2a2f0bee390>"
      ]
     },
     "execution_count": 113,
     "metadata": {},
     "output_type": "execute_result"
    },
    {
     "data": {
      "image/png": "[encoded data removed]",
      "text/plain": [
       "<Figure size 432x432 with 3 Axes>"
      ]
     },
     "metadata": {},
     "output_type": "display_data"
    }
   ],
   "source": [
    "sns.jointplot(x ='sp_ret', y ='return', kind ='kde', data = hd)"
   ]
  },
  {
   "cell_type": "code",
   "execution_count": null,
   "metadata": {
    "iooxa": {
     "id": {
      "block": "Scv48fgCycz4yOfmSiib",
      "project": "o8uCbOPb8iJK0GDallsV",
      "version": 1
     },
     "outputId": null
    }
   },
   "outputs": [],
   "source": [
    "df = dow2[['symbol','price', 'volume']]"
   ]
  },
  {
   "cell_type": "code",
   "execution_count": null,
   "metadata": {
    "iooxa": {
     "id": {
      "block": "ERp59rTASKUL9XjgNAjL",
      "project": "o8uCbOPb8iJK0GDallsV",
      "version": 1
     },
     "outputId": {
      "block": "Y4XVoGZ0fb44qM8E6QHc",
      "project": "o8uCbOPb8iJK0GDallsV",
      "version": 1
     }
    }
   },
   "outputs": [
    {
     "data": {
      "text/plain": [
       "<seaborn.axisgrid.PairGrid at 0x2a2f0ac1eb8>"
      ]
     },
     "execution_count": 115,
     "metadata": {},
     "output_type": "execute_result"
    },
    {
     "data": {
      "image/png": "[encoded data removed]",
      "text/plain": [
       "<Figure size 421.375x360 with 6 Axes>"
      ]
     },
     "metadata": {},
     "output_type": "display_data"
    }
   ],
   "source": [
    "sns.pairplot(df, hue =\"symbol\")"
   ]
  },
  {
   "cell_type": "code",
   "execution_count": null,
   "metadata": {
    "iooxa": null
   },
   "outputs": [],
   "source": []
  }
 ],
 "metadata": {
  "iooxa": {
   "id": {
    "block": "XfDcmIXUHGd39g3O3c5z",
    "project": "o8uCbOPb8iJK0GDallsV",
    "version": 3
   }
  },
  "kernelspec": {
   "display_name": ".venv (3.9.6)",
   "language": "python",
   "name": "python3"
  },
  "language_info": {
   "codemirror_mode": {
    "name": "ipython",
    "version": 3
   },
   "file_extension": ".py",
   "mimetype": "text/x-python",
   "name": "python",
   "nbconvert_exporter": "python",
   "pygments_lexer": "ipython3",
   "version": "3.9.6"
  }
 },
 "nbformat": 4,
 "nbformat_minor": 4
}
