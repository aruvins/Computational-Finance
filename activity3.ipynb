{
 "cells": [
  {
   "cell_type": "code",
   "execution_count": 6,
   "id": "d5e6d2c0",
   "metadata": {},
   "outputs": [],
   "source": [
    "import numpy as np\n",
    "import pandas as pd\n",
    "import matplotlib.pyplot as plt"
   ]
  },
  {
   "cell_type": "code",
   "execution_count": 7,
   "id": "6abbaa43",
   "metadata": {},
   "outputs": [
    {
     "ename": "NameError",
     "evalue": "name 'A' is not defined",
     "output_type": "error",
     "traceback": [
      "\u001b[0;31m---------------------------------------------------------------------------\u001b[0m",
      "\u001b[0;31mNameError\u001b[0m                                 Traceback (most recent call last)",
      "Cell \u001b[0;32mIn[7], line 1\u001b[0m\n\u001b[0;32m----> 1\u001b[0m a \u001b[38;5;241m=\u001b[39m \u001b[43mA\u001b[49m\n",
      "\u001b[0;31mNameError\u001b[0m: name 'A' is not defined"
     ]
    }
   ],
   "source": [
    "a = A"
   ]
  },
  {
   "cell_type": "code",
   "execution_count": 8,
   "id": "b8b1fcbc",
   "metadata": {},
   "outputs": [
    {
     "ename": "TypeError",
     "evalue": "'<' not supported between instances of 'int' and 'str'",
     "output_type": "error",
     "traceback": [
      "\u001b[0;31m---------------------------------------------------------------------------\u001b[0m",
      "\u001b[0;31mTypeError\u001b[0m                                 Traceback (most recent call last)",
      "Cell \u001b[0;32mIn[8], line 1\u001b[0m\n\u001b[0;32m----> 1\u001b[0m \u001b[38;5;241;43m100\u001b[39;49m\u001b[43m \u001b[49m\u001b[38;5;241;43m<\u001b[39;49m\u001b[43m \u001b[49m\u001b[38;5;124;43m'\u001b[39;49m\u001b[38;5;124;43mAbe\u001b[39;49m\u001b[38;5;124;43m'\u001b[39;49m\n",
      "\u001b[0;31mTypeError\u001b[0m: '<' not supported between instances of 'int' and 'str'"
     ]
    }
   ],
   "source": [
    "100 < 'Abe'"
   ]
  },
  {
   "cell_type": "code",
   "execution_count": 9,
   "id": "55f0aefd",
   "metadata": {},
   "outputs": [
    {
     "data": {
      "text/plain": [
       "True"
      ]
     },
     "execution_count": 9,
     "metadata": {},
     "output_type": "execute_result"
    }
   ],
   "source": [
    "'100' < 'Abe'"
   ]
  },
  {
   "cell_type": "code",
   "execution_count": null,
   "id": "1c1dc2f1",
   "metadata": {},
   "outputs": [
    {
     "name": "stdout",
     "output_type": "stream",
     "text": [
      "[False False  True]\n"
     ]
    }
   ],
   "source": [
    "x = np.array([-1,0,1] )\n",
    "\n",
    "print(x > 0)"
   ]
  },
  {
   "cell_type": "code",
   "execution_count": 11,
   "id": "92323afc",
   "metadata": {},
   "outputs": [
    {
     "data": {
      "text/plain": [
       "array([ True, False,  True])"
      ]
     },
     "execution_count": 11,
     "metadata": {},
     "output_type": "execute_result"
    }
   ],
   "source": [
    "x = np.array([-1,0,1] )\n",
    "np.logical_or( x > 0 , x < 0 )  "
   ]
  },
  {
   "cell_type": "code",
   "execution_count": 12,
   "id": "0f2b64b9",
   "metadata": {},
   "outputs": [
    {
     "data": {
      "text/plain": [
       "1"
      ]
     },
     "execution_count": 12,
     "metadata": {},
     "output_type": "execute_result"
    }
   ],
   "source": [
    "17%4"
   ]
  },
  {
   "cell_type": "code",
   "execution_count": 15,
   "id": "9403e46f",
   "metadata": {},
   "outputs": [
    {
     "data": {
      "application/vnd.microsoft.datawrangler.viewer.v0+json": {
       "columns": [
        {
         "name": "index",
         "rawType": "int64",
         "type": "integer"
        },
        {
         "name": "Date",
         "rawType": "object",
         "type": "string"
        },
        {
         "name": "Open",
         "rawType": "float64",
         "type": "float"
        },
        {
         "name": "High",
         "rawType": "float64",
         "type": "float"
        },
        {
         "name": "Low",
         "rawType": "float64",
         "type": "float"
        },
        {
         "name": "Close",
         "rawType": "float64",
         "type": "float"
        },
        {
         "name": "Adj Close",
         "rawType": "float64",
         "type": "float"
        },
        {
         "name": "Volume",
         "rawType": "int64",
         "type": "integer"
        }
       ],
       "ref": "f8f8eb4d-1afb-4133-b6bd-a4915f319b81",
       "rows": [
        [
         "0",
         "2016-12-30",
         "12.24",
         "12.28",
         "12.08",
         "12.13",
         "9.831765",
         "27405700"
        ],
        [
         "1",
         "2017-01-03",
         "12.2",
         "12.6",
         "12.13",
         "12.59",
         "10.204612",
         "40510800"
        ],
        [
         "2",
         "2017-01-04",
         "12.77",
         "13.27",
         "12.74",
         "13.17",
         "10.674722",
         "77638100"
        ],
        [
         "3",
         "2017-01-05",
         "13.21",
         "13.22",
         "12.63",
         "12.77",
         "10.35051",
         "75628400"
        ],
        [
         "4",
         "2017-01-06",
         "12.8",
         "12.84",
         "12.64",
         "12.76",
         "10.342402",
         "40315900"
        ],
        [
         "5",
         "2017-01-09",
         "12.79",
         "12.86",
         "12.63",
         "12.63",
         "10.237035",
         "39438400"
        ],
        [
         "6",
         "2017-01-10",
         "12.7",
         "13.02",
         "12.66",
         "12.85",
         "10.415351",
         "58703500"
        ],
        [
         "7",
         "2017-01-11",
         "12.71",
         "12.72",
         "12.51",
         "12.67",
         "10.269455",
         "49718700"
        ],
        [
         "8",
         "2017-01-12",
         "12.66",
         "12.68",
         "12.35",
         "12.59",
         "10.204612",
         "36493300"
        ],
        [
         "9",
         "2017-01-13",
         "12.62",
         "12.67",
         "12.5",
         "12.63",
         "10.237035",
         "29197100"
        ],
        [
         "10",
         "2017-01-17",
         "12.65",
         "12.73",
         "12.54",
         "12.61",
         "10.220822",
         "49069500"
        ],
        [
         "11",
         "2017-01-18",
         "12.43",
         "12.45",
         "12.3",
         "12.41",
         "10.220823",
         "33830800"
        ],
        [
         "12",
         "2017-01-19",
         "12.4",
         "12.56",
         "12.34",
         "12.43",
         "10.237295",
         "30135600"
        ],
        [
         "13",
         "2017-01-20",
         "12.45",
         "12.48",
         "12.31",
         "12.36",
         "10.179642",
         "29270000"
        ],
        [
         "14",
         "2017-01-23",
         "12.35",
         "12.38",
         "12.22",
         "12.31",
         "10.138464",
         "31670700"
        ],
        [
         "15",
         "2017-01-24",
         "12.35",
         "12.61",
         "12.34",
         "12.61",
         "10.385542",
         "34625200"
        ],
        [
         "16",
         "2017-01-25",
         "12.71",
         "12.8",
         "12.64",
         "12.79",
         "10.533789",
         "46747800"
        ],
        [
         "17",
         "2017-01-26",
         "12.65",
         "12.68",
         "12.35",
         "12.37",
         "10.18788",
         "55672800"
        ],
        [
         "18",
         "2017-01-27",
         "12.48",
         "12.54",
         "12.38",
         "12.49",
         "10.286711",
         "34613900"
        ],
        [
         "19",
         "2017-01-30",
         "12.46",
         "12.46",
         "12.28",
         "12.37",
         "10.18788",
         "39254200"
        ],
        [
         "20",
         "2017-01-31",
         "12.31",
         "12.39",
         "12.19",
         "12.36",
         "10.179642",
         "46974500"
        ],
        [
         "21",
         "2017-02-01",
         "12.45",
         "12.58",
         "12.22",
         "12.32",
         "10.146699",
         "44396800"
        ],
        [
         "22",
         "2017-02-02",
         "12.3",
         "12.37",
         "12.23",
         "12.28",
         "10.113754",
         "29035400"
        ],
        [
         "23",
         "2017-02-03",
         "12.42",
         "12.62",
         "12.39",
         "12.56",
         "10.344362",
         "38245300"
        ],
        [
         "24",
         "2017-02-06",
         "12.55",
         "12.62",
         "12.46",
         "12.52",
         "10.311419",
         "26916800"
        ],
        [
         "25",
         "2017-02-07",
         "12.5",
         "12.52",
         "12.31",
         "12.34",
         "10.163169",
         "32914400"
        ],
        [
         "26",
         "2017-02-08",
         "12.34",
         "12.45",
         "12.27",
         "12.38",
         "10.196115",
         "26411400"
        ],
        [
         "27",
         "2017-02-09",
         "12.38",
         "12.47",
         "12.35",
         "12.38",
         "10.196115",
         "32924600"
        ],
        [
         "28",
         "2017-02-10",
         "12.44",
         "12.51",
         "12.37",
         "12.51",
         "10.303183",
         "32996500"
        ],
        [
         "29",
         "2017-02-13",
         "12.54",
         "12.62",
         "12.48",
         "12.56",
         "10.344362",
         "24474000"
        ],
        [
         "30",
         "2017-02-14",
         "12.64",
         "12.7",
         "12.59",
         "12.65",
         "10.418484",
         "28355700"
        ],
        [
         "31",
         "2017-02-15",
         "12.62",
         "12.64",
         "12.55",
         "12.63",
         "10.402016",
         "25114400"
        ],
        [
         "32",
         "2017-02-16",
         "12.61",
         "12.64",
         "12.48",
         "12.54",
         "10.327888",
         "22896500"
        ],
        [
         "33",
         "2017-02-17",
         "12.5",
         "12.58",
         "12.42",
         "12.58",
         "10.360833",
         "26407400"
        ],
        [
         "34",
         "2017-02-21",
         "12.61",
         "12.72",
         "12.61",
         "12.69",
         "10.451428",
         "29156200"
        ],
        [
         "35",
         "2017-02-22",
         "12.66",
         "12.77",
         "12.65",
         "12.67",
         "10.434958",
         "24787500"
        ],
        [
         "36",
         "2017-02-23",
         "12.7",
         "12.72",
         "12.55",
         "12.56",
         "10.344362",
         "22520600"
        ],
        [
         "37",
         "2017-02-24",
         "12.51",
         "12.51",
         "12.38",
         "12.47",
         "10.270238",
         "40817300"
        ],
        [
         "38",
         "2017-02-27",
         "12.49",
         "12.68",
         "12.43",
         "12.66",
         "10.426722",
         "41713100"
        ],
        [
         "39",
         "2017-02-28",
         "12.63",
         "12.66",
         "12.45",
         "12.53",
         "10.319652",
         "36089800"
        ],
        [
         "40",
         "2017-03-01",
         "12.66",
         "12.75",
         "12.65",
         "12.69",
         "10.451428",
         "36178600"
        ],
        [
         "41",
         "2017-03-02",
         "12.72",
         "12.75",
         "12.58",
         "12.66",
         "10.426722",
         "33245100"
        ],
        [
         "42",
         "2017-03-03",
         "12.66",
         "12.71",
         "12.53",
         "12.65",
         "10.418484",
         "30429200"
        ],
        [
         "43",
         "2017-03-06",
         "12.58",
         "12.6",
         "12.5",
         "12.52",
         "10.311419",
         "28753600"
        ],
        [
         "44",
         "2017-03-07",
         "12.51",
         "12.53",
         "12.42",
         "12.46",
         "10.262003",
         "25906900"
        ],
        [
         "45",
         "2017-03-08",
         "12.5",
         "12.64",
         "12.46",
         "12.53",
         "10.319652",
         "27327800"
        ],
        [
         "46",
         "2017-03-09",
         "12.54",
         "12.54",
         "12.4",
         "12.5",
         "10.294945",
         "29149100"
        ],
        [
         "47",
         "2017-03-10",
         "12.55",
         "12.63",
         "12.47",
         "12.53",
         "10.319652",
         "34866100"
        ],
        [
         "48",
         "2017-03-13",
         "12.56",
         "12.63",
         "12.5",
         "12.54",
         "10.327888",
         "22625800"
        ],
        [
         "49",
         "2017-03-14",
         "12.51",
         "12.56",
         "12.45",
         "12.55",
         "10.336126",
         "26956700"
        ]
       ],
       "shape": {
        "columns": 7,
        "rows": 1260
       }
      },
      "text/html": [
       "<div>\n",
       "<style scoped>\n",
       "    .dataframe tbody tr th:only-of-type {\n",
       "        vertical-align: middle;\n",
       "    }\n",
       "\n",
       "    .dataframe tbody tr th {\n",
       "        vertical-align: top;\n",
       "    }\n",
       "\n",
       "    .dataframe thead th {\n",
       "        text-align: right;\n",
       "    }\n",
       "</style>\n",
       "<table border=\"1\" class=\"dataframe\">\n",
       "  <thead>\n",
       "    <tr style=\"text-align: right;\">\n",
       "      <th></th>\n",
       "      <th>Date</th>\n",
       "      <th>Open</th>\n",
       "      <th>High</th>\n",
       "      <th>Low</th>\n",
       "      <th>Close</th>\n",
       "      <th>Adj Close</th>\n",
       "      <th>Volume</th>\n",
       "    </tr>\n",
       "  </thead>\n",
       "  <tbody>\n",
       "    <tr>\n",
       "      <th>0</th>\n",
       "      <td>2016-12-30</td>\n",
       "      <td>12.240000</td>\n",
       "      <td>12.280000</td>\n",
       "      <td>12.080000</td>\n",
       "      <td>12.130000</td>\n",
       "      <td>9.831765</td>\n",
       "      <td>27405700</td>\n",
       "    </tr>\n",
       "    <tr>\n",
       "      <th>1</th>\n",
       "      <td>2017-01-03</td>\n",
       "      <td>12.200000</td>\n",
       "      <td>12.600000</td>\n",
       "      <td>12.130000</td>\n",
       "      <td>12.590000</td>\n",
       "      <td>10.204612</td>\n",
       "      <td>40510800</td>\n",
       "    </tr>\n",
       "    <tr>\n",
       "      <th>2</th>\n",
       "      <td>2017-01-04</td>\n",
       "      <td>12.770000</td>\n",
       "      <td>13.270000</td>\n",
       "      <td>12.740000</td>\n",
       "      <td>13.170000</td>\n",
       "      <td>10.674722</td>\n",
       "      <td>77638100</td>\n",
       "    </tr>\n",
       "    <tr>\n",
       "      <th>3</th>\n",
       "      <td>2017-01-05</td>\n",
       "      <td>13.210000</td>\n",
       "      <td>13.220000</td>\n",
       "      <td>12.630000</td>\n",
       "      <td>12.770000</td>\n",
       "      <td>10.350510</td>\n",
       "      <td>75628400</td>\n",
       "    </tr>\n",
       "    <tr>\n",
       "      <th>4</th>\n",
       "      <td>2017-01-06</td>\n",
       "      <td>12.800000</td>\n",
       "      <td>12.840000</td>\n",
       "      <td>12.640000</td>\n",
       "      <td>12.760000</td>\n",
       "      <td>10.342402</td>\n",
       "      <td>40315900</td>\n",
       "    </tr>\n",
       "    <tr>\n",
       "      <th>...</th>\n",
       "      <td>...</td>\n",
       "      <td>...</td>\n",
       "      <td>...</td>\n",
       "      <td>...</td>\n",
       "      <td>...</td>\n",
       "      <td>...</td>\n",
       "      <td>...</td>\n",
       "    </tr>\n",
       "    <tr>\n",
       "      <th>1255</th>\n",
       "      <td>2021-12-27</td>\n",
       "      <td>20.260000</td>\n",
       "      <td>20.889999</td>\n",
       "      <td>20.100000</td>\n",
       "      <td>20.799999</td>\n",
       "      <td>20.799999</td>\n",
       "      <td>59651800</td>\n",
       "    </tr>\n",
       "    <tr>\n",
       "      <th>1256</th>\n",
       "      <td>2021-12-28</td>\n",
       "      <td>20.660000</td>\n",
       "      <td>21.059999</td>\n",
       "      <td>20.590000</td>\n",
       "      <td>20.760000</td>\n",
       "      <td>20.760000</td>\n",
       "      <td>53020500</td>\n",
       "    </tr>\n",
       "    <tr>\n",
       "      <th>1257</th>\n",
       "      <td>2021-12-29</td>\n",
       "      <td>20.709999</td>\n",
       "      <td>20.770000</td>\n",
       "      <td>20.450001</td>\n",
       "      <td>20.559999</td>\n",
       "      <td>20.559999</td>\n",
       "      <td>37883000</td>\n",
       "    </tr>\n",
       "    <tr>\n",
       "      <th>1258</th>\n",
       "      <td>2021-12-30</td>\n",
       "      <td>20.590000</td>\n",
       "      <td>20.959999</td>\n",
       "      <td>20.469999</td>\n",
       "      <td>20.469999</td>\n",
       "      <td>20.469999</td>\n",
       "      <td>51470100</td>\n",
       "    </tr>\n",
       "    <tr>\n",
       "      <th>1259</th>\n",
       "      <td>2021-12-31</td>\n",
       "      <td>20.459999</td>\n",
       "      <td>21.010000</td>\n",
       "      <td>20.459999</td>\n",
       "      <td>20.770000</td>\n",
       "      <td>20.770000</td>\n",
       "      <td>51798100</td>\n",
       "    </tr>\n",
       "  </tbody>\n",
       "</table>\n",
       "<p>1260 rows × 7 columns</p>\n",
       "</div>"
      ],
      "text/plain": [
       "            Date       Open       High        Low      Close  Adj Close  \\\n",
       "0     2016-12-30  12.240000  12.280000  12.080000  12.130000   9.831765   \n",
       "1     2017-01-03  12.200000  12.600000  12.130000  12.590000  10.204612   \n",
       "2     2017-01-04  12.770000  13.270000  12.740000  13.170000  10.674722   \n",
       "3     2017-01-05  13.210000  13.220000  12.630000  12.770000  10.350510   \n",
       "4     2017-01-06  12.800000  12.840000  12.640000  12.760000  10.342402   \n",
       "...          ...        ...        ...        ...        ...        ...   \n",
       "1255  2021-12-27  20.260000  20.889999  20.100000  20.799999  20.799999   \n",
       "1256  2021-12-28  20.660000  21.059999  20.590000  20.760000  20.760000   \n",
       "1257  2021-12-29  20.709999  20.770000  20.450001  20.559999  20.559999   \n",
       "1258  2021-12-30  20.590000  20.959999  20.469999  20.469999  20.469999   \n",
       "1259  2021-12-31  20.459999  21.010000  20.459999  20.770000  20.770000   \n",
       "\n",
       "        Volume  \n",
       "0     27405700  \n",
       "1     40510800  \n",
       "2     77638100  \n",
       "3     75628400  \n",
       "4     40315900  \n",
       "...        ...  \n",
       "1255  59651800  \n",
       "1256  53020500  \n",
       "1257  37883000  \n",
       "1258  51470100  \n",
       "1259  51798100  \n",
       "\n",
       "[1260 rows x 7 columns]"
      ]
     },
     "execution_count": 15,
     "metadata": {},
     "output_type": "execute_result"
    }
   ],
   "source": [
    "ford=pd.read_excel('DataFiles/Ford_daily_prices_2017-2021.xlsx' )\n",
    "ford"
   ]
  },
  {
   "cell_type": "code",
   "execution_count": 17,
   "id": "e2ac6de3",
   "metadata": {},
   "outputs": [
    {
     "data": {
      "text/plain": [
       "9"
      ]
     },
     "execution_count": 17,
     "metadata": {},
     "output_type": "execute_result"
    }
   ],
   "source": [
    "high_volume_days = ford[ford['Volume'] > 200_000_000]\n",
    "\n",
    "num_high_volume_days = high_volume_days.shape[0]\n",
    "num_high_volume_days"
   ]
  },
  {
   "cell_type": "code",
   "execution_count": 22,
   "id": "3a1cb7c2",
   "metadata": {},
   "outputs": [
    {
     "data": {
      "image/png": "[encoded data removed]",
      "text/plain": [
       "<Figure size 1000x500 with 1 Axes>"
      ]
     },
     "metadata": {},
     "output_type": "display_data"
    },
    {
     "data": {
      "application/vnd.microsoft.datawrangler.viewer.v0+json": {
       "columns": [
        {
         "name": "index",
         "rawType": "int64",
         "type": "integer"
        },
        {
         "name": "Date",
         "rawType": "object",
         "type": "string"
        },
        {
         "name": "Open",
         "rawType": "float64",
         "type": "float"
        },
        {
         "name": "High",
         "rawType": "float64",
         "type": "float"
        },
        {
         "name": "Low",
         "rawType": "float64",
         "type": "float"
        },
        {
         "name": "Close",
         "rawType": "float64",
         "type": "float"
        },
        {
         "name": "Adj Close",
         "rawType": "float64",
         "type": "float"
        },
        {
         "name": "Volume",
         "rawType": "int64",
         "type": "integer"
        },
        {
         "name": "High_minus_Low",
         "rawType": "float64",
         "type": "float"
        }
       ],
       "ref": "deba2e24-5457-4ba4-9084-927beb139fad",
       "rows": [
        [
         "1020",
         "2021-01-21",
         "11.28",
         "12.15",
         "11.12",
         "11.53",
         "11.472235",
         "282394100",
         "1.0300000000000011"
        ],
        [
         "1027",
         "2021-02-01",
         "10.65",
         "11.44",
         "10.36",
         "10.83",
         "10.775742",
         "157114400",
         "1.08"
        ],
        [
         "1112",
         "2021-06-03",
         "15.15",
         "16.059999",
         "14.99",
         "15.99",
         "15.90989",
         "179671400",
         "1.069999000000001"
        ],
        [
         "1222",
         "2021-11-08",
         "19.4",
         "20.42",
         "19.24",
         "20.15",
         "20.049047",
         "153490400",
         "1.1800000000000033"
        ],
        [
         "1223",
         "2021-11-09",
         "20.51",
         "20.51",
         "19.41",
         "20.120001",
         "20.019199",
         "164928500",
         "1.1000000000000014"
        ],
        [
         "1224",
         "2021-11-10",
         "19.879999",
         "20.469999",
         "19.059999",
         "19.360001",
         "19.263006",
         "229109600",
         "1.4100000000000001"
        ],
        [
         "1232",
         "2021-11-22",
         "19.389999",
         "20.790001",
         "19.309999",
         "20.48",
         "20.48",
         "137861700",
         "1.480001999999999"
        ],
        [
         "1240",
         "2021-12-03",
         "20.370001",
         "20.4",
         "18.93",
         "19.139999",
         "19.139999",
         "120139100",
         "1.4699999999999989"
        ],
        [
         "1245",
         "2021-12-10",
         "19.77",
         "21.49",
         "19.76",
         "21.450001",
         "21.450001",
         "169121300",
         "1.7299999999999969"
        ],
        [
         "1246",
         "2021-12-13",
         "21.24",
         "21.299999",
         "20.129999",
         "20.43",
         "20.43",
         "126632300",
         "1.1699999999999982"
        ]
       ],
       "shape": {
        "columns": 8,
        "rows": 10
       }
      },
      "text/html": [
       "<div>\n",
       "<style scoped>\n",
       "    .dataframe tbody tr th:only-of-type {\n",
       "        vertical-align: middle;\n",
       "    }\n",
       "\n",
       "    .dataframe tbody tr th {\n",
       "        vertical-align: top;\n",
       "    }\n",
       "\n",
       "    .dataframe thead th {\n",
       "        text-align: right;\n",
       "    }\n",
       "</style>\n",
       "<table border=\"1\" class=\"dataframe\">\n",
       "  <thead>\n",
       "    <tr style=\"text-align: right;\">\n",
       "      <th></th>\n",
       "      <th>Date</th>\n",
       "      <th>Open</th>\n",
       "      <th>High</th>\n",
       "      <th>Low</th>\n",
       "      <th>Close</th>\n",
       "      <th>Adj Close</th>\n",
       "      <th>Volume</th>\n",
       "      <th>High_minus_Low</th>\n",
       "    </tr>\n",
       "  </thead>\n",
       "  <tbody>\n",
       "    <tr>\n",
       "      <th>1020</th>\n",
       "      <td>2021-01-21</td>\n",
       "      <td>11.280000</td>\n",
       "      <td>12.150000</td>\n",
       "      <td>11.120000</td>\n",
       "      <td>11.530000</td>\n",
       "      <td>11.472235</td>\n",
       "      <td>282394100</td>\n",
       "      <td>1.030000</td>\n",
       "    </tr>\n",
       "    <tr>\n",
       "      <th>1027</th>\n",
       "      <td>2021-02-01</td>\n",
       "      <td>10.650000</td>\n",
       "      <td>11.440000</td>\n",
       "      <td>10.360000</td>\n",
       "      <td>10.830000</td>\n",
       "      <td>10.775742</td>\n",
       "      <td>157114400</td>\n",
       "      <td>1.080000</td>\n",
       "    </tr>\n",
       "    <tr>\n",
       "      <th>1112</th>\n",
       "      <td>2021-06-03</td>\n",
       "      <td>15.150000</td>\n",
       "      <td>16.059999</td>\n",
       "      <td>14.990000</td>\n",
       "      <td>15.990000</td>\n",
       "      <td>15.909890</td>\n",
       "      <td>179671400</td>\n",
       "      <td>1.069999</td>\n",
       "    </tr>\n",
       "    <tr>\n",
       "      <th>1222</th>\n",
       "      <td>2021-11-08</td>\n",
       "      <td>19.400000</td>\n",
       "      <td>20.420000</td>\n",
       "      <td>19.240000</td>\n",
       "      <td>20.150000</td>\n",
       "      <td>20.049047</td>\n",
       "      <td>153490400</td>\n",
       "      <td>1.180000</td>\n",
       "    </tr>\n",
       "    <tr>\n",
       "      <th>1223</th>\n",
       "      <td>2021-11-09</td>\n",
       "      <td>20.510000</td>\n",
       "      <td>20.510000</td>\n",
       "      <td>19.410000</td>\n",
       "      <td>20.120001</td>\n",
       "      <td>20.019199</td>\n",
       "      <td>164928500</td>\n",
       "      <td>1.100000</td>\n",
       "    </tr>\n",
       "    <tr>\n",
       "      <th>1224</th>\n",
       "      <td>2021-11-10</td>\n",
       "      <td>19.879999</td>\n",
       "      <td>20.469999</td>\n",
       "      <td>19.059999</td>\n",
       "      <td>19.360001</td>\n",
       "      <td>19.263006</td>\n",
       "      <td>229109600</td>\n",
       "      <td>1.410000</td>\n",
       "    </tr>\n",
       "    <tr>\n",
       "      <th>1232</th>\n",
       "      <td>2021-11-22</td>\n",
       "      <td>19.389999</td>\n",
       "      <td>20.790001</td>\n",
       "      <td>19.309999</td>\n",
       "      <td>20.480000</td>\n",
       "      <td>20.480000</td>\n",
       "      <td>137861700</td>\n",
       "      <td>1.480002</td>\n",
       "    </tr>\n",
       "    <tr>\n",
       "      <th>1240</th>\n",
       "      <td>2021-12-03</td>\n",
       "      <td>20.370001</td>\n",
       "      <td>20.400000</td>\n",
       "      <td>18.930000</td>\n",
       "      <td>19.139999</td>\n",
       "      <td>19.139999</td>\n",
       "      <td>120139100</td>\n",
       "      <td>1.470000</td>\n",
       "    </tr>\n",
       "    <tr>\n",
       "      <th>1245</th>\n",
       "      <td>2021-12-10</td>\n",
       "      <td>19.770000</td>\n",
       "      <td>21.490000</td>\n",
       "      <td>19.760000</td>\n",
       "      <td>21.450001</td>\n",
       "      <td>21.450001</td>\n",
       "      <td>169121300</td>\n",
       "      <td>1.730000</td>\n",
       "    </tr>\n",
       "    <tr>\n",
       "      <th>1246</th>\n",
       "      <td>2021-12-13</td>\n",
       "      <td>21.240000</td>\n",
       "      <td>21.299999</td>\n",
       "      <td>20.129999</td>\n",
       "      <td>20.430000</td>\n",
       "      <td>20.430000</td>\n",
       "      <td>126632300</td>\n",
       "      <td>1.170000</td>\n",
       "    </tr>\n",
       "  </tbody>\n",
       "</table>\n",
       "</div>"
      ],
      "text/plain": [
       "            Date       Open       High        Low      Close  Adj Close  \\\n",
       "1020  2021-01-21  11.280000  12.150000  11.120000  11.530000  11.472235   \n",
       "1027  2021-02-01  10.650000  11.440000  10.360000  10.830000  10.775742   \n",
       "1112  2021-06-03  15.150000  16.059999  14.990000  15.990000  15.909890   \n",
       "1222  2021-11-08  19.400000  20.420000  19.240000  20.150000  20.049047   \n",
       "1223  2021-11-09  20.510000  20.510000  19.410000  20.120001  20.019199   \n",
       "1224  2021-11-10  19.879999  20.469999  19.059999  19.360001  19.263006   \n",
       "1232  2021-11-22  19.389999  20.790001  19.309999  20.480000  20.480000   \n",
       "1240  2021-12-03  20.370001  20.400000  18.930000  19.139999  19.139999   \n",
       "1245  2021-12-10  19.770000  21.490000  19.760000  21.450001  21.450001   \n",
       "1246  2021-12-13  21.240000  21.299999  20.129999  20.430000  20.430000   \n",
       "\n",
       "         Volume  High_minus_Low  \n",
       "1020  282394100        1.030000  \n",
       "1027  157114400        1.080000  \n",
       "1112  179671400        1.069999  \n",
       "1222  153490400        1.180000  \n",
       "1223  164928500        1.100000  \n",
       "1224  229109600        1.410000  \n",
       "1232  137861700        1.480002  \n",
       "1240  120139100        1.470000  \n",
       "1245  169121300        1.730000  \n",
       "1246  126632300        1.170000  "
      ]
     },
     "execution_count": 22,
     "metadata": {},
     "output_type": "execute_result"
    }
   ],
   "source": [
    "large_range_days = ford[ford['High'] - ford['Low'] > 1.0]\n",
    "\n",
    "# Display the dataframe\n",
    "\n",
    "\n",
    "# Optionally, plot the range for these days\n",
    "plt.figure(figsize=(10,5))\n",
    "plt.plot(large_range_days['Date'], large_range_days['High'] - large_range_days['Low'], marker='o')\n",
    "plt.xticks(rotation=45)\n",
    "plt.ylabel('High - Low Range')\n",
    "plt.title('Days with Large Price Range')\n",
    "plt.tight_layout()\n",
    "plt.show()\n",
    "\n",
    "\n",
    "large_range_days\n"
   ]
  },
  {
   "cell_type": "code",
   "execution_count": 35,
   "id": "2fce2f23",
   "metadata": {},
   "outputs": [
    {
     "data": {
      "text/plain": [
       "28"
      ]
     },
     "execution_count": 35,
     "metadata": {},
     "output_type": "execute_result"
    }
   ],
   "source": [
    "condition =np.logical_or( ford['Volume'] < 20000000, ford['Volume'] > 200000000 )\n",
    "extreme_volume = ford[condition]\n",
    "extreme_volume.shape[0]"
   ]
  },
  {
   "cell_type": "code",
   "execution_count": 37,
   "id": "ab184781",
   "metadata": {},
   "outputs": [
    {
     "name": "stdout",
     "output_type": "stream",
     "text": [
      "2.718281828459045\n",
      "1359 2.7172824 0.00099943\n"
     ]
    }
   ],
   "source": [
    "e= np.exp(1)\n",
    "print(e)\n",
    "n=0\n",
    "error = 1\n",
    "\n",
    "while error >= 0.001:\n",
    "    n=n+1\n",
    "    e_n = (1+1/n)**n\n",
    "    error = e - e_n\n",
    "    \n",
    "    if error < 0.001:\n",
    "        print(n, round(e_n,8) ,round(error,8) )"
   ]
  },
  {
   "cell_type": "code",
   "execution_count": 39,
   "id": "0bcbf112",
   "metadata": {},
   "outputs": [
    {
     "data": {
      "text/plain": [
       "array([5031168.36420928, 5014968.37564669, 4875245.69283255,\n",
       "       4746650.48112028, 4705569.14256828, 4595939.11300971,\n",
       "       4499583.55651635, 4425368.78027769, 4503747.65820434,\n",
       "       4527934.11206092, 4479413.81181256, 4538123.83231424,\n",
       "       4473943.15569529])"
      ]
     },
     "execution_count": 39,
     "metadata": {},
     "output_type": "execute_result"
    }
   ],
   "source": [
    "np.random.seed(212)\n",
    "mu = 0.0005\n",
    "sigma= 0.025\n",
    "p= 5000000\n",
    "returns = np.random.normal(mu, sigma, size=13)\n",
    "p_t = p*(1+returns).cumprod()\n",
    "\n",
    "p_t"
   ]
  },
  {
   "cell_type": "code",
   "execution_count": 44,
   "id": "5bb62c9a",
   "metadata": {},
   "outputs": [
    {
     "name": "stdout",
     "output_type": "stream",
     "text": [
      "4425368.780277689\n",
      "5031168.364209276\n",
      "-0.12115991678631734\n"
     ]
    }
   ],
   "source": [
    "print(min(p_t))\n",
    "print(max(p_t))\n",
    "\n",
    "print((min(p_t) - max(p_t))/p)   "
   ]
  },
  {
   "cell_type": "code",
   "execution_count": 56,
   "id": "a2ddf1d6",
   "metadata": {},
   "outputs": [
    {
     "data": {
      "text/plain": [
       "[np.float64(5435233.073503235),\n",
       " np.float64(5016542.233768462),\n",
       " np.float64(4957275.6229944),\n",
       " np.float64(5669100.532004318),\n",
       " np.float64(4806549.699000861),\n",
       " np.float64(5141512.067299934),\n",
       " np.float64(4370385.756786357),\n",
       " np.float64(4401319.471491694),\n",
       " np.float64(4779783.32520846),\n",
       " np.float64(5432199.4122289),\n",
       " np.float64(5199613.515965381),\n",
       " np.float64(5048607.114420137),\n",
       " np.float64(4473943.155695295),\n",
       " np.float64(5127659.408608325),\n",
       " np.float64(5044801.497356347),\n",
       " np.float64(4819510.638801899),\n",
       " np.float64(4752405.196984173),\n",
       " np.float64(5509805.423879426),\n",
       " np.float64(5371615.938151405),\n",
       " np.float64(5202132.346822332),\n",
       " np.float64(4770871.938643641),\n",
       " np.float64(4642443.987744463),\n",
       " np.float64(5602355.482241205),\n",
       " np.float64(5219415.632085337),\n",
       " np.float64(4161640.337565262),\n",
       " np.float64(5143362.8094349075),\n",
       " np.float64(4970841.384173096),\n",
       " np.float64(5364422.831817866),\n",
       " np.float64(4842896.391542536),\n",
       " np.float64(5592802.538374338),\n",
       " np.float64(5489277.289394932),\n",
       " np.float64(4708184.320876851),\n",
       " np.float64(4557818.177186235),\n",
       " np.float64(4413279.299713957),\n",
       " np.float64(4799897.149787034),\n",
       " np.float64(4687124.413734016),\n",
       " np.float64(5528646.007428091),\n",
       " np.float64(5535323.290190387),\n",
       " np.float64(5376608.071986908),\n",
       " np.float64(5789091.541289457),\n",
       " np.float64(5308818.307431365),\n",
       " np.float64(5785434.639371075),\n",
       " np.float64(5342820.669378353),\n",
       " np.float64(4284492.933574683),\n",
       " np.float64(4865557.398442587),\n",
       " np.float64(4904422.092898691),\n",
       " np.float64(5888321.357067213),\n",
       " np.float64(4764488.824362615),\n",
       " np.float64(5501179.165519819),\n",
       " np.float64(4931606.392901391),\n",
       " np.float64(5174930.452704635),\n",
       " np.float64(4277923.038250669),\n",
       " np.float64(4731952.629615545),\n",
       " np.float64(5359121.115484987),\n",
       " np.float64(5366178.261543671),\n",
       " np.float64(4536418.4733027555),\n",
       " np.float64(5516869.061979987),\n",
       " np.float64(4977102.06518085),\n",
       " np.float64(5423681.4730422),\n",
       " np.float64(5571639.956612055),\n",
       " np.float64(5012247.844370529),\n",
       " np.float64(4954471.047546421),\n",
       " np.float64(4622537.014120386),\n",
       " np.float64(6426030.772833863),\n",
       " np.float64(5607261.531978877),\n",
       " np.float64(5449593.4846689105),\n",
       " np.float64(4706219.670971073),\n",
       " np.float64(5169696.789724832),\n",
       " np.float64(4724260.725232071),\n",
       " np.float64(4796820.091240808),\n",
       " np.float64(4212901.21745696),\n",
       " np.float64(4749176.753567378),\n",
       " np.float64(4657008.20672522),\n",
       " np.float64(4930838.954001591),\n",
       " np.float64(4395284.897218165),\n",
       " np.float64(5553319.326751956),\n",
       " np.float64(5464806.858337003),\n",
       " np.float64(4782453.041227696),\n",
       " np.float64(5061842.766749585),\n",
       " np.float64(5608872.81756478),\n",
       " np.float64(4568250.623174036),\n",
       " np.float64(4415774.2372574),\n",
       " np.float64(4596826.864448392),\n",
       " np.float64(5298420.167625935),\n",
       " np.float64(4908581.193460629),\n",
       " np.float64(5250045.934998595),\n",
       " np.float64(4553113.959812939),\n",
       " np.float64(4658990.125550855),\n",
       " np.float64(5782936.51774599),\n",
       " np.float64(4957329.369208509),\n",
       " np.float64(5024175.130783409),\n",
       " np.float64(5012576.989939382),\n",
       " np.float64(5207485.397007595),\n",
       " np.float64(4779278.885555064),\n",
       " np.float64(5372446.884869986),\n",
       " np.float64(5024437.845760951),\n",
       " np.float64(6102334.830168259),\n",
       " np.float64(4826303.1112317545),\n",
       " np.float64(5348864.682238423),\n",
       " np.float64(4635767.972941064)]"
      ]
     },
     "execution_count": 56,
     "metadata": {},
     "output_type": "execute_result"
    }
   ],
   "source": [
    "PV = [ ]\n",
    "port_value = 5000000\n",
    "\n",
    "for n in range(0,100):\n",
    "  s = 200+n\n",
    "  np.random.seed(s)\n",
    "  mu = 0.0005\n",
    "  sigma= 0.025\n",
    "  returns = np.random.normal(mu, sigma, size=13)\n",
    "  PV_n= port_value*(1+returns).cumprod()\n",
    "\n",
    "  PV.append(PV_n[-1])\n",
    "\n",
    "PV\n",
    "\n",
    " "
   ]
  },
  {
   "cell_type": "code",
   "execution_count": 55,
   "id": "e1d18d48",
   "metadata": {},
   "outputs": [
    {
     "name": "stdout",
     "output_type": "stream",
     "text": [
      "3918591.1749051716\n",
      "<built-in function max>\n"
     ]
    }
   ],
   "source": [
    "print(min(PV))\n",
    "print(max)"
   ]
  }
 ],
 "metadata": {
  "kernelspec": {
   "display_name": ".venv (3.9.6)",
   "language": "python",
   "name": "python3"
  },
  "language_info": {
   "codemirror_mode": {
    "name": "ipython",
    "version": 3
   },
   "file_extension": ".py",
   "mimetype": "text/x-python",
   "name": "python",
   "nbconvert_exporter": "python",
   "pygments_lexer": "ipython3",
   "version": "3.9.6"
  }
 },
 "nbformat": 4,
 "nbformat_minor": 5
}
